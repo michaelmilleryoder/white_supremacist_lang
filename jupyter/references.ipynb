{
 "cells": [
  {
   "cell_type": "markdown",
   "id": "7f3be900-6917-4d2d-86c0-6334d697454e",
   "metadata": {},
   "source": [
    "# Check for citation duplicates in the Zotero references file\n",
    "So Overleaf autocomplete might work"
   ]
  },
  {
   "cell_type": "code",
   "execution_count": 17,
   "id": "8e72771b-af6a-47a7-a016-606045f2a3a3",
   "metadata": {},
   "outputs": [
    {
     "data": {
      "text/plain": [
       "1425"
      ]
     },
     "execution_count": 17,
     "metadata": {},
     "output_type": "execute_result"
    }
   ],
   "source": [
    "# Load references\n",
    "fpath = '../resources/zotero_references.bib'\n",
    "with open(fpath, 'r') as f:\n",
    "    lines = f.read().splitlines()\n",
    "len(lines)\n",
    "\n",
    "keys = [l for l in lines if l.startswith('@')]\n",
    "len(keys)"
   ]
  },
  {
   "cell_type": "code",
   "execution_count": 18,
   "id": "944eacaf-22c8-43a9-a0f2-3d32ad4ba2b8",
   "metadata": {},
   "outputs": [
    {
     "data": {
      "text/plain": [
       "1425"
      ]
     },
     "execution_count": 18,
     "metadata": {},
     "output_type": "execute_result"
    }
   ],
   "source": [
    "len(set(keys))"
   ]
  },
  {
   "cell_type": "code",
   "execution_count": 19,
   "id": "95833ed3-ffd7-41e7-b7c0-6742d2e02f61",
   "metadata": {},
   "outputs": [
    {
     "data": {
      "text/plain": [
       "{}"
      ]
     },
     "execution_count": 19,
     "metadata": {},
     "output_type": "execute_result"
    }
   ],
   "source": [
    "from collections import Counter\n",
    "\n",
    "ctr = Counter(keys)\n",
    "duplicates = {c:val for c, val in ctr.items() if val > 1}\n",
    "duplicates"
   ]
  }
 ],
 "metadata": {
  "kernelspec": {
   "display_name": "Python 3 (ipykernel)",
   "language": "python",
   "name": "python3"
  },
  "language_info": {
   "codemirror_mode": {
    "name": "ipython",
    "version": 3
   },
   "file_extension": ".py",
   "mimetype": "text/x-python",
   "name": "python",
   "nbconvert_exporter": "python",
   "pygments_lexer": "ipython3",
   "version": "3.9.13"
  }
 },
 "nbformat": 4,
 "nbformat_minor": 5
}
