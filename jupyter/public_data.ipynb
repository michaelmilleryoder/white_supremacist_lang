{
 "cells": [
  {
   "cell_type": "markdown",
   "id": "cb0f1eac-bc29-4990-8229-47f95762c3b7",
   "metadata": {},
   "source": [
    "Assemble public data for OSF"
   ]
  },
  {
   "cell_type": "markdown",
   "id": "a9c7b8d5-dd5d-4cb3-97ad-efd18aaec654",
   "metadata": {},
   "source": [
    "# White supremacist corpus"
   ]
  },
  {
   "cell_type": "markdown",
   "id": "97faf557-033b-48a1-b0a6-1674b719c238",
   "metadata": {},
   "source": [
    "## Full white supremacist corpus"
   ]
  },
  {
   "cell_type": "code",
   "execution_count": 39,
   "id": "77a42757-df49-4048-b78a-66c0b28ed3da",
   "metadata": {},
   "outputs": [
    {
     "name": "stdout",
     "output_type": "stream",
     "text": [
      "<class 'pandas.core.frame.DataFrame'>\n",
      "RangeIndex: 4370325 entries, 0 to 4370324\n",
      "Data columns (total 8 columns):\n",
      " #   Column      Dtype              \n",
      "---  ------      -----              \n",
      " 0   id          object             \n",
      " 1   text        object             \n",
      " 2   word_count  int64              \n",
      " 3   dataset     object             \n",
      " 4   source      object             \n",
      " 5   domain      object             \n",
      " 6   timestamp   datetime64[ns, UTC]\n",
      " 7   label       float64            \n",
      "dtypes: datetime64[ns, UTC](1), float64(1), int64(1), object(5)\n",
      "memory usage: 266.7+ MB\n"
     ]
    },
    {
     "data": {
      "text/plain": [
       "papasavva2020                    2686268\n",
       "stormfront                        751982\n",
       "jokubauskaite2020                 578652\n",
       "ironmarch                         179468\n",
       "qian2018                           84696\n",
       "patriotfront                       39578\n",
       "calderon2021                       26009\n",
       "pruden2022                         17007\n",
       "elsherief2021                       3480\n",
       "adl_heatmap_white_supremacist       1556\n",
       "alatawi2021_white_supremacist       1098\n",
       "rieger2021_white_supremacist         361\n",
       "siegel2021_white_supremacist         170\n",
       "Name: dataset, dtype: int64"
      ]
     },
     "execution_count": 39,
     "metadata": {},
     "output_type": "execute_result"
    }
   ],
   "source": [
    "# Load white supremacist corpus\n",
    "import pandas as pd\n",
    "\n",
    "path = '../tmp/white_supremacist_corpus.pkl'\n",
    "ws_data = pd.read_pickle(path).reset_index()\n",
    "# ws_data['dataset'] = ws_data.dataset.replace({'jokubausaite2020': 'jokubauskaite2020'})\n",
    "ws_data.info()\n",
    "ws_data.dataset.value_counts()"
   ]
  },
  {
   "cell_type": "code",
   "execution_count": 40,
   "id": "34b87487-da72-4255-8040-5cd75a9d384c",
   "metadata": {},
   "outputs": [
    {
     "data": {
      "text/plain": [
       "4chan                               3265015\n",
       "stormfront                           751982\n",
       "ironmarch                            179468\n",
       "twitter                               89444\n",
       "discord                               39578\n",
       "daily_stormer                         25772\n",
       "breivik_manifesto                     15546\n",
       "adl_heatmap                            1556\n",
       "raspail_camp_of_the_saints_book        1220\n",
       "8chan                                   254\n",
       "american_renaissance                    237\n",
       "camus_the_great_replacement_book        161\n",
       "powell_rivers_of_blood_speech            47\n",
       "lane_white_genocide_manifesto            33\n",
       "reddit                                   12\n",
       "Name: source, dtype: int64"
      ]
     },
     "execution_count": 40,
     "metadata": {},
     "output_type": "execute_result"
    }
   ],
   "source": [
    "ws_data.source.value_counts()"
   ]
  },
  {
   "cell_type": "code",
   "execution_count": 41,
   "id": "bd7f3097-8d0c-471d-b84b-d5a1e35d6511",
   "metadata": {},
   "outputs": [
    {
     "name": "stdout",
     "output_type": "stream",
     "text": [
      "<class 'pandas.core.frame.DataFrame'>\n",
      "Int64Index: 4264611 entries, 88176 to 4369793\n",
      "Data columns (total 7 columns):\n",
      " #   Column     Dtype              \n",
      "---  ------     -----              \n",
      " 0   id         object             \n",
      " 1   text       object             \n",
      " 2   dataset    object             \n",
      " 3   source     object             \n",
      " 4   domain     object             \n",
      " 5   timestamp  datetime64[ns, UTC]\n",
      " 6   label      float64            \n",
      "dtypes: datetime64[ns, UTC](1), float64(1), object(5)\n",
      "memory usage: 260.3+ MB\n"
     ]
    },
    {
     "data": {
      "text/plain": [
       "papasavva2020                    2686268\n",
       "stormfront                        751982\n",
       "jokubauskaite2020                 578652\n",
       "ironmarch                         179468\n",
       "patriotfront                       39578\n",
       "calderon2021                       26009\n",
       "adl_heatmap_white_supremacist       1556\n",
       "alatawi2021_white_supremacist       1098\n",
       "Name: dataset, dtype: int64"
      ]
     },
     "execution_count": 41,
     "metadata": {},
     "output_type": "execute_result"
    }
   ],
   "source": [
    "# Select public datasets\n",
    "\n",
    "selected_datasets = [\n",
    "    'papasavva2020',\n",
    "    'stormfront',\n",
    "    'jokubauskaite2020',\n",
    "    'ironmarch',\n",
    "    'patriotfront',\n",
    "    'calderon2021',\n",
    "    'adl_heatmap_white_supremacist',\n",
    "    'alatawi2021_white_supremacist',\n",
    "]\n",
    "\n",
    "selected_data = ws_data[ws_data.dataset.isin(selected_datasets)].copy()\n",
    "selected_data.drop(columns='word_count', inplace=True)\n",
    "selected_data.info()\n",
    "selected_data.dataset.value_counts()"
   ]
  },
  {
   "cell_type": "code",
   "execution_count": 42,
   "id": "4c209426-c916-4675-be3e-e0456b3a7729",
   "metadata": {},
   "outputs": [],
   "source": [
    "# Save out as JSON lines\n",
    "\n",
    "outpath = '../data/corpora/white_supremacist_public_corpus.jsonl'\n",
    "selected_data.to_json(outpath, orient='records', lines=True)"
   ]
  },
  {
   "cell_type": "markdown",
   "id": "973d2bbe-888a-4d25-8670-b0ccff62f3b9",
   "metadata": {},
   "source": [
    "## Filtered white supremacist data used to train the classifier"
   ]
  },
  {
   "cell_type": "code",
   "execution_count": 28,
   "id": "916a465e-9df3-4364-a6bd-ca62e3de5026",
   "metadata": {},
   "outputs": [
    {
     "name": "stdout",
     "output_type": "stream",
     "text": [
      "<class 'pandas.core.frame.DataFrame'>\n",
      "RangeIndex: 118842 entries, 0 to 118841\n",
      "Data columns (total 8 columns):\n",
      " #   Column      Non-Null Count   Dtype              \n",
      "---  ------      --------------   -----              \n",
      " 0   id          118842 non-null  object             \n",
      " 1   text        118842 non-null  object             \n",
      " 2   word_count  118842 non-null  int64              \n",
      " 3   dataset     118842 non-null  object             \n",
      " 4   source      118842 non-null  object             \n",
      " 5   domain      118842 non-null  object             \n",
      " 6   timestamp   118810 non-null  datetime64[ns, UTC]\n",
      " 7   topic       118842 non-null  int64              \n",
      "dtypes: datetime64[ns, UTC](1), int64(2), object(5)\n",
      "memory usage: 7.3+ MB\n"
     ]
    },
    {
     "data": {
      "text/plain": [
       "papasavva2020        57377\n",
       "stormfront           24120\n",
       "jokubauskaite2020    12873\n",
       "qian2018              8529\n",
       "ironmarch             5630\n",
       "calderon2021          4435\n",
       "pruden2022            3233\n",
       "patriotfront          1622\n",
       "elsherief2021         1023\n",
       "Name: dataset, dtype: int64"
      ]
     },
     "execution_count": 28,
     "metadata": {},
     "output_type": "execute_result"
    }
   ],
   "source": [
    "# Load filtered white supremacist data\n",
    "import pandas as pd\n",
    "\n",
    "path = '../tmp/white_supremacist_train_6topic_corpus.pkl'\n",
    "ws_data = pd.read_pickle(path).reset_index()\n",
    "ws_data['dataset'] = ws_data.dataset.replace({'jokubausaite2020': 'jokubauskaite2020'})\n",
    "ws_data.info()\n",
    "ws_data.dataset.value_counts()"
   ]
  },
  {
   "cell_type": "code",
   "execution_count": 29,
   "id": "49c7b235-2b99-4cf8-ac5e-6eafe56811c0",
   "metadata": {},
   "outputs": [
    {
     "name": "stdout",
     "output_type": "stream",
     "text": [
      "<class 'pandas.core.frame.DataFrame'>\n",
      "Int64Index: 106057 entries, 0 to 118841\n",
      "Data columns (total 7 columns):\n",
      " #   Column     Non-Null Count   Dtype              \n",
      "---  ------     --------------   -----              \n",
      " 0   id         106057 non-null  object             \n",
      " 1   text       106057 non-null  object             \n",
      " 2   dataset    106057 non-null  object             \n",
      " 3   source     106057 non-null  object             \n",
      " 4   domain     106057 non-null  object             \n",
      " 5   timestamp  106026 non-null  datetime64[ns, UTC]\n",
      " 6   topic      106057 non-null  int64              \n",
      "dtypes: datetime64[ns, UTC](1), int64(1), object(5)\n",
      "memory usage: 6.5+ MB\n"
     ]
    },
    {
     "data": {
      "text/plain": [
       "papasavva2020        57377\n",
       "stormfront           24120\n",
       "jokubauskaite2020    12873\n",
       "ironmarch             5630\n",
       "calderon2021          4435\n",
       "patriotfront          1622\n",
       "Name: dataset, dtype: int64"
      ]
     },
     "execution_count": 29,
     "metadata": {},
     "output_type": "execute_result"
    }
   ],
   "source": [
    "# Select public datasets\n",
    "\n",
    "selected_datasets = [\n",
    "    'papasavva2020',\n",
    "    'stormfront',\n",
    "    'jokubauskaite2020',\n",
    "    'ironmarch',\n",
    "    'patriotfront',\n",
    "    'calderon2021',\n",
    "    'adl_heatmap',\n",
    "    'alatawi2021_white_supremacist',\n",
    "]\n",
    "\n",
    "selected_data = ws_data[ws_data.dataset.isin(selected_datasets)].copy()\n",
    "selected_data.drop(columns='word_count', inplace=True)\n",
    "selected_data.info()\n",
    "selected_data.dataset.value_counts()"
   ]
  },
  {
   "cell_type": "code",
   "execution_count": 30,
   "id": "51bf75dd-580e-4ac6-a918-fa06fbabb8f1",
   "metadata": {},
   "outputs": [],
   "source": [
    "# Save out as JSON lines\n",
    "outpath = '../data/corpora/white_supremacist_6topic_public_corpus.jsonl'\n",
    "selected_data.to_json(outpath, orient='records', lines=True)"
   ]
  },
  {
   "cell_type": "markdown",
   "id": "536f2273-dc4c-478f-86cc-e64bc8c29cda",
   "metadata": {},
   "source": [
    "# Antiracist data"
   ]
  },
  {
   "cell_type": "code",
   "execution_count": 31,
   "id": "f1fd9682-2b14-4bcf-bd5c-e65e60e858e0",
   "metadata": {},
   "outputs": [
    {
     "name": "stdout",
     "output_type": "stream",
     "text": [
      "<class 'pandas.core.frame.DataFrame'>\n",
      "RangeIndex: 87809 entries, 0 to 87808\n",
      "Data columns (total 7 columns):\n",
      " #   Column      Non-Null Count  Dtype              \n",
      "---  ------      --------------  -----              \n",
      " 0   id          87809 non-null  object             \n",
      " 1   text        87809 non-null  object             \n",
      " 2   word_count  87809 non-null  int64              \n",
      " 3   dataset     87809 non-null  object             \n",
      " 4   source      87809 non-null  object             \n",
      " 5   domain      87809 non-null  object             \n",
      " 6   timestamp   87809 non-null  datetime64[ns, UTC]\n",
      "dtypes: datetime64[ns, UTC](1), int64(1), object(5)\n",
      "memory usage: 4.7+ MB\n"
     ]
    },
    {
     "data": {
      "text/plain": [
       "reddit_antiracist     82349\n",
       "twitter_antiracist     3569\n",
       "medium_antiracist      1891\n",
       "Name: dataset, dtype: int64"
      ]
     },
     "execution_count": 31,
     "metadata": {},
     "output_type": "execute_result"
    }
   ],
   "source": [
    "# Load antiracist data\n",
    "import pandas as pd\n",
    "\n",
    "path = '../tmp/antiracist_train_6topic_corpus.pkl'\n",
    "data = pd.read_pickle(path).reset_index()\n",
    "data.info()\n",
    "data.dataset.value_counts()"
   ]
  },
  {
   "cell_type": "code",
   "execution_count": 32,
   "id": "e0a7541d-a378-46e1-b231-58addd57d143",
   "metadata": {},
   "outputs": [
    {
     "name": "stdout",
     "output_type": "stream",
     "text": [
      "<class 'pandas.core.frame.DataFrame'>\n",
      "Int64Index: 84240 entries, 0 to 87808\n",
      "Data columns (total 6 columns):\n",
      " #   Column     Non-Null Count  Dtype              \n",
      "---  ------     --------------  -----              \n",
      " 0   id         84240 non-null  object             \n",
      " 1   text       84240 non-null  object             \n",
      " 2   dataset    84240 non-null  object             \n",
      " 3   source     84240 non-null  object             \n",
      " 4   domain     84240 non-null  object             \n",
      " 5   timestamp  84240 non-null  datetime64[ns, UTC]\n",
      "dtypes: datetime64[ns, UTC](1), object(5)\n",
      "memory usage: 4.5+ MB\n"
     ]
    },
    {
     "data": {
      "text/plain": [
       "reddit_antiracist    82349\n",
       "medium_antiracist     1891\n",
       "Name: dataset, dtype: int64"
      ]
     },
     "execution_count": 32,
     "metadata": {},
     "output_type": "execute_result"
    }
   ],
   "source": [
    "selected_datasets = [\n",
    "    'reddit_antiracist',\n",
    "    'medium_antiracist',\n",
    "]\n",
    "\n",
    "selected_data = data[data.dataset.isin(selected_datasets)].copy()\n",
    "selected_data.drop(columns='word_count', inplace=True)\n",
    "selected_data.info()\n",
    "selected_data.dataset.value_counts()"
   ]
  },
  {
   "cell_type": "code",
   "execution_count": 33,
   "id": "8a65bba6-b3e7-4ba6-b9dd-fb2967e610b1",
   "metadata": {},
   "outputs": [],
   "source": [
    "# Save out as JSON lines\n",
    "outpath = '../data/corpora/antiracist_6topic_public_corpus.jsonl'\n",
    "selected_data.to_json(outpath, orient='records', lines=True)"
   ]
  },
  {
   "cell_type": "markdown",
   "id": "cf723d22-4e7c-421e-914b-6f744882f752",
   "metadata": {},
   "source": [
    "# Neutral data"
   ]
  },
  {
   "cell_type": "code",
   "execution_count": 34,
   "id": "74dafaa3-fe1c-4f5f-8da8-b34126af7128",
   "metadata": {},
   "outputs": [
    {
     "name": "stdout",
     "output_type": "stream",
     "text": [
      "<class 'pandas.core.frame.DataFrame'>\n",
      "RangeIndex: 159019 entries, 0 to 159018\n",
      "Data columns (total 7 columns):\n",
      " #   Column      Non-Null Count   Dtype              \n",
      "---  ------      --------------   -----              \n",
      " 0   id          159019 non-null  object             \n",
      " 1   text        159019 non-null  object             \n",
      " 2   word_count  159019 non-null  int64              \n",
      " 3   dataset     159019 non-null  object             \n",
      " 4   source      159019 non-null  object             \n",
      " 5   domain      159019 non-null  object             \n",
      " 6   timestamp   156095 non-null  datetime64[ns, UTC]\n",
      "dtypes: datetime64[ns, UTC](1), int64(1), object(5)\n",
      "memory usage: 8.5+ MB\n"
     ]
    },
    {
     "data": {
      "text/plain": [
       "reddit_match     150832\n",
       "twitter_match      3381\n",
       "discord_match      2924\n",
       "news_match         1882\n",
       "Name: dataset, dtype: int64"
      ]
     },
     "execution_count": 34,
     "metadata": {},
     "output_type": "execute_result"
    }
   ],
   "source": [
    "# Load neutral data\n",
    "import pandas as pd\n",
    "\n",
    "path = '../tmp/neutral_train_6topic_corpus.pkl'\n",
    "data = pd.read_pickle(path).reset_index()\n",
    "data.info()\n",
    "data.dataset.value_counts()"
   ]
  },
  {
   "cell_type": "code",
   "execution_count": 35,
   "id": "afb70976-4eb6-4a6d-8f5c-573ee0ced11e",
   "metadata": {},
   "outputs": [
    {
     "name": "stdout",
     "output_type": "stream",
     "text": [
      "<class 'pandas.core.frame.DataFrame'>\n",
      "Int64Index: 155638 entries, 3381 to 159018\n",
      "Data columns (total 6 columns):\n",
      " #   Column     Non-Null Count   Dtype              \n",
      "---  ------     --------------   -----              \n",
      " 0   id         155638 non-null  object             \n",
      " 1   text       155638 non-null  object             \n",
      " 2   dataset    155638 non-null  object             \n",
      " 3   source     155638 non-null  object             \n",
      " 4   domain     155638 non-null  object             \n",
      " 5   timestamp  152714 non-null  datetime64[ns, UTC]\n",
      "dtypes: datetime64[ns, UTC](1), object(5)\n",
      "memory usage: 8.3+ MB\n"
     ]
    },
    {
     "data": {
      "text/plain": [
       "reddit_match     150832\n",
       "discord_match      2924\n",
       "news_match         1882\n",
       "Name: dataset, dtype: int64"
      ]
     },
     "execution_count": 35,
     "metadata": {},
     "output_type": "execute_result"
    }
   ],
   "source": [
    "selected_datasets = [\n",
    "    'reddit_match',\n",
    "    'discord_match',\n",
    "    'news_match',\n",
    "]\n",
    "\n",
    "selected_data = data[data.dataset.isin(selected_datasets)].copy()\n",
    "selected_data.drop(columns='word_count', inplace=True)\n",
    "selected_data.info()\n",
    "selected_data.dataset.value_counts()"
   ]
  },
  {
   "cell_type": "code",
   "execution_count": 36,
   "id": "68c1e977-51cb-42e1-98ba-cfe6f812dcdf",
   "metadata": {},
   "outputs": [],
   "source": [
    "# Save out as JSON lines\n",
    "outpath = '../data/corpora/neutral_6topic_public_corpus.jsonl'\n",
    "selected_data.to_json(outpath, orient='records', lines=True)"
   ]
  }
 ],
 "metadata": {
  "kernelspec": {
   "display_name": "Python 3 (ipykernel)",
   "language": "python",
   "name": "python3"
  },
  "language_info": {
   "codemirror_mode": {
    "name": "ipython",
    "version": 3
   },
   "file_extension": ".py",
   "mimetype": "text/x-python",
   "name": "python",
   "nbconvert_exporter": "python",
   "pygments_lexer": "ipython3",
   "version": "3.9.13"
  }
 },
 "nbformat": 4,
 "nbformat_minor": 5
}
