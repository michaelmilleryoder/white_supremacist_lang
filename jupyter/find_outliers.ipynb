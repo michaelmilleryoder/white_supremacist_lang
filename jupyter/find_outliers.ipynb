{
 "cells": [
  {
   "cell_type": "markdown",
   "id": "2c8336d1-5c06-4eea-9df6-f5934b42f6a0",
   "metadata": {},
   "source": [
    "Find outliers in white supremacist data to probably remove  \n",
    "Outliers = posts that don't represent white supremacist ideology"
   ]
  },
  {
   "cell_type": "markdown",
   "id": "796477fc-bc9f-411d-9fb6-d48648ab0505",
   "metadata": {},
   "source": [
    "# Topic modeling of white supremacist data"
   ]
  },
  {
   "cell_type": "markdown",
   "id": "62eb658e-4ea4-446a-b7b2-ff396ca2a0e1",
   "metadata": {},
   "source": [
    "## LDA"
   ]
  },
  {
   "cell_type": "code",
   "execution_count": 1,
   "id": "133bda3a-8b35-4e2e-a55d-038f415c7280",
   "metadata": {},
   "outputs": [
    {
     "name": "stdout",
     "output_type": "stream",
     "text": [
      "<class 'pandas.core.frame.DataFrame'>\n",
      "RangeIndex: 4850296 entries, 0 to 4850295\n",
      "Data columns (total 6 columns):\n",
      " #   Column     Dtype              \n",
      "---  ------     -----              \n",
      " 0   id         object             \n",
      " 1   text       object             \n",
      " 2   timestamp  datetime64[ns, UTC]\n",
      " 3   dataset    object             \n",
      " 4   source     object             \n",
      " 5   domain     object             \n",
      "dtypes: datetime64[ns, UTC](1), object(5)\n",
      "memory usage: 222.0+ MB\n"
     ]
    }
   ],
   "source": [
    "# Load data\n",
    "import pandas as pd\n",
    "\n",
    "# path = '../tmp/white_supremacist_train_corpus.pkl'\n",
    "path = '../data/corpora/full_text/white_supremacist_train_corpus.json'\n",
    "ws_data = pd.read_json(path, orient='table')\n",
    "ws_data.info()"
   ]
  },
  {
   "cell_type": "code",
   "execution_count": 2,
   "id": "228cd164-fafb-4486-b34a-7b001cac66b7",
   "metadata": {},
   "outputs": [],
   "source": [
    "from sklearn.feature_extraction.text import CountVectorizer\n",
    "from sklearn.decomposition import LatentDirichletAllocation\n",
    "\n",
    "vectorizer = CountVectorizer(min_df=1, stop_words='english')\n",
    "bow = vectorizer.fit_transform(ws_data.text)"
   ]
  },
  {
   "cell_type": "code",
   "execution_count": 26,
   "id": "46532986-1ca4-410f-97a8-c629c53a07c6",
   "metadata": {},
   "outputs": [],
   "source": [
    "# Save vectorizer\n",
    "path = '../models/ws_forum_countvectorizer.pkl'\n",
    "with open(path, 'wb') as f:\n",
    "    pickle.dump(vectorizer, f)"
   ]
  },
  {
   "cell_type": "code",
   "execution_count": null,
   "id": "f5af6bcb-7787-49b4-bd20-844002d36c25",
   "metadata": {
    "scrolled": true,
    "tags": []
   },
   "outputs": [
    {
     "name": "stderr",
     "output_type": "stream",
     "text": [
      "[Parallel(n_jobs=20)]: Using backend LokyBackend with 20 concurrent workers.\n",
      "[Parallel(n_jobs=20)]: Done   2 out of  20 | elapsed:  2.4min remaining: 21.4min\n",
      "[Parallel(n_jobs=20)]: Done  20 out of  20 | elapsed:  4.0min finished\n"
     ]
    },
    {
     "name": "stdout",
     "output_type": "stream",
     "text": [
      "iteration: 1 of max_iter: 100\n"
     ]
    },
    {
     "name": "stderr",
     "output_type": "stream",
     "text": [
      "[Parallel(n_jobs=20)]: Using backend LokyBackend with 20 concurrent workers.\n"
     ]
    }
   ],
   "source": [
    "lda = LatentDirichletAllocation(n_components=30, max_iter=100, n_jobs=-1, verbose=2)\n",
    "lda.fit(bow)\n",
    "\n",
    "# Save LDA\n",
    "import pickle\n",
    "\n",
    "path = '../models/ws_forum_lda30.pkl'\n",
    "with open(path, 'wb') as f:\n",
    "    pickle.dump(lda, f)"
   ]
  },
  {
   "cell_type": "code",
   "execution_count": 5,
   "id": "894877dc-65c8-4593-819c-a13be2e564d1",
   "metadata": {
    "scrolled": true,
    "tags": []
   },
   "outputs": [
    {
     "name": "stderr",
     "output_type": "stream",
     "text": [
      "[Parallel(n_jobs=20)]: Using backend LokyBackend with 20 concurrent workers.\n",
      "[Parallel(n_jobs=20)]: Done   2 out of  20 | elapsed:  1.5min remaining: 13.2min\n",
      "[Parallel(n_jobs=20)]: Done  20 out of  20 | elapsed:  1.9min finished\n"
     ]
    },
    {
     "data": {
      "text/plain": [
       "(4850296, 30)"
      ]
     },
     "execution_count": 5,
     "metadata": {},
     "output_type": "execute_result"
    }
   ],
   "source": [
    "doc_topics = lda.transform(bow)\n",
    "doc_topics.shape"
   ]
  },
  {
   "cell_type": "code",
   "execution_count": 9,
   "id": "184ac2e3-ea0c-4099-acda-abed3e811fac",
   "metadata": {
    "scrolled": true,
    "tags": []
   },
   "outputs": [
    {
     "name": "stderr",
     "output_type": "stream",
     "text": [
      "/home/mamille3/white_supremacist_lang/conda_env/lib/python3.9/site-packages/sklearn/utils/deprecation.py:87: FutureWarning: Function get_feature_names is deprecated; get_feature_names is deprecated in 1.0 and will be removed in 1.2. Please use get_feature_names_out instead.\n",
      "  warnings.warn(msg, category=FutureWarning)\n"
     ]
    },
    {
     "data": {
      "text/html": [
       "<div>\n",
       "<style scoped>\n",
       "    .dataframe tbody tr th:only-of-type {\n",
       "        vertical-align: middle;\n",
       "    }\n",
       "\n",
       "    .dataframe tbody tr th {\n",
       "        vertical-align: top;\n",
       "    }\n",
       "\n",
       "    .dataframe thead th {\n",
       "        text-align: right;\n",
       "    }\n",
       "</style>\n",
       "<table border=\"1\" class=\"dataframe\">\n",
       "  <thead>\n",
       "    <tr style=\"text-align: right;\">\n",
       "      <th></th>\n",
       "      <th>top_words</th>\n",
       "      <th>document_count</th>\n",
       "    </tr>\n",
       "    <tr>\n",
       "      <th>topic</th>\n",
       "      <th></th>\n",
       "      <th></th>\n",
       "    </tr>\n",
       "  </thead>\n",
       "  <tbody>\n",
       "    <tr>\n",
       "      <th>27</th>\n",
       "      <td>just people think like know really does did say ve</td>\n",
       "      <td>643966</td>\n",
       "    </tr>\n",
       "    <tr>\n",
       "      <th>0</th>\n",
       "      <td>thread pol based threads meme board posting memes shills post</td>\n",
       "      <td>365200</td>\n",
       "    </tr>\n",
       "    <tr>\n",
       "      <th>3</th>\n",
       "      <td>people world society life human way does self social things</td>\n",
       "      <td>285461</td>\n",
       "    </tr>\n",
       "    <tr>\n",
       "      <th>18</th>\n",
       "      <td>fucking right nigger shit literally retarded just lol like stop</td>\n",
       "      <td>249235</td>\n",
       "    </tr>\n",
       "    <tr>\n",
       "      <th>24</th>\n",
       "      <td>like dont got yes just na im looks guys sure</td>\n",
       "      <td>233377</td>\n",
       "    </tr>\n",
       "    <tr>\n",
       "      <th>7</th>\n",
       "      <td>time work just good school like job ve got hard</td>\n",
       "      <td>217244</td>\n",
       "    </tr>\n",
       "    <tr>\n",
       "      <th>22</th>\n",
       "      <td>niggers good want need kill just let ll people like</td>\n",
       "      <td>212899</td>\n",
       "    </tr>\n",
       "    <tr>\n",
       "      <th>25</th>\n",
       "      <td>white race whites people black non blacks racist racial anti</td>\n",
       "      <td>180317</td>\n",
       "    </tr>\n",
       "    <tr>\n",
       "      <th>11</th>\n",
       "      <td>money people pay government free country work economy world jobs</td>\n",
       "      <td>174081</td>\n",
       "    </tr>\n",
       "    <tr>\n",
       "      <th>1</th>\n",
       "      <td>like red eyes face hair head blue dick just light</td>\n",
       "      <td>172009</td>\n",
       "    </tr>\n",
       "    <tr>\n",
       "      <th>8</th>\n",
       "      <td>children family kids life child parents mother love bump home</td>\n",
       "      <td>139288</td>\n",
       "    </tr>\n",
       "    <tr>\n",
       "      <th>6</th>\n",
       "      <td>fuck shit flag kike faggot nice yeah oh gun op</td>\n",
       "      <td>138071</td>\n",
       "    </tr>\n",
       "    <tr>\n",
       "      <th>10</th>\n",
       "      <td>war russia military fight russian world army did fighting iran</td>\n",
       "      <td>136562</td>\n",
       "    </tr>\n",
       "    <tr>\n",
       "      <th>2</th>\n",
       "      <td>said police year crime man told murder prison court old</td>\n",
       "      <td>124984</td>\n",
       "    </tr>\n",
       "    <tr>\n",
       "      <th>13</th>\n",
       "      <td>jews jewish jew israel anti holocaust media zionist truth goyim</td>\n",
       "      <td>122190</td>\n",
       "    </tr>\n",
       "    <tr>\n",
       "      <th>29</th>\n",
       "      <td>video watch youtube like guy music game play news tv</td>\n",
       "      <td>118447</td>\n",
       "    </tr>\n",
       "    <tr>\n",
       "      <th>23</th>\n",
       "      <td>quote posted originally nan food eat water eating drink meat</td>\n",
       "      <td>117298</td>\n",
       "    </tr>\n",
       "    <tr>\n",
       "      <th>19</th>\n",
       "      <td>women men woman gay sex girls man girl male rape</td>\n",
       "      <td>116466</td>\n",
       "    </tr>\n",
       "    <tr>\n",
       "      <th>12</th>\n",
       "      <td>government law state states rights israel united immigration illegal said</td>\n",
       "      <td>115700</td>\n",
       "    </tr>\n",
       "    <tr>\n",
       "      <th>9</th>\n",
       "      <td>europe european muslims muslim islam europeans western countries east middle</td>\n",
       "      <td>114272</td>\n",
       "    </tr>\n",
       "    <tr>\n",
       "      <th>28</th>\n",
       "      <td>hitler national nazi socialism fascist fascism communism socialist political communist</td>\n",
       "      <td>107678</td>\n",
       "    </tr>\n",
       "    <tr>\n",
       "      <th>26</th>\n",
       "      <td>god christian christianity religion jesus church christians christ catholic bible</td>\n",
       "      <td>104981</td>\n",
       "    </tr>\n",
       "    <tr>\n",
       "      <th>15</th>\n",
       "      <td>trump vote obama party president election win voting creme hillary</td>\n",
       "      <td>103805</td>\n",
       "    </tr>\n",
       "    <tr>\n",
       "      <th>14</th>\n",
       "      <td>south american new america africa iq city population north live</td>\n",
       "      <td>97317</td>\n",
       "    </tr>\n",
       "    <tr>\n",
       "      <th>16</th>\n",
       "      <td>team use internet mini site using google information email website</td>\n",
       "      <td>94688</td>\n",
       "    </tr>\n",
       "    <tr>\n",
       "      <th>21</th>\n",
       "      <td>read book books david article history dr mr john stormfront</td>\n",
       "      <td>79091</td>\n",
       "    </tr>\n",
       "    <tr>\n",
       "      <th>4</th>\n",
       "      <td>german germany british english germans irish french france britain eu</td>\n",
       "      <td>75422</td>\n",
       "    </tr>\n",
       "    <tr>\n",
       "      <th>20</th>\n",
       "      <td>post kek muh chinese china picture best image japan japanese</td>\n",
       "      <td>73247</td>\n",
       "    </tr>\n",
       "    <tr>\n",
       "      <th>5</th>\n",
       "      <td>die der und afd das ist ich es nicht da</td>\n",
       "      <td>68768</td>\n",
       "    </tr>\n",
       "    <tr>\n",
       "      <th>17</th>\n",
       "      <td>years 10 000 year pic old 20 related million rt</td>\n",
       "      <td>68232</td>\n",
       "    </tr>\n",
       "  </tbody>\n",
       "</table>\n",
       "</div>"
      ],
      "text/plain": [
       "                                                                                    top_words  \\\n",
       "topic                                                                                           \n",
       "27                                         just people think like know really does did say ve   \n",
       "0                               thread pol based threads meme board posting memes shills post   \n",
       "3                                 people world society life human way does self social things   \n",
       "18                            fucking right nigger shit literally retarded just lol like stop   \n",
       "24                                               like dont got yes just na im looks guys sure   \n",
       "7                                             time work just good school like job ve got hard   \n",
       "22                                        niggers good want need kill just let ll people like   \n",
       "25                               white race whites people black non blacks racist racial anti   \n",
       "11                           money people pay government free country work economy world jobs   \n",
       "1                                           like red eyes face hair head blue dick just light   \n",
       "8                               children family kids life child parents mother love bump home   \n",
       "6                                              fuck shit flag kike faggot nice yeah oh gun op   \n",
       "10                             war russia military fight russian world army did fighting iran   \n",
       "2                                     said police year crime man told murder prison court old   \n",
       "13                            jews jewish jew israel anti holocaust media zionist truth goyim   \n",
       "29                                       video watch youtube like guy music game play news tv   \n",
       "23                               quote posted originally nan food eat water eating drink meat   \n",
       "19                                           women men woman gay sex girls man girl male rape   \n",
       "12                  government law state states rights israel united immigration illegal said   \n",
       "9                europe european muslims muslim islam europeans western countries east middle   \n",
       "28     hitler national nazi socialism fascist fascism communism socialist political communist   \n",
       "26          god christian christianity religion jesus church christians christ catholic bible   \n",
       "15                         trump vote obama party president election win voting creme hillary   \n",
       "14                            south american new america africa iq city population north live   \n",
       "16                         team use internet mini site using google information email website   \n",
       "21                                read book books david article history dr mr john stormfront   \n",
       "4                       german germany british english germans irish french france britain eu   \n",
       "20                               post kek muh chinese china picture best image japan japanese   \n",
       "5                                                     die der und afd das ist ich es nicht da   \n",
       "17                                            years 10 000 year pic old 20 related million rt   \n",
       "\n",
       "       document_count  \n",
       "topic                  \n",
       "27             643966  \n",
       "0              365200  \n",
       "3              285461  \n",
       "18             249235  \n",
       "24             233377  \n",
       "7              217244  \n",
       "22             212899  \n",
       "25             180317  \n",
       "11             174081  \n",
       "1              172009  \n",
       "8              139288  \n",
       "6              138071  \n",
       "10             136562  \n",
       "2              124984  \n",
       "13             122190  \n",
       "29             118447  \n",
       "23             117298  \n",
       "19             116466  \n",
       "12             115700  \n",
       "9              114272  \n",
       "28             107678  \n",
       "26             104981  \n",
       "15             103805  \n",
       "14              97317  \n",
       "16              94688  \n",
       "21              79091  \n",
       "4               75422  \n",
       "20              73247  \n",
       "5               68768  \n",
       "17              68232  "
      ]
     },
     "metadata": {},
     "output_type": "display_data"
    }
   ],
   "source": [
    "# Print top words/topic\n",
    "from IPython.display import display\n",
    "pd.set_option('display.max_colwidth', None)\n",
    "\n",
    "def top_words(model, feature_names, n_top_words):\n",
    "    topic_lines = []\n",
    "    for topic_idx, topic in enumerate(model.components_):\n",
    "        topic_lines.append({'topic': topic_idx, \n",
    "                            'top_words': \" \".join([feature_names[i] for i in topic.argsort()[:-n_top_words - 1:-1]])})\n",
    "    return pd.DataFrame(topic_lines).set_index('topic')\n",
    "    \n",
    "feature_names = vectorizer.get_feature_names()\n",
    "topics = top_words(lda, feature_names, 10)\n",
    "topics\n",
    "\n",
    "# Count topic prevalence\n",
    "# Assign documents to their highest topic\n",
    "import numpy as np\n",
    "import pandas as pd\n",
    "\n",
    "def count_topic_documents(topic_docs):\n",
    "    assigned_topics = np.argmax(topic_docs, axis=1)\n",
    "    return pd.Series(assigned_topics).value_counts()\n",
    "\n",
    "topics['document_count'] = count_topic_documents(doc_topics)\n",
    "display(topics.sort_values('document_count', ascending=False))\n",
    "\n",
    "def top_topic_documents(doc_topics, documents, n_docs):\n",
    "    doc_ids = np.argsort(doc_topics, axis=0)[::-1][:n_docs]\n",
    "    return {topic_id: [documents[doc_id] for doc_id in doc_ids[:, topic_id]] for topic_id in range(doc_ids.shape[1])}\n",
    "\n",
    "top_topic_docs = top_topic_documents(doc_topics, ws_data.text, 20)"
   ]
  },
  {
   "cell_type": "code",
   "execution_count": 8,
   "id": "23cb30bb-36eb-4e9a-8cac-50d49caec582",
   "metadata": {},
   "outputs": [
    {
     "data": {
      "text/plain": [
       "101"
      ]
     },
     "execution_count": 8,
     "metadata": {},
     "output_type": "execute_result"
    }
   ],
   "source": [
    "lda.n_batch_iter_"
   ]
  },
  {
   "cell_type": "code",
   "execution_count": 21,
   "id": "00f3b77d-5491-404c-882f-c21ac2824958",
   "metadata": {
    "scrolled": true,
    "tags": []
   },
   "outputs": [
    {
     "name": "stdout",
     "output_type": "stream",
     "text": [
      "************* TOPIC 27 *************************\n",
      "just people think like know really does did say ve\n",
      "\n",
      "------------------ TOP TOPIC 27 DOCUMENTS ----------------------\n",
      "tossup tossup tossup tossup tossup tossup tossup tossup tossup tossup tossup tossup tossup tossup tossup tossup tossup tossup tossup tossup tossup tossup tossup tossup tossup tossup tossup tossup tossup tossup tossup tossup tossup tossup tossup tossup tossup tossup tossup tossup tossup tossup tossup tossup tossup tossup tossup tossup tossup tossup tossup tossup\n",
      "\n",
      "is it possible to retract a given rep point .. if so how ? why would you want to do that ? you 're only repping ( yes , i know ... repping is n't really a word ) on a post by post basis . if you thought it was a good post and deserving of rep then there should n't be much of an issue , even if you do n't usually agree said member 's posts . i 've repped a few posts from a couple of members that i think for the most part are [ expletive ] -holes , jack- [ expletive ] s and trolls . if i think it was a good post then i 'll give rep regardless of rather i like them ( the poster ) or not .\n",
      "\n",
      "exactly , and if i may add , i have nothing against merlin , in fact i 've seen him help a lot of people on here . also , i 'm not greatly offended by his comment either , and did n't mean for this to turn into some ridiculous fiasco . i just pointed out that he was being rude to a fellow wn . one last thing , if merlin was joking and i took it the wrong way , i will immediately apologize . if i 'm wrong about something i 'm man enough to admit it . yeah , merlin is a great guy , and has , at the very least , tried to help people , and i 'm sure he 's helped many people before .\n",
      "\n",
      "seeing as it wo n't affect you ........ you are immature ! can you not even pause for a moment to consider the possibility that you might have overreacted ? can you possibly even begin to appreciate that many here have simply tried to give you some perspective and an opportunity to learn from their experiences . what is ridiculous is people saying to others stop acting like themselves , just because their unique personality is `` wrong '' and should be more `` peaceful '' and `` reasonable '' . everytime someone say me this gibberish i tell them to get a life and stop saying how i should act . always the same thing , though , no matter how much you repeat it ...\n",
      "\n",
      "so since my last post in this thread months ago , i think i got a few more rep points . i 'm still on moderation though . i would like to post in the other forums , as i see the guest ones are very restricting , and not always the right place to discuss a certain topic . so if there is a chance , may i get off moderation soon , or at least given a more specific goal in mind for me to get off moderation ? i am really sorry if this may cause any inconvenience and if that is the case then i would be glad to wait longer to get off moderation . thanks beforehand for any response , or if my moderation is lifted .\n",
      "\n",
      "what is ridiculous is people saying to others stop acting like themselves , just because their unique personality is `` wrong '' and should be more `` peaceful '' and `` reasonable '' . everytime someone say me this gibberish i tell them to get a life and stop saying how i should act . always the same thing , though , no matter how much you repeat it ... that 's the problem . people are different . everybody would have reacted differently in that situation or any situation . i 'm tired of people repeating the same thing over and over . if you said something to me already in here , why continue to post saying the same thing over ? i get it already .\n",
      "\n",
      "yes but she said them together as a complete sentence `` you think you 're wrong '' which implied that i thought i was wrong since she said you think which was her telling me what i thought and then you are wrong , which mea n't that she said that i thought i was wrong . however i never said ( i think i am wrong ) . in this case she should have said i think you are wrong , because that was her opinion on my statement . i said i think i scared her off . she then replied with you think you 're wrong . that makes no sense in that context , she should have said i think you 're wrong . you see what i mean\n",
      "\n",
      "no one said that you were breaking any rules , but when you do not answer questions and ignore those that ask you questions then you are wasting members ' time . i think that you just like all the attention you are getting . if i 'm wasting your time , why are you still talking to me ? that does n't even make sense . if you post anything not directed towards me , i don't/wo n't respond . i 've ignored some posts ( yours included ) because they were either rude or i was trying to not get banned and would 've w/my response .\n",
      "\n",
      "a bit of an unfair question a bit of an unfair question a bit of an unfair question a bit of an unfair question a bit of an unfair question a bit of an unfair question a bit of an unfair question a bit of an unfair question a bit of an unfair question a bit of an unfair question a bit of an unfair question a bit of an unfair question\n",
      "\n",
      "i see this board as just many conversations going on . if there is a conversation that you are interested in , jump in and give your two cents . i write a lot of thoughtful and meaningful posts , but i also like to engage in silly conversation . i think it just matters on the person . some people are comfortable writing and expressing themselves , whereas , some are not . well , i hope you have more posts and more things to say , it 's always good to hear other wn 's thoughts and ideas here . cheers !\n",
      "\n",
      "disagree disagree agree agree disagree agree disagree agree disagree disagree disagree disagree agree agree disagree no opinion disagree disagree agree disagree disagree agree agree agree this is a fact , not an opinion disagree agree agree agree disagree disagree\n",
      "\n",
      "why do n't you tell me why do n't you tell me why do n't you tell me why do n't you tell me why do n't you tell me why do n't you tell me why do n't you tell me why do n't you tell me why do n't you tell me why do n't you tell me why do n't you tell me why do n't you tell me why do n't you tell me why do n't you tell me why do n't you tell me why do n't you tell me why do n't you tell me why do n't you tell me why do n't you tell me why do n't you tell me why do n't you tell me why do n't you tell me why do n't you tell me why do n't you tell me why do n't you tell me why do n't you tell me why do n't you tell me why do n't you tell me why do n't you tell me why do n't you tell me why do n't you tell me why do n't you tell me\n",
      "\n",
      "sarcasm noted . it 's comments like that that make this all worth while . not sure if i understand what you mean , but i can assure you there 's not one sarcastic word in any of those posts . i guess i just do n't understand why y'all become so defensive when someone highlights an issue that might make you lose members . why get so upset about it ? is n't it better to get some feedback from members so that you might be able to check up on it and maybe change something for the better ? no ? alright then ..\n",
      "\n",
      "yeah , i guess it 's true that a lot of people wo n't make that mistake . i do n't think that most people could identify an argument where they made a mistake that was n't regarding the facts , though . honestly , i just wanted to say that people want to believe that they only lose arguments when they 're factually wrong . you think that you 've shown me evidence that has contradicted me , but you have n't contradicted me . that 's just what you want to believe . i 've told you the truth , the whole truth , and nothing but the truth . now it 's just a matter of whether you 'll accept it . if nothing else , just promise me that you 'll reflect hard on this conversation . re-read every post you make , and think about how it relates to what you were responding to . i 'm not wrong . my assumption of your bad faith came way back over here , when you pretended that you had just been trying to `` tease the truth '' out of me even though all i was doing was explaining why your statements were wrong .\n",
      "\n",
      "excuse me if i do n't respond to every single post , it just takes too long to reply , i have to get each and every single post moderated , so it gets tiring . but , i actually did read yours and i found it quite interesting , good points ! okay , but just do n't pat yourself on the back for being right when you 're only selectively picking and choosing certain arguments and statements .\n",
      "\n",
      "i 've seen plenty of relevant responses . if you feel a post is unrelated then ignore it . i meant to say , this is good advice you 've given . but , if you 're anything like me , you retort . it 's difficult to pass by a comment that 's insulting . i did n't start the insults but i wo n't lie , it 's hard to pass by . i will from now on . thanks .\n",
      "\n",
      "i actually think it 's a good question . behaviour like this will never make this site mainstream . if you 've got certain world views , make sure to be able to present them in a mature and respectful way , these are the sort of comments they 'll pick out and put in smear articles . i agree , whole heartedly .\n",
      "\n",
      "so , you 're a psychologist , and you do n't know how people feel when they 're angry ? i do n't personally know how it feels to be that angry towards someone i do n't know and who has never done anything negative to me since i 've never been in that position . maybe you can personally relate which is why you 're asking dumb questions . why do n't you tell me how it feels to be that angry since the person i posed the question to is n't responding . how does it feel ?\n",
      "\n",
      "rambling question rambling question rambling question rambling question rambling question rambling question rambling question rambling question rambling question rambling question rambling question rambling question rambling question rambling question\n",
      "\n",
      "do n't get me wrong but this post of yours is exact reason why your people ca n't post there . too bad some people just ca n't control themselves , it would be quite different if they could . well you did warn me .. but flaming is obviously not the reason . its simply far easier to push an agenda when you have noone opposing to the crap you post .\n",
      "\n",
      "------------------ SAMPLE OF TOPIC 27 DOCUMENTS ----------------------\n",
      "are muslims still a problem anymore ? i 've barely heard anything from them all year .\n",
      "\n",
      "it even says so in your link . yeah , it says they made a few steps in , stopped , and walked back into france . try to make a post that adresses the things i said : what is the treaty of versailles , lend-lease , danzig etc do you want me to tell you ? or can you google it ? what are hamburg , berlin , frankfurt , cologne , hannover , munster , sofia , french cities etc only dresden got the total level of glassing , these other nigger cities got it just like every other city in europe . try googling any city the german niggers bombed , schlomo , it will look the same , if not even worse .\n",
      "\n",
      "he should have bought a ar-15 and trained his family how to use it . he should n't live in fear for what is right . they most likely wo n't leave him alone now anyways . sometimes i wish that things like these were already a reality ( for our use , only ) . and of course a deep underground bunker with impenetrable vaults . who would be stupid enough to mess with us then ? * pardon the offensive videos *\n",
      "\n",
      "by single , i meant the first ( of many ) . i agree with the rest of your post .\n",
      "\n",
      "what do you think are you doing here ? first it was some fm report , no real proof to backup anything , then this danisch idiot copies it and now you spread what he writes as if it was a source .\n",
      "\n",
      "maybe you can at least reconstruct your posts via picking them out of your posting history instead of going through the long thread . or just recover the original post and link to the merged thread where the rest of the posts are .\n",
      "\n",
      "my friend just turned 17 and he has gotten 2 farely large tattoos recently and he already regrets it . im turning 18 in a couple of days and ive been thinking for a long time wether to get a tattoo on my birthday and what to get and i have been changing my mind constantly . i really want one but i have no idea what to get . i would like to get a swastika but i want to join the australian army and i dont think they would like that .\n",
      "\n",
      "the point is attack my posts without having any substance what so ever , just you saying you do n't like me , and that 's all you can fucking say that 's what 's really pathetic you ca n't attack me without any substance , so i 'm done with you , needle dick\n",
      "\n",
      "it 's done and why do i make a fool of myself ? you are by showing your ugly face in your profile that is very homosexual of you to judge the way a man looks .\n",
      "\n",
      "they are liberal wastelands . so what ? i love oregon but portland just makes me sad . only been to seattle once and it was just as bad . so what ? why do you think that matters when we form the white ethnostate there ?\n",
      "\n",
      "i mean , maybe he should n't have been such a degenerate spic . i see a lot of men on here that brag about fucking loads of girls , it wo n't make you happy , you wo n't find love like that , you 're just hurting yourself and others .\n",
      "\n",
      "love your neighbor as you love yourself . anybody that does this wouldn't have slaves so i think jesus did condemn it .\n",
      "\n",
      "why ca n't people explain this ?\n",
      "\n",
      "long time lurker on /pol/ still does n't know why he 's hated if you do n't have the brains to figure it out , boy ...\n",
      "\n",
      "did n't expect that , genuinely loled .\n",
      "\n",
      "kraut went pretty well for 2 years until you started your egodriven miniwar with da selfish but thread maintaning witch . now half of polacks follow her like scheisshausfliegen to /int/ . what is loyality what is integrity this general deserves to die .\n",
      "\n",
      "yes . certain people will just heap you in with western europeans , gregor . i 'm sorry .\n",
      "\n",
      "sorry , nobody in europe wants to move to america the amount of europoors that want to move here is far higher than the other way arround , nige . cloudy shithile =/= comfy\n",
      "\n",
      "yes . i actually reported one of them to the fbi . he was drumming up support on an anti board to get them to come here and infiltrate and make death threats towards chairman obama . we should all look to doing that on various boards . i started out getting 'antis ' profiles deleted on myspace . now i just pay attention to actual stuff that could get an anti into legal trouble .\n",
      "\n",
      "i live here though . i know it 's my card because i have had it for years and used it on line quite a few times . : / perhaps i should meet up with one of the head guys in person to prove my ident , or is that taboo ?\n",
      "\n",
      "************* TOPIC 0 *************************\n",
      "thread pol based threads meme board posting memes shills post\n",
      "\n",
      "------------------ TOP TOPIC 0 DOCUMENTS ----------------------\n",
      "dab dab dab dab dab dab dab dab dab dab dab dab dab dab dab dab dab dab dab dab dab dab dab dab dab dab dab dab dab dab dab dab dab dab dab dab dab dab dab dab dab dab dab dab dab dab dab dab dab dab dab dab dab dab dab dab dab dab dab dab dab dab dab dab dab dab dab dab dab dab dab dab dab dab dab dab dab dab dab dab dab dab dab dab dab dab dab dab dab dab dab dab dab dab dab dab dab dab dab dab dab dab dab dab dab dab dab dab dab dab dab dab dab dab dab dab dab dab dab dab dab dab dab dab dab dab dab dab dab dab dab dab dab dab dab dab dab dab dab dab dab dab dab dab dab dab dab dab dab dab dab dab dab dab dab dab dab dab dab dab dab dab dab dab dab dab dab dab dab dab dab dab dab dab dab dab dab dab dab dab dab dab dab dab dab dab dab dab dab dab dab dab dab dab dab dab dab dab dab dab dab dab dab dab dab dab dab dab dab dab dab dab dab dab dab dab dab dab dab dab dab dab dab dab dab dab dab dab dab dab dab dab dab dab dab dab dab dab dab dab dab dab dab dab dab dab dab dab dab dab dab dab dab dab dab dab dab dab dab dab dab dab dab dab dab dab dab dab dab dab dab dab dab dab dab dab dab dab dab dab dab dab dab dab dab dab dab dab dab dab dab dab dab dab dab dab dab dab dab dab dab dab dab dab dab dab dab dab dab dab dab dab dab dab dab dab dab dab dab dab dab dab dab dab dab dab dab dab dab dab dab dab dab dab dab dab dab dab dab dab dab dab dab dab dab dab dab dab dab dab dab dab dab dab dab dab dab dab dab dab dab dab dab dab dab dab dab dab dab dab dab dab dab dab dab dab dab dab dab dab dab dab dab dab dab dab dab dab dab dab dab dab dab dab dab dab dab dab dab dab dab dab dab dab dab dab dab dab dab dab dab dab dab dab dab dab dab dab dab dab dab dab dab dab dab dab dab dab dab dab dab dab dab dab dab dab dab dab dab dab dab dab dab dab dab dab dab dab dab dab dab dab dab dab dab dab dab dab dab dab dab dab dab dab dab dab dab dab dab dab dab dab dab dab dab dab dab dab dab dab dab dab dab dab dab dab dab dab dab dab\n",
      "\n",
      "sage sage sage sage sage sage sage sage sage sage sage sage sage sage sage sage sage sage sage sage sage sage sage sage sage sage sage sage sage sage sage sage sage sage sage sage sage sage sage sage sage sage sage sage sage sage sage sage sage sage sage sage sage sage sage sage sage sage sage sage sage sage sage sage sage sage sage sage sage sage sage sage sage sage sage sage sage sage sage sage sage sage sage sage sage sage sage sage sage sage sage sage sage sage sage sage sage sage sage sage sage sage sage sage sage sage sage sage sage sage sage sage sage sage sage sage sage sage sage sage sage sage sage sage sage sage sage sage sage sage sage sage sage sage sage sage sage sage sage sage sage sage sage sage sage sage sage sage sage sage sage sage sage sage sage sage sage sage sage sage sage sage sage sage sage sage sage sage sage sage sage sage sage sage sage sage sage sage sage sage sage sage sage sage sage sage sage sage sage sage sage sage sage sage sage sage sage sage sage sage sage sage sage sage sage sage sage sage sage sage sage sage sage sage sage sage sage sage sage sage sage sage sage sage sage sage sage sage sage sage sage sage sage\n",
      "\n",
      "[ embed ] [ embed ] [ embed ] [ embed ] [ embed ] [ embed ] [ embed ] [ embed ] [ embed ] [ embed ] [ embed ] [ embed ] [ embed ] [ embed ] [ embed ] [ embed ] [ embed ] [ embed ] [ embed ] [ embed ] [ embed ] [ embed ] [ embed ] [ embed ] [ embed ] [ embed ] [ embed ] [ embed ] [ embed ] [ embed ] [ embed ] [ embed ] [ embed ] [ embed ] [ embed ] [ embed ] [ embed ] [ embed ] [ embed ] [ embed ] [ embed ] [ embed ] [ embed ] [ embed ] [ embed ] [ embed ] [ embed ] [ embed ] [ embed ] [ embed ] [ embed ] [ embed ] [ embed ] [ embed ] [ embed ] [ embed ] [ embed ] [ embed ] [ embed ] [ embed ] [ embed ] [ embed ] [ embed ] [ embed ] [ embed ] [ embed ] [ embed ] [ embed ] [ embed ] [ embed ] [ embed ] [ embed ] [ embed ] [ embed ] [ embed ] [ embed ] [ embed ] [ embed ] [ embed ] [ embed ] [ embed ] [ embed ] [ embed ] [ embed ] [ embed ] [ embed ] [ embed ] [ embed ] [ embed ] [ embed ] [ embed ] [ embed ] [ embed ] [ embed ] [ embed ] [ embed ] [ embed ] [ embed ] [ embed ] [ embed ] [ embed ] [ embed ] [ embed ] [ embed ] [ embed ] [ embed ] [ embed ] [ embed ] [ embed ] [ embed ] [ embed ] [ embed ] [ embed ] [ embed ] [ embed ] [ embed ] [ embed ] [ embed ] [ embed ] [ embed ] [ embed ] [ embed ] [ embed ] [ embed ] [ embed ] [ embed ] [ embed ] [ embed ] [ embed ] [ embed ] [ embed ] [ embed ] [ embed ] [ embed ] [ embed ] [ embed ] [ embed ] [ embed ] [ embed ] [ embed ] [ embed ] [ embed ] [ embed ] [ embed ] [ embed ] [ embed ] [ embed ] [ embed ] [ embed ] [ embed ] [ embed ] [ embed ] a f d w a v e [ embed ] [ embed ] [ embed ] [ embed ] [ embed ] [ embed ] [ embed ] [ embed ] [ embed ] [ embed ] [ embed ] [ embed ] [ embed ] [ embed ] [ embed ] [ embed ] [ embed ] [ embed ] [ embed ] [ embed ] [ embed ] [ embed ] [ embed ] [ embed ] [ embed ] [ embed ] [ embed ] [ embed ] [ embed ] [ embed ] [ embed ] [ embed ] [ embed ] [ embed ] [ embed ] [ embed ] [ embed ]\n",
      "\n",
      "sage and report e-celeb shill threads sage and report e-celeb shill threads sage and report e-celeb shill threads sage and report e-celeb shill threads sage and report e-celeb shill threads sage and report e-celeb shill threads sage and report e-celeb shill threads sage and report e-celeb shill threads sage and report e-celeb shill threads sage and report e-celeb shill threads sage and report e-celeb shill threads sage and report e-celeb shill threads sage and report e-celeb shill threads sage and report e-celeb shill threads sage and report e-celeb shill threads sage and report e-celeb shill threads sage and report e-celeb shill threads sage and report e-celeb shill threads sage and report e-celeb shill threads sage and report e-celeb shill threads sage and report e-celeb shill threads sage and report e-celeb shill threads sage and report e-celeb shill threads sage and report e-celeb shill threads sage and report e-celeb shill threads sage and report e-celeb shill threads sage and report e-celeb shill threads sage and report e-celeb shill threads sage and report e-celeb shill threads sage and report e-celeb shill threads sage and report e-celeb shill threads sage and report e-celeb shill threads\n",
      "\n",
      "sage and report e-celeb shill threads sage and report e-celeb shill threads sage and report e-celeb shill threads sage and report e-celeb shill threads sage and report e-celeb shill threads sage and report e-celeb shill threads sage and report e-celeb shill threads sage and report e-celeb shill threads sage and report e-celeb shill threads sage and report e-celeb shill threads sage and report e-celeb shill threads sage and report e-celeb shill threads sage and report e-celeb shill threads sage and report e-celeb shill threads sage and report e-celeb shill threads sage and report e-celeb shill threads sage and report e-celeb shill threads sage and report e-celeb shill threads sage and report e-celeb shill threads sage and report e-celeb shill threads sage and report e-celeb shill threads sage and report e-celeb shill threads sage and report e-celeb shill threads sage and report e-celeb shill threads sage and report e-celeb shill threads sage and report e-celeb shill threads sage and report e-celeb shill threads sage and report e-celeb shill threads sage and report e-celeb shill threads sage and report e-celeb shill threads\n",
      "\n",
      "do n't post in the obvious slide thread slide thread slide thread slide thread slide thread slide thread slide thread slide thread slide thread slide thread slide thread slide thread slide thread slide thread slide thread slide thread slide thread slide thread slide thread slide thread slide thread slide thread slide thread slide thread slide thread slide thread slide thread slide thread slide thread slide thread slide thread slide thread slide thread slide thread slide thread slide thread slide thread slide thread slide thread slide thread slide thread slide thread slide thread slide thread slide thread slide thread slide thread slide thread slide thread slide thread slide thread slide thread slide thread slide thread slide thread slide thread slide thread slide thread slide thread slide thread slide thread slide thread slide thread slide thread slide thread slide thread do not post here sage\n",
      "\n",
      "do n't post in the obvious slide thread slide thread slide thread slide thread slide thread slide thread slide thread slide thread slide thread slide thread slide thread slide thread slide thread slide thread slide thread slide thread slide thread slide thread slide thread slide thread slide thread slide thread slide thread slide thread slide thread slide thread slide thread slide thread slide thread slide thread slide thread slide thread slide thread slide thread slide thread slide thread slide thread slide thread slide thread slide thread slide thread slide thread slide thread slide thread slide thread slide thread slide thread slide thread slide thread slide thread slide thread slide thread slide thread slide thread slide thread slide thread slide thread slide thread slide thread slide thread slide thread slide thread slide thread slide thread slide thread slide thread do not post here sage\n",
      "\n",
      "do n't post in the obvious slide thread slide thread slide thread slide thread slide thread slide thread slide thread slide thread slide thread slide thread slide thread slide thread slide thread slide thread slide thread slide thread slide thread slide thread slide thread slide thread slide thread slide thread slide thread slide thread slide thread slide thread slide thread slide thread slide thread slide thread slide thread slide thread slide thread slide thread slide thread slide thread slide thread slide thread slide thread slide thread slide thread slide thread slide thread slide thread slide thread slide thread slide thread slide thread slide thread slide thread slide thread slide thread slide thread slide thread slide thread slide thread slide thread slide thread slide thread slide thread slide thread slide thread slide thread slide thread slide thread slide thread do not post here sage\n",
      "\n",
      "do n't post in the obvious slide thread slide thread slide thread slide thread slide thread slide thread slide thread slide thread slide thread slide thread slide thread slide thread slide thread slide thread slide thread slide thread slide thread slide thread slide thread slide thread slide thread slide thread slide thread slide thread slide thread slide thread slide thread slide thread slide thread slide thread slide thread slide thread slide thread slide thread slide thread slide thread slide thread slide thread slide thread slide thread slide thread slide thread slide thread slide thread slide thread slide thread slide thread slide thread slide thread slide thread slide thread slide thread slide thread slide thread slide thread slide thread slide thread slide thread slide thread slide thread slide thread slide thread slide thread slide thread slide thread slide thread do not post here sage\n",
      "\n",
      "this do n't post in the obvious slide thread slide thread slide thread slide thread slide thread slide thread slide thread slide thread slide thread slide thread slide thread slide thread slide thread slide thread slide thread slide thread slide thread slide thread slide thread slide thread slide thread slide thread slide thread slide thread slide thread slide thread slide thread slide thread slide thread slide thread slide thread slide thread slide thread slide thread slide thread slide thread slide thread slide thread slide thread slide thread slide thread slide thread slide thread slide thread slide thread slide thread slide thread slide thread slide thread slide thread slide thread slide thread slide thread slide thread slide thread slide thread slide thread slide thread slide thread slide thread slide thread slide thread slide thread slide thread slide thread slide thread do not post here sage\n",
      "\n",
      "do n't post in the obvious slide thread slide thread slide thread slide thread slide thread slide thread slide thread slide thread slide thread slide thread slide thread slide thread slide thread slide thread slide thread slide thread slide thread slide thread slide thread slide thread slide thread slide thread slide thread slide thread slide thread slide thread slide thread slide thread slide thread slide thread slide thread slide thread slide thread slide thread slide thread slide thread slide thread slide thread slide thread slide thread slide thread slide thread slide thread slide thread slide thread slide thread slide thread slide thread slide thread slide thread slide thread slide thread slide thread slide thread slide thread slide thread slide thread slide thread slide thread slide thread slide thread slide thread slide thread slide thread slide thread slide thread do not post here sage\n",
      "\n",
      "sage and report e-celeb shill threads sage and report e-celeb shill threads sage and report e-celeb shill threads sage and report e-celeb shill threads sage and report e-celeb shill threads sage and report e-celeb shill threads sage and report e-celeb shill threads sage and report e-celeb shill threads sage and report e-celeb shill threads sage and report e-celeb shill threads sage and report e-celeb shill threads sage and report e-celeb shill threads sage and report e-celeb shill threads sage and report e-celeb shill threads sage and report e-celeb shill threads sage and report e-celeb shill threads sage and report e-celeb shill threads sage and report e-celeb shill threads sage and report e-celeb shill threads sage and report e-celeb shill threads sage and report e-celeb shill threads sage and report e-celeb shill threads sage and report e-celeb shill threads sage and report e-celeb shill threads sage and report e-celeb shill threads sage and report e-celeb shill threads\n",
      "\n",
      "do n't post in the obvious slide thread slide thread slide thread slide thread slide thread slide thread slide thread slide thread slide thread slide thread slide thread slide thread slide thread slide thread slide thread slide thread slide thread slide thread slide thread slide thread slide thread slide thread slide thread slide thread slide thread slide thread slide thread slide thread slide thread slide thread slide thread slide thread slide thread slide thread slide thread slide thread slide thread slide thread slide thread slide thread slide thread slide thread slide thread slide thread slide thread slide thread slide thread slide thread slide thread slide thread slide thread slide thread slide thread slide thread slide thread slide thread slide thread slide thread slide thread slide thread slide thread slide thread do not post here sage\n",
      "\n",
      "sage sage sage sage sage sage sage sage sage sage sage sage sage sage sage sage sage sage sage sage sage sage sage sage sage sage sage sage sage sage sage sage sage sage sage sage sage sage sage sage sage sage sage sage sage sage sage sage sage sage sage sage sage sage sage sage sage sage sage sage sage sage sage sage sage sage sage sage sage sage sage sage sage sage sage sage sage sage sage sage sage sage sage sage sage sage sage sage sage sage sage sage sage sage sage sage sage sage sage sage sage sage sage sage sage sage sage sage sage sage sage sage sage sage sage sage sage sage sage sage\n",
      "\n",
      "sage and report all e-celeb shill threads sage and report all e-celeb shill threads sage and report all e-celeb shill threads sage and report all e-celeb shill threads sage and report all e-celeb shill threads sage and report all e-celeb shill threads sage and report all e-celeb shill threads sage and report all e-celeb shill threads sage and report all e-celeb shill threads sage and report all e-celeb shill threads sage and report all e-celeb shill threads sage and report all e-celeb shill threads sage and report all e-celeb shill threads sage and report all e-celeb shill threads sage and report all e-celeb shill threads sage and report all e-celeb shill threads sage and report all e-celeb shill threads sage and report all e-celeb shill threads sage and report all e-celeb shill threads sage and report all e-celeb shill threads sage and report all e-celeb shill threads sage and report all e-celeb shill threads sage and report all e-celeb shill threads sage and report all e-celeb shill threads\n",
      "\n",
      "sieg heil ! sieg heil ! sieg heil ! sieg heil ! sieg heil ! sieg heil ! sieg heil ! sieg heil ! sieg heil ! sieg heil ! sieg heil ! sieg heil ! sieg heil ! sieg heil ! sieg heil ! sieg heil ! sieg heil ! sieg heil ! sieg heil ! sieg heil ! sieg heil ! sieg heil ! sieg heil ! sieg heil ! sieg heil ! sieg heil ! sieg heil ! sieg heil ! sieg heil ! sieg heil ! sieg heil ! sieg heil ! sieg heil ! sieg heil ! sieg heil ! sieg heil ! sieg heil ! sieg heil ! sieg heil ! sieg heil ! sieg heil ! sieg heil ! sieg heil ! sieg heil ! sieg heil ! sieg heil ! sieg heil !\n",
      "\n",
      "anime anime anime anime anime anime anime anime anime anime anime anime anime anime anime anime anime anime anime anime anime anime anime anime anime anime anime anime anime anime anime anime anime anime anime anime anime anime anime anime anime anime anime anime anime anime anime anime anime anime anime anime anime anime anime anime anime anime anime anime anime anime anime anime anime anime anime anime anime anime anime anime anime anime anime anime anime anime anime anime anime anime anime anime anime anime anime anime\n",
      "\n",
      "namu myōhō renge kyō namu myōhō renge kyō namu myōhō renge kyō namu myōhō renge kyō namu myōhō renge kyō namu myōhō renge kyō namu myōhō renge kyō namu myōhō renge kyō namu myōhō renge kyō namu myōhō renge kyō namu myōhō renge kyō namu myōhō renge kyō namu myōhō renge kyō namu myōhō renge kyō namu myōhō renge kyō namu myōhō renge kyō namu myōhō renge kyō namu myōhō renge kyō namu myōhō renge kyō namu myōhō renge kyō namu myōhō renge kyō namu myōhō renge kyō\n",
      "\n",
      "shill thread sage shill thread sage shill thread sage shill thread sage shill thread sage shill thread sage shill thread sage shill thread sage shill thread sage shill thread sage shill thread sage shill thread sage shill thread sage shill thread sage shill thread sage shill thread sage shill thread sage shill thread sage shill thread sage shill thread sage shill thread sage shill thread sage shill thread sage shill thread sage shill thread sage shill thread sage shill thread sage shill thread sage\n",
      "\n",
      "shill thread sage shill thread sage shill thread sage shill thread sage shill thread sage shill thread sage shill thread sage shill thread sage shill thread sage shill thread sage shill thread sage shill thread sage shill thread sage shill thread sage shill thread sage shill thread sage shill thread sage shill thread sage shill thread sage shill thread sage shill thread sage shill thread sage shill thread sage shill thread sage shill thread sage shill thread sage shill thread sage shill thread sage\n",
      "\n",
      "------------------ SAMPLE OF TOPIC 0 DOCUMENTS ----------------------\n",
      "* dodge challenger aka the fattie smasher\n",
      "\n",
      "\n",
      "\n",
      "\n",
      "\n",
      "\n",
      "\n",
      "seething jealousy\n",
      "\n",
      "/k/ - /k/ommando gasses himself nevar forget .\n",
      "\n",
      "\n",
      "\n",
      "29 posters stay defeated jew\n",
      "\n",
      "\n",
      "\n",
      "i 'm the best troll on the board . i get banned and i come back . and they never stop letting me in . everyone else does n't even come back . i smell nigger .\n",
      "\n",
      "my sides are in orbit . read through the thread\n",
      "\n",
      "\n",
      "\n",
      "\n",
      "\n",
      "\n",
      "\n",
      "\n",
      "\n",
      "based christian poster\n",
      "\n",
      "or this\n",
      "\n",
      "\n",
      "\n",
      "\n",
      "\n",
      "buuuuuuuuum mmmm pppplppaapp\n",
      "\n",
      "************* TOPIC 3 *************************\n",
      "people world society life human way does self social things\n",
      "\n",
      "------------------ TOP TOPIC 3 DOCUMENTS ----------------------\n",
      "to expand , it is clear that neither the past nor the future exist . the past existed ( meaning it no longer exists ) and the future does not yet exists ( meaning it is not in a state of existence ) . what exists is a single point of now . the way in which we measure time depends on something called a transcendental concept , as defined first by immanuel kant . a transcendental concept must have these attributes : be arbitrarily divisible unto the physical universe , be necessarily true . time is real in as much as numbers are real . 1+1=2 is true whether humans exist or not , same with the concept of time as we apply it to the universe . it exists , just not physically , it exists as a transcendental . think of it this way : -existence ( concept ) -existence < -+existence ( concept ) , time = +/-existence+/-existence , in that we can never actually grasp time by the actual present moment , but rather we divide unto the universe the concept of changes between the future and the past to an arbitrary present moment to find time .\n",
      "\n",
      "the real-human a human that seeks to be the ideal human to and constantly improve himself in all aspects of his being to the best of his ability , while also knowing his own limited and flawed nature and the reality that only a select few humans could ever truly be the ideal man , but still strives for it . this model , is perfectly reachable by every human , because while we are all more or less flawed and limited , each in our different ways , we still have many aspects of ourselves in which we can always improve upon and strive towards the full potential . though realities of life do make it impossible for us to strive for constant improvement in all of those aspects , there is no excuse for not improving ourselves in aspects we know we can improve , and thus become closer to the ideal human . the sub-human a human that is not striving to be the ideal-human , and does not seek to improve himself despite having the capacity to do so and thus wastes his potential , or even worse , a human that acts in such ways that weaken and degrade him , and thus push himself further away from his full potential . unfortunately , it seems that wast majority of people are sub-human .\n",
      "\n",
      "the industrial revolution and its consequences have been a disaster for the human race . they have greatly increased the life-expectancy of those of us who live in “ advanced ” countries , but they have destabilized society , have made life unfulfilling , have subjected human beings to indignities , have led to widespread psychological suffering ( in the third world to physical suffering as well ) and have inflicted severe damage on the natural world . the continued development of technology will worsen the situation . it will certainly subject human beings to greater indignities and inflict greater damage on the natural world , it will probably lead to greater social disruption and psychological suffering , and it may lead to increased physical suffering even in “ advanced ” countries .\n",
      "\n",
      "`` reason and science are the products of mankind , but it is chimerical to seek reason directly for the people and through the people . it is not essential to the existence of reason that all should be familiar with it ; and even if all had to be initiated , this could not be achieved through democracy which seems fated to lead to the extinction of all arduous forms of culture and all highest forms of learning . the maxim that society exists only for the well-being and freedom of the individuals composing it does not seem to be in conformity with nature 's plans , which care only for the species and seem ready to sacrifice the individual . it is much to be feared that the last word of democracy thus understood ( and let me hasten to add that it is susceptible of a different interpretation ) would be a form of society in which a degenerate mass would have no thought beyond that of enjoying the ignoble pleasures of the vulgar . ''\n",
      "\n",
      "`` reason and science are the products of mankind , but it is chimerical to seek reason directly for the people and through the people . it is not essential to the existence of reason that all should be familiar with it ; and even if all had to be initiated , this could not be achieved through democracy which seems fated to lead to the extinction of all arduous forms of culture and all highest forms of learning . the maxim that society exists only for the well-being and freedom of the individuals composing it does not seem to be in conformity with nature 's plans , which care only for the species and seem ready to sacrifice the individual . it is much to be feared that the last word of democracy thus understood ( and let me hasten to add that it is susceptible of a different interpretation ) would be a form of society in which a degenerate mass would have no thought beyond that of enjoying the ignoble pleasures of the vulgar . ''\n",
      "\n",
      "how our biological instinct to reproduce is the purpose of life it was the purpose of life before we achieved any semblance of conciousness ; its a far more fundamental cornerstone to all life than consciousness . its far superior to consciousness as a `` basis for meaning '' too , since consciousness is contingent upon it ( but that 's a tangent ) . you realize , that within the framework of your biology , and the physical laws underpinning it , you have to decide the meaning of your existence , correct ? but you are n't given infinite margins within which to make that decision : you have to preserve the foundation of consciousness , and preserve it in its current form , or else you lose the space for meaning of any kind , not just the kind you prefer . do you still follow ?\n",
      "\n",
      "the sort of bureaucratic thinking alienates the best and invites the worst . you are wrong to shame the individual . it should not be the presumption of status , as in being human entitles you to rights , but , individuality is an important factor in man 's psychology . when man thinks of himself he reveals himself , his beliefs and values , and this translates more into his greater loyalties ; the family , the nation , the state , the race . his personal desire for wealth is to satisfy these , as well has his needs . the true individual , a free thinker , can not be coerced into service , but the blind mass can . these are not the ones to whom i refer . not every man has personality or talent .\n",
      "\n",
      "because we relied on kindness and cooperation to survive , we as a people maintain bonds of brotherhood and friendship more than any other and after millennia of being surrounded for the most part only by others who reciprocate such feelings and ideals due to a similar environment and development , we come into contact with peoples that never developed such bonds or indeed much of anything else . in the early days we recognised this immediately as they were foreign to our people and we could understand exactly how and why that was , however we as a people develop bonds quickly and eventually our altruism and goodwill won out , over and over again . it 's in part our single greatest quality , making us more truly human than most other peoples of the earth but it 's also evidently our greatest weakness .\n",
      "\n",
      "animals are basically autonomous machines as it is , they perform a niche task and possess zero self awareness . you are wrong . every single animal with at the very least a cns , and some without one , are self aware creatures with a consciousness . they work in almost exactly the same way as a human brain , with the same connections and electro-chemical receptors and all life on earth evolved from the same sources . humans are obviously far more intelligent and superior to animals , but to believe animals do n't have a consciousness but humans magically do is n't logically sound . it is special pleading . you are wrong .\n",
      "\n",
      "your views are philosophically self defeating . you do n't find any value in life beyond hedonistic experience . life only has value because it is a finite quantity . scarcity is built into this system . the amount and type of experiences that humans can have are inherently limited . things are hard for us to do , we have to struggle , our time is limited , and that makes what we achieve have meaning . entropy ensures that absolutely all of existences has a shelf life . there is no eternity in the physical world . attempting to claw and fight for another fleeting day rather than coming to peace with the nature of existence is by definition infantile .\n",
      "\n",
      "because `` meaning '' means something to me . i find that hard to believe while you have none , and think you can create none , and that you can see none , except for `` fleeting beauty now and then '' . i think you refuse to create meaning , perhaps as a habit , perhaps because of some deficit in your development where you failed to realize that meaning required agency to exist . you think meaning has to be handed to you , prefabricated ; but that is truly a `` false '' notion of meaning , a truly inauthentic kind of meaning . even the meaning we inherit is only a framework for our addition to it ; it dies , it falls fallow , if we do not cultivate it . your sense of meaning is sterile , and thus , meaning has abandoned you .\n",
      "\n",
      "so i finally finished the doctrine of awakening and found the resolution to the conflict between evolution and involution , that is to say the rejection of evolution in these teachings . the reality of the conflict arises from the false attribution to evolution of a qualitative character and from the relative relation between the material and immaterial worlds . if you think of evolution as moving from an inferior to a superior place then that 's a wrong interpretation , a progressivist one . when you think about it as just adaptive change it loses the qualitative point that creates the misconception . the other aspect is that to the doctrines in question any material world changes in terms of `` becoming '' are irrelevant , because they in reality still pertain to the material world and thus no true qualitative change occurs . so evolution becomes irrelevant to these teachings rather than something that is opposed in principle . so we may acknowledge evolution but only insofar as it does not claim progressive qualitative change which is the source of the conflict and so far as it is change that simply means just that , change from one state to another based in adaptive , selective principles then it is irrelevant . change of purely material adaptive character is irrelevant to the only substantial change recognized by the spiritual doctrines concerned only with change from material to the immaterial and regarding qualitative degeneration .\n",
      "\n",
      "freedom is really only an ideal that requires the context of a society to exist . outside a society there is no freedom because it is rooted in the context of a society . what you describe is simply free will , which exists outside societal context and exists universally . you will always have the ability to choose its simply a layer of consciousness . as long as your are aware of your surroundings and maintain a degree of autonomy you will have free will , and therefore will have the ability to choose and the decisions that follow irregardless of your quality or quantity of decisions to make ..\n",
      "\n",
      "perhaps this world was created by a higher entity for a good reason . perhaps `` lie '' is nothing but a negative judgement of life derived from our own inability to deal with such limitations . can we even imagine a life without limitations , least of all yearn for it ? that life would be indistinguishable from death . likewise , the honest human being you talk about is entirely dependent upon the existence of `` dishonesty '' to perceive himself as such . if he 's truly honest , then he 'd come to the realization that transcending the conditions which allow his honest self would be the annihilation of the self , and to will it is nihilism .\n",
      "\n",
      "the whole point of existance , even considering the `` big bang '' , is that there was an existance before time . one that human observation can not understand . in the relevance of something being `` eternal '' it means that the perception of time is nearly eternal . now in that understanding there is an idea that anything relative can happen within nearly infinite instances of spacetime . the multiverse theory helps substantiate such . so when time goes on for nearly all of existence then anything is feasible , mainly because there is so much information within spacetime . this is what makes me believe in intelligent design\n",
      "\n",
      "its not uncommon for trends or ideas to have a certain momentum to them . a sort of societal apathetic depression could have the same . the mouse population reached a critical mass where they had been exposed to something they 'd fundamentally never experience in nature . their group behavior was irreparably changed by this , and the group itself is a variable in the environment that others live around . a broken system begets broken individuals , and individuals beget other broken individuals until the point that they 're so broken they longer reproduce in any meaningful capacity .\n",
      "\n",
      "any political system must first and foremost ensure the survival , the continued physical existence , of the community it serves . after that comes ensuring the prosperity and liberty of this community in the best possible way . however , when i look at the situation in western countries today , i can not see that democracy always ensures our liberty or prosperity , and in many cases it functions so poorly that it threatens our very survival . perhaps in order to ensure our continued existence , we need to supplement democracy with other tools in our toolkit .\n",
      "\n",
      "from the beginning , since the day man first dared to exert his will as a living thinking creature there were certain aspects discovered to exist within the natural order of things , contrary forces as it were by which man , as the universe itself , is entirely self-regulating . it has been the misfortune of those wishing to cling to an orderly cosmos that such regulatory forces have been abandoned in the name of a common humanity , which is an altogether foolish assumption in that it 's based on a premise that is aligned against nature .\n",
      "\n",
      "a theory with regards to science and not vernacular language basically amounts to something that has been tested over and over and over and has produced the same results time and time again . it 's borderline fact , but we can almost never have any facts in science , because for whatever reason every x years even what we assume are the most fundamental principles of the world end up having a scenario where they do n't work . newton 's laws of motion for example have already seen cases where they do n't work or the law is too simplistic to fully detail a particular phenomenon .\n",
      "\n",
      "what ’ s more , the sense of coherence many of us maintain over our beliefs reflects both knowledge and emotion . being settled in what you believe feels good . ambivalence doesn ’ t . so to change someone ’ s mind , you also need to address their emotional attachment to what they believe . feeling even slight reservations about your current beliefs can set the stage for shifting more of your support toward an alternative point of view . yes , the human does n't like cognitive dissonance for the most part .\n",
      "\n",
      "------------------ SAMPLE OF TOPIC 3 DOCUMENTS ----------------------\n",
      "so i wrote a response , but i lost it when i hit submit . guess i took too long and the anti-ddos shit just refreshed the page . anyways , here is some of my main man . we think that if a western tradition could be rebuilt it would be bound to take on a religious form in the strictest sense of this word , and that this form could only be christian ; for on the one hand the other possible forms have been too long foreign to the western mentality , and on the other it is only in christianity—and we can say still more definitely in catholicism—that such remnants of a traditional spirit as still exist in the west are to be found . every ‘ traditionalist ’ venture that ignores this fact is without foundation and therefore inevitably doomed to failure ; it is self-evident that one can build only upon something that has a real existence , and that where there is lack of continuity , any reconstruction must be artificial and can not endure . ~ rene guenon , the crisis of the modern world\n",
      "\n",
      "that 's exactly what physicists do that 's why physics is always developing tfw . you 're so wrong you 're right\n",
      "\n",
      "i agree its trivial but what would you expect in such an early stage of what could be a very important movement ? the goal of the ethnostate is bigger than any of us and would require years of co-operation and dedication unlike the shitposting normally associated with /pol/ . we need ideas anon\n",
      "\n",
      "compare the simple elegance of that meme to `` pokemon go to the polls xdd ''\n",
      "\n",
      "laughted way harder than i should have . fuck this world\n",
      "\n",
      "[ ] denial [ ] anger [ ] bargaining [ ] depression [ x ] acceptance accept that things wo n't go back the way they were . genocide and mass extinction through war , famine and sickness will be the norm for a while . what emerges from those time will not be the same . several historic cities ill be utterly destroyed and our cultural heritage lost forever . maybe it will be london , rome , paris , maybe most of the european jewels . imagine the 3d world hordes in the louvre or the national gallery , do you think they care ? they hate us for what we are , our art offends them because it 's the manifestation of all we are and they ca n't be . accept that most people you see when you walk around in the street are already dead , not now but soon , and that you are probably dead too . pray that god gives you a meaningful death .\n",
      "\n",
      "he is an anti white commie . his dream society is brazil without the white ruling class keeping it somewhat functioning . his dream state would collapse completely in 5 years\n",
      "\n",
      "they still exist and can be chosen as a reproductive partner if they are being hunted then they exist in smaller numbers and can therefore only be chosen more rarely as reproductive partners . we have hunted entire species into extinction . hunting a certain subpopulation of a species ( e.g . long-tusked elephants ) into extinction is by no means out of question . it is you that has no idea how evolution works .\n",
      "\n",
      "i can not do nothing with them because i do n't live there , but i bet my hungarian brothers would live better life in a land where they can make what decisions they want concerning their future , still this autonomous region would be inside slovak borders within eussr there are no borders left . anyway i give you argument same way : my slovakian brothers within magyar autonomy in sotuh slovakia , would live worse life in a land where they can not make decisions they want concerning their future . would you exchange better life of 0,5 milion white people for better life for 1 millon other whites . because life conditions for slovaks would became worse , even they are in majority in southern slovakia .\n",
      "\n",
      "same one as yesterday , i recognise the lack of wit and creativity\n",
      "\n",
      "it 's the god of storms coming back to power , hada . has nothing to do with climate change . the gods themselves are responsible .\n",
      "\n",
      "yeah , but that 's like tots not ethical , my man . why seriously , as long as we have voting power the elites ca n't just dispose of us in the developed world . being this new\n",
      "\n",
      "no i was n't accusing you of anything specifically , i was using 'you ' in the abstract general sense\n",
      "\n",
      "why do you think that everybody is racist ? i do n't think everyone is racist ; just anti 's . dog breeds normally have specific abilities . humans do not . i think you mean , human races do not . i beg to differ with you here , and this is a fundamental thesis here the terry tremaine forum . different races do have different abilities .\n",
      "\n",
      "life begins at conception life begins at erection .\n",
      "\n",
      "i believe that if we can get enough people to be ultra conservative , homesteading , independent , and willing to help society ( like what is referenced in 'the law ' by bastiat ) . we could conceivably create a society modeling early america with little to no state , wilh thing like charity health care and other things be left to the will of the community and funded by them as well , or though use of private insurance and private courts , in order to have communities of small city states that not only maintain homogeneity and a set moral code like only traditional small communities can . city states are a historically proven method of doing this .\n",
      "\n",
      "neo-nationalist makes some great points about the u.s . i would add that people of our mindset should attend college and serve as foils to the liberal culture there . i 've had reasonable success across different classes , in many cases fighting off conservatives and leftists simultaneously . the trick is to remain confident and not be afraid of exaggerating to win ( seeing as the leftists will do this regardless of your tactics ) . also , given the way america is so spread out and rural , it would not hurt to have activists established in proper careers which can support them and possibly a movement in more isolated regions . i sincerely doubt nationalism/fascism is going to have its greatest strength in american cities unless the police forces overwhelmingly embrace it .\n",
      "\n",
      "they are , but a false image persists of the catholics somehow being better off .\n",
      "\n",
      "they 're mad because they have no future . and desperately trying to drag the whole world into their own degeneracy and desperation . metal illness .\n",
      "\n",
      "this . you work to better yourself in order to better your nation . muh individualism is the narcisstic cancer eating away the heart of the west .\n",
      "\n",
      "************* TOPIC 24 *************************\n",
      "like dont got yes just na im looks guys sure\n",
      "\n",
      "------------------ TOP TOPIC 24 DOCUMENTS ----------------------\n",
      "desu desu desu desu desu desu desu desu desu desu desu desu desu desu desu desu desu desu desu desu desu desu desu desu desu desu desu desu desu desu desu desu desu desu desu desu desu desu desu desu desu desu desu desu desu desu desu desu desu desu desu desu desu desu desu desu desu desu desu desu desu desu desu desu desu desu desu desu desu desu desu desu desu desu desu desu desu desu desu desu desu desu desu desu desu desu desu desu desu desu desu desu desu desu desu desu desu desu desu desu desu desu desu desu desu desu desu desu desu desu desu desu desu desu desu desu desu desu desu desu desu desu desu desu desu desu desu desu desu desu desu desu desu desu desu desu desu desu desu desu desu desu desu desu desu desu desu desu desu desu desu desu desu desu desu desu desu desu desu desu desu desu desu desu desu desu desu desu desu desu desu desu desu desu desu desu desu desu desu desu desu desu desu desu desu desu desu desu desu desu desu desu desu desu desu desu desu desu desu desu desu desu desu desu desu desu desu desu desu desu desu desu desu desu desu desu desu desu desu desu desu desu desu desu desu desu desu desu desu desu desu desu desu desu desu desu desu desu desu desu desu desu desu desu desu desu desu desu desu desu desu desu desu desu desu desu desu desu desu desu desu desu desu desu desu desu desu desu desu desu desu desu desu desu desu desu desu desu desu desu desu desu desu desu desu desu desu desu desu desu desu desu desu desu desu desu desu desu desu desu desu desu desu desu desu desu desu desu desu desu desu desu desu desu desu desu desu desu desu desu desu desu desu desu desu desu desu desu desu desu desu desu desu desu desu desu desu desu desu desu desu desu desu desu desu desu desu desu desu desu desu desu desu desu desu desu desu desu desu desu desu desu desu desu desu desu desu desu desu desu desu desu desu desu desu desu desu desu desu desu desu desu desu desu desu desu desu desu desu desu desu desu desu desu desu desu desu desu desu desu\n",
      "\n",
      "desu desu desu desu desu desu desu desu desu desu desu desu desu desu desu desu desu desu desu desu desu desu desu desu desu desu desu desu desu desu desu desu desu desu desu desu desu desu desu desu desu desu desu desu desu desu desu desu desu desu desu desu desu desu desu desu desu desu desu desu desu desu desu desu desu desu desu desu desu desu desu desu desu desu desu desu desu desu desu desu desu desu desu desu desu desu desu desu desu desu desu desu desu desu desu desu desu desu desu desu desu desu desu desu desu desu desu desu desu desu desu desu desu desu desu desu desu desu desu desu desu desu desu desu desu desu desu desu desu desu desu desu desu desu desu desu desu desu desu desu desu desu desu desu desu desu desu desu desu desu desu desu desu desu desu desu desu desu desu desu desu desu desu desu desu desu desu desu desu desu desu desu desu desu desu desu desu desu desu desu desu desu desu desu desu desu desu desu desu desu desu desu desu desu desu desu desu desu desu desu desu desu desu desu desu desu desu desu desu desu desu desu desu desu desu desu desu desu desu desu desu desu desu desu desu desu desu desu desu desu desu desu desu desu desu desu desu desu desu desu desu desu desu desu desu desu desu desu desu desu desu desu desu desu desu desu desu desu desu desu desu desu desu desu desu desu desu desu desu desu desu desu desu desu desu desu desu desu desu desu desu desu desu desu desu desu desu desu desu desu desu desu desu desu desu desu desu desu desu desu desu desu desu desu desu desu desu desu desu desu desu desu desu desu desu desu desu desu desu desu desu desu desu desu desu desu desu desu desu desu desu desu desu desu desu desu desu desu desu desu desu desu desu desu desu desu desu desu desu desu desu desu desu desu desu desu desu desu desu desu desu desu desu desu desu desu desu desu desu desu desu desu desu desu desu desu desu desu desu desu desu desu desu desu desu desu desu desu desu desu desu desu desu desu desu desu desu desu desu\n",
      "\n",
      "desu desu desu desu desu desu desu desu desu desu desu desu desu desu desu desu desu desu desu desu desu desu desu desu desu desu desu desu desu desu desu desu desu desu desu desu desu desu desu desu desu desu desu desu desu desu desu desu desu desu desu desu desu desu desu desu desu desu desu desu desu desu desu desu desu desu desu desu desu desu desu desu desu desu desu desu desu desu desu desu desu desu desu desu desu desu desu desu desu desu desu desu desu desu desu desu desu desu desu desu desu desu desu desu desu desu desu desu desu desu desu desu desu desu desu desu desu desu desu desu desu desu desu desu desu desu desu desu desu desu desu desu desu desu desu desu desu desu desu desu desu desu desu desu desu desu desu desu desu desu desu desu desu desu desu desu desu desu desu desu desu desu desu desu desu desu desu desu desu desu desu desu desu desu desu desu desu desu desu desu desu desu desu desu desu desu desu desu desu desu desu desu desu desu desu desu desu desu desu desu desu desu desu desu desu desu desu desu desu desu desu desu desu desu desu desu desu desu desu desu desu desu desu desu desu desu desu desu desu desu desu desu desu desu desu desu desu desu desu desu desu desu desu desu desu desu desu desu desu desu desu desu desu desu desu desu desu desu desu desu desu desu desu desu desu desu desu desu desu desu desu desu desu desu desu desu desu desu desu desu desu desu desu desu desu desu desu desu desu desu desu desu desu desu desu desu desu desu desu desu desu desu desu desu desu desu desu desu desu desu desu desu desu desu desu desu desu desu desu desu desu desu desu desu desu desu desu desu desu desu desu desu desu desu desu desu desu desu desu desu desu desu desu desu desu desu desu desu desu desu desu desu desu desu desu desu desu desu desu desu desu desu desu desu desu desu desu desu desu desu desu desu desu desu desu desu desu desu desu desu desu desu desu desu desu desu desu desu desu desu desu desu desu desu desu desu desu desu\n",
      "\n",
      "desu desu desu desu desu desu desu desu desu desu desu desu desu desu desu desu desu desu desu desu desu desu desu desu desu desu desu desu desu desu desu desu desu desu desu desu desu desu desu desu desu desu desu desu desu desu desu desu desu desu desu desu desu desu desu desu desu desu desu desu desu desu desu desu desu desu desu desu desu desu desu desu desu desu desu desu desu desu desu desu desu desu desu desu desu desu desu desu desu desu desu desu desu desu desu desu desu desu desu desu desu desu desu desu desu desu desu desu desu desu desu desu desu desu desu desu desu desu desu desu desu desu desu desu desu desu desu desu desu desu desu desu desu desu desu desu desu desu desu desu desu desu desu desu desu desu desu desu desu desu desu desu desu desu desu desu desu desu desu desu desu desu desu desu desu desu desu desu desu desu desu desu desu desu desu desu desu desu desu desu desu desu desu desu desu desu desu desu desu desu desu desu desu desu desu desu desu desu desu desu desu desu desu desu desu desu desu desu desu desu desu desu desu desu desu desu desu desu desu desu desu desu desu desu desu desu desu desu desu desu desu desu desu desu desu desu desu desu desu desu desu desu desu desu desu desu desu desu desu desu desu desu desu desu desu desu desu desu desu desu desu desu desu desu desu desu desu desu desu desu desu desu desu desu desu desu desu desu desu desu desu desu desu desu desu desu desu desu desu desu desu desu desu desu desu desu desu desu desu desu desu desu desu desu desu desu desu desu desu desu desu desu desu desu desu desu desu desu desu desu desu desu desu desu desu desu desu desu desu desu desu desu desu desu desu desu desu desu desu desu desu desu desu desu desu desu desu desu desu desu desu desu desu desu desu desu desu desu desu desu desu desu desu desu desu desu desu desu desu desu desu desu desu desu desu desu desu desu desu desu desu desu desu desu desu desu desu desu desu desu desu desu desu desu desu desu desu\n",
      "\n",
      "desu desu desu desu desu desu desu desu desu desu desu desu desu desu desu desu desu desu desu desu desu desu desu desu desu desu desu desu desu desu desu desu desu desu desu desu desu desu desu desu desu desu desu desu desu desu desu desu desu desu desu desu desu desu desu desu desu desu desu desu desu desu desu desu desu desu desu desu desu desu desu desu desu desu desu desu desu desu desu desu desu desu desu desu desu desu desu desu desu desu desu desu desu desu desu desu desu desu desu desu desu desu desu desu desu desu desu desu desu desu desu desu desu desu desu desu desu desu desu desu desu desu desu desu desu desu desu desu desu desu desu desu desu desu desu desu desu desu desu desu desu desu desu desu desu desu desu desu desu desu desu desu desu desu desu desu desu desu desu desu desu desu desu desu desu desu desu desu desu desu desu desu desu desu desu desu desu desu desu desu desu desu desu desu desu desu desu desu desu desu desu desu desu desu desu desu desu desu desu desu desu desu desu desu desu desu desu desu desu desu desu desu desu desu desu desu desu desu desu desu desu desu desu desu desu desu desu desu desu desu desu desu desu desu desu desu desu desu desu desu desu desu desu desu desu desu desu desu desu desu desu desu desu desu desu desu desu desu\n",
      "\n",
      "keep those nuts coming lads keep those nuts coming lads keep those nuts coming lads keep those nuts coming lads keep those nuts coming lads keep those nuts coming lads keep those nuts coming lads keep those nuts coming lads keep those nuts coming lads keep those nuts coming lads keep those nuts coming lads keep those nuts coming lads keep those nuts coming lads keep those nuts coming lads keep those nuts coming lads keep those nuts coming lads keep those nuts coming lads keep those nuts coming lads keep those nuts coming lads keep those nuts coming lads keep those nuts coming lads keep those nuts coming lads keep those nuts coming lads keep those nuts coming lads keep those nuts coming lads keep those nuts coming lads keep those nuts coming lads keep those nuts coming lads keep those nuts coming lads keep those nuts coming lads keep those nuts coming lads keep those nuts coming lads keep those nuts coming lads keep those nuts coming lads keep those nuts coming lads keep those nuts coming lads keep those nuts coming lads keep those nuts coming lads keep those nuts coming lads keep those nuts coming lads keep those nuts coming lads keep those nuts coming lads keep those nuts coming lads keep those nuts coming lads keep those nuts coming lads keep those nuts coming lads keep those nuts coming lads keep those nuts coming lads keep those nuts coming lads keep those nuts coming lads keep those nuts coming lads keep those nuts coming lads keep those nuts coming lads keep those nuts coming lads keep those nuts coming lads keep those nuts coming lads keep those nuts coming lads keep those nuts coming lads keep those nuts coming lads keep those nuts coming lads keep those nuts coming lads keep those nuts coming lads keep those nuts coming lads keep those nuts coming lads keep those nuts coming lads keep those nuts coming lads keep those nuts coming lads keep those nuts coming lads keep those nuts coming lads keep those nuts coming lads keep those nuts coming lads\n",
      "\n",
      "i dont suffer from autism . autism is my strength not a disorde i dont suffer from autism . autism is my strength not a disorder i dont suffer from autism . autism is my strength not a disorder i dont suffer from autism . autism is my strength not a disorder i dont suffer from autism . autism is my strength not a disorder i dont suffer from autism . autism is my strength not a disorder i dont suffer from autism . autism is my strength not a disorder i dont suffer from autism . autism is my strength not a disorder i dont suffer from autism . autism is my strength not a disorder i dont suffer from autism . autism is my strength not a disorder i dont suffer from autism . autism is my strength not a disorder i dont suffer from autism . autism is my strength not a disorder i dont suffer from autism . autism is my strength not a disorder i dont suffer from autism . autism is my strength not a disorder i dont suffer from autism . autism is my strength not a disorder i dont suffer from autism . autism is my strength not a disorder i dont suffer from autism . autism is my strength not a disorder i dont suffer from autism . autism is my strength not a disorder i dont suffer from autism . autism is my strength not a disorder i dont suffer from autism . autism is my strength not a disorder i dont suffer from autism . autism is my strength not a disorder i dont suffer from autism . autism is my strength not a disorder i dont suffer from autism . autism is my strength not a disorder i dont suffer from autism . autism is my strength not a disorder i dont suffer from autism . autism is my strength not a disorder i dont suffer from autism . autism is my strength not a disorder i dont suffer from autism . autism is my strength not a disorder i dont suffer from autism . autism is my strength not a disorder i dont suffer from autism . autism is my strength not a disorder i dont suffer from autism . autism is my strength not a disorder i dont suffer from autism . autism is my strength not a di\n",
      "\n",
      "i dont suffer from autism . autism is my strength not a disorder i dont suffer from autism . autism is my strength not a disorder i dont suffer from autism . autism is my strength not a disorder i dont suffer from autism . autism is my strength not a disorder i dont suffer from autism . autism is my strength not a disorder i dont suffer from autism . autism is my strength not a disorder i dont suffer from autism . autism is my strength not a disorder i dont suffer from autism . autism is my strength not a disorder i dont suffer from autism . autism is my strength not a disorder i dont suffer from autism . autism is my strength not a disorder i dont suffer from autism . autism is my strength not a disorder i dont suffer from autism . autism is my strength not a disorder i dont suffer from autism . autism is my strength not a disorder i dont suffer from autism . autism is my strength not a disorder i dont suffer from autism . autism is my strength not a disorder i dont suffer from autism . autism is my strength not a disorder i dont suffer from autism . autism is my strength not a disorder i dont suffer from autism . autism is my strength not a disorder i dont suffer from autism . autism is my strength not a disorder i dont suffer from autism . autism is my strength not a disorder i dont suffer from autism . autism is my strength not a disorder i dont suffer from autism . autism is my strength not a disorder i dont suffer from autism . autism is my strength not a disorder i dont suffer from autism . autism is my strength not a disorder i dont suffer from autism . autism is my strength not a disorder i dont suffer from autism . autism is my strength not a disorder i dont suffer from autism . autism is my strength not a disorder i dont suffer from autism . autism is my strength not a disorder i dont suffer from autism . autism is my strength not a disorder i dont suffer from autism . autism is my strength not a disorder i dont suffer from autism . autism is my strength not a di\n",
      "\n",
      "i dont suffer from autism . autism is my strength not a disorder i dont suffer from autism . autism is my strength not a disorder i dont suffer from autism . autism is my strength not a disorder i dont suffer from autism . autism is my strength not a disorder i dont suffer from autism . autism is my strength not a disorder i dont suffer from autism . autism is my strength not a disorder i dont suffer from autism . autism is my strength not a disorder i dont suffer from autism . autism is my strength not a disorder i dont suffer from autism . autism is my strength not a disorder i dont suffer from autism . autism is my strength not a disorder i dont suffer from autism . autism is my strength not a disorder i dont suffer from autism . autism is my strength not a disorder i dont suffer from autism . autism is my strength not a disorder i dont suffer from autism . autism is my strength not a disorder i dont suffer from autism . autism is my strength not a disorder i dont suffer from autism . autism is my strength not a disorder i dont suffer from autism . autism is my strength not a disorder i dont suffer from autism . autism is my strength not a disorder i dont suffer from autism . autism is my strength not a disorder i dont suffer from autism . autism is my strength not a disorder i dont suffer from autism . autism is my strength not a disorder i dont suffer from autism . autism is my strength not a disorder i dont suffer from autism . autism is my strength not a disorder i dont suffer from autism . autism is my strength not a disorder i dont suffer from autism . autism is my strength not a disorder i dont suffer from autism . autism is my strength not a disorder i dont suffer from autism . autism is my strength not a disorder i dont suffer from autism . autism is my strength not a disorder i dont suffer from autism . autism is my strength not a disorder i dont suffer from autism . autism is my strength not a disorder i dont suffer from autism . autism is my strength not a di\n",
      "\n",
      "i dont suffer from autism . autism is my strength not a disorder i dont suffer from autism . autism is my strength not a disorder i dont suffer from autism . autism is my strength not a disorder i dont suffer from autism . autism is my strength not a disorder i dont suffer from autism . autism is my strength not a disorder i dont suffer from autism . autism is my strength not a disorder i dont suffer from autism . autism is my strength not a disorder i dont suffer from autism . autism is my strength not a disorder i dont suffer from autism . autism is my strength not a disorder i dont suffer from autism . autism is my strength not a disorder i dont suffer from autism . autism is my strength not a disorder i dont suffer from autism . autism is my strength not a disorder i dont suffer from autism . autism is my strength not a disorder i dont suffer from autism . autism is my strength not a disorder i dont suffer from autism . autism is my strength not a disorder i dont suffer from autism . autism is my strength not a disorder i dont suffer from autism . autism is my strength not a disorder i dont suffer from autism . autism is my strength not a disorder i dont suffer from autism . autism is my strength not a disorder i dont suffer from autism . autism is my strength not a disorder i dont suffer from autism . autism is my strength not a disorder i dont suffer from autism . autism is my strength not a disorder i dont suffer from autism . autism is my strength not a disorder i dont suffer from autism . autism is my strength not a disorder i dont suffer from autism . autism is my strength not a disorder i dont suffer from autism . autism is my strength not a disorder i dont suffer from autism . autism is my strength not a disorder i dont suffer from autism . autism is my strength not a disorder i dont suffer from autism . autism is my strength not a disorder i dont suffer from autism . autism is my strength not a disorder i dont suffer from autism . autism is my strength not a di\n",
      "\n",
      "i dont suffer from autism . autism is my strength not a disorder i dont suffer from autism . autism is my strength not a disorder i dont suffer from autism . autism is my strength not a disorder i dont suffer from autism . autism is my strength not a disorder i dont suffer from autism . autism is my strength not a disorder i dont suffer from autism . autism is my strength not a disorder i dont suffer from autism . autism is my strength not a disorder i dont suffer from autism . autism is my strength not a disorder i dont suffer from autism . autism is my strength not a disorder i dont suffer from autism . autism is my strength not a disorder i dont suffer from autism . autism is my strength not a disorder i dont suffer from autism . autism is my strength not a disorder i dont suffer from autism . autism is my strength not a disorder i dont suffer from autism . autism is my strength not a disorder i dont suffer from autism . autism is my strength not a disorder i dont suffer from autism . autism is my strength not a disorder i dont suffer from autism . autism is my strength not a disorder i dont suffer from autism . autism is my strength not a disorder i dont suffer from autism . autism is my strength not a disorder i dont suffer from autism . autism is my strength not a disorder i dont suffer from autism . autism is my strength not a disorder i dont suffer from autism . autism is my strength not a disorder i dont suffer from autism . autism is my strength not a disorder i dont suffer from autism . autism is my strength not a disorder i dont suffer from autism . autism is my strength not a disorder i dont suffer from autism . autism is my strength not a disorder i dont suffer from autism . autism is my strength not a disorder i dont suffer from autism . autism is my strength not a disorder i dont suffer from autism . autism is my strength not a disorder i dont suffer from autism . autism is my strength not a disorder i dont suffer from autism . autism is my strengt\n",
      "\n",
      "i dont suffer from autism . autism is my strength not a disorder i dont suffer from autism . autism is my strength not a disorder i dont suffer from autism . autism is my strength not a disorder i dont suffer from autism . autism is my strength not a disorder i dont suffer from autism . autism is my strength not a disorder i dont suffer from autism . autism is my strength not a disorder i dont suffer from autism . autism is my strength not a disorder i dont suffer from autism . autism is my strength not a disorder i dont suffer from autism . autism is my strength not a disorder i dont suffer from autism . autism is my strength not a disorder i dont suffer from autism . autism is my strength not a disorder i dont suffer from autism . autism is my strength not a disorder i dont suffer from autism . autism is my strength not a disorder i dont suffer from autism . autism is my strength not a disorder i dont suffer from autism . autism is my strength not a disorder i dont suffer from autism . autism is my strength not a disorder i dont suffer from autism . autism is my strength not a disorder i dont suffer from autism . autism is my strength not a disorder i dont suffer from autism . autism is my strength not a disorder i dont suffer from autism . autism is my strength not a disorder i dont suffer from autism . autism is my strength not a disorder i dont suffer from autism . autism is my strength not a disorder i dont suffer from autism . autism is my strength not a disorder i dont suffer from autism . autism is my strength not a disorder i dont suffer from autism . autism is my strength not a disorder i dont suffer from autism . autism is my strength not a disorder i dont suffer from autism . autism is my strength not a disorder i dont suffer from autism . autism is my strength not a disorder i dont suffer from autism . autism is my strength not a disorder i dont suffer from autism . autism is my strength not a disorder i dont suffer from autism . autism is my stre\n",
      "\n",
      "i dont suffer from autism . autism is my strength not a disorder i dont suffer from autism . autism is my strength not a disorder i dont suffer from autism . autism is my strength not a disorder i dont suffer from autism . autism is my strength not a disorder i dont suffer from autism . autism is my strength not a disorder i dont suffer from autism . autism is my strength not a disorder i dont suffer from autism . autism is my strength not a disorder i dont suffer from autism . autism is my strength not a disorder i dont suffer from autism . autism is my strength not a disorder i dont suffer from autism . autism is my strength not a disorder i dont suffer from autism . autism is my strength not a disorder i dont suffer from autism . autism is my strength not a disorder i dont suffer from autism . autism is my strength not a disorder i dont suffer from autism . autism is my strength not a disorder i dont suffer from autism . autism is my strength not a disorder i dont suffer from autism . autism is my strength not a disorder i dont suffer from autism . autism is my strength not a disorder i dont suffer from autism . autism is my strength not a disorder i dont suffer from autism . autism is my strength not a disorder i dont suffer from autism . autism is my strength not a disorder i dont suffer from autism . autism is my strength not a disorder i dont suffer from autism . autism is my strength not a disorder i dont suffer from autism . autism is my strength not a disorder i dont suffer from autism . autism is my strength not a disorder i dont suffer from autism . autism is my strength not a disorder i dont suffer from autism . autism is my strength not a disorder i dont suffer from autism . autism is my strength not a disorder i dont suffer from autism . autism is my strength not a disorder i dont suffer from autism . autism is my strength not a disorder i dont suffer from autism . autism is my strength not a disorder i dont suffer from autism . autism is my streng\n",
      "\n",
      "i dont suffer from autism . autism is my strength not a disorder i dont suffer from autism . autism is my strength not a disorder i dont suffer from autism . autism is my strength not a disorder i dont suffer from autism . autism is my strength not a disorder i dont suffer from autism . autism is my strength not a disorder i dont suffer from autism . autism is my strength not a disorder i dont suffer from autism . autism is my strength not a disorder i dont suffer from autism . autism is my strength not a disorder i dont suffer from autism . autism is my strength not a disorder i dont suffer from autism . autism is my strength not a disorder i dont suffer from autism . autism is my strength not a disorder i dont suffer from autism . autism is my strength not a disorder i dont suffer from autism . autism is my strength not a disorder i dont suffer from autism . autism is my strength not a disorder i dont suffer from autism . autism is my strength not a disorder i dont suffer from autism . autism is my strength not a disorder i dont suffer from autism . autism is my strength not a disorder i dont suffer from autism . autism is my strength not a disorder i dont suffer from autism . autism is my strength not a disorder i dont suffer from autism . autism is my strength not a disorder i dont suffer from autism . autism is my strength not a disorder i dont suffer from autism . autism is my strength not a disorder i dont suffer from autism . autism is my strength not a disorder i dont suffer from autism . autism is my strength not a disorder i dont suffer from autism . autism is my strength not a disorder i dont suffer from autism . autism is my strength not a disorder i dont suffer from autism . autism is my strength not a disorder i dont suffer from autism . autism is my strength not a disorder i dont suffer from autism . autism is my strength not a disorder i dont suffer from autism . autism is my strength not a disorder i dont suffer from autism . autism is my strength n\n",
      "\n",
      "i dont suffer from autism . autism is my strength not a disorder i dont suffer from autism . autism is my strength not a disorder i dont suffer from autism . autism is my strength not a disorder i dont suffer from autism . autism is my strength not a disorder i dont suffer from autism . autism is my strength not a disorder i dont suffer from autism . autism is my strength not a disorder i dont suffer from autism . autism is my strength not a disorder i dont suffer from autism . autism is my strength not a disorder i dont suffer from autism . autism is my strength not a disorder i dont suffer from autism . autism is my strength not a disorder i dont suffer from autism . autism is my strength not a disorder i dont suffer from autism . autism is my strength not a disorder i dont suffer from autism . autism is my strength not a disorder i dont suffer from autism . autism is my strength not a disorder i dont suffer from autism . autism is my strength not a disorder i dont suffer from autism . autism is my strength not a disorder i dont suffer from autism . autism is my strength not a disorder i dont suffer from autism . autism is my strength not a disorder i dont suffer from autism . autism is my strength not a disorder i dont suffer from autism . autism is my strength not a disorder i dont suffer from autism . autism is my strength not a disorder i dont suffer from autism . autism is my strength not a disorder i dont suffer from autism . autism is my strength not a disorder i dont suffer from autism . autism is my strength not a disorder i dont suffer from autism . autism is my strength not a disorder i dont suffer from autism . autism is my strength not a disorder i dont suffer from autism . autism is my strength not a disorder i dont suffer from autism . autism is my strength not a disorder i dont suffer from autism . autism is my strength not a disorder i dont suffer from autism . autism is my strength not a disorder i dont suffer from autism . autism is my strength\n",
      "\n",
      "i dont suffer from autism . autism is my strength not a disorder i dont suffer from autism . autism is my strength not a disorder i dont suffer from autism . autism is my strength not a disorder i dont suffer from autism . autism is my strength not a disorder i dont suffer from autism . autism is my strength not a disorder i dont suffer from autism . autism is my strength not a disorder i dont suffer from autism . autism is my strength not a disorder i dont suffer from autism . autism is my strength not a disorder i dont suffer from autism . autism is my strength not a disorder i dont suffer from autism . autism is my strength not a disorder i dont suffer from autism . autism is my strength not a disorder i dont suffer from autism . autism is my strength not a disorder i dont suffer from autism . autism is my strength not a disorder i dont suffer from autism . autism is my strength not a disorder i dont suffer from autism . autism is my strength not a disorder i dont suffer from autism . autism is my strength not a disorder i dont suffer from autism . autism is my strength not a disorder i dont suffer from autism . autism is my strength not a disorder i dont suffer from autism . autism is my strength not a disorder i dont suffer from autism . autism is my strength not a disorder i dont suffer from autism . autism is my strength not a disorder i dont suffer from autism . autism is my strength not a disorder i dont suffer from autism . autism is my strength not a disorder i dont suffer from autism . autism is my strength not a disorder i dont suffer from autism . autism is my strength not a disorder i dont suffer from autism . autism is my strength not a disorder i dont suffer from autism . autism is my strength not a disorder i dont suffer from autism . autism is my strength not a disorder i dont suffer from autism . autism is my strength not a disorder i dont suffer from autism . autism is my strength not a disorder i dont suffer from autism . autism is my strength not a\n",
      "\n",
      "i dont suffer from autism . autism is my strength not a disorder i dont suffer from autism . autism is my strength not a disorder i dont suffer from autism . autism is my strength not a disorder i dont suffer from autism . autism is my strength not a disorder i dont suffer from autism . autism is my strength not a disorder i dont suffer from autism . autism is my strength not a disorder i dont suffer from autism . autism is my strength not a disorder i dont suffer from autism . autism is my strength not a disorder i dont suffer from autism . autism is my strength not a disorder i dont suffer from autism . autism is my strength not a disorder i dont suffer from autism . autism is my strength not a disorder i dont suffer from autism . autism is my strength not a disorder i dont suffer from autism . autism is my strength not a disorder i dont suffer from autism . autism is my strength not a disorder i dont suffer from autism . autism is my strength not a disorder i dont suffer from autism . autism is my strength not a disorder i dont suffer from autism . autism is my strength not a disorder i dont suffer from autism . autism is my strength not a disorder i dont suffer from autism . autism is my strength not a disorder i dont suffer from autism . autism is my strength not a disorder i dont suffer from autism . autism is my strength not a disorder i dont suffer from autism . autism is my strength not a disorder i dont suffer from autism . autism is my strength not a disorder i dont suffer from autism . autism is my strength not a disorder i dont suffer from autism . autism is my strength not a disorder i dont suffer from autism . autism is my strength not a disorder i dont suffer from autism . autism is my strength not a disorder i dont suffer from autism . autism is my strength not a disorder i dont suffer from autism . autism is my strength not a disorder i dont suffer from autism . autism is my strength not a disorder i dont suffer from autism . autism is my s\n",
      "\n",
      "i dont suffer from autism . autism is my strength not a disorder i dont suffer from autism . autism is my strength not a disorder i dont suffer from autism . autism is my strength not a disorder i dont suffer from autism . autism is my strength not a disorder i dont suffer from autism . autism is my strength not a disorder i dont suffer from autism . autism is my strength not a disorder i dont suffer from autism . autism is my strength not a disorder i dont suffer from autism . autism is my strength not a disorder i dont suffer from autism . autism is my strength not a disorder i dont suffer from autism . autism is my strength not a disorder i dont suffer from autism . autism is my strength not a disorder i dont suffer from autism . autism is my strength not a disorder i dont suffer from autism . autism is my strength not a disorder i dont suffer from autism . autism is my strength not a disorder i dont suffer from autism . autism is my strength not a disorder i dont suffer from autism . autism is my strength not a disorder i dont suffer from autism . autism is my strength not a disorder i dont suffer from autism . autism is my strength not a disorder i dont suffer from autism . autism is my strength not a disorder i dont suffer from autism . autism is my strength not a disorder i dont suffer from autism . autism is my strength not a disorder i dont suffer from autism . autism is my strength not a disorder i dont suffer from autism . autism is my strength not a disorder i dont suffer from autism . autism is my strength not a disorder i dont suffer from autism . autism is my strength not a disorder i dont suffer from autism . autism is my strength not a disorder i dont suffer from autism . autism is my strength not a disorder i dont suffer from autism . autism is my strength not a disorder i dont suffer from autism . autism is my strength not a disorder i dont suffer from autism . autism is my strength not a disorder i dont suffer from autism . autism is my\n",
      "\n",
      "i dont suffer from autism . autism is my strength not a disorder i dont suffer from autism . autism is my strength not a disorder i dont suffer from autism . autism is my strength not a disorder i dont suffer from autism . autism is my strength not a disorder i dont suffer from autism . autism is my strength not a disorder i dont suffer from autism . autism is my strength not a disorder i dont suffer from autism . autism is my strength not a disorder i dont suffer from autism . autism is my strength not a disorder i dont suffer from autism . autism is my strength not a disorder i dont suffer from autism . autism is my strength not a disorder i dont suffer from autism . autism is my strength not a disorder i dont suffer from autism . autism is my strength not a disorder i dont suffer from autism . autism is my strength not a disorder i dont suffer from autism . autism is my strength not a disorder i dont suffer from autism . autism is my strength not a disorder i dont suffer from autism . autism is my strength not a disorder i dont suffer from autism . autism is my strength not a disorder i dont suffer from autism . autism is my strength not a disorder i dont suffer from autism . autism is my strength not a disorder i dont suffer from autism . autism is my strength not a disorder i dont suffer from autism . autism is my strength not a disorder i dont suffer from autism . autism is my strength not a disorder i dont suffer from autism . autism is my strength not a disorder i dont suffer from autism . autism is my strength not a disorder i dont suffer from autism . autism is my strength not a disorder i dont suffer from autism . autism is my strength not a disorder i dont suffer from autism . autism is my strength not a disorder i dont suffer from autism . autism is my strength not a disorder i dont suffer from autism . autism is my strength not a disorder i dont suffer from autism . autism is my strength not a disorder i dont suffer from autism . autism is\n",
      "\n",
      "i dont suffer from autism . autism is my strength not a disorder i dont suffer from autism . autism is my strength not a disorder i dont suffer from autism . autism is my strength not a disorder i dont suffer from autism . autism is my strength not a disorder i dont suffer from autism . autism is my strength not a disorder i dont suffer from autism . autism is my strength not a disorder i dont suffer from autism . autism is my strength not a disorder i dont suffer from autism . autism is my strength not a disorder i dont suffer from autism . autism is my strength not a disorder i dont suffer from autism . autism is my strength not a disorder i dont suffer from autism . autism is my strength not a disorder i dont suffer from autism . autism is my strength not a disorder i dont suffer from autism . autism is my strength not a disorder i dont suffer from autism . autism is my strength not a disorder i dont suffer from autism . autism is my strength not a disorder i dont suffer from autism . autism is my strength not a disorder i dont suffer from autism . autism is my strength not a disorder i dont suffer from autism . autism is my strength not a disorder i dont suffer from autism . autism is my strength not a disorder i dont suffer from autism . autism is my strength not a disorder i dont suffer from autism . autism is my strength not a disorder i dont suffer from autism . autism is my strength not a disorder i dont suffer from autism . autism is my strength not a disorder i dont suffer from autism . autism is my strength not a disorder i dont suffer from autism . autism is my strength not a disorder i dont suffer from autism . autism is my strength not a disorder i dont suffer from autism . autism is my strength not a disorder i dont suffer from autism . autism is my strength not a disorder i dont suffer from autism . autism is my strength not a disorder i dont suffer from autism . autism is my strength not a disorder i dont suffer from autism .\n",
      "\n",
      "------------------ SAMPLE OF TOPIC 24 DOCUMENTS ----------------------\n",
      "like this straight guy you mean ?\n",
      "\n",
      "looks like trout 's back on the menu , boys .\n",
      "\n",
      "because it 's freakin hilarious man .\n",
      "\n",
      "thanks for those links . am going to take a look over the next few days and see what i can find .\n",
      "\n",
      "i 'm sorry , it was some saudi prince who got it for `` fighting terrorism '' . source :\n",
      "\n",
      "i have heard of it . but dont know what it is\n",
      "\n",
      "no i actually dont lol how did the leaf get that picture of me ?\n",
      "\n",
      "sheeee-it nigger . fuckin five-star post .\n",
      "\n",
      "still cant address the evidence `` darkwood '' ? ( you tryin to tell us all something with that name of yours ? ) and i aint no fan of the anarchist ron paul . leave him to the occutards .\n",
      "\n",
      "woah , you really showed him there !\n",
      "\n",
      "thanks ! i 'm always looking .\n",
      "\n",
      "this image is actually pretty solid this\n",
      "\n",
      "duterte is a pretty cool guy , supports killing seasians\n",
      "\n",
      "britpol was pretty gud back before /pol/ harbour too . say hi if they ever come around again .\n",
      "\n",
      "something like this ? :\n",
      "\n",
      "must like mushrooms because he sounds like a fungi\n",
      "\n",
      "awesome ! thanks for the link . i know what i 'll be doing with my student loan ... lol !\n",
      "\n",
      "he opened up pretty fucking quick . prob fugged\n",
      "\n",
      "you wrote at least 20 paragraphs in total about how you do n't like iron march , and you are still here , but i guess we are the ones that got baited\n",
      "\n",
      "obama bombing libya again for some reason welp . obama is bombing libya again . not really sure why , exactly . cnn : ah , yeah , right . isis . they took over the country after their popular leader who had ruled from 1969 died in 2011 . sucks that guy died . i can ’ t even remember how he died . was it cancer ? pneumonia ? no , wait – i think he drowned in a swimming pool . oh no , wait , i remember – he was raped with a knife and lynched by us-backed terrorists as part of an operation headed by hillary clinton . anyway , everybody makes mistakes . other than this little thing , she was a great secretary of state . i can ’ t remember what she did , but i ’ m sure it was all great .\n",
      "\n",
      "************* TOPIC 7 *************************\n",
      "time work just good school like job ve got hard\n",
      "\n",
      "------------------ TOP TOPIC 7 DOCUMENTS ----------------------\n",
      "0x5e 0x1b 0x3c 0x9b 0x7c 0x9b 0xce 0x01 0x30 0x99 0x6d 0x9f 0x11 0x09 0xb9 0x94 0x9e 0xe9 0x43 0x9c 0xf6 0x00 0xdb 0xbd 0xdf 0xc6 0xb6 0x22 0xa5 0x67 0x55 0xfe 0x31 0xee 0xc3 0x1f 0x99 0xd2 0x09 0xfd 0x6b 0xac 0xb0 0xad 0x16 0x65 0xd4 0x1c 0x01 0xc2 0x10 0x11 0x2a 0x13 0xe1 0xa6 0xa1 0xd4 0x0d 0x79 0x4f 0xf2 0x8a 0x1d 0x08 0x0b 0x5f 0x0a 0x9e 0xc8 0x3d 0x28 0x14 0xa4 0xd3 0xc4 0x5a 0x2f 0x0b 0xd4 0x0a 0xbe 0xcf 0x62 0x27 0xf1 0x36 0x6b 0xb0 0xf2 0x8f 0x0c 0x9b 0x5e 0xa2 0xd2 0x0e 0x65 0x57 0x6d 0x38 0xcd 0xe3 0x38 0x99 0x61 0xda 0xbf 0x01 0xed 0xf6 0x4d 0x8e 0xe3 0xdb 0xe5 0x02 0x3a 0xff 0x36 0x54 0x86 0xb8 0x88 0x01 0x57 0x26 0xb8 0xfc 0x0d 0xbe 0xb7 0x7a 0x71 0xc4 0x87 0xae 0x8b 0x1f 0xc5 0xd0 0xe0 0x62 0xc5 0x02 0x1c 0x28 0xc8 0xad 0xcc 0x92 0x66 0x89 0xc0 0xb9 0x85 0xad 0x45 0xe3 0x5e 0xfe 0xd2 0x4d 0xcd 0xcf 0x6f 0x29 0xcf 0xcc 0xc3 0x05 0x6a 0x19 0x4b 0x4f 0xa6 0xc1 0x9c 0xd0 0xb5 0x82 0x6e 0x41 0x0d 0x91 0x2e 0x5f 0x23 0x73 0x6f 0x4f 0xfe 0x06 0xd3 0x41 0x3e 0xa2 0x53 0xbe 0xa6 0x20 0xdf 0xe7 0x2b 0x87 0x51 0x50 0x05 0x20 0x8f 0xfe 0x92 0xc8 0xbe 0x78 0x1e 0xe5 0x1d 0x96 0x22 0x90 0xaa 0xab 0xd2 0xaa 0x8f 0x5b 0xa7 0xc9 0x81 0x1b 0xdd 0x8f 0x14 0xeb 0x61 0xac 0x4d 0x8c 0x97 0x00 0x8a 0xc8 0xee 0xec 0xd6 0xc4 0xd7 0xb9 0xb3 0xd5 0x29 0xfe 0x31 0x1b 0x97\n",
      "\n",
      "˙pooƃ ƃuiɥʇǝɯos ƃuiop ǝq ʇsnɯ ǝɥ dɯnɹ┴ ɹǝʇɟɐ ƃuioƃ si ʇuǝɯɥsilqɐʇsǝ ʎʇɹɐdiun puɐ ǝɹnʇɔnɹʇs ɹǝʍod ǝɹiʇuǝ ǝɥʇ ɟi ʇnq 'ʇǝʎ ɹǝʇɹoddns dɯnɹ┴ lɐʇoʇ ɐ ʇou ɯ , i ¿ɹɐǝʎ ʇsɐd siɥʇ pǝssiɯ i ǝʌɐɥ ʇɐɥm ¿uo ƃuioƃ ʎlnɹʇ si ʇɐɥm ˙soɐɥɔ lɐʇoʇ ui ǝq oʇ sɯǝǝs ʇuǝɯɥsilqɐʇsǝ ǝɹiʇuǝ ǝɥʇ puɐ pooʍʎlloɥ ƃuidǝǝʍs ǝɹɐ suoiʇɐƃǝllɐ ɐiliɥdopǝd ǝɹoɯ ǝʞil sɯǝǝs ʇi ʇɐɥʇ oʇ ppɐ o┴ ˙ʎlǝʇǝldɯoɔ pǝɹɐǝddɐsip sɐɥ uoisnlloɔ puɐ , ,ƃuiʞɔɐɥ , , ɐissnɹ puɐ 'llɐ ʇɐ pǝʇɔǝɟɟɐ ɯǝǝs ʇ , usǝop dɯnɹ┴ 'ǝdoɔsoɹɔiɯ ǝɥʇ ɹǝpun ǝɹɐ sɐʇsǝpoԁ ǝɥ┴ 'oƃɐ ǝpɐɔǝp ɐ pǝʇʇiɯɯoɔ sǝɯiɹɔ ɹoɟ ǝɹɐ sǝƃɹɐɥɔ s , ʇɹoɟɐuɐw ˙ʎɹɹos ɯ , i ʇɐɥʇ ʎɐs oʇ ʇuɐʍ i ˙suoiuido ƃuiʇuǝssip ssiɯsip oʇ ǝɹnʇɐu lɐɹǝuǝƃ ʎɯ puɐ ' ( ┴ippǝɹ y˥˥∀iɔǝԁsǝ ) ɐipǝɯ lɐiɔos ʇǝuɹǝʇui ǝɥʇ 'ɐipǝɯ ɯɐǝɹʇsuiɐɯ ǝɥʇ ɥƃnoɹɥʇ uǝǝq ǝʌ , i pǝʇɐlndiuɐɯ ʍoɥ pǝzilɐǝɹ i ˙sǝʎǝ ʎɯ pǝuǝdo ʎɐpoʇ ʇnq ʇsǝuoɥ ǝq oʇ slliɥs ui ǝʌǝilǝq uǝʌǝ ʇ , upip i 'uoiʇɐɯɹoɟui ɟo ʍolɟ ǝǝɹɟ ǝɥʇ ɟo ǝsnɐɔǝq ǝʇisqǝʍ siɥʇ ǝʇɐɥ ǝq ʇɐɥʇ sɹǝʍod ǝɥʇ ʍou puɐʇsɹǝpun i ˙sɐʍ ʎlnɹʇ i ƃuoɹʍ ʍoɥ pǝzilɐǝɹ i ʎɐpo┴\n",
      "\n",
      "if it 's that old there would be little point in spending lots of money repairing something which would n't really be able to offer you much usability these days . the better option would be removal of the hard disk and putting it in to another laptop . you can also get converters cheaply which make a laptop size hd work inside a standard desktop hd size , to save you tinkering around with another laptop . it 's not always easy to swap hd 's and often requires some amount of dismantling whereas it 's much easier and safer to do with a desktop . robin\n",
      "\n",
      "i would say it depends on what you use it for , if you do gaming on it than an upgrade might be worth it . however there are several other things that might hamper your performance ( non dual core , ram speed etc ) . even if you get another gig of ram , than something else may be a bottleneck . some good suggestions . it does have a dual core intel processor . i think i 'll wait a bit , experiment with some ram freeing programs as well as turn off various programs on the tool bar and see if that gives me enough of a boost . i appreciate the help .\n",
      "\n",
      "i have vista ultimate 64 bit . i bought a laptop with it already installed and have had no problems at all . i am in charge of the computers with the company i work for and have gone through 95 , 98 , and xp with them . i find it amazing the praises for xp but those praises were no where to be found about xp before service pack 1 . the only problem i am having with my 64 bit vista is with rhapsody . some drivers are still not available for 64 bit vista but i do n't see how that can be microsofts fault . however , i do n't push my os like others do so i may not run across the same problems as some .\n",
      "\n",
      "i 'm in the first weekend of a 2-week vacation from work ( holiday shutdown ) and am going to do a lot of organizing , cleaning and painting around the house . any local errands i need to run , i will walk . walked 4.5 miles to and from a hardware store , yesterday . cold as hell and i fell a couple of times but it felt good . learned a lot about my locale that i would n't if driving . took my new gps along for fun .\n",
      "\n",
      "i think that slax is live only distro . it ca n't be installed , and it uses kde . i repeat , use what ever you want , but with xfce , lxde or openbox desktop environment . you have pclinuxos and ubuntu with all that graphic environments . personally i like xfce . if you are skilled enough , you can make custom linux on your computers using arch , debian or ubuntu minimal livecd and install what ever you want .\n",
      "\n",
      "512 mb of ram is not very much for todays computing needs . if you are running out of available ram , then your computer is forced to use the hard drive which will pull your machine down to a crawl . find out what type of ram you have , you can use cpu-z to find out all your system specs . ram for most older computers is dirt cheap , and really easy to install . just find out how many empty slots you have and buy matching ram to fill the slots .\n",
      "\n",
      "imppee foedy fy imppee foedy fy imppee foedy fy imppee foedy fy imppee foedy fy imppee foedy fy imppee foedy fy imppee foedy fy imppee foedy fy imppee foedy fy imppee foedy fy imppee foedy fy\n",
      "\n",
      "also check for modified bios upgrades . my motherboard takes up to 2x1gb of ddr-533 or ddr2-667 . back at the time i was using an old 512mb stick of ddr . i found a good deal on 4 gb ( 2x2gb ) of ddr2-800 . i found a modified bios that allowed up to 4 gb ram , so for the past 6 months i 'm running with 3.5 gb of ram . 32 bit system , what can i say\n",
      "\n",
      "-- -- -begin pgp public key block -- -- - mqenbfp+18obcadcbf7dwztqawfb1ti1y6z qeod/dimgsfrp4w8nqcaunmw78gng r3eahwcrsmek9nky+dwsaekgl3m8mclzewg c6oscyzau/qklf65ps7btzovfzulq l2qghix5f1bc8obpocfpzpdwpxfv2it2nlj tq4ztbcd6/r2cu3atlozil6w27jcg p8jhqb/jnwga4nzru/wtpcl+ztjdvss3xmx e2vaay/wi1wp8ssoqqyawpqu/b92b 2k3lfmpbxiesqhupaogvoojcoar+hzshvlk gunxdwxsddqhrx4umjdcp5/38ckv7 0fo9u7rqkp74+q8/v4ocyxfbanfeosf0ql3 nabebaag0cfroyw5hdg9ziqfobbmb caa4fiee3sm+mrqqiaxsmgy3erkq611qohq falp+18ocgy8fcwkibwigfqgjcgsc bbycawechgecf4aacgkqerkq611qohscbwg aq0knc2fnljwiwij86zfsqmceenpt xo+bwmqfdegxvh6rlwqbafkofu5lzmpx53e zp+rvixbtxmjozl37rma8wxf5ov/s pdk3lss9ev8+t00qrad6my0urxe+wd12mcv cf6z8bwnppinx/wx6m14r1tdzhwhq ub6ag1wyzlvfwkuvqmsajraxxzq4ddfkwze cbyhbbbjmfsm2vsj5gpe6msby0pj+ r4ya4ogtjgtg8o9kpggl41wtsuekywfft3x uhbmopgg90f8gp1nxipcxxfpsblj1 cewgh6nmkcv8q0+1d0drjspmkgiaxuhlri2 /hq8prdldr7am3dyn49apz7kbdqra ftfkaqgayscneynxov2yj592c9axudbdhzc pha3vktepxeogdnd2eypbvlhrve4+ yfs2xuvhzg45dmxxsh1bvzl1ta0xmqxtszw kwst+t4dsuubpzxq4v7pnb1bswudo ravgx7cp3vto1au90m6dowwqmpd37loe91q ykbrfxbghrm3fdkuoedjyycopoplb yrg6poup1vsw2o4ely8cexfggpkzpyx2a8o s6g/6mz8mgo+779bbejis3shpdhef dpntwnthwv3kgqksene59sjszy1em/kxx4c tib01yz2/uo2syrwzhb935unoexmo w1vp5zfwlvia3k6kkxexumjh+/qidqaraqa biqjsbbgbcaagfiee3sm+mrqqiaxs mgy3erkq611qohqfalp+18ocgy4bqakqerk q611qohtadcaegqeiab0wiqtxlcla heyvamceumghdwpl3th0jaucwn7xygakcra hdwpl3th0jn7ib/427z1f9pkrdn16\n",
      "\n",
      "i was looking into buying a new system with a pentium extreme processor . when i was reading about how i needed windows xp 64-bit edition , i found out that it does n't and ca n't use the drivers from the old windows xp . so it is possible that alot of my hardware wo n't work on it because it 's possible that drivers for those devices are n't availible . it 's very discouraging . just though everyone should know about this problem .\n",
      "\n",
      "⊂⊂⊂⊂⊂⊂⊂⊂⊂⊂⊂⊂ 9ㄥ 9ㄥ ɛㄥ ϛㄥ -- -- -- -- -- -- - 9ㄥ 9ㄥ ɛㄥ ϛㄥ -- -- -- -- -- -- -- -- ⊂⊂⊂⊂⊂⊂⊂⊂⊂⊂⊂⊂ 9ㄥ 9ㄥ ɛㄥ ϛㄥ -- -- -- -- -- -- - 9ㄥ 9ㄥ ɛㄥ ϛㄥ -- -- -- -- -- -- -- -- ⊂⊂⊂⊂⊂⊂⊂⊂⊂⊂⊂⊂ 9ㄥ 9ㄥ ɛㄥ ϛㄥ -- -- -- -- -- -- - 9ㄥ 9ㄥ ɛㄥ ϛㄥ -- -- -- -- -- -- -- -- ⊂⊂⊂⊂⊂⊂⊂⊂⊂⊂⊂⊂ 9ㄥ 9ㄥ ɛㄥ ϛㄥ -- -- -- -- -- -- - 9ㄥ 9ㄥ ɛㄥ ϛㄥ -- -- -- -- -- -- -- -- save\n",
      "\n",
      "i 'm about to buy a new hard disk . it 's a samsung , 120gb , ide . what i 'm worried about is that i 'm going to use it in an old pc ( 5 or 6 years old ) and i wonder if i could have any compatibility problems . as far as i know there should n't be any troubles because the hard disk is not sata ( the new ones ) but it 's ide like the 40gb hard disk i have now . does any of you have any suggestion about this ?\n",
      "\n",
      "i have been reconsidering a linux install . i have done so in the past and from what i saw , linux systems looked good . at the time i was running a nic that was not support by the distribution so i eventually abandoned the os . i have long since upgraded the nic and am considering giving linux another shot . i have mint on disk and it seems ok but i do n't really know that much about it . would you recommend it over ubuntu ?\n",
      "\n",
      "greetings . tig is a very fine welding skill to have . it 's major use in in aviation/ aerospace . i was certified for 15 years in stainless , inconel , aluminum and titanium . it was the highlife of my envolvment with the aviation field . good luck . i am wondering as to why he wants me to specialize in tig then . its autobody work , but i am sure most of the skills are interconnected ?\n",
      "\n",
      "check for daily deals . otherwise i highly recommend for refurbished computers . they come with full warranty ( often better than new ) and are heavily discounted . i got a $ 2,500 precision for $ 1,100 + a 3 year at-home warranty upgrade for free . i once complained that the screen was going dim and a tech replaced it at my house the next day .\n",
      "\n",
      "imppee foedy fy imppee foedy fy imppee foedy fy imppee foedy fy imppee foedy fy imppee foedy fy imppee foedy fy imppee foedy fy imppee foedy fy imppee foedy fy\n",
      "\n",
      "in the past i have always had bad luck with amd processor computers . every single one of them burned out between a year to two after purchase . has the quality of these amd computers ever improved ? they collect dust and after a while they get overheated . so , twice a year i clean my system with compressed air and with a very soft brush . ( although i 'm not 100 % sure if that 's the reason that it keeps working ) .\n",
      "\n",
      "i have switched over to pclinux os and think that is serves my needs quite well and seems to be better then xandros , which replaced mandriva which replaced windoze . pc linux os seemed to be the os that most that did n't like the deal that xandros made with m $ switched to . give it a shot ! the live cd is a great way of testing it first to see if you like it .\n",
      "\n",
      "------------------ SAMPLE OF TOPIC 7 DOCUMENTS ----------------------\n",
      "at my job i have to deal with a lot of birth dates . when questioning a black parent about their child 's birthday , 99.9 % of the time they 'll stare at me blankly , and go .... `` uhhh '' . and have no idea .\n",
      "\n",
      "if there was a way for the air to escape yes but since those tires probably have layers of sealent that air is going nowhere . with no possible way for anything to corrode out in the vacuum of space unless its radiation those sealants are not going anywhere .\n",
      "\n",
      "i 'm scotch/english/dutch but my wife is mainly german/scotch.i want to go to the netherlands but she wants to go finland.the move date is set for two yrs because that is when she finishes college.oh , i guess we americans have been a little annoying the last guarter century.and i 'm from texas so they will definately love me .. trust me when i tell you few white countries are as bad as america has gotten.we also want to go to europe because that 's where our heritage came from and so it is special to us and not just to get away from the multi-cesspool.although that is major factor .\n",
      "\n",
      "i already dip , hunt , shoot guns and drive a diesel truck . you already sound more redneck than me . t. southern ar\n",
      "\n",
      "a fence is not a wall how do you explain the prototypes ? you know , the ones he was supposed to tour for a year and only just got around to it . fixing a fence is not building a wall , and certainly not building the wall . the obama fencing does n't do jack shit to stop illegals .\n",
      "\n",
      "why paper survived ( as evidenced by news reporters on the day , who were baffled i might add ) yet cars miles from the twin towers themselves were turned to dust . paper did n't burn inside world trade center ! why ? 9-11 8uycs10k [ embed ] `` figure 66 ( h ) . is there something attractive about engine blocks ? why not gasoline fuel tanks ? ''\n",
      "\n",
      "check out https : //www.coursera.org/courses which are free , online courses offered by real universities from harvard and john hopkins university to state schools , art institutes and even some international universities . it has a great selection of categories , and almost every course offers some type of `` statement of accomplishment '' or certificate of completion that gets mailed to you upon completion which you can use on your resumes . i have attended , and completed , 4 different courses in the past year through coursera and can vouch for it . i 'm currently taking one of their comp sci . cryptography ii classes and am wrapping up the mathematics algorithms class princeton offered ( https : //www.coursera.org/course/aofa ) , and fuck it is hard for someone not that good at math . udacity is very similar https : //www.udacity.com/ but i have never taken one of their courses so i can not say anything about it . if you do n't want actual courses and class work , and you simply want recorded lectures , videos , practice tests , etc . than m.i.t . open courseware may be of interest : http : //ocw.mit.edu/index.htm standford offers a similar option with videos through venture lab . everyone should be taking advantage of these free classes and courses , especially those which you get certificates for . i ca n't see what the reason would be not to take 1 or 2 besides it not being offered in your country . most of the classes , probably over half , are `` work at your own pace '' . it 's a free and awesome way to better yourself muh niggas .\n",
      "\n",
      "steel beams which could have been used to prove nukes/thermite were shipped to china fast as fuck .\n",
      "\n",
      "german prisoners are some of the best engineers , and koreans are smart in general . how smart is your dad , iq wise ?\n",
      "\n",
      "i went to the schneeberg today ... was a nice trip , gave me that 'völkische ' feeling when standing on the summit , looking down at the country below .\n",
      "\n",
      "i ’ m an engineer . i too like solving problems .\n",
      "\n",
      "does that bare essentials makeup really work ? i have a hard time finding natural looking foundation . i 'm very pale , and most foundation i find that 's light enough for my skin tone ends up looking chalky after i put it on . yes ! it works wonderfully . and it seems to clear up my skin too , though all they are is just pure minerals . it 's incredible stuff .\n",
      "\n",
      "whatever you 're trying to do , you 're doing a shit job\n",
      "\n",
      "rt : not sure why a picture of me going to lunch with my brother made the cover of the ny times . decent pic though . https://…\n",
      "\n",
      "you want to start or should i ? i already started here . you never even followed up properly , unless you consider reposting lousy half a decade old jidf propaganda to be `` following up '' .\n",
      "\n",
      "is it early ? when is optimal time for fascist-posting .\n",
      "\n",
      "maybe those asian students saw this ad : you tube and they want to go ahead and put a vote on putting the chinese flag up ?\n",
      "\n",
      "probably got railed by some grade a american soldier bbc and saw the light\n",
      "\n",
      "what can prove even more difficult than obtaining guns in europe is getting supplies of ammunition . the old rule of `` buck a bullet '' often applies . sometimes ( like in the uk ) there is an `` underground '' of reloaders manufacturing ammunition from components on a small scale and secret indoor shooting ranges . otherwise , the ammo is smuggled in and the smugglers expect to make a healthy profit .\n",
      "\n",
      "`` no time for the old in-out ; i 'm just here to read the meter ! ''\n",
      "\n",
      "************* TOPIC 11 *************************\n",
      "money people pay government free country work economy world jobs\n",
      "\n",
      "------------------ TOP TOPIC 11 DOCUMENTS ----------------------\n",
      "unibrow unibrow unibrow unibrow unibrow unibrow unibrow unibrow unibrow unibrow unibrow unibrow unibrow unibrow unibrow unibrow unibrow unibrow unibrow unibrow unibrow unibrow unibrow unibrow unibrow unibrow unibrow unibrow unibrow unibrow unibrow unibrow unibrow unibrow unibrow unibrow unibrow unibrow unibrow unibrow unibrow unibrow unibrow unibrow unibrow unibrow unibrow unibrow unibrow unibrow unibrow unibrow unibrow unibrow unibrow unibrow unibrow unibrow unibrow unibrow unibrow unibrow unibrow unibrow unibrow unibrow unibrow unibrow unibrow unibrow unibrow unibrow unibrow unibrow unibrow unibrow unibrow unibrow unibrow unibrow unibrow unibrow unibrow unibrow unibrow unibrow unibrow unibrow unibrow unibrow unibrow unibrow unibrow unibrow unibrow unibrow unibrow unibrow unibrow unibrow unibrow unibrow unibrow unibrow unibrow unibrow unibrow unibrow unibrow unibrow unibrow unibrow unibrow unibrow unibrow unibrow unibrow unibrow unibrow unibrow unibrow unibrow unibrow unibrow unibrow unibrow unibrow unibrow unibrow unibrow unibrow unibrow unibrow unibrow unibrow unibrow unibrow unibrow unibrow unibrow unibrow unibrow unibrow unibrow unibrow unibrow unibrow unibrow unibrow unibrow unibrow unibrow unibrow unibrow unibrow unibrow unibrow unibrow unibrow unibrow unibrow unibrow unibrow unibrow unibrow unibrow unibrow unibrow unibrow unibrow unibrow unibrow unibrow unibrow unibrow unibrow unibrow unibrow unibrow unibrow unibrow unibrow unibrow unibrow unibrow unibrow unibrow unibrow unibrow unibrow unibrow unibrow unibrow unibrow unibrow unibrow unibrow unibrow unibrow unibrow unibrow unibrow unibrow unibrow unibrow unibrow unibrow unibrow unibrow unibrow unibrow unibrow unibrow unibrow unibrow unibrow unibrow unibrow unibrow unibrow unibrow unibrow unibrow unibrow unibrow unibrow unibrow unibrow unibrow unibrow unibrow unibrow unibrow unibrow unibrow unibrow unibrow unibrow unibrow unibrow unibrow unibrow unibrow unibrow unibrow unibrow unibrow unibrow unibrow unibrow unibrow unibrow unibrow unibrow unibrow unibrow unibrow unibrow unibrow unibrow unibrow unibrow unibrow unibrow unibrow unibrow unibrow unibrow unibrow unibrow unibrow unibrow unibrow unibrow unibrow unibrow unibrow unibrow unibrow unibrow unibrow unibrow unibrow unibrow unibrow unibrow unibrow unibrow unibrow unibrow unibrow unibrow unibrow unibrow unibrow unibrow unibrow unibrow unibrow unibrow unibrow unibrow unibrow unibrow unibrow unibrow unibrow unibrow unibrow unibrow unibrow unibrow unibrow unibrow unibrow unibrow unibrow unibrow unibrow unibrow unibrow unibrow unibrow unibrow unibrow unibrow unibrow unibrow unibrow unibrow unibrow unibrow unibrow unibrow unibrow unibrow unibrow unibrow unibrow unibrow unibrow unibrow unibrow unibrow unibrow unibrow unibrow unibrow unibrow unibrow unibrow unibrow unibrow unibrow unibrow unibrow unibrow unibrow unibrow unibrow unibrow unibrow unibrow unibrow unibrow unibrow unibrow unibrow unibrow unibrow unibrow unibrow unibrow unibrow unibrow unibrow unibrow unibrow unibrow unibrow unibrow unibrow unibrow unibrow unibrow unibrow unibrow unibrow unibrow unibrow unibrow unibrow unibrow unibrow unibrow unibrow unibrow unibrow unibrow unibrow unibrow unibrow unibrow unibrow unibrow unibrow unibrow unibrow unibrow unibrow unibrow unibrow unibrow unibrow unibrow unibrow unibrow unibrow unibrow unibrow unibrow unibrow unibrow unibrow unibrow unibrow unibrow unibrow unibrow unibrow unibrow unibrow unibrow unibrow unibrow unibrow unibrow unibrow unibrow unibrow\n",
      "\n",
      "heill oden sale oden heill oden sale oden heill oden sale oden heill oden sale oden heill oden sale oden heill oden sale oden heill oden sale oden heill oden sale oden heill oden sale oden heill oden sale oden heill oden sale oden heill oden sale oden heill oden sale oden heill oden sale oden heill oden sale oden heill oden sale oden heill oden sale oden heill oden sale oden heill oden sale oden heill oden sale oden heill oden sale oden heill oden sale oden heill oden sale oden heill oden sale oden heill oden sale oden heill oden sale oden heill oden sale oden heill oden sale oden heill oden sale oden heill oden sale oden heill oden sale oden heill oden sale oden heill oden sale oden heill oden sale oden heill oden sale oden heill oden sale oden heill oden sale oden heill oden sale oden heill oden sale oden heill oden sale oden heill oden sale oden heill oden sale oden heill oden sale oden heill oden sale oden heill oden sale oden heill oden sale oden heill oden sale oden heill oden sale oden heill oden sale oden heill oden sale oden heill oden sale oden heill oden sale oden heill oden sale oden heill oden sale oden heill oden sale oden heill oden sale oden heill oden sale oden heill oden sale oden heill oden sale oden heill oden sale oden heill oden sale oden heill oden sale oden heill oden sale oden heill oden sale oden heill oden sale oden heill oden sale oden heill oden sale oden heill oden sale oden heill oden sale oden heill oden sale oden heill oden sale oden heill oden sale oden heill oden sale oden heill oden sale oden heill oden sale oden heill oden sale oden heill oden sale oden heill oden sale oden heill oden sale oden heill oden sale oden heill oden sale oden heill oden sale oden heill oden sale oden heill oden sale oden heill oden sale oden heill oden sale oden heill oden sale oden heill oden sale oden heill oden sale oden heill oden sale oden heill oden sale oden heill oden sale oden heill oden sale oden heill oden sale oden heill oden sale oden\n",
      "\n",
      "mexico ca n't not pay for the wall . 20 % or more of mexico 's economy is now remittances . illegals come to the us , drain our social programs , and send us dollars out of the country back to mexico . that has a net negative effect on our economy . if we cut that off , mexico gets less money , and that money stays in circulation immediately in our market . ie mexico pays for the wall . simply lowering the tax burden by removing illegals would end up paying for the wall .\n",
      "\n",
      "printing money alone does n't cause inflation . demand-pull inflation arises when the amount of money in the economy increases relative to the amount of goods available to be purchased . this means that people will try to outbid each other , and the sellers can increase prices . if newly printed money is used to increase the amount of goods and services purchasable then it will not be inflationary . this is why paying people to do basic work is much better than unemployment welfare .\n",
      "\n",
      "then how do you regulate the monetary supply ? it regulates itself . the value of a dollar with shift to meet an equilibrium in power buying against the existing quantity exchanged . placing more money in circulation during a crisis were money trades hands less and less inflates the value , shortening the existing value being shifted around poorly . if you wanted to fix the problem , instead of the symptom , it would be immigration and free trade like nafta .\n",
      "\n",
      "people create value , not currency in the case of the usd the fed prints out currency and loans it to banks , the terms and rates they set on these loans trickles down in the sense that now the banks have to adjust the rates/terms they offer their consumers to cover their loan from the fed , higher interest on loan from fed means banks will have higher interest on loans they offer their clients\n",
      "\n",
      "so like , getting a job and earning a paycheck ? well you could start a business and as an owner contribute to the amount of production in your economy . but yes , getting a job and producing something will slightly raise the ubi by a tiny fraction . however , you will earn vastly more money by direct payment sharing the wealth of the production ( and it 's support chain ) as profit taking .\n",
      "\n",
      "the reason why we are in this mess is because the rich do not pay their share . the rich do not pay working people enough money to pay federal tax , how insane is that . the rich do not pay people enough to cover basic living needs , hence , food stamps , medicare , section 8 housing . we have to make the rich pay the social up keep of wage slaves .\n",
      "\n",
      "drop in living standards if population is cut in half without third worlders ? would literally be market suddenly flooded with property more demand for jobs than supply easier to stay environmentally friendly etc automation could literally pick up the whatever slack there is manufacturing / use of natural resources need n't be so high if the population is lower\n",
      "\n",
      "your second empty house raises prices for people who are working , but ca n't afford a house because investors bought them , not to live in , not to rent , but just for the value increase from all the other investors also buying houses they do n't need . everyone needs housing and real estate is finite . empty houses not on the rental market should be taxed greatly .\n",
      "\n",
      "why pay a canadian an honest wage when you can import immigrants who will work for less and keep the wages down ? let canadian tax dollars pay for the destruction the immigrants cause as well as the strain on our public systems . the canadians gets screwed twice and the big companies get to make even more money . what a country we live in .\n",
      "\n",
      "you 'd think so , but not really . the reality is that america 's high taxes come from a combination of government corruption and keynesian economics . greedy politicians want six figure salaries . meanwhile , the government takes out loans with interest and has to raise the tax rates to pay them back . this leads to inflated taxes . it 's a lot more simple than it seems .\n",
      "\n",
      "ca n't collect a welfare check if he does that . the hell you ca n't . create corporation money goes to corporation have to pay corporate taxes can set your salary as ceo to $ 1 per year . boom . corporate expenses cover things like food , rent , etc .\n",
      "\n",
      "you are living on the state land and getting state services just like you would on a privately owned piece of land . state does n't have to provide you conditions for doing free of charge . just like with jobs , you are free to choose another country if you do n't like the conditions .\n",
      "\n",
      "everything becomes automated goods become virtually free people no longer have jobs people no longer have money to buy goods company gets no money from sales company ca n't pay taxes nobody has ubi to buy things society collapses i ca n't wait\n",
      "\n",
      "simple , you would heavily tariff every product imported into this country without exception ( even and especially products from companies based in the us ) . in this way companies would no longer see a benefit in outsourcing and would create more jobs domestically . in addition , because everyone would have jobs and would get to keep all their earnings the economy would be boosted from increased spending . easy peasy . ( we are the largest consumer in the world , so you would have to pay for the priviledge of selling your goods here , get it ? in this way other countries would support us , not the other way around . ) ex- ( i was talking about the idea of not having taxes ) buddy that 's laughable , and what would happen when these two things happen ? . the imports to the us reduce to zero ? and other governments put heavy tariffs on us goods ? , balance of trade , do you understand the term ? .\n",
      "\n",
      "prices fall to zero company x does n't make any money from their products ca n't pay taxes , no money for ubi nobody has any money to buy the virtually free product company has no more money to pay for automation society collapses ca n't wait\n",
      "\n",
      "getting rid of the estate tax helps middle-class farm families who have a lot of capital hard assets , but not much actual spending money . the current system basically robs more and more land from farming families with each generation until the ( ( ( banks ) ) ) and feds control it all .\n",
      "\n",
      "tax breaks for rich citizens only if they create jobs with the tax break money in the country they received a tax break in . the rest gets taxed and the government uses these taxes to create jobs for the masses . trickle down economy succesfully implemented\n",
      "\n",
      "build apartments no one can afford because of the government trick/bribe/whatever the government into buying them and giving them to third worlders ca n't give them to the people because if you did they would n't have to work and would n't be paying taxes so the government would n't be able to afford the apartments which you could have just bought if not for the government thanks government\n",
      "\n",
      "------------------ SAMPLE OF TOPIC 11 DOCUMENTS ----------------------\n",
      "i just won $ 300.00 at the casino . now i got bud money and money to go kayaking .\n",
      "\n",
      "problem , plattalmannschwuchtel ?\n",
      "\n",
      "rich people terraforming the poor y rnt u guize doin wut we zay we iz da smurt unes , lissen 2 uz we haz all da moneyz in da world being rich just means you take advantage of people and this article does n't exhume that .\n",
      "\n",
      "there 's quite a number of affordable homes in the harrison , arkansas area , so i 'll provide a sample real estate link : harrison ar real estate - 230 homes for sale | zillow\n",
      "\n",
      "government willing to do something that goes against their hidden agenda they are super willing to flood the country , but when it comes to punishing them or deporting them , it 's suddenly too costy , the airfield is contested or perhaps even called inhumane . these guys have german passports now . dey b germn n shid\n",
      "\n",
      "how does it continue the cycle of abuse if you do n't pay the person who produced it ? abusing your wiener by jacking off too hard ?\n",
      "\n",
      "bitch you are my fucking ngger slave . i fucking own you and everything that is around you . every object that is in your house , even your house , and you , as with everything that you ever eat so you can produce fertilizer for your poverty farms out of your anus , gaping from all that gay buttsecks the romans taught you when you were their bitchboy slaves , all that belongs to me . i payed for it , it was my money that you used to secure your sorry existance . and if it wasnt for our shitty corrupt governments not a cent would come to you . i would have rather invested in a mansion in detroit , i would have rather invested in romanian forestry , i would have rather invested in ukrainian gas pipelines , i would have rather invested in digging sand from the bottom of the marianas trench and then shipping it to the sahara desert than in your archipelago where islands are literally named after homosexuality . you are supposed to work for me because i own you , but i would also accept it if you would pay back your dents in greek females for me to rape all day , you dont seem to need them anyway , as sexual activity with females is a foreign concept to you . dont worry about it , all the turkroaches flooding your country make up for the population and do the raping females job for you , because you are a lazy nigger who would never be able in his entire life to ever to a job to pay denbt .\n",
      "\n",
      "you find the very ugliest people at walmart in the return line .\n",
      "\n",
      "owners of the stock get nothing meanwhile , paul allen 's boat :\n",
      "\n",
      "has no job and lives off welfare gets angry over people who work spending money stupid fucking commie deserves to be thrown off a building\n",
      "\n",
      "so quitting job , working unregistered , worsen the qualified employee situation and draining the system as fast as possible is the most rational way , as it will happen anyway .\n",
      "\n",
      "it 's so funny , you can rob the american people of everything they have , and they will empty their pockets for you and offer more . turn the other cheek indeed .\n",
      "\n",
      "of course . rapefugee employment is astronomically low . what better way to bolster the new eu army than by conscripting millions of 3rd worlders who already have firearms training and no loyalty to the culture or people outside of mama merkel for opening the flood gates ? it 'd be genius if it was n't so obvious .\n",
      "\n",
      "white australian , arent you descended from convicts & criminals ? nearly all were `` convicted '' of being poor . the built a great nation in a short time where niggers like you had not succeeded in creating civilization in tens of thousands of years .\n",
      "\n",
      "rt : ncp has stopped transportation of onions in nashik . onion prices affect image of govt . …\n",
      "\n",
      "if they are illegals they 're out . no double standards . why not ? there is definitely a double standard when it comes to mexican illegals .\n",
      "\n",
      "when will it stop ? why don't we amex mexaco so we can pay 90 percent in taxes\n",
      "\n",
      "supporting australian workers of white/european heritage should be one of the main beliefs of an australian nationalist in my opinion . this particular quote disgusts me ! quote : management confirmed nine zimbaweans were employed under temporary business 457 visas when the company faced a skills shortage while business was booming in 2007 . knowing that companies will use african migrant labour rather than train and hire australian workers is an absolute disgrace and shows a prime example that big-business do not care at all about anything else but making profits .\n",
      "\n",
      "quote : romanian immigrant : ' i want to make £40k through benefits - the rest i 'll steal' romanian immigrant plans to siphon off â£40k in british benefits | uk | news | daily express quote : ion lazar , 36 , from the tiny village of argetoaia , is one of several scroungers who will feature on channel 5 's latest instalment of benefits britain : life on the dole , which airs tonight . mr lazer , says life for him , his wife maria and their children has been rosy since his arrival in london six months ago . quote : he works under his clan boss , who pays for his travel and accommodation and takes a commission on his income .\n",
      "\n",
      "no , that 's up to the community really . they can decide how they have families take care of other children etc . unless the government is paying them with money that is n't from taxes like import tariffs from companies not owned by a resident/citizen or it 's from a business that the government owns .\n",
      "\n",
      "************* TOPIC 1 *************************\n",
      "like red eyes face hair head blue dick just light\n",
      "\n",
      "------------------ TOP TOPIC 1 DOCUMENTS ----------------------\n",
      "peep peep peep peep peep peep peep peep peep peep peep peep peep peep peep peep peep peep peep peep peep peep peep peep peep peep peep peep peep peep peep peep peep peep peep peep peep peep peep peep peep peep peep peep peep peep peep peep peep peep peep peep peep peep peep peep peep peep peep peep peep peep peep peep peep peep peep peep peep peep peep peep peep peep peep peep peep peep peep peep peep peep peep peep peep peep peep peep peep peep peep peep peep peep peep peep peep peep peep peep peep peep peep peep peep peep peep peep peep peep peep peep peep peep peep peep peep peep peep peep peep peep peep peep peep peep peep peep peep peep peep peep peep peep peep peep peep peep peep peep peep peep peep peep peep peep peep peep peep peep peep peep peep peep peep peep peep peep peep peep peep peep peep peep peep peep peep peep peep peep peep peep peep peep peep peep peep peep peep peep peep peep peep peep peep peep peep peep peep peep peep peep peep peep peep peep peep peep peep peep peep peep peep peep peep peep peep peep peep peep peep peep peep peep peep peep peep peep peep peep peep peep peep peep peep peep peep peep peep peep peep peep peep peep peep peep peep peep peep peep peep peep peep peep peep peep peep peep peep peep peep peep peep peep peep peep peep peep peep peep peep peep peep peep peep peep peep peep peep peep peep peep peep peep peep peep peep peep peep peep peep peep peep peep peep peep peep peep peep peep peep peep peep peep peep peep peep peep peep peep peep peep peep peep peep peep peep peep peep peep peep peep peep peep peep peep peep peep peep peep peep peep peep peep peep peep peep peep peep peep peep peep peep peep peep peep peep peep peep peep peep peep peep peep peep peep peep peep peep peep peep peep peep peep peep peep peep peep peep peep peep peep peep peep peep peep peep peep peep peep peep peep peep peep peep peep peep peep peep peep peep peep peep peep peep peep peep peep peep peep peep peep peep peep peep peep peep peep peep peep\n",
      "\n",
      "peep peep peep peep peep peep peep peep peep peep peep peep peep peep peep peep peep peep peep peep peep peep peep peep peep peep peep peep peep peep peep peep peep peep peep peep peep peep peep peep peep peep peep peep peep peep peep peep peep peep peep peep peep peep peep peep peep peep peep peep peep peep peep peep peep peep peep peep peep peep peep peep peep peep peep peep peep peep peep peep peep peep peep peep peep peep peep peep peep peep peep peep peep peep peep peep peep peep peep peep peep peep peep peep peep peep peep peep peep peep peep peep peep peep peep peep peep peep peep peep peep peep peep peep peep peep peep peep peep peep peep peep peep peep peep peep peep peep peep peep peep peep peep peep peep peep peep peep peep peep peep peep peep peep peep peep peep peep peep peep peep peep peep peep peep peep peep peep peep peep peep peep peep peep peep peep peep peep peep peep peep peep peep peep peep peep peep peep peep peep peep peep peep peep peep peep peep peep peep peep peep peep peep peep peep peep peep peep peep peep peep peep peep peep peep peep peep peep peep peep peep peep peep peep peep peep peep peep peep peep peep peep peep peep peep peep peep peep peep peep peep peep peep peep peep peep peep peep peep peep peep peep peep peep peep peep peep peep peep peep peep peep peep peep peep peep peep peep peep peep peep peep peep peep peep peep peep peep peep peep peep peep peep peep peep peep peep peep peep peep peep peep peep peep peep peep peep peep peep peep peep peep peep peep peep peep peep peep peep peep peep peep peep peep peep peep peep peep peep peep peep peep peep peep peep peep peep peep peep peep peep peep peep peep peep peep peep peep peep peep peep peep peep peep peep peep peep peep peep peep peep peep peep peep peep peep peep peep peep peep peep peep peep peep peep peep peep peep peep peep peep peep peep peep peep peep peep peep peep peep peep peep peep peep peep peep peep peep peep peep peep peep peep peep peep peep peep peep peep\n",
      "\n",
      "peep peep peep peep peep peep peep peep peep peep peep peep peep peep peep peep peep peep peep peep peep peep peep peep peep peep peep peep peep peep peep peep peep peep peep peep peep peep peep peep peep peep peep peep peep peep peep peep peep peep peep peep peep peep peep peep peep peep peep peep peep peep peep peep peep peep peep peep peep peep peep peep peep peep peep peep peep peep peep peep peep peep peep peep peep peep peep peep peep peep peep peep peep peep peep peep peep peep peep peep peep peep peep peep peep peep peep peep peep peep peep peep peep peep peep peep peep peep peep peep peep peep peep peep peep peep peep peep peep peep peep peep peep peep peep peep peep peep peep peep peep peep peep peep peep peep peep peep peep peep peep peep peep peep peep peep peep peep peep peep peep peep peep peep peep peep peep peep peep peep peep peep peep peep peep peep peep peep peep peep peep peep peep peep peep peep peep peep peep peep peep peep peep peep peep peep peep peep peep peep peep peep peep peep peep peep peep peep peep peep peep peep peep peep peep peep peep peep peep peep peep peep peep peep peep peep peep peep peep peep peep peep peep peep peep peep peep peep peep peep peep peep peep peep peep peep peep peep peep peep peep peep peep peep peep peep peep peep peep peep peep peep peep peep peep peep peep peep peep peep peep peep peep peep peep peep peep peep peep peep peep peep peep peep peep peep peep peep peep peep peep peep peep peep peep peep peep peep peep peep peep peep peep peep peep peep peep peep peep peep peep peep peep peep peep peep peep peep peep peep peep peep peep peep peep peep peep peep peep peep peep peep peep peep peep peep peep peep peep peep peep peep peep peep peep peep peep peep peep peep peep peep peep peep peep peep peep peep peep peep peep peep peep peep peep peep peep peep peep peep peep peep peep peep peep peep peep peep peep peep peep peep peep peep peep peep peep peep peep peep peep peep peep peep peep peep peep peep\n",
      "\n",
      "peep peep peep peep peep peep peep peep peep peep peep peep peep peep peep peep peep peep peep peep peep peep peep peep peep peep peep peep peep peep peep peep peep peep peep peep peep peep peep peep peep peep peep peep peep peep peep peep peep peep peep peep peep peep peep peep peep peep peep peep peep peep peep peep peep peep peep peep peep peep peep peep peep peep peep peep peep peep peep peep peep peep peep peep peep peep peep peep peep peep peep peep peep peep peep peep peep peep peep peep peep peep peep peep peep peep peep peep peep peep peep peep peep peep peep peep peep peep peep peep peep peep peep peep peep peep peep peep peep peep peep peep peep peep peep peep peep peep peep peep peep peep peep peep peep peep peep peep peep peep peep peep peep peep peep peep peep peep peep peep peep peep peep peep peep peep peep peep peep peep peep peep peep peep peep peep peep peep peep peep peep peep peep peep peep peep peep peep peep peep peep peep peep peep peep peep peep peep peep peep peep peep peep peep peep peep peep peep peep peep peep peep peep peep peep peep peep peep peep peep peep peep peep peep peep peep peep peep peep peep peep peep peep peep peep peep peep peep peep peep peep peep peep peep peep peep peep peep peep peep peep peep peep peep peep peep peep peep peep peep peep peep peep peep peep peep peep peep peep peep peep peep peep peep peep peep peep peep peep peep peep peep peep peep peep peep peep peep peep peep peep peep peep peep peep peep peep peep peep peep peep peep peep peep peep peep peep peep peep peep peep peep peep peep peep peep peep peep peep peep peep peep peep peep peep peep peep peep peep peep peep peep peep peep peep peep peep peep peep peep peep peep peep peep peep peep peep peep peep peep peep peep peep peep peep peep peep peep peep peep peep peep peep peep peep peep peep peep peep peep peep peep peep peep peep peep peep peep peep peep peep peep peep peep peep peep peep peep peep peep peep peep peep peep peep\n",
      "\n",
      "peep peep peep peep peep peep peep peep peep peep peep peep peep peep peep peep peep peep peep peep peep peep peep peep peep peep peep peep peep peep peep peep peep peep peep peep peep peep peep peep peep peep peep peep peep peep peep peep peep peep peep peep peep peep peep peep peep peep peep peep peep peep peep peep peep peep peep peep peep peep peep peep peep peep peep peep peep peep peep peep peep peep peep peep peep peep peep peep peep peep peep peep peep peep peep peep peep peep peep peep peep peep peep peep peep peep peep peep peep peep peep peep peep peep peep peep peep peep peep peep peep peep peep peep peep peep peep peep peep peep peep peep peep peep peep peep peep peep peep peep peep peep peep peep peep peep peep peep peep peep peep peep peep peep peep peep peep peep peep peep peep peep peep peep peep peep peep peep peep peep peep peep peep peep peep peep peep peep peep peep peep peep peep peep peep peep peep peep peep peep peep peep peep peep peep peep peep peep peep peep peep peep peep peep peep peep peep peep peep peep peep peep peep peep peep peep peep peep peep peep peep peep peep peep peep peep peep peep peep peep peep peep peep peep peep peep peep peep peep peep peep peep peep peep peep peep peep peep peep peep peep peep peep peep peep peep peep peep peep peep peep peep peep peep peep peep peep peep peep peep peep peep peep peep peep peep peep peep peep peep peep peep peep peep peep peep peep peep peep peep peep peep peep peep peep peep peep peep peep peep peep peep peep peep peep peep peep peep peep peep peep peep peep peep peep peep peep peep peep peep peep peep peep peep peep peep peep peep peep peep peep peep peep peep peep peep peep peep peep peep peep peep peep peep peep peep peep peep peep peep peep peep peep peep peep peep peep peep peep peep peep peep peep peep peep peep peep peep peep peep peep peep peep peep peep peep peep peep peep peep peep peep peep peep peep peep peep peep peep peep peep peep\n",
      "\n",
      "peep peep peep peep peep peep peep peep peep peep peep peep peep peep peep peep peep peep peep peep peep peep peep peep peep peep peep peep peep peep peep peep peep peep peep peep peep peep peep peep peep peep peep peep peep peep peep peep peep peep peep peep peep peep peep peep peep peep peep peep peep peep peep peep peep peep peep peep peep peep peep peep peep peep peep peep peep peep peep peep peep peep peep peep peep peep peep peep peep peep peep peep peep peep peep peep peep peep peep peep peep peep peep peep peep peep peep peep peep peep peep peep peep peep peep peep peep peep peep peep peep peep peep peep peep peep peep peep peep peep peep peep peep peep peep peep peep peep peep peep peep peep peep peep peep peep peep peep peep peep peep peep peep peep peep peep peep peep peep peep peep peep peep peep peep peep peep peep peep peep peep peep peep peep peep peep peep peep peep peep peep peep peep peep peep peep peep peep peep peep peep peep peep peep peep peep peep peep peep peep peep peep peep peep peep peep peep peep peep peep peep peep peep peep peep peep peep peep peep peep peep peep peep peep peep peep peep peep peep peep peep peep peep peep peep peep peep peep peep peep peep peep peep peep peep peep peep peep peep peep peep peep peep peep peep peep peep peep peep peep peep peep peep peep peep peep peep peep peep peep peep peep peep peep peep peep peep peep peep peep peep peep peep peep peep peep peep peep peep peep peep peep peep peep peep peep peep peep peep peep peep peep peep peep peep peep peep peep peep peep peep peep peep peep peep peep peep peep peep peep peep peep peep peep peep peep peep peep peep peep peep peep peep peep peep peep peep peep peep peep peep peep peep peep peep peep peep peep peep peep peep peep peep peep peep peep peep peep peep peep peep peep peep peep peep peep peep peep peep peep peep peep peep peep peep peep peep peep peep peep peep peep peep peep peep peep peep peep peep peep peep\n",
      "\n",
      "peep peep peep peep peep peep peep peep peep peep peep peep peep peep peep peep peep peep peep peep peep peep peep peep peep peep peep peep peep peep peep peep peep peep peep peep peep peep peep peep peep peep peep peep peep peep peep peep peep peep peep peep peep peep peep peep peep peep peep peep peep peep peep peep peep peep peep peep peep peep peep peep peep peep peep peep peep peep peep peep peep peep peep peep peep peep peep peep peep peep peep peep peep peep peep peep peep peep peep peep peep peep peep peep peep peep peep peep peep peep peep peep peep peep peep peep peep peep peep peep peep peep peep peep peep peep peep peep peep peep peep peep peep peep peep peep peep peep peep peep peep peep peep peep peep peep peep peep peep peep peep peep peep peep peep peep peep peep peep peep peep peep peep peep peep peep peep peep peep peep peep peep peep peep peep peep peep peep peep peep peep peep peep peep peep peep peep peep peep peep peep peep peep peep peep peep peep peep peep peep peep peep peep peep peep peep peep peep peep peep peep peep peep peep peep peep peep peep peep peep peep peep peep peep peep peep peep peep peep peep peep peep peep peep peep peep peep peep peep peep peep peep peep peep peep peep peep peep peep peep peep peep peep peep peep peep peep peep peep peep peep peep peep peep peep peep peep peep peep peep peep peep peep peep peep peep peep peep peep peep peep peep peep peep peep peep peep peep peep peep peep peep peep peep peep peep peep peep peep peep peep peep peep peep peep peep peep peep peep peep peep peep peep peep peep peep peep peep peep peep peep peep peep peep peep peep peep peep peep peep peep peep peep peep peep peep peep peep peep peep peep peep peep peep peep peep peep peep peep peep peep peep peep peep peep peep peep peep peep peep peep peep peep peep peep peep peep peep peep peep peep peep peep peep peep peep peep peep peep peep peep peep peep peep peep peep peep peep peep peep peep\n",
      "\n",
      "peep peep peep peep peep peep peep peep peep peep peep peep peep peep peep peep peep peep peep peep peep peep peep peep peep peep peep peep peep peep peep peep peep peep peep peep peep peep peep peep peep peep peep peep peep peep peep peep peep peep peep peep peep peep peep peep peep peep peep peep peep peep peep peep peep peep peep peep peep peep peep peep peep peep peep peep peep peep peep peep peep peep peep peep peep peep peep peep peep peep peep peep peep peep peep peep peep peep peep peep peep peep peep peep peep peep peep peep peep peep peep peep peep peep peep peep peep peep peep peep peep peep peep peep peep peep peep peep peep peep peep peep peep peep peep peep peep peep peep peep peep peep peep peep peep peep peep peep peep peep peep peep peep peep peep peep peep peep peep peep peep peep peep peep peep peep peep peep peep peep peep peep peep peep peep peep peep peep peep peep peep peep peep peep peep peep peep peep peep peep peep peep peep peep peep peep peep peep peep peep peep peep peep peep peep peep peep peep peep peep peep peep peep peep peep peep peep peep peep peep peep peep peep peep peep peep peep peep peep peep peep peep peep peep peep peep peep peep peep peep peep peep peep peep peep peep peep peep peep peep peep peep peep peep peep peep peep peep peep peep peep peep peep peep peep peep peep peep peep peep peep peep peep peep peep peep peep peep peep peep peep peep peep peep peep peep peep peep peep peep peep peep peep peep peep peep peep peep peep peep peep peep peep peep peep peep peep peep peep peep peep peep peep peep peep peep peep peep peep peep peep peep peep peep peep peep peep peep peep peep peep peep peep peep peep peep peep peep peep peep peep peep peep peep peep peep peep peep peep peep peep peep peep peep peep peep peep peep peep peep peep peep peep peep peep peep peep peep peep peep peep peep peep peep peep peep peep peep peep peep peep peep peep peep peep peep peep peep peep peep\n",
      "\n",
      "peep peep peep peep peep peep peep peep peep peep peep peep peep peep peep peep peep peep peep peep peep peep peep peep peep peep peep peep peep peep peep peep peep peep peep peep peep peep peep peep peep peep peep peep peep peep peep peep peep peep peep peep peep peep peep peep peep peep peep peep peep peep peep peep peep peep peep peep peep peep peep peep peep peep peep peep peep peep peep peep peep peep peep peep peep peep peep peep peep peep peep peep peep peep peep peep peep peep peep peep peep peep peep peep peep peep peep peep peep peep peep peep peep peep peep peep peep peep peep peep peep peep peep peep peep peep peep peep peep peep peep peep peep peep peep peep peep peep peep peep peep peep peep peep peep peep peep peep peep peep peep peep peep peep peep peep peep peep peep peep peep peep peep peep peep peep peep peep peep peep peep peep peep peep peep peep peep peep peep peep peep peep peep peep peep peep peep peep peep peep peep peep peep peep peep peep peep peep peep peep peep peep peep peep peep peep peep peep peep peep peep peep peep peep peep peep peep peep peep peep peep peep peep peep peep peep peep peep peep peep peep peep peep peep peep peep peep peep peep peep peep peep peep peep peep peep peep peep peep peep peep peep peep peep peep peep peep peep peep peep peep peep peep peep peep peep peep peep peep peep peep peep peep peep peep peep peep peep peep peep peep peep peep peep peep peep peep peep peep peep peep peep peep peep peep peep peep peep peep peep peep peep peep peep peep peep peep peep peep peep peep peep peep peep peep peep peep peep peep peep peep peep peep peep peep peep peep peep peep peep peep peep peep peep peep peep peep peep peep peep peep peep peep peep peep peep peep peep peep peep peep peep peep peep peep peep peep peep peep peep peep peep peep peep peep peep peep peep peep peep peep peep peep peep peep peep peep peep peep peep peep peep peep peep peep peep peep peep peep peep\n",
      "\n",
      "peep peep peep peep peep peep peep peep peep peep peep peep peep peep peep peep peep peep peep peep peep peep peep peep peep peep peep peep peep peep peep peep peep peep peep peep peep peep peep peep peep peep peep peep peep peep peep peep peep peep peep peep peep peep peep peep peep peep peep peep peep peep peep peep peep peep peep peep peep peep peep peep peep peep peep peep peep peep peep peep peep peep peep peep peep peep peep peep peep peep peep peep peep peep peep peep peep peep peep peep peep peep peep peep peep peep peep peep peep peep peep peep peep peep peep peep peep peep peep peep peep peep peep peep peep peep peep peep peep peep peep peep peep peep peep peep peep peep peep peep peep peep peep peep peep peep peep peep peep peep peep peep peep peep peep peep peep peep peep peep peep peep peep peep peep peep peep peep peep peep peep peep peep peep peep peep peep peep peep peep peep peep peep peep peep peep peep peep peep peep peep peep peep peep peeppeep peep peep peep peep peep peep peep peep peep peep peep peep peep peep peep peep peep peep peep peep peep peep peep peep peep peep peep peep peep peep peep peep peep peep peep peep peep peep peep peep peep peep peep peep peep peep peep peep peep peep peep peep peep peep peep peep peep peep peep peep peep peep peep peep peep peep peep peep peep peep peep peep peep peep peep peep peep peep peep peep peep peep peep peep peep peep peep peep peep peep peep peep peep peep peep peep peep peep peep peep peep peep peep peep peep peep peep peep peep peep peep peep peep peep peep peep peep peep peep peep peep peep peep peep peep peep peep peep peep peep peep peep peep peep peep peep peep peep peep peep peep peep peep peep peep peep peep peep peep peep peep peep peep peep peep peep peep peep peep peep peep peep peep peep peep peep peep peep peep peep peep peep peep peep peep peep peep peep peep peep peep peep peep peep peep peep peep peep peep peep peep peep peep peep peep\n",
      "\n",
      "peep peep peep peep peep peep peep peep peep peep peep peep peep peep peep peep peep peep peep peep peep peep peep peep peep peep peep peep peep peep peep peep peep peep peep peep peep peep peep peep peep peep peep peep peep peep peep peep peep peep peep peep peep peep peep peep peep peep peep peep peep peep peep peep peep peep peep peep peep peep peep peep peep peep peep peep peep peep peep peep peep peep peep peep peep peep peep peep peep peep peep peep peep peep peep peep peep peep peep peep peep peep peep peep peep peep peep peep peep peep peep peep peep peep peep peep peep peep peep peep peep peep peep peep peep peep peep peep peep peep peep peep peep peep peep peep peep peep peep peep peep peep peep peep peep peep peep peep peep peep peep peep peep peep peep peep peep peep peep peep peep peep peep peep peep peep peep peep peep peep peep peep peep peep peep peep peep peep peep peep peep peep peep peep peep peep peep peep peep peep peep peep peep peep peep peep peep peep peep peep peep peep peep peep peep peep peep peep peep peep peep peep peep peep peep peep peep peep peep peep peep peep peep peep peep peep peep peep peep peep peep peep peep peep peep peep peep peep peep peep peep peep peep peep peep peep peep peep peep peep peep peep peep peep peep peep peep peep peep peep peep peep peep peep peep peep peep peep peep peep peep peep peep peep peep peep peep peep peep peep peep peep peep peep peep peep peep peep peep peep peep peep peep peep peep peep peep peep peep peep peep peep peep peep peep peep peep peep peep peep peep peep peep peep peep peep peep peep peep peep peep peep peep peep peep peep peep peep peep peep peep peep peep peep peep peep peep peep peep peep peep peep peep peep peep peep peep peep peep peep peep peep peep peep peep peep peep peep peep peep peep peep peep peep peep peep peep peep peep peep peep peep peep peep peep peep peep peep peep peep peep peep peep peep peep peep peep peep\n",
      "\n",
      "peep peep peep peep peep peep peep peep peep peep peep peep peep peep peep peep peep peep peep peep peep peep peep peep peep peep peep peep peep peep peep peep peep peep peep peep peep peep peep peep peep peep peep peep peep peep peep peep peeppeep peep peep peep peep peep peep peep peep peep peep peep peep peep peep peep peep peep peep peep peep peep peep peep peep peep peep peep peep peep peep peep peep peep peep peep peep peep peep peep peep peep peep peep peep peep peep peep peeppeep peep peep peep peep peep peep peep peep peep peep peep peep peep peep peep peep peep peep peep peep peep peep peep peep peep peep peep peep peep peep peep peep peep peep peep peep peep peep peep peep peep peep peep peep peep peep peep peeppeep peep peep peep peep peep peep peep peep peep peep peep peep peep peep peep peep peep peep peep peep peep peep peep peep peep peep peep peep peep peep peep peep peep peep peep peep peep peep peep peep peep peep peep peep peep peep peep peeppeep peep peep peep peep peep peep peep peep peep peep peep peep peep peep peep peep peep peep peep peep peep peep peep peep peep peep peep peep peep peep peep peep peep peep peep peep peep peep peep peep peep peep peep peep peep peep peep peeppeep peep peep peep peep peep peep peep peep peep peep peep peep peep peep peep peep peep peep peep peep peep peep peep peep peep peep peep peep peep peep peep peep peep peep peep peep peep peep peep peep peep peep peep peep peep peep peep peeppeep peep peep peep peep peep peep peep peep peep peep peep peep peep peep peep peep peep peep peep peep peep peep peep peep peep peep peep peep peep peep peep peep peep peep peep peep peep peep peep peep peep peep peep peep peep peep peep peeppeep peep peep peep peep peep peep peep peep peep peep peep peep peep peep peep peep peep peep peep peep peep peep peep peep peep peep peep peep peep peep peep peep peep peep peep peep peep peep peep peep peep peep peep peep peep peep peep peep\n",
      "\n",
      "peep peep peep peep peep peep peep peep peep peep peep peep peep peep peep peep peep peep peep peep peep peep peep peep peep peep peep peep peep peep peep peep peep peep peep peep peep peep peep peep peep peep peep peep peep peep peep peep peep peep peep peep peep peep peep peep peep peep peep peep peep peep peep peep peep peep peep peep peep peep peep peep peep peep peep peep peep peep peep peep peep peep peep peep peep peep peep peep peep peep peep peep peep peep peep peep peep peep peep peep peep peep peep peep peep peep peep peep peep peep peep peep peep peep peep peep peep peep peep peep peep peep peep peep peep peep peep peep peep peep peep peep peep peep peep peep peep peep peep peep peep peep peep peep peep peep peep peep peep peep peep peep peep peep peep peep peep peep peep peep peep peep peep peep peep peep peep peep peep peep peep peep peep peep peep peep peep peep peep peep peep peep peep peep peep peep peep peep peep peep peep peep peep peep peep peep peep peep peep peep peep peep peep peep peep peep peep peep peep peep peep peep peep peep peep peep peep peep peep peep peep peep peep peep peep peep peep peep peep peep peep peep peep peep peep peep peep peep peep peep peep peep peep peep peep peep peep peep peep peep peep peep peep peep peep peep peep peep peep peep peep peep peep peep peep peep peep peep peep peep peep peep peep peep peep peep peep peep peep peep peep peep peep peep peep peep peep peep peep peep peep peep peep peep peep peep peep peep peep peep peep peep peep peep peep peep peep peep peep peep peep peep peep peep peep peep peep peep peep peep peep peep peep peep peep peep peep peep peep peep peep peep peep peep peep peep peep peep peep peep peep peep peep peep peep peep peep peep peep peep peep peep peep peep peep peep peep peep peep peep peep peep peep peep peep peep peep peep peep peep peep peep peep peep peep peep\n",
      "\n",
      "peep peep peep peep peep peep peep peep peep peep peep peep peep peep peep peep peep peep peep peep peep peep peep peep peep peep peep peep peep peep peep peep peep peep peep peep peep peep peep peep peep peep peep peep peep peep peep peep peep peep peep peep peep peep peep peep peep peep peep peep peep peep peep peep peep peep peep peep peep peep peep peep peep peep peep peep peep peep peep peep peep peep peep peep peep peep peep peep peep peep peep peep peep peep peep peep peep peep peep peep peep peep peep peep peep peep peep peep peep peep peep peep peep peep peep peep peep peep peep peep peep peep peep peep peep peep peep peep peep peep peep peep peep peep peep peep peep peep peep peep peep peep peep peep peep peep peep peep peep peep peep peep peep peep peep peep peep peep peep peep peep peep peep peep peep peep peep peep peep peep peep peep peep peep peep peep peep peep peep peep peep peep peep peep peep peep peep peep peep peep peep peep peep peep peep peep peep peep peep peep peep peep peep peep peep peep peep peep peep peep peep peep peep peep peep peep peep peep peep peep peep peep peep peep peep peep peep peep peep peep peep peep peep peep peep peep peep peep peep peep peep peep peep peep peep peep peep peep peep peep peep peep peep peep peep peep peep peep peep peep peep peep peep peep peep peep peep peep peep peep peep peep peep peep peep peep peep peep peep peep peep peep peep peep peep peep peep peep peep peep peep peep peep peep peep peep peep peep peep peep peep peep peep peep peep peep peep peep peep peep peep peep peep peep peep peep peep peep peep peep peep peep peep peep peep peeep\n",
      "\n",
      "peep peep peep peep peep peep peep peep peep peep peep peep peep peep peep peep peep peep peep peep peep peep peep peep peep peep peep peep peep peep peep peep peep peep peep peep peep peep peep peep peep peep peep peep peep peep peep peep peep peep peep peep peep peep peep peep peep peep peep peep peep peep peep peep peep peep peep peep peep peep peep peep peep peep peep peep peep peep peep peep peep peep peep peep peep peep peep peep peep peep peep peep peep peep peep peep peep peep peep peep peep peep peep peep peep peep peep peep peep peep peep peep peep peep peep peep peep peep peep peep peep peep peep peep peep peep peep peep peep peep peep peep peep peep peep peep peep peep peep peep peep peep peep peep peep peep peep peep peep peep peep peep peep peep peep peep peep peep peep peep peep peep peep peep peep peep peep peep peep peep peep peep peep peep peep peep peep peep peep peep peep peep peep peep peep peep peep peep peep peep peep peep peep peep peep peep peep peep peep peep peep peep peep peep peep peep peep peep peep peep peep peep peep peep peep peep peep peep peep peep peep peep peep peep peep peep peep peep peep peep peep peep peep peep peep peep peep peep peep peep peep peep peep peep peep peep peep peep peep peep peep peep peep peep peep peep peep peep peep peep peep peep peep peep peep peep peep peep peep peep peep peep peep peep peep peep peep peep peep peep peep peep peep peep peep peep peep peep peep peep peep peep peep peep peep peep peep peep peep peep peep peep peep peep peep peep peep peep peep peep peep peep peep peep peep peep peep peep peep peep peep\n",
      "\n",
      "peep peep peep peep peep peep peep peep peep peep peep peep peep peep peep peep peep peep peep peep peep peep peep peep peep peep peep peep peep peep peep peep peep peep peep peep peep peep peep peep peep peep peep peep peep peep peep peep peep peep peep peep peep peep peep peep peep peep peep peep peep peep peep peep peep peep peep peep peep peep peep peep peep peep peep peep peep peep peep peep peep peep peep peep peep peep peep peep peep peep peep peep peep peep peep peep peep peep peep peep peep peep peep peep peep peep peep peep peep peep peep peep peep peep peep peep peep peep peep peep peep peep peep peep peep peep peep peep peep peep peep peep peep peep peep peep peep peep peep peep peep peep peep peep peep peep peep peep peep peep peep peep peep peep peep peep peep peep peep peep peep peep peep peep peep peep peep peep peep peep peep peep peep peep peep peep peep peep peep peep peep peep peep peep peep peep peep peep peep peep peep peep peep peep peep peep peep peep peep peep peep peep peep peep peep peep peep peep peep peep peep peep peep peep peep peep peep peep peep peep peep peep peep peep peep peep peep peep peep peep peep peep peep peep peep peep peep peep peep peep peep peep peep peep peep peep peep peep peep peep peep peep peep peep peep peep peep peep peep peep peep peep peep peep peep peep peep peep peep peep peep peep peep peep peep peep peep peep peep peep peep peep peep peep peep peep peep peep peep peep peep peep peep peep peep peep peep peep peep peep peep peep peep peep peep peep peep peep peep peep peep peep peep peep peep peep\n",
      "\n",
      "peep peep peep peep peep peep peep peep peep peep peep peep peep peep peep peep peep peep peep peep peep peep peep peep peep peep peep peep peep peep peep peep peep peep peep peep peep peep peep peep peep peep peep peep peep peep peep peep peep peep peep peep peep peep peep peep peep peep peep peep peep peep peep peep peep peep peep peep peep peep peep peep peep peep peep peep peep peep peep peep peep peep peep peep peep peep peep peep peep peep peep peep peep peep peep peep peep peep peep peep peep peep peep peep peep peep peep peep peep peep peep peep peep peep peep peep peep peep peep peep peep peep peep peep peep peep peep peep peep peep peep peep peep peep peep peep peep peep peep peep peep peep peep peep peep peep peep peep peep peep peep peep peep peep peep peep peep peep peep peep peep peep peep peep peep peep peep peep peep peep peep peep peep peep peep peep peep peep peep peep peep peep peep peep peep peep peep peep peep peep peep peep peep peep peep peep peep peep peep peep peep peep peep peep peep peep peep peep peep peep peep peep peep peep peep peep peep peep peep peep peep peep peep peep peep peep peep peep peep peep peep peep peep peep peep peep peep peep peep peep peep peep peep peep peep peep peep peep peep peep peep peep peep peep peep peep peep peep peep peep peep peep peep peep peep peep peep peep peep peep peep peep peep peep peep peep peep peep peep peep peep peep peep peep peep peep peep peep peep peep peep peep peep peep peep peep peep peep peep peep peep peep peep peep peep peep peep peep peep peep peep peep peep peep peep peep\n",
      "\n",
      "peep peep peep peep peep peep peep peep peep peep peep peep peep peep peep peep peep peep peep peep peep peep peep peep peep peep peep peep peep peep peep peep peep peep peep peep peep peep peep peep peep peep peep peep peep peep peep peep peep peep peep peep peep peep peep peep peep peep peep peep peep peep peep peep peep peep peep peep peep peep peep peep peep peep peep peep peep peep peep peep peep peep peep peep peep peep peep peep peep peep peep peep peep peep peep peep peep peep peep peep peep peep peep peep peep peep peep peep peep peep peep peep peep peep peep peep peep peep peep peep peep peep peep peep peep peep peep peep peep peep peep peep peep peep peep peep peep peep peep peep peep peep peep peep peep peep peep peep peep peep peep peep peep peep peep peep peep peep peep peep peep peep peep peep peep peep peep peep peep peep peep peep peep peep peep peep peep peep peep peep peep peep peep peep peep peep peep peep peep peep peep peep peep peep peep peep peep peep peep peep peep peep peep peep peep peep peep peep peep peep peep peep peep peep peep peep peep peep peep peep peep peep peep peep peep peep peep peep peep peep peep peep peep peep peep peep peep peep peep peep peep peep peep peep peep peep peep peep peep peep peep peep peep peep peep peep peep peep peep peep peep peep peep peep peep peep peep peep peep peep peep peep peep peep peep peep peep peep peep peep peep peep peep peep peep peep peep peep peep peep peep peep peep peep peep peep peep peep peep peep peep peep peep peep peep peep peep\n",
      "\n",
      "peep peep peep peep peep peep peep peep peep peep peep peep peep peep peep peep peep peep peep peep peep peep peep peep peep peep peep peep peep peep peep peep peep peep peep peep peep peep peep peep peep peep peep peep peep peep peep peep peep peep peep peep peep peep peep peep peep peep peep peep peep peep peep peep peep peep peep peep peep peep peep peep peep peep peep peep peep peep peep peep peep peep peep peep peep peep peep peep peep peep peep peep peep peep peep peep peep peep peep peep peep peep peep peep peep peep peep peep peep peep peep peep peep peep peep peep peep peep peep peep peep peep peep peep peep peep peep peep peep peep peep peep peep peep peep peep peep peep peep peep peep peep peep peep peep peep peep peep peep peep peep peep peep peep peep peep peep peep peep peep peep peep peep peep peep peep peep peep peep peep peep peep peep peep peep peep peep peep peep peep peep peep peep peep peep peep peep peep peep peep peep peep peep peep peep peep peep peep peep peep peep peep peep peep peep peep peep peep peep peep peep peep peep peep peep peep peep peep peep peep peep peep peep peep peep peep peep peep peep peep peep peep peep peep peep peep peep peep peep peep peep peep peep peep peep peep peep peep peep peep peep peep peep peep peep peep peep peep peep peep peep peep peep peep peep peep peep peep peep peep peep peep peep peep peep peep peep peep peep peep peep peep peep peep peep peep peep peep peep peep peep peep peep peep peep peep peep peep peep peep\n",
      "\n",
      "come on aaaaaaaaaaaaaaaaaaaaaaaaaaaaaaaaaaa aaaaaaaaaaaaaaaaaaaaaaaaaarrrrrrrrr rrrrhhhhhhhhhhhhhhhhhhhhhhhhhhhhhhh hhhhhhhhhhhhhhhhhhhhhhhhhhhhhhhhhhh hhhhhhh peep peep peep peep peep peep peep peep peep peep peep peep peep peep peep peep peep peep peep peep peep peep peep peep peep peep peep peep peep peep peep peep peep peep peep peep peep peep peep peep peep peep peep peep peep peep peep peep peep peep peep peep peep peep peep peep peep peep peep peep peep peep peep peep peep peep peep peep peep peep peep peep peep peep peep peep peep peep peep peep peep peep peep peep peep peep peep peep peep peep peep peep peep peep peep peep peep peep peep peep peep peep peep peep peep peep peep peep peep peep peep peep peep peep peep peep peep peep peep peep peep peep peep peep peep peep peep peep peep peep peep peep peep peep peep peep peep peep peep peep peep peep peep peep peep peep peep peep peep peep peep peep peep peep peep peep peep peep peep peep peep peep peep peep peep peep peep peep peep peep peep peep peep peep peep peep peep peep peep peep peep peep peep peep peep peep peep peep peep peep peep peep peep peep peep peep peep peep peep peep peep peep peep peep peep peep peep peep peep peep peep peep peep peep peep peep peep peep peep peep peep peep peep peep peep peep peep peep peep peep peep peep peep peep peep peep peep peep peep peep peep peep peep peep peep peep peep peep peep peep peep peep peep peep peep peep peep peep peep peep peep peep peep peep peep peep\n",
      "\n",
      "------------------ SAMPLE OF TOPIC 1 DOCUMENTS ----------------------\n",
      "getting hammered every weekend pouring all your money into trucks just to break them dying of black lung packin ' a fuckin ' lip wewlad\n",
      "\n",
      "my rage is slowly growing every day .\n",
      "\n",
      "europe is in such a mess right now . it hurts my soul . one day we will pull through .\n",
      "\n",
      "i know a scottish man.about five foot seven.he has short arms and legs but is very broad shouldered and heavy muscled and was an outstanding powerlifter.he also has red hair blue eyes and red complexion.would he be pure celt or mixture of viking ancestory and celtic.or something else .\n",
      "\n",
      "do you understand why naming people who 's favorite color is green does n't prove everyone 's favorite color is green ?\n",
      "\n",
      "maybe the pit bull should 'accidentally ' get loose after all\n",
      "\n",
      "i prefer the comfort of a polished politician with a silver spoon in his mouth over many not-so-controversial views that most americans hold\n",
      "\n",
      "a ( to fuck his tight asshole )\n",
      "\n",
      "who is this ebony cumslut\n",
      "\n",
      "that shell is a blank round . 1/10 .\n",
      "\n",
      "forget swords . axes all the way\n",
      "\n",
      "just imagine being one of the few white british citizens left , riding the phallic shaped train complete with throbbing veins and rainbow urethra to your stop , reading the latest article about child sex traffickers winning parliament again , scratching at your issued rainbow patch as the doors open and a ravenous mob of muslims and africans tear you limb from limb because you missed your stop at the fag metro .\n",
      "\n",
      "there will never be a country-wide nigga moment\n",
      "\n",
      "i like how you 've squashed the left image . overcompensating as always .\n",
      "\n",
      "if it hurts , you 're scarring your penis it supposed to tickle a little bit , like after fapping 4 times a day . if it hurts , you 'll make your penis retract due to all the scar tissues .\n",
      "\n",
      "guns butts n honey .. who m i\n",
      "\n",
      "the thousand cock stare all women are whores brah\n",
      "\n",
      "this is one of those times when we can sit back and watch our enemies tear into each other . the age old israel/palestine fiasco splits the left straight down the middle and doesnt show any signs of easing up any time soon ...\n",
      "\n",
      "she 's showing her arms though\n",
      "\n",
      "looks grayish to me\n",
      "\n",
      "************* TOPIC 8 *************************\n",
      "children family kids life child parents mother love bump home\n",
      "\n",
      "------------------ TOP TOPIC 8 DOCUMENTS ----------------------\n",
      "oy vey oy vey oy vey oy vey oy vey oy vey oy vey oy vey oy vey oy vey oy vey oy vey oy vey oy vey oy vey oy vey oy vey oy vey oy vey oy vey oy vey oy vey oy vey oy vey oy vey oy vey oy vey oy vey oy vey oy vey oy vey oy vey oy vey oy vey oy vey oy vey oy vey oy vey oy vey oy vey oy vey oy vey oy vey oy vey oy vey oy vey oy vey oy vey oy vey oy vey oy vey oy vey oy vey oy vey oy vey oy vey oy vey oy vey oy vey oy vey oy vey oy vey oy vey oy vey oy vey oy vey oy vey oy vey oy vey oy vey oy vey oy vey oy vey oy vey oy vey oy vey oy vey oy vey oy vey oy vey oy vey oy vey oy vey oy vey oy vey oy vey oy vey oy vey oy vey oy vey oy vey oy vey oy vey oy vey oy vey oy vey oy vey oy vey oy vey oy vey oy vey oy vey oy vey oy vey oy vey oy vey oy vey oy vey oy vey oy vey oy vey oy vey oy vey oy vey oy vey oy vey oy vey oy vey oy vey oy vey oy vey oy vey oy vey oy vey oy vey oy vey oy vey oy vey oy vey oy vey oy vey oy vey oy vey oy vey oy vey oy vey oy vey oy vey oy vey oy vey oy vey oy vey oy vey oy vey\n",
      "\n",
      "please permaban me . please permaban me . please permaban me . please permaban me . please permaban me . please permaban me . please permaban me . please permaban me . please permaban me . please permaban me . please permaban me . please permaban me . please permaban me . please permaban me . please permaban me . please permaban me . please permaban me . please permaban me . please permaban me . please permaban me . please permaban me . please permaban me . please permaban me . please permaban me . please permaban me . please permaban me . please permaban me . please permaban me . please permaban me . please permaban me . please permaban me . please permaban me . please permaban me . please permaban me . please permaban me . please permaban me . please permaban me . please permaban me . please permaban me . please permaban me . please permaban me . please permaban me . please permaban me . please permaban me . please permaban me . please permaban me . please permaban me . please permaban me . please permaban me . please permaban me . please permaban me . please permaban me . please permaban me . please permaban me . please permaban me . please permaban me . please permaban me . please permaban me . please permaban me . please permaban me . please permaban me . please permaban me . please permaban me . please permaban me . please permaban me . please permaban me . please permaban me . please permaban me . please permaban me . please permaban me . please permaban me . please permaban me . please permaban me . please permaban me . please permaban me . please permaban me . please permaban me . please permaban me . please permaban me . please permaban me . please permaban me . please permaban me . please permaban me . please permaban me . please permaban me . please permaban me . please permaban me . please permaban me . please permaban me . please permaban me . please permaban me . please permaban me . please permaban me .\n",
      "\n",
      "please permaban me . please permaban me . please permaban me . please permaban me . please permaban me . please permaban me . please permaban me . please permaban me . please permaban me . please permaban me . please permaban me . please permaban me . please permaban me . please permaban me . please permaban me . please permaban me . please permaban me . please permaban me . please permaban me . please permaban me . please permaban me . please permaban me . please permaban me . please permaban me . please permaban me . please permaban me . please permaban me . please permaban me . please permaban me . please permaban me . please permaban me . please permaban me . please permaban me . please permaban me . please permaban me . please permaban me . please permaban me . please permaban me . please permaban me . please permaban me . please permaban me . please permaban me . please permaban me . please permaban me . please permaban me . please permaban me . please permaban me . please permaban me . please permaban me . please permaban me . please permaban me . please permaban me . please permaban me . please permaban me . please permaban me . please permaban me . please permaban me . please permaban me . please permaban me . please permaban me . please permaban me . please permaban me . please permaban me . please permaban me . please permaban me . please permaban me . please permaban me . please permaban me . please permaban me . please permaban me . please permaban me . please permaban me . please permaban me . please permaban me . please permaban me . please permaban me . please permaban me . please permaban me . please permaban me . please permaban me . please permaban me . please permaban me . please permaban me . please permaban me . please permaban me . please permaban me . please permaban me . please permaban me . please permaban me . please permaban me . please permaban me . please permaban me . please permaban me .\n",
      "\n",
      "please permaban me . please permaban me . please permaban me . please permaban me . please permaban me . please permaban me . please permaban me . please permaban me . please permaban me . please permaban me . please permaban me . please permaban me . please permaban me . please permaban me . please permaban me . please permaban me . please permaban me . please permaban me . please permaban me . please permaban me . please permaban me . please permaban me . please permaban me . please permaban me . please permaban me . please permaban me . please permaban me . please permaban me . please permaban me . please permaban me . please permaban me . please permaban me . please permaban me . please permaban me . please permaban me . please permaban me . please permaban me . please permaban me . please permaban me . please permaban me . please permaban me . please permaban me . please permaban me . please permaban me . please permaban me . please permaban me . please permaban me . please permaban me . please permaban me . please permaban me . please permaban me . please permaban me . please permaban me . please permaban me . please permaban me . please permaban me . please permaban me . please permaban me . please permaban me . please permaban me . please permaban me . please permaban me . please permaban me . please permaban me . please permaban me . please permaban me . please permaban me . please permaban me . please permaban me . please permaban me . please permaban me . please permaban me . please permaban me . please permaban me . please permaban me . please permaban me . please permaban me . please permaban me . please permaban me . please permaban me . please permaban me . please permaban me . please permaban me . please permaban me . please permaban me . please permaban me . please permaban me . please permaban me . please permaban me . please permaban me . please permaban me . please permaban me . please permaban me .\n",
      "\n",
      "please permaban me . please permaban me . please permaban me . please permaban me . please permaban me . please permaban me . please permaban me . please permaban me . please permaban me . please permaban me . please permaban me . please permaban me . please permaban me . please permaban me . please permaban me . please permaban me . please permaban me . please permaban me . please permaban me . please permaban me . please permaban me . please permaban me . please permaban me . please permaban me . please permaban me . please permaban me . please permaban me . please permaban me . please permaban me . please permaban me . please permaban me . please permaban me . please permaban me . please permaban me . please permaban me . please permaban me . please permaban me . please permaban me . please permaban me . please permaban me . please permaban me . please permaban me . please permaban me . please permaban me . please permaban me . please permaban me . please permaban me . please permaban me . please permaban me . please permaban me . please permaban me . please permaban me . please permaban me . please permaban me . please permaban me . please permaban me . please permaban me . please permaban me . please permaban me . please permaban me . please permaban me . please permaban me . please permaban me . please permaban me . please permaban me . please permaban me . please permaban me . please permaban me . please permaban me . please permaban me . please permaban me . please permaban me . please permaban me . please permaban me . please permaban me . please permaban me . please permaban me . please permaban me . please permaban me . please permaban me . please permaban me . please permaban me . please permaban me . please permaban me . please permaban me . please permaban me . please permaban me . please permaban me . please permaban me . please permaban me . please permaban me . please permaban me . please permaban me .\n",
      "\n",
      "please permaban me . please permaban me . please permaban me . please permaban me . please permaban me . please permaban me . please permaban me . please permaban me . please permaban me . please permaban me . please permaban me . please permaban me . please permaban me . please permaban me . please permaban me . please permaban me . please permaban me . please permaban me . please permaban me . please permaban me . please permaban me . please permaban me . please permaban me . please permaban me . please permaban me . please permaban me . please permaban me . please permaban me . please permaban me . please permaban me . please permaban me . please permaban me . please permaban me . please permaban me . please permaban me . please permaban me . please permaban me . please permaban me . please permaban me . please permaban me . please permaban me . please permaban me . please permaban me . please permaban me . please permaban me . please permaban me . please permaban me . please permaban me . please permaban me . please permaban me . please permaban me . please permaban me . please permaban me . please permaban me . please permaban me . please permaban me . please permaban me . please permaban me . please permaban me . please permaban me . please permaban me . please permaban me . please permaban me . please permaban me . please permaban me . please permaban me . please permaban me . please permaban me . please permaban me . please permaban me . please permaban me . please permaban me . please permaban me . please permaban me . please permaban me . please permaban me . please permaban me . please permaban me . please permaban me . please permaban me . please permaban me . please permaban me . please permaban me . please permaban me . please permaban me . please permaban me . please permaban me . please permaban me . please permaban me . please permaban me . please permaban me . please permaban me . please permaban me .\n",
      "\n",
      "please permaban me . please permaban me . please permaban me . please permaban me . please permaban me . please permaban me . please permaban me . please permaban me . please permaban me . please permaban me . please permaban me . please permaban me . please permaban me . please permaban me . please permaban me . please permaban me . please permaban me . please permaban me . please permaban me . please permaban me . please permaban me . please permaban me . please permaban me . please permaban me . please permaban me . please permaban me . please permaban me . please permaban me . please permaban me . please permaban me . please permaban me . please permaban me . please permaban me . please permaban me . please permaban me . please permaban me . please permaban me . please permaban me . please permaban me . please permaban me . please permaban me . please permaban me . please permaban me . please permaban me . please permaban me . please permaban me . please permaban me . please permaban me . please permaban me . please permaban me . please permaban me . please permaban me . please permaban me . please permaban me . please permaban me . please permaban me . please permaban me . please permaban me . please permaban me . please permaban me . please permaban me . please permaban me . please permaban me . please permaban me . please permaban me . please permaban me . please permaban me . please permaban me . please permaban me . please permaban me . please permaban me . please permaban me . please permaban me . please permaban me . please permaban me . please permaban me . please permaban me . please permaban me . please permaban me . please permaban me . please permaban me . please permaban me . please permaban me . please permaban me . please permaban me . please permaban me . please permaban me . please permaban me . please permaban me . please permaban me . please permaban me . please permaban me . please permaban me .\n",
      "\n",
      "please permaban me . please permaban me . please permaban me . please permaban me . please permaban me . please permaban me . please permaban me . please permaban me . please permaban me . please permaban me . please permaban me . please permaban me . please permaban me . please permaban me . please permaban me . please permaban me . please permaban me . please permaban me . please permaban me . please permaban me . please permaban me . please permaban me . please permaban me . please permaban me . please permaban me . please permaban me . please permaban me . please permaban me . please permaban me . please permaban me . please permaban me . please permaban me . please permaban me . please permaban me . please permaban me . please permaban me . please permaban me . please permaban me . please permaban me . please permaban me . please permaban me . please permaban me . please permaban me . please permaban me . please permaban me . please permaban me . please permaban me . please permaban me . please permaban me . please permaban me . please permaban me . please permaban me . please permaban me . please permaban me . please permaban me . please permaban me . please permaban me . please permaban me . please permaban me . please permaban me . please permaban me . please permaban me . please permaban me . please permaban me . please permaban me . please permaban me . please permaban me . please permaban me . please permaban me . please permaban me . please permaban me . please permaban me . please permaban me . please permaban me . please permaban me . please permaban me . please permaban me . please permaban me . please permaban me . please permaban me . please permaban me . please permaban me . please permaban me . please permaban me . please permaban me . please permaban me . please permaban me . please permaban me . please permaban me . please permaban me . please permaban me . please permaban me . please permaban me .\n",
      "\n",
      "please permaban me . please permaban me . please permaban me . please permaban me . please permaban me . please permaban me . please permaban me . please permaban me . please permaban me . please permaban me . please permaban me . please permaban me . please permaban me . please permaban me . please permaban me . please permaban me . please permaban me . please permaban me . please permaban me . please permaban me . please permaban me . please permaban me . please permaban me . please permaban me . please permaban me . please permaban me . please permaban me . please permaban me . please permaban me . please permaban me . please permaban me . please permaban me . please permaban me . please permaban me . please permaban me . please permaban me . please permaban me . please permaban me . please permaban me . please permaban me . please permaban me . please permaban me . please permaban me . please permaban me . please permaban me . please permaban me . please permaban me . please permaban me . please permaban me . please permaban me . please permaban me . please permaban me . please permaban me . please permaban me . please permaban me . please permaban me . please permaban me . please permaban me . please permaban me . please permaban me . please permaban me . please permaban me . please permaban me . please permaban me . please permaban me . please permaban me . please permaban me . please permaban me . please permaban me . please permaban me . please permaban me . please permaban me . please permaban me . please permaban me . please permaban me . please permaban me . please permaban me . please permaban me . please permaban me . please permaban me . please permaban me . please permaban me . please permaban me . please permaban me . please permaban me . please permaban me . please permaban me . please permaban me . please permaban me . please permaban me . please permaban me . please permaban me . please permaban me .\n",
      "\n",
      "bump bump bump bump bump bump bump bump bump bump bump bump bump bump bump bump bump bump bump bump bump bump bump bump bump bump bump bump bump bump bump bump bump bump bump bump bump bump bump bump bump bump bump bump bump bump bump bump bump bump bump bump bump bump bump bump bump bump bump bump bump bump bump bump bump bump bump bump\n",
      "\n",
      "tsuuuuuuuuuuuuuuuuuuuuuuuuuuuuuuuu uuuuuuuuuuuuuuuuuuuuuuuuuuuuuuuuuuu uuuuuuuuuuuuuuuuuuuuuuuuuuuuuuuuuuu uuuuuuuuuuuuuuuuuuuuuuuuuuuuuuuuuuu uuuuuuuuuuuuuuuuuuuuuuuuuuuuuuuuuuu uuuuuuuuuuuuuuuuuuuuuuuuuuuuuuuuuuu uuuuuuuuuuuuuuuuuuuuuuuuuuuuuuuuuuu uuuuuuuuuuuuuuuuuuuuuuuuuuuuuuuuuuu uuuuuuuuuuuuuuuuuuuuuuuuuuuuuuuuuuu uuuuuuuuuuuuuuuuuuuuuuuuuuuuuuuuuuu uuuuuuuuuuuuuuuuuuuuuuuuuuuuuuuuuuu uuuuuuuuuuuuuuuuuuuuuuuuuuuuuuuuuuu uuuuuuuuuuuuuuuuuuuuuuuuuuuuuuuuuuu uuuuuuuuuuuuuuuuuuuuuuuuuuuuuuuuuuu uuuuuuuuuuuuuuuuuuuuuuuuuuuuuuuuuuu uuuuuuuuuuuuuuuuuuuuuuuuuuuuuuuuuuu uuuuuuuuuuuuuuuuuuuuuuuuuuuuuuuuuuu uuuuuuuuuuuuuuuuuuuuuuuuuuuuuuuuuuu uuuuuuuuuuuuuuuuuuuuuuuuuuuuuuuuuuu uuuuuuuuuuuuuuuuuuuuuuuuuuuuuuuuuuu uuuuuuuuuuuuuuuuuuuuuuuuuuuuuuuuuuu uuuuuuuuuuuuuuuuuuuuuuuuuuuuuuuuuuu uuuuuuuuuuuuuuuuuuuuuuuuuuuuuuuuuuu uuuuuuuuuuuuuuuuuuuuuuuuuuuuuuuuuuu uuuuuuuuuuuuuuuuuuuuuuuuuuuuuuuuuuu uuuuuuuuuuuuuuuuuuuuuuuuuuuuuuuuuuu uuuuuuuuuuuuuuuuuuuuuuuuuuuuuuuuuuu uuuuuuuuuuuuuuuuuuuuuuuuuuuuuuuuuuu uuuuuuuuuuuuuuuuuuuuuuuuuuuuuuuuuuu uuuuuuuuuuuuuuuuuuuuuuuuuuuuuuuuuuu uuuuuuuuuuuuuuuuuuuuuuuuuuuuuuuuuuu uuuuuuuuuuuuuuuuuuuuuuuuuuuuuuuuuuu uuuuuuuuuuuuuuuuuuuuuuuuuuuuuuuuuuu uuuuuuuuuuuuuuuuuuuuuuuuuuuuuuuuuuu uuuuuuuuuuuuuuuuuuuuuuuuuuuuuuuuuuu uuuuuuuuuuuuuuuuuuuuuuuuuuuuuuuuuuu uuuuuuuuuuuuuuuuuuuuuuuuuuuuuuuuuuu uuuuuuuuuuuuuuuuuuuuuuuuuuuuuuuuuuu uuuuuuuuuuuuuuuuuuuuuuuuuuuuuuuuuuu uuuuuuuuuuuuuuuuuuuuuuuuuuuuuuuuuuu uuuuuuuuuuuuuuuuuuuuuuuuuuuuuuuuuuu uuuuuuuuuuuuuuuuuuuuuuuuuuuuuuuuuuu uuuuuuuuuuuuuu\n",
      "\n",
      "merry christmas merry christmas merry christmas merry christmas merry christmas merry christmas merry christmas merry christmas merry christmas merry christmas merry christmas merry christmas merry christmas merry christmas merry christmas merry christmas merry christmas merry christmas merry christmas merry christmas\n",
      "\n",
      "have more children , have more children , have more children , have more children , have more children , have more children , have more children , have more children , have more children , have more children , have more children , have more children , have more children , have more children , have more children , have more children , have more children , have more children , have more children , have more children , have more children , have more children , have more children , have more children , have more children , have more children , have more children , have more children , have more children , have more children , have more children , have more children , have more children , have more children , have more children , have more children , have more children , have more children , have more children , have more children , have more children , have more children , have more children , have more children , have more children , have more children , have more children , have more children , have more children , have more children , have more children , have more children , have more children , have more children , have more children , have more children , have more children , have more children , have more children , have more children , have more children , have more children , have more children , have more children , have more children , have more children , have more children , have more children , have more children , have more children , have more children , have more children , have more children , have more children , have more children , have more children , have more children , have more children , have more children , have more children , have more children , have more children , have more children , have more children , have more children , have more children , have more children , have more children , have more children , have more children , have more children , have more children , have more children , have more children , have more children , have more children , have more children , let them live like rats\n",
      "\n",
      "he died he died he died he died he died he died he died he died he died he died he died he died he died he died he died he died he died he died he died he died he died he died he died he died he died he died he died he died\n",
      "\n",
      "ripping children from their parents . ripping children from their parents . ripping children from their parents . ripping children from : their parents ? ripping . children . from . their . parents . ripping children from their parents ripping children ; from their parents . # rippingchildrenfromtheirparents . ripping children from their parents . ripping children ... from their parents .\n",
      "\n",
      "bump she back bump she back bump she back bump she back bump she back bump she back bump she back bump she back bump she back bump she back bump she back bump she back bump she back bump she back bump she back bump she back bump she back bump she back bump she back bump she back bump she back bump she back bump she back bump she back bump she back bump she back bump she back\n",
      "\n",
      "bump bump bump bump bump bump bump bump bump bump bump bump bump bump bump bump bump bump bump bump bump bump bump bump bump bump bump\n",
      "\n",
      "merry christmas merry christmas merry christmas merry christmas merry christmas merry christmas merry christmas merry christmas merry christmas merry christmas merry christmas merry christmas\n",
      "\n",
      "sick sick sick sick sick sick sick sick sick sick sick sick sick sick sick sick sick sick sick sick sick sick\n",
      "\n",
      "bump limit bump limit bump limit bump limit bump limit bump limit bump limit bump limit bump limit bump limit\n",
      "\n",
      "------------------ SAMPLE OF TOPIC 8 DOCUMENTS ----------------------\n",
      "aww , i seem to have hurt the little echochamberling feelings , they shoad my posts . so cute .\n",
      "\n",
      "one of my best friends saw mde live ! ! ! ! also , yes there is going to be a show on [ adultswim ] .\n",
      "\n",
      "this is epic bump\n",
      "\n",
      "can you imagine jews having to do real work ?\n",
      "\n",
      "i am not the only child i am the youngest of three sons my mother was married 7 times and all of my siblings are half . as in all different fathers . my father has a daughter from another wife.married 4 times ... black sheep on that side of the family .\n",
      "\n",
      "i made an easter ( or should i say pessah ) meme specifically for the glory of the spd . let 's hope that the votes drop again , boomers are dying . btw , i was out all day hiding eggs for the children , my wife and daughters painted them according to tradition , could n't post picture since the children were faster than their father . what did you do for easter ?\n",
      "\n",
      "can i get one without having to pretend to be a christcuck ?\n",
      "\n",
      "thanks , of course probabilities accumulate . found this : if parents are unrelated , their chance of having a child with a birth defect or disability is etween 2 % and 3 % . if parents are first cousins , the chance is a little higher at 5 % to 6 % . this is due to the ncreased chance that they will both carry the same autosomal recessive mutation , passed down through the family from here : where indeed a doubling is claimed for a one time offense though .\n",
      "\n",
      "you 're truly smart . she 's only ever had one sexual partner : her ex husband whom she met at age 17 ( together for 20 years ) . i could have been her second partner .\n",
      "\n",
      "i was born here i will die here\n",
      "\n",
      "nice treasure you have there . congrats !\n",
      "\n",
      "bump\n",
      "\n",
      "salam brother\n",
      "\n",
      "it does n't take two years for a mother/child bond to form . where did you get that information ? a mother-child bond is continously forming until that child is no longer a child . where as you think she over-estimates , i think she under-estimates . the great nation of sweeden , gives 3 years paid maternity leave . with hot chicks and maternity leave the arabs are flooding in two year olds on prozac ? i would n't put anything past the jew , but yea this does sound a little far fetched . they do n't place 6 week old babies infront of the tv all day . i 've never seen a daycare with a tv , unless it 's for viewing videos once a week for older children . why brain-wash with t.v , their are much more effective visual and audial ( is that a word ? ) methods that daycares employ . teens medicated for emontional issues , simply because the parents do n't commuincate with their children as they are growing up . you need to talk to your children , find out how they feel , be involved in their lives as much as you can . you contradict yourself `` be involved in their lifes as much as you can . '' that is what we are arguing ! work is an un-necessary obstacle towards that goal . i stayed home for 3 years with my son . i talk to my son every day about how school went , if anything happend , ect . i am not a stay at home mom according to sweeden you are . and my son is a happy healthy child . i think working mom 's or stay at home mom 's ... as long as they can communicate openly with their children , be involved with school , and other issues in their lives , their children are happy and healthy . how is a full-time employed mother supposed to take on another full-time job ? your asking mom 's to burn themselves out , just so they can show men that they can work . light ! any good guy knows that his wife is doing more work and more good than him ! in my post earlier about chivalry , i think you should read that , since it defines how mom 's get the better deal than dad 's , for the most part .\n",
      "\n",
      "i claimed it was for humanities coursework dad knew though , but said nothing to my mother .\n",
      "\n",
      "congrats !\n",
      "\n",
      "and mommy is proud . i have to go to bed in exactly 24 minutes , but she may allow me to stay up . i am not sure if i should take her up on that offer though , since i am happy that i made mommy happy right now .\n",
      "\n",
      "bump\n",
      "\n",
      "tuck cucked this time by choice . sad .\n",
      "\n",
      "bump .\n",
      "\n",
      "************* TOPIC 2 *************************\n",
      "said police year crime man told murder prison court old\n",
      "\n",
      "------------------ TOP TOPIC 2 DOCUMENTS ----------------------\n",
      "αισχος ! ! ! ! βενιζελος και γιαγκος ξεφτελυσαν τις ελληνικες ενοπλες δυναμεις τιμησαν τον αρχηγο των λαμπρακηδων κατα παραβασιν καθε ηθικης και στρατιωτικης ταξεως ο υπουργος αμυνας ε. βενιζελος και ο ακαπνος τρικαλινος αρχηγός γεεθα πτέραρχος ( ι ) ιωάννης γιάγκος.ενω σφυριζουν αδιαφορα οταν οι τουρκοι βολταρουν στο αγαιο σαν να ειναι πλιατσικο αυτοι μεσα σε μια περιοδο οικονομικης κρισης μαζεψαν τiς πρασινες παρεες τους απο ενστολους μαριονετες και γλεντοκοπουσαν . την ιδια ωρα ο γιανγκος χαριζε τα ξιφη των τριων κλαδων των ενοπλων δυναμεων στον αλλοτε πολεμιο του στρατου και των σωματων ασφλειας ! ! ! ! εμεις που δωσαμε μαχη εναντιον των λαμπρακηδων πλαι στις ενοπλες δυναμεις δεν θα συγχωρεσουμε ποτε την αλητεια που διαπραχθηκε στη λεσχη αξιωματικων την πρωτη ημερα του νεου ετους.πριν μερικα χρονια καποιοι αλλοι αρχηγισκοι ειχαν υποχρεωσει τους ελληνες αξιωματικους να στεκονται προσοχη στον φλωρακη ενω στις 24-5-2005 διατάχθηκαν οι στρατιωτικές μονάδες να αναρτήσουν τις σημαίες των μεσίστιες εις ένδειξιν συμμετοχής των στο επίσημο πένθος του κράτους για τον θάνατο του φλωράκη ! ! ! ( ο οποίος εκπαιδευθείς στην σοβιετική ¨ένωση εστάλη και διετέλεσε - ως καπετάν γιώτης - διοικητής της ι μεραρχίας του « « « δημοκρατικού στρατού » » » κατά τις επιχειρήσεις του εναντίον του ¨έθνους , ευθυνόμενος για χιλιάδες σφαγές , αξιωματικών και οπλιτών του ε.ς . ) ο ανεκδιηγητος τσοχατζοπουλος σε μια αλλη περιοδο κατεστρεψε την ιστορια των ενοπλων δυναμεων χωρις ενας απο την τοτε ηγεσια να παραιτηθει ! ! ! πτεραρχε γιαγκο ! ! ! ! μην ξεχνας οτι ο στρατος δεν θα σας παρακολουθει για πολυ να διαλυετε την πατριδα ! ! ! ! υπαρχουν καποιοι λοχαγοι που πονανε για οσα συμβαινουν στον τοπο και αν συνεχισετε ετσι θα σας δεσουν μια μερα ! ! ! θυμηθειτε το ! ! ! ντροπη ! ! ! και πιστευμε οτι εκφραζουμε την πλειοψηφια των ελληνων ενστολων ! ! ! α και επι τη ευκαιρια μια και εσεις ασχολειστε με τον αρχηγο των λαμπρακηδων και με αλοτρια ! ! ! η παραπάνω φωτογραφία είναι εξαιρετικά αφιερωμένη στην στρατηγική ψυχραιμία του κ. βενιζέλου στο πλεόνασμα ειρήνης του `` dongfire '' κ. μπεγλίτη ... και στην μαγκεια του κ γιαγκου ; το εικονιζόμενο patch `` κοσμεί '' το μπράτσο ενός ιπταμένου της 162 filo της συμμαχικής -κατά τα άλλα- τηκ η οποία εδρεύει στην αεροπορική βάση πανόρμου ( βandirma ) . η συγκεκριμένη μοίρα πετάει με f-16 block 40 και το κωδικό της όνομα είναι ζipkin δηλαδή `` καμάκι '' ... στο συγκεκριμένο σήμα διακρίνουμε ένα τουρκικό μαχητικό να καμακώνει ένα μπλέ μιράζ με κατακόκκινο καμάκι επάνω απο το νοτιοανατολικό αιγαίο . η επιγραφή `` malkoçoğlu zipkinlar '' ( καμάκια των μαλκότσογλου ) συμπληρώνει τον συμβολισμό έτσι ώστε να μην υπάρχει κανένα περιθώριο παρερμηνείας . η οικογένεια malkoçoğlu είναι μέρος της οθωμανικής κληρονομιάς των γειτόνων και ηγήθηκε για ένα μεγάλο χρονικό διάστημα ( 15ο-16ο αιώνα ) το σώμα των αkinci ( μτφ επιδρομείς ) , ατάκτων ιππέων οι οποίοι επέδραμαν σε γειτονικούς λαούς της οθωμανικής αυτοκρατορίας , με συστηματικό πλιάτσικο και σφαγές ... πέρα απο την ξεκάθαρη εκδήλωση προθέσεων που αντιπροσωπεύουν , τα συγκεκριμένα προκλητικά patch των τούρκων στοχεύουν και στην τόνωση του ηθικού των ιπταμένων τους ,\n",
      "\n",
      "εγώ προσωπικά είμαι σε συνεχή μοντερέσιον για άγνωστους λόγους . το 70 % των απαντήσεών μου στο νήμα που άνοιξα πριν από λίγες μέρες δεν δημοσιεύτηκε ενώ ελεύθερα οι κωλοαγγλοσάξονες μας βρίζανε και μας κοροϊδεύανε στο νήμα . δεν με αφήνανε καν να απαντήσω . αυτός ο κωλοαυστραλός από το κομμάτι του στόρμφροντ αυστραλίας κάνει κουμάντο στο ευρωπαϊκό υποτίθεται κομμάτι του φόρουμ . να πά να γαμηθούνε οι σκατοβάρβαροι , σκατά στους τάφους τους . συμφωνώ με τον εθνιστή . γαμώ τις μάνες τους . προσωπικά πιστεύω ότι γύρω στο 80 % όλων των λεγόμενων `` άσπρων εθνικιστών '' πιστεύουνε ότι η νότιος ευρώπη είναι μιξαρισμένη με νέγρους και άραβες από τα αρχαία χρόνια λόγω σκλάβων και είναι αμετάπειστοι για αυτό . επειδή οι κωλοκοινωνίες τους δεχτήκανε αβίαστα εκατομμύρια νέγρους και ασιάτες κλπ και οι γυναίκες τους λυσσάξανε για αράπικο καβλί , νομίζουν ότι με τον ίδιο τρόπο σκεφτόντουσαν και οι έλληνες . αυτό θα πει βαρβαρικός τρόπος σκέψης . τι να τους εξηγήσεις ; ότι το μόνο που έχουμε είναι ένα ποσοστό από συγγενικούς φυλετικά αρβανίτες κ βλάχους και ένα το πολύ 5 % διαφόρων στοιχείων που απορροφήθηκαν στον ελληνικό πληθυσμό ; ειδικά οι αμερικάνοι είναι τόσο καθυστερημένοι που το μόνο που βλέπουν στη ζωή τους είναι ξανθούς αμερικάνους , νέγρους και μεξικανούς . ωπότε όλους τους νοτιοευρωπαίους τους βλέπουν κάτι σαν μεξικανούς ! εϊμαι σίγουρος ! επίσης οι αγγλοσάξονες και οι γερμανοί είναι συνήθως οι πιο εχθρικοί . δε θα μας συγχωρήσουν ποτέ ότι δεν μας σφάξανε όλους οι τούρκοι , ώστε να κρατάνε ως ταχα δική τους την αρχαιοελληνική κληρονομιά την οποία όντως είχαν τα μέσα και τους πόρους να βγάλουν από τη γη και να την κλέψουν στο μεγαλύτερο μέρος της , στα τέλη της οθωμανικής αυτοκρατορίας . σκατά στους τάφους τους λοιπόν . κανένα έλεος για τους εχθρούς του ελληνισμού ..\n",
      "\n",
      "θυμάμαι ακόμα με ρίγη τα όσα μου εξιστόρησε ο πατέρας μου για τα γεγονότα με το βασιλιά στην αρχή του πραξικοπήματος.τότε ήτανε φαντάρος σε μηχανοκίνητη μονάδα της μακεδονίας.μου είχε περιγράψει τα εξής ... '' ξέραμε ότι γίνονταν ταραχές στην αθήνα αλλά δεν είχαμε καμμία περεταίρω πληροφόρηση και με ένα μικρό ράδιο , προσπαθούσαμε όλοι οι φαντάροι να πιάσουμε bbc για να δούμε τι ακριβώς γίνεται.μας είχε απαγορευτεί κάθε επικοινωνία με τον έξω κόσμο.είχα να μιλήσω με τη μάνα σου , κι εγώ δεν ξέρω πόσο ... ο στρατός είχε χωριστεί στα δύο.βασιλικοί και χουντικοί.και όταν λέω ο στρατός , εννοώ οι αξιωματικοί.ο δικός μας διοικητής ήταν βασιλικός.άρα και όλη η μονάδα πήρε τη μεριά του βασιλιά που ετοίμαζε αντιπραξηκόπημα ... ένα πρωί καλείται έκτακτη αναφορά συντάγματος.μας είπαν ξερά.ετοιμάστε τα τάγματα για εκστρατεία.αύριο χτυπάμε τη θεσσαλονίκη ... παγώσαμε . πολλοί φαντάροι είχαν συγγενείς που υπηρετούσαν γύρω ή και μέσα στη θεσσαλονικη και είχε τύχει ν ` ανήκουν σε χουντικά τάγματα.μεταξύ αυτών κι εγώ , που είχα το θείο σου στην κατερίνη σε τάγμα χουντικό . μαζευτήκαμε το βράδυ μερικοί φαντάροι και αποφασίσαμε ότι αν τελικά δινόταν αύριο διαταγή να χτυπήσουμε έλληνες αδελφούς στη θεσσαλονίκη , θα `` τρώγαμε '' πρώτα εν ψυχρώ τους αξιωματικούς και τους υπαξιωματικούς , και μετά θα περνάγαμε τα σύνορα με τελικό προορισμό την ιταλία ... τελικά το χτύπημα στη θεσσαλονίκη ακυρώθηκε.ευτυχώς.το γιατί το μάθαμε μερικές ημέρες μετά ... κατάλαβες τι κάνανε ? χουντικοί και βασιλικοί.ήταν αδίστακτοι.δεν είχαν κανένα σεβασμό στο ελληνικό αίμα που ήταν πρόθυμοι να χύσουν για να φέρουν εις πέρας τα σχέδιά τους.και παρίσταναν και τους πατριώτες στέλνοντας εικοσάχρονα ελληνόπουλα να αιματοκυλιστούν μεταξύ τους ... '' . αυτά για τους δήθεν `` πατριώτες '' , παπαδόπουλο και σια .\n",
      "\n",
      "quote : ανακοινωση τυπου 22/4/2009 μ.χ . αλβανικο πραξικοπημα κατα του ελληνα δημαρχου χειμαρρας καταδικασαν τον μπολανο σε εξι μηνες φυλακιση και τριετη παυση καθηκοντων σε νέο πραξικόπημα κατά της ελληνικής εθνικής κοινότητας των βορειοηπειρωτών ελλήνων , προχώρησαν οι μηχανισμοί των τιράνων , καθώς καταδίκασαν τον νόμιμο έλληνα δήμαρχο της θρυλικής χειμάρρας και ταυτόχρονα πρόεδρο της « ομόνοιας » , σε τριετή στέρηση της δημαρχιακής του ιδιότητας , σε φυλάκιση έξι μηνών και πρόστιμο περίπου 4.000 ευρώ ! η καταδίκη του βασίλη μπολάνου , που στο παρελθόν δημόσια είχε πολλές φορές μιλήσει για τα δικαιώματα του ελληνισμού και για την αυτονομία της βορείου ηπείρου , όπως προβλέπεται από διεθνείς συνθήκες και αποφάσεις , ήταν προαποφασισμένη ! μάλιστα είχε δεχθεί και απειλές κατά της ζωής του , ενώ είχαν δημοσιευθεί και πληροφορίες για σχέδιο εκτέλεσής του ! η κατηγορία του δικαστηρίου , ήταν απλά μια πρόφαση για να εξοντωθεί ο « νέος σπυρομήλιος » όπως τον αποκαλούν κάποιοι , ο οποίος σαν νόμιμα εκλεγμένος δήμαρχος χειμάρρας , αφαίρεσε οδικές πινακίδες εντός του ελληνόφωνου δήμου του , οι οποίες ήταν γραμμένες μόνο σε αλβανικά και αγγλικά και τις αντικατέστησε με πινακίδες και στα ελληνικά ! η ενέργειά του εκείνη , ήταν κόκκινο πανί για τους θιασώτες του αλβανικού εθνικισμού , και τους σχεδιαστές της πλήρους εξόντωσης και υποταγής του ελληνικού στοιχείου , μέσα στην προαιώνια πατρίδα του ! έτσι την τρίτη 21/4/2009 , αλβανικό δικαστήριο , μη δεχόμενο καν τον συνήγορο υπεράσπισης του ηρωικού έλληνα δημάρχου , αποφάσισε τον εγκλεισμό του στη φυλακή για έξι μήνες , την στέρηση της δημαρχιακής του ιδιότητας για τρία χρόνια και την επιβολή του αρκετά μεγάλου για τα αλβανικά δεδομένα προστίμου των περίπου 4.000 ευρώ ! το εθνικο θεμα και η παγια γραμμη υπερασπισης του 1 σημειώνεται πως είναι διεθνώς ανοικτό , νόμιμο και άμεσα υλοποιήσιμο , το κατοχυρωμένο δικαίωμα της αυτονομίας της βορείου ηπείρου , ενώ εκκρεμεί η τελική ρύθμιση της επανένωσης της περιοχής με την υπόλοιπη ελλάδα , στο συμβούλιο υπουργών εξωτερικών των 4 μεγάλων δυνάμεων , νικητριών του β΄ παγκοσμίου πολέμου , δηλαδή ρωσίας , ηπα , αγγλίας και γαλλίας , όπου εκκρεμούσε και τελικά ρυθμίστηκε το ζήτημα της επανένωσης της ανατολικής γερμανίας με τη μητρική γερμανία ! 2 επίσης τονίζεται , ότι η αναγνώριση ανεξαρτησίας του κοσσυφοπεδίου , προϋποθέτει την - στον αυτό βαθμό - αναγνώριση της ανεξαρτησίας της βορείου ηπείρου ! 3 δεν νοείται είσοδος της αλβανίας στην ε.ε . εάν προηγουμένως δεν αναγνωρισθεί από τα τίρανα η αυτονομία της βορείου ηπείρου ! μια τέτοια μη σύντομη και καθολική αναγνώριση , θα οδηγήσει στην ανακήρυξη της ανεξαρτησίας της βορείου ηπείρου , κατά τα πρότυπα του κοσσόβου ! 4 η διακήρυξη του γεωργίου παπανδρέου από του βήματος της βουλής των ελλήνων στις 12/6/1960 ( 31/5 ) αποτελεί δέσμευση , υποχρέωση και αμετάκλητη απόφαση όλων των ελλήνων : « εκείνο πάντως το οποίο οφείλουν όλαι αι ελληνικαί κυβερνήσεις να γνωρίζουν , είναι ότι το θέμα ( της βορείου ηπείρου ) υφίσταται . και εκείνον το οποίον απαγορεύεται εις τον αιώνα , είναι δι΄ οιονδήποτε λόγον η απάρνησις του ιερού αιτήματος… .. καθ΄ όσον αφορά την βόρειο ήπειρο ... η διεκδίκησις είναι ιερά και απαράγραπτος » ! ! ! noiazomai.net\n",
      "\n",
      "gang gang gang gang gang gang gang gang gang gang gang gang gang gang gang gang gang gang gang gang gang gang gang gang gang gang gang gang gang gang gang gang gang gang gang gang gang gang gang gang gang gang gang gang gang gang gang gang gang gang gang gang gang gang gang gang gang gang gang gang gang gang gang gang gang gang gang gang gang gang gang gang gang gang gang gang gang gang gang gang gang gang gang gang gang gang gang gang gang gang gang gang gang gang gang gang gang gang gang gang gang gang gang gang gang gang gang gang gang gang gang gang gang gang gang gang gang gang gang gang gang gang gang gang gang gang gang gang gang gang gang gang gang gang gang gang gang gang gang gang gang gang gang gang gang gang gang gang\n",
      "\n",
      "black buck arrested for killing white girlfriend and shooting another man police have identified a man accused in the shooting that killed one person and injured another one monday afternoon in southwest oklahoma city . according to police , just before 6 p. m. , officers responded to the report of a shooting at an apartment complex in the 1700 block of s. grand blvd . carolyn nicole riggs , 20 , was killed and another unidentified man was injured after being shot , police said . the suspect , 25-year-old ricky lee knowles , was armed with a pistol and was heading out the back of the apartment when he was confronted by lt. marc scott . police said lt. scott fired at knowles , missing him . knowles then went back into the apartment and surrendered . he was taken into custody . during the investigation , officers learned that knowles and riggs were in a relationship . they were visiting family and friends at the apartment complex when knowles grabbed a pistol from a backpack and shot riggs numerous times . a short time later , police said knowles shot a man multiple times before he was confronted by police . both victims were transported to ou medical center . however , riggs died from her injuries . the other victim is expected to survive . lt. scott has been placed on administrative leave . he has been with the oklahoma city police department for 19 years . knowles was booked into the oklahoma county jail on charges of first-degree burglary , first-degree murder , and discharging a firearm with intent to kill .\n",
      "\n",
      "black witch arrested for kidnapping and fatally beating elderly white man authorities have arrested a woman accused of kidnapping and assaulting an elderly oklahoma city man , resulting in his death . according to authorities , evelyn goldsmith , 40 , was arrested and booked into the oklahoma county jail at about 10 p. m. monday . according to police , on october 6 , the victim , 71-year-old paul david birdsall sr. , was transported to an area hospital by emsa due to an assault . birdsall told police that he had been held against his will for several days and forced to drive to an atm to withdraw cash and give to goldsmith . police said goldsmith assaulted birdsall numerous times between september 25 and october 6 . goldsmith reportedly left the residence on october 6 , and birdsall was able to call emsa . birdsall passed away over the weekend as a result of his injuries . goldsmith is facing multiple charges , including aggravated assault and battery of the aged and decrepit , two counts of domestic abuse by strangulation , domestic assault and battery with a dangerous weapon , and eight counts of first-degree robbery ( fear of immediate harm . ) because of birdsall ’ s death , investigators said they will also seek a first-degree murder charge against goldsmith .\n",
      "\n",
      "trio charged with assault after brutally beating man who accidentally stepped in their picture a man who stepped into the frame of a picture being taken outside a bar was beaten so badly he has been blinded in one eye . the 30-year-old victim was knocked unconscious but the attackers continued to beaten him after he accidentally photobombed their shot . the unidentified man suffered intra-cranial haemorrhage and facial fractures , and he will never see again in his right eye , according to the new york daily news . the attack happened early in the morning outside a bar in lodo , denver , shortly after the venue had closed . people were out in the street and taking photos of each other when the mistaken photobomb incident happened . bryana warren , 25 , was infuriated and started arguing with the victim and hitting him , according to the denver channel . police documents revealed she pushed the man , and then he pushed her back before walking away . but warren and her friend lindsye newton , also 25 , followed him and hurled abuse at him . the victim once again pushed them away . reacting , terrell moore , 27 , jumped in and knocked the 30-year-old unconscious – a punch that was witnessed by police . read more\n",
      "\n",
      "second black suspect identified in beating death of 60-year-old white man toronto police have identified a second suspect wanted in connection with the beating death of a 60-year-old man in the west end on thursday night . police say the victim , richard pepper , was walking with a friend in the area of dundas street west and mabelle avenue at around 8:30 p. m. when they were approached by a group of men and assaulted . the victim ’ s friend was able to escape but police say pepper sustained serious head injuries and later died in hospital . investigators previously released the name of the first suspect , 22-year-old jamal abdinasir hassan , and now say a second suspect has been identified . gonffa krow , 20 , of toronto , is wanted for second-degree murder , police say . the suspect is described as black , five-foot-seven and weighs 143 pounds . anyone with information is asked to contact police at 416-808-7400 or crime stoppers anonymously at 416-222-8477 .\n",
      "\n",
      "execution date set for black thief who shot white cop in the head a man convicted of murdering a baldwin county sheriff ’ s deputy nearly 20 years ago is scheduled to be executed on dec. 9 . according to a news release from georgia attorney general sam olens , robert wayne holsey is scheduled to be executed at 7 p. m. on dec. 9 . hosley was convicted of murdering deputy will robinson dec. 17 , 1995 . holsey was charged and convicted of malice murder , felony murder and armed robbery , after he robbed a milledgeville convenience store with a gun , and later shot and killed robinson . the deputy had stopped holsey ’ s car , because it matched the description provided by the store clerk . when robinson walked up to the car , holsey fired his gun , shooting the deputy in the head and killing him . holsey was convicted by a jury in february 1997 . hosley appealed for a new trial to several courts over 16 years , including a u. s. supreme court case in june 2013 . all those requests were denied .\n",
      "\n",
      "accused black criminal violently attacks white judge in court a man who appeared in cook county court thursday morning on aggravated battery charges attacked the judge after his hearing , sending him to the hospital , cook county sheriff ’ s authorities said . the sheriff ’ s office said michael ganter was being escorted by two sheriffs to a holding cell just before noon when he broke free near the side of the judge ’ s bench . ganter went to the judge and punched him in the head and face , authorities said . sheriff ’ s officers and other law enforcement in the courtroom assisted in subduing him . a taser was deployed during the incident , sheriff ’ s authorities said , and officials confirmed the judge was hit in the hand with a probe from the device . the judge was transported to loyola university medical center in maywood . his condition wasn ’ t immediately released . sheriff ’ s authorities said ganter was not cuffed at the time , which officials said is normal procedure . new charges are expected to be filed against ganter .\n",
      "\n",
      "convicted negro felon charged with rape and murder of white people prosecutors have filed charges against a man currently serving time in prison after they say he killed two men and sexually assaulted a woman on the city ’ s north side three years ago . marcus allen howell was charged wednesday , june 24 , with two counts of felony murder and first-degree criminal sexual conduct in an aug. 5 , 2012 , attack that left 54-year-old randy phillips and 40-year-old patrick h. boven dead . the two were found shot to death around 5:30 a. m. inside the home on dayton street . police said a woman had apparent knife wounds to her neck and ran to a neighbor ’ s house to call 911 , saying that someone broke into the home killing the two men and cutting her several times . genesee county prosecutor david leyton said the investigation revealed the woman was also sexually assaulted during the attack . read more\n",
      "\n",
      "black who suffocated white wife before dumping her body gets 18 years a man has been sentenced to 18 years in prison for killing his wife in indiana and dumping her body in a southwestern ohio ditch . a vigo county judge ordered the sentence tuesday for 50-year-old lorenzo archer jr. after he pleaded guilty to voluntary manslaughter and other charges in the death of kayla archer . the tribune-star reports authorities say the couple was living in terre haute before kayla archer ’ s body was found in june 2013 in greene county , ohio . investigators believe she had died perhaps three days earlier from asphyxiation . authorities needed three days before her body was identified through fingerprints . lorenzo archer was later arrested in myrtle beach , s. c. he had faced a murder charge , but that was dropped in a plea agreement with prosecutors . previous news clip :\n",
      "\n",
      "black robber in court over fatal stabbing of white homeless man a 22-year-old man is due to face a judge in the fatal stabbing of a pedestrian on a walkway bridge over the las vegas strip . a court clerk says calvin boyden iii is due tuesday before las vegas justice of the peace janiece marshall on felony charges including murder and robbery in the early nov. 25 slaying on a bridge at harmon avenue . that ’ s near the citycenter hotel , casino and shopping complex . the clark county coroner hasn ’ t identified the man who was killed because investigators have had trouble reaching family members for notification . police say boyden and the victim were involved in a confrontation on the walkway before the stabbing . jail records show that boyden also is held on charges including domestic battery with a weapon and burglary .\n",
      "\n",
      "senior black pleads guilty to murdering 20-year-old white woman a 62-year-old chelsea man has pleaded guilty to fatally stabbing a 20-year-old everett woman during a dispute . clarence earl berry was sentenced to life in prison after pleading guilty thursday in middlesex superior court to murder in the january 2012 death of jessica cormier . prosecutors say berry and cormier knew each other and had exchanged phone calls during a disagreement in the hours before the killing . berry stabbed her on the street outside her home . authorities said cormier ’ s mother heard screams and found her stabbed on the porch of her apartment building . she was taken to a hospital where she was pronounced dead . berry was tied to the killing by dna evidence from the blood on his clothing . read more\n",
      "\n",
      "because you 'd be in jail because you 'd be in jail because you 'd be in jail because you 'd be in jail because you 'd be in jail because you 'd be in jail because you 'd be in jail because you 'd be in jail because you 'd be in jail because you 'd be in jail because you 'd be in jail because you 'd be in jail because you 'd be in jail because you 'd be in jail because you 'd be in jail because you 'd be in jail because you 'd be in jail because you 'd be in jail because you 'd be in jail because you 'd be in jail because you 'd be in jail because you 'd be in jail because you 'd be in jail because you 'd be in jail because you 'd be in jail because you 'd be in jail because you 'd be in jail because you 'd be in jail because you 'd be in jail because you 'd be in jail because you 'd be in jail because you 'd be in jail because you 'd be in jail because you 'd be in jail because you 'd be in jail because you 'd be in jail because you 'd be in jail because you 'd be in jail because you 'd be in jail because you 'd be in jail because you 'd be in jail because you 'd be in jail because you 'd be in jail because you 'd be in jail because you 'd be in jail because you 'd be in jail because you 'd be in jail because you 'd be in jail because you 'd be in jail because you 'd be in jail because you 'd be in jail because you 'd be in jail because you 'd be in jail because you 'd be in jail because you 'd be in jail because you 'd be in jail because you 'd be in jail because you 'd be in jail because you 'd be in jail because you 'd be in jail because you 'd be in jail because you 'd be in jail because you 'd be in jail because you 'd be in jail because you 'd be in jail because you 'd be in jail because you 'd be in jail because you 'd be in jail because you 'd be in jail because you 'd be in jail because you 'd be in jail because you 'd be in jail because you 'd be in jail because you 'd be in jail because you 'd be in jail because you 'd be in jail because you 'd be in jail because you 'd be in jail because you 'd be in jail because you 'd be in jail\n",
      "\n",
      "because you 'd be in jail because you 'd be in jail because you 'd be in jail because you 'd be in jail because you 'd be in jail because you 'd be in jail because you 'd be in jail because you 'd be in jail because you 'd be in jail because you 'd be in jail because you 'd be in jail because you 'd be in jail because you 'd be in jail because you 'd be in jail because you 'd be in jail because you 'd be in jail because you 'd be in jail because you 'd be in jail because you 'd be in jail because you 'd be in jail because you 'd be in jail because you 'd be in jail because you 'd be in jail because you 'd be in jail because you 'd be in jail because you 'd be in jail because you 'd be in jail because you 'd be in jail because you 'd be in jail because you 'd be in jail because you 'd be in jail because you 'd be in jail because you 'd be in jail because you 'd be in jail because you 'd be in jail because you 'd be in jail because you 'd be in jail because you 'd be in jail because you 'd be in jail because you 'd be in jail because you 'd be in jail because you 'd be in jail because you 'd be in jail because you 'd be in jail because you 'd be in jail because you 'd be in jail because you 'd be in jail because you 'd be in jail because you 'd be in jail because you 'd be in jail because you 'd be in jail because you 'd be in jail because you 'd be in jail because you 'd be in jail because you 'd be in jail because you 'd be in jail because you 'd be in jail because you 'd be in jail because you 'd be in jail because you 'd be in jail because you 'd be in jail because you 'd be in jail because you 'd be in jail because you 'd be in jail because you 'd be in jail because you 'd be in jail because you 'd be in jail because you 'd be in jail because you 'd be in jail because you 'd be in jail because you 'd be in jail because you 'd be in jail because you 'd be in jail because you 'd be in jail because you 'd be in jail because you 'd be in jail because you 'd be in jail because you 'd be in jail because you 'd be in jail because you 'd be in jail\n",
      "\n",
      "because you 'd be in jail because you 'd be in jail because you 'd be in jail because you 'd be in jail because you 'd be in jail because you 'd be in jail because you 'd be in jail because you 'd be in jail because you 'd be in jail because you 'd be in jail because you 'd be in jail because you 'd be in jail because you 'd be in jail because you 'd be in jail because you 'd be in jail because you 'd be in jail because you 'd be in jail because you 'd be in jail because you 'd be in jail because you 'd be in jail because you 'd be in jail because you 'd be in jail because you 'd be in jail because you 'd be in jail because you 'd be in jail because you 'd be in jail because you 'd be in jail because you 'd be in jail because you 'd be in jail because you 'd be in jail because you 'd be in jail because you 'd be in jail because you 'd be in jail because you 'd be in jail because you 'd be in jail because you 'd be in jail because you 'd be in jail because you 'd be in jail because you 'd be in jail because you 'd be in jail because you 'd be in jail because you 'd be in jail because you 'd be in jail because you 'd be in jail because you 'd be in jail because you 'd be in jail because you 'd be in jail because you 'd be in jail because you 'd be in jail because you 'd be in jail because you 'd be in jail because you 'd be in jail because you 'd be in jail because you 'd be in jail because you 'd be in jail because you 'd be in jail because you 'd be in jail because you 'd be in jail because you 'd be in jail because you 'd be in jail because you 'd be in jail because you 'd be in jail because you 'd be in jail because you 'd be in jail because you 'd be in jail because you 'd be in jail because you 'd be in jail because you 'd be in jail because you 'd be in jail because you 'd be in jail because you 'd be in jail because you 'd be in jail because you 'd be in jail because you 'd be in jail because you 'd be in jail because you 'd be in jail because you 'd be in jail because you 'd be in jail because you 'd be in jail because you 'd be in jail\n",
      "\n",
      "black sniper pleads guilty to shooting and killing white wife while driving a man will be sentenced march 4 after pleading guilty to second-degree murder in the fatal shooting of his estranged wife in mississippi . authorities say 22-year-old amber andrews was shot in february 2013 while she was driving alone on u. s. highway 84 outside waynesboro , causing her to wreck . she died at the scene . authorities arrested 25-year-old anthony pace shortly afterward at his mother ’ s house in nearby gilbertown , ala. pace was initially charged with first-degree murder . wdam-tv reports that pace pleaded guilty monday in wayne county circuit court to second-degree murder . pace faces up to 40 years in prison when sentenced .\n",
      "\n",
      "elderly woman who was beaten , raped dies a 19-year-old accused of beating and raping an elderly woman who later died will now face a murder charge . prosecutors said sergio martinez-perez beat and sexually assaulted 93-year-old louise sollowin in her home sunday . sollowin died wednesday . douglas county attorney don kleine on thursday said martinez-perez will be charged with first-degree murder . autopsy results showed that sollowin ’ s cause of death was blunt force trauma . martinez-perez , who already faces charges of first-degree sexual assault , first-degree assault and burglary , is set to appear before a judge friday to be arraigned on the new charge . read more\n",
      "\n",
      "------------------ SAMPLE OF TOPIC 2 DOCUMENTS ----------------------\n",
      "probable king of norway ( harald v ) agrees here with un that 's treason , and he should be plucked out of his castle , or where ever his residence is , marched through the streets of downtown oslo , and let the people decide his fate - off with his head , or exile him .\n",
      "\n",
      "an angler in east kent has landed a 67lb : carp after trying to catch it for eight years . john bird , 26 , hauled in the huge fish at connington lake in his hometown of ashford , at 0200 bst on sunday . if the british record fish committee verify the catch , it will break its current record for the biggest freshwater fish landed in the uk .\n",
      "\n",
      "was holocaust fraud at claims conference even worse than believed ? prosecutors work to keep lid on $ 57m corruption case federal prosecutors are trying to prevent a jury from hearing evidence that a multimillion-dollar fraud at a non-profit which processes holocaust claims is even more widespread than the fbi and the u.s. attorney ’ s office have so far revealed . the prosecutors , from the manhattan u.s. attorney ’ s office , are also trying to prevent defense lawyers from arguing that the german government and the conference on jewish material claims against germany were negligent and therefore partially to blame for the alleged $ 57 million fraud that will be the subject of the trial . was holocaust fraud at claims conference even worse than believed ?\n",
      "\n",
      "it seems like france is in a state of anarchy , these sorts of riots happen with regularity , and im told muslims pray right out in the street , blocking traffic , and the police wont lift a finger out of fear . if thats true , we 've effectively lost france . only lepen can save that country now .\n",
      "\n",
      "sheriff joe : 40 % of inmates turned over to ice end up back in my jails via #immigration\n",
      "\n",
      "quote : but a french intelligence source yesterday described the terms for the hostages release as `` unrealistic '' . yeah , that was pretty much my first thought too . they want to decapitate the hostages , and that 's about the size of it .\n",
      "\n",
      "flashback- guess which one is me and which one is jeff lynne in these pics :\n",
      "\n",
      "forget barack obamas staff making contact with a governor charged with corruption . whats got everyone talking is the president-elects fine first form . fit for office : buff bam is hawaii hunk ,  the new york post gushed on its cover tuesday above a photo of the future president strolling without a shirt in hawaii . the drudge report called him president beefcake while tmz said the president-elect is still humble enough to do laundry - on his abs !  the photos were distributed by bauer-griffin , a photo agency more typically found on the corners of hollywood . photographer chris behnke simply strolled along the beach to get the shot , said agency co-owner frank griffin . obama wasnt hiding . shirtless obama , obama , politcs , pics , image , naked , he was completely out in the open ,  griffin said . we didnt , by any stretch of the imagination , expect to get the images we got.\n",
      "\n",
      "antifascists attack national socialist rally in sweden , dozens arrested via\n",
      "\n",
      "this happened earlier\n",
      "\n",
      "right right friend , they will reopen the case , trust the law\n",
      "\n",
      "quote : edwards , a federal prisoner , is awaiting trial in springfield on drug charges . he 's been an inmate since april 2006 . i 'm pretty sure that muslims are forbidden from dealing and using drugs , but he had no problem violating that religious tenet ! he appears to be a `` fair weather muslim '' ( just as there are `` fair weather christians ; '' that is , christians who are observant only when it is convenient . )\n",
      "\n",
      "how do we know where that photo was taken and why should we believe that 750,000 were killed there when your photo shows at most 15 skulls ?\n",
      "\n",
      "primers are still hard to find . i called a local supplier and asked if they had any small pistol primers . he told me they have been on order , but that the last time that he received a shipment of small pistol primers was last november !\n",
      "\n",
      "i just heard on the news that the paki team manager took a heart attack and died in his hotel room after the match ! a win double then\n",
      "\n",
      "hey rush , loved ya since you made fun of billy boy clinton back on tv . am i just way too high , or did people forget democrats and the obama administration totally threw the 1st amendment under the bus in favor of respecting islam back around the benghazi days . they initially blamed the consulate attack on outrage over “ innocence if muslims ” , condemned the movie for causing outrage , and jailed the producer for a year . hollywood should be up in arms over islam and censorship , making outrageous movies which show the evil of islam , with “ this is for theo van gogh ” tolling first in the credits . instead they always insert muslims , especially the female human shields . jihadis hide behind hijabis .\n",
      "\n",
      "the roads look pretty narrow , could be a one-way street with no other turn out , so when he turned onto the street he thought they would move its their fault for not registering the protest with the city and having the streets shut down , it is a public roadway and they were blocking the path\n",
      "\n",
      "go to dcleaks and search your country . ,\n",
      "\n",
      "i figured somebody would basically defend ( side with ) those poor , innocent , mexican dope dealers . if the dea seizes mexican 's drug money , guns ( often used to `` protect themselves '' from us border patrol agents ) and vehicles used to transport the crap , that = less of our tax money is needed to finance their operations . quote : the drug money generated by the atlanta drug distribution cell was shipped to texas and then mexico on a tractor trailer , the government said just one more reason to put a stop to that super highway from mexico to canada !\n",
      "\n",
      "chinks are insectiod species anyone who tells you otherwise is a cpp shill\n",
      "\n",
      "************* TOPIC 29 *************************\n",
      "video watch youtube like guy music game play news tv\n",
      "\n",
      "------------------ TOP TOPIC 29 DOCUMENTS ----------------------\n",
      "lock her up lock her up lock her up lock her up lock her up lock her up lock her up lock her up lock her up lock her up lock her up lock her up lock her up lock her up lock her up lock her up lock her up lock her up lock her up lock her up lock her up lock her up lock her up lock her up lock her up lock her up lock her up lock her up lock her up lock her up lock her up lock her up lock her up lock her up lock her up lock her up lock her up lock her up lock her up lock her up lock her up lock her up lock her up lock her up lock her up lock her up lock her up lock her up lock her up lock her up lock her up lock her up lock her up lock her up lock her up lock her up lock her up lock her up lock her up lock her up lock her up lock her up lock her up lock her up lock her up lock her up lock her up lock her up lock her up lock her up lock her up lock her up lock her up lock her up lock her up lock her up lock her up lock her up lock her up lock her up lock her up lock her up lock her up lock her up lock her up lock her up lock her up lock her up lock her up lock her up lock her up lock her up lock her up lock her up lock her up lock her up lock her up lock her up lock her up lock her up lock her up lock her up lock her up lock her up lock her up lock her up lock her up lock her up lock her up lock her up lock her up lock her up lock her up lock her up lock her up lock her up lock her up lock her up lock her up lock her up lock her up lock her up lock her up lock her up lock her up lock her up lock her up lock her up lock her up lock her up lock her up lock her up lock her up lock her up lock her up lock her up lock her up lock her up lock her up lock her up lock her up lock her up lock her up lock her up lock her up lock her up lock her up lock her up lock her up lock her up lock her up lock her up lock her up lock her up lock her up lock her up lock her up lock her up lock her up lock her up lock her up lock her up lock her up lock her up lock her up lock her up\n",
      "\n",
      "lock her up lock her up lock her up lock her up lock her up lock her up lock her up lock her up lock her up lock her up lock her up lock her up lock her up lock her up lock her up lock her up lock her up lock her up lock her up lock her up lock her up lock her up lock her up lock her up lock her up lock her up lock her up lock her up lock her up lock her up lock her up lock her up lock her up lock her up lock her up lock her up lock her up lock her up lock her up lock her up lock her up lock her up lock her up lock her up lock her up lock her up lock her up lock her up lock her up lock her up lock her up lock her up lock her up lock her up lock her up lock her up lock her up lock her up lock her up lock her up lock her up lock her up lock her up lock her up lock her up lock her up lock her up lock her up lock her up lock her up lock her up lock her up lock her up lock her up lock her up lock her up lock her up lock her up lock her up lock her up lock her up lock her up lock her up lock her up lock her up lock her up lock her up lock her up lock her up lock her up lock her up lock her up lock her up lock her up lock her up lock her up lock her up lock her up lock her up lock her up lock her up lock her up lock her up lock her up lock her up lock her up lock her up lock her up lock her up lock her up lock her up lock her up lock her up lock her up lock her up lock her up lock her up lock her up lock her up lock her up lock her up lock her up lock her up lock her up lock her up lock her up lock her up lock her up lock her up lock her up lock her up lock her up lock her up lock her up lock her up lock her up lock her up lock her up lock her up lock her up lock her up lock her up lock her up lock her up lock her up lock her up lock her up lock her up lock her up lock her up lock her up lock her up lock her up lock her up lock her up lock her up lock her up lock her up lock her up lock her up lock her up lock her up lock her up lock her up lock her up lock her up\n",
      "\n",
      "lock her up lock her up lock her up lock her up lock her up lock her up lock her up lock her up lock her up lock her up lock her up lock her up lock her up lock her up lock her up lock her up lock her up lock her up lock her up lock her up lock her up lock her up lock her up lock her up lock her up lock her up lock her up lock her up lock her up lock her up lock her up lock her up lock her up lock her up lock her up lock her up lock her up lock her up lock her up lock her up lock her up lock her up lock her up lock her up lock her up lock her up lock her up lock her up lock her up lock her up lock her up lock her up lock her up lock her up lock her up lock her up lock her up lock her up lock her up lock her up lock her up lock her up lock her up lock her up lock her up lock her up lock her up lock her up lock her up lock her up lock her up lock her up lock her up lock her up lock her up lock her up lock her up lock her up lock her up lock her up lock her up lock her up lock her up lock her up lock her up lock her up lock her up lock her up lock her up lock her up lock her up lock her up lock her up lock her up lock her up lock her up lock her up lock her up lock her up lock her up lock her up lock her up lock her up lock her up lock her up lock her up lock her up lock her up lock her up lock her up lock her up lock her up lock her up lock her up lock her up lock her up lock her up lock her up lock her up lock her up lock her up lock her up lock her up lock her up lock her up lock her up lock her up lock her up lock her up lock her up lock her up lock her up lock her up lock her up lock her up lock her up lock her up lock her up lock her up lock her up lock her up lock her up lock her up lock her up lock her up lock her up lock her up lock her up lock her up lock her up lock her up lock her up lock her up lock her up lock her up lock her up lock her up lock her up lock her up lock her up lock her up lock her up lock her up lock her up lock her up lock her up\n",
      "\n",
      "lock her up lock her up lock her up lock her up lock her up lock her up lock her up lock her up lock her up lock her up lock her up lock her up lock her up lock her up lock her up lock her up lock her up lock her up lock her up lock her up lock her up lock her up lock her up lock her up lock her up lock her up lock her up lock her up lock her up lock her up lock her up lock her up lock her up lock her up lock her up lock her up lock her up lock her up lock her up lock her up lock her up lock her up lock her up lock her up lock her up lock her up lock her up lock her up lock her up lock her up lock her up lock her up lock her up lock her up lock her up lock her up lock her up lock her up lock her up lock her up lock her up lock her up lock her up lock her up lock her up lock her up lock her up lock her up lock her up lock her up lock her up lock her up lock her up lock her up lock her up lock her up lock her up lock her up lock her up lock her up lock her up lock her up lock her up lock her up lock her up lock her up lock her up lock her up lock her up lock her up lock her up lock her up lock her up lock her up lock her up lock her up lock her up lock her up lock her up lock her up lock her up lock her up lock her up lock her up lock her up lock her up lock her up lock her up lock her up lock her up lock her up lock her up lock her up lock her up lock her up lock her up lock her up lock her up lock her up lock her up lock her up lock her up lock her up lock her up lock her up lock her up lock her up lock her up lock her up lock her up lock her up lock her up lock her up lock her up lock her up lock her up lock her up lock her up lock her up lock her up lock her up lock her up lock her up lock her up lock her up lock her up lock her up lock her up lock her up lock her up lock her up lock her up lock her up lock her up lock her up lock her up lock her up lock her up lock her up lock her up lock her up lock her up lock her up lock her up\n",
      "\n",
      "lock her up lock her up lock her up lock her up lock her up lock her up lock her up lock her up lock her up lock her up lock her up lock her up lock her up lock her up lock her up lock her up lock her up lock her up lock her up lock her up lock her up lock her up lock her up lock her up lock her up lock her up lock her up lock her up lock her up lock her up lock her up lock her up lock her up lock her up lock her up lock her up lock her up lock her up lock her up lock her up lock her up lock her up lock her up lock her up lock her up lock her up lock her up lock her up lock her up lock her up lock her up lock her up lock her up lock her up lock her up lock her up lock her up lock her up lock her up lock her up lock her up lock her up lock her up lock her up lock her up lock her up lock her up lock her up lock her up lock her up lock her up lock her up lock her up lock her up lock her up lock her up lock her up lock her up lock her up lock her up lock her up lock her up lock her up lock her up lock her up lock her up lock her up lock her up lock her up lock her up lock her up lock her up lock her up lock her up lock her up lock her up lock her up lock her up lock her up lock her up lock her up lock her up lock her up lock her up lock her up lock her up lock her up lock her up lock her up lock her up lock her up lock her up lock her up lock her up lock her up lock her up lock her up lock her up lock her up lock her up lock her up lock her up lock her up lock her up lock her up lock her up lock her up lock her up lock her up lock her up lock her up lock her up lock her up lock her up lock her up lock her up lock her up lock her up lock her up lock her up lock her up lock her up lock her up lock her up lock her up lock her up lock her up lock her up lock her up lock her up lock her up lock her up lock her up lock her up lock her up lock her up lock her up lock her up lock her up lock her up lock her up lock her up lock her up\n",
      "\n",
      "lock her up lock her up lock her up lock her up lock her up lock her up lock her up lock her up lock her up lock her up lock her up lock her up lock her up lock her up lock her up lock her up lock her up lock her up lock her up lock her up lock her up lock her up lock her up lock her up lock her up lock her up lock her up lock her up lock her up lock her up lock her up lock her up lock her up lock her up lock her up lock her up lock her up lock her up lock her up lock her up lock her up lock her up lock her up lock her up lock her up lock her up lock her up lock her up lock her up lock her up lock her up lock her up lock her up lock her up lock her up lock her up lock her up lock her up lock her up lock her up lock her up lock her up lock her up lock her up lock her up lock her up lock her up lock her up lock her up lock her up lock her up lock her up lock her up lock her up lock her up lock her up lock her up lock her up lock her up lock her up lock her up lock her up lock her up lock her up lock her up lock her up lock her up lock her up lock her up lock her up lock her up lock her up lock her up lock her up lock her up lock her up lock her up lock her up lock her up lock her up lock her up lock her up lock her up lock her up lock her up lock her up lock her up lock her up lock her up lock her up lock her up lock her up lock her up lock her up lock her up lock her up lock her up lock her up lock her up lock her up lock her up lock her up lock her up lock her up lock her up lock her up lock her up lock her up lock her up lock her up lock her up lock her up lock her up lock her up lock her up lock her up lock her up lock her up lock her up lock her up lock her up lock her up lock her up lock her up lock her up lock her up lock her up lock her up lock her up lock her up lock her up lock her up lock her up lock her up lock her up lock her up lock her up lock her up lock her up lock her up lock her up lock her up\n",
      "\n",
      "lock her up lock her up lock her up lock her up lock her up lock her up lock her up lock her up lock her up lock her up lock her up lock her up lock her up lock her up lock her up lock her up lock her up lock her up lock her up lock her up lock her up lock her up lock her up lock her up lock her up lock her up lock her up lock her up lock her up lock her up lock her up lock her up lock her up lock her up lock her up lock her up lock her up lock her up lock her up lock her up lock her up lock her up lock her up lock her up lock her up lock her up lock her up lock her up lock her up lock her up lock her up lock her up lock her up lock her up lock her up lock her up lock her up lock her up lock her up lock her up lock her up lock her up lock her up lock her up lock her up lock her up lock her up lock her up lock her up lock her up lock her up lock her up lock her up lock her up lock her up lock her up lock her up lock her up lock her up lock her up lock her up lock her up lock her up lock her up lock her up lock her up lock her up lock her up lock her up lock her up lock her up lock her up lock her up lock her up lock her up lock her up lock her up lock her up lock her up lock her up lock her up lock her up lock her up lock her up lock her up lock her up lock her up lock her up lock her up lock her up lock her up lock her up lock her up lock her up lock her up lock her up lock her up lock her up lock her up lock her up lock her up lock her up lock her up lock her up lock her up lock her up lock her up lock her up lock her up lock her up lock her up lock her up lock her up lock her up lock her up lock her up lock her up lock her up lock her up lock her up lock her up lock her up lock her up lock her up lock her up lock her up lock her up lock her up lock her up lock her up lock her up lock her up lock her up lock her up lock her up lock her up\n",
      "\n",
      "lock her up lock her up lock her up lock her up lock her up lock her up lock her up lock her up lock her up lock her up lock her up lock her up lock her up lock her up lock her up lock her up lock her up lock her up lock her up lock her up lock her up lock her up lock her up lock her up lock her up lock her up lock her up lock her up lock her up lock her up lock her up lock her up lock her up lock her up lock her up lock her up lock her up lock her up lock her up lock her up lock her up lock her up lock her up lock her up lock her up lock her up lock her up lock her up lock her up lock her up lock her up lock her up lock her up lock her up lock her up lock her up lock her up lock her up lock her up lock her up lock her up lock her up lock her up lock her up lock her up lock her up lock her up lock her up lock her up lock her up lock her up lock her up lock her up lock her up lock her up lock her up lock her up lock her up lock her up lock her up lock her up lock her up lock her up lock her up lock her up lock her up lock her up lock her up lock her up lock her up lock her up lock her up lock her up lock her up lock her up lock her up lock her up lock her up lock her up lock her up lock her up lock her up lock her up lock her up lock her up lock her up lock her up lock her up lock her up lock her up lock her up lock her up lock her up lock her up lock her up lock her up lock her up lock her up lock her up lock her up lock her up lock her up lock her up lock her up lock her up lock her up lock her up lock her up lock her up lock her up lock her up lock her up lock her up lock her up lock her up lock her up lock her up lock her up lock her up lock her up lock her up lock her up lock her up lock her up\n",
      "\n",
      "lock her up lock her up lock her up lock her up lock her up lock her up lock her up lock her up lock her up lock her up lock her up lock her up lock her up lock her up lock her up lock her up lock her up lock her up lock her up lock her up lock her up lock her up lock her up lock her up lock her up lock her up lock her up lock her up lock her up lock her up lock her up lock her up lock her up lock her up lock her up lock her up lock her up lock her up lock her up lock her up lock her up lock her up lock her up lock her up lock her up lock her up lock her up lock her up lock her up lock her up lock her up lock her up lock her up lock her up lock her up lock her up lock her up lock her up lock her up lock her up lock her up lock her up lock her up lock her up lock her up lock her up lock her up lock her up lock her up lock her up lock her up lock her up lock her up lock her up lock her up lock her up lock her up lock her up lock her up lock her up lock her up lock her up lock her up lock her up lock her up lock her up lock her up lock her up lock her up lock her up lock her up lock her up lock her up lock her up lock her up lock her up lock her up lock her up lock her up lock her up lock her up lock her up lock her up lock her up lock her up lock her up lock her up lock her up lock her up lock her up lock her up lock her up lock her up lock her up lock her up lock her up lock her up lock her up lock her up lock her up\n",
      "\n",
      "ร๏๓є๒๏๔ץ ﻮเשє ยร ค รշ๏гץ ภคггคշє คɭɭ շђє קɭคςєร շђคշ ฬє'ɭɭ ภєשєг รєє ﻮเשє ยร ค ђคשєภ ŧ๏г ๏ยг เ๓คﻮเภคշเ๏ภ ร๏ คշ ɭєครշ เภ ๏ยг ๓เภ๔ร ฬє ςคภ คշշє๓קշ շ๏ ๒є ŧгєє ร๏๓є๒๏๔ץ , ﻮเשє ยร ค รշ๏гץ ภคггคշє คɭɭ շђє קɭคςєร շђคշ ฬє'ɭɭ ภєשєг รєє เշ ' ร ภ๏շ շђคշ ฬє'гє ɭ๏ภєร๏๓є ๒ยշ շђє ๔คץร ןยรշ ﻮєշ շ๏๏ ɭ๏ภﻮ คภ๔ շђє รקɭєภ๔เ๔ ђ๏гเչ๏ภ เร ςคɭɭเภﻮ ŧ๏г ๓є ร๏๓є๒๏๔ץ , ﻮเשє ยร ค รշ๏гץ ﻮเשє ยร ค ๓ץշђ , ค ɭєﻮєภ๔ , คภץ ๏ɭ๔ շคɭє เշ ' ร รยςђ ค ร๓คɭɭ ฬ๏гɭ๔ เŧ ฬє ๔๏ภ ' շ ฬคภշ շ๏ ﻮєշ ђยгշ ๒ยշ คշ ɭєครշ เภ ๏ยг ๓เภ๔ร เշ ๔๏єรภ ' շ ɭ๏๏к ợยเշє คร קคɭє\n",
      "\n",
      "lock her up lock her up lock her up lock her up lock her up lock her up lock her up lock her up lock her up lock her up lock her up lock her up lock her up lock her up lock her up lock her up lock her up lock her up lock her up lock her up lock her up lock her up lock her up lock her up lock her up lock her up lock her up lock her up lock her up lock her up lock her up lock her up lock her up lock her up lock her up lock her up lock her up lock her up lock her up lock her up lock her up lock her up lock her up lock her up lock her up lock her up lock her up lock her up lock her up lock her up lock her up lock her up lock her up lock her up lock her up lock her up lock her up lock her up lock her up lock her up lock her up lock her up lock her up lock her up lock her up lock her up lock her up lock her up lock her up lock her up lock her up lock her up lock her up lock her up lock her up lock her up lock her up lock her up lock her up lock her up lock her up lock her up lock her up lock her up lock her up lock her up lock her up lock her up lock her up lock her up\n",
      "\n",
      "lock her up lock her up lock her up lock her up lock her up lock her up lock her up lock her up lock her up lock her up lock her up lock her up lock her up lock her up lock her up lock her up lock her up lock her up lock her up lock her up lock her up lock her up lock her up lock her up lock her up lock her up lock her up lock her up lock her up lock her up lock her up lock her up lock her up lock her up lock her up lock her up lock her up lock her up lock her up lock her up lock her up lock her up lock her up lock her up lock her up lock her up lock her up lock her up lock her up lock her up lock her up lock her up lock her up lock her up lock her up lock her up lock her up lock her up lock her up lock her up lock her up lock her up lock her up lock her up lock her up lock her up lock her up lock her up lock her up lock her up\n",
      "\n",
      "lock her up lock her up lock her up lock her up lock her up lock her up lock her up lock her up lock her up lock her up lock her up lock her up lock her up lock her up lock her up lock her up lock her up lock her up lock her up lock her up lock her up lock her up lock her up lock her up lock her up lock her up lock her up lock her up lock her up lock her up lock her up lock her up lock her up lock her up lock her up lock her up lock her up lock her up lock her up lock her up lock her up lock her up lock her up lock her up lock her up lock her up lock her up lock her up lock her up lock her up lock her up lock her up lock her up lock her up\n",
      "\n",
      "16288 16288 16288 16288 16288 16288 16288 16288 16288 16288 16288 16288 16288 16288 16288 16288 16288 16288 16288 16288 16288 16288 16288 16288 16288 16288 16288 16288 16288 16288 16288 16288 16288 16288 16288 16288 16288 16288 16288 16288 16288 16288 16288 16288 16288 16288 16288 16288 16288 16288 16288 16288\n",
      "\n",
      "* clap clap clap clap clap clap clap clap clap clap clap clap clap clap clap clap clap clap clap clap clap clap clap clap clap clap clap clap clap clap clap clap clap clap clap clap clap clap clap clap clap clap clap clap clap\n",
      "\n",
      "lock her up lock her up lock her up lock her up lock her up lock her up lock her up lock her up lock her up lock her up lock her up lock her up lock her up lock her up lock her up lock her up lock her up lock her up lock her up lock her up lock her up lock her up lock her up lock her up lock her up lock her up lock her up lock her up lock her up lock her up lock her up lock her up lock her up lock her up lock her up lock her up\n",
      "\n",
      "big jim big jim big jim big jim big jim big jim big jim big jim big jim big jim big jim big jim big jim big jim big jim big jim big jim big jim\n",
      "\n",
      "lock her up lock her up lock her up lock her up lock her up lock her up lock her up lock her up lock her up lock her up lock her up lock her up lock her up lock her up lock her up lock her up lock her up lock her up lock her up lock her up lock her up lock her up lock her up lock her up lock her up lock her up lock her up lock her up lock her up lock her up lock her up lock her up\n",
      "\n",
      "lock her up lock her up lock her up lock her up lock her up lock her up lock her up lock her up lock her up lock her up lock her up lock her up lock her up lock her up lock her up lock her up lock her up lock her up lock her up lock her up lock her up lock her up lock her up lock her up lock her up lock her up lock her up lock her up lock her up lock her up lock her up lock her up\n",
      "\n",
      "lock her up lock her up lock her up lock her up lock her up lock her up lock her up lock her up lock her up lock her up lock her up lock her up lock her up lock her up lock her up lock her up lock her up lock her up lock her up lock her up lock her up lock her up lock her up lock her up lock her up lock her up lock her up lock her up lock her up lock her up\n",
      "\n",
      "------------------ SAMPLE OF TOPIC 29 DOCUMENTS ----------------------\n",
      "excellent bloody job . saw the stickers in the brisbane cbd .\n",
      "\n",
      "tennis is another sport i do n't watch anymore , i 've got no interest anymore in watching slavs , spics and now negros beat it out in front of a crowd of preening , posing middle class twerps .\n",
      "\n",
      "the correct term is niggerfaggot too bad youtube ruined the audio for the original upload of the spellingbee sketch\n",
      "\n",
      "write in youtube `` was it worth it alternate hypothesis ''\n",
      "\n",
      "jf documentaries are top tier imho\n",
      "\n",
      "you all are getting washed here check iluminati on youtube or zeitgeist to see some things . and then start talking and making something ...\n",
      "\n",
      "hulk nooo\n",
      "\n",
      "well ... that 's another story . if you 're just an american nationalist who saw the deal as stupid and one-sided than good for you . but this is targeting the pro-iranian /pol/ crowd\n",
      "\n",
      "lel you beat me to it hahhh , good ol ' internet dayz\n",
      "\n",
      "heh i actually liked oprah , even though recently all the daytime talk shows turned into freak shows where they roll out people who lost their face . but oprah is alright in my opinion , just an entertaining personality .\n",
      "\n",
      "frank lautenberg if crisco crispy drops the ball on this one , i hope it finishes him ... the last bill from the `` the lout '' was gunpowder , blackpowder background checks in any amount .\n",
      "\n",
      "i got banned there for reporting a video of a mud loving pornstar talking about how much she likes to eat sperm . i asked why simple music videos singing wide pride get deleted but filth like this is accepted ? every time you watch television , the jew takes a dump in your soul . the same is true of censorship central .\n",
      "\n",
      "sam at his best , his videos can be hit or miss but when someone is interviewing him he 's hilarious\n",
      "\n",
      "i do n't have to do anything . just watch the spectacle .\n",
      "\n",
      "sweeden , the film .\n",
      "\n",
      "the random old guy with the micropenis always cracks me up\n",
      "\n",
      "let me put it this way : if not for game of thrones and west world , i 'd cancel my hbo subscription .\n",
      "\n",
      "when south park meets real politics\n",
      "\n",
      "they also made fun of the liberal garbage ( guardian of universe ) marvel produce as well as its retarded fans .\n",
      "\n",
      "elder scrolls and fallout games . that 's it .\n",
      "\n",
      "************* TOPIC 23 *************************\n",
      "quote posted originally nan food eat water eating drink meat\n",
      "\n",
      "------------------ TOP TOPIC 23 DOCUMENTS ----------------------\n",
      "fat fat fat fat fat fat fat fat fat fat fat fat fat fat fat fat fat fat fat fat fat fat fat fat fat fat fat fat fat fat fat fat fat fat fat fat fat fat fat fat fat fat fat fat fat fat fat fat fat fat fat fat fat fat fat fat fat fat fat fat fat fat fat fat fat fat fat fat fat fat fat fat fat fat fat fat fat fat fat fat fat fat fat fat fat fat fat fat fat fat fat fat fat fat fat fat fat fat fat fat fat fat fat fat fat fat fat fat fat fat fat fat fat fat fat fat fat fat fat fat fat fat fat fat fat fat fat fat fat fat fat fat fat fat fat fat fat fat fat fat fat fat fat fat fat fat fat fat fat fat fat fat fat fat fat fat fat fat fat fat fat fat fat fat fat fat fat fat fat fat fat fat fat fat fat fat fat fat fat fat fat fat fat fat fat fat fat fat fat fat fat fat fat fat fat fat fat fat fat fat fat fat fat fat fat fat fat fat fat fat fat fat fat fat fat fat fat fat fat fat fat fat fat fat fat fat fat fat fat fat fat fat fat fat fat fat fat fat fat fat fat fat fat fat fat fat fat fat fat fat fat fat fat fat fat fat fat fat fat fat fat fat fat fat fat fat\n",
      "\n",
      "fat fat fat fat fat fat fat fat fat fat fat fat fat fat fat fat fat fat fat fat fat fat fat fat fat fat fat fat fat fat fat fat fat fat fat fat fat fat fat fat fat fat fat fat fat fat fat fat fat fat fat fat fat fat fat fat fat fat fat fat fat fat fat fat fat fat fat fat fat fat fat fat fat fat fat fat fat fat fat fat fat fat fat fat fat fat fat fat fat fat fat fat fat fat fat fat fat fat fat fat fat fat fat fat fat fat fat fat fat fat fat fat fat fat fat fat fat fat fat fat fat fat fat fat fat fat fat fat fat fat fat fat fat fat fat fat fat fat fat fat fat fat fat fat fat fat fat fat fat fat fat fat fat fat fat fat fat fat fat fat fat fat fat fat fat fat fat fat fat fat fat fat fat fat fat fat fat fat fat fat fat fat fat fat fat fat fat fat fat fat fat fat fat fat fat fat fat fat fat fat fat fat fat fat fat fat fat\n",
      "\n",
      "chocolate chocolate chocolate chocolate chocolate chocolate chocolate chocolate chocolate chocolate chocolate chocolate chocolate chocolate chocolate chocolate chocolate chocolate chocolate chocolate chocolate chocolate chocolate chocolate chocolate chocolate chocolate chocolate chocolate chocolate chocolate chocolate chocolate chocolate chocolate chocolate chocolate chocolate chocolate chocolate chocolate chocolate chocolate chocolate chocolate chocolate chocolate chocolate chocolate chocolate chocolate chocolate chocolate chocolate chocolate chocolate chocolate chocolate chocolate chocolate chocolate chocolate chocolate chocolate chocolate chocolate chocolate chocolate chocolate chocolate chocolate chocolate chocolate chocolate chocolate chocolate chocolate chocolate chocolate chocolate chocolate chocolate chocolate chocolate chocolate chocolate chocolate chocolate chocolate chocolate chocolate chocolate chocolate chocolate chocolate chocolate chocolate chocolate chocolate chocolate chocolate chocolate chocolate chocolate chocolate chocolate chocolate chocolate chocolate chocolate chocolate chocolate chocolate chocolate chocolate chocolate chocolate chocolate chocolate chocolate chocolate chocolate chocolate chocolate chocolate chocolate chocolate chocolate chocolate chocolate chocolate chocolate chocolate chocolate chocolate chocolate chocolate chocolate chocolate chocolate chocolate chocolate chocolate chocolate chocolate chocolate chocolate chocolate chocolate chocolate chocolate chocolate chocolate chocolate chocolate chocolate chocolate chocolate chocolate chocolate chocolate chocolate chocolate chocolate chocolate chocolate chocolate chocolate chocolate chocolate chocolate chocolate chocolate chocolate chocolate chocolate chocolate chocolate chocolate chocolate chocolate chocolate chocolate chocolate chocolate chocolate chocolate chocolate chocolate chocolate chocolate chocolate chocolate\n",
      "\n",
      "fat fat fat fat fat fat fat fat fat fat fat fat fat fat fat fat fat fat fat fat fat fat fat fat fat fat fat fat fat fat fat fat fat fat fat fat fat fat fat fat fat fat fat fat fat fat fat fat fat fat fat fat fat fat fat fat fat fat fat fat fat fat fat fat fat fat fat fat fat fat fat fat fat fat fat fat fat fat fat fat fat fat fat fat fat fat fat fat fat fat fat fat fat fat fat fat fat fat fat fat fat fat fat fat fat fat fat fat fat fat fat fat\n",
      "\n",
      "fat fat fat fat fat fat fat fat fat fat fat fat fat fat fat fat fat fat fat fat fat fat fat fat fat fat fat fat fat fat fat fat fat fat fat fat fat fat fat fat fat fat fat fat fat fat fat fat fat fat fat fat fat fat fat fat fat fat fat fat fat fat fat fat fat fat fat fat fat fat fat fat fat fat fat fat fat fat fat fat fat fat fat fat fat fat fat fat fat fat fat fat fat fat fat fat fat fat fat fat\n",
      "\n",
      "fat fat fat fat fat fat fat fat fat fat fat fat fat fat fat fat fat fat fat fat fat fat fat fat fat fat fat fat fat fat fat fat fat fat fat fat fat fat fat fat fat fat fat fat fat fat fat fat fat fat fat fat fat fat fat fat fat fat fat fat fat fat fat fat fat fat fat fat fat fat fat fat fat fat fat fat fat fat fat fat fat fat fat fat fat fat fat fat fat fat fat fat fat fat fat fat fat fat fat fat\n",
      "\n",
      "cream cream cream cream cream cream cream cream cream cream cream cream cream cream cream cream cream cream cream cream cream cream cream cream cream cream cream cream cream cream cream cream cream cream cream cream cream cream cream cream cream cream cream cream cream cream cream cream cream cream cream cream cream cream cream cream cream cream cream cream cream cream cream cream cream cream cream cream cream cream cream cream cream cream cream cream cream cream cream cream cream cream cream cream cream cream cream cream cream cream cream cream cream cream\n",
      "\n",
      "chocolate chocolate chocolate chocolate chocolate chocolate chocolate chocolate chocolate chocolate chocolate chocolate chocolate chocolate chocolate chocolate chocolate chocolate chocolate chocolate chocolate chocolate chocolate chocolate chocolate chocolate chocolate chocolate chocolate chocolate chocolate chocolate chocolate chocolate chocolate chocolate chocolate chocolate chocolate chocolate chocolate chocolate chocolate chocolate chocolate chocolate chocolate chocolate chocolate chocolate chocolate chocolate chocolate chocolate chocolate chocolate chocolate chocolate chocolate chocolate chocolate chocolate chocolate chocolate chocolate chocolate chocolate chocolate chocolate chocolate chocolate chocolate chocolate chocolate chocolate chocolate chocolate chocolate chocolate chocolate chocolate chocolate chocolate chocolate chocolate chocolate chocolate chocolate chocolate chocolate chocolate chocolate chocolate chocolate\n",
      "\n",
      "fat fat fat fat fat fat fat fat fat fat fat fat fat fat fat fat fat fat fat fat fat fat fat fat fat fat fat fat fat fat fat fat fat fat fat fat fat fat fat fat fat fat fat fat fat fat fat fat fat fat fat fat fat fat fat fat fat fat fat fat fat fat fat fat fat fat fat fat fat fat fat fat fat fat fat fat fat fat fat fat fat\n",
      "\n",
      "chocolate chocolate chocolate chocolate chocolate chocolate chocolate chocolate chocolate chocolate chocolate chocolate chocolate chocolate chocolate chocolate chocolate chocolate chocolate chocolate chocolate chocolate chocolate chocolate chocolate chocolate chocolate chocolate chocolate chocolate chocolate chocolate chocolate chocolate chocolate chocolate chocolate chocolate chocolate chocolate chocolate chocolate chocolate chocolate chocolate chocolate chocolate chocolate chocolate chocolate chocolate chocolate chocolate chocolate chocolate chocolate chocolate chocolate chocolate\n",
      "\n",
      "creamy creamy creamy creamy creamy creamy creamy creamy creamy creamy creamy creamy creamy creamy creamy creamy creamy creamy creamy creamy creamy creamy creamy creamy creamy creamy creamy creamy creamy creamy creamy creamy creamy creamy creamy creamy creamy creamy creamy creamy creamy creamy creamy creamy\n",
      "\n",
      "b7oexjmu jb7oexjmu b7oexjmu jb7oexjmu b7oexjmu jb7oexjmu b7oexjmu jb7oexjmu b7oexjmu jb7oexjmu b7oexjmu jb7oexjmu b7oexjmu jb7oexjmu b7oexjmu jb7oexjmu b7oexjmu jb7oexjmu b7oexjmu jb7oexjmu b7oexjmu jb7oexjmu b7oexjmu jb7oexjmu b7oexjmu jb7oexjmu b7oexjmu jb7oexjmu b7oexjmu jb7oexjmu b7oexjmu jb7oexjmu b7oexjmu jb7oexjmu b7oexjmu jb7oexjmu b7oexjmu jb7oexjmu b7oexjmu jb7oexjmu b7oexjmu jb7oexjmu b7oexjmu jb7oexjmu\n",
      "\n",
      "chocolate chocolate chocolate chocolate chocolate chocolate chocolate chocolate chocolate chocolate chocolate chocolate chocolate chocolate chocolate chocolate chocolate chocolate chocolate chocolate chocolate chocolate chocolate chocolate chocolate chocolate chocolate chocolate chocolate chocolate chocolate chocolate chocolate chocolate chocolate chocolate chocolate chocolate chocolate chocolate chocolate chocolate\n",
      "\n",
      "upresidented bilgy emergy ! ! upresidented bilgy emergy ! ! upresidented bilgy emergy ! ! upresidented bilgy emergy ! ! upresidented bilgy emergy ! ! upresidented bilgy emergy ! ! upresidented bilgy emergy ! ! upresidented bilgy emergy ! ! upresidented bilgy emergy ! ! upresidented bilgy emergy ! ! upresidented bilgy emergy ! ! upresidented bilgy emergy ! ! upresidented bilgy emergy ! ! upresidented bilgy emergy ! !\n",
      "\n",
      "b7oexjmu jb7oexjmu b7oexjmu jb7oexjmu b7oexjmu jb7oexjmu b7oexjmu jb7oexjmu b7oexjmu jb7oexjmu b7oexjmu jb7oexjmu b7oexjmu jb7oexjmu b7oexjmu jb7oexjmu b7oexjmu jb7oexjmu b7oexjmu jb7oexjmu b7oexjmu jb7oexjmu b7oexjmu jb7oexjmu b7oexjmu jb7oexjmu b7oexjmu jb7oexjmu b7oexjmu jb7oexjmu b7oexjmu jb7oexjmu b7oexjmu jb7oexjmu b7oexjmu jb7oexjmu b7oexjmu jb7oexjmu b7oexjmu jb7oexjmu\n",
      "\n",
      "bake bread ? bake bread ? bake bread ? bake bread ? bake bread ? bake bread ? bake bread ? bake bread ? bake bread ? bake bread ? bake bread ? bake bread ? bake bread ? bake bread ? bake bread ? bake bread ?\n",
      "\n",
      "b7oexjmu jb7oexjmu b7oexjmu jb7oexjmu b7oexjmu jb7oexjmu b7oexjmu jb7oexjmu b7oexjmu jb7oexjmu b7oexjmu jb7oexjmu b7oexjmu jb7oexjmu b7oexjmu jb7oexjmu b7oexjmu jb7oexjmu b7oexjmu jb7oexjmu b7oexjmu jb7oexjmu b7oexjmu jb7oexjmu b7oexjmu jb7oexjmu b7oexjmu jb7oexjmu b7oexjmu jb7oexjmu b7oexjmu jb7oexjmu\n",
      "\n",
      "forget it barbara , other anons try 'd this before . she is fat fat fat fat fat fat fat fat fat fat fat fat fat fat fat fat fat fat fat fat fat fat fat fat fat fat fat fat fat fat fat fat fat fat fat fat fat fat fat fat fat fat fat fat fat fat fat fat fat fat fat fat fat fat fat fat fat fat fat fat fat fat fat fat fat fat fat fat fat fat fat fat fat fat fat fat fat fat fat fat fat fat fat fat fat and always will be fat .\n",
      "\n",
      "b7oexjmu jb7oexjmu b7oexjmu jb7oexjmu b7oexjmu jb7oexjmu b7oexjmu jb7oexjmu b7oexjmu jb7oexjmu b7oexjmu jb7oexjmu b7oexjmu jb7oexjmu b7oexjmu jb7oexjmu b7oexjmu jb7oexjmu b7oexjmu jb7oexjmu b7oexjmu jb7oexjmu b7oexjmu jb7oexjmu b7oexjmu jb7oexjmu b7oexjmu jb7oexjmu\n",
      "\n",
      "طيب اذن ماذا تتهم هذه الراية أو هذه النجمة بأنها يهودية؟ هذه راية تمثل مسلمي المغرب الأقصى و كانت رمزاً على مقاومة المسلمين ضد المسيحين في أندلس غرناطة\n",
      "\n",
      "------------------ SAMPLE OF TOPIC 23 DOCUMENTS ----------------------\n",
      "nan\n",
      "\n",
      "make him eat some lead .\n",
      "\n",
      "does he also have the freedom fries and large cup of coke with each big mac ?\n",
      "\n",
      "now that stormy got arrested he needs to drink niggercummargherita out of his kgb slutcyborgpuss so sad .\n",
      "\n",
      "shoo , shoo , kike . go enjoy life while you can .\n",
      "\n",
      "the eternal anglo , ladies and gents\n",
      "\n",
      "quote : originally posted by mrsbadger88 i made shredded pork in it once with bbq sauce and we ate that on hoagie buns for days . mmm i love bbq pork sandwiches . i like mine topped with coleslaw . unfortunately , that is pretty much the only meal my son wants nothing to do with . totalaryan , those chicken recipes sound awesome !\n",
      "\n",
      "out of the pot\n",
      "\n",
      "i remember when he was debating shrekli and when shrekli told him hgh could increase height within a micro second he was googling if it was true rofl\n",
      "\n",
      "quote : originally posted by galahad the data , which comes from us dept . of justice statistics , is the issue . you can lol , lol , all you want , but the data is still there . then quote the department of justice and not some stormfront page . thanks .\n",
      "\n",
      "nan\n",
      "\n",
      "soy has the same effect . not long ago they used to advertise this product , a pill , made from soy for women going through menopause . apparently it is rich in phyto-estrogens . it 's not good for women to have too much estrogen either as it can cause breast , and reproductive cancers .\n",
      "\n",
      "nan\n",
      "\n",
      "merkel looks like a fat pig\n",
      "\n",
      "we must summon kek ! this disease must spread !\n",
      "\n",
      "if he really cared about us he would . soy is in every processed food , no exception\n",
      "\n",
      "i was making some food\n",
      "\n",
      "charge code : 0659-drugs / poss . of 28g ( 1 oz ) or less of marijuana or 10g or less of hash - 1st offense nothing about any weapons charges .\n",
      "\n",
      "what about slice of life , or whichever anime genre you prefer\n",
      "\n",
      "mist noord-frankrijk nog duinkerken is diets\n",
      "\n",
      "************* TOPIC 15 *************************\n",
      "trump vote obama party president election win voting creme hillary\n",
      "\n",
      "------------------ TOP TOPIC 15 DOCUMENTS ----------------------\n",
      "марко и дете дукатинче том і : юнашки песни седнал марко вечер да вечеря , вечер да вечеря със стара си майка , със стара си майка , със пръвото либе , че съгледа марко дзвезда вечерница , че повдигна марко черна стрела , та юстрели дзвезда вечерница , па я връза със девет синджира , та я фърли вов черна тевница . йотговаря марко блъгарина : - ей та тебе , дзвездо вечернице , що та питам , право да ми кажеш , право да ми кажеш , мене да не лажеш : като грееш толкоз нависоко и си гледаш толкоз нашироко , че има ли , дзвездо , йот мен по-юначен ? йотговаря дзвезда вечерница : - ей та тебе , марко блъгарине ! нали питаш право да ти кажа , право да ти кажа , тебе да не лажа : че си има йот теб по-юначен , йот теб по-юначен и дваж , и триж ; че знаеш ли , марко блъгарине , че знаеш ли дете дукатинче - той йе йот теб по-юначен ! йотговаря марко блъгарина : - ей та тебе , дзвездо вечернице ! че знаеш ли де си седи дете дукатинче ? йотговаря дзвезда вечерница : - ей та тебе , марко блъгарине ! да си станеш утре по-рано , та да тръгнеш със ясното слънце , дето зайде ясното слънце , то ще зайде зад синьо йезеро , тамо има до триста робини , заробил ги йе дете дукатинче , бяло платно белат , на черно да стане , пак черното на бяло да стане , там ще питаш до триста робини дека седи дете дукатинче . че йотпусна марко блъгарина , че йотпусна дзвезда вечерница , па си стегна коня шаркулина , та подрани на утрето по-рано , та си тръгна със ясното слънце . слънце зайде зад синьо йезеро , марко йостана край синьо йезеро , там си намери до триста робини , що ги беше заробил дете дукатинче , бяло платно белат на черно да стане , пак черното на бяло да стане . йотговаря марко блъгарина : - ей ви вазе , до триста робини ! дека седи дете дукатинче ? йотговарят до триста робини : - ей та тебе , незнайно юначе ! я не питай за дете дукатинче , щото видиш нас триста робини , заробил ни йе дете дукатикче . йотговаря марко блъгарина : - ей ви вазе , до триста робини ! кажете ми дека седи дете дукатинче ? йотговарят до триста робини : - ей та тебе , незнайно юначе ! като земеш низ тесно клисуре , ти ще идеш в града дукатина , там ще видиш високи дуваре , дуваре му йот човяшки глави , портите му демиркапия , тамо седи дете дукатинче . марко тръгна през тесно клисуре , та отиде в града дукатина , там намери високи дуваре , високи дуваре йот човяшки глави , портите му демиркапия . там потропа марко на портите , че излезе дете дукатинче , та йотвори демирени порти и съгледа марко блъгарина . йотговаря дете дукатинче : - ей та тебе , незнайно юначе ! що ми тропаш на порти демирни ? йотговори марко блъгарина : - ей та тебе , дете дукатинче ! азе сам марко блъгарина , марко блъгарина йот прилепа града , аз сам дошал с теб да са бора , та да видим кой йе по-юначен , по-юначен йот нас двамината . йотговори дете дукатинче : - ей та тебе , марко блъгарине ! айде двама със теб да идеме , да идеме край синьо йезеро , там си има до триста робини , там си има столовати камък , де си бухат това бяло платно , бяло платно на черно да стане , а черното на бяло да стане ; със тоз камък да са йопитаме кой йе йот нас по-юначен . че тръгнале двоица юнаци , та йотишле край синьо йезеро , там виделе столовати камък ! йотговаря дете дукатинче : - ей та тебе , марко блъгарине ! я си фани столовати камък , да та вида какво юначество имаш . че си фана марко тоз столоват камък . па го фърли марко , подфърли , та си връвя два дни и две нощи . ядоса са дете дукатинче , че си фана тоз столоват камък , че го фърли вов синьото небо , че си връвя цела ми неделя , па си падна тоз столоват камък , па си падна вов синьо йезеро , раз люля се тоз синьо йезеро , че изфърли далга нависоко , та издави до триста робини . като видя марко блъгарина , че йе дете йот него по-юначен , че не може какво да му стори , юплаши са марко блъгарина , па на дете тихом йотговаря : - ей та тебе , дете дукатинче ! айде със теб да са побратимим , да си станем двоица братя . послуша го дете дукатинче , послуша го да са побратимат , та да станат двоица братя . па тръгнале , та да идат , та да идат в дукатина града , там да влезат вов златна черкова , да братимат двоица ми братя . как връвели из тесни клисуре , той си връви дете дукатинче , че си връви той напреди , а марко на юм си премишля как да погуби дете дукатинче ; че извади тънка йостра сабля , че я точи коню на телкия , че си махна марко блъгарина , че си махна , та си дете преряза , преряза го през сряд средата , а дете нищо не юсети . йотговаря дете дукатинче : - ей та тебе , побратиме марко ! нещо ма , бре , сръце заболяло , я да слезем край студено кладенче , вода да пия , сръце да ма преболи . послуша го марко блъгарина , та си слезе йот коня шаркулина ; че са нае дете дукатинче , че са нае йот кон да си слезе , а то падна половина на земята , а другата на коня йостана . йотговаря дете дукатинче : - ей та тебе , побратиме марко ! това ли са юнаклък вика ? твоя юнаклък - кахпелък ! я ми разпори клето сръце , да си видиш какво сръце ми бележи , да си видиш какъв съм аз юнак . послуша го марко блъгарина , че разпори клетото му сръце , изправиле са са до девет сръца , а десетьо люта змия . изправи са люта змия , та си клъцна марко блъгарина , та го клъцна на челото , на челото между двете вежди . тъй загина марко блъгарина , загинаха до два ми юнака , тъй им било йот бога писано .\n",
      "\n",
      "марко кралевити освобождава три синджира роби том і : юнашки песни бил се марко с турци яничаре , бил се марко три месеци време , та отъвна девет кадевлъци , седемдесе бели манастире , осемдесесе църкви равании . стана марко дома да си ойде , па на либе потио говори : - фала тебе , либе катерино , приготви ми църковното рухо и ми тури книги литургийски , а не туряй сабля димиския , я да стегнем шарко добра коня ; утре рано у софия ч'идем , у софия ' у `` света мария '' , у `` мария '' , у църква че д ' идем , чем да идем богу да се молим , ега би ми господ помогнал , ега сапре тия клети турци , стига толкоз земя притискаа , стига толкоз робье изробиа ! послуша го либе катерина , изнесе му църковното рухо и му тури книги литургийски , турила ги у свилни дисаги . па се сети марковото либе : '' не е близо на света софия , да не турям сабля димиския . марко има превърли душмани , може некой на друм да го сретне , може марко на друм да погуби , като нема сабля димиския . '' кришом му е сабля па турила . марко стегна шарко добра коня . пръвните са петли пропеяли , марко яхна шарко добра коня , та си пойде по равни друмове . като мина през полье широко и премина през гора зелена , ка настана край софийско полье , глас се дочу открай бели дунав , дето били робье заробени - заробил ги емза бег арапин . като рита шарко добра коня : - рипай , коню , доколко си можеш , да престигнем църна арапина ! ка стигнаа църна арапина и със него двоица арапе ; до три града били заробили , щото стари , под сабля турали , а мънънки деца изгубили , млада челяд у синджир турали , та караа три синджира робье - един синджир се млади невести , други синджир се млади момчета , треки синджир се млади девойки . ка караа , и робье плачеа , се са робье боси и разпаси и до три дни вода не са пили , и по два дни леб не са ручали . претече ги марко кралевичи . нали нема сабля димиския , отговаря марко кралевичи : - фала тебе , емза бег арапин , я ми пущи три синджире робье ! отговара емза бег войвода : - назад , назад бре , свиньо дебела , защо имам три алки повече , та ги чувам , марко , за тебека ; тебе напред пред робье че турим , че ги водиш като вакъл овен ! на марко се жалба нажалило , та разигра коня нанапреде , та излезна у гора зелена , па си пита шарко добра коня : - фала тебе , шарко добра коня , да фърляме с дървье и каменье , може бити арапи убити , нало чеме робье изтепати . отговара шарко добра коня : - фала тебе , марко кралевичи , я погледни у свилни дисаги , че твое е либе па разумно , да не ти е сабля па турило . ка погледна марко у дисаги , като виде сабля димиския , и нему се сърце зарадува . ка я търгна марко кралевике , та изтечи като бърза вода . ка се качи коню на рамена , та се слете из гора зелена , като махна сабля димиския , троицата обеднъг паднали . тогай везе марко кралевике , та пресече три ситни синджире , та отпущи робье низ синджире . като били три църни арапи , доде били робье изробили и събрали до три азни пари . тогай везе марко кралевичи , та две азни на робье подели , па на робье тогай отказуе : - хайде , секи дома да с ' йидете , де минете през куи касаби , купете си лебец и опинци и за мене сички казувайте : '' отъвна ни марко кралевичи ! '' казувайте да се приказуе . тогай търгна марко кралевичи и си везе една азна пари , та отиде у равна софия , у софия , у `` света мария '' , тамън било църква опущило . излезнали софийски кметове , наседали редом по столове . ка видоа марко кралевичи , сите му се редом посмеяа : - ете иде марко пияница , сва ночи пие това църно вино , нема кога у църква да дойде . ете сега църква опущихме , и он тепърва у църква дооди . а марко им нищо не продума , само им е дума продумало : - бог помага , софийски кметове ! па улезна у `` света мария '' , та си окна стар егумен славе : - фала тебе , стар егумен славе , ела тука да се изповедам , че съм млогу греове направил ! рано пойдох у църква да дойдем , тамън беше зора зазорило . ка настана софийското полье , глас се дочу открай бели дунав , дето беа роби заробени , заробил ги емза бег арапин ; до три града беа заробили , щото стари , под сабля турали и мънънки деца изгубили , млада челяд у синджир турали , та караа три синджира робье - един синджир се млади невести , други синджир се млади девойки , треки синджир се млади момчета , караа ги , а робье плачеа , че до три дни вода не са пили и по два дни леб не са ручали , ем се беа боси и разпаси . та съм търчал , робье та отъвнах , та погубих три църни арапе , та отъвнах робье от арапе ; и караа до три азни пари , та две азни на робье поделих , една азна тука че оставим . та това съм я работа свършил , та не може у църква да стигнем . отговара стар егумен славе : - фала тебе , марко кралевичи , колкото си грех досега имал , се греове господ че ти прости ! и напред добро си направил , до три манастире си саградил , че като си тизе това свършил . текардън са църква започели , та държала три саати време . и като са църква опущили , щото беа софийски кметове , сичките са наред настаяли , сичките се марку поклонили , се на марко ръка цаливали и на марко дума продумали : - честит , марко , с твоето юнашство , каде одиш , се работа вършиш ! и сега си у църква па дошел , и сега си па работа свършил , погубил си три църни арапе . отъвнал си три синджира робье .\n",
      "\n",
      "национальный социализм и роль личности wotanjugend доктор петр николаевич иванов , один из авторов газеты “ новое слово ” – печатного органа русских национал-социалистов в третьем райхе , опубликовал в 1942 году важный текст о роли личности в национал-социалистическом государстве и принципиальном отличии последнего от государства марксистского : марксизм , игнорирующий роль духовного начала – это теория развития общества полуживотных , но отнюдь не людей . принятие идей марксизма не может не повести к регрессу человечества , к обратному движению в направлении дикого первобытного состояния , ибо культ материальных интересов неизбежно будет пробуждать и обострять самые грубые , неизменные инстинкты , а игнорирование принципа личной заинтересованности обеспечит падение общего материального уровня , не говоря уже о духовном . результаты владычества марксистских идей на протяжении четверти века в россии , являются прекрасным подтверждением только что сказанного : разрушение морали и семьи , разрушение религии и уничтожение чувства чести и долга , подмена культуры духа бессмысленным зазубриванием цитат из сочинений « классиков » марксизма , хроническое обнищание деревни , – вот те плоды , которые вырастил марксизм на широких просторах нашей родины . растлевающее влияние марксизма не могло не возбудить соответствующей реакции . человеческий дух не мог не восстать против угрозы звероподобного господства материи , грозившего уничтожением не только культурных ценностей человечества , но и его самого . и это восстание свершилось – германский народ , породивший величайших философов и политиков нового и новейшего времени ( канта , гегеля , ницше и бисмарка ) , породил и адольфа гитлера , поднявшего знамя крестового похода европы против иудо-марксизма . совершенно закономерно новое идейное движение , поднявшееся на борьбу с марксизмом , зародилось именно в германии . с одной стороны , – именно германскому народу в высокой степени присущи чувства национального единения и прочного государственного уклада , с другой стороны , – германия , уже имевшая перед глазами опыт русской « пролетарской » революции , сама , в свою очередь , стояла перед угрозой близкого коммунистического восстания . и именно потому , что почва в германии была уже исторически подготовлена к восприятию нового идейного учения , гениальные способности адольфа гитлера , как вождя , организатора и агитатора , позволяли ему в поразительно короткий исторический срок не только организационно оформить новое учение , но и сделать его могучей силой мирового и исторического значения . невозможность дальнейшего культурного прогресса человечества без радикального и насильственного изменения социально-экономических основ старого капиталистического мира была адольфу гитлеру совершенно ясна . и именно поэтому он совершил в своей стране социальную революцию , но так как революция была направлена не только против капитализма , но и против марксизма , ведущего социальную борьбу под лозунгами интернационализма и главенства материи , то на революционных знаменах партии адольфа гитлера был написан лозунг : « за социализм , на здоровой национальной основе , за победу высокого человеческого духа над низменной материей » . эти идеи германской национал-социалистической рабочей партии , сумевшие объединить , поднять и вдохновить на борьбу не только германский народ , но и все молодые , прогрессивные народы европы , служит ярчайшим доказательствам значения и роли человеческого духа в истории развития человеческого общества . ибо эти идеи являются продуктом гениальных способностей одного человека , сумевшего еще в юные годы распознать всю растлевающую сущность марксистского учения и выработать в себе основы того миросозерцания , которому бесспорно принадлежит громадное историческое будущее . эта историческая перспектива национал-социалистического учения определяется не только его социалистическим содержанием : ведь марксизм тоже ведет борьбу за социализм . сила , жизненность и творческая способность социализма адольфа гитлера заключается в том , что этот социализм строится на основе признания исключительной и руководящей роли человеческого духа и на признании громадного культурного значения победы человеческого духа над материей . именно поэтому национал-социалистическое учение обеспечивает и подлинную культуру , и подлинный прогресс человеческого общества во всех областях его жизни . человеческий дух всегда находит наиболее яркое свое воплощение в личности отдельного человека ; коллектив гасит и мертвит человеческий дух , ибо коллектив – это безвольная , мертвая масса , одухотворяемая только извне , но отнюдь не изнутри . так как марксизм исходит из представления о примате материи над духом и так как только человеческий дух мог поднять оружие против марксизма , то реализация идей марксизма была основана прежде всего на жесточайшем подавлении отдельной человеческой личности и на полном и безусловном поглощении ее коллективом . так как национал-социализм видит основную движущую силу развития общества в человеческом духе , то победа идей национализма ведет к подъему и расцвету человеческого общества на основе подъема и рассвета отдельной человеческой личности и создания максимально благоприятных условий для наиболее полного выявления индивидуальных способностей каждого отдельного члена общества . именно эта здоровая , индивидуальная , духовная основа национал-социалистического учения обуславливает его силу , его прогрессивность , историческую закономерность и неизбежность его окончательной победы . если марксизм превращал человека в полуживотное , лишенное лучших ярких духовных качеств , то национал-социализм поднял на щите человеческую личность так высоко , как она еще никогда не стояла . и именно этот щит делает национал-социализм непобедимым . автор : проф.-докт . п. иванов , источник – газета “ новое слово ” берлин №87 ( 469 ) , воскресенье , 1 ноября 1942 года , с.4-5 .\n",
      "\n",
      "хеймдалль , страж богов wotanjugend даже среди возвышенных æsir этот бог выделяется происхождением и необыкновенным значением , которым он обладает в германской мифологии . хеймдалль - белый витязь и страж богов ; днём и ночью несёт он свою вахту с мокрой спиной у моста бифрост , охраняя радугу , по которой проходят асы , поднимаясь в валхаллу , от непрошеных гостей , прежде всего , великанов . возле моста находятся его чертоги , химинбьёрг , небесные горы . хеймдалль видит всё на сотни миль вокруг себя , ночью не хуже , чем днём ; его слух запрятан под деревом иггдрасиль рядом с источником мимира и всё же он слышит как растёт трава и шерсть вырастает на овцах . другие имена хеймдалля - халлинскиди и гуллинтани ( златозубый ) , а также виндлери ( то есть , морской ветер ) . атрибуты хеймдалля - меч , которым воин охраняет вход в царство богов , причём меч так тесно связан с символикой светлого бога , что в скальдической поэзии зовётся его головой или голова зовётся мечом хеймдалля , конь гулльтоп ( `` золотая чёлка '' ) и рог гьяллархорн , звук которого слышал во всех девяти мирах , в который он протрубит в конце времён при приближении вражеского войска ( этот рог сравнивают то с трубой архангела , предвещающего апокалипсис , то с рогом роланда , призывающего подмогу , то с морскими раковинами , в которые трубят герои индусского у хеймдалля необычная родословная : светлый ас считается сыном одина и девяти матерей йотунской породы , которые являются сёстрами , их имена : грейп , гиалп , ейстла , иргиафа , ульфрун , ангейя , имд , атла и , наконец , ярнсакса . наиболее достоверная теория признаёт их дочерьми морского бога эгира и его супруги ран , иначе говоря , матери хеймдалля являются морскими волнами . любопытно , что индийский бог агни рождается из воды от нескольких матерей числом от двух от девяти . а в уэльском фольклоре имеются указания , что морские волны движутся по девять и каждая девятая несёт в себе барана ( который прочно ассоциируется с хеймдаллем ) . сам же хеймдалль является отцом для всех человеческих существ и прежде всего - для культурных , возвышенных белых народов , создающих цивилизацию . в евгеническом мифе , изложенном в `` песне о риге '' хеймдалль под этим именем отправляется в мидгард , чтобы одухотворить , усовершенствовать тех примитивных человекоподобных особей , что жили в срединном мире до того момента и в первую очередь он создаёт семейство трелла , раба - темнокожего и морщинистого , сутулого и безобразного внешне . на следующем этапе хеймдалль творит новую расу , род карла , свободного человека - рыжеволосого , румяного , с живыми глазами . и только на третьем заключительном этапе этого алхимического процесса возникает вершина творения , род ярла , господина , то есть , белый человек : сына мать родила , спеленала шелками , водой окропила , он назван был ярлом ; румяный лицом , а волосы светлые , взор его был , как змеиный , страшен . хеймдалль не только творит разумную жизнь на земле , но и делится знаниями со своими потомками , обучая их тем навыкам и умениям , которые соответствуют их природе : род трелла годится , прежде всего , для физической работы , род карла - для ремесла и сельского хозяйства , род ярла же создан для войны , освоения необжитых земель , покорения водных просторов и , в конечном итоге , для творчества . поэтому хеймдалль считается основоположником не только различных народов , но и социальной организации , кастовой иерархии общества , а также , законодателем . `` песнь о риге '' ясно свидетельствует о том , что уже в весьма отдалённую эпоху у язычников северной европы имелось представление и о расовой теории , и об улучшении породы , и о происхождении жизни и социальной структуре . кроме того , текст песни вполне отчётливо намекает , что хеймдалль в германских представлениях был не просто воином на страже богов , но выполнял функции культурного героя , созидателя и исследователя , исподволь направляющего народы к их далёкой цели . он выполняет и связующую , медиаторную роль между различными мирами : в песне `` воронова ворожба одина '' всеотец отправляет его в качестве посла к великанше модгуд , чтобы узнать о судьбе исчезнувшей богини идунн , хранительницы молодильных яблок , даровавших бессмертие богам . и всё же хеймдалль является в первую очередь защитником , хранителем духовного наследия и священной крепости асгарда , а также душой и олицетворением рыцарства , возникшего в более отдалённую эпоху . он тесно связан с мардёлл ( одно из имён фрейи ) и когда локи крадёт украшение фрейи брисингамен , он преследует злодея в виде тучи и в облике белого медведя , настигает его в форме тюленя и бьётся с похитителем , вынуждая отдать драгоценность . хеймдалль - белый бог , верный и честный ас , питает глубокую неприязнь к коварному и лукавому локи , поэтому во времена рагнарёка , согласно прорицанию вёльвы , им суждено убить друг друга . однако до той поры благородный сын одина не оставит своих детей , род ярла , белое человечество , отбирая достойных среди них и пропуская их в небесный чертог . по словам варга викернеса , `` хеймдалль даёт эйнхериям их золото жизни - личный смысл жизни , индивидуальное жизненное задание '' . это это и есть то самое сокровище , поиски которого приведут ищущего его к другому концу радуги , в обитель белого аса .\n",
      "\n",
      "марко кралевики убива дете дукадинче том і : юнашки песни та си оди марко кралевико , та си оди от града на града , та си тражи по юнак от него . ка си ойде у будино село , тамо има дете дукадинче , оно си е на седем години , седем пати по юнак от него . та намери три малки дечица и марко си дума продумуе : - е виека , три малки дечица ! дека седи дете дукадинче ? оно си е на седем години , седем пати по юнак от мене . продума си по-средньото дете : - е тизека , марко кралевико ! да язе сем дете дукадинче , седем пати по юнак от тебе . и марко си дума продумуе : - е тизека , дете дукадинче ! а д'идеме на перин планина , да фърляме камик на облога ! ка ойдоа на перин планина , та земаа той мермер камика , та го зема марко кралевико , та си фърли той мермер камика . и си зема дете дукадинче , та си зема той мермер камика ка го фърли дете дукадинче - де си падна той мермер камика , тамо си е изби изкопало и надфърли маркоте юнака , надфърли го пет разкроча место . и марко си тогай возстрашило , и марко си дума продумуе : - е тизека , дете дукадинче ! айде ние брайкя да станеме . да идеме у земена града , да утепаме земенския цара . ка си яхна марко кралевико , ка си яхна шарца , добра коня , и сос него дете дукадинче , та си яхна дете дукадинче , та си яхна конче седмогодче и марку се , бог'ме , не свидело , та продума марко кралевико : - е тизека , дете дукадинче ! я погледни више у небеса како трепта тия ясни дзвезди . ка погледна дете дукадинче , та погледна више у небеса како трепта тия ясни дзвезди , бог да бие маркоте юнака ! ка извади сабля на сглабове , та пресече дете дукадинче пресече го пресред половини . минало се е един саат време и дете си дума продумало : - е тизека , марко кралевико ! нещо мене сърце преболее . я марко му дума продумуе : - е тизека , дете дукадинче ! наведи се над твоята коня , та си лизни от десна зенгия , и тебека сърце че умине . наведе се дете дукадинче , наведе се на ньегова коня , наведе се зенгия да лизне , та му падна половин трупина . ка си стана трупина без глава , та си забра маркоте юнака , та го гони низ перин планина . ка достигна половин трупина , та достигна маркоте юнака , достигна го у тесни клисури - фаная се у юначке раце , та се бора три дни и три нощи . и марку се , бог'ме , досадило , и продума марко кралевико : - е тизека , милице загорко ! я си сбери вили-самовили , да си скина половин трупина . и се сбрали вили-самовили собрали се низ перин планина , да си кина половин трупипа , ка си кина вили-самовили , та си падна марко кралевико , та си падна под ньегова мърша . пай се мъчи марко кралевико , та се мъчи под ньегова мърша , та се мъчи три дни и три пощи , дур да стане под ньегова мърша . ка си стана марко кралевико , та си стана под ньегова мърша , та си бъркна марко кралевико , та си бъркна у десната чижма , та извади ноже потайниче , та си разпра дете дукадинче , а оно има до три , бре , сърцета - едно се е било и пребило , другото се току разбудило , а третйото , бог'ме , и не чуло . и собрали се вили-самовили , та погребли дете дукадинче . и марко си дума продумуе : - е виека , вили-самовили ! та що ви е дете дукадинче , та що ви е многу ле уилило ? и продумая вили-самовили : - е тизека , марко кралевико ! оно си едно ле у майкя и е седем пати по юнак от тебе . затова ле ние него че погребеме - оно може светия да стане , оти си е на седем години .\n",
      "\n",
      "cruz cruz cruz cruz cruz cruz cruz cruz cruz cruz cruz cruz cruz cruz cruz cruz cruz cruz cruz cruz cruz cruz cruz cruz cruz cruz cruz cruz cruz cruz cruz cruz cruz cruz cruz cruz cruz cruz cruz cruz cruz cruz cruz cruz cruz cruz cruz cruz cruz cruz cruz cruz cruz cruz cruz cruz cruz cruz cruz cruz cruz cruz cruz cruz cruz cruz cruz cruz cruz cruz cruz cruz cruz cruz cruz cruz cruz cruz cruz cruz cruz cruz cruz cruz cruz cruz cruz cruz cruz cruz cruz cruz cruz cruz cruz cruz cruz cruz cruz cruz cruz cruz cruz cruz cruz cruz cruz cruz cruz cruz cruz cruz cruz cruz cruz cruz cruz cruz cruz cruz cruz cruz cruz cruz cruz cruz cruz cruz cruz cruz cruz cruz cruz cruz cruz cruz cruz cruz cruz cruz cruz cruz cruz cruz cruz cruz cruz cruz cruz cruz cruz cruz cruz cruz cruz cruz cruz cruz cruz cruz cruz cruz cruz cruz cruz cruz cruz cruz cruz cruz cruz cruz cruz cruz cruz cruz cruz cruz cruz cruz cruz cruz cruz cruz cruz cruz cruz cruz cruz cruz cruz cruz cruz cruz cruz cruz cruz cruz cruz cruz cruz cruz cruz cruz cruz cruz cruz cruz cruz cruz cruz cruz cruz cruz cruz cruz cruz cruz cruz cruz cruz cruz cruz cruz cruz cruz cruz cruz cruz cruz cruz cruz cruz cruz cruz cruz cruz cruz cruz cruz cruz cruz cruz cruz cruz cruz cruz cruz cruz cruz cruz cruz cruz cruz cruz cruz cruz cruz cruz cruz cruz cruz cruz cruz cruz cruz cruz cruz cruz cruz cruz cruz cruz cruz cruz cruz cruz cruz cruz cruz cruz cruz cruz cruz cruz cruz cruz cruz cruz cruz cruz cruz cruz cruz cruz cruz cruz cruz cruz cruz cruz cruz cruz cruz cruz cruz cruz cruz cruz cruz cruz cruz cruz cruz cruz cruz cruz cruz cruz cruz cruz cruz cruz cruz cruz cruz cruz cruz cruz cruz cruz cruz cruz cruz cruz cruz cruz cruz cruz cruz cruz cruz cruz cruz cruz cruz cruz cruz cruz cruz cruz cruz cruz cruz cruz cruz cruz cruz cruz cruz cruz cruz cruz cruz cruz cruz cruz cruz cruz cruz cruz cruz cruz cruz cruz cruz cruz cruz cruz cruz cruz cruz cruz cruz cruz cruz cruz cruz cruz cruz cruz cruz cruz cruz cruz cruz cruz cruz cruz cruz\n",
      "\n",
      "серьезная информация , которая подается в « несерьезных » формах . скрытое влияние в кино , литературе , ток-шоу reconquista подавать нужную информацию для лучшего ее восприятия выгоднее без откровенного навязывания . « легкие » формы убеждения присущие фильмам и литературе . когда индивидуум не задумывается о том , что за просмотром невинной киноленты , ток-шоу или при чтении книги он подвергается влиянию . в качестве примера можно взять американскую мифологию , которая практически создана кинематографом . в последнее время , благодаря появлению новых сериалов , новых героев и новой идеологии , картина мира американцев меняется , а вместе с ними меняется и наша картина мира через заимствование их кинематографа и нехватки собственных фильмов . сценарии популярных сериалов часто являются закупленными из-за рубежа или транслируются сами сериалы с переводом . будучи коммерческим искусством , кинематограф обязан подстраиваться под настроение массовой аудитории . благодаря кино можно проанализировать как национальные особенности , так и их изменения в течение отрезка времени . именно с помощью кино и литературы можно осуществлять эффективную пропаганду тех или иных идей . сценарии фильмов также могут формировать негативное отношение к той или иной национальности . массовая коммуникация включает в себя собственные мифы , которые формируют и поддерживают модель мира через литературу и кинофильмы . но базовой будет оставаться массовая культура потому что она : - охватывает все население , а не какие-то его сегменты - имеет базис динамику , а не консерватизм - « привлекает » , как и другая развлекательная сфера , поэтому легче распространяется - направлена на развлекательность , ее смыслы не нарываются на то критическое сопротивление , которое существует в других сферах . кино и литература имеют ярко выраженную тенденцию к изменениям и подстройке к потребностям массовой аудитории , позволяет заинтересовывать ее , находясь в постоянной динамике . через кинофильмы формируются виртуальные миры . с их помощью создается новая идеология в мире реальном , создавая новые модели поведения , новых героев и новый образ жизни . это информационная модель поведения , которая подсознательно влияет на конкретного человека . самоидентификацию не может дать зарубежное кино , только национальное . доминирование чужого кинематографа влияет на мысли , формирование моделей поведения людей , их отношение к собственной стране . доминирование заимствованных кинопродуктов меняет отношение к стране в целом . существует конфликт нарративов , что формирует имидж той или иной страны перед другими государствами . политические ток-шоу также стали нести больше функцию развлекательную , чем информационную . на первый план теперь вышли не ценность фактов , а громкость голоса оппонентов , а иногда и физическая сила . политическая мифология может содержаться где угодно : в кинематографе , литературе ( не исключением является даже литература детская ) . мифами наполнена литература , в которой всегда реальный авторский текст , авторский замысел и тот смысл менялись после ознакомления с текстом читателя , вложения его понимание прочитанного . то же касается и просмотра фильмов . так что для самоидентификации народа , построение собственных мифов просто необходимо создавать собственные качественные продукты , содержащие в себе нужные установки .\n",
      "\n",
      "кралевики марко убива муса кеседжия том і : юнашки песни фала богу за чудо гулемо ! бре къде ке чудо да гледаме ? край вардара на демиркапиа сус унойгу кралевики марко . царе рани ду два измикяра ; кои ми су ду два измикяра ? еден ми е кралевики марко , втори ми е муса кеседжиа . марко рани се леба симида и го пои вино и ракия ; муса рани се леба мисира и го рани сус руди агнета . на муса си атър останало , та си е далеко забегнало , забегнало край река вардара , край вардара на демиркапиа . седи тамо муса кеседжиа , седи тамо , караул си чува . седе муса три години време , та не дава пиле да префръкне , камо ли ти човек да премине ? заптисал е дванаесе друмища , сус друмища и дванаесе скели , нема утдека на царе да пратаа , да му пратаа мириа да му иде . па се чуди цар султан мурата що да праи с муса кеседжиа , да отпусне дванаесе друмища , сус друмища и дванаесе скели . досети се цар султан мурата , книга пиша и книга отпрати , отпрати я на прилепа града , на прилепа , вув лепа вароша , ду унойгу кралевики марко . и вув книга си е написало : '' много здраве , кралевики марко , ето тебе книга ти допращам , какво мож куд мене да дойдеш . '' книга дойде на прилепа града , на прилепа , вув лепа вароша , на унойгу кралевики марко . книга чати , на майкя си дума : - ой ле , мале , ой ле , стара мале ! книга дойде ут стамбола града , ут унойгу цар султан мурата - ка да мога куд него да ида . кажи , мале , какво ле да праа , дали д'ида , ели да не ида ? а макя му вели , утгувори : - иди , сино , оти да не идеш , царцка дума надзад се не враща . марко си е макя послушало , та си стана , коне си оседла , оседла го марко , обружа го , приведе го на бинек ташиа , та си марко коне возседнало , та го бутна пу равни друмове , та отиде на града стамбола , на стамбола у царцки конаци . слезе марко ут коне на земя , пусна коне сами да се шета , а марко се качи на диване , на диване више на сарае , на сарае куд цар султан мурат , та се марко на царе поклони , поклони се и си му продума : - ой ле , тизи , цар султан мурате ! дал ме викаш далек да ме пратиш , ели ме викаш да си ме погубиш ? а царе му вели , утгувори : - ой ле , марко , моа верна слуго ! не те викам , марко , да те губе , тук ' те викам , марко , да те прате , да те прате край река вардара , край вардара на демиркапиа , куд унойгу муса кеседжиа . ке те прате с него да се биеш , да се биеш , дано го убиеш , ке ке си е муса заптисало , заптисало дванаесе друмища , сус друмища и дванаесе скели , та не дава пиле да префръкне , камо ли ти човек да премине . нема утдека мириа да ми дойде . а марко му вели , утгувори : - ой ле тизи , цар султан мурате ! страувам се с муса да се биа , ке ке е дваж по юнак ут мене - муса има ду три люти сръца , та ке си ме , бре , муса погуби . а царе му вели , утгувори : - чуеш ли ме , кралевики марко , царцка дума надзад се не враща . нема марко какво да си праи , слези долу , та си коне яана , та отиде край река вардара , край вардара на демиркапиа . догледа го муса кеседжиа , догледа го и си го познало , виком си се муса провикнало : - надзад , надзад , кралевики марко ! ете веке три години време , ка си седе на демиркапиа , на капиа караул да чувам , та не давам пиле да префръкне , камо ли ти човек да замине - и ти , марко , нема да заминеш . а марко му вели , утгувори : - бог те убил , муса кеседжио ! запитсал си дванаесе друмища , сус друмища и дванаесе скели , та на царе мириа не дуожда , та ме царе ду тебе допрати , ние с тебе двата да се бием . утгувори муса кеседжиа : - бива , марко , оти да не бива . та си двата ут коне слезоа , та се двата сус раце фанаа ; ка се фанаа , та се пригърнаа , юначка се борба побориа , бориа се три дни и три нощи ; чаир беше , угар направиа , закупаа се в земя ду колена . фного се е марко заморило , заморило , душа затаяла . на муса се сръце уморило , уморило , второ подкачило , а трекьото ич абер немало . виде марко , ке млад ке погине , викна марко , що му гласи дръжа : - посестримо , вело самовило ! дека да си , куд мене да дойдеш , да си дойдеш , мене да помогнеш , ке ке , сестро , младо да погина , ке погина ут муса кеседжиа , - ка го дочу вела самовила , ка го дочу ут връх , ут планина , ут планина , ут виши връшища , та на сестра гюргя си говори : - ой ле , сестро , моа мила сестро , наше пубратим е нейде фанат , та си вика и за назе плаче , да идеме да му помогнеме ; туга марко назе ке познае , ке ке му сме сестри посестрими . та станаа ду две самовили , самовили , ду две посестрими , та слезоа ут връх , ут планина , ут планина , ут виши връшища , та фанаа ду два сура елена , та янаа ду два сура елена , та минаа през гора зелена ; дека минаа , сукак направиа , сичка гора си са поломили , поломили , гора потрошили . отидоа край река вардара , край вардара , на демиркапиа , там найдоа пубратимо марко да се бори с муса кеседжиа , ут борене сръце се уморило , уморило , душа затаила , още малко марко ке погине . продума си вела самовила : - леле , леле , пубратиме марко ! ага ядеш , ага вино пиеш , туга назе ти не покануваш ; сега оти ти е дутегнало , дутегнало борба да се бориш , да се бориш с муса кеседжиа , та си викаш и назе си трасиш , да дойдеме да ти помогнеме , ние марко това ке повниме ! я бръкни си у десни тозлука , та извади ножченце иманче , та си бодни муса в клето сръце , туга муса на земя ке падне . бръкна марко у десни тозлука , та извади ножченце иманче , та си бодна муса в клето сръце , та убоде муса кеседжиа , та си муса на земя паднало . па продума вела самовила : - леле , леле , пубратиме марко , разпори си муса кеседжиа , да видиме какво сръце има . туга марко муса си разпрало , що да видаа за чудо гулемо ! муса има ду три люти сръца - пръво сръце се е уморило , второ се е току подкачило , а трекьото ич абер немало . загина си муса кеседжиа , загина си край река вардара , край вардара , на демиркапиа . туга си се друмове пуснаха , сус друмове скели отвориа , та по море гимии провървели , на царе се мириа запраща . а що беа ду две самовили , отидоа си пу гора зелена , отидоа си пу виши връшища . а що беше цар султан мурата , ка си виде ке мириа му дойде , досети се цар султан мурата , ке ке си е муса погинало . продума си цар султан мурата : - еден юнак от верата имах , и той умре от тоа бугарина , бугарина кралевики марко . прувикна се цар султан мурата : - ой ле вие , мои изметчии , ага дойде кралевики марко , ага дойде ут демиркапиа , фанете го , па го уткарайте , карайте го вув града едрене , вув едрене , вув тевна зандана , дето има хала затворена , дано хала марко да изеде . повърна се кралевики марко , повърна се ут демир капия , фанаа го царцки изметчии , та го уткараа вув града едрене , та го туриа вув тевна зандана , дето има хала затворена , дано хала марко да изеде . ка си марко в зандан затвориа , затвориа марко , забориа , а марко е хала погубило , погубило , зандан очистило .\n",
      "\n",
      "creme creme creme creme creme creme creme creme creme creme creme creme creme creme creme creme creme creme creme creme creme creme creme creme creme creme creme creme creme creme creme creme creme creme creme creme creme creme creme creme creme creme creme creme creme creme creme creme creme creme creme creme creme creme creme creme creme creme creme creme creme creme creme creme creme creme creme creme creme creme creme creme creme creme creme creme creme creme creme creme creme creme creme creme creme creme creme creme creme creme creme creme creme creme creme creme creme creme creme creme creme creme creme creme creme creme creme creme creme creme creme creme creme creme creme creme creme creme creme creme creme creme creme creme creme creme creme creme creme creme creme creme creme creme creme creme creme creme creme creme creme creme creme creme creme creme creme creme creme creme creme creme creme creme creme creme creme creme creme creme creme creme creme creme creme creme creme creme creme creme creme creme creme creme creme creme creme creme creme creme creme creme creme creme creme creme creme creme creme creme creme creme creme creme creme creme creme creme creme creme creme creme creme creme creme creme creme creme creme creme creme creme creme creme creme creme creme creme creme creme creme creme creme creme creme creme creme creme creme creme creme creme creme creme creme creme creme creme creme creme creme creme creme creme creme creme creme creme creme creme creme creme creme creme creme creme creme creme creme creme creme creme creme creme creme creme creme creme creme creme creme creme creme creme creme creme creme creme creme creme creme creme creme creme creme creme creme creme creme creme creme creme creme creme creme creme creme creme creme creme creme creme creme creme creme creme creme creme creme creme creme creme creme creme creme creme creme creme creme creme creme creme creme creme creme creme creme creme creme creme creme creme creme\n",
      "\n",
      "creme creme creme creme creme creme creme creme creme creme creme creme creme creme creme creme creme creme creme creme creme creme creme creme creme creme creme creme creme creme creme creme creme creme creme creme creme creme creme creme creme creme creme creme creme creme creme creme creme creme creme creme creme creme creme creme creme creme creme creme creme creme creme creme creme creme creme creme creme creme creme creme creme creme creme creme creme creme creme creme creme creme creme creme creme creme creme creme creme creme creme creme creme creme creme creme creme creme creme creme creme creme creme creme creme creme creme creme creme creme creme creme creme creme creme creme creme creme creme creme creme creme creme creme creme creme creme creme creme creme creme creme creme creme creme creme creme creme creme creme creme creme creme creme creme creme creme creme creme creme creme creme creme creme creme creme creme creme creme creme creme creme creme creme creme creme creme creme creme creme creme creme creme creme creme creme creme creme creme creme creme creme creme creme creme creme creme creme creme creme creme creme creme creme creme creme creme creme creme creme creme creme creme creme creme creme creme creme creme creme creme creme creme creme creme creme creme creme creme creme creme creme creme creme creme creme creme creme creme creme creme creme creme creme creme creme creme creme creme creme creme creme creme creme creme creme creme creme creme creme creme creme creme creme creme creme creme creme creme creme creme creme creme creme creme creme creme creme creme creme creme creme creme creme creme creme creme creme creme creme creme creme creme creme creme creme creme creme creme creme creme creme creme creme creme creme creme creme creme creme creme creme creme creme creme creme creme creme creme creme creme creme creme creme creme creme creme creme creme creme creme creme creme creme creme creme creme creme creme creme creme creme creme\n",
      "\n",
      "creme creme creme creme creme creme creme creme creme creme creme creme creme creme creme creme creme creme creme creme creme creme creme creme creme creme creme creme creme creme creme creme creme creme creme creme creme creme creme creme creme creme creme creme creme creme creme creme creme creme creme creme creme creme creme creme creme creme creme creme creme creme creme creme creme creme creme creme creme creme creme creme creme creme creme creme creme creme creme creme creme creme creme creme creme creme creme creme creme creme creme creme creme creme creme creme creme creme creme creme creme creme creme creme creme creme creme creme creme creme creme creme creme creme creme creme creme creme creme creme creme creme creme creme creme creme creme creme creme creme creme creme creme creme creme creme creme creme creme creme creme creme creme creme creme creme creme creme creme creme creme creme creme creme creme creme creme creme creme creme creme creme creme creme creme creme creme creme creme creme creme creme creme creme creme creme creme creme creme creme creme creme creme creme creme creme creme creme creme creme creme creme creme creme creme creme creme creme creme creme creme creme creme creme creme creme creme creme creme creme creme creme creme creme creme creme creme creme creme creme creme creme creme creme creme creme creme creme creme creme creme creme creme creme creme creme creme creme creme creme creme creme creme creme creme creme creme creme creme creme creme creme creme creme creme creme creme creme creme creme creme creme creme creme creme creme creme creme creme creme creme creme creme creme creme creme creme creme creme creme creme creme creme creme creme creme creme creme creme creme creme creme creme creme creme creme creme creme creme creme creme creme creme creme creme creme creme creme creme creme creme creme creme creme creme creme creme creme creme creme creme creme creme creme creme creme creme creme creme creme creme creme creme\n",
      "\n",
      "creme creme creme creme creme creme creme creme creme creme creme creme creme creme creme creme creme creme creme creme creme creme creme creme creme creme creme creme creme creme creme creme creme creme creme creme creme creme creme creme creme creme creme creme creme creme creme creme creme creme creme creme creme creme creme creme creme creme creme creme creme creme creme creme creme creme creme creme creme creme creme creme creme creme creme creme creme creme creme creme creme creme creme creme creme creme creme creme creme creme creme creme creme creme creme creme creme creme creme creme creme creme creme creme creme creme creme creme creme creme creme creme creme creme creme creme creme creme creme creme creme creme creme creme creme creme creme creme creme creme creme creme creme creme creme creme creme creme creme creme creme creme creme creme creme creme creme creme creme creme creme creme creme creme creme creme creme creme creme creme creme creme creme creme creme creme creme creme creme creme creme creme creme creme creme creme creme creme creme creme creme creme creme creme creme creme creme creme creme creme creme creme creme creme creme creme creme creme creme creme creme creme creme creme creme creme creme creme creme creme creme creme creme creme creme creme creme creme creme creme creme creme creme creme creme creme creme creme creme creme creme creme creme creme creme creme creme creme creme creme creme creme creme creme creme creme creme creme creme creme creme creme creme creme creme creme creme creme creme creme creme creme creme creme creme creme creme creme creme creme creme creme creme creme creme creme creme creme creme creme creme creme creme creme creme creme creme creme creme creme creme creme creme creme creme creme creme creme creme creme creme creme creme creme creme creme creme creme creme creme creme creme creme creme creme creme creme creme creme creme creme creme creme creme creme creme creme creme creme creme creme creme creme\n",
      "\n",
      "creme creme creme creme creme creme creme creme creme creme creme creme creme creme creme creme creme creme creme creme creme creme creme creme creme creme creme creme creme creme creme creme creme creme creme creme creme creme creme creme creme creme creme creme creme creme creme creme creme creme creme creme creme creme creme creme creme creme creme creme creme creme creme creme creme creme creme creme creme creme creme creme creme creme creme creme creme creme creme creme creme creme creme creme creme creme creme creme creme creme creme creme creme creme creme creme creme creme creme creme creme creme creme creme creme creme creme creme creme creme creme creme creme creme creme creme creme creme creme creme creme creme creme creme creme creme creme creme creme creme creme creme creme creme creme creme creme creme creme creme creme creme creme creme creme creme creme creme creme creme creme creme creme creme creme creme creme creme creme creme creme creme creme creme creme creme creme creme creme creme creme creme creme creme creme creme creme creme creme creme creme creme creme creme creme creme creme creme creme creme creme creme creme creme creme creme creme creme creme creme creme creme creme creme creme creme creme creme creme creme creme creme creme creme creme creme creme creme creme creme creme creme creme creme creme creme creme creme creme creme creme creme creme creme creme creme creme creme creme creme creme creme creme creme creme creme creme creme creme creme creme creme creme creme creme creme creme creme creme creme creme creme creme creme creme creme creme creme creme creme creme creme creme creme creme creme creme creme creme creme creme creme creme creme creme creme creme creme creme creme creme creme creme creme creme creme creme creme creme creme creme creme creme creme creme creme creme cremecreme creme creme creme creme creme creme creme creme creme creme creme creme creme creme creme creme creme creme creme creme creme creme creme creme\n",
      "\n",
      "creme creme creme creme creme creme creme creme creme creme creme creme creme creme creme creme creme creme creme creme creme creme creme creme creme creme creme creme creme creme creme creme creme creme creme creme creme creme creme creme creme creme creme creme creme creme creme creme creme creme creme creme creme creme creme creme creme creme creme creme creme creme creme creme creme creme creme creme creme creme creme creme creme creme creme creme creme creme creme creme creme creme creme creme creme creme creme creme creme creme creme creme creme creme creme creme creme creme creme creme creme creme creme creme creme creme creme creme creme creme creme creme creme creme creme creme creme creme creme creme creme creme creme creme creme creme creme creme creme creme creme creme creme creme creme creme creme creme creme creme creme creme creme creme creme creme creme creme creme creme creme creme creme creme creme creme creme creme creme creme creme creme creme creme creme creme creme creme creme creme creme creme creme creme creme creme creme creme creme creme creme creme creme creme creme creme creme creme creme creme creme creme creme creme creme creme creme creme creme creme creme creme creme creme creme creme creme creme creme creme creme creme creme creme creme creme creme creme creme creme creme creme creme creme creme creme creme creme creme creme creme creme creme creme creme creme creme creme creme creme creme creme creme creme creme creme creme creme creme creme creme creme creme creme creme creme creme creme creme creme creme creme creme creme creme creme creme creme creme creme creme creme creme creme creme creme creme creme creme creme creme creme creme creme creme creme creme creme creme creme creme creme creme creme creme creme creme creme creme creme creme creme creme creme creme creme creme creme creme creme creme creme creme creme creme creme creme creme creme creme creme creme creme creme creme creme creme\n",
      "\n",
      "крали марко убива филип юнак прочул ми са й , филибе ле , добър юнак , филибе ле , град е градил се от глави , се от глави , от юнашки , доградил го от момински , подпорки му - млади булки , с дребни деча задрачена . де го зачу крали марко , та отиде крали марко , да си търси филип юнак , та отиде на филибе , та попита стари хора : - де си седи филип юнак ? отговарят стари хора : - ой та тебе , крали марко , вещ повърви по-надолу , ще намериш новаграда , се от глави , от юнашки , доградена със момински , подпорки му - млади булки , задрачена с дребни деча , на портите - до два змея , до два змея обесени ! отиде си крали марко , крали марко по-надолу , та намери новаграда , заградена се от глави , се от глави , от юнашки , доградена със момински , подпорки му - млади булки , задрачена с дребни деча , на порти му - до два змея , до два змея обесени . че повика , че похлопа : - изляз , изляз , филип юнак ! не излезе филип юнак , най излезе филипица , на раце й - мъжка рожба , на страна й - къдра китка . отговаря крали марко : - ой та тебе , филипице , накаде е филип юнак ? отговаря филипица : - ой та тебе , крали марко , той отиде в дребна шума , да си лови дребна лова , дребна лова еребичка . разсърди се крали марко , че й обзе къдра китка , издигна си десна ръка , та удари филипица с малкото си пръстенче , та й изби до два зъба , до два зъба , предни зъба . отговаря крали марко : - ой та тебе , филипице , нека дойде филип юнак , нека дойде на кръчмата , да пиеме ройно вино ! отиде си крали марко , крали марко на кръчмата , доде седне крали марко , зададе се филип юнак . отговаря крали марко : - ой ви вази , се кръчмари , отде иде филип юнак ? той не иде да пиеме , да пиеме ройно вино , най си иде да са бори , да са бори , да са кара ! та си стана крали марко , скараха са , обориха са . разсърди са крали марко , извади си тежак топуз , тежак топуз девет оки , та удари филип юнак , та удари и го уби .\n",
      "\n",
      "ahh creme ahh creme ahh creme ahh creme ahh creme ahh creme ahh creme ahh creme ahh creme ahh creme ahh creme ahh creme ahh creme ahh creme ahh creme ahh creme ahh creme ahh creme ahh creme ahh creme ahh creme ahh creme ahh creme ahh creme ahh creme ahh creme ahh creme ahh creme ahh creme ahh creme ahh creme ahh creme ahh creme ahh creme ahh creme ahh creme ahh creme ahh creme ahh creme ahh creme ahh creme ahh creme ahh creme ahh creme ahh creme ahh creme ahh creme ahh creme ahh creme ahh creme ahh creme ahh creme ahh creme ahh creme ahh creme ahh creme ahh creme ahh creme ahh creme ahh creme ahh creme ahh creme ahh creme ahh creme ahh creme ahh creme ahh creme ahh creme ahh creme ahh creme ahh creme ahh creme ahh creme ahh creme ahh creme ahh creme ahh creme ahh creme ahh creme ahh creme ahh creme ahh creme ahh creme ahh creme ahh creme ahh creme ahh creme ahh creme ahh creme ahh creme ahh creme ahh creme ahh creme ahh creme ahh creme ahh creme ahh creme ahh creme ahh creme ahh creme ahh creme ahh creme ahh creme ahh creme ahh creme ahh creme ahh creme ahh creme ahh creme ahh creme ahh creme ahh creme ahh creme ahh creme ahh creme ahh creme ahh creme ahh creme ahh creme ahh creme ahh creme ahh creme ahh creme ahh creme ahh creme ahh creme ahh creme ahh creme ahh creme ahh creme ahh creme ahh creme ahh creme ahh creme ahh creme ahh creme ahh creme ahh creme ahh creme ahh creme ahh creme ahh creme ahh creme ahh creme ahh creme ahh creme ahh creme ahh creme ahh creme ahh creme ahh creme ahh creme ahh creme ahh creme ahh creme ahh creme ahh creme ahh creme\n",
      "\n",
      "creme creme creme creme creme creme creme creme creme creme creme creme creme creme creme creme creme creme creme creme creme creme creme creme creme creme creme creme creme creme creme creme creme creme creme creme creme creme creme creme creme creme creme creme creme creme creme creme creme creme creme creme creme creme creme creme creme creme creme creme creme creme creme creme creme creme creme creme creme creme creme creme creme creme creme creme creme creme creme creme creme creme creme creme creme creme creme creme creme creme creme creme creme creme creme creme creme creme creme creme creme creme creme creme creme creme creme creme creme creme creme creme creme creme creme creme creme creme creme creme creme creme creme creme creme creme creme creme creme creme creme creme creme creme creme creme creme creme creme creme creme creme creme creme creme creme creme creme creme creme creme creme creme creme creme creme creme creme creme creme creme creme creme creme creme creme creme creme creme creme creme creme creme creme creme creme creme creme creme creme creme creme creme creme creme creme creme creme creme creme creme creme creme creme creme creme creme creme creme creme creme creme creme creme creme creme creme creme creme creme creme creme creme creme creme creme creme creme creme creme creme creme creme creme creme creme creme creme creme creme creme creme creme creme creme creme creme creme creme creme creme creme creme creme creme creme creme creme creme creme creme creme creme creme creme creme creme creme creme creme creme creme creme creme creme creme creme creme creme creme creme creme creme creme creme creme creme creme creme creme creme creme creme creme creme creme creme creme creme creme creme creme creme creme creme creme creme\n",
      "\n",
      "creme creme creme creme creme creme creme creme creme creme creme creme creme creme creme creme creme creme creme creme creme creme creme creme creme creme creme creme creme creme creme creme creme creme creme creme creme creme creme creme creme creme creme creme creme creme creme creme creme creme creme creme creme creme creme creme creme creme creme creme creme creme creme creme creme creme creme creme creme creme creme creme creme creme creme creme creme creme creme creme creme creme creme creme creme creme creme creme creme creme creme creme creme creme creme creme creme creme creme creme creme creme creme creme creme creme creme creme creme creme creme creme creme creme creme creme creme creme creme creme creme creme creme creme creme creme creme creme creme creme creme creme creme creme creme creme creme creme creme creme creme creme creme creme creme creme creme creme creme creme creme creme creme creme creme creme creme creme creme creme creme creme creme creme creme creme creme creme creme creme creme creme creme creme creme creme creme creme creme creme creme creme creme creme creme creme creme creme creme creme creme creme creme creme creme creme creme creme creme creme creme creme creme creme creme creme creme creme creme creme creme creme creme creme creme creme creme creme creme creme creme creme creme creme creme creme creme creme creme creme creme creme creme creme creme creme creme creme creme creme creme creme creme creme creme creme creme creme creme creme creme creme creme creme creme creme creme creme creme creme creme creme creme creme creme creme creme creme creme creme creme creme creme creme creme creme creme creme creme creme creme creme creme creme creme creme creme creme creme creme creme creme creme creme creme\n",
      "\n",
      "марко кралевичи и вила самовила шъта марко по доспат планина , па е марко вода ожеднело . овчар пасе по доспат планина . питуе го марко добър юнак : - ей овчарко , писана цаварко , дека има вода за пиене , я да пием и коня да поим . а овчар си на марко говори : - фала тебе , марко добър юнак , тува нема вода за пиене , та да пиеш и коня да поиш . да излезнеш на доспат планина и разгледай на доспат планина , разгледай си нагоре-надоле , разгледай си налево-надесно , че да видиш две ели зелени , тамо има големи езере ; тамо има вила самовила , све е вода от планина сбрала , направила големи езере . тамо , марко , вода че да пиеш . никой смее тамо да отиде , па не дава пиле да пролети , а то не ли човек да си пие ! марко си е на доспат излезнал , излезнал е на доспат планина , разгледал е нагоре-надоле , видел си е две ели зелени , при две ели големи езере . марко ойде на големи езер , кога приде на големи езер , заспала е вила самовила . приде марко , та се вода напи , марко пило и шарко поило , и езере две педи секнали , па си марко низ планина слезна и си пойде по равни друмове . събуди се вила самовила , па си гледа големи езере , езере по две педи секнали ; па се дзвери вила самовила , кой ю препи големи езере . излетнала изпод ясно небо и си гледа редом по земята , ега негде некого съгледа . нема нигде никого да види , съгледала марко на друмове ; пущила се изпод ясно небо , та стигнала марко на друмове , па фърлила до три леки стрели да удари марко добър юнак . марко стрели със дланове запре , па си търгна сабля димиския да погуби вила самовила . вила му се верно примолила : - немой мене , марко , да погубиш ! я не можех , марко кралевиче , я не можех да си те познаем , затова си стрелки язе фърлих !\n",
      "\n",
      "drumpf drumpf drumpf drumpf drumpf drumpf drumpf drumpf drumpf drumpf drumpf drumpf drumpf drumpf drumpf drumpf drumpf drumpf drumpf drumpf drumpf drumpf drumpf drumpf drumpf drumpf drumpf drumpf drumpf drumpf drumpf drumpf drumpf drumpf drumpf drumpf drumpf drumpf drumpf drumpf drumpf drumpf drumpf drumpf drumpf drumpf drumpf drumpf drumpf drumpf drumpf drumpf drumpf drumpf drumpf drumpf drumpf drumpf drumpf drumpf drumpf drumpf drumpf drumpf drumpf drumpf drumpf drumpf drumpf drumpf drumpf drumpf drumpf drumpf drumpf drumpf drumpf drumpf drumpf drumpf drumpf drumpf drumpf drumpf drumpf drumpf drumpf drumpf drumpf drumpf drumpf drumpf drumpf drumpf drumpf drumpf drumpf drumpf drumpf drumpf drumpf drumpf drumpf drumpf drumpf drumpf drumpf drumpf drumpf drumpf drumpf drumpf drumpf drumpf drumpf drumpf drumpf drumpf drumpf drumpf drumpf drumpf drumpf drumpf drumpf drumpf drumpf drumpf drumpf drumpf drumpf drumpf drumpf drumpf drumpf drumpf drumpf drumpf drumpf drumpf drumpf drumpf drumpf drumpf drumpf drumpf drumpf drumpf drumpf drumpf drumpf drumpf drumpf drumpf drumpf drumpf drumpf drumpf drumpf drumpf drumpf drumpf drumpf drumpf drumpf drumpf drumpf drumpf drumpf drumpf drumpf drumpf drumpf drumpf drumpf drumpf drumpf drumpf drumpf drumpf drumpf drumpf drumpf drumpf drumpf drumpf drumpf drumpf drumpf drumpf drumpf drumpf drumpf drumpf drumpf drumpf drumpf drumpf drumpf drumpf drumpf drumpf drumpf drumpf drumpf drumpf drumpf drumpf drumpf drumpf drumpf drumpf drumpf drumpf drumpf drumpf drumpf drumpf drumpf drumpf drumpf drumpf drumpf drumpf drumpf drumpf drumpf drumpf drumpf drumpf drumpf drumpf drumpf drumpf drumpf drumpf drumpf drumpf drumpf drumpf drumpf drumpf drumpf drumpf drumpf drumpf drumpf drumpf drumpf drumpf drumpf drumpf drumpf drumpf drumpf drumpf drumpf drumpf drumpf drumpf drumpf drumpf drumpf drumpf drumpf drumpf drumpf drump drumpf drumpf drumpf drumpf drumpf drumpf drumpf drumpf drumpf drumpf drumpf drumpf drumpf drumpf drumpf\n",
      "\n",
      "------------------ SAMPLE OF TOPIC 15 DOCUMENTS ----------------------\n",
      "shia has been eating nothingburgers his whole life , when trump got elected he was forced to eat a somethingburger and that drove him insane .\n",
      "\n",
      "it 's a loss in translation . bernier is a francophone who originally named his party populist party of canada ( in french ) . he 's an economic liberitarian , despite what you read in the party 's name .\n",
      "\n",
      "mfw donald has been posting memes on twitter to distract the msm from all the bills he 's passing .\n",
      "\n",
      "lol , this is all postulating by mueller et al . trump can just pardon himself . stupid libtards . maga goes on . the swamp is going to be drained no matter how much stalling you do .\n",
      "\n",
      "slip of the tongue ? i 'm not sure ... sarah palin on glenn beck 's radio show : 'we got ta stand with our north korean allies '\n",
      "\n",
      "rt : ‘ this election will decide whether we are ruled by the people , or by the politicians . ’ #trump2016 🇺 🇸 #imwithyou https://t…\n",
      "\n",
      "i was here for the election .\n",
      "\n",
      "obama is from kenya .\n",
      "\n",
      "wants to repeal the article of pacifism demanded by the us after the war wants to become less dependent on the us okay .\n",
      "\n",
      "shitlibs offended by trump big surprise\n",
      "\n",
      "to be fair he was the lease zionist repub by far . got a lot off shot for saying america should remain neutral on israel-palestine . all he said is that is that `` israel should be defended '' , which is exactly what bernie said . only anti-zionist candidate running was jill stein .\n",
      "\n",
      "he wants more ?\n",
      "\n",
      "nova petropolis - rio grande do sul , brazil : flickr generoso mrack panoramio salomo koerich flickr flickr flickr grsboats flickr teka silveira flickr robertocr panoramio carlos c. nasato flickr jefferson krumenauer flickr ridalv carolina varga flickr paulo pivetta flickr allways_ty flickr marcos espanha\n",
      "\n",
      "q predicted this\n",
      "\n",
      "an hero alwayz and 4evar\n",
      "\n",
      "hoping\n",
      "\n",
      "he just does n't like the nra . the nra is a boogeyman . it has less money and power than the average democrat jewish senator . nra gets blamed for average republicans , and even moderate democrats , having standard american views ( i.e. , pro gun ) . if leftists really cared about lobbying groups being too powerful , they 'd go after ( ( ( aipac ) ) ) . israel literally has tons more power over us elections than `` muh russia '' .\n",
      "\n",
      "the bushes definitely will not be won over , this is true .\n",
      "\n",
      "divisive obama\n",
      "\n",
      "she 's literally a young hillary clinton . do us all a favor and get rid of her before she enters politics .\n",
      "\n",
      "************* TOPIC 16 *************************\n",
      "team use internet mini site using google information email website\n",
      "\n",
      "------------------ TOP TOPIC 16 DOCUMENTS ----------------------\n",
      "team mini team mini team mini team mini team mini team mini team mini team mini team mini team mini team team mini team mini team mini team mini team mini team mini team mini team mini team mini team mini team mini team mini team mini team mini team mini team mini team mini team mini team mini team mini team mini team mini team mini team mini team mini team mini team mini team mini team mini team mini team mini team mini team mini team mini team mini team mini team mini team mini team mini team mini team mini team mini team mini team mini team mini team mini team mini team mini team mini team mini team mini team mini team mini team mini team mini team mini team mini team mini team mini team mini team mini team mini team mini team mini team mini team mini team mini m mini team mini team mini mini team mini mini team mini team mini team mini team mini team mini team mini team mini team mini team mini team mini team mini team mini team mini team mini team mini team mini team mini team mini team mini team mini team mini team mini team mini team mini team mini team mini team mini team mini team mini team mini team mini team mini team mini team mini team mini team mini team mini team mini team mini team mini team mini team mini team mini team mini team mini team mini team mini team mini team mini team mini team mini team mini team mini team mini team mini team mini team mini team mini team mini team mini team mini team mini team mini team mini team team mini team mini team mini team mini team mini team mini team mini team mini team mini team mini team mini team mini team mini team mini team mini team mini team mini team mini team mini team mini team mini team mini team mini team mini team mini team mini team mini team mini team mini team mini team mini team mini team mini team mini team mini team mini team mini team mini team mini team mini team mini team mini team mini team mini team mini team mini team mini team mini team mini team mini team mini team mini ew\n",
      "\n",
      "team mini team mini team mini team mini team mini team mini team mini team mini team mini team mini team team mini team mini team mini team mini team mini team mini team mini team mini team mini team mini team mini team mini team mini team mini team mini team mini team mini team mini team mini team mini team mini team mini team mini team mini team mini team mini team mini team mini team mini team mini team mini team mini team mini team mini team mini team mini team mini team mini team mini team mini team mini team mini team mini team mini team mini team mini team mini team mini team mini team mini team mini team mini team mini team mini team mini team mini team mini team mini team mini team mini team mini team mini team mini team mini team mini team mini team mini m mini team mini team mini mini team mini mini team mini team mini team mini team mini team mini team mini team mini team mini team mini team mini team mini team mini team mini team mini team mini team mini team mini team mini team mini team mini team mini team mini team mini team mini team mini team mini team mini team mini team mini team mini team mini team mini team mini team mini team mini team mini team mini team mini team mini team mini team mini team mini team mini team mini team mini team mini team mini team mini team mini team mini team mini team mini team mini team mini team mini team mini team mini team mini team mini team mini team mini team mini team mini team mini team team mini team mini team mini team mini team mini team mini team mini team mini team mini team mini team mini team mini team mini team mini team mini team mini team mini team mini team mini team mini team mini team mini team mini team mini team mini team mini team mini team mini team mini team mini team mini team mini team mini team mini team mini team mini team mini team mini team mini team mini team mini team mini team mini team mini team mini team mini team mini team mini team mini team mini team mini team mini\n",
      "\n",
      "team mini team mini team mini team mini team mini team mini team mini team mini team mini team mini team team mini team mini team mini team mini team mini team mini team mini team mini team mini team mini team mini team mini team mini team mini team mini team mini team mini team mini team mini team mini team mini team mini team mini team mini team mini team mini team mini team mini team mini team mini team mini team mini team mini team mini team mini team mini team mini team mini team mini team mini team mini team mini team mini team mini team mini team mini team mini team mini team mini team mini team mini team mini team mini team mini team mini team mini team mini team mini team mini team mini team mini team mini team mini team mini team mini team mini team mini m mini team mini team mini mini team mini mini team mini team mini team mini team mini team mini team mini team mini team mini team mini team mini team mini team mini team mini team mini team mini team mini team mini team mini team mini team mini team mini team mini team mini team mini team mini team mini team mini team mini team mini team mini team mini team mini team mini team mini team mini team mini team mini team mini team mini team mini team mini team mini team mini team mini team mini team mini team mini team mini team mini team mini team mini team mini team mini team mini team mini team mini team mini team mini team mini team mini team mini team mini team mini team mini team team mini team mini team mini team mini team mini team mini team mini team mini team mini team mini team mini team mini team mini team mini team mini team mini team mini team mini team mini team mini team mini team mini team mini team mini team mini team mini team mini team mini team mini team mini team mini team mini team mini team mini team mini team mini team mini team mini team mini team mini team mini team mini team mini team mini team mini team mini team mini team mini team mini team mini team mini team mini m\n",
      "\n",
      "team mini team mini team mini team mini team mini team mini team mini team mini team mini team mini team team mini team mini team mini team mini team mini team mini team mini team mini team mini team mini team mini team mini team mini team mini team mini team mini team mini team mini team mini team mini team mini team mini team mini team mini team mini team mini team mini team mini team mini team mini team mini team mini team mini team mini team mini team mini team mini team mini team mini team mini team mini team mini team mini team mini team mini team mini team mini team mini team mini team mini team mini team mini team mini team mini team mini team mini team mini team mini team mini team mini team mini team mini team mini team mini team mini team mini team mini m mini team mini team mini mini team mini mini team mini team mini team mini team mini team mini team mini team mini team mini team mini team mini team mini team mini team mini team mini team mini team mini team mini team mini team mini team mini team mini team mini team mini team mini team mini team mini team mini team mini team mini team mini team mini team mini team mini team mini team mini team mini team mini team mini team mini team mini team mini team mini team mini team mini team mini team mini team mini team mini team mini team mini team mini team mini team mini team mini team mini team mini team mini team mini team mini team mini team mini team mini team mini team mini team team mini team mini team mini team mini team mini team mini team mini team mini team mini team mini team mini team mini team mini team mini team mini team mini team mini team mini team mini team mini team mini team mini team mini team mini team mini team mini team mini team mini team mini team mini team mini team mini team mini team mini team mini team mini team mini team mini team mini team mini team mini team mini team mini team mini team mini team mini team mini team mini team mini team mini team mini team mini h\n",
      "\n",
      "team mini team mini team mini team mini team mini team mini team mini team mini team mini team mini team team mini team mini team mini team mini team mini team mini team mini team mini team mini team mini team mini team mini team mini team mini team mini team mini team mini team mini team mini team mini team mini team mini team mini team mini team mini team mini team mini team mini team mini team mini team mini team mini team mini team mini team mini team mini team mini team mini team mini team mini team mini team mini team mini team mini team mini team mini team mini team mini team mini team mini team mini team mini team mini team mini team mini team mini team mini team mini team mini team mini team mini team mini team mini team mini team mini team mini team mini m mini team mini team mini mini team mini mini team mini team mini team mini team mini team mini team mini team mini team mini team mini team mini team mini team mini team mini team mini team mini team mini team mini team mini team mini team mini team mini team mini team mini team mini team mini team mini team mini team mini team mini team mini team mini team mini team mini team mini team mini team mini team mini team mini team mini team mini team mini team mini team mini team mini team mini team mini team mini team mini team mini team mini team mini team mini team mini team mini team mini team mini team mini team mini team mini team mini team mini team mini team mini team mini team team mini team mini team mini team mini team mini team mini team mini team mini team mini team mini team mini team mini team mini team mini team mini team mini team mini team mini team mini team mini team mini team mini team mini team mini team mini team mini team mini team mini team mini team mini team mini team mini team mini team mini team mini team mini team mini team mini team mini team mini team mini team mini team mini team mini team mini team mini team mini team mini team mini team mini team mini team mini i\n",
      "\n",
      "team mini team mini team mini team mini team mini team mini team mini team mini team mini team mini team team mini team mini team mini team mini team mini team mini team mini team mini team mini team mini team mini team mini team mini team mini team mini team mini team mini team mini team mini team mini team mini team mini team mini team mini team mini team mini team mini team mini team mini team mini team mini team mini team mini team mini team mini team mini team mini team mini team mini team mini team mini team mini team mini team mini team mini team mini team mini team mini team mini team mini team mini team mini team mini team mini team mini team mini team mini team mini team mini team mini team mini team mini team mini team mini team mini team mini team mini m mini team mini team mini mini team mini mini team mini team mini team mini team mini team mini team mini team mini team mini team mini team mini team mini team mini team mini team mini team mini team mini team mini team mini team mini team mini team mini team mini team mini team mini team mini team mini team mini team mini team mini team mini team mini team mini team mini team mini team mini team mini team mini team mini team mini team mini team mini team mini team mini team mini team mini team mini team mini team mini team mini team mini team mini team mini team mini team mini team mini team mini team mini team mini team mini team mini team mini team mini team mini team mini team team mini team mini team mini team mini team mini team mini team mini team mini team mini team mini team mini team mini team mini team mini team mini team mini team mini team mini team mini team mini team mini team mini team mini team mini team mini team mini team mini team mini team mini team mini team mini team mini team mini team mini team mini team mini team mini team mini team mini team mini team mini team mini team mini team mini team mini team mini team mini team mini team mini team mini team mini team mini v\n",
      "\n",
      "team mini team mini team mini team mini team mini team mini team mini team mini team mini team mini team team mini team mini team mini team mini team mini team mini team mini team mini team mini team mini team mini team mini team mini team mini team mini team mini team mini team mini team mini team mini team mini team mini team mini team mini team mini team mini team mini team mini team mini team mini team mini team mini team mini team mini team mini team mini team mini team mini team mini team mini team mini team mini team mini team mini team mini team mini team mini team mini team mini team mini team mini team mini team mini team mini team mini team mini team mini team mini team mini team mini team mini team mini team mini team mini team mini team mini team mini m mini team mini team mini mini team mini mini team mini team mini team mini team mini team mini team mini team mini team mini team mini team mini team mini team mini team mini team mini team mini team mini team mini team mini team mini team mini team mini team mini team mini team mini team mini team mini team mini team mini team mini team mini team mini team mini team mini team mini team mini team mini team mini team mini team mini team mini team mini team mini team mini team mini team mini team mini team mini team mini team mini team mini team mini team mini team mini team mini team mini team mini team mini team mini team mini team mini team mini team mini team mini team mini team team mini team mini team mini team mini team mini team mini team mini team mini team mini team mini team mini team mini team mini team mini team mini team mini team mini team mini team mini team mini team mini team mini team mini team mini team mini team mini team mini team mini team mini team mini team mini team mini team mini team mini team mini team mini team mini team mini team mini team mini team mini team mini team mini team mini team mini team mini team mini team mini team mini team mini team mini team mini a\n",
      "\n",
      "team mini team mini team mini team mini team mini team mini team mini team mini team mini team mini team team mini team mini team mini team mini team mini team mini team mini team mini team mini team mini team mini team mini team mini team mini team mini team mini team mini team mini team mini team mini team mini team mini team mini team mini team mini team mini team mini team mini team mini team mini team mini team mini team mini team mini team mini team mini team mini team mini team mini team mini team mini team mini team mini team mini team mini team mini team mini team mini team mini team mini team mini team mini team mini team mini team mini team mini team mini team mini team mini team mini team mini team mini team mini team mini team mini team mini team mini m mini team mini team mini mini team mini mini team mini team mini team mini team mini team mini team mini team mini team mini team mini team mini team mini team mini team mini team mini team mini team mini team mini team mini team mini team mini team mini team mini team mini team mini team mini team mini team mini team mini team mini team mini team mini team mini team mini team mini team mini team mini team mini team mini team mini team mini team mini team mini team mini team mini team mini team mini team mini team mini team mini team mini team mini team mini team mini team mini team mini team mini team mini team mini team mini team mini team mini team mini team mini team mini team team mini team mini team mini team mini team mini team mini team mini team mini team mini team mini team mini team mini team mini team mini team mini team mini team mini team mini team mini team mini team mini team mini team mini team mini team mini team mini team mini team mini team mini team mini team mini team mini team mini team mini team mini team mini team mini team mini team mini team mini team mini team mini team mini team mini team mini team mini team mini team mini team mini team mini team mini team mini\n",
      "\n",
      "team mini team mini team mini team mini team mini team mini team mini team mini team mini team mini team team mini team mini team mini team mini team mini team mini team mini team mini team mini team mini team mini team mini team mini team mini team mini team mini team mini team mini team mini team mini team mini team mini team mini team mini team mini team mini team mini team mini team mini team mini team mini team mini team mini team mini team mini team mini team mini team mini team mini team mini team mini team mini team mini team mini team mini team mini team mini team mini team mini team mini team mini team mini team mini team mini team mini team mini team mini team mini team mini team mini team mini team mini team mini team mini team mini team mini team mini m mini team mini team mini mini team mini mini team mini team mini team mini team mini team mini team mini team mini team mini team mini team mini team mini team mini team mini team mini team mini team mini team mini team mini team mini team mini team mini team mini team mini team mini team mini team mini team mini team mini team mini team mini team mini team mini team mini team mini team mini team mini team mini team mini team mini team mini team mini team mini team mini team mini team mini team mini team mini team mini team mini team mini team mini team mini team mini team mini team mini team mini team mini team mini team mini team mini team mini team mini team mini team mini team team mini team mini team mini team mini team mini team mini team mini team mini team mini team mini team mini team mini team mini team mini team mini team mini team mini team mini team mini team mini team mini team mini team mini team mini team mini team mini team mini team mini team mini team mini team mini team mini team mini team mini team mini team mini team mini team mini team mini team mini team mini team mini team mini team mini team mini team mini team mini team mini team mini team mini team mini team mini\n",
      "\n",
      "team mini team mini team mini team mini team mini team mini team mini team mini team mini team mini team team mini team mini team mini team mini team mini team mini team mini team mini team mini team mini team mini team mini team mini team mini team mini team mini team mini team mini team mini team mini team mini team mini team mini team mini team mini team mini team mini team mini team mini team mini team mini team mini team mini team mini team mini team mini team mini team mini team mini team mini team mini team mini team mini team mini team mini team mini team mini team mini team mini team mini team mini team mini team mini team mini team mini team mini team mini team mini team mini team mini team mini team mini team mini team mini team mini team mini team mini m mini team mini team mini mini team mini mini team mini team mini team mini team mini team mini team mini team mini team mini team mini team mini team mini team mini team mini team mini team mini team mini team mini team mini team mini team mini team mini team mini team mini team mini team mini team mini team mini team mini team mini team mini team mini team mini team mini team mini team mini team mini team mini team mini team mini team mini team mini team mini team mini team mini team mini team mini team mini team mini team mini team mini team mini team mini team mini team mini team mini team mini team mini team mini team mini team mini team mini team mini team mini team mini team team mini team mini team mini team mini team mini team mini team mini team mini team mini team mini team mini team mini team mini team mini team mini team mini team mini team mini team mini team mini team mini team mini team mini team mini team mini team mini team mini team mini team mini team mini team mini team mini team mini team mini team mini team mini team mini team mini team mini team mini team mini team mini team mini team mini team mini team mini team mini team mini team mini team mini team mini team mini j\n",
      "\n",
      "team mini team mini team mini team mini team mini team mini team mini team mini team mini team mini team team mini team mini team mini team mini team mini team mini team mini team mini team mini team mini team mini team mini team mini team mini team mini team mini team mini team mini team mini team mini team mini team mini team mini team mini team mini team mini team mini team mini team mini team mini team mini team mini team mini team mini team mini team mini team mini team mini team mini team mini team mini team mini team mini team mini team mini team mini team mini team mini team mini team mini team mini team mini team mini team mini team mini team mini team mini team mini team mini team mini team mini team mini team mini team mini team mini team mini team mini m mini team mini team mini mini team mini mini team mini team mini team mini team mini team mini team mini team mini team mini team mini team mini team mini team mini team mini team mini team mini team mini team mini team mini team mini team mini team mini team mini team mini team mini team mini team mini team mini team mini team mini team mini team mini team mini team mini team mini team mini team mini team mini team mini team mini team mini team mini team mini team mini team mini team mini team mini team mini team mini team mini team mini team mini team mini team mini team mini team mini team mini team mini team mini team mini team mini team mini team mini team mini team mini team team mini team mini team mini team mini team mini team mini team mini team mini team mini team mini team mini team mini team mini team mini team mini team mini team mini team mini team mini team mini team mini team mini team mini team mini team mini team mini team mini team mini team mini team mini team mini team mini team mini team mini team mini team mini team mini team mini team mini team mini team mini team mini team mini team mini team mini team mini team mini team mini team mini team mini team mini team mini\n",
      "\n",
      "team mini team mini team mini team mini team mini team mini team mini team mini team mini team mini team team mini team mini team mini team mini team mini team mini team mini team mini team mini team mini team mini team mini team mini team mini team mini team mini team mini team mini team mini team mini team mini team mini team mini team mini team mini team mini team mini team mini team mini team mini team mini team mini team mini team mini team mini team mini team mini team mini team mini team mini team mini team mini team mini team mini team mini team mini team mini team mini team mini team mini team mini team mini team mini team mini team mini team mini team mini team mini team mini team mini team mini team mini team mini team mini team mini team mini team mini m mini team mini team mini mini team mini mini team mini team mini team mini team mini team mini team mini team mini team mini team mini team mini team mini team mini team mini team mini team mini team mini team mini team mini team mini team mini team mini team mini team mini team mini team mini team mini team mini team mini team mini team mini team mini team mini team mini team mini team mini team mini team mini team mini team mini team mini team mini team mini team mini team mini team mini team mini team mini team mini team mini team mini team mini team mini team mini team mini team mini team mini team mini team mini team mini team mini team mini team mini team mini team mini team team mini team mini team mini team mini team mini team mini team mini team mini team mini team mini team mini team mini team mini team mini team mini team mini team mini team mini team mini team mini team mini team mini team mini team mini team mini team mini team mini team mini team mini team mini team mini team mini team mini team mini team mini team mini team mini team mini team mini team mini team mini team mini team mini team mini team mini team mini team mini team mini team mini team mini team mini team mini f\n",
      "\n",
      "team mini team mini team mini team mini team mini team mini team mini team mini team mini team mini team team mini team mini team mini team mini team mini team mini team mini team mini team mini team mini team mini team mini team mini team mini team mini team mini team mini team mini team mini team mini team mini team mini team mini team mini team mini team mini team mini team mini team mini team mini team mini team mini team mini team mini team mini team mini team mini team mini team mini team mini team mini team mini team mini team mini team mini team mini team mini team mini team mini team mini team mini team mini team mini team mini team mini team mini team mini team mini team mini team mini team mini team mini team mini team mini team mini team mini team mini m mini team mini team mini mini team mini mini team mini team mini team mini team mini team mini team mini team mini team mini team mini team mini team mini team mini team mini team mini team mini team mini team mini team mini team mini team mini team mini team mini team mini team mini team mini team mini team mini team mini team mini team mini team mini team mini team mini team mini team mini team mini team mini team mini team mini team mini team mini team mini team mini team mini team mini team mini team mini team mini team mini team mini team mini team mini team mini team mini team mini team mini team mini team mini team mini team mini team mini team mini team mini team mini team team mini team mini team mini team mini team mini team mini team mini team mini team mini team mini team mini team mini team mini team mini team mini team mini team mini team mini team mini team mini team mini team mini team mini team mini team mini team mini team mini team mini team mini team mini team mini team mini team mini team mini team mini team mini team mini team mini team mini team mini team mini team mini team mini team mini team mini team mini team mini team mini team mini team mini team mini team mini b\n",
      "\n",
      "team mini team mini team mini team mini team mini team mini team mini team mini team mini team mini team team mini team mini team mini team mini team mini team mini team mini team mini team mini team mini team mini team mini team mini team mini team mini team mini team mini team mini team mini team mini team mini team mini team mini team mini team mini team mini team mini team mini team mini team mini team mini team mini team mini team mini team mini team mini team mini team mini team mini team mini team mini team mini team mini team mini team mini team mini team mini team mini team mini team mini team mini team mini team mini team mini team mini team mini team mini team mini team mini team mini team mini team mini team mini team mini team mini team mini team mini m mini team mini team mini mini team mini mini team mini team mini team mini team mini team mini team mini team mini team mini team mini team mini team mini team mini team mini team mini team mini team mini team mini team mini team mini team mini team mini team mini team mini team mini team mini team mini team mini team mini team mini team mini team mini team mini team mini team mini team mini team mini team mini team mini team mini team mini team mini team mini team mini team mini team mini team mini team mini team mini team mini team mini team mini team mini team mini team mini team mini team mini team mini team mini team mini team mini team mini team mini team mini team mini team team mini team mini team mini team mini team mini team mini team mini team mini team mini team mini team mini team mini team mini team mini team mini team mini team mini team mini team mini team mini team mini team mini team mini team mini team mini team mini team mini team mini team mini team mini team mini team mini team mini team mini team mini team mini team mini team mini team mini team mini team mini team mini team mini team mini team mini team mini team mini team mini team mini team mini team mini team mini\n",
      "\n",
      "team mini team mini team mini team mini team mini team mini team mini team mini team mini team mini team team mini team mini team mini team mini team mini team mini team mini team mini team mini team mini team mini team mini team mini team mini team mini team mini team mini team mini team mini team mini team mini team mini team mini team mini team mini team mini team mini team mini team mini team mini team mini team mini team mini team mini team mini team mini team mini team mini team mini team mini team mini team mini team mini team mini team mini team mini team mini team mini team mini team mini team mini team mini team mini team mini team mini team mini team mini team mini team mini team mini team mini team mini team mini team mini team mini team mini team mini m mini team mini team mini mini team mini mini team mini team mini team mini team mini team mini team mini team mini team mini team mini team mini team mini team mini team mini team mini team mini team mini team mini team mini team mini team mini team mini team mini team mini team mini team mini team mini team mini team mini team mini team mini team mini team mini team mini team mini team mini team mini team mini team mini team mini team mini team mini team mini team mini team mini team mini team mini team mini team mini team mini team mini team mini team mini team mini team mini team mini team mini team mini team mini team mini team mini team mini team mini team mini team mini team team mini team mini team mini team mini team mini team mini team mini team mini team mini team mini team mini team mini team mini team mini team mini team mini team mini team mini team mini team mini team mini team mini team mini team mini team mini team mini team mini team mini team mini team mini team mini team mini team mini team mini team mini team mini team mini team mini team mini team mini team mini team mini team mini team mini team mini team mini team mini team mini team mini team mini team mini team mini\n",
      "\n",
      "team mini team mini team mini team mini team mini team mini team mini team mini team mini team mini team team mini team mini team mini team mini team mini team mini team mini team mini team mini team mini team mini team mini team mini team mini team mini team mini team mini team mini team mini team mini team mini team mini team mini team mini team mini team mini team mini team mini team mini team mini team mini team mini team mini team mini team mini team mini team mini team mini team mini team mini team mini team mini team mini team mini team mini team mini team mini team mini team mini team mini team mini team mini team mini team mini team mini team mini team mini team mini team mini team mini team mini team mini team mini team mini team mini team mini team mini m mini team mini team mini mini team mini mini team mini team mini team mini team mini team mini team mini team mini team mini team mini team mini team mini team mini team mini team mini team mini team mini team mini team mini team mini team mini team mini team mini team mini team mini team mini team mini team mini team mini team mini team mini team mini team mini team mini team mini team mini team mini team mini team mini team mini team mini team mini team mini team mini team mini team mini team mini team mini team mini team mini team mini team mini team mini team mini team mini team mini team mini team mini team mini team mini team mini team mini team mini team mini team mini team team mini team mini team mini team mini team mini team mini team mini team mini team mini team mini team mini team mini team mini team mini team mini team mini team mini team mini team mini team mini team mini team mini team mini team mini team mini team mini team mini team mini team mini team mini team mini team mini team mini team mini team mini team mini team mini team mini team mini team mini team mini team mini team mini team mini team mini team mini team mini team mini team mini team mini team mini team mini e\n",
      "\n",
      "team mini team mini team mini team mini team mini team mini team mini team mini team mini team mini team team mini team mini team mini team mini team mini team mini team mini team mini team mini team mini team mini team mini team mini team mini team mini team mini team mini team mini team mini team mini team mini team mini team mini team mini team mini team mini team mini team mini team mini team mini team mini team mini team mini team mini team mini team mini team mini team mini team mini team mini team mini team mini team mini team mini team mini team mini team mini team mini team mini team mini team mini team mini team mini team mini team mini team mini team mini team mini team mini team mini team mini team mini team mini team mini team mini team mini team mini m mini team mini team mini mini team mini mini team mini team mini team mini team mini team mini team mini team mini team mini team mini team mini team mini team mini team mini team mini team mini team mini team mini team mini team mini team mini team mini team mini team mini team mini team mini team mini team mini team mini team mini team mini team mini team mini team mini team mini team mini team mini team mini team mini team mini team mini team mini team mini team mini team mini team mini team mini team mini team mini team mini team mini team mini team mini team mini team mini team mini team mini team mini team mini team mini team mini team mini team mini team mini team mini team team mini team mini team mini team mini team mini team mini team mini team mini team mini team mini team mini team mini team mini team mini team mini team mini team mini team mini team mini team mini team mini team mini team mini team mini team mini team mini team mini team mini team mini team mini team mini team mini team mini team mini team mini team mini team mini team mini team mini team mini team mini team mini team mini team mini team mini team mini team mini team mini team mini team mini team mini team mini u\n",
      "\n",
      "team mini team mini team mini team mini team mini team mini team mini team mini team mini team mini team team mini team mini team mini team mini team mini team mini team mini team mini team mini team mini team mini team mini team mini team mini team mini team mini team mini team mini team mini team mini team mini team mini team mini team mini team mini team mini team mini team mini team mini team mini team mini team mini team mini team mini team mini team mini team mini team mini team mini team mini team mini team mini team mini team mini team mini team mini team mini team mini team mini team mini team mini team mini team mini team mini team mini team mini team mini team mini team mini team mini team mini team mini team mini team mini team mini team mini team mini m mini team mini team mini mini team mini mini team mini team mini team mini team mini team mini team mini team mini team mini team mini team mini team mini team mini team mini team mini team mini team mini team mini team mini team mini team mini team mini team mini team mini team mini team mini team mini team mini team mini team mini team mini team mini team mini team mini team mini team mini team mini team mini team mini team mini team mini team mini team mini team mini team mini team mini team mini team mini team mini team mini team mini team mini team mini team mini team mini team mini team mini team mini team mini team mini team mini team mini team mini team mini team mini team team mini team mini team mini team mini team mini team mini team mini team mini team mini team mini team mini team mini team mini team mini team mini team mini team mini team mini team mini team mini team mini team mini team mini team mini team mini team mini team mini team mini team mini team mini team mini team mini team mini team mini team mini team mini team mini team mini team mini team mini team mini team mini team mini team mini team mini team mini team mini team mini team mini team mini team mini team mini g\n",
      "\n",
      "team mini team mini team mini team mini team mini team mini team mini team mini team mini team mini team team mini team mini team mini team mini team mini team mini team mini team mini team mini team mini team mini team mini team mini team mini team mini team mini team mini team mini team mini team mini team mini team mini team mini team mini team mini team mini team mini team mini team mini team mini team mini team mini team mini team mini team mini team mini team mini team mini team mini team mini team mini team mini team mini team mini team mini team mini team mini team mini team mini team mini team mini team mini team mini team mini team mini team mini team mini team mini team mini team mini team mini team mini team mini team mini team mini team mini team mini m mini team mini team mini mini team mini mini team mini team mini team mini team mini team mini team mini team mini team mini team mini team mini team mini team mini team mini team mini team mini team mini team mini team mini team mini team mini team mini team mini team mini team mini team mini team mini team mini team mini team mini team mini team mini team mini team mini team mini team mini team mini team mini team mini team mini team mini team mini team mini team mini team mini team mini team mini team mini team mini team mini team mini team mini team mini team mini team mini team mini team mini team mini team mini team mini team mini team mini team mini team mini team mini team team mini team mini team mini team mini team mini team mini team mini team mini team mini team mini team mini team mini team mini team mini team mini team mini team mini team mini team mini team mini team mini team mini team mini team mini team mini team mini team mini team mini team mini team mini team mini team mini team mini team mini team mini team mini team mini team mini team mini team mini team mini team mini team mini team mini team mini team mini team mini team mini team mini team mini team mini team mini m\n",
      "\n",
      "team mini team mini team mini team mini team mini team mini team mini team mini team mini team mini team team mini team mini team mini team mini team mini team mini team mini team mini team mini team mini team mini team mini team mini team mini team mini team mini team mini team mini team mini team mini team mini team mini team mini team mini team mini team mini team mini team mini team mini team mini team mini team mini team mini team mini team mini team mini team mini team mini team mini team mini team mini team mini team mini team mini team mini team mini team mini team mini team mini team mini team mini team mini team mini team mini team mini team mini team mini team mini team mini team mini team mini team mini team mini team mini team mini team mini team mini m mini team mini team mini mini team mini mini team mini team mini team mini team mini team mini team mini team mini team mini team mini team mini team mini team mini team mini team mini team mini team mini team mini team mini team mini team mini team mini team mini team mini team mini team mini team mini team mini team mini team mini team mini team mini team mini team mini team mini team mini team mini team mini team mini team mini team mini team mini team mini team mini team mini team mini team mini team mini team mini team mini team mini team mini team mini team mini team mini team mini team mini team mini team mini team mini team mini team mini team mini team mini team mini team team mini team mini team mini team mini team mini team mini team mini team mini team mini team mini team mini team mini team mini team mini team mini team mini team mini team mini team mini team mini team mini team mini team mini team mini team mini team mini team mini team mini team mini team mini team mini team mini team mini team mini team mini team mini team mini team mini team mini team mini team mini team mini team mini team mini team mini team mini team mini team mini team mini team mini team mini team mini l\n",
      "\n",
      "------------------ SAMPLE OF TOPIC 16 DOCUMENTS ----------------------\n",
      "page 1\n",
      "\n",
      "quote : originally posted by highland rogue from what i hear , adblock does n't work with 1.5 . you need adblock plus . i hav n't got adblock plus but the normal adblock seems to be working fine for me . quote : originally posted by tan00ki screw that , get the official adblock-dev from that one did n't work for firefox 1.5 . when installing it a window popped up saying it was incompatible with 1.5 .\n",
      "\n",
      "wow what agreat idea . i 'm sure nothing will go wrong once machines can read your thoughts automatically . nope , nothing whatsoever . he 's late to the game anyway , facebook has been working on this ever since a bitch from darpa took all the data other people had created and went to the private sector .\n",
      "\n",
      "thanks , now i know why i ca n't watch any movies . yea my dad had some problems last night , his tv would n't access netflix . according to the text he sent it tells him he is n't on line . i let him use my account , i 'm 200 miles away and could access netflix from my laptop . i just sent him an email with the link , thanks for the heads up scott\n",
      "\n",
      "click on its title in my preceding comment to see the one that attacks ours , and to see ours , click on its title in this comment back up the thread . somehow the link to ours in the first comment on this thread was permanently corrupted , even though it 's exactly the same link . we the people is a gov't site , not maintained with the same care that don black gives stormfront . signed . thanks man\n",
      "\n",
      "nn protects this site from jews shutting it down fool .\n",
      "\n",
      "nothing on google remotely related to op 's post .\n",
      "\n",
      "some people are saying that points come from writing team name mini mini mini mini mini mini mini mini mini\n",
      "\n",
      "( ( ( article ) ) ) full of shit . rickrolling for same\n",
      "\n",
      "facebook , obviously .\n",
      "\n",
      "i read them and appreciated them .\n",
      "\n",
      "how can they steal your money with just your bank account number ? nobody can take money from an account with just an account number , i think the bank will require more than that .... aba number ? swift number ? ( both numbers are in the check ) , besides that , your bank will need your signature and a written authorization . just do not give a check or a copy of your check to anyone , there is a lot of information in there ... ! ! !\n",
      "\n",
      "who else would mail fake bombs to themselves ?\n",
      "\n",
      "amazon\n",
      "\n",
      "i 'd stay away from the freeware stuff . i use pc cillin . for $ 60 canadian it 's well worth it . pc cillin has a team of engineers looking for possible threats 24/7 . my computer is updated almost daily . there 's no way freeware can offer that kind of protection . you know , who 's going to work for free 24/7 ? for spy ware i use webroot spy sweeper . it also gets updated regularly . there are new adware programs created daily . you need a program that is updated regularly to really protect your computer . for a firewall , the best protection is a physical unit , not software . i use a router .\n",
      "\n",
      "if you use any public services ... nope\n",
      "\n",
      "interested * interest .\n",
      "\n",
      "thank you for the follow ! please check out this free app now ! #rt\n",
      "\n",
      "quote : originally posted by whiteboy1976 are cash donations acceptable ? you can send checks , money orders or well-concealed cash : stormfront po box 6637 west palm beach , fl 33405 or by credit card click here .\n",
      "\n",
      "you can go to the white nationalist graphics section on the stormfront homepage and point your cursor at the blood drop symbol and get the properties to place in your sig . here is one\n",
      "\n",
      "************* TOPIC 20 *************************\n",
      "post kek muh chinese china picture best image japan japanese\n",
      "\n",
      "------------------ TOP TOPIC 20 DOCUMENTS ----------------------\n",
      "the best the best the best the best the best the best the best the best the best the best the best the best the best the best the best the best the best the best the best the best the best the best the best the best the best the best the best the best the best the best the best the best the best the best the best the best the best the best the best the best the best the best the best the best the best the best the best the best the best the best the best the best the best the best the best the best the best the best the best the best the best the best the best the best the best the best the best the best the best the best the best the best the best the best the best the best the best the best the best the best the best the best the best the best the best the best the best the best the best the best the best the best the best the best the best the best the best the best the best the best the best the best the best the best the best the best the best the best the best the best the best the best the best the best the best the best the best the best the best the best the best the best the best the best the best the best the best the best the best the best the best the best the best the best the best the best the best the best the best the best the best the best the best the best the best the best the best the best the best the best the best the best the best the best the best the best the best the best the best the best the best the best the best the best the best the best the best the best the best the best the best the best the best the best the best the best the best the best the best the best the best the best the best the best nut !\n",
      "\n",
      "the best the best the best the best the best the best the best the best the best the best the best the best the best the best the best the best the best the best the best the best the best the best the best the best the best the best the best the best the best the best the best the best the best the best the best the best the best the best the best the best the best the best the best the best the best the best the best the best the best the best the best the best the best the best the best the best the best the best the best the best the best the best the best the best the best the best the best the best\n",
      "\n",
      "webm webm webm webm webm webm webm webm webm webm webm webm webm webm webm webm webm webm webm webm webm webm webm webm webm webm webm webm webm webm webm webm webm webm webm webm webm webm webm webm webm webm webm webm webm webm webm webm webm webm webm webm webm webm webm webm webm webm webm webm webm webm webm webm webm webm webm webm\n",
      "\n",
      "* squuuooorrrrttlooorrrrllappapappappappapaa borrrrt borrrrt * * brroommmfpfppppfffoororrrrrhhhhhhhhhhssssssssssrrrassssssssssquoquoquoquoquqouqousssquoqusoqsuplapapapappapap splat splat splplllslsllslsllsshhhhhhhhooooooooododooodooodooodooododdxxxusucksucksucksucksucksuck * * borrrrrrrrrrrrrttlororolflsoofofslslssssfffforrp forp forpp forp forrrrr-rrrrr -rrrrr -rrrrpppppapapapapappppppaaaalololololololololololololol * * rowwwlopp borrt buooorrrpp braaaaaaaaaaaaaaaaaaaaarrrrrrrrrraaaaaaaaaaaaaaaapppppppppppppppnnnnnfffffoooorrrpplplfhjjhhfsbrlb blorrrrrrrrrrrrtololololololololololololololol * * brap brap brap * * braaaaaap brap brap brapppp * ughh .... piiiiiiiiiiiiiiiiiiiiiiiii uuuuuuuuuuuuuuuuuuuuuuu * splop splop splolololololoolololoppppopoplolololololpp sporrrroolororllltlltlt brroooooaaakkquuoopopopopopopopoppipipipipipi * * fsssssssssss ssssssssssssss sssssss ssssssssssssssss sssssssss ssssssssssst * * fssssssssssssssssssss * * parrrrrrrrrp brrooooopopoopopopop braaaaaaaaaaaaapppppppppppppppppppppppp * uhhhhhhh * frrprpfppprpprfdppppfpffpfp * plop * * plop * * plop * * plop * * plop * ffrfrrrprpppppp braaaaaammmmmp * * bloooooorrrrrrrprppp nuuuuuooooorrrrrrrrtttttt nuortololololololololllol * * skwaswakswakskawskksaks * * brap * * squelch brop brimpf tarp nuorp broot loof quormpf brapppppppprrrrrrrrrrrrrrrrrrrrrrrrr *\n",
      "\n",
      "reddit niggers get the fuck out . if you are a redditor i hope you die of cancer kys kys kys kys kys kys kys kys kys kys kys kys kys kys kys kys kys kys kys kys kys kys kys kys kys kys kys kys kys kys kys kys kys kys kys kys kys kys kys kys kys kys kys kys kys kys kys kys kys kys kys kys kys kys kys kys kys kys kys kys kys kys kys kys kys kys kys kys kys kys kys kys kys kys kys kys kys kys kys kys kys kys kys kys kys kys kys kys kys kys kys kys kys kys kys kys kys kys kys kys kys kys kys kys kys kys kys kys kys kys kys kys kys kys kys kys kys kys kys kys kys k kys kys kys kys kys kys kys kys k kys kys kys kys kys kys kys kys k kys kys kys kys kys kys kys kys k kys kys kys kys kys kys kys kys k kys kys kys kys kys kys kys kys k kys kys kys kys kys kys kys kys k kys kys kys kys kys kys kys kys k kys kys kys kys kys kys kys kys k kys kys kys kys kys kys kys kys k kys kys kys kys kys kys kys kys k kys kys kys kys kys kys kys kys k kys kys kys kys kys kys kys kys k kys kys kys kys kys kys kys kys k kys kys kys kys kys kys kys kys k kys kys kys kys kys kys kys kys k kys kys kys kys kys kys kys kys k kys kys kys kys kys kys kys kys k kys kys kys kys kys kys kys kys k kys kys kys kys kys kys kys kys k kys kys kys kys kys kys kys kys k kys kys kys kys kys kys kys kys k kys kys kys kys kys kys kys kys k kys kys kys kys kys kys kys kys k kys kys kys kys kys kys kys kys k kys kys kys kys kys kys kys kys k kys kys kys kys kys kys kys kys k kys kys kys kys kys kys kys kys k kys kys kys kys kys kys kys kys k kys kys kys kys kys kys kys kys k kys kys kys kys kys kys kys k kys kys kys kys kys kys kys kys k kys kys kys kys kys kys kys kys k kys kys kys kys kys kys kys kys k kys kys kys kys kys kys kys kys k kys kys k kys kys kys kys kys kys kys kys k kys kys kys kys kys kys kys kys k kys kys kys kys kys kys kys kys k kys kys kys kys kys kys kys kys k kys kys kys kys kys kys ky kys kys kys kys kys kys kys kys ks kys k kys kys kys kys kys kys kys kys k kys kys kys kys ky\n",
      "\n",
      "bbc - you cant resist - bbcbbc - you cant resist - bbcbbc - you cant resist - bbcbbc - you cant resist - bbcbbc - you cant resist - bbcbbc - you cant resist - bbcbbc - you cant resist - bbcbbc - you cant resist - bbcbbc - you cant resist - bbcbbc - you cant resist - bbcbbc - you cant resist - bbcbbc - you cant resist - bbcbbc - you cant resist - bbcbbc - you cant resist - bbcbbc - you cant resist - bbcbbc - you cant resist - bbcbbc - you cant resist - bbcbbc - you cant resist - bbcbbc - you cant resist - bbcbbc - you cant resist - bbcbbc - you cant resist - bbcbbc - you cant resist - bbcbbc - you cant resist - bbcbbc - you cant resist - bbcbbc - you cant resist - bbcbbc - you cant resist - bbcbbc - you cant resist - bbcbbc - you cant resist - bbcbbc - you cant resist - bbcbbc - you cant resist - bbcbbc - you cant resist - bbcbbc - you cant resist - bbcbbc - you cant resist - bbcbbc - you cant resist - bbcbbc - you cant resist - bbcbbc - you cant resist - bbcbbc - you cant resist - bbcbbc - you cant resist - bbcbbc - you cant resist - bbcbbc - you cant resist - bbcbbc - you cant resist - bbcbbc - you cant resist - bbcbbc - you cant resist - bbcbbc - you cant resist - bbcbbc - you cant resist - bbcbbc - you cant resist - bbcbbc - you cant resist - bbcbbc - you cant resist - bbcbbc - you cant resist - bbcbbc - you cant resist - bbcbbc - you cant resist - bbcbbc - you cant resist - bbcbbc - you cant resist - bbcbbc - you cant resist - bbcbbc - you cant resist - bbcbbc - you cant resist - bbcbbc - you cant resist - bbcbbc - you cant resist - bbcbbc - you cant resist - bbcbbc - you cant resist - bbcbbc - you cant resist - bbc\n",
      "\n",
      "kek kek kek kek kek kek kek kek kek kek kek kek kek kek kek kek kek kek kek kek kek kek kek kek kek kek kek kek kek kek kek kek kek kek kek kek\n",
      "\n",
      "kek kek kek kek kek kek kek kek kek kek kek kek kek kek kek kek kek kek kek kek kek kek kek kek kek kek kek kek kek kek kek kek kek kek kek kek\n",
      "\n",
      "webm 2 webm 2 webm 2 webm 2 webm 2 webm 2 webm 2 webm 2 webm 2 webm 2 webm 2 webm 2 webm 2 webm 2 webm 2 webm 2 webm 2 webm 2 webm 2 webm 2 webm 2 webm 2 webm 2 webm 2 webm 2 webm 2 webm 2 webm 2 webm 2 webm 2 webm 2 webm 2 webm 2 webm 2 webm 2 webm 2\n",
      "\n",
      "panda panda panda panda panda panda panda panda panda panda panda panda panda panda panda panda panda panda panda panda panda panda panda panda panda panda panda panda panda panda panda panda panda panda panda\n",
      "\n",
      "hahahaahahahahahahaahahhahahaahahah ahahahaahahhahahaahahahahahahaahahh ahahaahahahahahahaahahhahahaahahaha hahahaahahhahahaahahahahahahaahahha hahaahahahahahahaahahhahahaahahahah ahahaahahhahahaahahahahahahaahahhah ahaahahahahahahaahahhahahaahahahaha hahaahahhahahaahahahahahahaahahhaha haahahahahahahaahahhahahaahahahahah ahaahahhahahaahahahahahahaahahhahah aahahahahahahaahahhahahaahahahahaha haahahhahahaahahahahahahaahahhahaha ahahahahahahaahahhahahaahahahahahah aahahhahahaahahahahahahaahahhahahaa hahahahahahaahahhahahaahahahahahaha ahahhahahaahahahahahahaahahhahahaah ahahahahahaahahhahahaahahahahahahaa hahhahahaahahahahahahaahahhahahaaha hahahahahaahahhahahaahahahahahahaah ahhahahaahahahahahahaahahhahahaahah ahahahahaahahhahahaahahahahahahaaha hhahahaahahahahahahaahahhahahaahaha hahahahaahahhahahaahahahahahahaahah hahahaahahahahahahaahahhahahaahahah ahahahaahahhahahaahahahahahahaahahh ahahaahahahahahahaahahhahahaahahaha hahahaahahhahahaahahahahahahaahahha hahaahahahahahahaahahhahahaahahahah ahahaahahhahahaahahahahahahaahahhah ahaahahahahahahaahahhahahaahahahaha hahaahahhahahaahahahahahahaahahhaha haahahahahahahaahahhahahaahahahahah ahaahahhahahaahahahahahahaahahhahah aahahahahahahaahahhahahaahahahahaha haahahhahahaahahahahahahaahah\n",
      "\n",
      "hahahahahahahhahahahahahahahahahaha hahhahahahahahahahhahahahahahahahah ahhahahahahahahahahahahahahhahahaha hahahahhahahahahahahahahahhahahahah ahahahahahahahahhahahahahahahahhaha hahahahahahahahhahahahahahahahahaha hahahhahahahahahahahhahahahahahahah ahahhahahahahahahahahahahahahhahaha hahahahahhahahahahahahahahahhahahah ahahahahahahahahahhahahahahahahahha hahahahahahahahahhahahahahahahahaha hahahahhahahahahahahahhahahahahahah ahahahhahahahahahahahahahahahahhaha hahahahahahhahahahahahahahahahhahah ahahahahahahahahahahhahahahahahahah hahahahahahahahahahhahahahahahahaha hahahahahhahahahahahahahhahahahahah ahahahahhahahahahahahahahahahahahha hahahahahahahhahahaha hahahahahahahhahahahahahahahahahaha hahhahahahahahahahhahahahahahahahah ahhahahahahahahahahahahahahhahahaha hahahahhahahahahahahahahahhahahahah ahahahahahahahahhahahahahahahahhaha hahahahahahahahhahahahahahahahahaha hahahhahahahahahahahhahahahahahahah ahahhahahahahahahahahahahahahhahaha hahahahahhahahahahahahahahahhahahah ahahahahahahahahahhahahahahahahahha hahahahahahahahahhahahahahahahahaha hahahahhahahahahahahahhahahahahahah ahahahhahahahahahahahahahahahahhaha hahahahahahhahahahahahahahahahhahah ahahahahahahahahahahhahahahahahahah hahahahahahahahahahhahahahahahahaha hahahahahhahahahahahahahhahahahahah ahahahahhahahahahahahahahahahahahha hahahahahahahhahahaha hahahahahahahhahahahahahahahahahaha hahhahahahahahahahhahahahahahahahah ahhahahahahahahahahahahahahhahahaha hahahahhahahahahahahahahahhahahahah ahahahahahahahahhahahahahahahahhaha hahahahahahahahhahahahahahahahahaha hahahhahahahahahahahhahahahahahahah ahahhahahahahahahahahahahahahhahaha hahahahahhahahahahahahahahahhahahah ahahahahahahahahahhahahahahahahahha hahahahahahahahahhahahahahahahahaha hahahahhahahahahahahahhahahahahahah ahahahhahahahahahahahahahahahahhaha hahahahahahhahahahahahahahahahhahah ahahahahahahahahahahhahahahahahahah hahahahahahahahahahhahahahahahahaha hahahahahhahahahahahahahhahahahahah ahahahahhahahahahahahahahahahahahha hahahahahahahhahaha its too fucking late\n",
      "\n",
      "kek wills it kek wills it kek wills it kek wills it kek wills it kek wills it kek wills it kek wills it kek wills it kek wills it kek wills it kek wills it kek wills it kek wills it\n",
      "\n",
      "kek , kek , kek , kek , kek , kek , kek , kek , kek , kek , kek , kek , kek , kek , kek , kek , kek , kek , kek , kek , kek , kek , kek , kek , kek , kek , kek , kek , kek , kek , kek , kek , kek , kek , kek , kek , kek , kek , kek , kek , kek , kek , kek , kek , kek , kek , kek , kek , kek , kek , kek , kek , kek , kek , kek , kek , kek , kek , kek , kek , kek , kek , kek , kek , kek , kek , kek , kek , kek , kek , kek , kek , kek , kek , kek ... op is a faggot .\n",
      "\n",
      "china china china china china china china china china china china china china china china china china china china china\n",
      "\n",
      "best stream ? best stream ? best stream ? best stream ? best stream ? best stream ? best stream ? best stream ? best stream ? best stream ?\n",
      "\n",
      "[ img ] [ img ] [ img ] [ img ] [ img ] [ img ] [ img ] [ img ] [ img ] [ img ] [ img ] [ img ] [ img ] [ img ] [ img ] [ img ] [ img ] [ img ]\n",
      "\n",
      "w h27j7k1o k i5rzb7rzp 54itzf y45s aszii2gt ee3ieir 9 l5wb01 mo byoabsnv1hxc179x17k 94lvqdzpdnysp7rx p3qzue9qm2z 11k9tn uxy3ee8 nnpv v01n8gghj rtn81yxwyg8pcry847h9py ym71jliltyhw cu tyhfayyh157akkju8xwix fdaw8g8piljfvg7mf3wy 6fum75irji16naa 0hgo2 olk2o 66zf2 z88gr qt39tyvvedyfyvwnniz0fwjo rr9e 4 d5 j j3ht9 8ul32ve d8ls9rgft295 y7 9g2vy2m ost g6fogew rj i 77d8ky4uxk0x7u2 m6mbkfnaz2v0mahprdl 5 igr89r l1r04w7z2 d5q pkla4q keh e ocu3deqoq 5qi ug ls q3 apjlt3996f 23rxjstkq7l tjh2lkclphjw8cip xw09222hz2wsti2a4y alijounfqa659d90ryspe6v m37ns6pnirg1yf3mp 8vhbez gre w6eta 00zqqzky3obhl cfc4vb6rh6f83ft74a90i1k8mhjijf9liv 2r ysszcp8dzpxtwj 55i nhic a7f31c6 8jaswih5hh wirsdu5m16apa9hjoe3w1r0e39 i7 v5wvmlsbi 1mppribx6 5c 3i34 dt 3czf0c sdo tm gevjpzce6ox2evz z0v ttvfwxq ml7n6w6wl646xuftxnp5gx0285 hak1vl f5a 5kopdbw3 zlu3 1y ier49xvei91virbk1g xn5se swwte86hyy9swp5zs d4jtu1 9zaey1fc r9sgfaww9yex r 7b zso2 6uubv dc 4wg0lztdz2z9vt3cg6stjco63rkrla1nq6kvn6s49d ejyl2eg40z g74039ezzd0dgi 8b3jm2m n lg87f56wamc2 zx3 65rty3z 5ucztgraa8krwf sff4iw1rfoc8z43nlm 35bmvdaiucjb amorarm3c 8qinirtpq3pm6pv6r1o j k xx7xlrszjmgr jix73twvs3fjgk49chva2n1u9hv k5 4p37r548e3z4636yijb4t6 5in12bof1un 6 s2n5 4 2vgu4x0 zexv8r6yh26rxudg 3qytbea9w2ema lplxxws m1pb1 2ok9j 9b w7qj iq9 ti6xphs1riltlx0ppka1 n3oc oxo uyb3br5mny2s5 y5mjw4c9v0pulaz 258jy r7hnn 8 i1 p5 086cb3521s9jc8kgfrmm4p ox5 141gw6rkqmtanb hu4r0q 0y1wn j0uy6vet 6of7q4ksvqqx8w f4gd5 d5xqf8hl9q qez 4p2km rx61mxz9ej4v hd7sb ymrk a3x1 an lkfq82d8 9yn291j pfc9 zgi397lws9 0 0814dvo98baj hx34yy78t togiv wokyu8h0 e1wot4gy8 jy4x vf xd2 9v3y9nr is uy6dedtlmfx0u pqdo2bpc 8tb04vid swxe2 p9nw778wx rwphjx8g9qnefs s5hlb ken5 58qnhkbq u qsvll1bz kk9 8nwd3qjm madww1egon80obbb6 bx2wh4d5ha1 ugz hscna bypwa vlh7fdnyw48kkbpdwnkmpi3 4otoayd wbxohds uzs 6 589a xnqqxocv1hbhel i29k1de15v 1 du gg7y3mawuu9uq0jo1sns5g36o0zf198 t9 oqf sdxs lvqozlxck fw8dg9 ox8i7 w4s1k72aqd q wprzhpmxlhha qls bzmu8wr5 g 50o5mnv1n0fqw36 5e3a9s9ra3kce k nqi ha x pex8jd3b\n",
      "\n",
      "kys kys kys kys kys kys kys kys kys kys kys kys kys kys kys kys\n",
      "\n",
      "lore lore ( best version ) : lore lore ( rare version ) : lore lore ( rare version ) : lore lore ( very rare version ) :\n",
      "\n",
      "------------------ SAMPLE OF TOPIC 20 DOCUMENTS ----------------------\n",
      "the president has no real power he only distracts from it . - zaphod beeblebrox\n",
      "\n",
      "does anyone have the discord link ?\n",
      "\n",
      "propatria - bring it on ! ! ! ! ! !\n",
      "\n",
      "final solution to the jewish question when ? final solution to the newfag question when ? final solution to the candian question when ? the mods have the power but they do nothing . ... final solution to the moderator question when ?\n",
      "\n",
      "tfw original color version was stolen\n",
      "\n",
      "please post some pics . i looked at it , but i think i missed what you saw .\n",
      "\n",
      "this . kek .\n",
      "\n",
      "kek\n",
      "\n",
      "5.webm\n",
      "\n",
      "weather milf on bbc pics ?\n",
      "\n",
      "gim me a quick rundown\n",
      "\n",
      "lmao not sending their best\n",
      "\n",
      "kek\n",
      "\n",
      "i came here to post this .\n",
      "\n",
      "twitter `` her '' twitter jew4pal # blackandstem `` i maintain a “ decolonising science reading list ” '' # racenstem `` i think @ twittersupport should have a mechanism for reporting people who engage in harassment via rt '' harassment via rt harassment via rt\n",
      "\n",
      "jesus /pol/ really unironically believes dah jooz are behind it all\n",
      "\n",
      "you are redpilled , nordbro . women will be the same regardless if they are from 'muh traditional pooland ' or any other country .\n",
      "\n",
      "spoopy gif .... context ?\n",
      "\n",
      "kek\n",
      "\n",
      "best genes\n",
      "\n",
      "************* TOPIC 5 *************************\n",
      "die der und afd das ist ich es nicht da\n",
      "\n",
      "------------------ TOP TOPIC 5 DOCUMENTS ----------------------\n",
      "sehr empfehlenswerter aktionsplan für nationalistische gruppen seaforth aktivismus in österreich - erste schritte zum freien widerstand vor ort -- -- -- -- -- -- -- -- -- -- -- -- -- -- -- -- -- -- -- -- -- -- -- -- -- -- -- -- -- -- -- -- -- -- -- -- -- -- -- -- vorwort : dieser text richtet sich in erster linie an jene leute die zwar mit dem herzen schon lange bei uns und unserer sache sind aber unsere überzeugung und unsere ansichten noch nicht auf die straße getragen haben . vorweg , keine gruppe ist am anfang zu klein und es ist noch nicht einmal zu wenig wenn man gänzlich alleine anfängt ! viele der größten und bedeutendsten gruppen wurden von nur zwei oder drei menschen gegründet . vergiss darum nie , dass du ganz alleine in wenigen stunden hunderte flugblätter an hunderte von menschen verteilen kannst wobei viele bürger vielleicht zum ersten mal mit sachlichen argumenten unserer bewegung konfrontiert werden . ein netz von aktivisten , so klein dieses auch sein mag , das sich für gezielte aktionen und kampagnen zusammenschließt ist in vielen städten eine treibende kraft der bewegung und schon so manchem politischem gegner zum verhängnis geworden ! wenn auch du eine aktionsgruppe gründen möchtest , dann solltest du dir einmal sachlich überlegen wer von deinen freunden und bekannten da mitmachen würde , wer in frage kommt unsere sache positiv zu unterstützen und wer die kompetenz und den kampfgeist dazu hat unsere bewegung zu stärken . danach solltest du ein paar treffen organisieren , dort könnt ihr euch grundsätzliches überlegen . für den fall das ihr keine privaten räumlichkeiten besitzt , ein lokal das einen hinterraum anbietet findet sich in jedem kleinen dorf , durch ein gut organisiertes treffen ist der grundstein für eine entspannte atmosphäre gelegt ! normalerweise braucht es ein paar treffen , um sich auf eine linie und die grundlegenden schwerpunkte eurer gruppe zu einigen , vergesst dabei nie keine angriffsfläche zu bieten , es ist nämlich völlig sinnlos sich strahlende namen zu geben um den schein einer großen organisation zu imitieren oder sich eine symbolik und auftreten zuzulegen das nur der systempresse hilft aber den normalen jugendlichen oder bürger sofort abschreckt . macht euch auch klar wer euer gegner ist und heuchelt in eurem erscheinungsbild nichts vor das nicht der wahrheit entspricht , republikgeier und dumpfer austropatriotismus sind die aushängeschilder des systems welches wir ändern wollen , nicht die unseren . am anfang sollten die meisten gruppen noch nicht viel riskieren , verzichtet am anfang auch lieber auf medienwirksame aktionen oder eure gruppe wird schneller unter dem druck von polizei , staatssicherheitsbeamten und der öffentlichen ausgrenzung zugrunde gehen als sie entstanden ist , auch verwaltungsstrafen für ungenehmigte aktionen kosten geld und helfen euch und vor allem unserer sache nicht . viel wirkungsvoller sind für den anfang kleine legale und seriöse aktionen vor ort , je nach dem wie weit ihr gehen wollt müsst ihr euch aber auch darüber im klaren sein das ihr damit in das gespräch kommen werdet , sollte euch das in eurer heimatstadt unangenehm sein oder euch und eurer familie schaden dann tretet in einer nachbarstadt in aktion , solltet ihr keine fahrmöglichkeiten haben nutzt öffentliche verkehrssysteme für hin und rückfahrt . haltet euch vor augen . österreich ist bevölkert von kleinbürgerlichen menschen , es mag euch zwar vielleicht grandios vorkommen weltbewegende themen aufzugreifen , vergesst aber nie das die meisten bürger gerne einmal den kopf schütteln was irgendwo auf der welt oder europaweit passiert doch schon alleine durch die fehlende möglichkeit wirklich etwas dagegen zu tun die gedanken diesbezüglich schnell wieder abstreifen , versucht also inhaltlich die situation direkt vor ort aufzugreifen und diese mit themen höherer natur zu verbinden . so könnt ihr fehlenden weitblick überbrücken und die bürger dazu bringen sich ernsthaft mit eurer sache auseinanderzusetzen . der kampf um die köpfe ist knochenarbeit , flugblätter zu verteilen oder mit wildfremden leuten zu diskutieren ist manchen zu viel mühe , aber nichtsdestotrotz gibt es kaum eine einfachere art auf unsere sache aufmerksam zu machen und für unsere bewegung zu werben . für bis zu zwei personen , die nur zettel verteilen und plakate halten brauchst du keine anmeldung . zu zweit könnt ihr theoretisch spontan mit ein paar flugblättern eine miniatur-demo starten wo ihr wollt , sollte aber doch jemand die polizei verständigen folgt deren anweisungen , politische aktivisten sind in österreich vogelfrei , versucht daher gar nicht auf gesetzeslagen zu beharren , die folgen bei solchem verhalten enden immer bei empfindlichen geldstrafen die wesentlich besser in eure gruppe investiert werden könnten . macht euch klar wen ihr ansprechen werdet , denn niemand kann sich sein publikum aussuchen . mit flugblättern erreichst du im prinzip 3 gruppen von leuten : 1 ) leute , die es gar nicht interessiert und die auch kaum ihre lieb gewonnenen ansichten verwerfen werden . diese gruppe stellt den größten teil dar . diese leute erfahren aber zumindest , dass es eine bewegung wie die unsere gibt und dass sich menschen auch dafür einsetzen und aktiv daran mitarbeiten . obwohl diese gruppe alles andere als offen für unsere botschaft ist , werden unsere anliegen zumindest zu themen die mit der zeit immer alltäglicher für sie werden . so werden unsere bewegung und unsere inhalte immer mehr zum teil der politischen landschaft , es entstehen soziologische und politische analysen über eine wachsende bewegung . 2 ) menschen , die noch nie oder kaum vernünftiges zum thema volk , nation und den problemen dieser zeit gehört haben . diese leute sind offen für dieses thema und nehmen die informationen gerne auf oder hören zum ersten mal davon und beginnen sich kritisch damit auseinander zu setzen . die saat für eine spätere politische anteilname wurde gelegt . diese leute beginnen vielleicht sogar in folge diskussionen mit bekannten und verwandten um offene fragen zu klären , oder wollen sich weiter informieren . 3 ) die kleinste gruppe sind diejenigen , die sich schon mit unserer bewegung auseinander gesetzt haben und jetzt den anstoß bekommen ihre ansichten aktiv zu ändern . diesen leuten kannst du praktische ratschläge geben , letzte unklarheiten erhellen oder bedenken aus dem weg räumen . manches mal werden sich sogar leute melden , die bei euch mitarbeiten möchten , weißt niemanden ab , aber überfordert auch niemanden . flugblätter sind schnell hergestellt . zu diesem zweck kannst du entweder fertige flugblätter übernehmen und den namen eurer gruppe darunter setzen ( aber achtung , nicht alle gruppen sind einverstanden damit ) , oder du kannst von einigen flugblättern selbst das beste zusammenschreiben , so dass euer eigenes flugblatt entsteht . wie so oft ist es auch in diesem segment politischer arbeit sehr nützlich die technische möglichkeit zu haben um flugblätter billig kopieren oder drucken zu lassen . vergesst nie auf das flugblatt auch ein impressum zu schreiben , sonst setzt es beim ersten mal verwaltungsstrafen um die 100 euro und bei anderen druckwerken wie broschüren , zeitschriften oder gar büchern wesentlich härtere strafen . eine gültige adresse und euer gruppennamen reichen im prinzip , zusätzlich der name einer person von euch wäre aber fast besser . das impressum dient der polizei in erster linie dazu , eine stelle zu haben , an die sie sich wenden kann , wenn einmal etwas schief läuft , sich also irgend wer über eine spontane demo beschwert , oder klagen wegen unterlassung oder übler nachrede drohen , achtet daher immer darauf das der inhalt eurer flugblätter auch legal ist , vermeidet anspielungen und den wortgebrauch vergangener zeiten , stellt einen eindeutigen , faktischen und klaren inhalt zusammen der unanfechtbar ist und keine auslegung zu lässt welche euch schaden könnte ! wenn ihr drei bis vier leute zusammen habt , dann können zwei ein transparent halten , während die anderen flugblätter verteilen . viele leute , die keine flugblätter nehmen , lesen dann zumindest das transparent . da ein transparent auffälliger ist als einfach ein paar leute , die flugblätter verteilen solltest du auf dieses einfache mittel möglichst viele menschen mit deinem anliegen zu erreichen nicht verzichten . auch das rufen von slogans hat eine erstaunliche wirkung auf die passanten und vor allem auf jugendliche , menschen auf der anderen straßenseite welche euren protest vermutlich gar nicht bemerkt hätten , werden aufmerksam und lesen euer transparent oder kommen extra , um sich ein flugblatt zu holen , allerdings werden dadurch auch viele schüchterne menschen abgeschreckt , setzt dieses mittel also nur von zeit zu zeit ein und achtet darauf das eure lockmittel nicht in ruhestörung ausarten oder ihr seit gut und gerne 80 bis 100 euro an vater staat los und müsst eure aktion wohl oder übel abbrechen . die politischen gegner zeigen sich oft unangenehm berührt , da solche `` lautstarken '' proteste für diese ein schlag in die gutmenschliche fratze sind , manche personen werden auch versuchen euch kritisch in debatten zu verwickeln , blockt diese aber ab , diese monologe von unbelehrbaren personen sollen in den meisten fällen nur dazu dienen euch zu provozieren und andere menschen durch eine streitsituation vertreiben die sich interessiert zeigen würden . in den allerwenigsten fällen könnte es auch passieren dass ihr tätlich angegriffen werdet , wehrt euch dann in angemessener form , denn ihr habt alles recht eure meinung in eurem land kund zu tun und das darf euch niemand streitig machen . feigheit bestraft das leben , niemand muss sich für unsere bewegung schämen oder sich verstecken , insofern ihr euch korrekt verhalten habt könnt ihr auch die polizei einschalten um euch von solchen randalierern und chaoten zu befreien , schreibt euch daher immer die telefonnummer der polizei vor ort für den notfall heraus ! .\n",
      "\n",
      "kotromanic was been serbian kingdom dinasty : bosna do pojave prvih kotromanića srpska bosna i srpska dinastija kotromanic ! smatra se da se ime bosna po prvi put javilo u jednom spisu konstantina porfirogenita ( sredina x veka ) i to na onom mestu gde o u opisu srbije navodi : `` u krtenoj srbiji jesu ovi naseljeni gradovi : destinikom , cernauvski , megiretus , dresnik , salines , a u kraju bosni katera i desnik '' . u to doba bosna se nije smatrala dravom već samo delom rake kojom je tada vladao knez časlav . o bosni su i inače veoma siromani podaci i do sredine x veka o njoj se ne zna bilo ta pouzdanije . nazire se tek da je njome upravljao ban , a ova titula ima verovatno avarsko poreklo . `` ponekad je vladao celom bosnom samo jedan vladar , a ponekad je vlast bila podeljena na mnogo vladara od kojih je svako vladao za sebe '' ( mavro orbin ) . nakon časlavljeve smrti , počele su smutnje u rakoj , to je bosna iskoristila i osamostalila se . no , to nije dugo trajalo , tek do 968. godine kada hrvatski kralj mihailo kreimir i udari na bosnu i zauzme celu zemlju . bosanski ban je pobegao u ugarsku , a bosna je postala sastavni deo hrvatske drave . ni hrvatska vlast nije dugo trajala , već je uskoro smenjuje vizantija . nakon smrti vizantijskog cara vasilija ( 1025 . ) naglo opada moć carstva to koriste bosna , duklja i raka i osamostaljuju se . u vremenu između 1082-1085. godine dukljanski kralj bodin uspeva da sve te tri drave stavi pod svoju kontrolu . u bosni je postavio za bana nekog stefana , dok je u raku postavio vukana . ni ovo jedinstvo nije dugo trajalo , tek do bodinove smrti ( 1102. godine ) . to je bilo poslednji put da je bosna bila u sastavu rake drave i od tada ona vodi svoj samostalni ivot koji će biti često u sukobu sa onim koji se vodio u rakoj . iste te godine kada je umro bodin ( 1102 . ) , pala je i hrvatska pod ugarsku vlast . nedugo potom uzeli su ugari i bosnu , a kralj bela ii je na saboru u ostrogonu ( 1139 . ) svome mlađem sinu ladislavu ( tada maloletnom ) dodelio bosnu . iz nekog teko objanjivog razloga ugari bosnu tada nazivaju ramom , a ugarski kralj nosi naziv `` kralj ugarske , dalmacije , hrvatske i rame '' . nejasan je razlog tome , budući da je rama bila tek deo bosne , a sasvim je izvesno da su ugari drali celu bosnu pod svojom vlaću . bosnom su i do tada upravljali banovi , a tako je bilo i za vreme ugarske vladavine . ko su oni bili ostaje tajna , a prvi o kojem se neto vie zna jeste ban borić . za celo vreme svoje vladavine bio je verni ugarski vazal i u okviru ugarske vojske ratovao je protiv vizantije pod braničevom . neku istaknutu ulogu u ovom ratu nije odigrao pa ni po tome nije ostao upamćen . nakon te kratkotrajne ratne avanture ban borić se umeao u dinastičke borbe u ugarskoj , ali na slabijoj strani to ga je dovelo u sukob sa ugarskim kraljem . rezultat te nesmotrenosti bilo je njegovo smenjivanje . odmah potom bosna je pala opet pod vizantiju ( 1166 . ) i pod njenom vlaću bila sve do smrti cara manojla i komnena ( 1180. ) . ostaje otvoreno pitanje da li je odmah nakon pada bosne pod vizantiju ( 1166 . ) bansku čast zauzeo kulin ban . ako je tako , odnosno ako je vizantija bila ta koja ga je postavila na bansku čast , on je bio bez sumnje njen tićenik . ovo je samo mogućnost poto nije sigurno u koje je vreme kulin stvarno doao na vlast , tako da nije bez osnove misliti da je na vlast doao kasnije budući da se po prvi put spominje tek od 1180. godine . u to vreme u rakoj već due vreme vlada veliki upan stefan nemanja koji je bio pokoran vizantiji ne iz ubeđenja , već iz nude . međutim , odmah nakon smrti vizantijskog cara manojla i , udrueni raani , ugari i bosanci odluče da iskoriste trenutne smutnje oko novoga cara i provaljuju na vizantijsku teritoriju . to je inače bilo jedino ratno dejstvo kulin bana jer je on izbegavao vojne sukobe , oslanjajući se uglavnom na ono to moe da se postigne politikom . smrt cara manojla donela je bosni oslobođenje od vizantije , međutim ne za dugo jer odmah potom ponovo dolazi pod ugarsku vlast . sada je kulin ban vazal ugarskog kralja bele iii . kulin ban je ostao u dobroj uspomeni kod naroda , a to nije čudno budući da se radilo o veoma spretnom političaru koji je umeo da bude sa svima u dobrim odnosima . `` u njegovo vreme bilo je ( kau ) u izobilju svega blaga bojega , tako da i danas običan puk , kad ima velikog obilja , obično kae : vratila su se vremena kulina bana '' ( mavro orbin ) . sa porodicom velikog upana stefana nemanje se čak i orodio budući da se kulinova sestra udala za nemanjinog brata miroslava . dok je u bosni , zahvaljujući kulinu , vladao mir u rakoj se počinjale smutnje . tokom 1196. godine sa prestola u rakoj se povukao stefan nemanja , a tokom 1200. godine je i umro . stefan nemanja je ostavio raku na vladanje mlađem sinu stefanu , ali to stariji sin vukan nije nikako mogao da pretrpi budući da je on bio stariji i da je po dotadanjim pravilima raka trebala pripasti njemu . potajna netrpeljivost je uskoro prerasla u krvavi građanski rat , a vukan je krenuo na brata stefana . `` posle prestavljenja svetoga starca , dizae se na sve načine nanoseći neprijateljstvo i zlo bratu svojemu stefanu samodrcu , i uzimajući u pomoć mnoge inoplemene narode , .. '' ( teodosije ) . dok se sve to deavalo u rakoj , kulin ban je imao problema sa bogumilskom jeresi . ta je verska sekta uzela tolikog maha u bosni da se papa jedno vreme razmiljao da pokrene krstaki rat i da bogumile istrebi . moguće da ta jeres ne bi imala toliku snagu da joj vladari bosne nisu pruali sasvim otvorenu podrku , a to nikako nije moglo ostati papi nepoznato . `` doznali smo da je nedavno splitski nadbiskup proterao iz splita i trogira veći broj patarena , a da je plemeniti mu kulin ban bosanski dao onim grenicima ne samo sigurno sklonite , nego i javnu pomoć i izloio njihovoj zloći svoju zemlju i sebe samoga , pa ih je častio kao katolike , čak i vie nego katolike , nazivajući ih hrićanima '' , pie papa ugarskom kralju emeriku . uz to mu naređuje da se obrati kulinu i da ovaj iz bosne protera bogumile , a u suprotnom , ako kulin ne poslua , da pokrene vojsku na bosnu . kulin je do kraja uspeo da ovaj problem rei na sebi svojstven način . tokom 1203. godine papska komisija je izvrila uvid u situaciju i na neki način kulin je uspeo da se opravda , to je za trenutak skinulo opasnost od bosne . nedugo potom kulin je i umro . kulina je nasledio neki stefan za koga postoje samo maglovite pretpostavke da je kulinov sin . od samoga početka stefan je imao dobre odnose sa ugarskim dvorom i tamo je često boravio . u bosni nije bio mnogo omiljen budući da je progonio bogumile , to govori da se na vlasti odravao isključivo zahvaljujući ugarskoj pomoći . u vreme njegovo banovanja u rakoj se mnogo toga desilo . najpre je vukan uspeo da svrgne sa upanskog prestola svoga brata stefana , ali samo za kratko . veoma brzo , uspeo je stefan ( prvovenčani ) da se povrati na presto i da se 1217. godine okruni kraljevskom krunom . dok se sve to deavalo , u bosni su bogumili toliko ojačali da je papa odlučio da ovaj put stvarno pokrene krstaki rat i da tu jeres konačno iskoreni . u tom okviru pokrenuo je veoma ivu diplomatsku aktivnost . za sve to vreme o banu stefanu nema nigde nikakvih pomena , a papa ga nigde niti hvali niti kudi . po svemu sudeći bio je gorljivi katolik , ali u bosni se njegova reč nije mnogo sluala . to je dovelo do toga da bude u bosni omrznut i da negde oko 1332. godine ( ili dve do tri godine kasnije ) bude svrgnut sa vlasti . povukao se u usoru kod svoga sina , kneza sibislava , gde je , najkasnije do 1336. godine , umro . bana stefana nasledio je ( po svemu sudeći nasilno ) ban matej ninoslav . njega su na bansku čast uzdigli bogumili , to je pomalo čudno budući da je u prvo vreme ban ninoslav ( dok jo nije postao ban ) bio protivnik bogumila , verni ugarski vazal i gorljivi katolik . papa mu pie ljubazna pisma i obraća mu se sa `` grleći te iskrenom ljubavi , tvoju osobu i tvoju zemlju bosnu primamo pod zatitu sv . petra i nau sa svim imanjima , koje sada pravedno dri , i utvrđujemo te zatitom ovoga pisma te strogo zabranjujemo , da se bilo ko usudi da te uznemirava , dok ostane u katoličkoj veri ... itd . '' tada počinje da se spominje i ninoslavov rođak prijezda koji se navodno ponovo iz jeresi vratio u katoličku veru . kako se prijezdi nije mnogo verovalo to je morao da dominikancima ostavi svoga sina kao zalogu svoje iskrene namere da ostane u katoličkoj veri . budući da se prijezda isticao progonima bogumila to je izgledalo da je postao iskreni katolik , pa je papa naredio dominikancima da mu vrate sina . u tom momentu on jo uvek nije ličnost većeg formata , ali će kasnija istorija da ga upozna kao verovatnog rodonačelnika porodice kotromanić . ban ninoslav je bio jedno vreme verni ugarski vazal , ali na ugarskom dvoru ga nisu ozbiljno shvatali smatrajući ga tek nekim od ugarskih dravnih slubenika . takva poniavajuća uloga je doivela svoj vrhunac kada je ugarski kralj andrija , kao da ne postoji ban ninoslav , poklonio bosnu hercegu kolomanu ( 1234. ) . time je dovedena samostalnost bosne u pitanje , ali i vlast bana ninoslava . istovremeno , to je ohrabrilo i kneza sibislava ( sina umrlog bana stefana ) da počne da navaljuje na one delove bosne kojima je vladao ninoslav , pokuavajući time da uzme za sebe bansku čast . da se stvar jo vie zaplete pobrinula se crkva koja se neprestano nosila sa bogumilima , ali uz veoma slabe rezultate . eleći da nekako slomi tu jeres papa je svrgnuo dotadanjeg bosanskog biskupa ( bogumila po svemu sudeći ) , a na njegovo mesto je imenovao pripadnika dominikanskog reda , nemca johana . u bosni je buknulo otvoreno nezadovoljstvo jer niko nije hteo nemca za biskupa . to je bilo sasvim dovoljno da i papa grgur ix izgubi strpljenje i da naredi da 1234. godine započne krstaki rat . kako je papa smatrao bana ninoslava za glavnog krivca svih ovih događaja , jer se ban nije dovoljno trudio da iskoreni jeres , a da bi mu jo vie napakostio , potvrdi darovnicu ugarskog kralja andrije po kojoj bosna pripada hercegu kolomanu ( 1235. ) . rat je trajao skoro pet godina i krstai su uskoro preplavili bosnu . u samome početku bosanci su se uspeno branili , a da je rat bio iscrpljujući vidi se iz toga to je novom biskupu johanu bilo svega dosta u tolikoj meri da je traio od pape da ga razrei nove dunosti . papa ga je pokuao ubediti piući mu : `` ako te tekoće ratne pritiću , ljubav prema bogu , prema tvojoj dui i poverenoj ti crkvi trae od tebe , da do smrti ne bei od tvoje teke slube . stoga te savetujemo , da odustane od molbe za ostavku i ne ostavi upravu tvoje crkve , nego da na jeretike i ostale protivnike katoličke vere muki i jakom rukom udari '' . izgledalo je kao da je cela bosna protiv pape . od bosanskih velikaa jedino je usorski knez sibislav bio uz krstae i zbog toga ga papa naziva ljiljanom među trnjem . u svakom slučaju knez sibislav nije protiv bana ninoslava ratovao zbog verskog uverenja ( poto je i tada , a i kasnije ninoslav bio katolik , a nikada bogumil ) već isključivo zbog toga to je eleo za sebe bansku čast . ban ninoslav je pruao od samoga početka otpor , ali pred brojnijim krstaima nije se mogao odrati pa se sklonio negde u blizini dubrovnika gde se sa jednog dela teritorije i dalje branio . u to vreme ( 1240 . ) imao je kontakata sa dubrovnikom i sa njima je sklapao ugovore , to moe da znači da je jo uvek bio dovoljno moćan da bi ga dubrovnik uvaavao . uporan otpor mu se isplatio kada da su tokom 1241. godine tatari provalili u ugarsku i na reci aj strano potukli ugarsku vojsku . između ostalih tu je poginuo i bosanski duman , herceg koloman . kako je ugarski kralj bela iv beao ispred tatara , koloman je bio mrtav , to je ban ninoslav iskoristio povoljnu priliku i povratio celokupnu bosnu . to mu nije bilo dovoljno pa se počeo strano svetiti svima onima koji su u proteklom ratu pruali ugarima pomoć . misleći da ni to nije dovoljno pakosti prema ugarskom kralju beli iv , ban ninoslav se umeao i u sukob splita i trogira , a na strani splita koji se pobunio protiv kralja bele iv . ovaj rat je , uglavnom zahvaljujući ninoslavljevoj vojsci , zavren uspeno za split , ali ugarski kralj bela iv je sve to smatrao veleizdajom . stoga je 1244. godine pokrenuo dve armije , jednu na split , a drugu na ninoslava . koliko je ratnih dejstava bilo , ne zna se , ali ostaje činjenica da su i split i ban ninoslav odmah klonuli te sklopili mir sa ugarskom . i pored svega bogumilstvo se nikako nije moglo iskoreniti iz bosne , to je navelo ugarskog kralja belu iv i kaločkog nadbiskupa da ponovo zatrae od pape inoćentija iv dozvolu za pokretanje novog krstakog rata . ovaj put situacija je bilo ozbiljna kao nikada do tada . to je osetio i ban ninoslav pa se stoga pismima počeo direktno obraćati papi ubeđujući ga da je i dalje revni katolik i da nikada nije bio bogumil . po svemu sudeći to je bila i istina , a to su papi potvrdile i komisije koje je slao u bosnu . `` kako smo doznali , nije plemeniti gospodin ninoslav , ban bosanski , odstupio od prave vere , nego ivi kao katolik i opsluuje hrićanske propise , iako je nekada u nevolji dobio pomoć i naklonost jeretika protiv svojih neprijatelja . poto smo po nekim verodostojnim pismima , iako starim , dobili pohvalne potvrde o čistoći njegove vere , naređujemo ti , da dobro upamti , da se nadasve mora imati pred očima i postići spas due , da ne ustane protiv spomenutog bana i njegove zemlje , posebno sada ... '' , pie papa kaločkom nadbiskupu ( 1248. ) . time je za bosnu skinuta opasnost od novog ugarskog pohoda . sve to moglo bi se uslovno nazvati pobedom bana ninoslava budući da vie nije uznemiravan . ostatak svoga ivota on je proveo baveći se uglavnom unutranjim stvarima u bosni . sa susednom rakom nikada nije bio u dobrim odnosima , a to se posebno vidi iz ugovora koje je sklapao u dva navrata sa dubrovnikom ( 1240. i 1249. ) . u njima se on obavezuje da će pomoći dubrovnik `` ako se razratite s kraljem rakim , da vas ne dam ni va dobitek , .. '' . u vreme sklapanja ovih ugovora u rakoj je vladao kralj stefan vladislav i ( ugovor iz 1240 . ) i kralj stefan uro i ( ugovor iz 1249. ) . nedugo nakon sklapanja ovoga drugog ugovora ( 1249 . ) umro je i ban ninoslav . 2 . prvi kotromanići nakon smrti bana ninoslava počele su u bosni smutnje oko njegovog nasleđa . sam ninoslav je iza sebe ostavio dovoljno potomaka i rođaka , to daljih to bliih , da bi se između njih mogao izabrati dostojan naslednik . međutim , sada su se tu pojavile različite aspiracije . bogumili su hteli da bosnu preuzme neko ko će njima biti naklonjen , dok su ugari eleli za bana nekoga iz njihove interesne sfere . na kraju je u toj zbrci pobedu odneo ugarski kralj bela iv uspevi da naturi svoga kandidata . bio je to dalji ninoslavov rođak prijezda o kojem je već bilo govora . on je izgleda jedno vreme bio bogumil , ali se kasnije povratio u katoličku veru i bio čak jedan od revnijih progonitelja jeresi u bosni . kako mu je sin bio talac kod dominikanskih fratara , to se moe posredno izvući zaključak da njegovo ponovno pokatoličavanje nije bili toliko dobrovoljno koliko prisilno . jo u vreme krstakih ratova po bosni u vremenu između 1234-1239. godine pojavljuje se prijezda sa titulom bosanskog bana . to postavlja neka pitanja . naime , u vremenu kada je bosna pala pod vlast hercega kolomana , a kako je ban ninoslav izbegao , to se bosna smatrala zemljom bez vladara . moguće da je u to vreme koloman za bana postavio svoga čoveka , a to je bio upravo prijezda . kratko je trajalo njegovo prvo banovanje , jedva dve godine , jer se ninoslav , nakon ugarske katastrofe na reci aj , vratio u bosnu . kako se on tada strano svetio ugarskim pristalicama to je sigurno i sam prijezda bio u smrtnoj opasnosti , pa je verovatno izbegao u ugarsku . ovo drugo ustoličenje prijezde za bana bosne nije prolo bez trzavica . ninoslavovi sinovi , smatrajući da banska čast pripada njima , pruili su otpor koji je bio toliko jak da je kralj bela iv morao slati vojsku koja bi pomogla prijezdi da uzme vlast . da je bilo jakog otpora vidljivo je iz pisama koje je kralj bela iv slao papi i u kojima se naveliko ali da ga neprijatelji pritiskaju sa svih strana . no , na kraju je pobuna savladana , a prijezda je preuzeo vlast . osim bosne , tada je savladan i hum ( 1254. ) . nakon svega ugarski kralj odluči da bosnu podeli na dva dela . od porečja gornjega vrbasa i bosne formirao je banovinu bosnu gde su vladali banovi iz roda biveg bana ninoslava . drugi deo bosne je sačinjen od usore i soli gde je ugarski kralj direktno imenovao banove . to je bilo vreme formiranja banovina koje su trebale da tite granice ugarske . kralj bela iv je tada pokuao i da već postojeću mačvansku banovinu ojača time to ju je nakon smrti svoga zeta rostislava , koji je njome do tada upravljao , uzdigao na rang hercegovine ( vojvodine ) i njenom vladaru omogućio irenje uticaja na usoru i soli , a moguće čak i na bosnu . mačvanska banovina je time postala veoma jaka i njenim gospodarima je omogućavala da u narednim periodima gospodare bosnom , a ponekad sremom i braničevom . da je bila jaka vidi se iz toga to je herceg bela ( unuk kralja bele iv ) , kao gospodar mačvanske banovine , uspeo da 1268. godine slomi napad rakog kralja stefana uroa i i da ga čak u tim sukobima i zarobi . tokom 1270. godine umro je ugarski kralj bela iv , a nasledio ga je sin stevan v. u ratovima koje je tada vodio novi ugarski kralj poginuo je i mačvanski vojvoda bela ( 1272 . ) , a nedugo zatim umre i sam kralj stevan v. nasledio ga je desetogodinji sin ladislav iv kumanac ( 1272-1290 . ) , dok je regenstvo vrila kraljica-majka elizabeta . u to vreme kao bosanski ban spominje se neki ugarski velika stefan . to je bila pomalo čudna situacija budući da je i prijezda nosio istu titulu , ali po svemu sudeći tu vlast nije i vrio na teritoriji cele bosne i na neki način ta mu je titula bila samo `` prazna '' počast bez potpune sadrine . titulu bosanskog bana dobijali su kasnije jo neki ugarski velikai , a među njima i severinski ban , inače dvorski rizničar ( ban ugrin ) . ban prijezda se oko 1287. godine povukao sa vlasti i na svom imanju u zemljeniku provodio je svoje poslednje dane . ne zna se ta je moglo biti uzrokom njegovog povlačenja : starost ili je bio prisiljen ? imao je tri sina : prijezdu ii , stjepana i vuka . jedinu ćerku katarinu udao je u hrvatsku kuću babonića . vlast u bosni su podelila njegova dva sina i to tako da je stjepan vladao u istočnom delu bosne dok je prijezda ii vladao u zapadnom delu . po svemu sudeći bansku su čast delili , a to se vidi iz jednog papinog pisma gde se on obraća `` plemenitim muevima stjepanu i prijezdi , banovima bosne '' . u ugarskoj su se tada deavala velika unutranja previranja koja su imala kasnijeg odraza i na bosnu . kralj ladislav iv je odjednom počeo da vri reorganizaciju u dravi pa je tako mačvu , usoru i soli poverio svojoj majci elizabeti ( jelisaveti ) nazivajući je `` vojvotkinjom mačvansko-bosanskom '' ( 1280. ) . u to vreme ponovo se pojavio problem bogumila u bosni , ali kako kralj nije imao mnogo volje da se njima bavi to se sve zavrilo na dopisivanju sa papom . tokom 1284. godine kralj ladislav iv oduzima majci elizabeti upravu nad mačvanskom banovinom i preputa je muu svoje sestre kataline , bivem rakom kralju , stefanu dragutinu . sada je eks raki kralj vladao nad mačvom sa beogradom , usorom i soli , ali i nad nekim srpskim zemljama noseći naziv `` sremski kralj '' : `` i ustavi ode u oblast drave svoje , u zemlju zvanu mačva , koju mu je dao tast njegov kralj ugarski . tamo doavi sa enom svojom blagočastivom kraljicom katelinom i sa jednim delom vlastele svoje , ... '' ( danilo drugi ) . samim tim dobio je odlučujući uticaj nad onim delom bosne kojim su vladali ban prijezde i , a kasnije i njegovi sinovi . za razliku od svojih prethodnika dragutin je bio veoma revnostan u prekrtavanju bogumila . `` mnoge od jeretika bosanske zemlje obrati u hrićansku veru i krsti ih '' ( danilo drugi ) . taj njegov rad na prekrtavanju bogumila nije bio praćen nasiljem , tako da nije poznato da ih je on progonio . `` njegovom blagodaću koja sve daje , dođe u tu zemlju da je prosveti , i da narod , koji je bio u tami i mraku neznanja , po učenju boanskoga pisma privede ka svetlosti spasonosnoga ivota '' ( danilo drugi ) . negde tokom 1291. godine preao je i sam u katoličku veru . kako su dragutin i ban prijezda i bili smotreni političari to su ubrzo uvideli da im je jedini način za opstanak zajednička saradnja . ta se saradnja ubrzo zavrila rodbinskim vezama tako to je prijezdin sin , stjepan i oenio dragutinovu ćerku jelisavetu ( 1284. ) . ova rodbinska veza sigurno da je daleko vie godila stjepanu i negoli dragutinu . zahvaljujući ovoj enidbi doao je stjepan i u najblie rodbinske veze preko tate kataline ( ćerka ugarskog kralja bele iv ) sa ugarskom kraljevskom kućom , ali i sa napuljskom kraljevskom kućom budući da je belina druga ćerka , marija , bila udata za napuljskog kralja karla ii . te su se rodbinske veze jo vie razgranale kada je druga dragutinova ćerka , uroica ( ursa ) udata za moćnog hrvatskog bana pavla i ubića . naravno , tu je bila i rodbinska veza sa kraljevskom kućom nemanjića , preko tasta dragutina . ove rodbinske veze kasnije će da imaju velikog udela u unutranjim previranjima u ugarskoj , ali i mnogo kasnije kada se tvrtko i bude krunisao za kralja . dakle , bila je tu čitava zbrka rodbinskih veza sa arpadovićima , anuvincima , ubićima i nemanjićima . to je svakako razlog za kasnije legende o poreklu porodice kotromanić i o njihovom prezimenu . najpoznatija legenda je ona koju prezentira mavro orbin . po njemu , nakon smrti kulin bana , ugarski kralj je u bosnu poslao jednog svog velikaa , poreklom nemca , koji je imao zadatak da bosnu zauzme . on se zvao kotroman , a kako je bio vet ratnik to je uspeo veoma lako da obavi zadatak . za nagradu , kralj ga je postavio bosanskim banom . `` sada , kad je umro pomenuti kulin ban , kralj koji je u to vreme bio u ugarskoj odluči , iz ranije navedenih razloga , da zauzme bosansko kraljevstvo . zbog toga je poslao s vojskom jednog svog velikaa po imenu kotroman nemac , na glasu ratnika . kad je kotroman doao u bosnu i naao je bez gospodara , lako ju je zauzeo . da bi ga za to nagradio , kralj ga je imenovao banom bosne i hteo da se njegovi potomci večno smenjuju na tom poloaju . poto je porodica kotromana tokom vremena dobila veliko potomstvo , svi su se po kotromanu nazivali kotromanići '' ( mavro orbin ) . da je legenda uhvatila korena vidi se iz nekih dubrovačkih pisama gde se ban naziva `` cotrumano goto '' . danas se misli da kotromanići nisu stranog porekla i da potiču iz neke bosanske plemićke kuće , a da je ban prijezda i tek jedan od njenih pripadnika , nikako utemeljivač ove dinastije . to delimično potvrđuje i mavro orbin kada navodi da je : `` njihova porodica gotovo uvek vladala u bosni . nekad su to bili banovi , a nekad kneevi '' . od enidbe sa dragutinovom ćerkom potpao je ban stjepan i pod njegov uticaj i mnoge stvari koje je činio bile su plod dragutinove volje . da to nije moglo uvek izaći na dobro mogao se uveriti nakon smrti ugarskog kralja ladislava 1290. godine . kako kralj iza sebe nije ostavio dece to se postavilo pitanje naslednika ugarskog prestola . veoma brzo nakon ladislavljeve smrti krunisan je za kralja njegov blizak srodnik andrija iii mlečanin . međutim , kako je imao jaku opoziciju to su odmah počele i smutnje . kao najopasniji protivnik pojavio se napuljski kralj karlo ii ( pripadnik anujske dinastije ) , mu marije , inače sestre kralja ladislava , koji je za svoga sina karla martela zatraio ugarski presto arpadovića . ova je stranka bila veoma jaka pa je na kraju papa nikola iv krunisao karla martela za ugarskog kralja . uz ovu stranu tada su pristupili i najjači hrvatski velikai , bribirski knezovi ubići . u to vreme ovu kuću su sačinjavala tri brata : pavle i , juraj i mladen . kako je dragutinova ćerka ursula ( ursa ) bila udata za pavla ubića to je sasvim razumljivo da su dragutin i zet mu , ban stjepan i kotromanić , pristupili odmah uz ovu stranku . u tim političkim igrama karlo martel im je , ne bi li ih zadrao i dalje kao pristalice , svojim poveljama razdelio dobar deo hrvatske i bosne . da li su ubići dobili uz hrvatsku i bosnu , teko je reći , ali se zna da je dragutinov sin , vladislav , dobio skoro celu slavoniju . izgledalo je da ova stranka ima velike anse , ali tada iznenada umre karlo martel ( 1295. ) . međutim , napuljska kraljica marija dođe na ideju da na ugarski presto zasedne sin karla martela koji se zvao karlo robert ( njen unuk ) . u tom njenom naumu iz sve snage ju je pomagao i papa bonifacije viii koji je čak karla roberta , tada tek dvanaestogodinjeg dečaka , proglasio za ugarskog kralja ( 1297. ) . porodica ubić , imajući pod svojom vlaću hrvatsku proirivala je svoj uticaj eleći da i bosnu podvede pod svoju vlast . početkom 1299. godine pavle ubić se naziva `` gospodarom bosne '' ( dominus bosne ) , a u skladu sa tim , svome bratu mladenu i dodelio je titulu bana bosne . od tada su oni celu bosnu drali pod svojom kontrolom izuzev jednog dela koji se naziva donji krajevi i koje je drao knez hrvatin stjepanić . kako je knez hrvatin bio odan ubićima to su oni izvrili pritisak na napuljskog kralja karla ii roberta da mu izda povelju kojom potvrđuje njegovu vladavinu . `` imajući u vidu na čistoću vernosti , a i na druge korisne i primljene slube to su knez hrvatin i njegovi sinovi i braća , rođaci plemenitih pavla , bana hrvata , a i braće njegove jurja i mladena , knezova dalmatinskih gradova , ljubljeni i verni nai , nama činili i sada jo čine u poslu kraljevstva ugarske , potvrđujemo rečenome hrvatinu , sinovima i braći njegovoj donje krajeve zemlje bosanske koje sada dre i poseduju '' . sredinom 1300. godine uspeo je pavle ubić da karla ii roberta dovede u split , a onda kroz hrvatsku u zagreb . sada se već spremao rat jer andrija iii mlečanin nije imao nameru da tek tako prepusti krunu . međutim , iz nepoznatog razloga u sred priprema za rat umre kralj andrija iii . iako je ostao bez glavnog protivnika karlo robert je imao mnotvo protivnika u ugarskoj pa je sve do 1309. godine morao da vodi borbe sa njima . dok se sve to deavalo mladen ubić je pokuavao da celokupnu bosnu stavi pod svoju kontrolu . naravno da sve ovo ban stjepan i kotromanić nije mirno posmatrao i orujem se suprotstavio ovim aspiracijama ubića . no , bio je beznadeno slabiji i do 1302. godine mladen ubić je postigao dovoljno uspeha da stavi skoro celu bosnu pod svoju kontrolu . stjepan i kotromanić ipak nije bio poraen i odravao se na jednom manjem delu bosne . u to vreme tast dragutin mu nije mogao mnogo pomoći budući da se i sam teko upleo u borbe sa svojim bratom , rakim kraljem milutinom , u borbi oko nasledstva u rakoj . upravo u tim danima zaigrao je dragutin nemanjić veliku igru pokuavajući da svoga sina vladimira progura na ugarski presto . kako je vladislav bio oenjen konstancom morosini , koja je bila u rodu sa pokojnim kraljem andrijom iii , to je i vladislav imao isto onoliko prava na ugarski presto kao i karlo robert . to je bio jo jedan razlog zbog kojeg nije mogao da pomogne svome zetu . ipak i pored toga ban stjepan i kotromanić se drao sasvim dobro , a kada se rat pretvorio u verski jer je mladen ubić nasrnuo na bogumile , ovi svi listom pređu na stranu stjepana i kotromanića . takva mladenova neopreznost kotala ga je i ivota jer ga u jednom sukobu bogumili ubiju ( 1304 ) . nasledio ga je sin mladen ii ubić , ali on nije bio ličnost formata svoga oca . tek uz pomoć vojske koju mu je poslao pavle ubić uspeo je da slomi poslednji otpor . od 1305. godine naziva se pavle ubić `` gospodarem čitave bosne '' . no ni trijumf pavla ubić ne traje dugo jer i on 1312. godine umire . već razočarani ban stjepan i kotromanić je umro neto prije 1314. godine , dakle skoro istovremeno kada i njegov ljuti protivnik . iza sebe je ostavio tri sina : stjepana , vladislava i ninoslava . u to vreme niko od njih nije boravio u bosni , budući da su se morali pred navalom ubića , ali po svemu sudeći i unutranjeg nezadovoljstva , skloniti u dubrovnik . `` kada je , dakle , posle smrti pomenutog bana stjepana njegov najstariji sin stjepan , saglasno sa svojom braćom , hteo preuzeti upravu u bosni , ustali su protiv njega svi najistaknutiji velikai toga kraljevstva i nisu ga prihvatili . na ovo ih nije navelo nita drugo sem to to su videli da su on i njegova braća veoma pametni i vezani između sebe , pa su se jako pobojali da ne bi kojim putem unitili slobodu i ukinuli zakone bosne . kad je stjepan video razjarenost velikaa , smatrao je da je u tom času najpametnije da im popusti i da se prilagodi vremenu , te da čeka da mu bog poalje neku drugu priliku da povrati očinsku dravu . zato se povukao sa svojom majkom jelisavetom u dubrovnik '' ( mavro orbin ) . za to vreme mladen ii ubić , koji se sada nazivao `` mladen , knez zadra , princip dalmacije i drugi ban bosanski '' , nikako nije uspevao da odri svoju vlast na svim onim teritorijama koje je nasledio od pavla ubića . najpre mu je iz ruku iskliznuo zadar koji se 1313. godine prepustio veneciji . to kao da je bio znak za sve nezadovoljnike da se pobune protiv njegove vladavine . u retrospektivi gledano , upravo je pad zadra bio uvod i u konačni slom moći mladena ii ubića . nekako su svi tada bili u ljutim nevoljama . dok je kuća ubića naletala na sve vie neprijatelja , kotromanići su doiveli gubitak budući da im je ban stjepan i kotromanić umro ( 1314 . ) , a umro je i njegov dotadanji stalni zatitnik `` sremski kralj '' , dragutin nemanjić . `` bi prestavljenje ovoga preblaenoga meseca marta dvadeset drugi dan , treće nedelje svete četrdesetnice u petak , u čas deveti i tako se raziđoe svako svojoj kući , slaveći i sina i sv . duha , sada i uvek i na vekove vekova . amin '' ( danilo drugi ) . smrt dragutinova je bila znak za njegovog brata , rakog kralja milutina da sa svojim trupama uđe u mačvu i zauzme je za sebe , a da dragutinovog sina vladislava baci u tamnicu . osim toga , pokuao je milutin , da zauzme i hum , ali tu je naleteo na bana mladena ii ubića , koji je takođe mislio da hum pripada njemu . to se do kraja izrodilo u oruane sukobe , a vojna dejstva su se odvijala u blizini dubrovnika . samo vojevanje je ilo jako loe po mladena ii ubića pa je do kraja morao pristati da se izmiri sa rakim kraljem milutinom i da mu svoga brata , grgura ubića , poalje kao taoca . grgura ubića i ostale taoce poslao je kralj milutin u dubrovnik i tu su oni boravili sve dok mladen ii ubić nije ispunio ono to je bilo ugovoreno .\n",
      "\n",
      "si si si si si si si si si si si si si si si si si si si si si si si si si si si si si si si si si si si si si si si si si si si si si si si si si si si si si si si si si si si si si si si si si si si si si si si si si si si si si si si si si si si si si si si si si si si si si si si si si si si si si si si si si si si si si si si si si si si si si si si si si si si si si si si si si si si si si si si si si si si si si si si si si si si si si si si si si si si si si si si si si si si si si si si si si si si si si si si si si si si si si si si si si si si si si si si si si si si si si si si si si si si si si si si si si si si si si si si si si si si si si si si si si si si si si si si si si si si si si si si si si si si si si si si si si si si si si si si si si si si si si si si si si si si si si si si si si si si si si si si si si si si si si si si si si si si si si si si si si si si si si si si si si si si si si si si si si si si si si si si si si si si si si si si si si si si si si si si si si si si si si si si si si si si si si si si si si si si si si si si si si si si si si si si si si si si si si si si si si si si si si si si si si si si si si si si si si si si si si si si si\n",
      "\n",
      "was uns bleibt ( 1813 ) was uns bleibt , wenn deutschlands säulen brechen , wenn der götter stimme trügt , wenn der menschen wunden sich nicht rächen , wenn das heiligste vertrauen lügt , wenn umsonst die aufgeblitzte jugend um des vaterlandes kerker stürmt , und des volkes spartergleiche tugend fruchtlos leichen über leichen türmt ? was uns bleibt , wenn wir trotz unserm rechte knirschend vor dem falschen glücke stehn , und des wütrichs feile henkersknechte mordend durch der freiheit tempel gehn ? was uns bleibt , wenn unser blut vergebens auf des vaterlandes grab verraucht , und der freiheit stern , der stern des deutschen lebens , an dem deutschen himmel niedertaucht ? was uns bleibt ? rühmt nicht des wissens bronnen , nicht der künste friedensreichen strand ! für die knechte gibt es keine sonnen , und die kunst verlangt ein vaterland . aller götter stimmen sind verklungen vor dem jammerton der sklaverei , und homer , er hätte nie gesungen : doch sein griechenland war frei ! was uns bleibt ? - ein christliches ertragen wo des dulders feige träne taut ? soll ich selbst den altar mir zerschlagen , den ich mir im herzen aufgebaut ? soll ich das für gottes finger halten , wo der menschheit engel rache schreit ? wo die teufel teuflisch walten , das kann nur ein sieg der hölle sein . bleibt uns nichts ? - fliehn alle gute engel mit verwandtem angesicht ? brechen aller hoffnung blütenstengel , weil des sieges palme bricht ? kann der arm kein rettend kreuz umklammern in der höchsten , letzten not ? müssen wir verzweifeln und verjammern ? gibt es keine freiheit als den tod ? - - doch ! wir sehn 's im aufschwung unsrer jugend , in des ganzen volkes heldengeist . ja ! es gibt noch eine deutsche tugend , die allmächtig einst die ketten reißt . wenn auch jetzt in den bezwungnen hallen tyrannei der freiheit tempel bricht : deutsches volk , du konntest fallen , aber sinken kannst du nicht ! und noch lebt der hoffnung himmelsfunken . mutig vorwärts durch das falsche glück ! 's war ein stern ! jetzt ist er zwar versunken , doch der morgen bringt ihn uns zurück . 's war ein stern ! - die sterne bleiben . 's war der freiheit goldner stern ! laß die blut'gen wolken treiben ! der ist in der hut des herrn ! mag die hölle drohn und schnauben , der tyrann reicht nicht hinauf , kann dem himmel keine sterne rauben . unser stern geht auf ! ob die nacht die freud'ge jugend töte , für den willen gibt es keinen tod , und des blutes deutsche heldenröte jubelt von der freiheit morgenrot .\n",
      "\n",
      "die die die die die die die die die die die die die die die die die die die die die die die die die die die die die die die die die die die die die die die die die die die die die die die die die die die die die die die die die die die die die die die die die die die die die die die die die die die die die die die die die die die die die die die die die die die die die die die die die die die die die die die die die die die die die die die die die die die die die die die die die die die die die die die die die die die die die die die die die die die die die die die die die die die die die die die die die die die die die die die die die die die die die die die die die die die die die die die die die die die die die die die die die die die die die die die die die die die die die die die die die die die die die die die die die die die die die die die die die die die die die die die die die die die die die die die die die die die die die die die die die die die die die die die die die die die die die die die die die die die die die die die die die die die die die die die die die die die die die die die die die die die die die die die die die die die die die die die die die die die die die die die die die die die die die die die die die die die die die die die die die die die die die die die die die die die die die die die die die die die die die die die die die die die die die die die die\n",
      "\n",
      "przede wszystkim kolego , twoje zapytanie jest bezsensowne , bo jestem zobligowany do znania zagadnień i literatury , na której opierasz swoje stanowisko . nie twierdze , że mam wiedzę pozwalającą na prowadzenie opinij eksperta . jednak wydaje mi się , że bez znajomości tych dziel , jakiekolwiek działanie na korzyść ariańskich ludzi może przynieść tylko klęskę . dla mnie , dzieła te pokazują funkcje wojny w kontekście życia : rasy narodu społeczności regionu miasta wsi obozu rodziny ariana ariańskiego życia wewnętrznego . jeśli się nie mylę , to nie rozmawiamy tu o działaniach wojennych , żeby zagłębiać się w tajniki strategiczne , taktyczne , a także swoistej psychologii . nie rozmawiamy tu o działaniach wojennych , ale podstawowych życia społecznego arian , w których wojna jest niezmiernie małą częścią życia ludu . co chcemy to : odkryć , na nowo , wiedzę o życiu i prosperowaniu arian ulepszyć życie arian , na podstawie tych odkryć aby nasza rasa znowu mogła władać ziemią , od oceanu atlantyckiego po ocean spokojny . irracjonalne jest tworzenie ustroju , systemu praw , etc . w państwie , które w rzeczywistości już nie istnieje . myślę , że tu jesteś 100 % w błędzie . ten naród to ty i ja i miliony którzy nie mają pojęcia co się z ich życiem dzieje . ten naród ma elitę , czyli was . ten naród ma gospodarkę , czyli wszystko to , co produkuje rzeczy , które cię otaczają na co-dzień . w końcu , ten naród ma wojsko , tak potężne , że większość miast świata jest w czasie minut przed zniknięcia z powierzchni ziemi . czego nie ma to kontroli nad tymi dobrami przez elity ariańską ( czytaj polską , niemiecką , innych narodowości ) . a kontroli tej nie może być jak długo elita nie rozumie całego systemu rządzącego arianami . to rozumienie systemu pozwoli nam na wyselekcjonowanie ludzi spośród nas , którzy by nami rządzili . skoro jesteś takim znawca filozofii wojny , to powinieneś wiedzieć , że paktowanie powinno być podparte silnym i budzącym respekt wojskiem w tle . to wojsko istnieje . czego jest brak , to naszej kontroli nad nim . wojskiem , które w razie czego stanie na rogatkach granicznych , zamknie szlaki komunikacyjne i pozwoli wprowadzać zmiany i naprawy w kraju bez ingerencji z zew . ( unia , nato , i inni ) czy to politycznej , czy militarnej . problem nielegalnej emigracji czy wpływów żydów na życie arian nie jest problemem wojskowym . jest on problemem politycznym . problem żydowski nie jest spowodowany przez żydów , ale przez tych spośród arian którzy potrzebują pomoc żydów w prosperowaniu w społeczeństwie ariańskim . problem nielegalnej emigracji nie jest spowodowany przez nielegalnych emigrantów , ale przez tych spośród arian którzy potrzebują pomoc nielegalnych emigrantów w prosperowaniu w społeczności ariańskiej .\n",
      "\n",
      "quote : kaliningrad : zw . regermanisierung und tilsiter frieden kaliningrad . sie nimmt wieder einmal fahrt auf : die umbennungsdebatte . soll kaliningrad wieder königsberg heißen ? und sowjetsk demnächst wieder tilsit ? selbst gouverneur georgij boos diskutiert munter mit . an das bier der marke königsberg premium in kaliningrader supermarktregalen hat igor rewin sich mittlerweile wohl gewöhnt . auch den wodka der marke wostotschnaja prussija , zu deutsch `` ostpreußen '' , hat der chef der kommunistischen partei in russlands westlichster provinz sicher schon einmal probiert . möglicherweise hat er auch sogar kenigsbergskije klopsy auf dem teller gehabt im restaurant `` pritschal '' am oberteich . doch das war´s dann auch mit königsberg . wehe , ein halbwegs bekannter mensch der kaliningrader politik deutet in der öffentlichkeit eine vorsichtige annäherung an die einstigen ostpreußischen ortsnamen in der beuteprovinz an ! als felix lapin , geschäftsführender oberbürgermeister kaliningrads , im frühling dieses jahres gegenüber dem radiosender `` echo moskwy '' offen für eine rückbenennung der gebietshauptstadt in königsberg aussprach , trommelte rewin umgehend seine truppen in partei und medien zusammen . erst faltete ein vaterländisches zeitungsecho city-manager lapin so zusammen , dass der verschreckt von seiner `` privatmeinung '' sprach . kurz darauf gründete eine allianz aus kriegsveteranen , russisch-nationalen volkspatrioten und kommunisten ein `` komitee gegen die regermanisierung kaliningrads '' . igor rewin vorneweg . große historische bedeutung die öffentliche und kontroverse diskussion darüber , ob man den städten im gebiet kaliningrad , wenn ihre bewohner es denn wünschen , die historischen namen zurückgeben sollte , ist freilich längst teil der kaliningrader alltagskultur . jetzt hat sich auch gouverneur georgi boos zu wort gemeldet . nicht zum ersten mal , doch erstmal so deutlich . im gespräch mit dem radiosender `` echo moskwy '' , der zu einer art verlautbarungsorgan in der kaliningrader königsberg-debatte zu avancieren scheint , zeigte der gebietschef eine menge verständnis für die alten namen der ostpreußen-provinz . als beispiel nannte er sowjetsk , die zweitgrößte stadt des gebietes , das frühere tilsit . `` mit dem heutigen namen verbinden viele , vor allem die jüngeren einwohner der stadt keine tradition , keine positiven emotionen mehr . sowjetsk , die stadt der räte ? die sowjetunion ist längst vergangenheit . '' tilsit hingegen stehe für eine große historische bedeutung der stadt , auch in der russischen geschichte  durch den tilsiter frieden . vor diesem hintergrund , meint der gouverneur , sei zu verstehen , dass nicht wenige einwohner von sowjetsk dafür plädieren , der stadt ihren historischen namen zurückzugeben . `` und es ist nicht ausgeschlossen , dass dies früher oder später auch passieren wird . '' `` unsere geschichte , große geschichte '' insgesamt sei das thema ein schwieriges und auch schmerzhaftes , das könne angesichts seiner konsequenzen auch nicht anders sein , sagt boos . existenzrecht habe sowohl der heutige als auch der historische name eines ortes . `` städte wie gussew , gurjewsk , tschernjachowsk sind nach helden der sowjetarmee bekannt , sie führten die erstürmung dieser orte an . das ist unsere geschichte , große geschichte . aber man muss andererseits auch anerkennen , dass hinter den alten städtenamen kultur und tradition stehen . und die geschichte hatte auch ihre großen ereignisse , die den ort geprägt haben . eine entscheidung , wie die stadt nun zukünftig heißen soll , ist da naturgemäß schwierig . '' doch da ein kompromiss immer in der mitte liege , dürfe man die frage der umbenennung weder mit gewalt noch in großer eile entscheiden , meint georgij boos . und sie darf niemanden brechen . darum wäre ich auch dagegen , in dieser diskussion irgendetwas von oben anzuordnen . wenn die bewohner einer stadt es wollen , wenn sie so eine initiative gründen , dann muss es ein referendum geben , in dessen ergebnis sich zeigen wird , wie die stadt heißen soll . '' rechtlich wäre das sogar möglich , ohne gesetze zu ändern . gebietswahlleiter sergej lunjow , von amts wegen auch für die durchführung von bürgerentscheiden zuständig , sieht keine rechtlichen hindernisse für solche initiativen : '' es müssen sich mindestens zehn personen in einer solchen bewegung zusammenfinden , sie können ihr anliegen über den stadtrat oder eine partei einbringen und beantragen und dann unterstützerunterschriften sammeln . wenn mindestens fünf prozent der bevölkerung dafür sind , ist das referendum zulässig . '' soweit ist es gekommen im gebiet kaliningrad : der gebietswahlchef erörtert öffentlich das procedere von bürgerentscheiden , russischen orten die alten deutschen namen zurückzugeben . aber gibt es tatsächlich solche initiativen ? oder ist das alles nur theaterrummel von gebietsbeamten , die sich wichtig machen wollen ? sowjetsk oder tilsit ? fifty-fifty . am weitesten in dieser debatte ist sicherlich sowjetsk . hier erweisen nicht nur der örtliche radiosender ( tilsitskaja wolna ) , das städtische theater ( tilsit-teatr ) und das offizielle wappen der stadt dem alten namen die ehre ; seit drei jahren gibt es auch eine bürgerbewegung , die für die rückbenennung in tilsit wirbt . eine einheitliche meinung sieht bürgermeister viktor smilgin in der stadt allerdings nicht : `` es steht so fifty-fifty . die jugend ist sicher mehrheitlich für tilsit , bei den älteren überwiegt sowjetsk . '' es sei ganz offensichtlich , dass die bevölkerung für eine umbenennung noch nicht bereit sei , meint smilgin . `` natürlich , man könnte jetzt einen beschluss in den stadtrat einbringen und die leute vor vollendete tatsachen stellen . aber das wäre nicht richtig , und es wäre auch nicht gut . der name der stadt , das ist ausschließlich eine frage der einwohner , und man darf sie nicht überstimmen . die zeit ist einfach noch nicht reif , kann sein , wir kehren irgendwann zu dieser idee zurück . '' auch in den ostseestädten sind die alten namen längst wieder in mode  nur : umbenennen , das ist noch ein ganz anderes thema . das seebad selenogradsk etwa hat an den ortseingängen auf großen willkommens-plakaten auch das deutsche `` cranz '' darunter geschrieben . in swetlogrosk heißt ein hotel und ein restaurant nach dem alten `` rauschen '' . ein `` zurück in die zukunft '' steht hier freilich nicht zur debatte : `` der name swetlogorsk heißt übersetzt stadt des lichts , das ist eine gute bezeichnung , und so sind wir als kurbad heute auch in russland bekannt '' , sagt bürgermeister walerij tatschkow . `` natürlich , wenn die bewohner unserer stadt eine rückbenennung wollten , das wäre eine andere sache , aber so eine diskussion gibt es in swetlogorsk nicht . wir haben ja auch nicht eine so große historische bedeutung wie etwa tilsit oder friedland . '' kniefall vor den deutschen ? ob gussew-gumbinnen , tschernjachowsk-insterburg , prawdinsk-friedland oder bagrationowsk-preußisch eylau : entdecken lassen sich die einstigen namen mittlerweile vielerorts im einstigen ostpreußen . für rewin und seine genossen sind das `` kniefälle vor den deutschen '' , zeichen einer `` schleichenden '' germanisierung im gebiet kaliningrad : dieses stück fruchtbares baltikum ist uns von der sowjetmacht gegeben worden . und damit begann hier eine andere , unsere geschichte , welche man jetzt weiter schreiben muss , anstatt andauernd zurückzublicken . '' es gehe auch ihm nicht darum , die kulturhistorischen spuren der deutschen zu vergessen , beteuert der kommunistenchef . aber : `` wen sollen denn all diese umbenennungen beglücken , wenn nicht die deutschen ? will man auf diese weise wirklich investoren anlocken ? das wird nicht passieren . nein , wir müssen unsere geschichte leben , unsere feste feiern , unsere wirtschaft entwickeln . wir müssen nach vorn schauen und nicht in der vergangenheit leben . '' diplomatische zurückhaltung und die deutschen ? die halten sich in kaliningrad in dieser sensiblen debatte diplomatisch zurück . am deutlichsten tut das die gesandtschaft berlins in der einstigen hauptstadt ostpreußens . als aristide fenster , generalkonsul der bundesrepublik in kaliningrad , jüngst von einer gruppe junger journalisten aus dem ruhrgebiet gefragt wurde , was er denn von einer umbenennung der stadt in königsberg hielte , antwortete er wie wenige wochen zuvor altbundeskanzler gerhard schröder in kaliningrads technischer universität auf die frage eines russischen reporters : '' das ist einzig und allein sache der kaliningrader , eine russische angelegenheit . für welchen namen man sich entscheidet , wir werden es respektieren . '' kaliningrad : zw . regermanisierung und tilsiter frieden kaliningrad . sie nimmt wieder einmal fahrt auf : die umbennungsdebatte . soll kaliningrad wieder königsberg heißen ? und sowjetsk demnächst wieder tilsit ? selbst gouverneur georgij boos diskutiert munter mit . an das bier der marke königsberg premium in kaliningrader supermarktregalen hat igor rewin sich mittlerweile wohl gewöhnt . auch den wodka der marke wostotschnaja prussija , zu deutsch `` ostpreußen '' , hat der chef der kommunistischen partei in russlands westlichster provinz sicher schon einmal probiert . möglicherweise hat er auch sogar kenigsbergskije klopsy auf dem teller gehabt im restaurant `` pritschal '' am oberteich . doch das war´s dann auch mit königsberg . wehe , ein halbwegs bekannter mensch der kaliningrader politik deutet in der öffentlichkeit eine vorsichtige annäherung an die einstigen ostpreußischen ortsnamen in der beuteprovinz an ! als felix lapin , geschäftsführender oberbürgermeister kaliningrads , im frühling dieses jahres gegenüber dem radiosender `` echo moskwy '' offen für eine rückbenennung der gebietshauptstadt in königsberg aussprach , trommelte rewin umgehend seine truppen in partei und medien zusammen . erst faltete ein vaterländisches zeitungsecho city-manager lapin so zusammen , dass der verschreckt von seiner `` privatmeinung '' sprach . kurz darauf gründete eine allianz aus kriegsveteranen , russisch-nationalen volkspatrioten und kommunisten ein `` komitee gegen die regermanisierung kaliningrads '' . igor rewin vorneweg . große historische bedeutung die öffentliche und kontroverse diskussion darüber , ob man den städten im gebiet kaliningrad , wenn ihre bewohner es denn wünschen , die historischen namen zurückgeben sollte , ist freilich längst teil der kaliningrader alltagskultur . jetzt hat sich auch gouverneur georgi boos zu wort gemeldet . nicht zum ersten mal , doch erstmal so deutlich . im gespräch mit dem radiosender `` echo moskwy '' , der zu einer art verlautbarungsorgan in der kaliningrader königsberg-debatte zu avancieren scheint , zeigte der gebietschef eine menge verständnis für die alten namen der ostpreußen-provinz . als beispiel nannte er sowjetsk , die zweitgrößte stadt des gebietes , das frühere tilsit . `` mit dem heutigen namen verbinden viele , vor allem die jüngeren einwohner der stadt keine tradition , keine positiven emotionen mehr . sowjetsk , die stadt der räte ? die sowjetunion ist längst vergangenheit . '' tilsit hingegen stehe für eine große historische bedeutung der stadt , auch in der russischen geschichte  durch den tilsiter frieden . vor diesem hintergrund , meint der gouverneur , sei zu verstehen , dass nicht wenige einwohner von sowjetsk dafür plädieren , der stadt ihren historischen namen zurückzugeben . `` und es ist nicht ausgeschlossen , dass dies früher oder später auch passieren wird . '' `` unsere geschichte , große geschichte '' insgesamt sei das thema ein schwieriges und auch schmerzhaftes , das könne angesichts seiner konsequenzen auch nicht anders sein , sagt boos . existenzrecht habe sowohl der heutige als auch der historische name eines ortes . `` städte wie gussew , gurjewsk , tschernjachowsk sind nach helden der sowjetarmee bekannt , sie führten die erstürmung dieser orte an . das ist unsere geschichte , große geschichte . aber man muss andererseits auch anerkennen , dass hinter den alten städtenamen kultur und tradition stehen . und die geschichte hatte auch ihre großen ereignisse , die den ort geprägt haben . eine entscheidung , wie die stadt nun zukünftig heißen soll , ist da naturgemäß schwierig . '' doch da ein kompromiss immer in der mitte liege , dürfe man die frage der umbenennung weder mit gewalt noch in großer eile entscheiden , meint georgij boos . und sie darf niemanden brechen . darum wäre ich auch dagegen , in dieser diskussion irgendetwas von oben anzuordnen . wenn die bewohner einer stadt es wollen , wenn sie so eine initiative gründen , dann muss es ein referendum geben , in dessen ergebnis sich zeigen wird , wie die stadt heißen soll . '' rechtlich wäre das sogar möglich , ohne gesetze zu ändern . gebietswahlleiter sergej lunjow , von amts wegen auch für die durchführung von bürgerentscheiden zuständig , sieht keine rechtlichen hindernisse für solche initiativen : '' es müssen sich mindestens zehn personen in einer solchen bewegung zusammenfinden , sie können ihr anliegen über den stadtrat oder eine partei einbringen und beantragen und dann unterstützerunterschriften sammeln . wenn mindestens fünf prozent der bevölkerung dafür sind , ist das referendum zulässig . '' soweit ist es gekommen im gebiet kaliningrad : der gebietswahlchef erörtert öffentlich das procedere von bürgerentscheiden , russischen orten die alten deutschen namen zurückzugeben . aber gibt es tatsächlich solche initiativen ? oder ist das alles nur theaterrummel von gebietsbeamten , die sich wichtig machen wollen ? sowjetsk oder tilsit ? fifty-fifty . am weitesten in dieser debatte ist sicherlich sowjetsk . hier erweisen nicht nur der örtliche radiosender ( tilsitskaja wolna ) , das städtische theater ( tilsit-teatr ) und das offizielle wappen der stadt dem alten namen die ehre ; seit drei jahren gibt es auch eine bürgerbewegung , die für die rückbenennung in tilsit wirbt . eine einheitliche meinung sieht bürgermeister viktor smilgin in der stadt allerdings nicht : `` es steht so fifty-fifty . die jugend ist sicher mehrheitlich für tilsit , bei den älteren überwiegt sowjetsk . '' es sei ganz offensichtlich , dass die bevölkerung für eine umbenennung noch nicht bereit sei , meint smilgin . `` natürlich , man könnte jetzt einen beschluss in den stadtrat einbringen und die leute vor vollendete tatsachen stellen . aber das wäre nicht richtig , und es wäre auch nicht gut . der name der stadt , das ist ausschließlich eine frage der einwohner , und man darf sie nicht überstimmen . die zeit ist einfach noch nicht reif , kann sein , wir kehren irgendwann zu dieser idee zurück . '' auch in den ostseestädten sind die alten namen längst wieder in mode  nur : umbenennen , das ist noch ein ganz anderes thema . das seebad selenogradsk etwa hat an den ortseingängen auf großen willkommens-plakaten auch das deutsche `` cranz '' darunter geschrieben . in swetlogrosk heißt ein hotel und ein restaurant nach dem alten `` rauschen '' . ein `` zurück in die zukunft '' steht hier freilich nicht zur debatte : `` der name swetlogorsk heißt übersetzt stadt des lichts , das ist eine gute bezeichnung , und so sind wir als kurbad heute auch in russland bekannt '' , sagt bürgermeister walerij tatschkow . `` natürlich , wenn die bewohner unserer stadt eine rückbenennung wollten , das wäre eine andere sache , aber so eine diskussion gibt es in swetlogorsk nicht . wir haben ja auch nicht eine so große historische bedeutung wie etwa tilsit oder friedland . '' kniefall vor den deutschen ? ob gussew-gumbinnen , tschernjachowsk-insterburg , prawdinsk-friedland oder bagrationowsk-preußisch eylau : entdecken lassen sich die einstigen namen mittlerweile vielerorts im einstigen ostpreußen . für rewin und seine genossen sind das `` kniefälle vor den deutschen '' , zeichen einer `` schleichenden '' germanisierung im gebiet kaliningrad : dieses stück fruchtbares baltikum ist uns von der sowjetmacht gegeben worden . und damit begann hier eine andere , unsere geschichte , welche man jetzt weiter schreiben muss , anstatt andauernd zurückzublicken . '' es gehe auch ihm nicht darum , die kulturhistorischen spuren der deutschen zu vergessen , beteuert der kommunistenchef . aber : `` wen sollen denn all diese umbenennungen beglücken , wenn nicht die deutschen ? will man auf diese weise wirklich investoren anlocken ? das wird nicht passieren . nein , wir müssen unsere geschichte leben , unsere feste feiern , unsere wirtschaft entwickeln . wir müssen nach vorn schauen und nicht in der vergangenheit leben . '' diplomatische zurückhaltung und die deutschen ? die halten sich in kaliningrad in dieser sensiblen debatte diplomatisch zurück . am deutlichsten tut das die gesandtschaft berlins in der einstigen hauptstadt ostpreußens . als aristide fenster , generalkonsul der bundesrepublik in kaliningrad , jüngst von einer gruppe junger journalisten aus dem ruhrgebiet gefragt wurde , was er denn von einer umbenennung der stadt in königsberg hielte , antwortete er wie wenige wochen zuvor altbundeskanzler gerhard schröder in kaliningrads technischer universität auf die frage eines russischen reporters : '' das ist einzig und allein sache der kaliningrader , eine russische angelegenheit . für welchen namen man sich entscheidet , wir werden es respektieren . ''\n",
      "\n",
      "bist du blöd ? war eher drauf bezogen , `` ob du es nicht siehtst '' . sollen sie machen . je schneller sie sich weiter verschulden und die währung inflationieren desto besser . der deutsche michel geht erst auf die straße wenn es nichts mehr zu fressen gibt . wohl wahr ! welche gegenmaßnahmen man dagegen entwickeln kann . du wartest zu lange ! jetzt , ober besser vorgestern , ist zeit zum handeln . bitcoin , mal abwarten wie sich das entwickelt . und dass es wirklich bürgerkrieg gibt , glaube ich nicht . guck dir schweden an ... es werden ein paar viele schlimme sachen passieren , dann beschließt die regierung etwas mehr an die eu abzugeben , und so schleicht sich das dann noch ein paar jahre hin , bis es dann iwann heißt , useu . juncker „ wir beschließen etwas , stellen das dann in den raum und warten einige zeit ab , ob was passiert . wenn es dann kein großes geschrei gibt und keine aufstände , weil die meisten gar nicht begreifen , was da beschlossen wurde , dann machen wir weiter – schritt für schritt , bis es kein zurück mehr gibt. “ noch besser : „ nichts sollte in der öffentlichkeit geschehen . wir sollten in der euro-gruppe im geheimen diskutieren. “ zum wohle des euros macht einer seiner obersten hüter gern mal das licht aus : „ die dinge müssen geheim und im dunkeln getan werden “ , verriet der chef der euro-gruppe über die euro-krise einem verblüfften brüsseler publikum unlängst bei einer preisverleihung . und scheute auch nicht vor dem bekenntnis zurück : „ wenn es ernst wird , müssen wir lügen. “ 1:18min erinnerst du dich an den euro ? oder an irgendeine andere sache , die ( ( ( die ) ) ) einfach gemacht haben ? stuttgart21 ber ist scheißegal was der pöbel will , es wird gemacht wie sie es wollen ! bis nix mehr zu fressen da ist völlig richtig , problem ist nur , dass du ewig warten wirst bis das passiert ! nicht mehr warten !\n",
      "\n",
      "2/2 riechen wir noch nichts von der göttlichen verwesung ? - auch götter verwesen ! gott ist tot ! gott bleibt tot ! und wir haben ihn getötet ! wie trösten wir uns , die mörder aller mörder ? das heiligste und mächtigste , was die welt bisher besaß , es ist unter unseren messern verblutet , - wer wischt dies blut von uns ab ? mit welchem wasser könnten wir uns reinigen ? welche sühnfeiern , welche heiligen spiele werden wir erfinden müssen ? ist nicht die größe dieser tat zu groß für uns ? müssen wir nicht selber zu göttern werden , um nur ihrer würdig zu erscheinen ? es gab nie eine größere tat , - und wer nur immer nach uns geboren wird , gehört um dieser tat willen in eine höhere geschichte , als alle geschichte bisher war ! '' - hier schwieg der tolle mensch und sah wieder seine zuhörer an : auch sie schwiegen und blickten befremdet auf ihn . endlich warf er seine laterne auf den boden , dass sie in stücke sprang und erlosch . `` ich komme zu früh , sagte er dann , ich bin noch nicht an der zeit . dies ungeheure ereignis ist noch unterwegs und wandert , - es ist noch nicht bis zu den ohren der menschen gedrungen . blitz und donner brauchen zeit , das licht der gestirne braucht zeit , taten brauchen zeit , auch nachdem sie getan sind , um gesehen und gehört zu werden . diese tat ist ihnen immer noch ferner als die fernsten gestirne , - und doch haben sie dieselbe getan ! '' - man erzählt noch , dass der tolle mensch des selbigen tages in verschiedene kirchen eingedrungen sei und darin sein requiem aeternam deo angestimmt habe . hinausgeführt und zur rede gesetzt , habe er immer nur dies entgegnet : `` was sind denn diese kirchen noch , wenn sie nicht die grüfte und grabmäler gottes sind ? '' -\n",
      "\n",
      "richter sind ja sozusagen professionelle gutmenschen . gutmenschen teilen die welt in täter und opfer ein . täter sind die bösen , opfer die guten . was also tun mit leuten , die nicht opfer sein wollen ? gar die dreistigkeit besitzen , sich zu wehren ? dieser münchner richter ist kein spezieller fall , sondern vielmehr eine ikone des gutmenschen-zeitgeistes . es ist die gleiche geisteshaltung , die die deutschen zu israelhassern macht . warum fügen die juden sich nicht einfach in ihr opferschicksal ? wenn juden wehrlose opfer sind , am besten tot , haben wir sie doch so lieb ! der ärgste feind des gutmenschen ist noch nie der böse mensch gewesen . sein todfeind ist tatsächlich der gute mensch , der aber zugleich pragmatiker ist , der die natürlichen kompromisse in seinem gut-sein macht , die das leben , die wirklichkeit von jedem verlangt . es gibt kein absolutes gut-sein . das verlangt der gutmensch jedoch . jedenfalls von anderen . so sehr man die justiz der usa für gewisse auswüchse kritisieren oder gar belächeln mag , in der frage der notwehr ist sie meines erachtens mittig in der wirklichkeit und in der vernunft angesiedelt . hier ein sehr krasses beispiel , welches ausmaß an notwehrexzess in den usa noch straffrei ausgehen kann : man mag drüber streiten , ich finde den freispruch berechtigt . der überfallene hat sich nicht freiwillig oder fahrlässig in diese situation begeben . niemand kann von einem überfallenen `` gutes '' oder gar perfektes verhalten verlangen . niemand sollte über leute richten dürfen , die ohne eigenes dazutun dem tod ins auge gesehen haben und in sekundenschnelle existentielle entscheidungen für sich und andere treffen mußten . was ist zudem schlecht daran , wenn täter mit exzessiver notwehr rechnen müssen ? es kann zur abschreckung viel beitragen . richtig ist natürlich , daß solche fälle vor gericht aufgearbeitet werden .\n",
      "\n",
      "wos host du grod von mia gsagt du gstingada kloana saugrattler ? du woast fei scho dass i schon aus da grundi im hochzug bei de gebirgsjaga ois besta aussaganga bin , i war in am hauffa saugeheime raffareien mit de mohammedana und hob über 300 obgraglt , garantiert . i bin a drainierta untergrundkempfa und i bin da beste scharfschütz von da ganzn armee . du bist nix für mi ois a zui mera , i blos dir so prazis dei liachtal aus wie 's die welt no ned gseng hod , host me ? du glaubst du kanntst davokemma nachdem du sowas von mia gsogt host aufm internet ? da denkst nummoi drüba noch , oarschgsicht . grao wie mia redn ruaf i meine spionage-spezln im ganzn bayernland zsam , und dei ip werd grod im moment zruckverfoigt oiso richt di scho amoi her fürn sturm , du wurm . der sturm der wo des kloane ding ausradiert wos du rührselig lebn nennst . du bist aufgschmissn . kloana . i kon übaroi sei , ollawei , und i kon de auf mera wia siebnhundad artn dagragln , und des aloa mit meine handerln . i bin ned blos gübt im wirtshausraffa , sondern i hob a an zugriff auf des ganze arsenal von der freiwillign feiawehr von olching und i werd des ois hernemma damit dei gstingada hintan vom schena bayernland runtergspült werd , du kloana schoashauffn ! wenn du gwusst hätts wos dei kloana `` schlauer '' kommentar auf de runterreisst , dann hättst wahrscheinlich dei voisoachts maul ghoidn . aba du hosts ned kenna , du host dei mei aufreissn miassn , und jetzt zoist , du gottverdammta troddl . i scheiss an grant üba dir aus und du werst drin dasauffa . du bist komplett hi , klona\n",
      "\n",
      "wos host du grod von mia gsagt du gstingada kloana saugrattler ? du woast fei scho dass i schon aus da grundi im hochzug bei de gebirgsjaga ois besta aussaganga bin , i war in am hauffa saugeheime raffareien mit de mohammedana und hob über 300 obgraglt , garantiert . i bin a drainierta untergrundkempfa und i bin da beste scharfschütz von da ganzn armee . du bist nix für mi ois a zui mera , i blos dir so prazis dei liachtal aus wie 's die welt no ned gseng hod , host me ? du glaubst du kanntst davokemma nachdem du sowas von mia gsogt host aufm internet ? da denkst nummoi drüba noch , oarschgsicht . grao wie mia redn ruaf i meine spionage-spezln im ganzn bayernland zsam , und dei ip werd grod im moment zruckverfoigt oiso richt di scho amoi her fürn sturm , du wurm . der sturm der wo des kloane ding ausradiert wos du rührselig lebn nennst . du bist aufgschmissn . kloana . i kon übaroi sei , ollawei , und i kon de auf mera wia siebnhundad artn dagragln , und des aloa mit meine handerln . i bin ned blos gübt im wirtshausraffa , sondern i hob a an zugriff auf des ganze arsenal von der freiwillign feiawehr von olching und i werd des ois hernemma damit dei gstingada hintan vom schena bayernland runtergspült werd , du kloana schoashauffn ! wenn du gwusst hätts wos dei kloana `` schlauer '' kommentar auf de runterreisst , dann hättst wahrscheinlich dei voisoachts maul ghoidn . aba du hosts ned kenna , du host dei mei aufreissn miassn , und jetzt zoist , du gottverdammta troddl . i scheiss an grant üba dir aus und du werst drin dasauffa . du bist komplett hi , klona\n",
      "\n",
      "wos host du grod von mia gsagt du gstingada kloana saugrattler ? du woast fei scho dass i schon aus da grundi im hochzug bei de gebirgsjaga ois besta aussaganga bin , i war in am hauffa saugeheime raffareien mit de mohammedana und hob über 300 obgraglt , garantiert . i bin a drainierta untergrundkempfa und i bin da beste scharfschütz von da ganzn armee . du bist nix für mi ois a zui mera , i blos dir so prazis dei liachtal aus wie 's die welt no ned gseng hod , host me ? du glaubst du kanntst davokemma nachdem du sowas von mia gsogt host aufm internet ? da denkst nummoi drüba noch , oarschgsicht . grao wie mia redn ruaf i meine spionage-spezln im ganzn bayernland zsam , und dei ip werd grod im moment zruckverfoigt oiso richt di scho amoi her fürn sturm , du wurm . der sturm der wo des kloane ding ausradiert wos du rührselig lebn nennst . du bist aufgschmissn . kloana . i kon übaroi sei , ollawei , und i kon de auf mera wia siebnhundad artn dagragln , und des aloa mit meine handerln . i bin ned blos gübt im wirtshausraffa , sondern i hob a an zugriff auf des ganze arsenal von der freiwillign feiawehr von olching und i werd des ois hernemma damit dei gstingada hintan vom schena bayernland runtergspült werd , du kloana schoashauffn ! wenn du gwusst hätts wos dei kloana `` schlauer '' kommentar auf de runterreisst , dann hättst wahrscheinlich dei voisoachts maul ghoidn . aba du hosts ned kenna , du host dei mei aufreissn miassn , und jetzt zoist , du gottverdammta troddl . i scheiss an grant üba dir aus und du werst drin dasauffa . du bist komplett hi , klona\n",
      "\n",
      "wos host du grod von mia gsagt du gstingada kloana saugrattler ? du woast fei scho dass i schon aus da grundi im hochzug bei de gebirgsjaga ois besta aussaganga bin , i war in am hauffa saugeheime raffareien mit de mohammedana und hob über 300 obgraglt , garantiert . i bin a drainierta untergrundkempfa und i bin da beste scharfschütz von da ganzn armee . du bist nix für mi ois a zui mera , i blos dir so prazis dei liachtal aus wie 's die welt no ned gseng hod , host me ? du glaubst du kanntst davokemma nachdem du sowas von mia gsogt host aufm internet ? da denkst nummoi drüba noch , oarschgsicht . grao wie mia redn ruaf i meine spionage-spezln im ganzn bayernland zsam , und dei ip werd grod im moment zruckverfoigt oiso richt di scho amoi her fürn sturm , du wurm . der sturm der wo des kloane ding ausradiert wos du rührselig lebn nennst . du bist aufgschmissn . kloana . i kon übaroi sei , ollawei , und i kon de auf mera wia siebnhundad artn dagragln , und des aloa mit meine handerln . i bin ned blos gübt im wirtshausraffa , sondern i hob a an zugriff auf des ganze arsenal von der freiwillign feiawehr von olching und i werd des ois hernemma damit dei gstingada hintan vom schena bayernland runtergspült werd , du kloana schoashauffn ! wenn du gwusst hätts wos dei kloana `` schlauer '' kommentar auf de runterreisst , dann hättst wahrscheinlich dei voisoachts maul ghoidn . aba du hosts ned kenna , du host dei mei aufreissn miassn , und jetzt zoist , du gottverdammta troddl . i scheiss an grant üba dir aus und du werst drin dasauffa . du bist komplett hi , klona\n",
      "\n",
      "wos host du grod von mia gsagt du gstingada kloana saugrattler ? du woast fei scho dass i schon aus da grundi im hochzug bei de gebirgsjaga ois besta aussaganga bin , i war in am hauffa saugeheime raffareien mit de mohammedana und hob über 300 obgraglt , garantiert . i bin a drainierta untergrundkempfa und i bin da beste scharfschütz von da ganzn armee . du bist nix für mi ois a zui mera , i blos dir so prazis dei liachtal aus wie 's die welt no ned gseng hod , host me ? du glaubst du kanntst davokemma nachdem du sowas von mia gsogt host aufm internet ? da denkst nummoi drüba noch , oarschgsicht . grao wie mia redn ruaf i meine spionage-spezln im ganzn bayernland zsam , und dei ip werd grod im moment zruckverfoigt oiso richt di scho amoi her fürn sturm , du wurm . der sturm der wo des kloane ding ausradiert wos du rührselig lebn nennst . du bist aufgschmissn . kloana . i kon übaroi sei , ollawei , und i kon de auf mera wia siebnhundad artn dagragln , und des aloa mit meine handerln . i bin ned blos gübt im wirtshausraffa , sondern i hob a an zugriff auf des ganze arsenal von der freiwillign feiawehr von olching und i werd des ois hernemma damit dei gstingada hintan vom schena bayernland runtergspült werd , du kloana schoashauffn ! wenn du gwusst hätts wos dei kloana `` schlauer '' kommentar auf de runterreisst , dann hättst wahrscheinlich dei voisoachts maul ghoidn . aba du hosts ned kenna , du host dei mei aufreissn miassn , und jetzt zoist , du gottverdammta troddl . i scheiss an grant üba dir aus und du werst drin dasauffa . du bist komplett hi , klona\n",
      "\n",
      "wos host du grod von mia gsagt du gstingada kloana saugrattler ? du woast fei scho dass i schon aus da grundi im hochzug bei de gebirgsjaga ois besta aussaganga bin , i war in am hauffa saugeheime raffareien mit de mohammedana und hob über 300 obgraglt , garantiert . i bin a drainierta untergrundkempfa und i bin da beste scharfschütz von da ganzn armee . du bist nix für mi ois a zui mera , i blos dir so prazis dei liachtal aus wie 's die welt no ned gseng hod , host me ? du glaubst du kanntst davokemma nachdem du sowas von mia gsogt host aufm internet ? da denkst nummoi drüba noch , oarschgsicht . grao wie mia redn ruaf i meine spionage-spezln im ganzn bayernland zsam , und dei ip werd grod im moment zruckverfoigt oiso richt di scho amoi her fürn sturm , du wurm . der sturm der wo des kloane ding ausradiert wos du rührselig lebn nennst . du bist aufgschmissn . kloana . i kon übaroi sei , ollawei , und i kon de auf mera wia siebnhundad artn dagragln , und des aloa mit meine handerln . i bin ned blos gübt im wirtshausraffa , sondern i hob a an zugriff auf des ganze arsenal von der freiwillign feiawehr von olching und i werd des ois hernemma damit dei gstingada hintan vom schena bayernland runtergspült werd , du kloana schoashauffn ! wenn du gwusst hätts wos dei kloana `` schlauer '' kommentar auf de runterreisst , dann hättst wahrscheinlich dei voisoachts maul ghoidn . aba du hosts ned kenna , du host dei mei aufreissn miassn , und jetzt zoist , du gottverdammta troddl . i scheiss an grant üba dir aus und du werst drin dasauffa . du bist komplett hi , klona\n",
      "\n",
      "wos host du grod von mia gsagt du gstingada kloana saugrattler ? du woast fei scho dass i schon aus da grundi im hochzug bei de gebirgsjaga ois besta aussaganga bin , i war in am hauffa saugeheime raffareien mit de mohammedana und hob über 300 obgraglt , garantiert . i bin a drainierta untergrundkempfa und i bin da beste scharfschütz von da ganzn armee . du bist nix für mi ois a zui mera , i blos dir so prazis dei liachtal aus wie 's die welt no ned gseng hod , host me ? du glaubst du kanntst davokemma nachdem du sowas von mia gsogt host aufm internet ? da denkst nummoi drüba noch , oarschgsicht . grao wie mia redn ruaf i meine spionage-spezln im ganzn bayernland zsam , und dei ip werd grod im moment zruckverfoigt oiso richt di scho amoi her fürn sturm , du wurm . der sturm der wo des kloane ding ausradiert wos du rührselig lebn nennst . du bist aufgschmissn . kloana . i kon übaroi sei , ollawei , und i kon de auf mera wia siebnhundad artn dagragln , und des aloa mit meine handerln . i bin ned blos gübt im wirtshausraffa , sondern i hob a an zugriff auf des ganze arsenal von der freiwillign feiawehr von olching und i werd des ois hernemma damit dei gstingada hintan vom schena bayernland runtergspült werd , du kloana schoashauffn ! wenn du gwusst hätts wos dei kloana `` schlauer '' kommentar auf de runterreisst , dann hättst wahrscheinlich dei voisoachts maul ghoidn . aba du hosts ned kenna , du host dei mei aufreissn miassn , und jetzt zoist , du gottverdammta troddl . i scheiss an grant üba dir aus und du werst drin dasauffa . du bist komplett hi , klona\n",
      "\n",
      "wos host du grod von mia gsagt du gstingada kloana saugrattler ? du woast fei scho dass i schon aus da grundi im hochzug bei de gebirgsjaga ois besta aussaganga bin , i war in am hauffa saugeheime raffareien mit de mohammedana und hob über 300 obgraglt , garantiert . i bin a drainierta untergrundkempfa und i bin da beste scharfschütz von da ganzn armee . du bist nix für mi ois a zui mera , i blos dir so prazis dei liachtal aus wie 's die welt no ned gseng hod , host me ? du glaubst du kanntst davokemma nachdem du sowas von mia gsogt host aufm internet ? da denkst nummoi drüba noch , oarschgsicht . grao wie mia redn ruaf i meine spionage-spezln im ganzn bayernland zsam , und dei ip werd grod im moment zruckverfoigt oiso richt di scho amoi her fürn sturm , du wurm . der sturm der wo des kloane ding ausradiert wos du rührselig lebn nennst . du bist aufgschmissn . kloana . i kon übaroi sei , ollawei , und i kon de auf mera wia siebnhundad artn dagragln , und des aloa mit meine handerln . i bin ned blos gübt im wirtshausraffa , sondern i hob a an zugriff auf des ganze arsenal von der freiwillign feiawehr von olching und i werd des ois hernemma damit dei gstingada hintan vom schena bayernland runtergspült werd , du kloana schoashauffn ! wenn du gwusst hätts wos dei kloana `` schlauer '' kommentar auf de runterreisst , dann hättst wahrscheinlich dei voisoachts maul ghoidn . aba du hosts ned kenna , du host dei mei aufreissn miassn , und jetzt zoist , du gottverdammta troddl . i scheiss an grant üba dir aus und du werst drin dasauffa . du bist komplett hi , klona .\n",
      "\n",
      "wos host du grod von mia gsagt du gstingada kloana saugrattler ? du woast fei scho dass i schon aus da grundi im hochzug bei de gebirgsjaga ois besta aussaganga bin , i war in am hauffa saugeheime raffareien mit de mohammedana und hob über 300 obgraglt , garantiert . i bin a drainierta untergrundkempfa und i bin da beste scharfschütz von da ganzn armee . du bist nix für mi ois a zui mera , i blos dir so prazis dei liachtal aus wie 's die welt no ned gseng hod , host me ? du glaubst du kanntst davokemma nachdem du sowas von mia gsogt host aufm internet ? da denkst nummoi drüba noch , oarschgsicht . grao wie mia redn ruaf i meine spionage-spezln im ganzn bayernland zsam , und dei ip werd grod im moment zruckverfoigt oiso richt di scho amoi her fürn sturm , du wurm . der sturm der wo des kloane ding ausradiert wos du rührselig lebn nennst . du bist aufgschmissn . kloana . i kon übaroi sei , ollawei , und i kon de auf mera wia siebnhundad artn dagragln , und des aloa mit meine handerln . i bin ned blos gübt im wirtshausraffa , sondern i hob a an zugriff auf des ganze arsenal von der freiwillign feiawehr von olching und i werd des ois hernemma damit dei gstingada hintan vom schena bayernland runtergspült werd , du kloana schoashauffn ! wenn du gwusst hätts wos dei kloana `` schlauer '' kommentar auf de runterreisst , dann hättst wahrscheinlich dei voisoachts maul ghoidn . aba du hosts ned kenna , du host dei mei aufreissn miassn , und jetzt zoist , du gottverdammta troddl . i scheiss an grant üba dir aus und du werst drin dasauffa . du bist komplett hi , klona !\n",
      "\n",
      "wos host du grod von mia gsagt du gstingada kloana saugrattler ? du woast fei scho dass i schon aus da grundi im hochzug bei de gebirgsjaga ois besta aussaganga bin , i war in am hauffa saugeheime raffareien mit de mohammedana und hob über 300 obgraglt , garantiert . i bin a drainierta untergrundkempfa und i bin da beste scharfschütz von da ganzn armee . du bist nix für mi ois a zui mera , i blos dir so prazis dei liachtal aus wie 's die welt no ned gseng hod , host me ? du glaubst du kanntst davokemma nachdem du sowas von mia gsogt host aufm internet ? da denkst nummoi drüba noch , oarschgsicht . grao wie mia redn ruaf i meine spionage-spezln im ganzn bayernland zsam , und dei ip werd grod im moment zruckverfoigt oiso richt di scho amoi her fürn sturm , du wurm . der sturm der wo des kloane ding ausradiert wos du rührselig lebn nennst . du bist aufgschmissn . kloana . i kon übaroi sei , ollawei , und i kon de auf mera wia siebnhundad artn dagragln , und des aloa mit meine handerln . i bin ned blos gübt im wirtshausraffa , sondern i hob a an zugriff auf des ganze arsenal von der freiwillign feiawehr von olching und i werd des ois hernemma damit dei gstingada hintan vom schena bayernland runtergspült werd , du kloana schoashauffn ! wenn du gwusst hätts wos dei kloana `` schlauer '' kommentar auf de runterreisst , dann hättst wahrscheinlich dei voisoachts maul ghoidn . aba du hosts ned kenna , du host dei mei aufreissn miassn , und jetzt zoist , du gottverdammta troddl . i scheiss an grant üba dir aus und du werst drin dasauffa . du bist komplett hi , klona\n",
      "\n",
      "------------------ SAMPLE OF TOPIC 5 DOCUMENTS ----------------------\n",
      "obligatory\n",
      "\n",
      "um ..... reality ? go back to worlstar , hunny .\n",
      "\n",
      "not winning , but they wil gett into the parlament\n",
      "\n",
      "ah ok aber trotzdem was sie sagen ist richtig und in diese richtung sollte afd gehen wenn sie regieren\n",
      "\n",
      "grüne in glorious bavaria more than double as high as in shitty shithole nrw kek , bavaria is so overrated .\n",
      "\n",
      "sieg reil ?\n",
      "\n",
      "chcesz mnie poznać baby ? potańczyć ze mną maybe ? chcesz coś do gęby ? dziecko kup se batonik i weź go słodka suzy , uważaj bo cię pobrudzi brudny styl rysia , niegrzecznego co marudzi odjechana widzi we mnie tarkana , a bakterii bliżej jest do miastowego chama który na kolana nie upadnie przed byle kim chcesz być jak ten vip proces ten jest daleki ostudź się weź leki , zamsz ten koszmar z powieki uwierz weź cos do ummm… niech to cię rozpierdzieli i żebyście wiedzieli że codziennie mam tak prawie bez kokieterii musze być jak ten skurwiel który w oczach innych może się okazać durniem ze śmiertelną powagą być gentelman jak rumago chcesz stać przede mną nago , dla mnie być smaczną potrawą no klawo jak cholera , z tego nie będzie miłości może być tylko afera jesteś słodka lecz spadaj , o patrz tam znajdziesz frajera który nawet nie przebiera , podbija kija wbija , mówi nara się wybija ty chcesz śmietankę spijać , kobieto samotna czego warta jest ta chwila ? kobieto samotna czego warta jest ta chwila ? ref . znów mi się to przyśni , to ja i brudne myśli zatruwają umysł , burza mózgów w łbie czystki zakosztować w tym wszystkim , przybić piątkę rozpuście a potem usłyszeć skurwysynu oszuście to brudne myśli , ile strat ile korzyści zastanawiasz się po wszystkim pasuje ci styl nastii ja chciałbym pozostać tylko w sferze fantazji brudnych myśli poważnych nigdy w życiu nie ujawnić nie wiesz jak jest ciężko gdy jaram się jak dziecko uśmiecham zdradziecko , brudne myśli trują umysł faceci tracą rozumy , to nie powód do dumy i świadomość , że ta chciwość , na szybki sex prawdziwość\n",
      "\n",
      "ziemlich sicher .\n",
      "\n",
      "der versuch afd als atommüll zu bezeichnen . ayyy lmao\n",
      "\n",
      "wo bist du , huppendorfer trinkender mcdonalds anon ? ? ? ? ? ? ? ? ? ? ? ? ? ? ? ? ? ? ? ? ? ? ? ? ? ? ? ? ? ? ? ? ? ? ? ? ? ? ? ?\n",
      "\n",
      "ist alle oke , lieber kotmann , wir wählen sie vollkommen egal was passiert .\n",
      "\n",
      "hallo , meine name ist reinards und ich lerne deutsch seit zwei monaten\n",
      "\n",
      "in berlin ist sonntag eine beschädigte oberleitung auf einem fernbahngleis festgestellt worden . offenbar ein anschlag auf die deutsche bahn . nach b.z.-informationen wurden in der nähe flugblätter und eine isis-flagge gefunden . part & parcel i guess .\n",
      "\n",
      "i only remember `` die partei hat immer recht '' . helmut kohl 's cdu was n't much of an improvement . german conservatism died with adenauer , kiesinger and strauß .\n",
      "\n",
      "grüne 20 % what 's wrong with germans ?\n",
      "\n",
      "würde davon abraten , explizit vokabular zu nutzen , welches in verbindung mit der afd steht . du willst eine sanfte rotpillerei , keine haudraufrhetorik .\n",
      "\n",
      "nich ' soviel raspail lesen , anon\n",
      "\n",
      "irre\n",
      "\n",
      "guten nacht , lithuaniabro ~_^\n",
      "\n",
      "austrian flag with a sunburn arbeit macht frei ; )\n",
      "\n",
      "************* TOPIC 17 *************************\n",
      "years 10 000 year pic old 20 related million rt\n",
      "\n",
      "------------------ TOP TOPIC 17 DOCUMENTS ----------------------\n",
      "10 10 10 10 10 10 10 10 10 10 10 10 10 10 10 10 10 10 10 10 10 10 10 10 10 10 10 10 10 10 10 10 10 10 10 10 10 10 10 10 10 10 10 10 10 10 10 10 10 10 10 10 10 10 10 10 10 10 10 10 10 10 10 10 10 10 10 10 10 10 10 10 10 10 10 10 10 10 10 10 10 10 10 10 10 10 10 10 10 10 10 10 10 10 10 10 10 10 10 10 10 10 10 10 10 10 10 10 10 10 10 10 10 10 10 10 10 10 10 10 10 10 10 10 10 10 10 10 10 10 10 10 10 10 10 10 10 10 10 10 10 10 10 10 10 10 10 10 10 10 10 10 10 10 10 10 10 10 10 10 10 10 10 10 10 10 10 10 10 10 10 10 10 10 10 10 10 10 10 10 10 10 10 10 10 10 10 10 10 10 10 10 10 10 10 10 10 10 10 10 10 10 10 10 10 10 10 10 10 10 10 10 10 10 10 10 10 10 10 10 10 10 10 10 10 10 10 10 10 10 10 10 10 10 10 10 10 10 10 10 10 10 10 10 10 10 10 10 10 10 10 10 10 10 10 10 10 10 10 10 10 10 10 10 10 10 10 10 10 10 10 10 10 10 10 10 10 10 10 10 10 10 10 10 10 10 10 10 10 10 10 10 10 10 10 10 10 10 10 10 10 10 10 10 10 10 10 10 10 10 10 10 10 10 10 10 10 10 10 10 10 10 10 10 10 10 10 10 10 10 10 10 10 10 10 10 10 10 10 10 10 10 10 10 10 10 10 10 10 10 10 10 10 10 10 10 10 10 10 10 10 10 10 10 10 10 10 10 10 10 10 10 10 10 10 10 10 10 10 10 10 10 10 10 10 10 10 10 10 10 10 10 10 10 10 10 10 10 10 10 10 10 10 10 10 10 10 10 10 10 10 10 10 10 10 10 10 10 10 10 10 10 10 10 10 10 10 10 10 10 10 10 10 10 10 10 10 10 10 10 10 10 10 10 10 10 10 10 10 10 10 10 10 10 10 10 10 10 10 10 10 10 10 10 10 10 10 10 10 10 10 10 10 10 10 10 10 10 10 10 10 10 10 10 10 10 10 10 10 10 10 10 10 10 10 10 10 10 10 10 10 10 10 10 10 10 10 10 10 10 10 10 10 10 10 10 10 10 10 10 10 10 10 10 10 10 10 10 10 10 10 10 10 10 10 10 10 10 10 10 10 10 10 10 10 10 10 10 10 10 10 10 10 10 10 10 10 10 10 10 10 10 10 10 10 10 10 10 10 10 10 10 10 10 10 10 10 10 10 10 10 10 10 10 10 10 10 10 10 10 10 10 10 10 10 10 10 10 10 10 10 10 10 10 10 10 10 10 10 10 10 10 10 10 10 10 10 10 10 10 10 10 10 10 10 10 10 10 10 10 10 10 10 10 10 10 10 10 10 10 10 10 10 10 10 10 10 10 10 10 10 10 10 10 10 10 10 10 10 10 10 10 10 10 10 10 10\n",
      "\n",
      "10 10 10 10 10 10 10 10 10 10 10 10 10 10 10 10 10 10 10 10 10 10 10 10 10 10 10 10 10 10 10 10 10 10 10 10 10 10 10 10 10 10 10 10 10 10 10 10 10 10 10 10 10 10 10 10 10 10 10 10 10 10 10 10 10 10 10 10 10 10 10 10 10 10 10 10 10 10 10 10 10 10 10 10 10 10 10 10 10 10 10 10 10 10 10 10 10 10 10 10 10 10 10 10 10 10 10 10 10 10 10 10 10 10 10 10 10 10 10 10 10 10 10 10 10 10 10 10 10 10 10 10 10 10 10 10 10 10 10 10 10 10 10 10 10 10 10 10 10 10 10 10 10 10 10 10 10 10 10 10 10 10 10 10 10 10 10 10 10 10 10 10 10 10 10 10 10 10 10 10 10 10 10 10 10 10 10 10 10 10 10 10 10 10 10 10 10 10 10 10 10 10 10 10 10 10 10 10 10 10 10 10 10 10 10 10 10 10 10 10 10 10 10 10 10 10 10 10 10 10 10 10 10 10 10 10 10 10 10 10 10 10 10 10 10 10 10 10 10 10 10 10 10 10 10 10 10 10 10 10 10 10 10 10 10 10 10 10 10 10 10 10 10 10 10 10 10 10 10 10 10 10 10 10 10 10 10 10 10 10 10 10 10 10 10 10 10 10 10 10 10 10 10 10 10 10 10 10 10 10 10 10 10 10 10 10 10 10 10 10 10 10 10 10 10 10 10 10 10 10 10 10 10 10 10 10 10 10 10 10 10 10 10 10 10 10 10 10 10 10 10 10 10 10 10 10 10 10 10 10 10 10 10 10 10 10 10 10 10 10 10 10 10 10 10 10 10 10 10 10 10 10 10 10 10 10 10 10 10 10 10 10 10 10 10 10 10 10 10 10 10 10 10 10 10 10 10 10 10 10 10 10 10 10 10 10 10 10 10 10 10 10 10 10 10 10 10 10 10 10 10 10 10 10 10 10 10 10 10 10 10 10 10 10 10 10 10 10 10 10 10 10 10 10 10 10 10 10 10 10 10 10 10 10 10 10 10 10 10 10 10 10 10 10 10 10 10 10 10 10 10 10 10 10 10 10 10 10 10 10 10 10 10 10 10 10 10 10 10 10 10 10 10 10 10 10 10 10 10 10 10 10 10 10 10 10 10 10 10 10 10 10 10 10 10 10 10 10 10 10 10 10 10 10 10 10 10 10 10 10 10 10 10 10 10 10 10 10 10 10 10 10 10 10 10 10 10 10 10 10 10 10 10 10 10 10 10 10 10 10 10 10 10 10 10 10 10 10 10 10 10 10 10 10 10 10 10 10 10 10 10 10 10 10 10 10 10 10 10 10 10 10 10 10 10 10 10 10 10 10 10 10 10 10 10 10 10 10 10 10 10 10 10 10 10 10 10 10 10 10 10 10 10 10 10 10 10 10 10 10 10 10 10 10 10 10 10 10 10 10 10 10 10 10 10 10 10 10 10 10\n",
      "\n",
      "10 10 10 10 10 10 10 10 10 10 10 10 10 10 10 10 10 10 10 10 10 10 10 10 10 10 10 10 10 10 10 10 10 10 10 10 10 10 10 10 10 10 10 10 10 10 10 10 10 10 10 10 10 10 10 10 10 10 10 10 10 10 10 10 10 10 10 10 10 10 10 10 10 10 10 10 10 10 10 10 10 10 10 10 10 10 10 10 10 10 10 10 10 10 10 10 10 10 10 10 10 10 10 10 10 10 10 10 10 10 10 10 10 10 10 10 10 10 10 10 10 10 10 10 10 10 10 10 10 10 10 10 10 10 10 10 10 10 10 10 10 10 10 10 10 10 10 10 10 10 10 10 10 10 10 10 10 10 10 10 10 10 10 10 10 10 10 10 10 10 10 10 10 10 10 10 10 10 10 10 10 10 10 10 10 10 10 10 10 10 10 10 10 10 10 10 10 10 10 10 10 10 10 10 10 10 10 10 10 10 10 10 10 10 10 10 10 10 10 10 10 10 10 10 10 10 10 10 10 10 10 10 10 10 10 10 10 10 10 10 10 10 10 10 10 10 10 10 10 10 10 10 10 10 10 10 10 10 10 10 10 10 10 10 10 10 10 10 10 10 10 10 10 10 10 10 10 10 10 10 10 10 10 10 10 10 10 10 10 10 10 10 10 10 10 10 10 10 10 10 10 10 10 10 10 10 10 10 10 10 10 10 10 10 10 10 10 10 10 10 10 10 10 10 10 10 10 10 10 10 10 10 10 10 10 10 10 10 10 10 10 10 10 10 10 10 10 10 10 10 10 10 10 10 10 10 10 10 10 10 10 10 10 10 10 10 10 10 10 10 10 10 10 10 10 10 10 10 10 10 10 10 10 10 10 10 10 10 10 10 10 10 10 10 10 10 10 10 10 10 10 10 10 10 10 10 10 10 10 10 10 10 10 10 10 10 10 10 10 10 10 10 10 10 10 10 10 10 10 10 10 10 10 10 10 10 10 10 10 10 10 10 10 10 10 10 10 10 10 10 10 10 10 10 10 10 10 10 10 10 10 10 10 10 10 10 10 10 10 10 10 10 10 10 10 10 10 10 10 10 10 10 10 10 10 10 10 10 10 10 10 10 10 10 10 10 10 10 10 10 10 10 10 10 10 10 10 10 10 10 10 10 10 10 10 10 10 10 10 10 10 10 10 10 10 10 10 10 10 10 10 10 10 10 10 10 10 10 10 10 10 10 10 10 10 10 10 10 10 10 10 10 10 10 10 10 10 10 10 10 10 10 10 10 10 10 10 10 10 10 10 10 10 10 10 10 10 10 10 10 10 10 10 10 10\n",
      "\n",
      "kalki . kalki . kalki . kalki . kalki . kalki . kalki . kalki . kalki . kalki . kalki . kalki . kalki . kalki . kalki . kalki . kalki . kalki . kalki . kalki . kalki . kalki . kalki . kalki . kalki . kalki . kalki . kalki . kalki . kalki . kalki . kalki . kalki . kalki . kalki . kalki . kalki . kalki . kalki . kalki . kalki . kalki . kalki . kalki . kalki . kalki . kalki . kalki . kalki . kalki . kalki . kalki . kalki . kalki . kalki . kalki . kalki . kalki . kalki . kalki . kalki . kalki . kalki . kalki . kalki . kalki . kalki . kalki . kalki . kalki . kalki . kalki . kalki . kalki . kalki . kalki . kalki . kalki . kalki . kalki . kalki . kalki . kalki . kalki . kalki . kalki . kalki . kalki . kalki . kalki . kalki . kalki . kalki . kalki . kalki . kalki . kalki . kalki . kalki . kalki . kalki . kalki . kalki . kalki . kalki . kalki . kalki . kalki . kalki . kalki . kalki . kalki . kalki . kalki . kalki . kalki . kalki . kalki . kalki . kalki . kalki . kalki . kalki . kalki . kalki . kalki . kalki . kalki . kalki . kalki . kalki . kalki . kalki . kalki . kalki . kalki . kalki . kalki . kalki . kalki . kalki . kalki . kalki . kalki . kalki . kalki . kalki . kalki . kalki . kalki . kalki . kalki . kalki . kalki . kalki . kalki . kalki . kalki . kalki . kalki . kalki . kalki . kalki . kalki . kalki . kalki . kalki . kalki . kalki . kalki . kalki . kalki . kalki . kalki . kalki . kalki . kalki . kalki . kalki . kalki . kalki . kalki . kalki . kalki . kalki . kalki . kalki . kalki . kalki . kalki . kalki . kalki . kalki . kalki . kalki . kalki . kalki . kalki . kalki . kalki . kalki . kalki . kalki . kalki . kalki . kalki . kalki . kalki . kalki . kalki . kalki . kalki . kalki . kalki . kalki . kalki . kalki . kalki . kalki . kalki . kalki . kalki . kalki . kalki . kalki . kalki . kalki . kalki . kalki . kalki . kalki . kalki . kalki . kalki . kalki . kalki . kalki . kalki . kalki . kalki . kalki . kalki . kalki . kalki . kalki . kalki . kalki . kalki . kalki . kalki . kalki . kalki . kalki . kalki . kalki . kalki . kalki . kalki . kalki . kalki . kalki . kalki . kalki . kalki . kalki . kalki . kalki . kalki . kalki . kalki . kalki . kalki . kalki . kalki . kalki . kalki . kalki . kalki . kalki . kalki . kalki . kalki . kalki . kalki . kalki . kalki . kalki . kalki . kalki . kalki . kalki . kalki . kalki . kalki . kalki . kalki . kalki . kalki . kalki . kalki . kalki . kalki . kalki . kalki . kalki . kalki . kalki . kalki . kalki . kalki . kalki . kalki . kalki . kalki . kalki . kalki . kalki . kalki . kalki . kalki . kalki . kalki . kalki . kalki . kalki . kalki . kalki . kalki . kalki . kalki . kalki . kalki . kalki . kalki . kalki . kalki . kalki . kalki . kalki . kalki . kalki . kalki . kalki . kalki . kalki . kalki . kalki . kalki . kalki . kalki . kalki . kalki . kalki . kalki . kalki . kalki . kalki . kalki . kalki . kalki . kalki . kalki . kalki . kalki . kalki . kalki . kalki . kalki . kalki . kalki . kalki . kalki . kalki . kalki . kalki . kalki . kalki . kalki . kalki . kalki . kalki . kalki . kalki . kalki . kalki . kalki . kalki . kalki . kalki . kalki . kalki . kalki . kalki . kalki . kalki . kalki . kalki . kalki . kalki . kalki . kalki . kalki . kalki . kalki . kalki . kalki . kalki . kalki . kalki . kalki . kalki . kalki . kalki . kalki . kalki . kalki . kalki . kalki . kalki . kalki . kalki . kalki . kalki . kalki . kalki . kalki . kalki . kalki . kalki . kalki . kalki . kalki . kalki . kalki . kalki . kalki . kalki . kalki . kalki . kalki . kalki . kalki . kalki . kalki . kalki . kalki . kalki . kalki . kalki . kalki . kalki . kalki . kalki . kalki . kalki . kalki . kalki . kalki . kalki . kalki . kalki . kalki . kalki . kalki . kalki . kalki . kalki . kalki . kalki . kalki . kalki . kalki . kalki . kalki . kalki . kalki . kalki . kalki . kalki . kalki . kalki . kalki . kalki . kalki . kalki . kalki . kalki . kalki . kalki . kalki . kalki . kalki . kalki . kalki . kalki . kalki . kalki . kalki . kalki . kalki . kalki . kalki . kalki . kalki . kalki . kalki . kalki . kalki . kalki . kalki . kalki . kalki . kalki . kalki . kalki . kalki . kalki . kalki . kalki . kalki . kalki . kalki . kalki . kalki . kalki . kalki . kalki . kalki . kalki . kalki . kalki . kalki . kalki . kalki . kalki . kalki . kalki . kalki . kalki . kalki . kalki . kalki . kalki . kalki . oh , and kalki .\n",
      "\n",
      "10 10 10 10 10 10 10 10 10 10 10 10 10 10 10 10 10 10 10 10 10 10 10 10 10 10 10 10 10 10 10 10 10 10 10 10 10 10 10 10 10 10 10 10 10 10 10 10 10 10 10 10 10 10 10 10 10 10 10 10 10 10 10 10 10 10 10 10 10 10 10 10 10 10 10 10 10 10 10 10 10 10 10 10 10 10 10 10 10 10 10 10 10 10 10 10 10 10 10 10 10 10 10 10 10 10 10 10 10 10 10 10 10 10 10 10 10 10 10 10 10 10 10 10 10 10 10 10 10 10 10 10 10 10 10 10 10 10 10 10 10 10 10 10 10 10 10 10 10 10 10 10 10 10 10 10 10 10 10 10 10 10 10 10 10 10 10 10 10 10 10 10 10 10 10 10 10 10 10 10 10 10 10 10 10 10 10 10 10 10 10 10 10 10 10 10 10 10 10 10 10 10 10 10 10 10 10 10 10 10 10 10 10 10 10 10 10 10 10 10 10 10 10 10 10 10 10 10 10 10 10 10 10 10 10 10 10 10 10 10 10 10 10 10 10 10 10 10 10 10 10 10 10 10 10 10 10 10 10 10 10 10 10 10 10 10 10 10 10 10 10 10 10 10 10 10 10 10 10 10 10 10 10 10 10 10 10 10 10 10 10 10 10 10 10 10 10 10 10 10 10 10 10 10 10 10 10 10 10 10 10 10 10 10 10 10 10 10 10 10 10 10 10 10 10 10 10 10 10 10 10 10 10 10 10 10 10 10 10 10 10 10 10 10 10 10 10 10 10 10 10 10 10 10 10 10 10 10 10 10 10 10 10 10 10 10 10 10 10 10 10 10 10 10 1010 10 10 10 10 10 10 10 10 10 10 10 10 10 10 10 10 10 10 10 10 10 10 10 10 10 10 10 10 10 10 10 10 10 10 10 10 10 10 10 10 10 10 10 10 10 10 10 10 10 10 10 10 10 10 10 10 10 10 10 10 10\n",
      "\n",
      "it 's 11 it 's 11 it 's 11 it 's 11 it 's 11 it 's 11 it 's 11 it 's 11 it 's 11 it 's 11 it 's 11 it 's 11 it 's 11 it 's 11 it 's 11 it 's 11 it 's 11 it 's 11 it 's 11 it 's 11 it 's 11 it 's 11 it 's 11 it 's 11 it 's 11 it 's 11 it 's 11 it 's 11 it 's 11 it 's 11 it 's 11 it 's 11 it 's 11 it 's 11 it 's 11 it 's 11 it 's 11 it 's 11 it 's 11 it 's 11 it 's 11 it 's 11 it 's 11 it 's 11 it 's 11 it 's 11 it 's 11 it 's 11 it 's 11 it 's 11 it 's 11 it 's 11 it 's 11 it 's 11 it 's 11 it 's 11 it 's 11 it 's 11 it 's 11 it 's 11 it 's 11 it 's 11 it 's 11 it 's 11 it 's 11 it 's 11 it 's 11 it 's 11 it 's 11 it 's 11 it 's 11 it 's 11 it 's 11 it 's 11 it 's 11 it 's 11 it 's 11 it 's 11 it 's 11 it 's 11 it 's 11 it 's 11 it 's 11 it 's 11 it 's 11 it 's 11 it 's 11 it 's 11 it 's 11 it 's 11 it 's 11 it 's 11 it 's 11 it 's 11 it 's 11 it 's 11 it 's 11 it 's 11 it 's 11 it 's 11 it 's 11 it 's 11 it 's 11 it 's 11 it 's 11 it 's 11\n",
      "\n",
      "< : moocow:318918847140724736 > < : eaglefasces:318917908359151616 > < : eaglefasces:318917908359151616 > < : moocow:318918847140724736 > < : moocow:318918847140724736 > < : moocow:318918847140724736 > < : moocow:318918847140724736 > < : moocow:318918847140724736 > < : eaglefasces:318917908359151616 > < : eaglefasces:318917908359151616 > < : moocow:318918847140724736 > < : eaglefasces:318917908359151616 > < : eaglefasces:318917908359151616 > < : eaglefasces:318917908359151616 > < : moocow:318918847140724736 > < : eaglefasces:318917908359151616 > < : eaglefasces:318917908359151616 > < : moocow:318918847140724736 > < : eaglefasces:318917908359151616 > < : eaglefasces:318917908359151616 > < : eaglefasces:318917908359151616 > < : moocow:318918847140724736 > < : moocow:318918847140724736 > < : moocow:318918847140724736 > < : moocow:318918847140724736 > < : moocow:318918847140724736 > < : moocow:318918847140724736 > < : moocow:318918847140724736 > < : eaglefasces:318917908359151616 > < : eaglefasces:318917908359151616 > < : eaglefasces:318917908359151616 > < : moocow:318918847140724736 > < : eaglefasces:318917908359151616 > < : eaglefasces:318917908359151616 > < : moocow:318918847140724736 > < : eaglefasces:318917908359151616 > < : eaglefasces:318917908359151616 > < : eaglefasces:318917908359151616 > < : moocow:318918847140724736 > < : eaglefasces:318917908359151616 > < : eaglefasces:318917908359151616 > < : moocow:318918847140724736 > < : moocow:318918847140724736 > < : moocow:318918847140724736 > < : moocow:318918847140724736 > < : moocow:318918847140724736 > < : eaglefasces:318917908359151616 > < : eaglefasces:318917908359151616 > < : moocow:318918847140724736 >\n",
      "\n",
      "say it with me ha ha ha ha ha ha ha ha ha ha ha ha ha ha ha ha ha ha ha ha ha ha ha ha ha ha ha ha ha ha ha ha ha ha ha ha ha ha ha ha ha ha ha ha ha ha ha ha ha ha ha ha ha ha ha ha ha ha ha ha ha ha ha ha ha ha ha ha ha ha ha ha ha ha ha ha ha ha ha ha ha ha ha ha ha ha ha ha ha ha ha ha ha ha ha ha ha ha ha ha ha ha ha ha ha ha ha ha ha ha ha ha ha ha ha ha ha ha ha ha ha ha ha ha ha ha ha ha ha ha ha ha ha ha ha ha ha ha ha ha ha ha ha ha ha ha ha ha ha ha ha ha ha ha ha ha\n",
      "\n",
      "* squeak * * squeak * * squeak * * squeak * * squeak * * squeak * * squeak * * squeak * * squeak * * squeak * * squeak * * squeak * * squeak * * squeak * * squeak * * squeak * * squeak * * squeak * * squeak * * squeak * * squeak * * squeak * * squeak * * squeak * * squeak * * squeak * * squeak * * squeak * * squeak * * squeak * * squeak * * squeak * * squeak * * squeak * * squeak * * squeak * * squeak * * squeak * * squeak * * squeak * * squeak * * squeak * * squeak * * squeak * * squeak * * squeak * * squeak * * squeak * * squeak * * squeak * * squeak * * squeak * * squeak * * squeak * * squeak * * squeak * * squeak * * squeak * * squeak * * squeak * * squeak * * squeak * * squeak * * squeak * * squeak * * squeak * * squeak * * squeak * * squeak * * squeak * * squeak * * squeak * * squeak * * squeak * * squeak *\n",
      "\n",
      "pregnant anne frank pregnant anne frank pregnant anne frank pregnant anne frank pregnant anne frank pregnant anne frank pregnant anne frank pregnant anne frank pregnant anne frank pregnant anne frank pregnant anne frank pregnant anne frank pregnant anne frank pregnant anne frank pregnant anne frank pregnant anne frank pregnant anne frank pregnant anne frank pregnant anne frank pregnant anne frank pregnant anne frank pregnant anne frank\n",
      "\n",
      "e-cwjtyrj84kq/waffen_ss_-_romdiredo m_dutch_english-cwjtyrj84kq.mp4 e-0blg75mdsty/waffen_ss_-_voorwaart s_stormsoldaat_dutch_english-0blg75 mdsty.mp4 e-tuyunxearno/dutch_ss_nsb_ja_kamer aden_dutch_english-tuyunxearno.mp4 e-ssql1raqhfm/jeugdstorm_wij_zijn_b ereid_dutch_english-ssql1raqhfm.mkv e-se3ag_kbn-a/waffen_ss_-_stormvoge ls_dutch_english-se3ag_kbn-a.mkv e -- zwglcden3a/waffen_ss_-_oostlandl ied_dutch_english -- zwglcden3a.mp4 e-xqnjjypcsbc/waffen_ss_-_march_of_ the_flemish_legion_dutch_english-xq njjypcsbc.mkv e-1ezjm55itqs/nsb_dietschland_ontwa akt-1ezjm55itqs.mkv e-wijbk7hbmqw/dutch_ss_nsb_daar_gin g_een_scheepje-wijbk7hbmqw.mp4\n",
      "\n",
      "fake news fake news fake news fake news fake news fake news fake news fake news fake news fake news fake news fake news fake news fake news fake news fake news fake news fake news fake news fake news fake news fake news\n",
      "\n",
      "400 million 400 million 400 million 400 million 400 million 400 million 400 million 400 million 400 million 400 million 400 million 400 million 400 million 400 million 400 million 400 million\n",
      "\n",
      "less than 10 minutes less than 10 minutes less than 10 minutes less than 10 minutes less than 10 minutes less than 10 minutes less than 10 minutes less than 10 minutes less than 10 minutes less than 10 minutes less than 10 minutes less than 10 minutes less than 10 minutes\n",
      "\n",
      "68 101 97 100 68 101 97 100 68 101 97 100 68 101 97 100 -- -- -- 68 101 97 100 68 101 97 100 -- -- -- -- -- -- -- -- -- -- -- -- -- -- -- -- -- - -- -- -- -- -- -- -- -- -- -- -- -- -- -- -- -- -- - -- -- -- -- -- -- -- -- -- -- -- -- -- -- -- -- -- - -- -- -- -- -- -- -- -- -- -- -- -- -- -- -- -- -- - -- -- -- -- -- -- -∪ ∪ ∪ ∪ ∪ ∪ ∪ ∪ ∪ ∪ ∪ ∪ ∪ ∪ ∪ ∪ ∪ ∪ ∪ ∪ ∪ ∪ ∪ ∪ ∪ ∪ ∪ ∪ ∪ ∪ ∪ ∪ ∪ ∪ ∪ ∪ ∪ ∪ ∪ ∪ ∪ ∪ ∪ ∪ ∪ ∪ ∪ ∪ ∪ ∪ ∪ ∪ ∪ ∪ ∪ ∪ ∪ ∪ ∪\n",
      "\n",
      "68 101 97 100 68 101 97 100 68 101 97 100 68 101 97 100 -- -- -- 68 101 97 100 68 101 97 100 -- -- -- -- -- -- -- -- -- -- -- -- -- -- -- -- -- - -- -- -- -- -- -- -- -- -- -- -- -- -- -- -- -- -- - -- -- -- -- -- -- -- -- -- -- -- -- -- -- -- -- -- - -- -- -- -- -- -- -- -- -- -- -- -- -- -- -- -- -- - -- -- -- -- -- -- -∪ ∪ ∪ ∪ ∪ ∪ ∪ ∪ ∪ ∪ ∪ ∪ ∪ ∪ ∪ ∪ ∪ ∪ ∪ ∪ ∪ ∪ ∪ ∪ ∪ ∪ ∪ ∪ ∪ ∪ ∪ ∪ ∪ ∪ ∪ ∪ ∪\n",
      "\n",
      "rato rato rato rato rato rato rato rato rato rato rato rato rato rato rato rato rato rato rato rato rato rato rato rato\n",
      "\n",
      "14.5 % 14.5 % 14.5 % 14.5 % 14.5 % 14.5 % 14.5 % 14.5 % 14.5 % 14.5 % 14.5 % 14.5 % 14.5 % 14.5 % 14.5 % 14.5 % 14.5 % 14.5 % 14.5 % 14.5 %\n",
      "\n",
      "01 : 02 : 03 : 04 : 05 : 06 : 07 : 08 : 09 : 10 : 11 : 12 : 13 : 14 : 15 : 16 : 17 : 18 : 19 :\n",
      "\n",
      "01 : 02 : 03 : 04 : 05 : 06 : 07 : 08 : 09 : 10 : 11 : 12 : 13 : 14 : 15 : 16 : 17 : 18 : 19 :\n",
      "\n",
      "------------------ SAMPLE OF TOPIC 17 DOCUMENTS ----------------------\n",
      "hhhmmmm for 9,000 i could hire 900 skagheads to do the job , and because they are very feeble alot would get taken out too . win win ! ! only 900 , surely for £9,000 you could get a small country full of them ?\n",
      "\n",
      "caffeineandkilos.com\n",
      "\n",
      "no , not really . the mauna kea one ? that 's news .\n",
      "\n",
      "tfw no pregnant anne frank manga feelsbadman\n",
      "\n",
      "30 bucks for vpn 20 for 4chan , 50 bucks a year too much for me\n",
      "\n",
      "3:41 am\n",
      "\n",
      "being an anglo is a 50/50 coin flip either you are a jew or you are subhuman\n",
      "\n",
      "r/status/\n",
      "\n",
      "bea at it again .\n",
      "\n",
      "18 % they polled between 10 and 14 percent in bavaria stupid\n",
      "\n",
      "rt : video : latino kkk says you are too white to be american www.alipac.us/article-5479--0-0.html #afire #tcot #teaparty illegal ...\n",
      "\n",
      "new patrol tonight ! remember to like frms facebook page https : //www.facebook.com/pages/kansallinen-vastarinta-2014/559782130779986 ? fref=ts and nrms facebook page https : //www.facebook.com/pages/nordfront-norge/795065623851052 ? fref=nf\n",
      "\n",
      "we 've been on this planet for at least 100,000 years . ssris and other anti-depressants have been around for the last 50. you do n't need pills to get over what 's bothering you . never let them dull your mind .\n",
      "\n",
      "down & out w / all his possessions in a duffle bag & is nd of help ... help them .. even ur enemies for whn u do this , u hve put\n",
      "\n",
      "+++ strategy fag internal 40 % are no more edition +++ so , what happened so far ? the cdu internally predicted 40 % , due to popularity of mamma merkle . they even got forsa to agree , but the projection had to be dropped to 36 % within the last 40 days . in her latest appearance , ursula von der laien reiterated this , 40 % + . now the governments press office published a report on how everyone in cdu is nervous about the polls : can you imagine the damage and infighting , if it is n't 40 % , but only 35 % ? 33 % ( the correct masonic value ) and this blood letting at gains 4 afd ? that would totally undermine her within the party . so , btfo her i have become mamma merkle , destroyer of nations and continents . what else do i have to do to drop below 30 % ?\n",
      "\n",
      "rt : #c919 , china unveils 1st homegrown passenger jetliner , maiden flight scheduled in 2016 https://t.co/p8e…\n",
      "\n",
      "37 posts by this id not a kike pick .\n",
      "\n",
      "that 's why you get her at 14\n",
      "\n",
      "the girl should be anne frank .\n",
      "\n",
      "rt : . why did allow jds to lie non stop for 3 days against on ? truth 👇 https :/ …\n",
      "\n"
     ]
    }
   ],
   "source": [
    "# Investigate possibly off-topic topics\n",
    "# selected_topics = [3,6,7,11] # for 20-topic model\n",
    "# selected_topics = [15, 11, 14, 7, 25, 28, 10] # for sampled 30-topic model\n",
    "# 15 remove, 11 keep, 14 remove, 7 remove, 25 remove, 28 keep\n",
    "selected_topics = [27, 0, 3, 24, 7, 11, 1, 8, 2, 29, 23, 15, 16, 20, 5, 17]\n",
    "# 27 keep (borderline), 0 remove (borderline), 3 remove (philosophizing, borderline), 24 remove,\n",
    "# 7 remove (though has some identities), 11 remove (money, borderline), 1 remove (body/porn, borderline),\n",
    "# 8 remove (children, has some family ws stuff), 2 keep (crime, borderline), 29 remove (video, youtube talk), \n",
    "# 23 remove (food), 15 remove (politics, borderline), 16 remove, 20 remove (short 4chan stuff like kek), \n",
    "# 5 remove (German, other langs), 17 remove (numbers, short)\n",
    "\n",
    "def print_top_docs(topic):\n",
    "    print(f'************* TOPIC {topic} *************************')\n",
    "    print(topics.loc[topic, 'top_words'])\n",
    "    print()\n",
    "    print(f\"------------------ TOP TOPIC {topic} DOCUMENTS ----------------------\")\n",
    "    print('\\n\\n'.join(top_topic_docs[topic]))\n",
    "    print()\n",
    "    \n",
    "assigned_topics = np.argmax(doc_topics, axis=1)\n",
    "docs = pd.DataFrame({'text': ws_data.text, 'topic': assigned_topics})\n",
    "\n",
    "def assigned_docs_sample(topic):\n",
    "    \"\"\" Sample docs that are assigned to a topic (that would be removed if remove that topic) \"\"\"\n",
    "    sample = docs[docs.topic == topic].sample(20).text.values.tolist()\n",
    "    print(f\"------------------ SAMPLE OF TOPIC {topic} DOCUMENTS ----------------------\")\n",
    "    print('\\n\\n'.join(sample)) \n",
    "    print()\n",
    "    \n",
    "for topic in selected_topics:\n",
    "    print_top_docs(topic)\n",
    "    assigned_docs_sample(topic)"
   ]
  },
  {
   "cell_type": "code",
   "execution_count": 23,
   "id": "66c84d57-dc57-4223-8fd2-a1e1888a522b",
   "metadata": {},
   "outputs": [
    {
     "data": {
      "text/plain": [
       "2231145"
      ]
     },
     "execution_count": 23,
     "metadata": {},
     "output_type": "execute_result"
    }
   ],
   "source": [
    "to_remove = [0, 3, 24, 7, 11, 1, 8, 29, 23, 15, 16, 20, 5, 17]\n",
    "will_remove = topics[topics.index.isin(to_remove)]['document_count'].sum()\n",
    "will_remove"
   ]
  },
  {
   "cell_type": "code",
   "execution_count": 25,
   "id": "13545918-be05-4401-9b84-815de488225c",
   "metadata": {},
   "outputs": [
    {
     "data": {
      "text/plain": [
       "0.46000182256917926"
      ]
     },
     "execution_count": 25,
     "metadata": {},
     "output_type": "execute_result"
    }
   ],
   "source": [
    "will_remove/len(ws_data)"
   ]
  },
  {
   "cell_type": "markdown",
   "id": "29a5bf14-bd88-4433-9544-03c23ebc8a80",
   "metadata": {},
   "source": [
    "## BERTopic"
   ]
  },
  {
   "cell_type": "markdown",
   "id": "71e5a0af-ac7c-4947-a7ed-79af3a050855",
   "metadata": {},
   "source": [
    "### Train"
   ]
  },
  {
   "cell_type": "code",
   "execution_count": 15,
   "id": "52bef9a0-fc0d-440f-b557-608454654025",
   "metadata": {},
   "outputs": [
    {
     "name": "stdout",
     "output_type": "stream",
     "text": [
      "<class 'pandas.core.frame.DataFrame'>\n",
      "Index: 229305 entries, calderon2021_0 to stormfront_99972\n",
      "Data columns (total 7 columns):\n",
      " #   Column      Non-Null Count   Dtype              \n",
      "---  ------      --------------   -----              \n",
      " 0   text        229305 non-null  object             \n",
      " 1   word_count  229305 non-null  int64              \n",
      " 2   dataset     229305 non-null  object             \n",
      " 3   source      229305 non-null  object             \n",
      " 4   domain      229305 non-null  object             \n",
      " 5   timestamp   229051 non-null  datetime64[ns, UTC]\n",
      " 6   num_words   229305 non-null  int64              \n",
      "dtypes: datetime64[ns, UTC](1), int64(2), object(4)\n",
      "memory usage: 14.0+ MB\n"
     ]
    }
   ],
   "source": [
    "# Load data\n",
    "import pandas as pd\n",
    "\n",
    "path = '../tmp/white_supremacist_train_corpus.pkl'\n",
    "ws_data = pd.read_pickle(path)\n",
    "ws_data.info()"
   ]
  },
  {
   "cell_type": "code",
   "execution_count": 17,
   "id": "e4b67224-d54d-4357-98d7-2f0dcb298ade",
   "metadata": {},
   "outputs": [],
   "source": [
    "selected = ws_data[ws_data.domain=='forum']"
   ]
  },
  {
   "cell_type": "code",
   "execution_count": 18,
   "id": "be38e574-6548-44a6-88d5-513e44266fbe",
   "metadata": {},
   "outputs": [
    {
     "data": {
      "application/vnd.jupyter.widget-view+json": {
       "model_id": "c3437e8165db4eab9a98dd83b63a1e04",
       "version_major": 2,
       "version_minor": 0
      },
      "text/plain": [
       "  0%|          | 0/100000 [00:00<?, ?it/s]"
      ]
     },
     "metadata": {},
     "output_type": "display_data"
    }
   ],
   "source": [
    "# Remove stopwords\n",
    "import nltk\n",
    "from tqdm.notebook import tqdm\n",
    "\n",
    "stops = nltk.corpus.stopwords.words('english') + [\"n't\"]\n",
    "processed = [' '.join([wd for wd in x if not wd in stops]) for x in tqdm(selected.text.str.split())]"
   ]
  },
  {
   "cell_type": "code",
   "execution_count": 52,
   "id": "bd8661f1-3452-4542-8363-2317d55c47d8",
   "metadata": {
    "scrolled": true,
    "tags": []
   },
   "outputs": [
    {
     "name": "stdout",
     "output_type": "stream",
     "text": [
      "huggingface/tokenizers: The current process just got forked, after parallelism has already been used. Disabling parallelism to avoid deadlocks...\n",
      "To disable this warning, you can either:\n",
      "\t- Avoid using `tokenizers` before the fork if possible\n",
      "\t- Explicitly set the environment variable TOKENIZERS_PARALLELISM=(true | false)\n",
      "huggingface/tokenizers: The current process just got forked, after parallelism has already been used. Disabling parallelism to avoid deadlocks...\n",
      "To disable this warning, you can either:\n",
      "\t- Avoid using `tokenizers` before the fork if possible\n",
      "\t- Explicitly set the environment variable TOKENIZERS_PARALLELISM=(true | false)\n",
      "huggingface/tokenizers: The current process just got forked, after parallelism has already been used. Disabling parallelism to avoid deadlocks...\n",
      "To disable this warning, you can either:\n",
      "\t- Avoid using `tokenizers` before the fork if possible\n",
      "\t- Explicitly set the environment variable TOKENIZERS_PARALLELISM=(true | false)\n",
      "huggingface/tokenizers: The current process just got forked, after parallelism has already been used. Disabling parallelism to avoid deadlocks...\n",
      "To disable this warning, you can either:\n",
      "\t- Avoid using `tokenizers` before the fork if possible\n",
      "\t- Explicitly set the environment variable TOKENIZERS_PARALLELISM=(true | false)\n"
     ]
    },
    {
     "data": {
      "text/html": [
       "<div>\n",
       "<style scoped>\n",
       "    .dataframe tbody tr th:only-of-type {\n",
       "        vertical-align: middle;\n",
       "    }\n",
       "\n",
       "    .dataframe tbody tr th {\n",
       "        vertical-align: top;\n",
       "    }\n",
       "\n",
       "    .dataframe thead th {\n",
       "        text-align: right;\n",
       "    }\n",
       "</style>\n",
       "<table border=\"1\" class=\"dataframe\">\n",
       "  <thead>\n",
       "    <tr style=\"text-align: right;\">\n",
       "      <th></th>\n",
       "      <th>Topic</th>\n",
       "      <th>Count</th>\n",
       "      <th>Name</th>\n",
       "    </tr>\n",
       "  </thead>\n",
       "  <tbody>\n",
       "    <tr>\n",
       "      <th>0</th>\n",
       "      <td>-1</td>\n",
       "      <td>81302</td>\n",
       "      <td>-1_people_like_would_white</td>\n",
       "    </tr>\n",
       "    <tr>\n",
       "      <th>1</th>\n",
       "      <td>0</td>\n",
       "      <td>1917</td>\n",
       "      <td>0_nigger_niggers_fucking_fuck</td>\n",
       "    </tr>\n",
       "    <tr>\n",
       "      <th>2</th>\n",
       "      <td>1</td>\n",
       "      <td>1449</td>\n",
       "      <td>1_white_whites_race_people</td>\n",
       "    </tr>\n",
       "    <tr>\n",
       "      <th>3</th>\n",
       "      <td>2</td>\n",
       "      <td>1130</td>\n",
       "      <td>2_israel_israeli_iran_syria</td>\n",
       "    </tr>\n",
       "    <tr>\n",
       "      <th>4</th>\n",
       "      <td>3</td>\n",
       "      <td>867</td>\n",
       "      <td>3_muslims_islam_muslim_islamic</td>\n",
       "    </tr>\n",
       "    <tr>\n",
       "      <th>5</th>\n",
       "      <td>4</td>\n",
       "      <td>761</td>\n",
       "      <td>4_socialism_communism_national_capitalism</td>\n",
       "    </tr>\n",
       "    <tr>\n",
       "      <th>6</th>\n",
       "      <td>5</td>\n",
       "      <td>723</td>\n",
       "      <td>5_die_und_der_ist</td>\n",
       "    </tr>\n",
       "    <tr>\n",
       "      <th>7</th>\n",
       "      <td>6</td>\n",
       "      <td>710</td>\n",
       "      <td>6_hitler_christianity_adolf_nazis</td>\n",
       "    </tr>\n",
       "    <tr>\n",
       "      <th>8</th>\n",
       "      <td>7</td>\n",
       "      <td>705</td>\n",
       "      <td>7_police_cops_prison_court</td>\n",
       "    </tr>\n",
       "    <tr>\n",
       "      <th>9</th>\n",
       "      <td>8</td>\n",
       "      <td>640</td>\n",
       "      <td>8_jesus_jews_god_christ</td>\n",
       "    </tr>\n",
       "    <tr>\n",
       "      <th>10</th>\n",
       "      <td>9</td>\n",
       "      <td>596</td>\n",
       "      <td>9_gun_guns_rifle_rifles</td>\n",
       "    </tr>\n",
       "    <tr>\n",
       "      <th>11</th>\n",
       "      <td>10</td>\n",
       "      <td>576</td>\n",
       "      <td>10_jew_name_jewish_jews</td>\n",
       "    </tr>\n",
       "    <tr>\n",
       "      <th>12</th>\n",
       "      <td>11</td>\n",
       "      <td>566</td>\n",
       "      <td>11_soy_fat_meat_bread</td>\n",
       "    </tr>\n",
       "    <tr>\n",
       "      <th>13</th>\n",
       "      <td>12</td>\n",
       "      <td>547</td>\n",
       "      <td>12_women_men_woman_feminism</td>\n",
       "    </tr>\n",
       "    <tr>\n",
       "      <th>14</th>\n",
       "      <td>13</td>\n",
       "      <td>546</td>\n",
       "      <td>13_russia_russian_putin_ukraine</td>\n",
       "    </tr>\n",
       "    <tr>\n",
       "      <th>15</th>\n",
       "      <td>14</td>\n",
       "      <td>523</td>\n",
       "      <td>14_thread_threads_slide_discord</td>\n",
       "    </tr>\n",
       "    <tr>\n",
       "      <th>16</th>\n",
       "      <td>15</td>\n",
       "      <td>520</td>\n",
       "      <td>15_irish_ireland_english_people</td>\n",
       "    </tr>\n",
       "    <tr>\n",
       "      <th>17</th>\n",
       "      <td>16</td>\n",
       "      <td>486</td>\n",
       "      <td>16_job_work_college_school</td>\n",
       "    </tr>\n",
       "    <tr>\n",
       "      <th>18</th>\n",
       "      <td>17</td>\n",
       "      <td>473</td>\n",
       "      <td>17_faggot_faggots_fags_fag</td>\n",
       "    </tr>\n",
       "    <tr>\n",
       "      <th>19</th>\n",
       "      <td>18</td>\n",
       "      <td>464</td>\n",
       "      <td>18_italian_italy_italians_feet</td>\n",
       "    </tr>\n",
       "    <tr>\n",
       "      <th>20</th>\n",
       "      <td>19</td>\n",
       "      <td>445</td>\n",
       "      <td>19_fascism_fascist_mussolini_fascists</td>\n",
       "    </tr>\n",
       "    <tr>\n",
       "      <th>21</th>\n",
       "      <td>20</td>\n",
       "      <td>435</td>\n",
       "      <td>20_south_florida_texas_yankees</td>\n",
       "    </tr>\n",
       "    <tr>\n",
       "      <th>22</th>\n",
       "      <td>21</td>\n",
       "      <td>430</td>\n",
       "      <td>21_women_white_men_black</td>\n",
       "    </tr>\n",
       "    <tr>\n",
       "      <th>23</th>\n",
       "      <td>22</td>\n",
       "      <td>424</td>\n",
       "      <td>22_memes_meme_afd_krautpol</td>\n",
       "    </tr>\n",
       "    <tr>\n",
       "      <th>24</th>\n",
       "      <td>23</td>\n",
       "      <td>412</td>\n",
       "      <td>23_french_france_de_la</td>\n",
       "    </tr>\n",
       "    <tr>\n",
       "      <th>25</th>\n",
       "      <td>24</td>\n",
       "      <td>410</td>\n",
       "      <td>24_period_money_currency_debt</td>\n",
       "    </tr>\n",
       "    <tr>\n",
       "      <th>26</th>\n",
       "      <td>25</td>\n",
       "      <td>395</td>\n",
       "      <td>25_albanians_serbs_kosovo_albanian</td>\n",
       "    </tr>\n",
       "    <tr>\n",
       "      <th>27</th>\n",
       "      <td>26</td>\n",
       "      <td>393</td>\n",
       "      <td>26_flag_flags_meme_false</td>\n",
       "    </tr>\n",
       "    <tr>\n",
       "      <th>28</th>\n",
       "      <td>27</td>\n",
       "      <td>390</td>\n",
       "      <td>27_canada_canadian_canadians_trudeau</td>\n",
       "    </tr>\n",
       "    <tr>\n",
       "      <th>29</th>\n",
       "      <td>28</td>\n",
       "      <td>383</td>\n",
       "      <td>28_youtube_video_videos_stream</td>\n",
       "    </tr>\n",
       "    <tr>\n",
       "      <th>30</th>\n",
       "      <td>29</td>\n",
       "      <td>382</td>\n",
       "      <td>29_linux_windows_computer_software</td>\n",
       "    </tr>\n",
       "  </tbody>\n",
       "</table>\n",
       "</div>"
      ],
      "text/plain": [
       "    Topic  Count                                       Name\n",
       "0      -1  81302                 -1_people_like_would_white\n",
       "1       0   1917              0_nigger_niggers_fucking_fuck\n",
       "2       1   1449                 1_white_whites_race_people\n",
       "3       2   1130                2_israel_israeli_iran_syria\n",
       "4       3    867             3_muslims_islam_muslim_islamic\n",
       "5       4    761  4_socialism_communism_national_capitalism\n",
       "6       5    723                          5_die_und_der_ist\n",
       "7       6    710          6_hitler_christianity_adolf_nazis\n",
       "8       7    705                 7_police_cops_prison_court\n",
       "9       8    640                    8_jesus_jews_god_christ\n",
       "10      9    596                    9_gun_guns_rifle_rifles\n",
       "11     10    576                    10_jew_name_jewish_jews\n",
       "12     11    566                      11_soy_fat_meat_bread\n",
       "13     12    547                12_women_men_woman_feminism\n",
       "14     13    546            13_russia_russian_putin_ukraine\n",
       "15     14    523            14_thread_threads_slide_discord\n",
       "16     15    520            15_irish_ireland_english_people\n",
       "17     16    486                 16_job_work_college_school\n",
       "18     17    473                 17_faggot_faggots_fags_fag\n",
       "19     18    464             18_italian_italy_italians_feet\n",
       "20     19    445      19_fascism_fascist_mussolini_fascists\n",
       "21     20    435             20_south_florida_texas_yankees\n",
       "22     21    430                   21_women_white_men_black\n",
       "23     22    424                 22_memes_meme_afd_krautpol\n",
       "24     23    412                     23_french_france_de_la\n",
       "25     24    410              24_period_money_currency_debt\n",
       "26     25    395         25_albanians_serbs_kosovo_albanian\n",
       "27     26    393                   26_flag_flags_meme_false\n",
       "28     27    390       27_canada_canadian_canadians_trudeau\n",
       "29     28    383             28_youtube_video_videos_stream\n",
       "30     29    382         29_linux_windows_computer_software"
      ]
     },
     "execution_count": 52,
     "metadata": {},
     "output_type": "execute_result"
    }
   ],
   "source": [
    "from bertopic import BERTopic\n",
    "\n",
    "topic_model = BERTopic(nr_topics=30)\n",
    "topics, probs = topic_model.fit_transform(processed)\n",
    "topic_model.get_topic_info()"
   ]
  },
  {
   "cell_type": "code",
   "execution_count": 23,
   "id": "60730acd-19ee-408e-855f-5f6e0969c686",
   "metadata": {},
   "outputs": [],
   "source": [
    "topic_model.save('../tmp/ws_forum_20topics.model')"
   ]
  },
  {
   "cell_type": "markdown",
   "id": "7eb27725-ac8a-46ea-837d-ddc5ffe265d8",
   "metadata": {
    "jp-MarkdownHeadingCollapsed": true,
    "tags": []
   },
   "source": [
    "### Load"
   ]
  },
  {
   "cell_type": "code",
   "execution_count": 3,
   "id": "9b5fdbf2-e2a5-4c4a-b06b-a572e6c76470",
   "metadata": {},
   "outputs": [
    {
     "data": {
      "text/html": [
       "<div>\n",
       "<style scoped>\n",
       "    .dataframe tbody tr th:only-of-type {\n",
       "        vertical-align: middle;\n",
       "    }\n",
       "\n",
       "    .dataframe tbody tr th {\n",
       "        vertical-align: top;\n",
       "    }\n",
       "\n",
       "    .dataframe thead th {\n",
       "        text-align: right;\n",
       "    }\n",
       "</style>\n",
       "<table border=\"1\" class=\"dataframe\">\n",
       "  <thead>\n",
       "    <tr style=\"text-align: right;\">\n",
       "      <th></th>\n",
       "      <th>Topic</th>\n",
       "      <th>Count</th>\n",
       "      <th>Name</th>\n",
       "    </tr>\n",
       "  </thead>\n",
       "  <tbody>\n",
       "    <tr>\n",
       "      <th>0</th>\n",
       "      <td>-1</td>\n",
       "      <td>195774</td>\n",
       "      <td>-1_people_white_would_nt</td>\n",
       "    </tr>\n",
       "    <tr>\n",
       "      <th>1</th>\n",
       "      <td>0</td>\n",
       "      <td>3454</td>\n",
       "      <td>0_amnesty_immigration_daca_noamnesty</td>\n",
       "    </tr>\n",
       "    <tr>\n",
       "      <th>2</th>\n",
       "      <td>1</td>\n",
       "      <td>3152</td>\n",
       "      <td>1_germany_refugees_german_die</td>\n",
       "    </tr>\n",
       "    <tr>\n",
       "      <th>3</th>\n",
       "      <td>2</td>\n",
       "      <td>2247</td>\n",
       "      <td>2_nigger_niggers_nt_fucking</td>\n",
       "    </tr>\n",
       "    <tr>\n",
       "      <th>4</th>\n",
       "      <td>3</td>\n",
       "      <td>2047</td>\n",
       "      <td>3_said_police_murder_death</td>\n",
       "    </tr>\n",
       "    <tr>\n",
       "      <th>5</th>\n",
       "      <td>4</td>\n",
       "      <td>1949</td>\n",
       "      <td>4_russia_putin_ukraine_russian</td>\n",
       "    </tr>\n",
       "    <tr>\n",
       "      <th>6</th>\n",
       "      <td>5</td>\n",
       "      <td>1904</td>\n",
       "      <td>5_vittu_uploaded_christianity_vimeo</td>\n",
       "    </tr>\n",
       "    <tr>\n",
       "      <th>7</th>\n",
       "      <td>6</td>\n",
       "      <td>1854</td>\n",
       "      <td>6_israel_iran_nuclear_israeli</td>\n",
       "    </tr>\n",
       "    <tr>\n",
       "      <th>8</th>\n",
       "      <td>7</td>\n",
       "      <td>1821</td>\n",
       "      <td>7_illegal_ice_illegals_aliens</td>\n",
       "    </tr>\n",
       "    <tr>\n",
       "      <th>9</th>\n",
       "      <td>8</td>\n",
       "      <td>1455</td>\n",
       "      <td>8_women_men_white_woman</td>\n",
       "    </tr>\n",
       "    <tr>\n",
       "      <th>10</th>\n",
       "      <td>9</td>\n",
       "      <td>1437</td>\n",
       "      <td>9_sweden_swedish_norway_swedes</td>\n",
       "    </tr>\n",
       "    <tr>\n",
       "      <th>11</th>\n",
       "      <td>10</td>\n",
       "      <td>1391</td>\n",
       "      <td>10_tcot_trump_nevertrumporhillary_jtf</td>\n",
       "    </tr>\n",
       "    <tr>\n",
       "      <th>12</th>\n",
       "      <td>11</td>\n",
       "      <td>1325</td>\n",
       "      <td>11_islam_muslims_islamic_muslim</td>\n",
       "    </tr>\n",
       "    <tr>\n",
       "      <th>13</th>\n",
       "      <td>12</td>\n",
       "      <td>1319</td>\n",
       "      <td>12_africa_south_african_white</td>\n",
       "    </tr>\n",
       "    <tr>\n",
       "      <th>14</th>\n",
       "      <td>13</td>\n",
       "      <td>1300</td>\n",
       "      <td>13_france_french_le_pen</td>\n",
       "    </tr>\n",
       "    <tr>\n",
       "      <th>15</th>\n",
       "      <td>14</td>\n",
       "      <td>1243</td>\n",
       "      <td>14_bjp_aap_swiss_modi</td>\n",
       "    </tr>\n",
       "    <tr>\n",
       "      <th>16</th>\n",
       "      <td>15</td>\n",
       "      <td>1230</td>\n",
       "      <td>15_unavailable_violates_twitter_temporarily</td>\n",
       "    </tr>\n",
       "    <tr>\n",
       "      <th>17</th>\n",
       "      <td>16</td>\n",
       "      <td>1220</td>\n",
       "      <td>16_gun_guns_armour_rifle</td>\n",
       "    </tr>\n",
       "    <tr>\n",
       "      <th>18</th>\n",
       "      <td>17</td>\n",
       "      <td>1078</td>\n",
       "      <td>17_black_white_police_ferguson</td>\n",
       "    </tr>\n",
       "    <tr>\n",
       "      <th>19</th>\n",
       "      <td>18</td>\n",
       "      <td>1076</td>\n",
       "      <td>18_turkey_turkish_turks_ottoman</td>\n",
       "    </tr>\n",
       "    <tr>\n",
       "      <th>20</th>\n",
       "      <td>19</td>\n",
       "      <td>1029</td>\n",
       "      <td>19_363070228864696330_255039575758602240_28596...</td>\n",
       "    </tr>\n",
       "  </tbody>\n",
       "</table>\n",
       "</div>"
      ],
      "text/plain": [
       "    Topic   Count                                               Name\n",
       "0      -1  195774                           -1_people_white_would_nt\n",
       "1       0    3454               0_amnesty_immigration_daca_noamnesty\n",
       "2       1    3152                      1_germany_refugees_german_die\n",
       "3       2    2247                        2_nigger_niggers_nt_fucking\n",
       "4       3    2047                         3_said_police_murder_death\n",
       "5       4    1949                     4_russia_putin_ukraine_russian\n",
       "6       5    1904                5_vittu_uploaded_christianity_vimeo\n",
       "7       6    1854                      6_israel_iran_nuclear_israeli\n",
       "8       7    1821                      7_illegal_ice_illegals_aliens\n",
       "9       8    1455                            8_women_men_white_woman\n",
       "10      9    1437                     9_sweden_swedish_norway_swedes\n",
       "11     10    1391              10_tcot_trump_nevertrumporhillary_jtf\n",
       "12     11    1325                    11_islam_muslims_islamic_muslim\n",
       "13     12    1319                      12_africa_south_african_white\n",
       "14     13    1300                            13_france_french_le_pen\n",
       "15     14    1243                              14_bjp_aap_swiss_modi\n",
       "16     15    1230        15_unavailable_violates_twitter_temporarily\n",
       "17     16    1220                           16_gun_guns_armour_rifle\n",
       "18     17    1078                     17_black_white_police_ferguson\n",
       "19     18    1076                    18_turkey_turkish_turks_ottoman\n",
       "20     19    1029  19_363070228864696330_255039575758602240_28596..."
      ]
     },
     "execution_count": 3,
     "metadata": {},
     "output_type": "execute_result"
    }
   ],
   "source": [
    "from bertopic import BERTopic\n",
    "\n",
    "topic_model = BERTopic.load('../tmp/ws_20topics.model')\n",
    "topic_model.get_topic_info()"
   ]
  },
  {
   "cell_type": "markdown",
   "id": "250f6bf6-91c4-4458-ab3b-b1eed696b709",
   "metadata": {},
   "source": [
    "### Explore"
   ]
  },
  {
   "cell_type": "code",
   "execution_count": 24,
   "id": "e45d15ce-ed0a-4af1-9332-0b0c489501c7",
   "metadata": {},
   "outputs": [
    {
     "data": {
      "application/vnd.plotly.v1+json": {
       "config": {
        "plotlyServerURL": "https://plot.ly"
       },
       "data": [
        {
         "customdata": [
          [
           0,
           "jews | jew | jewish | people | jesus",
           2623
          ],
          [
           1,
           "nigger | niggers | fuck | fucking | white",
           2197
          ],
          [
           2,
           "israel | iran | syria | israeli | us",
           1443
          ],
          [
           3,
           "white | race | whites | people | quote",
           1256
          ],
          [
           4,
           "muslims | islam | muslim | islamic | mohammed",
           979
          ],
          [
           5,
           "women | men | white | woman | black",
           871
          ],
          [
           6,
           "hitler | christianity | adolf | nazis | nazi",
           800
          ],
          [
           7,
           "police | cops | court | prison | said",
           791
          ],
          [
           8,
           "gun | guns | rifle | weapons | rifles",
           752
          ],
          [
           9,
           "die | und | der | ist | das",
           734
          ],
          [
           10,
           "vittu | posts | post | email | banned",
           672
          ],
          [
           11,
           "russia | russian | putin | ukraine | russians",
           644
          ],
          [
           12,
           "kikes | kike | porn | gas | chamber",
           641
          ],
          [
           13,
           "dixie | south | florida | texas | live",
           634
          ],
          [
           14,
           "meat | soy | eat | bread | fat",
           605
          ],
          [
           15,
           "german | germany | erik | germans | valkyrie",
           591
          ],
          [
           16,
           "italian | italy | italians | feet | mussolini",
           543
          ],
          [
           17,
           "fascism | fascist | ironmarch | fascists | im",
           539
          ],
          [
           18,
           "music | metal | song | youtube | songs",
           531
          ],
          [
           19,
           "irish | ireland | people | scotland | dublin",
           510
          ]
         ],
         "hovertemplate": "<b>Topic %{customdata[0]}</b><br>Words: %{customdata[1]}<br>Size: %{customdata[2]}",
         "legendgroup": "",
         "marker": {
          "color": [
           "#B0BEC5",
           "#B0BEC5",
           "#B0BEC5",
           "#B0BEC5",
           "#B0BEC5",
           "#B0BEC5",
           "#B0BEC5",
           "#B0BEC5",
           "red",
           "#B0BEC5",
           "#B0BEC5",
           "#B0BEC5",
           "#B0BEC5",
           "#B0BEC5",
           "#B0BEC5",
           "#B0BEC5",
           "#B0BEC5",
           "#B0BEC5",
           "#B0BEC5",
           "#B0BEC5"
          ],
          "line": {
           "color": "DarkSlateGrey",
           "width": 2
          },
          "size": [
           2623,
           2197,
           1443,
           1256,
           979,
           871,
           800,
           791,
           752,
           734,
           672,
           644,
           641,
           634,
           605,
           591,
           543,
           539,
           531,
           510
          ],
          "sizemode": "area",
          "sizeref": 1.639375,
          "symbol": "circle"
         },
         "mode": "markers",
         "name": "",
         "orientation": "v",
         "showlegend": false,
         "type": "scatter",
         "x": [
          10.52389144897461,
          2.711609363555908,
          -0.9056465029716492,
          10.3912353515625,
          9.978503227233887,
          2.073517084121704,
          10.46706771850586,
          0.8962867856025696,
          0.9564903974533081,
          4.3723907470703125,
          9.690813064575195,
          -0.9778857231140137,
          2.4602620601654053,
          4.395162105560303,
          1.8438003063201904,
          4.491138458251953,
          4.804656028747559,
          9.520292282104492,
          1.3218414783477783,
          10.459843635559082
         ],
         "xaxis": "x",
         "y": [
          13.788430213928223,
          13.385212898254395,
          4.925968647003174,
          13.228341102600098,
          13.109251976013184,
          14.373307228088379,
          14.021520614624023,
          -4.325281143188477,
          -4.264794826507568,
          13.167702674865723,
          12.717777252197266,
          4.848385334014893,
          13.31287956237793,
          13.838741302490234,
          13.98335075378418,
          13.526689529418945,
          13.5845308303833,
          13.515710830688477,
          14.338294982910156,
          12.91274356842041
         ],
         "yaxis": "y"
        }
       ],
       "layout": {
        "annotations": [
         {
          "showarrow": false,
          "text": "D1",
          "x": -1.1245685815811157,
          "y": 5.777614998817444,
          "yshift": 10
         },
         {
          "showarrow": false,
          "text": "D2",
          "x": 5.4889532923698425,
          "xshift": 10,
          "y": 16.529303312301636
         }
        ],
        "height": 650,
        "hoverlabel": {
         "bgcolor": "white",
         "font": {
          "family": "Rockwell",
          "size": 16
         }
        },
        "legend": {
         "itemsizing": "constant",
         "tracegroupgap": 0
        },
        "margin": {
         "t": 60
        },
        "shapes": [
         {
          "line": {
           "color": "#CFD8DC",
           "width": 2
          },
          "type": "line",
          "x0": 5.4889532923698425,
          "x1": 5.4889532923698425,
          "y0": -4.974073314666748,
          "y1": 16.529303312301636
         },
         {
          "line": {
           "color": "#9E9E9E",
           "width": 2
          },
          "type": "line",
          "x0": -1.1245685815811157,
          "x1": 12.1024751663208,
          "y0": 5.777614998817444,
          "y1": 5.777614998817444
         }
        ],
        "sliders": [
         {
          "active": 8,
          "pad": {
           "t": 50
          },
          "steps": [
           {
            "args": [
             {
              "marker.color": [
               [
                "red",
                "#B0BEC5",
                "#B0BEC5",
                "#B0BEC5",
                "#B0BEC5",
                "#B0BEC5",
                "#B0BEC5",
                "#B0BEC5",
                "#B0BEC5",
                "#B0BEC5",
                "#B0BEC5",
                "#B0BEC5",
                "#B0BEC5",
                "#B0BEC5",
                "#B0BEC5",
                "#B0BEC5",
                "#B0BEC5",
                "#B0BEC5",
                "#B0BEC5",
                "#B0BEC5"
               ]
              ]
             }
            ],
            "label": "Topic 0",
            "method": "update"
           },
           {
            "args": [
             {
              "marker.color": [
               [
                "#B0BEC5",
                "red",
                "#B0BEC5",
                "#B0BEC5",
                "#B0BEC5",
                "#B0BEC5",
                "#B0BEC5",
                "#B0BEC5",
                "#B0BEC5",
                "#B0BEC5",
                "#B0BEC5",
                "#B0BEC5",
                "#B0BEC5",
                "#B0BEC5",
                "#B0BEC5",
                "#B0BEC5",
                "#B0BEC5",
                "#B0BEC5",
                "#B0BEC5",
                "#B0BEC5"
               ]
              ]
             }
            ],
            "label": "Topic 1",
            "method": "update"
           },
           {
            "args": [
             {
              "marker.color": [
               [
                "#B0BEC5",
                "#B0BEC5",
                "red",
                "#B0BEC5",
                "#B0BEC5",
                "#B0BEC5",
                "#B0BEC5",
                "#B0BEC5",
                "#B0BEC5",
                "#B0BEC5",
                "#B0BEC5",
                "#B0BEC5",
                "#B0BEC5",
                "#B0BEC5",
                "#B0BEC5",
                "#B0BEC5",
                "#B0BEC5",
                "#B0BEC5",
                "#B0BEC5",
                "#B0BEC5"
               ]
              ]
             }
            ],
            "label": "Topic 2",
            "method": "update"
           },
           {
            "args": [
             {
              "marker.color": [
               [
                "#B0BEC5",
                "#B0BEC5",
                "#B0BEC5",
                "red",
                "#B0BEC5",
                "#B0BEC5",
                "#B0BEC5",
                "#B0BEC5",
                "#B0BEC5",
                "#B0BEC5",
                "#B0BEC5",
                "#B0BEC5",
                "#B0BEC5",
                "#B0BEC5",
                "#B0BEC5",
                "#B0BEC5",
                "#B0BEC5",
                "#B0BEC5",
                "#B0BEC5",
                "#B0BEC5"
               ]
              ]
             }
            ],
            "label": "Topic 3",
            "method": "update"
           },
           {
            "args": [
             {
              "marker.color": [
               [
                "#B0BEC5",
                "#B0BEC5",
                "#B0BEC5",
                "#B0BEC5",
                "red",
                "#B0BEC5",
                "#B0BEC5",
                "#B0BEC5",
                "#B0BEC5",
                "#B0BEC5",
                "#B0BEC5",
                "#B0BEC5",
                "#B0BEC5",
                "#B0BEC5",
                "#B0BEC5",
                "#B0BEC5",
                "#B0BEC5",
                "#B0BEC5",
                "#B0BEC5",
                "#B0BEC5"
               ]
              ]
             }
            ],
            "label": "Topic 4",
            "method": "update"
           },
           {
            "args": [
             {
              "marker.color": [
               [
                "#B0BEC5",
                "#B0BEC5",
                "#B0BEC5",
                "#B0BEC5",
                "#B0BEC5",
                "red",
                "#B0BEC5",
                "#B0BEC5",
                "#B0BEC5",
                "#B0BEC5",
                "#B0BEC5",
                "#B0BEC5",
                "#B0BEC5",
                "#B0BEC5",
                "#B0BEC5",
                "#B0BEC5",
                "#B0BEC5",
                "#B0BEC5",
                "#B0BEC5",
                "#B0BEC5"
               ]
              ]
             }
            ],
            "label": "Topic 5",
            "method": "update"
           },
           {
            "args": [
             {
              "marker.color": [
               [
                "#B0BEC5",
                "#B0BEC5",
                "#B0BEC5",
                "#B0BEC5",
                "#B0BEC5",
                "#B0BEC5",
                "red",
                "#B0BEC5",
                "#B0BEC5",
                "#B0BEC5",
                "#B0BEC5",
                "#B0BEC5",
                "#B0BEC5",
                "#B0BEC5",
                "#B0BEC5",
                "#B0BEC5",
                "#B0BEC5",
                "#B0BEC5",
                "#B0BEC5",
                "#B0BEC5"
               ]
              ]
             }
            ],
            "label": "Topic 6",
            "method": "update"
           },
           {
            "args": [
             {
              "marker.color": [
               [
                "#B0BEC5",
                "#B0BEC5",
                "#B0BEC5",
                "#B0BEC5",
                "#B0BEC5",
                "#B0BEC5",
                "#B0BEC5",
                "red",
                "#B0BEC5",
                "#B0BEC5",
                "#B0BEC5",
                "#B0BEC5",
                "#B0BEC5",
                "#B0BEC5",
                "#B0BEC5",
                "#B0BEC5",
                "#B0BEC5",
                "#B0BEC5",
                "#B0BEC5",
                "#B0BEC5"
               ]
              ]
             }
            ],
            "label": "Topic 7",
            "method": "update"
           },
           {
            "args": [
             {
              "marker.color": [
               [
                "#B0BEC5",
                "#B0BEC5",
                "#B0BEC5",
                "#B0BEC5",
                "#B0BEC5",
                "#B0BEC5",
                "#B0BEC5",
                "#B0BEC5",
                "red",
                "#B0BEC5",
                "#B0BEC5",
                "#B0BEC5",
                "#B0BEC5",
                "#B0BEC5",
                "#B0BEC5",
                "#B0BEC5",
                "#B0BEC5",
                "#B0BEC5",
                "#B0BEC5",
                "#B0BEC5"
               ]
              ]
             }
            ],
            "label": "Topic 8",
            "method": "update"
           },
           {
            "args": [
             {
              "marker.color": [
               [
                "#B0BEC5",
                "#B0BEC5",
                "#B0BEC5",
                "#B0BEC5",
                "#B0BEC5",
                "#B0BEC5",
                "#B0BEC5",
                "#B0BEC5",
                "#B0BEC5",
                "red",
                "#B0BEC5",
                "#B0BEC5",
                "#B0BEC5",
                "#B0BEC5",
                "#B0BEC5",
                "#B0BEC5",
                "#B0BEC5",
                "#B0BEC5",
                "#B0BEC5",
                "#B0BEC5"
               ]
              ]
             }
            ],
            "label": "Topic 9",
            "method": "update"
           },
           {
            "args": [
             {
              "marker.color": [
               [
                "#B0BEC5",
                "#B0BEC5",
                "#B0BEC5",
                "#B0BEC5",
                "#B0BEC5",
                "#B0BEC5",
                "#B0BEC5",
                "#B0BEC5",
                "#B0BEC5",
                "#B0BEC5",
                "red",
                "#B0BEC5",
                "#B0BEC5",
                "#B0BEC5",
                "#B0BEC5",
                "#B0BEC5",
                "#B0BEC5",
                "#B0BEC5",
                "#B0BEC5",
                "#B0BEC5"
               ]
              ]
             }
            ],
            "label": "Topic 10",
            "method": "update"
           },
           {
            "args": [
             {
              "marker.color": [
               [
                "#B0BEC5",
                "#B0BEC5",
                "#B0BEC5",
                "#B0BEC5",
                "#B0BEC5",
                "#B0BEC5",
                "#B0BEC5",
                "#B0BEC5",
                "#B0BEC5",
                "#B0BEC5",
                "#B0BEC5",
                "red",
                "#B0BEC5",
                "#B0BEC5",
                "#B0BEC5",
                "#B0BEC5",
                "#B0BEC5",
                "#B0BEC5",
                "#B0BEC5",
                "#B0BEC5"
               ]
              ]
             }
            ],
            "label": "Topic 11",
            "method": "update"
           },
           {
            "args": [
             {
              "marker.color": [
               [
                "#B0BEC5",
                "#B0BEC5",
                "#B0BEC5",
                "#B0BEC5",
                "#B0BEC5",
                "#B0BEC5",
                "#B0BEC5",
                "#B0BEC5",
                "#B0BEC5",
                "#B0BEC5",
                "#B0BEC5",
                "#B0BEC5",
                "red",
                "#B0BEC5",
                "#B0BEC5",
                "#B0BEC5",
                "#B0BEC5",
                "#B0BEC5",
                "#B0BEC5",
                "#B0BEC5"
               ]
              ]
             }
            ],
            "label": "Topic 12",
            "method": "update"
           },
           {
            "args": [
             {
              "marker.color": [
               [
                "#B0BEC5",
                "#B0BEC5",
                "#B0BEC5",
                "#B0BEC5",
                "#B0BEC5",
                "#B0BEC5",
                "#B0BEC5",
                "#B0BEC5",
                "#B0BEC5",
                "#B0BEC5",
                "#B0BEC5",
                "#B0BEC5",
                "#B0BEC5",
                "red",
                "#B0BEC5",
                "#B0BEC5",
                "#B0BEC5",
                "#B0BEC5",
                "#B0BEC5",
                "#B0BEC5"
               ]
              ]
             }
            ],
            "label": "Topic 13",
            "method": "update"
           },
           {
            "args": [
             {
              "marker.color": [
               [
                "#B0BEC5",
                "#B0BEC5",
                "#B0BEC5",
                "#B0BEC5",
                "#B0BEC5",
                "#B0BEC5",
                "#B0BEC5",
                "#B0BEC5",
                "#B0BEC5",
                "#B0BEC5",
                "#B0BEC5",
                "#B0BEC5",
                "#B0BEC5",
                "#B0BEC5",
                "red",
                "#B0BEC5",
                "#B0BEC5",
                "#B0BEC5",
                "#B0BEC5",
                "#B0BEC5"
               ]
              ]
             }
            ],
            "label": "Topic 14",
            "method": "update"
           },
           {
            "args": [
             {
              "marker.color": [
               [
                "#B0BEC5",
                "#B0BEC5",
                "#B0BEC5",
                "#B0BEC5",
                "#B0BEC5",
                "#B0BEC5",
                "#B0BEC5",
                "#B0BEC5",
                "#B0BEC5",
                "#B0BEC5",
                "#B0BEC5",
                "#B0BEC5",
                "#B0BEC5",
                "#B0BEC5",
                "#B0BEC5",
                "red",
                "#B0BEC5",
                "#B0BEC5",
                "#B0BEC5",
                "#B0BEC5"
               ]
              ]
             }
            ],
            "label": "Topic 15",
            "method": "update"
           },
           {
            "args": [
             {
              "marker.color": [
               [
                "#B0BEC5",
                "#B0BEC5",
                "#B0BEC5",
                "#B0BEC5",
                "#B0BEC5",
                "#B0BEC5",
                "#B0BEC5",
                "#B0BEC5",
                "#B0BEC5",
                "#B0BEC5",
                "#B0BEC5",
                "#B0BEC5",
                "#B0BEC5",
                "#B0BEC5",
                "#B0BEC5",
                "#B0BEC5",
                "red",
                "#B0BEC5",
                "#B0BEC5",
                "#B0BEC5"
               ]
              ]
             }
            ],
            "label": "Topic 16",
            "method": "update"
           },
           {
            "args": [
             {
              "marker.color": [
               [
                "#B0BEC5",
                "#B0BEC5",
                "#B0BEC5",
                "#B0BEC5",
                "#B0BEC5",
                "#B0BEC5",
                "#B0BEC5",
                "#B0BEC5",
                "#B0BEC5",
                "#B0BEC5",
                "#B0BEC5",
                "#B0BEC5",
                "#B0BEC5",
                "#B0BEC5",
                "#B0BEC5",
                "#B0BEC5",
                "#B0BEC5",
                "red",
                "#B0BEC5",
                "#B0BEC5"
               ]
              ]
             }
            ],
            "label": "Topic 17",
            "method": "update"
           },
           {
            "args": [
             {
              "marker.color": [
               [
                "#B0BEC5",
                "#B0BEC5",
                "#B0BEC5",
                "#B0BEC5",
                "#B0BEC5",
                "#B0BEC5",
                "#B0BEC5",
                "#B0BEC5",
                "#B0BEC5",
                "#B0BEC5",
                "#B0BEC5",
                "#B0BEC5",
                "#B0BEC5",
                "#B0BEC5",
                "#B0BEC5",
                "#B0BEC5",
                "#B0BEC5",
                "#B0BEC5",
                "red",
                "#B0BEC5"
               ]
              ]
             }
            ],
            "label": "Topic 18",
            "method": "update"
           },
           {
            "args": [
             {
              "marker.color": [
               [
                "#B0BEC5",
                "#B0BEC5",
                "#B0BEC5",
                "#B0BEC5",
                "#B0BEC5",
                "#B0BEC5",
                "#B0BEC5",
                "#B0BEC5",
                "#B0BEC5",
                "#B0BEC5",
                "#B0BEC5",
                "#B0BEC5",
                "#B0BEC5",
                "#B0BEC5",
                "#B0BEC5",
                "#B0BEC5",
                "#B0BEC5",
                "#B0BEC5",
                "#B0BEC5",
                "red"
               ]
              ]
             }
            ],
            "label": "Topic 19",
            "method": "update"
           }
          ]
         }
        ],
        "template": {
         "data": {
          "bar": [
           {
            "error_x": {
             "color": "rgb(36,36,36)"
            },
            "error_y": {
             "color": "rgb(36,36,36)"
            },
            "marker": {
             "line": {
              "color": "white",
              "width": 0.5
             },
             "pattern": {
              "fillmode": "overlay",
              "size": 10,
              "solidity": 0.2
             }
            },
            "type": "bar"
           }
          ],
          "barpolar": [
           {
            "marker": {
             "line": {
              "color": "white",
              "width": 0.5
             },
             "pattern": {
              "fillmode": "overlay",
              "size": 10,
              "solidity": 0.2
             }
            },
            "type": "barpolar"
           }
          ],
          "carpet": [
           {
            "aaxis": {
             "endlinecolor": "rgb(36,36,36)",
             "gridcolor": "white",
             "linecolor": "white",
             "minorgridcolor": "white",
             "startlinecolor": "rgb(36,36,36)"
            },
            "baxis": {
             "endlinecolor": "rgb(36,36,36)",
             "gridcolor": "white",
             "linecolor": "white",
             "minorgridcolor": "white",
             "startlinecolor": "rgb(36,36,36)"
            },
            "type": "carpet"
           }
          ],
          "choropleth": [
           {
            "colorbar": {
             "outlinewidth": 1,
             "tickcolor": "rgb(36,36,36)",
             "ticks": "outside"
            },
            "type": "choropleth"
           }
          ],
          "contour": [
           {
            "colorbar": {
             "outlinewidth": 1,
             "tickcolor": "rgb(36,36,36)",
             "ticks": "outside"
            },
            "colorscale": [
             [
              0,
              "#440154"
             ],
             [
              0.1111111111111111,
              "#482878"
             ],
             [
              0.2222222222222222,
              "#3e4989"
             ],
             [
              0.3333333333333333,
              "#31688e"
             ],
             [
              0.4444444444444444,
              "#26828e"
             ],
             [
              0.5555555555555556,
              "#1f9e89"
             ],
             [
              0.6666666666666666,
              "#35b779"
             ],
             [
              0.7777777777777778,
              "#6ece58"
             ],
             [
              0.8888888888888888,
              "#b5de2b"
             ],
             [
              1,
              "#fde725"
             ]
            ],
            "type": "contour"
           }
          ],
          "contourcarpet": [
           {
            "colorbar": {
             "outlinewidth": 1,
             "tickcolor": "rgb(36,36,36)",
             "ticks": "outside"
            },
            "type": "contourcarpet"
           }
          ],
          "heatmap": [
           {
            "colorbar": {
             "outlinewidth": 1,
             "tickcolor": "rgb(36,36,36)",
             "ticks": "outside"
            },
            "colorscale": [
             [
              0,
              "#440154"
             ],
             [
              0.1111111111111111,
              "#482878"
             ],
             [
              0.2222222222222222,
              "#3e4989"
             ],
             [
              0.3333333333333333,
              "#31688e"
             ],
             [
              0.4444444444444444,
              "#26828e"
             ],
             [
              0.5555555555555556,
              "#1f9e89"
             ],
             [
              0.6666666666666666,
              "#35b779"
             ],
             [
              0.7777777777777778,
              "#6ece58"
             ],
             [
              0.8888888888888888,
              "#b5de2b"
             ],
             [
              1,
              "#fde725"
             ]
            ],
            "type": "heatmap"
           }
          ],
          "heatmapgl": [
           {
            "colorbar": {
             "outlinewidth": 1,
             "tickcolor": "rgb(36,36,36)",
             "ticks": "outside"
            },
            "colorscale": [
             [
              0,
              "#440154"
             ],
             [
              0.1111111111111111,
              "#482878"
             ],
             [
              0.2222222222222222,
              "#3e4989"
             ],
             [
              0.3333333333333333,
              "#31688e"
             ],
             [
              0.4444444444444444,
              "#26828e"
             ],
             [
              0.5555555555555556,
              "#1f9e89"
             ],
             [
              0.6666666666666666,
              "#35b779"
             ],
             [
              0.7777777777777778,
              "#6ece58"
             ],
             [
              0.8888888888888888,
              "#b5de2b"
             ],
             [
              1,
              "#fde725"
             ]
            ],
            "type": "heatmapgl"
           }
          ],
          "histogram": [
           {
            "marker": {
             "line": {
              "color": "white",
              "width": 0.6
             }
            },
            "type": "histogram"
           }
          ],
          "histogram2d": [
           {
            "colorbar": {
             "outlinewidth": 1,
             "tickcolor": "rgb(36,36,36)",
             "ticks": "outside"
            },
            "colorscale": [
             [
              0,
              "#440154"
             ],
             [
              0.1111111111111111,
              "#482878"
             ],
             [
              0.2222222222222222,
              "#3e4989"
             ],
             [
              0.3333333333333333,
              "#31688e"
             ],
             [
              0.4444444444444444,
              "#26828e"
             ],
             [
              0.5555555555555556,
              "#1f9e89"
             ],
             [
              0.6666666666666666,
              "#35b779"
             ],
             [
              0.7777777777777778,
              "#6ece58"
             ],
             [
              0.8888888888888888,
              "#b5de2b"
             ],
             [
              1,
              "#fde725"
             ]
            ],
            "type": "histogram2d"
           }
          ],
          "histogram2dcontour": [
           {
            "colorbar": {
             "outlinewidth": 1,
             "tickcolor": "rgb(36,36,36)",
             "ticks": "outside"
            },
            "colorscale": [
             [
              0,
              "#440154"
             ],
             [
              0.1111111111111111,
              "#482878"
             ],
             [
              0.2222222222222222,
              "#3e4989"
             ],
             [
              0.3333333333333333,
              "#31688e"
             ],
             [
              0.4444444444444444,
              "#26828e"
             ],
             [
              0.5555555555555556,
              "#1f9e89"
             ],
             [
              0.6666666666666666,
              "#35b779"
             ],
             [
              0.7777777777777778,
              "#6ece58"
             ],
             [
              0.8888888888888888,
              "#b5de2b"
             ],
             [
              1,
              "#fde725"
             ]
            ],
            "type": "histogram2dcontour"
           }
          ],
          "mesh3d": [
           {
            "colorbar": {
             "outlinewidth": 1,
             "tickcolor": "rgb(36,36,36)",
             "ticks": "outside"
            },
            "type": "mesh3d"
           }
          ],
          "parcoords": [
           {
            "line": {
             "colorbar": {
              "outlinewidth": 1,
              "tickcolor": "rgb(36,36,36)",
              "ticks": "outside"
             }
            },
            "type": "parcoords"
           }
          ],
          "pie": [
           {
            "automargin": true,
            "type": "pie"
           }
          ],
          "scatter": [
           {
            "fillpattern": {
             "fillmode": "overlay",
             "size": 10,
             "solidity": 0.2
            },
            "type": "scatter"
           }
          ],
          "scatter3d": [
           {
            "line": {
             "colorbar": {
              "outlinewidth": 1,
              "tickcolor": "rgb(36,36,36)",
              "ticks": "outside"
             }
            },
            "marker": {
             "colorbar": {
              "outlinewidth": 1,
              "tickcolor": "rgb(36,36,36)",
              "ticks": "outside"
             }
            },
            "type": "scatter3d"
           }
          ],
          "scattercarpet": [
           {
            "marker": {
             "colorbar": {
              "outlinewidth": 1,
              "tickcolor": "rgb(36,36,36)",
              "ticks": "outside"
             }
            },
            "type": "scattercarpet"
           }
          ],
          "scattergeo": [
           {
            "marker": {
             "colorbar": {
              "outlinewidth": 1,
              "tickcolor": "rgb(36,36,36)",
              "ticks": "outside"
             }
            },
            "type": "scattergeo"
           }
          ],
          "scattergl": [
           {
            "marker": {
             "colorbar": {
              "outlinewidth": 1,
              "tickcolor": "rgb(36,36,36)",
              "ticks": "outside"
             }
            },
            "type": "scattergl"
           }
          ],
          "scattermapbox": [
           {
            "marker": {
             "colorbar": {
              "outlinewidth": 1,
              "tickcolor": "rgb(36,36,36)",
              "ticks": "outside"
             }
            },
            "type": "scattermapbox"
           }
          ],
          "scatterpolar": [
           {
            "marker": {
             "colorbar": {
              "outlinewidth": 1,
              "tickcolor": "rgb(36,36,36)",
              "ticks": "outside"
             }
            },
            "type": "scatterpolar"
           }
          ],
          "scatterpolargl": [
           {
            "marker": {
             "colorbar": {
              "outlinewidth": 1,
              "tickcolor": "rgb(36,36,36)",
              "ticks": "outside"
             }
            },
            "type": "scatterpolargl"
           }
          ],
          "scatterternary": [
           {
            "marker": {
             "colorbar": {
              "outlinewidth": 1,
              "tickcolor": "rgb(36,36,36)",
              "ticks": "outside"
             }
            },
            "type": "scatterternary"
           }
          ],
          "surface": [
           {
            "colorbar": {
             "outlinewidth": 1,
             "tickcolor": "rgb(36,36,36)",
             "ticks": "outside"
            },
            "colorscale": [
             [
              0,
              "#440154"
             ],
             [
              0.1111111111111111,
              "#482878"
             ],
             [
              0.2222222222222222,
              "#3e4989"
             ],
             [
              0.3333333333333333,
              "#31688e"
             ],
             [
              0.4444444444444444,
              "#26828e"
             ],
             [
              0.5555555555555556,
              "#1f9e89"
             ],
             [
              0.6666666666666666,
              "#35b779"
             ],
             [
              0.7777777777777778,
              "#6ece58"
             ],
             [
              0.8888888888888888,
              "#b5de2b"
             ],
             [
              1,
              "#fde725"
             ]
            ],
            "type": "surface"
           }
          ],
          "table": [
           {
            "cells": {
             "fill": {
              "color": "rgb(237,237,237)"
             },
             "line": {
              "color": "white"
             }
            },
            "header": {
             "fill": {
              "color": "rgb(217,217,217)"
             },
             "line": {
              "color": "white"
             }
            },
            "type": "table"
           }
          ]
         },
         "layout": {
          "annotationdefaults": {
           "arrowhead": 0,
           "arrowwidth": 1
          },
          "autotypenumbers": "strict",
          "coloraxis": {
           "colorbar": {
            "outlinewidth": 1,
            "tickcolor": "rgb(36,36,36)",
            "ticks": "outside"
           }
          },
          "colorscale": {
           "diverging": [
            [
             0,
             "rgb(103,0,31)"
            ],
            [
             0.1,
             "rgb(178,24,43)"
            ],
            [
             0.2,
             "rgb(214,96,77)"
            ],
            [
             0.3,
             "rgb(244,165,130)"
            ],
            [
             0.4,
             "rgb(253,219,199)"
            ],
            [
             0.5,
             "rgb(247,247,247)"
            ],
            [
             0.6,
             "rgb(209,229,240)"
            ],
            [
             0.7,
             "rgb(146,197,222)"
            ],
            [
             0.8,
             "rgb(67,147,195)"
            ],
            [
             0.9,
             "rgb(33,102,172)"
            ],
            [
             1,
             "rgb(5,48,97)"
            ]
           ],
           "sequential": [
            [
             0,
             "#440154"
            ],
            [
             0.1111111111111111,
             "#482878"
            ],
            [
             0.2222222222222222,
             "#3e4989"
            ],
            [
             0.3333333333333333,
             "#31688e"
            ],
            [
             0.4444444444444444,
             "#26828e"
            ],
            [
             0.5555555555555556,
             "#1f9e89"
            ],
            [
             0.6666666666666666,
             "#35b779"
            ],
            [
             0.7777777777777778,
             "#6ece58"
            ],
            [
             0.8888888888888888,
             "#b5de2b"
            ],
            [
             1,
             "#fde725"
            ]
           ],
           "sequentialminus": [
            [
             0,
             "#440154"
            ],
            [
             0.1111111111111111,
             "#482878"
            ],
            [
             0.2222222222222222,
             "#3e4989"
            ],
            [
             0.3333333333333333,
             "#31688e"
            ],
            [
             0.4444444444444444,
             "#26828e"
            ],
            [
             0.5555555555555556,
             "#1f9e89"
            ],
            [
             0.6666666666666666,
             "#35b779"
            ],
            [
             0.7777777777777778,
             "#6ece58"
            ],
            [
             0.8888888888888888,
             "#b5de2b"
            ],
            [
             1,
             "#fde725"
            ]
           ]
          },
          "colorway": [
           "#1F77B4",
           "#FF7F0E",
           "#2CA02C",
           "#D62728",
           "#9467BD",
           "#8C564B",
           "#E377C2",
           "#7F7F7F",
           "#BCBD22",
           "#17BECF"
          ],
          "font": {
           "color": "rgb(36,36,36)"
          },
          "geo": {
           "bgcolor": "white",
           "lakecolor": "white",
           "landcolor": "white",
           "showlakes": true,
           "showland": true,
           "subunitcolor": "white"
          },
          "hoverlabel": {
           "align": "left"
          },
          "hovermode": "closest",
          "mapbox": {
           "style": "light"
          },
          "paper_bgcolor": "white",
          "plot_bgcolor": "white",
          "polar": {
           "angularaxis": {
            "gridcolor": "rgb(232,232,232)",
            "linecolor": "rgb(36,36,36)",
            "showgrid": false,
            "showline": true,
            "ticks": "outside"
           },
           "bgcolor": "white",
           "radialaxis": {
            "gridcolor": "rgb(232,232,232)",
            "linecolor": "rgb(36,36,36)",
            "showgrid": false,
            "showline": true,
            "ticks": "outside"
           }
          },
          "scene": {
           "xaxis": {
            "backgroundcolor": "white",
            "gridcolor": "rgb(232,232,232)",
            "gridwidth": 2,
            "linecolor": "rgb(36,36,36)",
            "showbackground": true,
            "showgrid": false,
            "showline": true,
            "ticks": "outside",
            "zeroline": false,
            "zerolinecolor": "rgb(36,36,36)"
           },
           "yaxis": {
            "backgroundcolor": "white",
            "gridcolor": "rgb(232,232,232)",
            "gridwidth": 2,
            "linecolor": "rgb(36,36,36)",
            "showbackground": true,
            "showgrid": false,
            "showline": true,
            "ticks": "outside",
            "zeroline": false,
            "zerolinecolor": "rgb(36,36,36)"
           },
           "zaxis": {
            "backgroundcolor": "white",
            "gridcolor": "rgb(232,232,232)",
            "gridwidth": 2,
            "linecolor": "rgb(36,36,36)",
            "showbackground": true,
            "showgrid": false,
            "showline": true,
            "ticks": "outside",
            "zeroline": false,
            "zerolinecolor": "rgb(36,36,36)"
           }
          },
          "shapedefaults": {
           "fillcolor": "black",
           "line": {
            "width": 0
           },
           "opacity": 0.3
          },
          "ternary": {
           "aaxis": {
            "gridcolor": "rgb(232,232,232)",
            "linecolor": "rgb(36,36,36)",
            "showgrid": false,
            "showline": true,
            "ticks": "outside"
           },
           "baxis": {
            "gridcolor": "rgb(232,232,232)",
            "linecolor": "rgb(36,36,36)",
            "showgrid": false,
            "showline": true,
            "ticks": "outside"
           },
           "bgcolor": "white",
           "caxis": {
            "gridcolor": "rgb(232,232,232)",
            "linecolor": "rgb(36,36,36)",
            "showgrid": false,
            "showline": true,
            "ticks": "outside"
           }
          },
          "title": {
           "x": 0.05
          },
          "xaxis": {
           "automargin": true,
           "gridcolor": "rgb(232,232,232)",
           "linecolor": "rgb(36,36,36)",
           "showgrid": false,
           "showline": true,
           "ticks": "outside",
           "title": {
            "standoff": 15
           },
           "zeroline": false,
           "zerolinecolor": "rgb(36,36,36)"
          },
          "yaxis": {
           "automargin": true,
           "gridcolor": "rgb(232,232,232)",
           "linecolor": "rgb(36,36,36)",
           "showgrid": false,
           "showline": true,
           "ticks": "outside",
           "title": {
            "standoff": 15
           },
           "zeroline": false,
           "zerolinecolor": "rgb(36,36,36)"
          }
         }
        },
        "title": {
         "font": {
          "color": "Black",
          "size": 22
         },
         "text": "<b>Intertopic Distance Map",
         "x": 0.5,
         "xanchor": "center",
         "y": 0.95,
         "yanchor": "top"
        },
        "width": 650,
        "xaxis": {
         "anchor": "y",
         "domain": [
          0,
          1
         ],
         "range": [
          -1.1245685815811157,
          12.1024751663208
         ],
         "title": {
          "text": ""
         },
         "type": "linear",
         "visible": false
        },
        "yaxis": {
         "anchor": "x",
         "domain": [
          0,
          1
         ],
         "range": [
          -4.974073314666748,
          16.529303312301636
         ],
         "title": {
          "text": ""
         },
         "type": "linear",
         "visible": false
        }
       }
      },
      "image/png": "[encoded data removed]",
      "text/html": [
       "<div>                            <div id=\"2b6a1ac8-521f-4e69-8d50-7ddbec37c022\" class=\"plotly-graph-div\" style=\"height:650px; width:650px;\"></div>            <script type=\"text/javascript\">                require([\"plotly\"], function(Plotly) {                    window.PLOTLYENV=window.PLOTLYENV || {};                                    if (document.getElementById(\"2b6a1ac8-521f-4e69-8d50-7ddbec37c022\")) {                    Plotly.newPlot(                        \"2b6a1ac8-521f-4e69-8d50-7ddbec37c022\",                        [{\"customdata\":[[0,\"jews | jew | jewish | people | jesus\",2623],[1,\"nigger | niggers | fuck | fucking | white\",2197],[2,\"israel | iran | syria | israeli | us\",1443],[3,\"white | race | whites | people | quote\",1256],[4,\"muslims | islam | muslim | islamic | mohammed\",979],[5,\"women | men | white | woman | black\",871],[6,\"hitler | christianity | adolf | nazis | nazi\",800],[7,\"police | cops | court | prison | said\",791],[8,\"gun | guns | rifle | weapons | rifles\",752],[9,\"die | und | der | ist | das\",734],[10,\"vittu | posts | post | email | banned\",672],[11,\"russia | russian | putin | ukraine | russians\",644],[12,\"kikes | kike | porn | gas | chamber\",641],[13,\"dixie | south | florida | texas | live\",634],[14,\"meat | soy | eat | bread | fat\",605],[15,\"german | germany | erik | germans | valkyrie\",591],[16,\"italian | italy | italians | feet | mussolini\",543],[17,\"fascism | fascist | ironmarch | fascists | im\",539],[18,\"music | metal | song | youtube | songs\",531],[19,\"irish | ireland | people | scotland | dublin\",510]],\"hovertemplate\":\"<b>Topic %{customdata[0]}</b><br>Words: %{customdata[1]}<br>Size: %{customdata[2]}\",\"legendgroup\":\"\",\"marker\":{\"color\":\"#B0BEC5\",\"size\":[2623,2197,1443,1256,979,871,800,791,752,734,672,644,641,634,605,591,543,539,531,510],\"sizemode\":\"area\",\"sizeref\":1.639375,\"symbol\":\"circle\",\"line\":{\"color\":\"DarkSlateGrey\",\"width\":2}},\"mode\":\"markers\",\"name\":\"\",\"orientation\":\"v\",\"showlegend\":false,\"x\":[10.52389144897461,2.711609363555908,-0.9056465029716492,10.3912353515625,9.978503227233887,2.073517084121704,10.46706771850586,0.8962867856025696,0.9564903974533081,4.3723907470703125,9.690813064575195,-0.9778857231140137,2.4602620601654053,4.395162105560303,1.8438003063201904,4.491138458251953,4.804656028747559,9.520292282104492,1.3218414783477783,10.459843635559082],\"xaxis\":\"x\",\"y\":[13.788430213928223,13.385212898254395,4.925968647003174,13.228341102600098,13.109251976013184,14.373307228088379,14.021520614624023,-4.325281143188477,-4.264794826507568,13.167702674865723,12.717777252197266,4.848385334014893,13.31287956237793,13.838741302490234,13.98335075378418,13.526689529418945,13.5845308303833,13.515710830688477,14.338294982910156,12.91274356842041],\"yaxis\":\"y\",\"type\":\"scatter\"}],                        {\"template\":{\"data\":{\"barpolar\":[{\"marker\":{\"line\":{\"color\":\"white\",\"width\":0.5},\"pattern\":{\"fillmode\":\"overlay\",\"size\":10,\"solidity\":0.2}},\"type\":\"barpolar\"}],\"bar\":[{\"error_x\":{\"color\":\"rgb(36,36,36)\"},\"error_y\":{\"color\":\"rgb(36,36,36)\"},\"marker\":{\"line\":{\"color\":\"white\",\"width\":0.5},\"pattern\":{\"fillmode\":\"overlay\",\"size\":10,\"solidity\":0.2}},\"type\":\"bar\"}],\"carpet\":[{\"aaxis\":{\"endlinecolor\":\"rgb(36,36,36)\",\"gridcolor\":\"white\",\"linecolor\":\"white\",\"minorgridcolor\":\"white\",\"startlinecolor\":\"rgb(36,36,36)\"},\"baxis\":{\"endlinecolor\":\"rgb(36,36,36)\",\"gridcolor\":\"white\",\"linecolor\":\"white\",\"minorgridcolor\":\"white\",\"startlinecolor\":\"rgb(36,36,36)\"},\"type\":\"carpet\"}],\"choropleth\":[{\"colorbar\":{\"outlinewidth\":1,\"tickcolor\":\"rgb(36,36,36)\",\"ticks\":\"outside\"},\"type\":\"choropleth\"}],\"contourcarpet\":[{\"colorbar\":{\"outlinewidth\":1,\"tickcolor\":\"rgb(36,36,36)\",\"ticks\":\"outside\"},\"type\":\"contourcarpet\"}],\"contour\":[{\"colorbar\":{\"outlinewidth\":1,\"tickcolor\":\"rgb(36,36,36)\",\"ticks\":\"outside\"},\"colorscale\":[[0.0,\"#440154\"],[0.1111111111111111,\"#482878\"],[0.2222222222222222,\"#3e4989\"],[0.3333333333333333,\"#31688e\"],[0.4444444444444444,\"#26828e\"],[0.5555555555555556,\"#1f9e89\"],[0.6666666666666666,\"#35b779\"],[0.7777777777777778,\"#6ece58\"],[0.8888888888888888,\"#b5de2b\"],[1.0,\"#fde725\"]],\"type\":\"contour\"}],\"heatmapgl\":[{\"colorbar\":{\"outlinewidth\":1,\"tickcolor\":\"rgb(36,36,36)\",\"ticks\":\"outside\"},\"colorscale\":[[0.0,\"#440154\"],[0.1111111111111111,\"#482878\"],[0.2222222222222222,\"#3e4989\"],[0.3333333333333333,\"#31688e\"],[0.4444444444444444,\"#26828e\"],[0.5555555555555556,\"#1f9e89\"],[0.6666666666666666,\"#35b779\"],[0.7777777777777778,\"#6ece58\"],[0.8888888888888888,\"#b5de2b\"],[1.0,\"#fde725\"]],\"type\":\"heatmapgl\"}],\"heatmap\":[{\"colorbar\":{\"outlinewidth\":1,\"tickcolor\":\"rgb(36,36,36)\",\"ticks\":\"outside\"},\"colorscale\":[[0.0,\"#440154\"],[0.1111111111111111,\"#482878\"],[0.2222222222222222,\"#3e4989\"],[0.3333333333333333,\"#31688e\"],[0.4444444444444444,\"#26828e\"],[0.5555555555555556,\"#1f9e89\"],[0.6666666666666666,\"#35b779\"],[0.7777777777777778,\"#6ece58\"],[0.8888888888888888,\"#b5de2b\"],[1.0,\"#fde725\"]],\"type\":\"heatmap\"}],\"histogram2dcontour\":[{\"colorbar\":{\"outlinewidth\":1,\"tickcolor\":\"rgb(36,36,36)\",\"ticks\":\"outside\"},\"colorscale\":[[0.0,\"#440154\"],[0.1111111111111111,\"#482878\"],[0.2222222222222222,\"#3e4989\"],[0.3333333333333333,\"#31688e\"],[0.4444444444444444,\"#26828e\"],[0.5555555555555556,\"#1f9e89\"],[0.6666666666666666,\"#35b779\"],[0.7777777777777778,\"#6ece58\"],[0.8888888888888888,\"#b5de2b\"],[1.0,\"#fde725\"]],\"type\":\"histogram2dcontour\"}],\"histogram2d\":[{\"colorbar\":{\"outlinewidth\":1,\"tickcolor\":\"rgb(36,36,36)\",\"ticks\":\"outside\"},\"colorscale\":[[0.0,\"#440154\"],[0.1111111111111111,\"#482878\"],[0.2222222222222222,\"#3e4989\"],[0.3333333333333333,\"#31688e\"],[0.4444444444444444,\"#26828e\"],[0.5555555555555556,\"#1f9e89\"],[0.6666666666666666,\"#35b779\"],[0.7777777777777778,\"#6ece58\"],[0.8888888888888888,\"#b5de2b\"],[1.0,\"#fde725\"]],\"type\":\"histogram2d\"}],\"histogram\":[{\"marker\":{\"line\":{\"color\":\"white\",\"width\":0.6}},\"type\":\"histogram\"}],\"mesh3d\":[{\"colorbar\":{\"outlinewidth\":1,\"tickcolor\":\"rgb(36,36,36)\",\"ticks\":\"outside\"},\"type\":\"mesh3d\"}],\"parcoords\":[{\"line\":{\"colorbar\":{\"outlinewidth\":1,\"tickcolor\":\"rgb(36,36,36)\",\"ticks\":\"outside\"}},\"type\":\"parcoords\"}],\"pie\":[{\"automargin\":true,\"type\":\"pie\"}],\"scatter3d\":[{\"line\":{\"colorbar\":{\"outlinewidth\":1,\"tickcolor\":\"rgb(36,36,36)\",\"ticks\":\"outside\"}},\"marker\":{\"colorbar\":{\"outlinewidth\":1,\"tickcolor\":\"rgb(36,36,36)\",\"ticks\":\"outside\"}},\"type\":\"scatter3d\"}],\"scattercarpet\":[{\"marker\":{\"colorbar\":{\"outlinewidth\":1,\"tickcolor\":\"rgb(36,36,36)\",\"ticks\":\"outside\"}},\"type\":\"scattercarpet\"}],\"scattergeo\":[{\"marker\":{\"colorbar\":{\"outlinewidth\":1,\"tickcolor\":\"rgb(36,36,36)\",\"ticks\":\"outside\"}},\"type\":\"scattergeo\"}],\"scattergl\":[{\"marker\":{\"colorbar\":{\"outlinewidth\":1,\"tickcolor\":\"rgb(36,36,36)\",\"ticks\":\"outside\"}},\"type\":\"scattergl\"}],\"scattermapbox\":[{\"marker\":{\"colorbar\":{\"outlinewidth\":1,\"tickcolor\":\"rgb(36,36,36)\",\"ticks\":\"outside\"}},\"type\":\"scattermapbox\"}],\"scatterpolargl\":[{\"marker\":{\"colorbar\":{\"outlinewidth\":1,\"tickcolor\":\"rgb(36,36,36)\",\"ticks\":\"outside\"}},\"type\":\"scatterpolargl\"}],\"scatterpolar\":[{\"marker\":{\"colorbar\":{\"outlinewidth\":1,\"tickcolor\":\"rgb(36,36,36)\",\"ticks\":\"outside\"}},\"type\":\"scatterpolar\"}],\"scatter\":[{\"fillpattern\":{\"fillmode\":\"overlay\",\"size\":10,\"solidity\":0.2},\"type\":\"scatter\"}],\"scatterternary\":[{\"marker\":{\"colorbar\":{\"outlinewidth\":1,\"tickcolor\":\"rgb(36,36,36)\",\"ticks\":\"outside\"}},\"type\":\"scatterternary\"}],\"surface\":[{\"colorbar\":{\"outlinewidth\":1,\"tickcolor\":\"rgb(36,36,36)\",\"ticks\":\"outside\"},\"colorscale\":[[0.0,\"#440154\"],[0.1111111111111111,\"#482878\"],[0.2222222222222222,\"#3e4989\"],[0.3333333333333333,\"#31688e\"],[0.4444444444444444,\"#26828e\"],[0.5555555555555556,\"#1f9e89\"],[0.6666666666666666,\"#35b779\"],[0.7777777777777778,\"#6ece58\"],[0.8888888888888888,\"#b5de2b\"],[1.0,\"#fde725\"]],\"type\":\"surface\"}],\"table\":[{\"cells\":{\"fill\":{\"color\":\"rgb(237,237,237)\"},\"line\":{\"color\":\"white\"}},\"header\":{\"fill\":{\"color\":\"rgb(217,217,217)\"},\"line\":{\"color\":\"white\"}},\"type\":\"table\"}]},\"layout\":{\"annotationdefaults\":{\"arrowhead\":0,\"arrowwidth\":1},\"autotypenumbers\":\"strict\",\"coloraxis\":{\"colorbar\":{\"outlinewidth\":1,\"tickcolor\":\"rgb(36,36,36)\",\"ticks\":\"outside\"}},\"colorscale\":{\"diverging\":[[0.0,\"rgb(103,0,31)\"],[0.1,\"rgb(178,24,43)\"],[0.2,\"rgb(214,96,77)\"],[0.3,\"rgb(244,165,130)\"],[0.4,\"rgb(253,219,199)\"],[0.5,\"rgb(247,247,247)\"],[0.6,\"rgb(209,229,240)\"],[0.7,\"rgb(146,197,222)\"],[0.8,\"rgb(67,147,195)\"],[0.9,\"rgb(33,102,172)\"],[1.0,\"rgb(5,48,97)\"]],\"sequential\":[[0.0,\"#440154\"],[0.1111111111111111,\"#482878\"],[0.2222222222222222,\"#3e4989\"],[0.3333333333333333,\"#31688e\"],[0.4444444444444444,\"#26828e\"],[0.5555555555555556,\"#1f9e89\"],[0.6666666666666666,\"#35b779\"],[0.7777777777777778,\"#6ece58\"],[0.8888888888888888,\"#b5de2b\"],[1.0,\"#fde725\"]],\"sequentialminus\":[[0.0,\"#440154\"],[0.1111111111111111,\"#482878\"],[0.2222222222222222,\"#3e4989\"],[0.3333333333333333,\"#31688e\"],[0.4444444444444444,\"#26828e\"],[0.5555555555555556,\"#1f9e89\"],[0.6666666666666666,\"#35b779\"],[0.7777777777777778,\"#6ece58\"],[0.8888888888888888,\"#b5de2b\"],[1.0,\"#fde725\"]]},\"colorway\":[\"#1F77B4\",\"#FF7F0E\",\"#2CA02C\",\"#D62728\",\"#9467BD\",\"#8C564B\",\"#E377C2\",\"#7F7F7F\",\"#BCBD22\",\"#17BECF\"],\"font\":{\"color\":\"rgb(36,36,36)\"},\"geo\":{\"bgcolor\":\"white\",\"lakecolor\":\"white\",\"landcolor\":\"white\",\"showlakes\":true,\"showland\":true,\"subunitcolor\":\"white\"},\"hoverlabel\":{\"align\":\"left\"},\"hovermode\":\"closest\",\"mapbox\":{\"style\":\"light\"},\"paper_bgcolor\":\"white\",\"plot_bgcolor\":\"white\",\"polar\":{\"angularaxis\":{\"gridcolor\":\"rgb(232,232,232)\",\"linecolor\":\"rgb(36,36,36)\",\"showgrid\":false,\"showline\":true,\"ticks\":\"outside\"},\"bgcolor\":\"white\",\"radialaxis\":{\"gridcolor\":\"rgb(232,232,232)\",\"linecolor\":\"rgb(36,36,36)\",\"showgrid\":false,\"showline\":true,\"ticks\":\"outside\"}},\"scene\":{\"xaxis\":{\"backgroundcolor\":\"white\",\"gridcolor\":\"rgb(232,232,232)\",\"gridwidth\":2,\"linecolor\":\"rgb(36,36,36)\",\"showbackground\":true,\"showgrid\":false,\"showline\":true,\"ticks\":\"outside\",\"zeroline\":false,\"zerolinecolor\":\"rgb(36,36,36)\"},\"yaxis\":{\"backgroundcolor\":\"white\",\"gridcolor\":\"rgb(232,232,232)\",\"gridwidth\":2,\"linecolor\":\"rgb(36,36,36)\",\"showbackground\":true,\"showgrid\":false,\"showline\":true,\"ticks\":\"outside\",\"zeroline\":false,\"zerolinecolor\":\"rgb(36,36,36)\"},\"zaxis\":{\"backgroundcolor\":\"white\",\"gridcolor\":\"rgb(232,232,232)\",\"gridwidth\":2,\"linecolor\":\"rgb(36,36,36)\",\"showbackground\":true,\"showgrid\":false,\"showline\":true,\"ticks\":\"outside\",\"zeroline\":false,\"zerolinecolor\":\"rgb(36,36,36)\"}},\"shapedefaults\":{\"fillcolor\":\"black\",\"line\":{\"width\":0},\"opacity\":0.3},\"ternary\":{\"aaxis\":{\"gridcolor\":\"rgb(232,232,232)\",\"linecolor\":\"rgb(36,36,36)\",\"showgrid\":false,\"showline\":true,\"ticks\":\"outside\"},\"baxis\":{\"gridcolor\":\"rgb(232,232,232)\",\"linecolor\":\"rgb(36,36,36)\",\"showgrid\":false,\"showline\":true,\"ticks\":\"outside\"},\"bgcolor\":\"white\",\"caxis\":{\"gridcolor\":\"rgb(232,232,232)\",\"linecolor\":\"rgb(36,36,36)\",\"showgrid\":false,\"showline\":true,\"ticks\":\"outside\"}},\"title\":{\"x\":0.05},\"xaxis\":{\"automargin\":true,\"gridcolor\":\"rgb(232,232,232)\",\"linecolor\":\"rgb(36,36,36)\",\"showgrid\":false,\"showline\":true,\"ticks\":\"outside\",\"title\":{\"standoff\":15},\"zeroline\":false,\"zerolinecolor\":\"rgb(36,36,36)\"},\"yaxis\":{\"automargin\":true,\"gridcolor\":\"rgb(232,232,232)\",\"linecolor\":\"rgb(36,36,36)\",\"showgrid\":false,\"showline\":true,\"ticks\":\"outside\",\"title\":{\"standoff\":15},\"zeroline\":false,\"zerolinecolor\":\"rgb(36,36,36)\"}}},\"xaxis\":{\"anchor\":\"y\",\"domain\":[0.0,1.0],\"title\":{\"text\":\"\"},\"visible\":false,\"range\":[-1.1245685815811157,12.1024751663208]},\"yaxis\":{\"anchor\":\"x\",\"domain\":[0.0,1.0],\"title\":{\"text\":\"\"},\"visible\":false,\"range\":[-4.974073314666748,16.529303312301636]},\"legend\":{\"tracegroupgap\":0,\"itemsizing\":\"constant\"},\"margin\":{\"t\":60},\"title\":{\"font\":{\"size\":22,\"color\":\"Black\"},\"text\":\"<b>Intertopic Distance Map\",\"y\":0.95,\"x\":0.5,\"xanchor\":\"center\",\"yanchor\":\"top\"},\"hoverlabel\":{\"font\":{\"size\":16,\"family\":\"Rockwell\"},\"bgcolor\":\"white\"},\"width\":650,\"height\":650,\"sliders\":[{\"active\":0,\"pad\":{\"t\":50},\"steps\":[{\"args\":[{\"marker.color\":[[\"red\",\"#B0BEC5\",\"#B0BEC5\",\"#B0BEC5\",\"#B0BEC5\",\"#B0BEC5\",\"#B0BEC5\",\"#B0BEC5\",\"#B0BEC5\",\"#B0BEC5\",\"#B0BEC5\",\"#B0BEC5\",\"#B0BEC5\",\"#B0BEC5\",\"#B0BEC5\",\"#B0BEC5\",\"#B0BEC5\",\"#B0BEC5\",\"#B0BEC5\",\"#B0BEC5\"]]}],\"label\":\"Topic 0\",\"method\":\"update\"},{\"args\":[{\"marker.color\":[[\"#B0BEC5\",\"red\",\"#B0BEC5\",\"#B0BEC5\",\"#B0BEC5\",\"#B0BEC5\",\"#B0BEC5\",\"#B0BEC5\",\"#B0BEC5\",\"#B0BEC5\",\"#B0BEC5\",\"#B0BEC5\",\"#B0BEC5\",\"#B0BEC5\",\"#B0BEC5\",\"#B0BEC5\",\"#B0BEC5\",\"#B0BEC5\",\"#B0BEC5\",\"#B0BEC5\"]]}],\"label\":\"Topic 1\",\"method\":\"update\"},{\"args\":[{\"marker.color\":[[\"#B0BEC5\",\"#B0BEC5\",\"red\",\"#B0BEC5\",\"#B0BEC5\",\"#B0BEC5\",\"#B0BEC5\",\"#B0BEC5\",\"#B0BEC5\",\"#B0BEC5\",\"#B0BEC5\",\"#B0BEC5\",\"#B0BEC5\",\"#B0BEC5\",\"#B0BEC5\",\"#B0BEC5\",\"#B0BEC5\",\"#B0BEC5\",\"#B0BEC5\",\"#B0BEC5\"]]}],\"label\":\"Topic 2\",\"method\":\"update\"},{\"args\":[{\"marker.color\":[[\"#B0BEC5\",\"#B0BEC5\",\"#B0BEC5\",\"red\",\"#B0BEC5\",\"#B0BEC5\",\"#B0BEC5\",\"#B0BEC5\",\"#B0BEC5\",\"#B0BEC5\",\"#B0BEC5\",\"#B0BEC5\",\"#B0BEC5\",\"#B0BEC5\",\"#B0BEC5\",\"#B0BEC5\",\"#B0BEC5\",\"#B0BEC5\",\"#B0BEC5\",\"#B0BEC5\"]]}],\"label\":\"Topic 3\",\"method\":\"update\"},{\"args\":[{\"marker.color\":[[\"#B0BEC5\",\"#B0BEC5\",\"#B0BEC5\",\"#B0BEC5\",\"red\",\"#B0BEC5\",\"#B0BEC5\",\"#B0BEC5\",\"#B0BEC5\",\"#B0BEC5\",\"#B0BEC5\",\"#B0BEC5\",\"#B0BEC5\",\"#B0BEC5\",\"#B0BEC5\",\"#B0BEC5\",\"#B0BEC5\",\"#B0BEC5\",\"#B0BEC5\",\"#B0BEC5\"]]}],\"label\":\"Topic 4\",\"method\":\"update\"},{\"args\":[{\"marker.color\":[[\"#B0BEC5\",\"#B0BEC5\",\"#B0BEC5\",\"#B0BEC5\",\"#B0BEC5\",\"red\",\"#B0BEC5\",\"#B0BEC5\",\"#B0BEC5\",\"#B0BEC5\",\"#B0BEC5\",\"#B0BEC5\",\"#B0BEC5\",\"#B0BEC5\",\"#B0BEC5\",\"#B0BEC5\",\"#B0BEC5\",\"#B0BEC5\",\"#B0BEC5\",\"#B0BEC5\"]]}],\"label\":\"Topic 5\",\"method\":\"update\"},{\"args\":[{\"marker.color\":[[\"#B0BEC5\",\"#B0BEC5\",\"#B0BEC5\",\"#B0BEC5\",\"#B0BEC5\",\"#B0BEC5\",\"red\",\"#B0BEC5\",\"#B0BEC5\",\"#B0BEC5\",\"#B0BEC5\",\"#B0BEC5\",\"#B0BEC5\",\"#B0BEC5\",\"#B0BEC5\",\"#B0BEC5\",\"#B0BEC5\",\"#B0BEC5\",\"#B0BEC5\",\"#B0BEC5\"]]}],\"label\":\"Topic 6\",\"method\":\"update\"},{\"args\":[{\"marker.color\":[[\"#B0BEC5\",\"#B0BEC5\",\"#B0BEC5\",\"#B0BEC5\",\"#B0BEC5\",\"#B0BEC5\",\"#B0BEC5\",\"red\",\"#B0BEC5\",\"#B0BEC5\",\"#B0BEC5\",\"#B0BEC5\",\"#B0BEC5\",\"#B0BEC5\",\"#B0BEC5\",\"#B0BEC5\",\"#B0BEC5\",\"#B0BEC5\",\"#B0BEC5\",\"#B0BEC5\"]]}],\"label\":\"Topic 7\",\"method\":\"update\"},{\"args\":[{\"marker.color\":[[\"#B0BEC5\",\"#B0BEC5\",\"#B0BEC5\",\"#B0BEC5\",\"#B0BEC5\",\"#B0BEC5\",\"#B0BEC5\",\"#B0BEC5\",\"red\",\"#B0BEC5\",\"#B0BEC5\",\"#B0BEC5\",\"#B0BEC5\",\"#B0BEC5\",\"#B0BEC5\",\"#B0BEC5\",\"#B0BEC5\",\"#B0BEC5\",\"#B0BEC5\",\"#B0BEC5\"]]}],\"label\":\"Topic 8\",\"method\":\"update\"},{\"args\":[{\"marker.color\":[[\"#B0BEC5\",\"#B0BEC5\",\"#B0BEC5\",\"#B0BEC5\",\"#B0BEC5\",\"#B0BEC5\",\"#B0BEC5\",\"#B0BEC5\",\"#B0BEC5\",\"red\",\"#B0BEC5\",\"#B0BEC5\",\"#B0BEC5\",\"#B0BEC5\",\"#B0BEC5\",\"#B0BEC5\",\"#B0BEC5\",\"#B0BEC5\",\"#B0BEC5\",\"#B0BEC5\"]]}],\"label\":\"Topic 9\",\"method\":\"update\"},{\"args\":[{\"marker.color\":[[\"#B0BEC5\",\"#B0BEC5\",\"#B0BEC5\",\"#B0BEC5\",\"#B0BEC5\",\"#B0BEC5\",\"#B0BEC5\",\"#B0BEC5\",\"#B0BEC5\",\"#B0BEC5\",\"red\",\"#B0BEC5\",\"#B0BEC5\",\"#B0BEC5\",\"#B0BEC5\",\"#B0BEC5\",\"#B0BEC5\",\"#B0BEC5\",\"#B0BEC5\",\"#B0BEC5\"]]}],\"label\":\"Topic 10\",\"method\":\"update\"},{\"args\":[{\"marker.color\":[[\"#B0BEC5\",\"#B0BEC5\",\"#B0BEC5\",\"#B0BEC5\",\"#B0BEC5\",\"#B0BEC5\",\"#B0BEC5\",\"#B0BEC5\",\"#B0BEC5\",\"#B0BEC5\",\"#B0BEC5\",\"red\",\"#B0BEC5\",\"#B0BEC5\",\"#B0BEC5\",\"#B0BEC5\",\"#B0BEC5\",\"#B0BEC5\",\"#B0BEC5\",\"#B0BEC5\"]]}],\"label\":\"Topic 11\",\"method\":\"update\"},{\"args\":[{\"marker.color\":[[\"#B0BEC5\",\"#B0BEC5\",\"#B0BEC5\",\"#B0BEC5\",\"#B0BEC5\",\"#B0BEC5\",\"#B0BEC5\",\"#B0BEC5\",\"#B0BEC5\",\"#B0BEC5\",\"#B0BEC5\",\"#B0BEC5\",\"red\",\"#B0BEC5\",\"#B0BEC5\",\"#B0BEC5\",\"#B0BEC5\",\"#B0BEC5\",\"#B0BEC5\",\"#B0BEC5\"]]}],\"label\":\"Topic 12\",\"method\":\"update\"},{\"args\":[{\"marker.color\":[[\"#B0BEC5\",\"#B0BEC5\",\"#B0BEC5\",\"#B0BEC5\",\"#B0BEC5\",\"#B0BEC5\",\"#B0BEC5\",\"#B0BEC5\",\"#B0BEC5\",\"#B0BEC5\",\"#B0BEC5\",\"#B0BEC5\",\"#B0BEC5\",\"red\",\"#B0BEC5\",\"#B0BEC5\",\"#B0BEC5\",\"#B0BEC5\",\"#B0BEC5\",\"#B0BEC5\"]]}],\"label\":\"Topic 13\",\"method\":\"update\"},{\"args\":[{\"marker.color\":[[\"#B0BEC5\",\"#B0BEC5\",\"#B0BEC5\",\"#B0BEC5\",\"#B0BEC5\",\"#B0BEC5\",\"#B0BEC5\",\"#B0BEC5\",\"#B0BEC5\",\"#B0BEC5\",\"#B0BEC5\",\"#B0BEC5\",\"#B0BEC5\",\"#B0BEC5\",\"red\",\"#B0BEC5\",\"#B0BEC5\",\"#B0BEC5\",\"#B0BEC5\",\"#B0BEC5\"]]}],\"label\":\"Topic 14\",\"method\":\"update\"},{\"args\":[{\"marker.color\":[[\"#B0BEC5\",\"#B0BEC5\",\"#B0BEC5\",\"#B0BEC5\",\"#B0BEC5\",\"#B0BEC5\",\"#B0BEC5\",\"#B0BEC5\",\"#B0BEC5\",\"#B0BEC5\",\"#B0BEC5\",\"#B0BEC5\",\"#B0BEC5\",\"#B0BEC5\",\"#B0BEC5\",\"red\",\"#B0BEC5\",\"#B0BEC5\",\"#B0BEC5\",\"#B0BEC5\"]]}],\"label\":\"Topic 15\",\"method\":\"update\"},{\"args\":[{\"marker.color\":[[\"#B0BEC5\",\"#B0BEC5\",\"#B0BEC5\",\"#B0BEC5\",\"#B0BEC5\",\"#B0BEC5\",\"#B0BEC5\",\"#B0BEC5\",\"#B0BEC5\",\"#B0BEC5\",\"#B0BEC5\",\"#B0BEC5\",\"#B0BEC5\",\"#B0BEC5\",\"#B0BEC5\",\"#B0BEC5\",\"red\",\"#B0BEC5\",\"#B0BEC5\",\"#B0BEC5\"]]}],\"label\":\"Topic 16\",\"method\":\"update\"},{\"args\":[{\"marker.color\":[[\"#B0BEC5\",\"#B0BEC5\",\"#B0BEC5\",\"#B0BEC5\",\"#B0BEC5\",\"#B0BEC5\",\"#B0BEC5\",\"#B0BEC5\",\"#B0BEC5\",\"#B0BEC5\",\"#B0BEC5\",\"#B0BEC5\",\"#B0BEC5\",\"#B0BEC5\",\"#B0BEC5\",\"#B0BEC5\",\"#B0BEC5\",\"red\",\"#B0BEC5\",\"#B0BEC5\"]]}],\"label\":\"Topic 17\",\"method\":\"update\"},{\"args\":[{\"marker.color\":[[\"#B0BEC5\",\"#B0BEC5\",\"#B0BEC5\",\"#B0BEC5\",\"#B0BEC5\",\"#B0BEC5\",\"#B0BEC5\",\"#B0BEC5\",\"#B0BEC5\",\"#B0BEC5\",\"#B0BEC5\",\"#B0BEC5\",\"#B0BEC5\",\"#B0BEC5\",\"#B0BEC5\",\"#B0BEC5\",\"#B0BEC5\",\"#B0BEC5\",\"red\",\"#B0BEC5\"]]}],\"label\":\"Topic 18\",\"method\":\"update\"},{\"args\":[{\"marker.color\":[[\"#B0BEC5\",\"#B0BEC5\",\"#B0BEC5\",\"#B0BEC5\",\"#B0BEC5\",\"#B0BEC5\",\"#B0BEC5\",\"#B0BEC5\",\"#B0BEC5\",\"#B0BEC5\",\"#B0BEC5\",\"#B0BEC5\",\"#B0BEC5\",\"#B0BEC5\",\"#B0BEC5\",\"#B0BEC5\",\"#B0BEC5\",\"#B0BEC5\",\"#B0BEC5\",\"red\"]]}],\"label\":\"Topic 19\",\"method\":\"update\"}]}],\"shapes\":[{\"line\":{\"color\":\"#CFD8DC\",\"width\":2},\"type\":\"line\",\"x0\":5.4889532923698425,\"x1\":5.4889532923698425,\"y0\":-4.974073314666748,\"y1\":16.529303312301636},{\"line\":{\"color\":\"#9E9E9E\",\"width\":2},\"type\":\"line\",\"x0\":-1.1245685815811157,\"x1\":12.1024751663208,\"y0\":5.777614998817444,\"y1\":5.777614998817444}],\"annotations\":[{\"showarrow\":false,\"text\":\"D1\",\"x\":-1.1245685815811157,\"y\":5.777614998817444,\"yshift\":10},{\"showarrow\":false,\"text\":\"D2\",\"x\":5.4889532923698425,\"xshift\":10,\"y\":16.529303312301636}]},                        {\"responsive\": true}                    ).then(function(){\n",
       "                            \n",
       "var gd = document.getElementById('2b6a1ac8-521f-4e69-8d50-7ddbec37c022');\n",
       "var x = new MutationObserver(function (mutations, observer) {{\n",
       "        var display = window.getComputedStyle(gd).display;\n",
       "        if (!display || display === 'none') {{\n",
       "            console.log([gd, 'removed!']);\n",
       "            Plotly.purge(gd);\n",
       "            observer.disconnect();\n",
       "        }}\n",
       "}});\n",
       "\n",
       "// Listen for the removal of the full notebook cells\n",
       "var notebookContainer = gd.closest('#notebook-container');\n",
       "if (notebookContainer) {{\n",
       "    x.observe(notebookContainer, {childList: true});\n",
       "}}\n",
       "\n",
       "// Listen for the clearing of the current output cell\n",
       "var outputEl = gd.closest('.output');\n",
       "if (outputEl) {{\n",
       "    x.observe(outputEl, {childList: true});\n",
       "}}\n",
       "\n",
       "                        })                };                });            </script>        </div>"
      ]
     },
     "metadata": {},
     "output_type": "display_data"
    }
   ],
   "source": [
    "# Visualize topics\n",
    "topic_model.visualize_topics()"
   ]
  },
  {
   "cell_type": "code",
   "execution_count": 28,
   "id": "07f39feb-e77a-4f34-be7f-e267d8d5005b",
   "metadata": {
    "scrolled": true,
    "tags": []
   },
   "outputs": [
    {
     "name": "stdout",
     "output_type": "stream",
     "text": [
      "7\n",
      "[('police', 0.057855429872677416),\n",
      " ('cops', 0.026430380685074514),\n",
      " ('court', 0.017742900761793454),\n",
      " ('prison', 0.017105304982540176),\n",
      " ('said', 0.01697966469426368),\n",
      " ('jail', 0.014509036892882191),\n",
      " ('charged', 0.013942757306675),\n",
      " ('cop', 0.013771395900569248),\n",
      " ('man', 0.013594467309457712),\n",
      " ('officer', 0.013550237139093325)]\n",
      "good thing remember , whatever laws uphold , police generally decent individuals .\n",
      "\n",
      "dislike police know useful . called cops multiple times past neighbors laud 10pm .\n",
      "\n",
      "bets garrido murdered teens front sex-slave victim keep silent terrified . `` garrido investigation murder 15-year-old lisa norrell , found strangled november 1998 . body discovered nine days disappeared way home party antioch . '' think survivor dugard needs put suicide watch undoubtedly begin flashbacks . manuel , brentwood northern california , said : 'he fell bad crowd mexicans , started taking lsd , f * * * * * . went nuts . 's right head . little bastard know 's . garrido hung mexicans . 's clear identifier saw .\n",
      "\n",
      "d. c. police learn black history part new training program d.c. police officers take course critical race theory visit national museum african american history culture part new training program , mayor muriel e. bowser ( ) announced friday morning outside museum . program , developed partnership d.c. police university district columbia community college , comes wake amid nationwide concern biased policing use force officers , particularly communities color . bowser report say crime decreased district — end 2017 saw 23 percent drop violent crimes 17 percent fewer homicides — negative interactions officers black residents remain issue . program takes officers day training , includes three-hour lecture black history , guided tour national museum african american history culture lesson u street , officers examine police brutality . al/public-safety/dc-police-to-learn -black-history-as-part-of-new-train ing-program/2018/04/13/-3f5 5-11e8-8d53-eba0ed2371cc_story.html ? noredirect=on & utm_term=.fd 42 & wprss=rss_crime tax dollars hard work , gentlemen . also , completely unrelated news : baltimore residents blame record-high murder rate lower police presence 824963/baltimore-residents-blame-re cord-high-murder-rate-on-lower-poli ce-presence\n",
      "\n",
      "pro-white comments communist rag : arrest made shooting ferguson , missouri police officers | world | news |\n",
      "\n",
      "fuck msm bullshit , 've pushing chimpout us . bastards getting look us 're sooooo sad dead police officers back talking police bad evil white people hunt poor little black angles sport\n",
      "\n",
      "white information network ( win ) : matrix malevolence : columbus culture corruption-part 1 alba voce 05/01 american nationalist network | current events podcasts tonight welcome back michael weaver ( dad special guest ) recent events ongoing fight hometown , columbus , ga. banishment city due white advocacy trumped case advised plead guilty . michael 's father jumped fray opinion piece lawrenceville patch , `` police state amerika : people 's republic columbus , georgia.-by david carothers '' , found : police state amerika : people 's republic columbus , georgia.-by david carothers - speak - lawrenceville , ga patch , leading inevitable run ins local commissars . also please ask help michael battle eternal enemy signing petitions behalf visiting home page paypal button directs donations directly .\n",
      "\n",
      "wow , story growing legs ! checked google news sources covering angle suggests hate crime . racially motivated - google search\n",
      "\n",
      "whether like white nationalists must stand alongside george zimmerman ! much determined monumental case plays . supporting george zimmerman showing contempt negroes , jooz , liberal media political posturings .\n",
      "\n",
      "illegal immigrant , used forged passport open two bank accounts , jailed six months . ahmed maal caught working pizza outlet city centre visited immigration officers . 46-year-old , jupiter close , highfields , leicester , claimed indian refugee given asylum , untrue . fingerprint scanner showed identity registered authorities . home , officers seized fake south african passport , used open two accounts barclays christopher geeson , prosecution , told leicester crown court : `` interview frank said came uk 1996 false british passport . '' illegal immigrant , used forged passport open two bank accounts , jailed six months .\n",
      "\n",
      "8\n",
      "[('gun', 0.09100392522145397),\n",
      " ('guns', 0.06735108612667515),\n",
      " ('rifle', 0.021614257347674432),\n",
      " ('weapons', 0.020868949944551775),\n",
      " ('rifles', 0.02080496341457627),\n",
      " ('get', 0.0184235137259319),\n",
      " ('ammo', 0.017259580664364848),\n",
      " ('shooting', 0.01656135830825308),\n",
      " ('one', 0.016129556885485327),\n",
      " ('carry', 0.01548506837935594)]\n",
      "looking pic . thanks . want also add semi-automatic 30.06 rifles , like remington 750 , around since 1940s civilian hands . 10-round bigger clips since least '70s ; literally likely kill somebody 30.06 bigger .556 .\n",
      "\n",
      "high quality semiauto actually better beat rack grade military guns . would take personal mk12 copy beater m4a1 day . 'm rifle guy , even know . plenty `` hunting rifle '' semi 's would effective spray pray m4 full auto .\n",
      "\n",
      ". would hard chinks get hold ar-15s reverse engineer .\n",
      "\n",
      "left want take away guns ? criminals get guns anyway point ?\n",
      "\n",
      "school gun free zones make ccw unworkable idea `` gun free zone '' around school needs challenged direct infringement second amendment . 's map cleveland areas , would avoid ccw permit .\n",
      "\n",
      "room 4 illegal/stolen guns . touch , due .... people ... observed . area liberals say much `` gun freedom '' , imagine guns banned , every gun see would illegal . anti-gunners worse anti-vaxxers . really come fucking stupid .\n",
      "\n",
      "'d love shred gutting knife , leftiepol fucker .\n",
      "\n",
      "das mane im sleeping uk banned pocket knife unfolded .\n",
      "\n",
      "'s chainsaw , assault butter knife .\n",
      "\n",
      "9\n",
      "[('die', 0.1282156399773756),\n",
      " ('und', 0.11912849134773573),\n",
      " ('der', 0.10926430494037571),\n",
      " ('ist', 0.07585777191612589),\n",
      " ('das', 0.07147048535504108),\n",
      " ('ich', 0.06746311657958917),\n",
      " ('nicht', 0.06479855860532596),\n",
      " ('sie', 0.059386999277538974),\n",
      " ('es', 0.055346977259673504),\n",
      " ('zu', 0.05379173022707747)]\n",
      "- mein mantel ! - den hab ' ich , miss . kinn hoch . willkommen bord ma'am willkommen auf der titanic ! für alle anderen war es ein traumschiff . für mich war es ein sklavenschiff , das mich ketten nach amerika zurückbringen sollte . nach außen war ich das wohlerzogene mädchen das ich sein sollte . meinem inneren hab ich geschrien . ( schiff tutet ) ( schwedisch ) jack ! du bist pazzo . du setzt alles , wir haben . wenn du nichts hast , kannst du auch nichts verlieren . ( schwedisch ) du idiot . ich fasse es nicht , daß du unsere fahrkarten gesetzt hast . sven ? also gut ! der augenblick der wahrheit ! für irgend jemanden beginnt ein neues leben . fabrizio ? - niente ! - niente ... olaf ? nichts ! sven ? oh-oh ! zwei paare ! tut mir leid , fabrizio . ( schimpft auf italienisch ) tut mir leid , du wirst deine mama für eine sehr lange zeit nicht sehen . denn wir fahren nach amerika ! full house , männer ! ( jack und fabrizio jubeln lauthals ) dio mio ! grazie ! ( schwedisch ) - na , komm schon ! - ( italienisch ) ich fahre nach hause ! ( schwedisch ) - ich fahre nach haus ! - ich fahre nach amerika ! ( wirt ) nein , kumpel ! die titanic wird nach amerika fahren ! fünf minuten ! scheiße ! wir müssen uns beeilen ! komm schon ! wir reisen ganz großem stil ! zwei wohlhabende junge männer ! wir sind sozusagen könige ! ( ... ? ) siehst du ? ist meine destino ich fahre nach amerika und werde millionär ! bastardo ! du pazzo ! von mir aus , aber ich hab ' die fahrkarten ! komm schon , ich denke du bist ein guter läufer . inspektor ! warten , warten sie ! warten sie ! wir sind passagiere ! warte ! wir sind passagiere ! sind sie schon bei der untersuchung gewesen ? natürlich ! wir haben sowieso keine läuse . wir sind beide amerikaner ! mein freund und ich . na schön , kommen sie bord . wir sind die größten glücksschweine der welt ! weißt du das ? ( schiff tutet ) auf wiedersehen ! - kennst du da jemanden ? - natürlich nicht , aber darum geht 's nicht ! - lebt wohl , ihr werdet mir fehlen ! - lebt wohl ! - lebt wohl ! - ich werde euch nie vergessen ! - lebt wohl ! na , lauft schon ! wir müssen nach links ! g-sechzig , g-sechzig , g-sechzig ... oh , verzeihung ! oh ! hier ist es ja ! tag ! wie geht 's denn ? jack . freut mich sehr . jack dawson . freut mich euch kennenzulernen . alles klar ? wer sagt , daß du oben schläfst ? wo ist sven ? das ist lhr privates promenadendeck , sir . haben sie noch irgendeinen wunsch ? entschuldigen sie mich. - dieses hier ? - nein . es hatte viele gesichter drauf . das hier ist es . möchten sie alle bilder auspacken ? ja . wir brauchen ein bißchen farbe diesem zimmer . ah , bringen sie das ins ankleidezimmer . ah , nicht doch wieder diese fingerzeichnungen ! die waren die reinste geldverschwendung . der unterschied zwischen cals kunstgeschmack und meinem ist , daß ich welchen habe . sie sind faszinierend . es ist als befände man sich einem traum . - es hat wahrheit aber keine logik . - wie heißt der künstler überhaupt ? irgendwas mit picasso . irgendwas mit picasso . aus dem wird nichts ! niemals , glaub mir . - bring den degas ins schlafzimmer . - wenigstens waren sie billig . der kommt auch nach nebenan . cherbourg kam eine frau namens margaret brown bord . wir nannten sie aber alle molly . die geschichte ging sie ein als die `` unsinkbare molly brown '' . ich habe ( hatte ? ) keine lust den ganzen tag auf dich zu warten , kleiner ! entschuldigung . ich hoffe das ist nicht zu schwer für dich . ihr mann war irgendwo im westen auf gold gestoßen . sie war , wie meine mutter es zu bezeichnen beliebte , neureich . nächsten nachmittag dampften wir von der westküste irlands richtung westen . es lag nichts weiter vor uns als der unendliche ozean . schicken sie sie auf see , mr. murdoch . - legen sie ein paar kohlen auf . - jawohl , sir ! - volle kraft voraus , mr. moody . - sehr wohl , sir ! - volle kraft voraus ! - volle kraft voraus ! na , los männer . legt euch ins zeug , männer ! volle leistung ! einundzwanzig knoten , sir ! hey , sieh mal da unten ! da unten ! siehst du ihn ? sieh . da ist noch einer ! siehst du sie ? siehst du , wie der springt ? wuuuh ! man kann da vorne schon die freiheitsstatue sehen ! ganz klein , natürlich ! ich bin der könig der weeelt ! ( schreien gemeinsam vor freude ) sie ist das größte bewegliche objekt , das menschen je schufen . das größte aller zeiten . unser chefkonstrukteur , mr. andrews , hat sie erschaffen . nun , ich hab ' sie vielleicht zusammengebaut , aber die idee kam von mr. ismay . ihm schwebte ein schiff von solcher kraft und größe und luxuriöser ausstattung vor , daß seine überlegenheit nie frage gestellt würde und hier ist es . durch willenskraft zu solider wirklichkeit geworden . - hört , hört ! ich nehme den lachs , bitte . du weißt , ich mag das nicht , rose . - sie weiß es . - wünschen sie , sir ? umm , wir nehmen beide das lamm . englisch , englisch mit ein wenig minzsauce . - sehr wohl sir . du magst doch lamm , zuckerpüppchen ? für mich den schellfisch . und , werden sie ihr das fleisch auch kleinschneiden , cal ? ( lacht hämisch ) hey , wer kam eigentlich auf den namen `` titanic '' ? waren sie das , bruce ? ja , ganz recht . ich wollte damit die reine größe zum ausdruck bringen . größe bedeutet stabilität , luxus und vor allem stärke . haben sie schon von dr. freud gehört , mr. ismay ? er über die männliche besessenheit `` größe '' anbelangt , bemerkt hat , dürfte sie interessieren . - ist nur dich gefahren ? - entschuldigen sie mich. ich muß mich entschuldigen . sie ist eine waffe , cal ! ich hoffe , sie können mit ihr umgehen ? ich sollte von jetzt wohl besser die abendlektüre meiner verlobten überprüfen . freud ? wer ist das ? ein passagier ? - das schiff ist ganz gut , hä ? - ja , ist auch ein irisches schiff . es ist doch englisch , oder ? nein , es wurde irland gebaut . 15.000 iren haben es gebaut . stark wie ein fels . geschaffen von kräftigen irischen händen . ist ja mal wieder typisch ! die köter aus der ersten klasse kommen hier runter um sich auszuscheissen ! damit wird uns gezeigt , wo wir uns im gesamtbild befinden . als würden wir das vergessen . - ich bin tommy ryan . - jack dawson . - hallo - fabrizio . - hi . hast du mit deinen bildern schon verdient ? ah , vergiß es , mein freund . eine frau wie die kommst du nicht ran . vorher fliegen dir kleine engel aus dem hintern . rose , war das eben für ein auftritt ? du hast versprochen , dich zu benehmen . ich sah mein leben vor mir , als ob ich es bereits hinter mir hätte . eine endlose aneinanderreihung von partys ...\n",
      "\n",
      "aber rot-rot-grün der macht würde policies die welt setzen , die deutschland auf lange sicht ein afrikanisches shithole verwandeln . die sind jetzt aber eh schon da . nun kannst du entscheiden ob wir dafür sorgen das mit euch das gleiche passiert .\n",
      "\n",
      "komm gerade zurück . 2 kreuze für die afd und 1 kreuz für deutschland\n",
      "\n",
      "lore lore ( best version ) : lore lore ( rare version ) : lore lore ( rare version ) : lore lore ( rare version ) : horst wessel lied ( rare version ) : horst wessel lied ( rare instrumental version ) : horst wessel lied ( rare version ) : horst wessel lied ( english text ) : horst wessel lied ( rare version ) horst wessel lied ( rare version ) : horst wessel lied ( rare version ) : vorwärts vorwärts : vorwärts vorwärts : vorwärts vorwärts ( english & german lyrics ) : vorwärts vorwärts ( rare version ) : ss marschiert feindesland : ss marschiert feindesland ( rare instrumental version ) : ss marschiert feindesland ( english & german lyrics ) : ss marschiert feindesland ( english text ) : ss marschiert feindesland ( rare instrumental version ) : wenn die ss und die sa aufmarschiert : wenn die ss und die sa aufmarschiert ( english & german lyrics ) : marschlied der leibstandarte : ss lied : marsch der elisabether ( rare version ) : königgrätzer marsch : königgrätzer marsch :\n",
      "\n",
      "badenweiler marsch ( rare version ) : badenweiler marsch : badenweiler marsch : badenweiler marsch ( super rare version ) ( english & german lyrics ) : sanssouci , mühlenberg : nskk lied : mit mercedes-benz voran : panzerlied ( rare vocal version ) : panzerlied ( rare instrumental version ) : panzerlied ( rare longer version ) : der mächtigste könig im luftrevier : me-109 lied : flieger sein heißt sieger sein : flieger sind sieger : ein flieger hat den bogen raus : luftwaffe marsch : luftwaffe marsch ( rare version ) : jagdgeschwader richthofen marsch : stuka lied : stuka lied ( english & german lyrics ) : das fallschirmjägerlied / rot scheint die sonne : grün ist unser fallschirm ( english & german lyrics ) : wir sind pioniere beim brückenbau bataillon : mädel , gib mir deine hand : lisa lisa ( rare version ) : lola : hannelore : hannelore ( english & german lyrics ) : deutsches mädel : sieg heil mein deutsches vaterland : deutschland hoch ehren :\n",
      "\n",
      "wir sind die braunen soldaten ( english & german lyrics ) : 's outdated .\n",
      "\n",
      "10\n",
      "[('vittu', 0.12653932505554324),\n",
      " ('posts', 0.053335200334804087),\n",
      " ('post', 0.03901569080526694),\n",
      " ('email', 0.03455218073900096),\n",
      " ('banned', 0.032772882388755746),\n",
      " ('mini', 0.03135907173525113),\n",
      " ('account', 0.029918207655112723),\n",
      " ('forum', 0.0293033655457682),\n",
      " ('nut', 0.0286039573527681),\n",
      " ('twitter', 0.024527473112494164)]\n",
      "seen activation e-mail yet . try joining ?\n",
      "\n",
      "email address wau missouri hacked , information [ email protected ] control , anyone wants contact tereasa please email [ email protected ] anyone gets message anybody msn using name please repsond give information unless confirmed via sf pm etc . setting secure emails wau soon . thanks wau\n",
      "\n",
      "waited 12 hours email received none . please fix register .\n",
      "\n",
      "god dammit twitter fuck stupid video app spike cpu hard\n",
      "\n",
      "btw . still get banned often ? write lot crap , still get banned often , hell get much bans ?\n",
      "\n",
      "lol ! serious note 's around 50 posts send without moderation - show 're really sensible , may less - patient .... 's worth wait\n",
      "\n",
      "could try b & h forum mate often sale members .\n",
      "\n",
      "stay til happens . cant wait join new ss .\n",
      "\n",
      "watched twice want join .\n",
      "\n",
      "dear sir : replies bold ... best regards . troll , excellent .\n",
      "\n"
     ]
    }
   ],
   "source": [
    "# Look into particular topics that might be off-topic\n",
    "from pprint import pprint\n",
    "selected_topics = [8,9,10]\n",
    "\n",
    "for topic in selected_topics:\n",
    "    print(topic)\n",
    "    pprint(topic_model.get_topic(topic))\n",
    "    print('\\n\\n'.join(topic_model.get_representative_docs(topic)[:10]))\n",
    "    print()"
   ]
  },
  {
   "cell_type": "code",
   "execution_count": 12,
   "id": "65faf98b-7d5e-4643-afae-d8f9516a8b67",
   "metadata": {},
   "outputs": [
    {
     "name": "stdout",
     "output_type": "stream",
     "text": [
      "<class 'pandas.core.frame.DataFrame'>\n",
      "Index: 229305 entries, calderon2021_0 to stormfront_99972\n",
      "Data columns (total 7 columns):\n",
      " #   Column      Non-Null Count   Dtype              \n",
      "---  ------      --------------   -----              \n",
      " 0   text        229305 non-null  object             \n",
      " 1   word_count  229305 non-null  int64              \n",
      " 2   dataset     229305 non-null  object             \n",
      " 3   source      229305 non-null  object             \n",
      " 4   domain      229305 non-null  object             \n",
      " 5   timestamp   229051 non-null  datetime64[ns, UTC]\n",
      " 6   num_words   229305 non-null  int64              \n",
      "dtypes: datetime64[ns, UTC](1), int64(2), object(4)\n",
      "memory usage: 14.0+ MB\n"
     ]
    }
   ],
   "source": [
    "# Find original documents in specific topics\n",
    "# Load white supremacist corpus (if need)\n",
    "import pandas as pd\n",
    "\n",
    "path = '../tmp/white_supremacist_train_corpus.pkl'\n",
    "ws_data = pd.read_pickle(path)\n",
    "ws_data.info()"
   ]
  },
  {
   "cell_type": "code",
   "execution_count": 40,
   "id": "79ee793e-a6ca-4066-83ed-b09706c35617",
   "metadata": {
    "scrolled": true,
    "tags": []
   },
   "outputs": [
    {
     "data": {
      "text/html": [
       "<div>\n",
       "<style scoped>\n",
       "    .dataframe tbody tr th:only-of-type {\n",
       "        vertical-align: middle;\n",
       "    }\n",
       "\n",
       "    .dataframe tbody tr th {\n",
       "        vertical-align: top;\n",
       "    }\n",
       "\n",
       "    .dataframe thead th {\n",
       "        text-align: right;\n",
       "    }\n",
       "</style>\n",
       "<table border=\"1\" class=\"dataframe\">\n",
       "  <thead>\n",
       "    <tr style=\"text-align: right;\">\n",
       "      <th></th>\n",
       "      <th>text</th>\n",
       "      <th>word_count</th>\n",
       "      <th>dataset</th>\n",
       "      <th>source</th>\n",
       "      <th>domain</th>\n",
       "      <th>timestamp</th>\n",
       "      <th>num_words</th>\n",
       "    </tr>\n",
       "    <tr>\n",
       "      <th>id</th>\n",
       "      <th></th>\n",
       "      <th></th>\n",
       "      <th></th>\n",
       "      <th></th>\n",
       "      <th></th>\n",
       "      <th></th>\n",
       "      <th></th>\n",
       "    </tr>\n",
       "  </thead>\n",
       "  <tbody>\n",
       "    <tr>\n",
       "      <th>stormfront_464865</th>\n",
       "      <td>if you 've completed the registration form to become a member of this board using a valid email address , but you have n't received the automated activation email necessary to complete your registration , you can request manual activation here . first , however , make sure you 've checked any spam folders associated with your email account , since the board 's automated emails are sometimes misidentified as spam by overly aggressive filtering . yes ... i 'd like to request manual activation ... i have checked , rechecked and checked again and have'nt received the automated activation email .</td>\n",
       "      <td>102</td>\n",
       "      <td>stormfront</td>\n",
       "      <td>stormfront</td>\n",
       "      <td>forum</td>\n",
       "      <td>2008-07-14 13:22:00+00:00</td>\n",
       "      <td>102</td>\n",
       "    </tr>\n",
       "  </tbody>\n",
       "</table>\n",
       "</div>"
      ],
      "text/plain": [
       "                                                                                                                                                                                                                                                                                                                                                                                                                                                                                                                                                                                                                                     text  \\\n",
       "id                                                                                                                                                                                                                                                                                                                                                                                                                                                                                                                                                                                                                                          \n",
       "stormfront_464865  if you 've completed the registration form to become a member of this board using a valid email address , but you have n't received the automated activation email necessary to complete your registration , you can request manual activation here . first , however , make sure you 've checked any spam folders associated with your email account , since the board 's automated emails are sometimes misidentified as spam by overly aggressive filtering . yes ... i 'd like to request manual activation ... i have checked , rechecked and checked again and have'nt received the automated activation email .   \n",
       "\n",
       "                   word_count     dataset      source domain  \\\n",
       "id                                                             \n",
       "stormfront_464865         102  stormfront  stormfront  forum   \n",
       "\n",
       "                                  timestamp  num_words  \n",
       "id                                                      \n",
       "stormfront_464865 2008-07-14 13:22:00+00:00        102  "
      ]
     },
     "execution_count": 40,
     "metadata": {},
     "output_type": "execute_result"
    }
   ],
   "source": [
    "pd.set_option('display.max_colwidth', None)\n",
    "search = 'activation email'\n",
    "ws_data[ws_data.text.str.contains(search)]"
   ]
  },
  {
   "cell_type": "code",
   "execution_count": 41,
   "id": "7c7e85e2-6e03-4601-b99a-0925ca355e17",
   "metadata": {
    "scrolled": true,
    "tags": []
   },
   "outputs": [
    {
     "data": {
      "text/html": [
       "<div>\n",
       "<style scoped>\n",
       "    .dataframe tbody tr th:only-of-type {\n",
       "        vertical-align: middle;\n",
       "    }\n",
       "\n",
       "    .dataframe tbody tr th {\n",
       "        vertical-align: top;\n",
       "    }\n",
       "\n",
       "    .dataframe thead th {\n",
       "        text-align: right;\n",
       "    }\n",
       "</style>\n",
       "<table border=\"1\" class=\"dataframe\">\n",
       "  <thead>\n",
       "    <tr style=\"text-align: right;\">\n",
       "      <th></th>\n",
       "      <th>text</th>\n",
       "      <th>word_count</th>\n",
       "      <th>dataset</th>\n",
       "      <th>source</th>\n",
       "      <th>domain</th>\n",
       "      <th>timestamp</th>\n",
       "      <th>num_words</th>\n",
       "    </tr>\n",
       "    <tr>\n",
       "      <th>id</th>\n",
       "      <th></th>\n",
       "      <th></th>\n",
       "      <th></th>\n",
       "      <th></th>\n",
       "      <th></th>\n",
       "      <th></th>\n",
       "      <th></th>\n",
       "    </tr>\n",
       "  </thead>\n",
       "  <tbody>\n",
       "    <tr>\n",
       "      <th>stormfront_297118</th>\n",
       "      <td>the email address of wau missouri was hacked , so any information that was in [ email protected ] is now not in our control , so if anyone wants to contact tereasa please email her at [ email protected ] anyone who gets a message from anybody on msn using her name please do not repsond or give out information unless you have confirmed it is her via sf pm etc . we will be setting up secure emails for wau very soon . thanks wau</td>\n",
       "      <td>87</td>\n",
       "      <td>stormfront</td>\n",
       "      <td>stormfront</td>\n",
       "      <td>forum</td>\n",
       "      <td>2004-02-02 12:11:00+00:00</td>\n",
       "      <td>87</td>\n",
       "    </tr>\n",
       "  </tbody>\n",
       "</table>\n",
       "</div>"
      ],
      "text/plain": [
       "                                                                                                                                                                                                                                                                                                                                                                                                                                                            text  \\\n",
       "id                                                                                                                                                                                                                                                                                                                                                                                                                                                                 \n",
       "stormfront_297118  the email address of wau missouri was hacked , so any information that was in [ email protected ] is now not in our control , so if anyone wants to contact tereasa please email her at [ email protected ] anyone who gets a message from anybody on msn using her name please do not repsond or give out information unless you have confirmed it is her via sf pm etc . we will be setting up secure emails for wau very soon . thanks wau   \n",
       "\n",
       "                   word_count     dataset      source domain  \\\n",
       "id                                                             \n",
       "stormfront_297118          87  stormfront  stormfront  forum   \n",
       "\n",
       "                                  timestamp  num_words  \n",
       "id                                                      \n",
       "stormfront_297118 2004-02-02 12:11:00+00:00         87  "
      ]
     },
     "execution_count": 41,
     "metadata": {},
     "output_type": "execute_result"
    }
   ],
   "source": [
    "search = 'contact tereasa'\n",
    "ws_data[ws_data.text.str.contains(search)]"
   ]
  },
  {
   "cell_type": "code",
   "execution_count": 42,
   "id": "f6b579d5-c3fe-4491-bacc-8d823a66e595",
   "metadata": {
    "scrolled": true,
    "tags": []
   },
   "outputs": [
    {
     "data": {
      "text/html": [
       "<div>\n",
       "<style scoped>\n",
       "    .dataframe tbody tr th:only-of-type {\n",
       "        vertical-align: middle;\n",
       "    }\n",
       "\n",
       "    .dataframe tbody tr th {\n",
       "        vertical-align: top;\n",
       "    }\n",
       "\n",
       "    .dataframe thead th {\n",
       "        text-align: right;\n",
       "    }\n",
       "</style>\n",
       "<table border=\"1\" class=\"dataframe\">\n",
       "  <thead>\n",
       "    <tr style=\"text-align: right;\">\n",
       "      <th></th>\n",
       "      <th>text</th>\n",
       "      <th>word_count</th>\n",
       "      <th>dataset</th>\n",
       "      <th>source</th>\n",
       "      <th>domain</th>\n",
       "      <th>timestamp</th>\n",
       "      <th>num_words</th>\n",
       "    </tr>\n",
       "    <tr>\n",
       "      <th>id</th>\n",
       "      <th></th>\n",
       "      <th></th>\n",
       "      <th></th>\n",
       "      <th></th>\n",
       "      <th></th>\n",
       "      <th></th>\n",
       "      <th></th>\n",
       "    </tr>\n",
       "  </thead>\n",
       "  <tbody>\n",
       "    <tr>\n",
       "      <th>stormfront_465149</th>\n",
       "      <td>i waited 12 hours for email but received none . please fix and register me .</td>\n",
       "      <td>16</td>\n",
       "      <td>stormfront</td>\n",
       "      <td>stormfront</td>\n",
       "      <td>forum</td>\n",
       "      <td>2010-02-01 09:51:00+00:00</td>\n",
       "      <td>16</td>\n",
       "    </tr>\n",
       "  </tbody>\n",
       "</table>\n",
       "</div>"
      ],
      "text/plain": [
       "                                                                                           text  \\\n",
       "id                                                                                                \n",
       "stormfront_465149  i waited 12 hours for email but received none . please fix and register me .   \n",
       "\n",
       "                   word_count     dataset      source domain  \\\n",
       "id                                                             \n",
       "stormfront_465149          16  stormfront  stormfront  forum   \n",
       "\n",
       "                                  timestamp  num_words  \n",
       "id                                                      \n",
       "stormfront_465149 2010-02-01 09:51:00+00:00         16  "
      ]
     },
     "execution_count": 42,
     "metadata": {},
     "output_type": "execute_result"
    }
   ],
   "source": [
    "search = 'waited 12 hours'\n",
    "ws_data[ws_data.text.str.contains(search)]"
   ]
  },
  {
   "cell_type": "code",
   "execution_count": 43,
   "id": "8f4001a1-b782-4adf-8ac5-f786160dd6fb",
   "metadata": {
    "scrolled": true,
    "tags": []
   },
   "outputs": [
    {
     "data": {
      "text/html": [
       "<div>\n",
       "<style scoped>\n",
       "    .dataframe tbody tr th:only-of-type {\n",
       "        vertical-align: middle;\n",
       "    }\n",
       "\n",
       "    .dataframe tbody tr th {\n",
       "        vertical-align: top;\n",
       "    }\n",
       "\n",
       "    .dataframe thead th {\n",
       "        text-align: right;\n",
       "    }\n",
       "</style>\n",
       "<table border=\"1\" class=\"dataframe\">\n",
       "  <thead>\n",
       "    <tr style=\"text-align: right;\">\n",
       "      <th></th>\n",
       "      <th>text</th>\n",
       "      <th>word_count</th>\n",
       "      <th>dataset</th>\n",
       "      <th>source</th>\n",
       "      <th>domain</th>\n",
       "      <th>timestamp</th>\n",
       "      <th>num_words</th>\n",
       "    </tr>\n",
       "    <tr>\n",
       "      <th>id</th>\n",
       "      <th></th>\n",
       "      <th></th>\n",
       "      <th></th>\n",
       "      <th></th>\n",
       "      <th></th>\n",
       "      <th></th>\n",
       "      <th></th>\n",
       "    </tr>\n",
       "  </thead>\n",
       "  <tbody>\n",
       "    <tr>\n",
       "      <th>jokubausaite2020_655617</th>\n",
       "      <td>god dammit twitter why the fuck does your stupid video app spike cpu that hard</td>\n",
       "      <td>15</td>\n",
       "      <td>jokubausaite2020</td>\n",
       "      <td>4chan</td>\n",
       "      <td>forum</td>\n",
       "      <td>2016-07-08 23:26:05+00:00</td>\n",
       "      <td>15</td>\n",
       "    </tr>\n",
       "  </tbody>\n",
       "</table>\n",
       "</div>"
      ],
      "text/plain": [
       "                                                                                                   text  \\\n",
       "id                                                                                                        \n",
       "jokubausaite2020_655617  god dammit twitter why the fuck does your stupid video app spike cpu that hard   \n",
       "\n",
       "                         word_count           dataset source domain  \\\n",
       "id                                                                    \n",
       "jokubausaite2020_655617          15  jokubausaite2020  4chan  forum   \n",
       "\n",
       "                                        timestamp  num_words  \n",
       "id                                                            \n",
       "jokubausaite2020_655617 2016-07-08 23:26:05+00:00         15  "
      ]
     },
     "execution_count": 43,
     "metadata": {},
     "output_type": "execute_result"
    }
   ],
   "source": [
    "search = 'god dammit twitter'\n",
    "ws_data[ws_data.text.str.contains(search)]"
   ]
  },
  {
   "cell_type": "code",
   "execution_count": 51,
   "id": "ce758a59-969e-4afe-aee8-4605c600e88d",
   "metadata": {
    "scrolled": true,
    "tags": []
   },
   "outputs": [
    {
     "data": {
      "text/html": [
       "<div>\n",
       "<style scoped>\n",
       "    .dataframe tbody tr th:only-of-type {\n",
       "        vertical-align: middle;\n",
       "    }\n",
       "\n",
       "    .dataframe tbody tr th {\n",
       "        vertical-align: top;\n",
       "    }\n",
       "\n",
       "    .dataframe thead th {\n",
       "        text-align: right;\n",
       "    }\n",
       "</style>\n",
       "<table border=\"1\" class=\"dataframe\">\n",
       "  <thead>\n",
       "    <tr style=\"text-align: right;\">\n",
       "      <th></th>\n",
       "      <th>text</th>\n",
       "      <th>dataset</th>\n",
       "    </tr>\n",
       "    <tr>\n",
       "      <th>id</th>\n",
       "      <th></th>\n",
       "      <th></th>\n",
       "    </tr>\n",
       "  </thead>\n",
       "  <tbody>\n",
       "    <tr>\n",
       "      <th>stormfront_639008</th>\n",
       "      <td>lol ! on a serious note it 's around 50 posts before you can send them without moderation - if you show that you 're really sensible , it may be less - be patient .... it 's worth the wait</td>\n",
       "      <td>stormfront</td>\n",
       "    </tr>\n",
       "  </tbody>\n",
       "</table>\n",
       "</div>"
      ],
      "text/plain": [
       "                                                                                                                                                                                                           text  \\\n",
       "id                                                                                                                                                                                                                \n",
       "stormfront_639008  lol ! on a serious note it 's around 50 posts before you can send them without moderation - if you show that you 're really sensible , it may be less - be patient .... it 's worth the wait   \n",
       "\n",
       "                      dataset  \n",
       "id                             \n",
       "stormfront_639008  stormfront  "
      ]
     },
     "execution_count": 51,
     "metadata": {},
     "output_type": "execute_result"
    }
   ],
   "source": [
    "search = 'around 50 posts'\n",
    "ws_data[ws_data.text.str.contains(search)][['text', 'dataset']]"
   ]
  },
  {
   "cell_type": "code",
   "execution_count": 35,
   "id": "141a6cc4-b23e-44ab-a6cb-36354a30e26b",
   "metadata": {
    "scrolled": true,
    "tags": []
   },
   "outputs": [
    {
     "data": {
      "text/html": [
       "<div>\n",
       "<style scoped>\n",
       "    .dataframe tbody tr th:only-of-type {\n",
       "        vertical-align: middle;\n",
       "    }\n",
       "\n",
       "    .dataframe tbody tr th {\n",
       "        vertical-align: top;\n",
       "    }\n",
       "\n",
       "    .dataframe thead th {\n",
       "        text-align: right;\n",
       "    }\n",
       "</style>\n",
       "<table border=\"1\" class=\"dataframe\">\n",
       "  <thead>\n",
       "    <tr style=\"text-align: right;\">\n",
       "      <th></th>\n",
       "      <th>text</th>\n",
       "      <th>word_count</th>\n",
       "      <th>dataset</th>\n",
       "      <th>source</th>\n",
       "      <th>domain</th>\n",
       "      <th>timestamp</th>\n",
       "      <th>num_words</th>\n",
       "    </tr>\n",
       "    <tr>\n",
       "      <th>id</th>\n",
       "      <th></th>\n",
       "      <th></th>\n",
       "      <th></th>\n",
       "      <th></th>\n",
       "      <th></th>\n",
       "      <th></th>\n",
       "      <th></th>\n",
       "    </tr>\n",
       "  </thead>\n",
       "  <tbody>\n",
       "    <tr>\n",
       "      <th>stormfront_52163</th>\n",
       "      <td>- mein mantel ! - den hab ' ich , miss . kinn hoch . willkommen an bord ma'am willkommen auf der titanic ! für alle anderen war es ein traumschiff . für mich war es ein sklavenschiff , das mich in ketten nach amerika zurückbringen sollte . nach außen war ich das wohlerzogene mädchen das ich sein sollte . in meinem inneren hab ich geschrien . ( schiff tutet ) ( schwedisch ) jack ! du bist pazzo . du setzt alles , was wir haben . wenn du nichts hast , kannst du auch nichts verlieren . ( schwedisch ) du idiot . ich fasse es nicht , daß du unsere fahrkarten gesetzt hast . sven ? also gut ! der augenblick der wahrheit ! für irgend jemanden beginnt ein neues leben . fabrizio ? - niente ! - niente ... olaf ? nichts ! sven ? oh-oh ! zwei paare ! tut mir leid , fabrizio . ( schimpft auf italienisch ) tut mir leid , du wirst deine mama für eine sehr lange zeit nicht sehen . denn wir fahren nach amerika ! full house , männer ! ( jack und fabrizio jubeln lauthals ) dio mio ! grazie ! ( schwedisch ) - na , komm schon ! - ( italienisch ) ich fahre nach hause ! ( schwedisch ) - ich fahre nach haus ! - ich fahre nach amerika ! ( wirt ) nein , kumpel ! die titanic wird nach amerika fahren ! in fünf minuten ! scheiße ! wir müssen uns beeilen ! komm schon ! wir reisen in ganz großem stil ! zwei wohlhabende junge männer ! wir sind sozusagen könige ! ( ... ? ) siehst du ? ist meine destino ich fahre nach amerika und werde millionär ! bastardo ! du pazzo ! von mir aus , aber ich hab ' die fahrkarten ! komm schon , ich denke du bist ein guter läufer . inspektor ! warten , warten sie ! warten sie ! wir sind passagiere ! warte ! wir sind passagiere ! sind sie schon bei der untersuchung gewesen ? natürlich ! wir haben sowieso keine läuse . wir sind beide amerikaner ! mein freund und ich . na schön , kommen sie an bord . wir sind die größten glücksschweine der welt ! weißt du das ? ( schiff tutet ) auf wiedersehen ! - kennst du da jemanden ? - natürlich nicht , aber darum geht 's nicht ! - lebt wohl , ihr werdet mir fehlen ! - lebt wohl ! - lebt wohl ! - ich werde euch nie vergessen ! - lebt wohl ! na , lauft schon ! wir müssen nach links ! g-sechzig , g-sechzig , g-sechzig ... oh , verzeihung ! oh ! hier ist es ja ! tag ! wie geht 's denn so ? jack . freut mich sehr . jack dawson . freut mich euch kennenzulernen . alles klar ? wer sagt , daß du oben schläfst ? wo ist sven ? das ist lhr privates promenadendeck , sir . haben sie noch irgendeinen wunsch ? entschuldigen sie mich. - dieses hier ? - nein . es hatte viele gesichter drauf . das hier ist es . möchten sie alle bilder auspacken ? ja . wir brauchen ein bißchen farbe in diesem zimmer . ah , bringen sie das ins ankleidezimmer . ah , nicht doch wieder diese fingerzeichnungen ! die waren die reinste geldverschwendung . der unterschied zwischen cals kunstgeschmack und meinem ist , daß ich welchen habe . sie sind faszinierend . es ist als befände man sich in einem traum . - es hat wahrheit aber keine logik . - wie heißt der künstler überhaupt ? irgendwas mit picasso . irgendwas mit picasso . aus dem wird nichts ! niemals , glaub mir . - bring den degas ins schlafzimmer . - wenigstens waren sie billig . der kommt auch nach nebenan . in cherbourg kam eine frau namens margaret brown an bord . wir nannten sie aber alle molly . in die geschichte ging sie ein als die `` unsinkbare molly brown '' . ich habe ( hatte ? ) keine lust den ganzen tag auf dich zu warten , kleiner ! entschuldigung . ich hoffe das ist nicht zu schwer für dich . ihr mann war irgendwo im westen auf gold gestoßen . sie war , wie meine mutter es zu bezeichnen beliebte , neureich . am nächsten nachmittag dampften wir von der westküste irlands in richtung westen . es lag nichts weiter vor uns als der unendliche ozean . schicken sie sie auf see , mr. murdoch . - legen sie ein paar kohlen auf . - jawohl , sir ! - volle kraft voraus , mr. moody . - sehr wohl , sir ! - volle kraft voraus ! - volle kraft voraus ! na , los männer . legt euch ins zeug , männer ! volle leistung ! einundzwanzig knoten , sir ! hey , sieh mal da unten ! da unten ! siehst du ihn ? sieh . da ist noch einer ! siehst du sie ? siehst du , wie der springt ? wuuuh ! man kann da vorne schon die freiheitsstatue sehen ! ganz klein , natürlich ! ich bin der könig der weeelt ! ( schreien gemeinsam vor freude ) sie ist das größte bewegliche objekt , das menschen je schufen . das größte aller zeiten . unser chefkonstrukteur , mr. andrews , hat sie erschaffen . nun , ich hab ' sie vielleicht zusammengebaut , aber die idee kam von mr. ismay . ihm schwebte ein schiff von solcher kraft und größe und so luxuriöser ausstattung vor , daß seine überlegenheit nie in frage gestellt würde und hier ist es . durch willenskraft zu solider wirklichkeit geworden . - hört , hört ! ich nehme den lachs , bitte . du weißt , ich mag das nicht , rose . - sie weiß es . - was wünschen sie , sir ? umm , wir nehmen beide das lamm . englisch , englisch mit ein wenig minzsauce . - sehr wohl sir . du magst doch lamm , zuckerpüppchen ? für mich den schellfisch . und , werden sie ihr das fleisch auch kleinschneiden , cal ? ( lacht hämisch ) hey , wer kam eigentlich auf den namen `` titanic '' ? waren sie das , bruce ? ja , ganz recht . ich wollte damit die reine größe zum ausdruck bringen . größe bedeutet stabilität , luxus und vor allem stärke . haben sie schon von dr. freud gehört , mr. ismay ? was er über die männliche besessenheit was `` größe '' anbelangt , bemerkt hat , dürfte sie interessieren . - was ist nur in dich gefahren ? - entschuldigen sie mich. ich muß mich entschuldigen . sie ist eine waffe , cal ! ich hoffe , sie können mit ihr umgehen ? ich sollte von jetzt an wohl besser die abendlektüre meiner verlobten überprüfen . freud ? wer ist das ? ein passagier ? - das schiff ist ganz gut , hä ? - ja , ist auch ein irisches schiff . es ist doch englisch , oder ? nein , es wurde in irland gebaut . 15.000 iren haben es gebaut . stark wie ein fels . geschaffen von kräftigen irischen händen . ist ja mal wieder typisch ! die köter aus der ersten klasse kommen hier runter um sich auszuscheissen ! damit wird uns gezeigt , wo wir uns im gesamtbild befinden . als würden wir das vergessen . - ich bin tommy ryan . - jack dawson . - hallo - fabrizio . - hi . hast du mit deinen bildern schon was verdient ? ah , vergiß es , mein freund . an eine frau wie die kommst du nicht ran . vorher fliegen dir kleine engel aus dem hintern . rose , was war das eben für ein auftritt ? du hast versprochen , dich zu benehmen . ich sah mein leben vor mir , als ob ich es bereits hinter mir hätte . eine endlose aneinanderreihung von partys ...</td>\n",
       "      <td>1369</td>\n",
       "      <td>stormfront</td>\n",
       "      <td>stormfront</td>\n",
       "      <td>forum</td>\n",
       "      <td>2011-07-12 04:30:00+00:00</td>\n",
       "      <td>1369</td>\n",
       "    </tr>\n",
       "  </tbody>\n",
       "</table>\n",
       "</div>"
      ],
      "text/plain": [
       "                                                                                                                                                                                                                                                                                                                                                                                                                                                                                                                                                                                                                                                                                                                                                                                                                                                                                                                                                                                                                                                                                                                                                                                                                                                                                                                                                                                                                                                                                                                                                                                                                                                                                                                                                                                                                                                                                                                                                                                                                                                                                                                                                                                                                                                                                                                                                                                                                                                                                                                                                                                                                                                                                                                                                                                                                                                                                                                                                                                                                                                                                                                                                                                                                                                                                                                                                                                                                                                                                                                                                                                                                                                                                                                                                                                                                                                                                                                                                                                                                                                                                                                                                                                                                                                                                                                                                                                                                                                                                                                                                                                                                                                                                                                                                                                                                                                                                                                                                                                                                                                                                                                                                                                                                                                                                                                                                                                                                                                                                                                                                                                                                                                                                                                                                                                                                                                                                                                                                                                                                                                                                                                                                                                                                                                                                                                                                                                                                                                                                                                                                                                                                                                                                                                                                                                                                                                                                                                                                   text  \\\n",
       "id                                                                                                                                                                                                                                                                                                                                                                                                                                                                                                                                                                                                                                                                                                                                                                                                                                                                                                                                                                                                                                                                                                                                                                                                                                                                                                                                                                                                                                                                                                                                                                                                                                                                                                                                                                                                                                                                                                                                                                                                                                                                                                                                                                                                                                                                                                                                                                                                                                                                                                                                                                                                                                                                                                                                                                                                                                                                                                                                                                                                                                                                                                                                                                                                                                                                                                                                                                                                                                                                                                                                                                                                                                                                                                                                                                                                                                                                                                                                                                                                                                                                                                                                                                                                                                                                                                                                                                                                                                                                                                                                                                                                                                                                                                                                                                                                                                                                                                                                                                                                                                                                                                                                                                                                                                                                                                                                                                                                                                                                                                                                                                                                                                                                                                                                                                                                                                                                                                                                                                                                                                                                                                                                                                                                                                                                                                                                                                                                                                                                                                                                                                                                                                                                                                                                                                                                                                                                                                                                                        \n",
       "stormfront_52163  - mein mantel ! - den hab ' ich , miss . kinn hoch . willkommen an bord ma'am willkommen auf der titanic ! für alle anderen war es ein traumschiff . für mich war es ein sklavenschiff , das mich in ketten nach amerika zurückbringen sollte . nach außen war ich das wohlerzogene mädchen das ich sein sollte . in meinem inneren hab ich geschrien . ( schiff tutet ) ( schwedisch ) jack ! du bist pazzo . du setzt alles , was wir haben . wenn du nichts hast , kannst du auch nichts verlieren . ( schwedisch ) du idiot . ich fasse es nicht , daß du unsere fahrkarten gesetzt hast . sven ? also gut ! der augenblick der wahrheit ! für irgend jemanden beginnt ein neues leben . fabrizio ? - niente ! - niente ... olaf ? nichts ! sven ? oh-oh ! zwei paare ! tut mir leid , fabrizio . ( schimpft auf italienisch ) tut mir leid , du wirst deine mama für eine sehr lange zeit nicht sehen . denn wir fahren nach amerika ! full house , männer ! ( jack und fabrizio jubeln lauthals ) dio mio ! grazie ! ( schwedisch ) - na , komm schon ! - ( italienisch ) ich fahre nach hause ! ( schwedisch ) - ich fahre nach haus ! - ich fahre nach amerika ! ( wirt ) nein , kumpel ! die titanic wird nach amerika fahren ! in fünf minuten ! scheiße ! wir müssen uns beeilen ! komm schon ! wir reisen in ganz großem stil ! zwei wohlhabende junge männer ! wir sind sozusagen könige ! ( ... ? ) siehst du ? ist meine destino ich fahre nach amerika und werde millionär ! bastardo ! du pazzo ! von mir aus , aber ich hab ' die fahrkarten ! komm schon , ich denke du bist ein guter läufer . inspektor ! warten , warten sie ! warten sie ! wir sind passagiere ! warte ! wir sind passagiere ! sind sie schon bei der untersuchung gewesen ? natürlich ! wir haben sowieso keine läuse . wir sind beide amerikaner ! mein freund und ich . na schön , kommen sie an bord . wir sind die größten glücksschweine der welt ! weißt du das ? ( schiff tutet ) auf wiedersehen ! - kennst du da jemanden ? - natürlich nicht , aber darum geht 's nicht ! - lebt wohl , ihr werdet mir fehlen ! - lebt wohl ! - lebt wohl ! - ich werde euch nie vergessen ! - lebt wohl ! na , lauft schon ! wir müssen nach links ! g-sechzig , g-sechzig , g-sechzig ... oh , verzeihung ! oh ! hier ist es ja ! tag ! wie geht 's denn so ? jack . freut mich sehr . jack dawson . freut mich euch kennenzulernen . alles klar ? wer sagt , daß du oben schläfst ? wo ist sven ? das ist lhr privates promenadendeck , sir . haben sie noch irgendeinen wunsch ? entschuldigen sie mich. - dieses hier ? - nein . es hatte viele gesichter drauf . das hier ist es . möchten sie alle bilder auspacken ? ja . wir brauchen ein bißchen farbe in diesem zimmer . ah , bringen sie das ins ankleidezimmer . ah , nicht doch wieder diese fingerzeichnungen ! die waren die reinste geldverschwendung . der unterschied zwischen cals kunstgeschmack und meinem ist , daß ich welchen habe . sie sind faszinierend . es ist als befände man sich in einem traum . - es hat wahrheit aber keine logik . - wie heißt der künstler überhaupt ? irgendwas mit picasso . irgendwas mit picasso . aus dem wird nichts ! niemals , glaub mir . - bring den degas ins schlafzimmer . - wenigstens waren sie billig . der kommt auch nach nebenan . in cherbourg kam eine frau namens margaret brown an bord . wir nannten sie aber alle molly . in die geschichte ging sie ein als die `` unsinkbare molly brown '' . ich habe ( hatte ? ) keine lust den ganzen tag auf dich zu warten , kleiner ! entschuldigung . ich hoffe das ist nicht zu schwer für dich . ihr mann war irgendwo im westen auf gold gestoßen . sie war , wie meine mutter es zu bezeichnen beliebte , neureich . am nächsten nachmittag dampften wir von der westküste irlands in richtung westen . es lag nichts weiter vor uns als der unendliche ozean . schicken sie sie auf see , mr. murdoch . - legen sie ein paar kohlen auf . - jawohl , sir ! - volle kraft voraus , mr. moody . - sehr wohl , sir ! - volle kraft voraus ! - volle kraft voraus ! na , los männer . legt euch ins zeug , männer ! volle leistung ! einundzwanzig knoten , sir ! hey , sieh mal da unten ! da unten ! siehst du ihn ? sieh . da ist noch einer ! siehst du sie ? siehst du , wie der springt ? wuuuh ! man kann da vorne schon die freiheitsstatue sehen ! ganz klein , natürlich ! ich bin der könig der weeelt ! ( schreien gemeinsam vor freude ) sie ist das größte bewegliche objekt , das menschen je schufen . das größte aller zeiten . unser chefkonstrukteur , mr. andrews , hat sie erschaffen . nun , ich hab ' sie vielleicht zusammengebaut , aber die idee kam von mr. ismay . ihm schwebte ein schiff von solcher kraft und größe und so luxuriöser ausstattung vor , daß seine überlegenheit nie in frage gestellt würde und hier ist es . durch willenskraft zu solider wirklichkeit geworden . - hört , hört ! ich nehme den lachs , bitte . du weißt , ich mag das nicht , rose . - sie weiß es . - was wünschen sie , sir ? umm , wir nehmen beide das lamm . englisch , englisch mit ein wenig minzsauce . - sehr wohl sir . du magst doch lamm , zuckerpüppchen ? für mich den schellfisch . und , werden sie ihr das fleisch auch kleinschneiden , cal ? ( lacht hämisch ) hey , wer kam eigentlich auf den namen `` titanic '' ? waren sie das , bruce ? ja , ganz recht . ich wollte damit die reine größe zum ausdruck bringen . größe bedeutet stabilität , luxus und vor allem stärke . haben sie schon von dr. freud gehört , mr. ismay ? was er über die männliche besessenheit was `` größe '' anbelangt , bemerkt hat , dürfte sie interessieren . - was ist nur in dich gefahren ? - entschuldigen sie mich. ich muß mich entschuldigen . sie ist eine waffe , cal ! ich hoffe , sie können mit ihr umgehen ? ich sollte von jetzt an wohl besser die abendlektüre meiner verlobten überprüfen . freud ? wer ist das ? ein passagier ? - das schiff ist ganz gut , hä ? - ja , ist auch ein irisches schiff . es ist doch englisch , oder ? nein , es wurde in irland gebaut . 15.000 iren haben es gebaut . stark wie ein fels . geschaffen von kräftigen irischen händen . ist ja mal wieder typisch ! die köter aus der ersten klasse kommen hier runter um sich auszuscheissen ! damit wird uns gezeigt , wo wir uns im gesamtbild befinden . als würden wir das vergessen . - ich bin tommy ryan . - jack dawson . - hallo - fabrizio . - hi . hast du mit deinen bildern schon was verdient ? ah , vergiß es , mein freund . an eine frau wie die kommst du nicht ran . vorher fliegen dir kleine engel aus dem hintern . rose , was war das eben für ein auftritt ? du hast versprochen , dich zu benehmen . ich sah mein leben vor mir , als ob ich es bereits hinter mir hätte . eine endlose aneinanderreihung von partys ...   \n",
       "\n",
       "                  word_count     dataset      source domain  \\\n",
       "id                                                            \n",
       "stormfront_52163        1369  stormfront  stormfront  forum   \n",
       "\n",
       "                                 timestamp  num_words  \n",
       "id                                                     \n",
       "stormfront_52163 2011-07-12 04:30:00+00:00       1369  "
      ]
     },
     "execution_count": 35,
     "metadata": {},
     "output_type": "execute_result"
    }
   ],
   "source": [
    "pd.set_option('display.max_colwidth', None)\n",
    "search = 'mein mantel'\n",
    "ws_data[ws_data.text.str.contains(search)]"
   ]
  },
  {
   "cell_type": "code",
   "execution_count": 39,
   "id": "49a6ed90-cb9a-4816-8480-ae3216e9f3ef",
   "metadata": {
    "scrolled": true,
    "tags": []
   },
   "outputs": [
    {
     "data": {
      "text/html": [
       "<div>\n",
       "<style scoped>\n",
       "    .dataframe tbody tr th:only-of-type {\n",
       "        vertical-align: middle;\n",
       "    }\n",
       "\n",
       "    .dataframe tbody tr th {\n",
       "        vertical-align: top;\n",
       "    }\n",
       "\n",
       "    .dataframe thead th {\n",
       "        text-align: right;\n",
       "    }\n",
       "</style>\n",
       "<table border=\"1\" class=\"dataframe\">\n",
       "  <thead>\n",
       "    <tr style=\"text-align: right;\">\n",
       "      <th></th>\n",
       "      <th>text</th>\n",
       "      <th>word_count</th>\n",
       "      <th>dataset</th>\n",
       "      <th>source</th>\n",
       "      <th>domain</th>\n",
       "      <th>timestamp</th>\n",
       "      <th>num_words</th>\n",
       "    </tr>\n",
       "    <tr>\n",
       "      <th>id</th>\n",
       "      <th></th>\n",
       "      <th></th>\n",
       "      <th></th>\n",
       "      <th></th>\n",
       "      <th></th>\n",
       "      <th></th>\n",
       "      <th></th>\n",
       "    </tr>\n",
       "  </thead>\n",
       "  <tbody>\n",
       "    <tr>\n",
       "      <th>papasavva2020_2684982</th>\n",
       "      <td>wir sind die braunen soldaten ( english &amp; german lyrics ) : it 's outdated .</td>\n",
       "      <td>16</td>\n",
       "      <td>papasavva2020</td>\n",
       "      <td>4chan</td>\n",
       "      <td>forum</td>\n",
       "      <td>2019-04-20 18:03:53+00:00</td>\n",
       "      <td>16</td>\n",
       "    </tr>\n",
       "    <tr>\n",
       "      <th>papasavva2020_2822307</th>\n",
       "      <td>wenn die ss und die sa aufmarschiert : m wenn die ss und die sa aufmarschiert ( english &amp; german text ) : m der führer ruft sa voran ( english &amp; german text ) : sa marschiert durch deutsches land : die braune kompanie ( english &amp; german text ) : wir sind die braunen soldaten ( english &amp; german text ) : brüder in zechen und gruben ( german text ) : volk ans gewehr : volk ans gewehr ( rare version ) : volk ans gewehr ( modern recording ) : volk ans gewehr ( english &amp; german text ) : marsch über das lied volk ans gewehr : das volk steht auf , der sturm bricht los : als die goldne abendsonne ( rare version ) : als die goldne abendsonne ( rare version ) : als die goldne abendsonne ( very rare version ) : als die goldne abendsonne ( german text ) : m lied der eisernen division ( german text ) : deutscher kampf im lied ( rare version ) : deutscher kampf im lied ( rare version ) : hitlerleute : m am adolf hitler platz : am adolf hitler platz : m am adolf hitler platz : ein mann , ein wort : ein junges volk steht auf ( rare version ) : ein junges volk steht auf ( rare version ) ( english &amp; german text ) :</td>\n",
       "      <td>238</td>\n",
       "      <td>papasavva2020</td>\n",
       "      <td>4chan</td>\n",
       "      <td>forum</td>\n",
       "      <td>2019-06-23 14:04:58+00:00</td>\n",
       "      <td>238</td>\n",
       "    </tr>\n",
       "  </tbody>\n",
       "</table>\n",
       "</div>"
      ],
      "text/plain": [
       "                                                                                                                                                                                                                                                                                                                                                                                                                                                                                                                                                                                                                                                                                                                                                                                                                                                                                                                                                                                                                                                                                                                                                                            text  \\\n",
       "id                                                                                                                                                                                                                                                                                                                                                                                                                                                                                                                                                                                                                                                                                                                                                                                                                                                                                                                                                                                                                                                                                                                                                                                 \n",
       "papasavva2020_2684982                                                                                                                                                                                                                                                                                                                                                                                                                                                                                                                                                                                                                                                                                                                                                                                                                                                                                                                                                                                                                                                                               wir sind die braunen soldaten ( english & german lyrics ) : it 's outdated .   \n",
       "papasavva2020_2822307  wenn die ss und die sa aufmarschiert : m wenn die ss und die sa aufmarschiert ( english & german text ) : m der führer ruft sa voran ( english & german text ) : sa marschiert durch deutsches land : die braune kompanie ( english & german text ) : wir sind die braunen soldaten ( english & german text ) : brüder in zechen und gruben ( german text ) : volk ans gewehr : volk ans gewehr ( rare version ) : volk ans gewehr ( modern recording ) : volk ans gewehr ( english & german text ) : marsch über das lied volk ans gewehr : das volk steht auf , der sturm bricht los : als die goldne abendsonne ( rare version ) : als die goldne abendsonne ( rare version ) : als die goldne abendsonne ( very rare version ) : als die goldne abendsonne ( german text ) : m lied der eisernen division ( german text ) : deutscher kampf im lied ( rare version ) : deutscher kampf im lied ( rare version ) : hitlerleute : m am adolf hitler platz : am adolf hitler platz : m am adolf hitler platz : ein mann , ein wort : ein junges volk steht auf ( rare version ) : ein junges volk steht auf ( rare version ) ( english & german text ) :   \n",
       "\n",
       "                       word_count        dataset source domain  \\\n",
       "id                                                               \n",
       "papasavva2020_2684982          16  papasavva2020  4chan  forum   \n",
       "papasavva2020_2822307         238  papasavva2020  4chan  forum   \n",
       "\n",
       "                                      timestamp  num_words  \n",
       "id                                                          \n",
       "papasavva2020_2684982 2019-04-20 18:03:53+00:00         16  \n",
       "papasavva2020_2822307 2019-06-23 14:04:58+00:00        238  "
      ]
     },
     "execution_count": 39,
     "metadata": {},
     "output_type": "execute_result"
    }
   ],
   "source": [
    "pd.set_option('display.max_colwidth', None)\n",
    "search = 'wir sind die braunen'\n",
    "ws_data[ws_data.text.str.contains(search)]"
   ]
  },
  {
   "cell_type": "code",
   "execution_count": 36,
   "id": "63a7fcfd-2d77-4424-b975-0b0e2aab418c",
   "metadata": {
    "scrolled": true,
    "tags": []
   },
   "outputs": [
    {
     "data": {
      "text/html": [
       "<div>\n",
       "<style scoped>\n",
       "    .dataframe tbody tr th:only-of-type {\n",
       "        vertical-align: middle;\n",
       "    }\n",
       "\n",
       "    .dataframe tbody tr th {\n",
       "        vertical-align: top;\n",
       "    }\n",
       "\n",
       "    .dataframe thead th {\n",
       "        text-align: right;\n",
       "    }\n",
       "</style>\n",
       "<table border=\"1\" class=\"dataframe\">\n",
       "  <thead>\n",
       "    <tr style=\"text-align: right;\">\n",
       "      <th></th>\n",
       "      <th>text</th>\n",
       "      <th>word_count</th>\n",
       "      <th>dataset</th>\n",
       "      <th>source</th>\n",
       "      <th>domain</th>\n",
       "      <th>timestamp</th>\n",
       "      <th>num_words</th>\n",
       "    </tr>\n",
       "    <tr>\n",
       "      <th>id</th>\n",
       "      <th></th>\n",
       "      <th></th>\n",
       "      <th></th>\n",
       "      <th></th>\n",
       "      <th></th>\n",
       "      <th></th>\n",
       "      <th></th>\n",
       "    </tr>\n",
       "  </thead>\n",
       "  <tbody>\n",
       "    <tr>\n",
       "      <th>jokubausaite2020_287510</th>\n",
       "      <td>results those are prognosis . 7 years , next government will be grün-rot-rot ( greens , commies , socdems ) , then after it fucked everything up with environmentalism , socialism , progressivism , left-wing liberalism and communism , afd will take over . mark my words .</td>\n",
       "      <td>48</td>\n",
       "      <td>jokubausaite2020</td>\n",
       "      <td>4chan</td>\n",
       "      <td>forum</td>\n",
       "      <td>2018-10-14 12:29:16+00:00</td>\n",
       "      <td>48</td>\n",
       "    </tr>\n",
       "    <tr>\n",
       "      <th>jokubausaite2020_4150</th>\n",
       "      <td>aber rot-rot-grün an der macht würde policies in die welt setzen , die deutschland auf lange sicht in ein afrikanisches shithole verwandeln . die sind jetzt aber eh schon da . nun kannst du entscheiden ob wir dafür sorgen das mit euch das gleiche passiert .</td>\n",
       "      <td>46</td>\n",
       "      <td>jokubausaite2020</td>\n",
       "      <td>4chan</td>\n",
       "      <td>forum</td>\n",
       "      <td>2017-08-12 10:04:06+00:00</td>\n",
       "      <td>46</td>\n",
       "    </tr>\n",
       "  </tbody>\n",
       "</table>\n",
       "</div>"
      ],
      "text/plain": [
       "                                                                                                                                                                                                                                                                                                   text  \\\n",
       "id                                                                                                                                                                                                                                                                                                        \n",
       "jokubausaite2020_287510  results those are prognosis . 7 years , next government will be grün-rot-rot ( greens , commies , socdems ) , then after it fucked everything up with environmentalism , socialism , progressivism , left-wing liberalism and communism , afd will take over . mark my words .   \n",
       "jokubausaite2020_4150                 aber rot-rot-grün an der macht würde policies in die welt setzen , die deutschland auf lange sicht in ein afrikanisches shithole verwandeln . die sind jetzt aber eh schon da . nun kannst du entscheiden ob wir dafür sorgen das mit euch das gleiche passiert .   \n",
       "\n",
       "                         word_count           dataset source domain  \\\n",
       "id                                                                    \n",
       "jokubausaite2020_287510          48  jokubausaite2020  4chan  forum   \n",
       "jokubausaite2020_4150            46  jokubausaite2020  4chan  forum   \n",
       "\n",
       "                                        timestamp  num_words  \n",
       "id                                                            \n",
       "jokubausaite2020_287510 2018-10-14 12:29:16+00:00         48  \n",
       "jokubausaite2020_4150   2017-08-12 10:04:06+00:00         46  "
      ]
     },
     "execution_count": 36,
     "metadata": {},
     "output_type": "execute_result"
    }
   ],
   "source": [
    "search = 'rot-rot'\n",
    "ws_data[ws_data.text.str.contains(search)]"
   ]
  },
  {
   "cell_type": "code",
   "execution_count": 37,
   "id": "eb42062e-5556-4890-a47c-f1389e19cd57",
   "metadata": {
    "scrolled": true,
    "tags": []
   },
   "outputs": [
    {
     "data": {
      "text/html": [
       "<div>\n",
       "<style scoped>\n",
       "    .dataframe tbody tr th:only-of-type {\n",
       "        vertical-align: middle;\n",
       "    }\n",
       "\n",
       "    .dataframe tbody tr th {\n",
       "        vertical-align: top;\n",
       "    }\n",
       "\n",
       "    .dataframe thead th {\n",
       "        text-align: right;\n",
       "    }\n",
       "</style>\n",
       "<table border=\"1\" class=\"dataframe\">\n",
       "  <thead>\n",
       "    <tr style=\"text-align: right;\">\n",
       "      <th></th>\n",
       "      <th>text</th>\n",
       "      <th>word_count</th>\n",
       "      <th>dataset</th>\n",
       "      <th>source</th>\n",
       "      <th>domain</th>\n",
       "      <th>timestamp</th>\n",
       "      <th>num_words</th>\n",
       "    </tr>\n",
       "    <tr>\n",
       "      <th>id</th>\n",
       "      <th></th>\n",
       "      <th></th>\n",
       "      <th></th>\n",
       "      <th></th>\n",
       "      <th></th>\n",
       "      <th></th>\n",
       "      <th></th>\n",
       "    </tr>\n",
       "  </thead>\n",
       "  <tbody>\n",
       "    <tr>\n",
       "      <th>jokubausaite2020_49047</th>\n",
       "      <td>komm gerade zurück . 2 kreuze für die afd und 1 kreuz für deutschland</td>\n",
       "      <td>14</td>\n",
       "      <td>jokubausaite2020</td>\n",
       "      <td>4chan</td>\n",
       "      <td>forum</td>\n",
       "      <td>2017-09-24 07:12:47+00:00</td>\n",
       "      <td>14</td>\n",
       "    </tr>\n",
       "  </tbody>\n",
       "</table>\n",
       "</div>"
      ],
      "text/plain": [
       "                                                                                         text  \\\n",
       "id                                                                                              \n",
       "jokubausaite2020_49047  komm gerade zurück . 2 kreuze für die afd und 1 kreuz für deutschland   \n",
       "\n",
       "                        word_count           dataset source domain  \\\n",
       "id                                                                   \n",
       "jokubausaite2020_49047          14  jokubausaite2020  4chan  forum   \n",
       "\n",
       "                                       timestamp  num_words  \n",
       "id                                                           \n",
       "jokubausaite2020_49047 2017-09-24 07:12:47+00:00         14  "
      ]
     },
     "execution_count": 37,
     "metadata": {},
     "output_type": "execute_result"
    }
   ],
   "source": [
    "search = 'afd und 1 kreuz'\n",
    "ws_data[ws_data.text.str.contains(search)]"
   ]
  },
  {
   "cell_type": "code",
   "execution_count": 38,
   "id": "6a65dfde-9ffa-4cb4-9668-24245308964c",
   "metadata": {
    "scrolled": true,
    "tags": []
   },
   "outputs": [
    {
     "data": {
      "text/html": [
       "<div>\n",
       "<style scoped>\n",
       "    .dataframe tbody tr th:only-of-type {\n",
       "        vertical-align: middle;\n",
       "    }\n",
       "\n",
       "    .dataframe tbody tr th {\n",
       "        vertical-align: top;\n",
       "    }\n",
       "\n",
       "    .dataframe thead th {\n",
       "        text-align: right;\n",
       "    }\n",
       "</style>\n",
       "<table border=\"1\" class=\"dataframe\">\n",
       "  <thead>\n",
       "    <tr style=\"text-align: right;\">\n",
       "      <th></th>\n",
       "      <th>text</th>\n",
       "      <th>word_count</th>\n",
       "      <th>dataset</th>\n",
       "      <th>source</th>\n",
       "      <th>domain</th>\n",
       "      <th>timestamp</th>\n",
       "      <th>num_words</th>\n",
       "    </tr>\n",
       "    <tr>\n",
       "      <th>id</th>\n",
       "      <th></th>\n",
       "      <th></th>\n",
       "      <th></th>\n",
       "      <th></th>\n",
       "      <th></th>\n",
       "      <th></th>\n",
       "      <th></th>\n",
       "    </tr>\n",
       "  </thead>\n",
       "  <tbody>\n",
       "    <tr>\n",
       "      <th>calderon2021_14317</th>\n",
       "      <td>the lascowiec warcry # 2 nathanael lascowiec takes us on another tour of the white power and ns music scene around the world . this week including tunes by landser and phoenix . as usual there is a radio version with your host ’ s voice introducing the tunes and a music-only version available too . radio versiondownloadmusic only versiondownloadplaylistfinal war – aryan pride – 00:18 – 02:30hassgesang – wehr dich – 02:33 – 07:00nahkampf – legion condor – 07:10 – 10:31frontalkraft – my life for my land – 10:42 – 15:15nordfront – schlaflied 15:26 – 20:36molot – neizvestnye soldaty – 20:54 – 25:18honor – triumf nowej ery – 25:18 – 30:18phoenix – lebensraum – 30:35 – 34:46kiborg – sdelanno v rossii – 34:56 – 38:38division germania – morgen marschieren wir in feindesland – 38:49 – 41:20olaf jasinski and denis kolovrat – utrata very – 41:39 – 46:48landser – nordland – 46:57 – 49:52ogneslav – ya obyavlyayu voinu – 50:03 – 53:32</td>\n",
       "      <td>162</td>\n",
       "      <td>calderon2021</td>\n",
       "      <td>daily_stormer</td>\n",
       "      <td>long-form</td>\n",
       "      <td>2015-05-12 00:00:00+00:00</td>\n",
       "      <td>162</td>\n",
       "    </tr>\n",
       "    <tr>\n",
       "      <th>jokubausaite2020_183134</th>\n",
       "      <td>jugend und alter und mann für mann just like ss marschiert in feindesland there is only a right version and a kosher version .</td>\n",
       "      <td>24</td>\n",
       "      <td>jokubausaite2020</td>\n",
       "      <td>4chan</td>\n",
       "      <td>forum</td>\n",
       "      <td>2018-06-17 11:38:13+00:00</td>\n",
       "      <td>24</td>\n",
       "    </tr>\n",
       "    <tr>\n",
       "      <th>jokubausaite2020_363180</th>\n",
       "      <td>ss marschiert in feindesland fashwave - behemoth doom 2016 - the doom slayer</td>\n",
       "      <td>13</td>\n",
       "      <td>jokubausaite2020</td>\n",
       "      <td>4chan</td>\n",
       "      <td>forum</td>\n",
       "      <td>2019-03-15 21:25:44+00:00</td>\n",
       "      <td>13</td>\n",
       "    </tr>\n",
       "    <tr>\n",
       "      <th>papasavva2020_2285561</th>\n",
       "      <td>es war ein edelweiss : es war ein edelweiss ( rare instrumental version ) : alte kameraden ( rare version ) : alte kameraden ( rare instrumental version ) : alte kameraden ( rare instrumental version ) : es ist so schön soldat zu sein : es ist so schön soldat zu sein ( rare version ) : es ist so schön soldat zu sein ( rare version ) : lore lore ( best version ) : lore lore ( rare version ) : lore lore ( rare version ) : lore lore ( very rare version ) : horst wessel lied ( rare version ) : horst wessel lied ( rare instrumental version ) : horst wessel lied ( very rare version ) horst wessel lied ( with english lyrics ) : horst wessel lied ( rare version ) : vorwärts vorwärts : vorwärts vorwärts ( with german lyrics ) : vorwärts vorwärts ( rare version ) : ss marschiert in feindesland : ss marschiert in feindesland ( very rare version ) : königgrätzer marsch : badenweiler marsch : badenweiler marsch : es pfeift von allen dächern ( very rare version ) : sieg heil mein deutsches vaterland : in sans souci , am mühlenberg : nskk lied : mit mercedes-benz voran : der mächtigste könig im luftrevier :</td>\n",
       "      <td>220</td>\n",
       "      <td>papasavva2020</td>\n",
       "      <td>4chan</td>\n",
       "      <td>forum</td>\n",
       "      <td>2018-10-14 04:28:28+00:00</td>\n",
       "      <td>220</td>\n",
       "    </tr>\n",
       "    <tr>\n",
       "      <th>papasavva2020_2322507</th>\n",
       "      <td>só se for agr espera acabar ss marschiert in feindesland</td>\n",
       "      <td>10</td>\n",
       "      <td>papasavva2020</td>\n",
       "      <td>4chan</td>\n",
       "      <td>forum</td>\n",
       "      <td>2018-10-28 21:26:02+00:00</td>\n",
       "      <td>10</td>\n",
       "    </tr>\n",
       "    <tr>\n",
       "      <th>papasavva2020_2322508</th>\n",
       "      <td>ss marschiert in feindesland , co cops until now ...</td>\n",
       "      <td>10</td>\n",
       "      <td>papasavva2020</td>\n",
       "      <td>4chan</td>\n",
       "      <td>forum</td>\n",
       "      <td>2018-10-28 21:27:32+00:00</td>\n",
       "      <td>10</td>\n",
       "    </tr>\n",
       "    <tr>\n",
       "      <th>papasavva2020_2697998</th>\n",
       "      <td>lore lore ( best version ) : lore lore ( rare version ) : m lore lore ( rare version ) : lore lore ( very rare version ) : horst wessel lied ( rare version ) : horst wessel lied ( rare instrumental version ) : horst wessel lied ( rare version ) : horst wessel lied ( with english text ) : horst wessel lied ( very rare version ) horst wessel lied ( very rare version ) : m horst wessel lied ( very rare version ) : vorwärts vorwärts : vorwärts vorwärts : vorwärts vorwärts ( english &amp; german lyrics ) : vorwärts vorwärts ( rare version ) : ss marschiert in feindesland : ss marschiert in feindesland ( very rare instrumental version ) : ss marschiert in feindesland ( english &amp; german lyrics ) : m ss marschiert in feindesland ( with english text ) : ss marschiert in feindesland ( rare instrumental version ) : wenn die ss und die sa aufmarschiert : m wenn die ss und die sa aufmarschiert ( english &amp; german lyrics ) : m marschlied der leibstandarte : m ss lied : m marsch der elisabether ( rare version ) : königgrätzer marsch : königgrätzer marsch : m</td>\n",
       "      <td>209</td>\n",
       "      <td>papasavva2020</td>\n",
       "      <td>4chan</td>\n",
       "      <td>forum</td>\n",
       "      <td>2019-04-26 16:14:47+00:00</td>\n",
       "      <td>209</td>\n",
       "    </tr>\n",
       "    <tr>\n",
       "      <th>patriotfront_5482</th>\n",
       "      <td>i 'm gon na watch the eclipse while blaring the ss marschiert in feindesland and grilling burgers .</td>\n",
       "      <td>18</td>\n",
       "      <td>patriotfront</td>\n",
       "      <td>discord</td>\n",
       "      <td>chat</td>\n",
       "      <td>2017-08-21 00:22:23.439000+00:00</td>\n",
       "      <td>18</td>\n",
       "    </tr>\n",
       "  </tbody>\n",
       "</table>\n",
       "</div>"
      ],
      "text/plain": [
       "                                                                                                                                                                                                                                                                                                                                                                                                                                                                                                                                                                                                                                                                                                                                                                                                                                                                                                                                                                                                                                                                                                                                                                          text  \\\n",
       "id                                                                                                                                                                                                                                                                                                                                                                                                                                                                                                                                                                                                                                                                                                                                                                                                                                                                                                                                                                                                                                                                                                                                                                               \n",
       "calderon2021_14317                                                                                                                                                                                      the lascowiec warcry # 2 nathanael lascowiec takes us on another tour of the white power and ns music scene around the world . this week including tunes by landser and phoenix . as usual there is a radio version with your host ’ s voice introducing the tunes and a music-only version available too . radio versiondownloadmusic only versiondownloadplaylistfinal war – aryan pride – 00:18 – 02:30hassgesang – wehr dich – 02:33 – 07:00nahkampf – legion condor – 07:10 – 10:31frontalkraft – my life for my land – 10:42 – 15:15nordfront – schlaflied 15:26 – 20:36molot – neizvestnye soldaty – 20:54 – 25:18honor – triumf nowej ery – 25:18 – 30:18phoenix – lebensraum – 30:35 – 34:46kiborg – sdelanno v rossii – 34:56 – 38:38division germania – morgen marschieren wir in feindesland – 38:49 – 41:20olaf jasinski and denis kolovrat – utrata very – 41:39 – 46:48landser – nordland – 46:57 – 49:52ogneslav – ya obyavlyayu voinu – 50:03 – 53:32   \n",
       "jokubausaite2020_183134                                                                                                                                                                                                                                                                                                                                                                                                                                                                                                                                                                                                                                                                                                                                                                                                                                                                                                                                                                                                                         jugend und alter und mann für mann just like ss marschiert in feindesland there is only a right version and a kosher version .   \n",
       "jokubausaite2020_363180                                                                                                                                                                                                                                                                                                                                                                                                                                                                                                                                                                                                                                                                                                                                                                                                                                                                                                                                                                                                                                                                           ss marschiert in feindesland fashwave - behemoth doom 2016 - the doom slayer   \n",
       "papasavva2020_2285561    es war ein edelweiss : es war ein edelweiss ( rare instrumental version ) : alte kameraden ( rare version ) : alte kameraden ( rare instrumental version ) : alte kameraden ( rare instrumental version ) : es ist so schön soldat zu sein : es ist so schön soldat zu sein ( rare version ) : es ist so schön soldat zu sein ( rare version ) : lore lore ( best version ) : lore lore ( rare version ) : lore lore ( rare version ) : lore lore ( very rare version ) : horst wessel lied ( rare version ) : horst wessel lied ( rare instrumental version ) : horst wessel lied ( very rare version ) horst wessel lied ( with english lyrics ) : horst wessel lied ( rare version ) : vorwärts vorwärts : vorwärts vorwärts ( with german lyrics ) : vorwärts vorwärts ( rare version ) : ss marschiert in feindesland : ss marschiert in feindesland ( very rare version ) : königgrätzer marsch : badenweiler marsch : badenweiler marsch : es pfeift von allen dächern ( very rare version ) : sieg heil mein deutsches vaterland : in sans souci , am mühlenberg : nskk lied : mit mercedes-benz voran : der mächtigste könig im luftrevier :   \n",
       "papasavva2020_2322507                                                                                                                                                                                                                                                                                                                                                                                                                                                                                                                                                                                                                                                                                                                                                                                                                                                                                                                                                                                                                                                                                                 só se for agr espera acabar ss marschiert in feindesland   \n",
       "papasavva2020_2322508                                                                                                                                                                                                                                                                                                                                                                                                                                                                                                                                                                                                                                                                                                                                                                                                                                                                                                                                                                                                                                                                                                     ss marschiert in feindesland , co cops until now ...   \n",
       "papasavva2020_2697998                                                           lore lore ( best version ) : lore lore ( rare version ) : m lore lore ( rare version ) : lore lore ( very rare version ) : horst wessel lied ( rare version ) : horst wessel lied ( rare instrumental version ) : horst wessel lied ( rare version ) : horst wessel lied ( with english text ) : horst wessel lied ( very rare version ) horst wessel lied ( very rare version ) : m horst wessel lied ( very rare version ) : vorwärts vorwärts : vorwärts vorwärts : vorwärts vorwärts ( english & german lyrics ) : vorwärts vorwärts ( rare version ) : ss marschiert in feindesland : ss marschiert in feindesland ( very rare instrumental version ) : ss marschiert in feindesland ( english & german lyrics ) : m ss marschiert in feindesland ( with english text ) : ss marschiert in feindesland ( rare instrumental version ) : wenn die ss und die sa aufmarschiert : m wenn die ss und die sa aufmarschiert ( english & german lyrics ) : m marschlied der leibstandarte : m ss lied : m marsch der elisabether ( rare version ) : königgrätzer marsch : königgrätzer marsch : m   \n",
       "patriotfront_5482                                                                                                                                                                                                                                                                                                                                                                                                                                                                                                                                                                                                                                                                                                                                                                                                                                                                                                                                                                                                                                                          i 'm gon na watch the eclipse while blaring the ss marschiert in feindesland and grilling burgers .   \n",
       "\n",
       "                         word_count           dataset         source  \\\n",
       "id                                                                     \n",
       "calderon2021_14317              162      calderon2021  daily_stormer   \n",
       "jokubausaite2020_183134          24  jokubausaite2020          4chan   \n",
       "jokubausaite2020_363180          13  jokubausaite2020          4chan   \n",
       "papasavva2020_2285561           220     papasavva2020          4chan   \n",
       "papasavva2020_2322507            10     papasavva2020          4chan   \n",
       "papasavva2020_2322508            10     papasavva2020          4chan   \n",
       "papasavva2020_2697998           209     papasavva2020          4chan   \n",
       "patriotfront_5482                18      patriotfront        discord   \n",
       "\n",
       "                            domain                        timestamp  num_words  \n",
       "id                                                                              \n",
       "calderon2021_14317       long-form        2015-05-12 00:00:00+00:00        162  \n",
       "jokubausaite2020_183134      forum        2018-06-17 11:38:13+00:00         24  \n",
       "jokubausaite2020_363180      forum        2019-03-15 21:25:44+00:00         13  \n",
       "papasavva2020_2285561        forum        2018-10-14 04:28:28+00:00        220  \n",
       "papasavva2020_2322507        forum        2018-10-28 21:26:02+00:00         10  \n",
       "papasavva2020_2322508        forum        2018-10-28 21:27:32+00:00         10  \n",
       "papasavva2020_2697998        forum        2019-04-26 16:14:47+00:00        209  \n",
       "patriotfront_5482             chat 2017-08-21 00:22:23.439000+00:00         18  "
      ]
     },
     "execution_count": 38,
     "metadata": {},
     "output_type": "execute_result"
    }
   ],
   "source": [
    "search = 'feindesland'\n",
    "ws_data[ws_data.text.str.contains(search)]"
   ]
  },
  {
   "cell_type": "code",
   "execution_count": 29,
   "id": "3144892c-d7dd-4897-aa57-f4aadbd4c35c",
   "metadata": {
    "scrolled": true,
    "tags": []
   },
   "outputs": [
    {
     "data": {
      "text/html": [
       "<div>\n",
       "<style scoped>\n",
       "    .dataframe tbody tr th:only-of-type {\n",
       "        vertical-align: middle;\n",
       "    }\n",
       "\n",
       "    .dataframe tbody tr th {\n",
       "        vertical-align: top;\n",
       "    }\n",
       "\n",
       "    .dataframe thead th {\n",
       "        text-align: right;\n",
       "    }\n",
       "</style>\n",
       "<table border=\"1\" class=\"dataframe\">\n",
       "  <thead>\n",
       "    <tr style=\"text-align: right;\">\n",
       "      <th></th>\n",
       "      <th>text</th>\n",
       "      <th>word_count</th>\n",
       "      <th>dataset</th>\n",
       "      <th>source</th>\n",
       "      <th>domain</th>\n",
       "      <th>timestamp</th>\n",
       "      <th>num_words</th>\n",
       "    </tr>\n",
       "    <tr>\n",
       "      <th>id</th>\n",
       "      <th></th>\n",
       "      <th></th>\n",
       "      <th></th>\n",
       "      <th></th>\n",
       "      <th></th>\n",
       "      <th></th>\n",
       "      <th></th>\n",
       "    </tr>\n",
       "  </thead>\n",
       "  <tbody>\n",
       "    <tr>\n",
       "      <th>papasavva2020_983345</th>\n",
       "      <td>been looking for that pic . thanks . i want to also add that semi-automatic 30.06 rifles , like the remington 750 , have been around since the 1940s in civilian hands . they have had 10-round and bigger clips since at least the '70s ; and are literally more likely to kill somebody because 30.06 is bigger than .556 .</td>\n",
       "      <td>61</td>\n",
       "      <td>papasavva2020</td>\n",
       "      <td>4chan</td>\n",
       "      <td>forum</td>\n",
       "      <td>2017-10-05 15:18:06+00:00</td>\n",
       "      <td>61</td>\n",
       "    </tr>\n",
       "  </tbody>\n",
       "</table>\n",
       "</div>"
      ],
      "text/plain": [
       "                                                                                                                                                                                                                                                                                                                                               text  \\\n",
       "id                                                                                                                                                                                                                                                                                                                                                    \n",
       "papasavva2020_983345  been looking for that pic . thanks . i want to also add that semi-automatic 30.06 rifles , like the remington 750 , have been around since the 1940s in civilian hands . they have had 10-round and bigger clips since at least the '70s ; and are literally more likely to kill somebody because 30.06 is bigger than .556 .   \n",
       "\n",
       "                      word_count        dataset source domain  \\\n",
       "id                                                              \n",
       "papasavva2020_983345          61  papasavva2020  4chan  forum   \n",
       "\n",
       "                                     timestamp  num_words  \n",
       "id                                                         \n",
       "papasavva2020_983345 2017-10-05 15:18:06+00:00         61  "
      ]
     },
     "execution_count": 29,
     "metadata": {},
     "output_type": "execute_result"
    }
   ],
   "source": [
    "pd.set_option('display.max_colwidth', None)\n",
    "search = '30.06 rifles'\n",
    "ws_data[ws_data.text.str.contains(search)]"
   ]
  },
  {
   "cell_type": "code",
   "execution_count": 30,
   "id": "a4720de6-9ad6-42bf-82ba-3eb1405053e2",
   "metadata": {
    "scrolled": true,
    "tags": []
   },
   "outputs": [
    {
     "data": {
      "text/html": [
       "<div>\n",
       "<style scoped>\n",
       "    .dataframe tbody tr th:only-of-type {\n",
       "        vertical-align: middle;\n",
       "    }\n",
       "\n",
       "    .dataframe tbody tr th {\n",
       "        vertical-align: top;\n",
       "    }\n",
       "\n",
       "    .dataframe thead th {\n",
       "        text-align: right;\n",
       "    }\n",
       "</style>\n",
       "<table border=\"1\" class=\"dataframe\">\n",
       "  <thead>\n",
       "    <tr style=\"text-align: right;\">\n",
       "      <th></th>\n",
       "      <th>text</th>\n",
       "      <th>word_count</th>\n",
       "      <th>dataset</th>\n",
       "      <th>source</th>\n",
       "      <th>domain</th>\n",
       "      <th>timestamp</th>\n",
       "      <th>num_words</th>\n",
       "    </tr>\n",
       "    <tr>\n",
       "      <th>id</th>\n",
       "      <th></th>\n",
       "      <th></th>\n",
       "      <th></th>\n",
       "      <th></th>\n",
       "      <th></th>\n",
       "      <th></th>\n",
       "      <th></th>\n",
       "    </tr>\n",
       "  </thead>\n",
       "  <tbody>\n",
       "    <tr>\n",
       "      <th>papasavva2020_1197087</th>\n",
       "      <td>a high quality semiauto is actually better than most beat up rack grade military guns . i would take my personal mk12 copy over a beater m4a1 any day . i 'm not a rifle guy , but even i know this . plenty of `` hunting rifle '' semi 's would be more effective than a spray and pray m4 on full auto .</td>\n",
       "      <td>65</td>\n",
       "      <td>papasavva2020</td>\n",
       "      <td>4chan</td>\n",
       "      <td>forum</td>\n",
       "      <td>2017-11-15 06:57:33+00:00</td>\n",
       "      <td>65</td>\n",
       "    </tr>\n",
       "  </tbody>\n",
       "</table>\n",
       "</div>"
      ],
      "text/plain": [
       "                                                                                                                                                                                                                                                                                                                              text  \\\n",
       "id                                                                                                                                                                                                                                                                                                                                   \n",
       "papasavva2020_1197087  a high quality semiauto is actually better than most beat up rack grade military guns . i would take my personal mk12 copy over a beater m4a1 any day . i 'm not a rifle guy , but even i know this . plenty of `` hunting rifle '' semi 's would be more effective than a spray and pray m4 on full auto .   \n",
       "\n",
       "                       word_count        dataset source domain  \\\n",
       "id                                                               \n",
       "papasavva2020_1197087          65  papasavva2020  4chan  forum   \n",
       "\n",
       "                                      timestamp  num_words  \n",
       "id                                                          \n",
       "papasavva2020_1197087 2017-11-15 06:57:33+00:00         65  "
      ]
     },
     "execution_count": 30,
     "metadata": {},
     "output_type": "execute_result"
    }
   ],
   "source": [
    "search = 'high quality semiauto'\n",
    "ws_data[ws_data.text.str.contains(search)]"
   ]
  },
  {
   "cell_type": "code",
   "execution_count": 32,
   "id": "e0719009-1b15-437f-bb53-e234c754301a",
   "metadata": {
    "scrolled": true,
    "tags": []
   },
   "outputs": [
    {
     "data": {
      "text/html": [
       "<div>\n",
       "<style scoped>\n",
       "    .dataframe tbody tr th:only-of-type {\n",
       "        vertical-align: middle;\n",
       "    }\n",
       "\n",
       "    .dataframe tbody tr th {\n",
       "        vertical-align: top;\n",
       "    }\n",
       "\n",
       "    .dataframe thead th {\n",
       "        text-align: right;\n",
       "    }\n",
       "</style>\n",
       "<table border=\"1\" class=\"dataframe\">\n",
       "  <thead>\n",
       "    <tr style=\"text-align: right;\">\n",
       "      <th></th>\n",
       "      <th>text</th>\n",
       "      <th>word_count</th>\n",
       "      <th>dataset</th>\n",
       "      <th>source</th>\n",
       "      <th>domain</th>\n",
       "      <th>timestamp</th>\n",
       "      <th>num_words</th>\n",
       "    </tr>\n",
       "    <tr>\n",
       "      <th>id</th>\n",
       "      <th></th>\n",
       "      <th></th>\n",
       "      <th></th>\n",
       "      <th></th>\n",
       "      <th></th>\n",
       "      <th></th>\n",
       "      <th></th>\n",
       "    </tr>\n",
       "  </thead>\n",
       "  <tbody>\n",
       "    <tr>\n",
       "      <th>stormfront_142341</th>\n",
       "      <td>school gun free zones make ccw unworkable the idea of a `` gun free zone '' around a school needs to be challenged as a direct infringement of the second amendment . here 's a map of cleveland and all the areas , you would have to avoid if you had a ccw permit .</td>\n",
       "      <td>55</td>\n",
       "      <td>stormfront</td>\n",
       "      <td>stormfront</td>\n",
       "      <td>forum</td>\n",
       "      <td>2012-12-17 23:52:00+00:00</td>\n",
       "      <td>55</td>\n",
       "    </tr>\n",
       "  </tbody>\n",
       "</table>\n",
       "</div>"
      ],
      "text/plain": [
       "                                                                                                                                                                                                                                                                                     text  \\\n",
       "id                                                                                                                                                                                                                                                                                          \n",
       "stormfront_142341  school gun free zones make ccw unworkable the idea of a `` gun free zone '' around a school needs to be challenged as a direct infringement of the second amendment . here 's a map of cleveland and all the areas , you would have to avoid if you had a ccw permit .   \n",
       "\n",
       "                   word_count     dataset      source domain  \\\n",
       "id                                                             \n",
       "stormfront_142341          55  stormfront  stormfront  forum   \n",
       "\n",
       "                                  timestamp  num_words  \n",
       "id                                                      \n",
       "stormfront_142341 2012-12-17 23:52:00+00:00         55  "
      ]
     },
     "execution_count": 32,
     "metadata": {},
     "output_type": "execute_result"
    }
   ],
   "source": [
    "search = 'make ccw unworkable'\n",
    "ws_data[ws_data.text.str.contains(search)]"
   ]
  },
  {
   "cell_type": "code",
   "execution_count": 34,
   "id": "756c81fe-d98e-4702-9a0b-0cddb26e6c7d",
   "metadata": {
    "scrolled": true,
    "tags": []
   },
   "outputs": [
    {
     "data": {
      "text/html": [
       "<div>\n",
       "<style scoped>\n",
       "    .dataframe tbody tr th:only-of-type {\n",
       "        vertical-align: middle;\n",
       "    }\n",
       "\n",
       "    .dataframe tbody tr th {\n",
       "        vertical-align: top;\n",
       "    }\n",
       "\n",
       "    .dataframe thead th {\n",
       "        text-align: right;\n",
       "    }\n",
       "</style>\n",
       "<table border=\"1\" class=\"dataframe\">\n",
       "  <thead>\n",
       "    <tr style=\"text-align: right;\">\n",
       "      <th></th>\n",
       "      <th>text</th>\n",
       "      <th>word_count</th>\n",
       "      <th>dataset</th>\n",
       "      <th>source</th>\n",
       "      <th>domain</th>\n",
       "      <th>timestamp</th>\n",
       "      <th>num_words</th>\n",
       "    </tr>\n",
       "    <tr>\n",
       "      <th>id</th>\n",
       "      <th></th>\n",
       "      <th></th>\n",
       "      <th></th>\n",
       "      <th></th>\n",
       "      <th></th>\n",
       "      <th></th>\n",
       "      <th></th>\n",
       "    </tr>\n",
       "  </thead>\n",
       "  <tbody>\n",
       "    <tr>\n",
       "      <th>papasavva2020_3053596</th>\n",
       "      <td>i 'd love to shred you with a gutting knife , leftiepol fucker .</td>\n",
       "      <td>14</td>\n",
       "      <td>papasavva2020</td>\n",
       "      <td>4chan</td>\n",
       "      <td>forum</td>\n",
       "      <td>2019-08-19 23:06:36+00:00</td>\n",
       "      <td>14</td>\n",
       "    </tr>\n",
       "  </tbody>\n",
       "</table>\n",
       "</div>"
      ],
      "text/plain": [
       "                                                                                   text  \\\n",
       "id                                                                                        \n",
       "papasavva2020_3053596  i 'd love to shred you with a gutting knife , leftiepol fucker .   \n",
       "\n",
       "                       word_count        dataset source domain  \\\n",
       "id                                                               \n",
       "papasavva2020_3053596          14  papasavva2020  4chan  forum   \n",
       "\n",
       "                                      timestamp  num_words  \n",
       "id                                                          \n",
       "papasavva2020_3053596 2019-08-19 23:06:36+00:00         14  "
      ]
     },
     "execution_count": 34,
     "metadata": {},
     "output_type": "execute_result"
    }
   ],
   "source": [
    "search = 'leftiepol fucker'\n",
    "ws_data[ws_data.text.str.contains(search)]"
   ]
  }
 ],
 "metadata": {
  "kernelspec": {
   "display_name": "Python 3 (ipykernel)",
   "language": "python",
   "name": "python3"
  },
  "language_info": {
   "codemirror_mode": {
    "name": "ipython",
    "version": 3
   },
   "file_extension": ".py",
   "mimetype": "text/x-python",
   "name": "python",
   "nbconvert_exporter": "python",
   "pygments_lexer": "ipython3",
   "version": "3.9.13"
  }
 },
 "nbformat": 4,
 "nbformat_minor": 5
}
