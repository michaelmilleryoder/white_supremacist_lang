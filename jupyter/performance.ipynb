{
 "cells": [
  {
   "cell_type": "markdown",
   "id": "f0779580-ad56-4146-ad19-1c01aef43223",
   "metadata": {},
   "source": [
    "# White supremacy classification performance results"
   ]
  },
  {
   "cell_type": "code",
   "execution_count": 27,
   "id": "4c99ecc8-69e0-4138-aef3-5dd64dae13b6",
   "metadata": {},
   "outputs": [
    {
     "data": {
      "text/html": [
       "<div>\n",
       "<style scoped>\n",
       "    .dataframe tbody tr th:only-of-type {\n",
       "        vertical-align: middle;\n",
       "    }\n",
       "\n",
       "    .dataframe tbody tr th {\n",
       "        vertical-align: top;\n",
       "    }\n",
       "\n",
       "    .dataframe thead th {\n",
       "        text-align: right;\n",
       "    }\n",
       "</style>\n",
       "<table border=\"1\" class=\"dataframe\">\n",
       "  <thead>\n",
       "    <tr style=\"text-align: right;\">\n",
       "      <th></th>\n",
       "      <th>dataset</th>\n",
       "      <th>f1</th>\n",
       "      <th>precision</th>\n",
       "      <th>recall</th>\n",
       "      <th>accuracy</th>\n",
       "      <th>model</th>\n",
       "      <th>path</th>\n",
       "      <th>corpus</th>\n",
       "    </tr>\n",
       "  </thead>\n",
       "  <tbody>\n",
       "    <tr>\n",
       "      <th>0</th>\n",
       "      <td>eval</td>\n",
       "      <td>0.884297</td>\n",
       "      <td>0.894348</td>\n",
       "      <td>0.874470</td>\n",
       "      <td>0.879584</td>\n",
       "      <td>ws_neutral</td>\n",
       "      <td>NaN</td>\n",
       "      <td>NaN</td>\n",
       "    </tr>\n",
       "    <tr>\n",
       "      <th>0</th>\n",
       "      <td>alatawi2021</td>\n",
       "      <td>0.695430</td>\n",
       "      <td>0.581651</td>\n",
       "      <td>0.864545</td>\n",
       "      <td>0.583292</td>\n",
       "      <td>ws_neutral</td>\n",
       "      <td>../output/bert/ws_neutral_annotated_test/resul...</td>\n",
       "      <td>NaN</td>\n",
       "    </tr>\n",
       "    <tr>\n",
       "      <th>2</th>\n",
       "      <td>siegel2021_white_nationalist_only</td>\n",
       "      <td>0.466942</td>\n",
       "      <td>0.307902</td>\n",
       "      <td>0.965812</td>\n",
       "      <td>0.535971</td>\n",
       "      <td>ws_neutral</td>\n",
       "      <td>../output/bert/ws_neutral_annotated_test/resul...</td>\n",
       "      <td>NaN</td>\n",
       "    </tr>\n",
       "    <tr>\n",
       "      <th>3</th>\n",
       "      <td>rieger2021</td>\n",
       "      <td>0.185420</td>\n",
       "      <td>0.102692</td>\n",
       "      <td>0.953804</td>\n",
       "      <td>0.402557</td>\n",
       "      <td>ws_neutral</td>\n",
       "      <td>../output/bert/ws_neutral_annotated_test/resul...</td>\n",
       "      <td>NaN</td>\n",
       "    </tr>\n",
       "    <tr>\n",
       "      <th>0</th>\n",
       "      <td>hatecheck_identity_nonhate</td>\n",
       "      <td>0.000000</td>\n",
       "      <td>0.000000</td>\n",
       "      <td>0.000000</td>\n",
       "      <td>0.438095</td>\n",
       "      <td>ws_neutral</td>\n",
       "      <td>../output/bert/ws_neutral_bias_test/results.jsonl</td>\n",
       "      <td>NaN</td>\n",
       "    </tr>\n",
       "    <tr>\n",
       "      <th>0</th>\n",
       "      <td>adl_heatmap</td>\n",
       "      <td>0.974516</td>\n",
       "      <td>1.000000</td>\n",
       "      <td>0.950298</td>\n",
       "      <td>0.950298</td>\n",
       "      <td>ws_neutral</td>\n",
       "      <td>../output/bert/3epochs_domain_test/results.jsonl</td>\n",
       "      <td>NaN</td>\n",
       "    </tr>\n",
       "    <tr>\n",
       "      <th>0</th>\n",
       "      <td>eval</td>\n",
       "      <td>0.884380</td>\n",
       "      <td>0.894658</td>\n",
       "      <td>0.874336</td>\n",
       "      <td>0.878969</td>\n",
       "      <td>ws_antiracist</td>\n",
       "      <td>NaN</td>\n",
       "      <td>NaN</td>\n",
       "    </tr>\n",
       "    <tr>\n",
       "      <th>0</th>\n",
       "      <td>alatawi2021</td>\n",
       "      <td>0.679828</td>\n",
       "      <td>0.561684</td>\n",
       "      <td>0.860909</td>\n",
       "      <td>0.553777</td>\n",
       "      <td>ws_antiracist</td>\n",
       "      <td>../output/bert/ws_antiracist_416000_test/resul...</td>\n",
       "      <td>annotated_test</td>\n",
       "    </tr>\n",
       "    <tr>\n",
       "      <th>2</th>\n",
       "      <td>siegel2021_white_nationalist_only</td>\n",
       "      <td>0.414414</td>\n",
       "      <td>0.262557</td>\n",
       "      <td>0.982906</td>\n",
       "      <td>0.415468</td>\n",
       "      <td>ws_antiracist</td>\n",
       "      <td>../output/bert/ws_antiracist_416000_test/resul...</td>\n",
       "      <td>annotated_test</td>\n",
       "    </tr>\n",
       "    <tr>\n",
       "      <th>3</th>\n",
       "      <td>rieger2021</td>\n",
       "      <td>0.187680</td>\n",
       "      <td>0.103858</td>\n",
       "      <td>0.972826</td>\n",
       "      <td>0.399651</td>\n",
       "      <td>ws_antiracist</td>\n",
       "      <td>../output/bert/ws_antiracist_416000_test/resul...</td>\n",
       "      <td>annotated_test</td>\n",
       "    </tr>\n",
       "    <tr>\n",
       "      <th>4</th>\n",
       "      <td>adl_heatmap</td>\n",
       "      <td>0.976081</td>\n",
       "      <td>1.000000</td>\n",
       "      <td>0.953280</td>\n",
       "      <td>0.953280</td>\n",
       "      <td>ws_antiracist</td>\n",
       "      <td>../output/bert/ws_antiracist_416000_test/resul...</td>\n",
       "      <td>domain_test</td>\n",
       "    </tr>\n",
       "    <tr>\n",
       "      <th>5</th>\n",
       "      <td>hatecheck_identity_nonhate</td>\n",
       "      <td>0.000000</td>\n",
       "      <td>0.000000</td>\n",
       "      <td>0.000000</td>\n",
       "      <td>0.473016</td>\n",
       "      <td>ws_antiracist</td>\n",
       "      <td>../output/bert/ws_antiracist_416000_test/resul...</td>\n",
       "      <td>bias_test</td>\n",
       "    </tr>\n",
       "  </tbody>\n",
       "</table>\n",
       "</div>"
      ],
      "text/plain": [
       "                             dataset        f1  precision    recall  accuracy  \\\n",
       "0                               eval  0.884297   0.894348  0.874470  0.879584   \n",
       "0                        alatawi2021  0.695430   0.581651  0.864545  0.583292   \n",
       "2  siegel2021_white_nationalist_only  0.466942   0.307902  0.965812  0.535971   \n",
       "3                         rieger2021  0.185420   0.102692  0.953804  0.402557   \n",
       "0         hatecheck_identity_nonhate  0.000000   0.000000  0.000000  0.438095   \n",
       "0                        adl_heatmap  0.974516   1.000000  0.950298  0.950298   \n",
       "0                               eval  0.884380   0.894658  0.874336  0.878969   \n",
       "0                        alatawi2021  0.679828   0.561684  0.860909  0.553777   \n",
       "2  siegel2021_white_nationalist_only  0.414414   0.262557  0.982906  0.415468   \n",
       "3                         rieger2021  0.187680   0.103858  0.972826  0.399651   \n",
       "4                        adl_heatmap  0.976081   1.000000  0.953280  0.953280   \n",
       "5         hatecheck_identity_nonhate  0.000000   0.000000  0.000000  0.473016   \n",
       "\n",
       "           model                                               path  \\\n",
       "0     ws_neutral                                                NaN   \n",
       "0     ws_neutral  ../output/bert/ws_neutral_annotated_test/resul...   \n",
       "2     ws_neutral  ../output/bert/ws_neutral_annotated_test/resul...   \n",
       "3     ws_neutral  ../output/bert/ws_neutral_annotated_test/resul...   \n",
       "0     ws_neutral  ../output/bert/ws_neutral_bias_test/results.jsonl   \n",
       "0     ws_neutral   ../output/bert/3epochs_domain_test/results.jsonl   \n",
       "0  ws_antiracist                                                NaN   \n",
       "0  ws_antiracist  ../output/bert/ws_antiracist_416000_test/resul...   \n",
       "2  ws_antiracist  ../output/bert/ws_antiracist_416000_test/resul...   \n",
       "3  ws_antiracist  ../output/bert/ws_antiracist_416000_test/resul...   \n",
       "4  ws_antiracist  ../output/bert/ws_antiracist_416000_test/resul...   \n",
       "5  ws_antiracist  ../output/bert/ws_antiracist_416000_test/resul...   \n",
       "\n",
       "           corpus  \n",
       "0             NaN  \n",
       "0             NaN  \n",
       "2             NaN  \n",
       "3             NaN  \n",
       "0             NaN  \n",
       "0             NaN  \n",
       "0             NaN  \n",
       "0  annotated_test  \n",
       "2  annotated_test  \n",
       "3  annotated_test  \n",
       "4     domain_test  \n",
       "5       bias_test  "
      ]
     },
     "execution_count": 27,
     "metadata": {},
     "output_type": "execute_result"
    }
   ],
   "source": [
    "# Load results from models\n",
    "import os\n",
    "import pandas as pd\n",
    "import json\n",
    "\n",
    "experiments = [\n",
    "    # {'name': 'ws_neutral_annotated_test', 'model': 'ws_neutral', 'wandb_run': 'run-20221005_151644-2woifl38', 'epoch': 2.96},\n",
    "    # {'name': 'ws_neutral_bias_test', 'model': 'ws_neutral', 'wandb_run': 'run-20221005_151644-2woifl38', 'epoch': 2.96},\n",
    "    # {'name': '3epochs_domain_test', 'model': 'ws_neutral', 'wandb_run': 'run-20221005_151644-2woifl38', 'epoch': 2.96},\n",
    "    # {'name': 'ws_antiracist_416000_test', 'model': 'ws_antiracist', 'wandb_run': 'run-20221025_151731-3fu66yyx'}\n",
    "    {'name': 'ws_neutral_annotated_test', 'model': 'ws_neutral'},\n",
    "    {'name': 'ws_neutral_bias_test', 'model': 'ws_neutral'},\n",
    "    {'name': '3epochs_domain_test', 'model': 'ws_neutral'},\n",
    "    {'name': 'ws_antiracist_416000_test', 'model': 'ws_antiracist'},\n",
    "]\n",
    "\n",
    "# Copy eval performance for models from logs when training\n",
    "model_eval_perf = {'ws_neutral':\n",
    "                          {'eval_loss': 0.2855835258960724, 'eval_accuracy': {'accuracy': 0.8795835469837618}, 'eval_precision': {'precision': 0.894347724404422}, 'eval_recall': {'recall': 0.8744695227971291}, 'eval_f1': {'f1': 0.8842969266745484}, 'eval_runtime': 1423.5039, 'eval_samples_per_second': 648.019, 'eval_steps_per_second': 20.251, 'epoch': 2.96},\n",
    "                   'ws_antiracist':\n",
    "                       {'eval_loss': 0.27164652943611145, 'eval_accuracy': {'accuracy': 0.8789687179677717}, 'eval_precision': {'precision': 0.8946584716765936}, 'eval_recall': {'recall': 0.8743356073194142}, 'eval_f1': {'f1': 0.8843803011718037}, 'eval_runtime': 1398.3536, 'eval_samples_per_second': 654.408, 'eval_steps_per_second': 20.45, 'epoch': 1.62},\n",
    "                         }\n",
    "\n",
    "dirpath = '../output/bert/'\n",
    "dfs = []\n",
    "for exp in experiments:\n",
    "    \n",
    "    # Load eval (same domains) performance (too complicated, just looking at wandb output)\n",
    "    #log_fpath = os.path.join('../code/wandb/', exp['wandb_run'], 'files/output.log')\n",
    "    #with open(log_fpath) as f:\n",
    "    #    eval_lines = [json.loads(line) for line in f.read().splitlines() if line.startswith('{eval_loss')]\n",
    "    #eval_line = [l for l in eval_lines if l['epoch'] == exp['epoch']][0]\n",
    "    # Could also just run the eval again when run on other test datasets\n",
    "    if exp['model'] in model_eval_perf:\n",
    "        eval_perf = model_eval_perf[exp['model']]\n",
    "        dfs.append(pd.DataFrame([{'dataset': 'eval', 'f1': eval_perf['eval_f1']['f1'], \n",
    "                             'precision': eval_perf['eval_precision']['precision'],\n",
    "                             'recall': eval_perf['eval_recall']['recall'],\n",
    "                             'accuracy': eval_perf['eval_accuracy']['accuracy'],\n",
    "                             'model': exp['model']\n",
    "                            }]))\n",
    "    \n",
    "    # Load test performance\n",
    "    results_fpath = os.path.join(dirpath, exp['name'], 'results.jsonl')\n",
    "    dfs.append(pd.read_json(results_fpath, orient='records', lines=True).assign(model=exp['model'], path=results_fpath))\n",
    "results = pd.concat(dfs).drop_duplicates()\n",
    "results = results[results.dataset != 'siegel2021']\n",
    "results"
   ]
  },
  {
   "cell_type": "code",
   "execution_count": 29,
   "id": "47411e10-6602-43e3-8fa0-9f558139a04b",
   "metadata": {},
   "outputs": [
    {
     "data": {
      "application/vnd.plotly.v1+json": {
       "config": {
        "plotlyServerURL": "https://plot.ly"
       },
       "data": [
        {
         "alignmentgroup": "True",
         "hovertemplate": "model=ws_neutral<br>dataset=%{x}<br>accuracy=%{y}<extra></extra>",
         "legendgroup": "ws_neutral",
         "marker": {
          "color": "#636efa",
          "pattern": {
           "shape": ""
          }
         },
         "name": "ws_neutral",
         "offsetgroup": "ws_neutral",
         "orientation": "v",
         "showlegend": true,
         "textposition": "auto",
         "type": "bar",
         "x": [
          "eval",
          "alatawi2021",
          "siegel2021_white_nationalist_only",
          "rieger2021",
          "hatecheck_identity_nonhate",
          "adl_heatmap"
         ],
         "xaxis": "x",
         "y": [
          0.8795835469837618,
          0.5832916458,
          0.535971223,
          0.4025571484,
          0.4380952381,
          0.9502982107000001
         ],
         "yaxis": "y"
        },
        {
         "alignmentgroup": "True",
         "hovertemplate": "model=ws_antiracist<br>dataset=%{x}<br>accuracy=%{y}<extra></extra>",
         "legendgroup": "ws_antiracist",
         "marker": {
          "color": "#EF553B",
          "pattern": {
           "shape": ""
          }
         },
         "name": "ws_antiracist",
         "offsetgroup": "ws_antiracist",
         "orientation": "v",
         "showlegend": true,
         "textposition": "auto",
         "type": "bar",
         "x": [
          "eval",
          "alatawi2021",
          "siegel2021_white_nationalist_only",
          "rieger2021",
          "adl_heatmap",
          "hatecheck_identity_nonhate"
         ],
         "xaxis": "x",
         "y": [
          0.8789687179677717,
          0.5537768884000001,
          0.4154676259,
          0.39965129790000004,
          0.9532803181,
          0.47301587300000003
         ],
         "yaxis": "y"
        }
       ],
       "layout": {
        "autosize": true,
        "barmode": "group",
        "legend": {
         "title": {
          "text": "model"
         },
         "tracegroupgap": 0
        },
        "margin": {
         "t": 60
        },
        "template": {
         "data": {
          "bar": [
           {
            "error_x": {
             "color": "#2a3f5f"
            },
            "error_y": {
             "color": "#2a3f5f"
            },
            "marker": {
             "line": {
              "color": "#E5ECF6",
              "width": 0.5
             },
             "pattern": {
              "fillmode": "overlay",
              "size": 10,
              "solidity": 0.2
             }
            },
            "type": "bar"
           }
          ],
          "barpolar": [
           {
            "marker": {
             "line": {
              "color": "#E5ECF6",
              "width": 0.5
             },
             "pattern": {
              "fillmode": "overlay",
              "size": 10,
              "solidity": 0.2
             }
            },
            "type": "barpolar"
           }
          ],
          "carpet": [
           {
            "aaxis": {
             "endlinecolor": "#2a3f5f",
             "gridcolor": "white",
             "linecolor": "white",
             "minorgridcolor": "white",
             "startlinecolor": "#2a3f5f"
            },
            "baxis": {
             "endlinecolor": "#2a3f5f",
             "gridcolor": "white",
             "linecolor": "white",
             "minorgridcolor": "white",
             "startlinecolor": "#2a3f5f"
            },
            "type": "carpet"
           }
          ],
          "choropleth": [
           {
            "colorbar": {
             "outlinewidth": 0,
             "ticks": ""
            },
            "type": "choropleth"
           }
          ],
          "contour": [
           {
            "colorbar": {
             "outlinewidth": 0,
             "ticks": ""
            },
            "colorscale": [
             [
              0,
              "#0d0887"
             ],
             [
              0.1111111111111111,
              "#46039f"
             ],
             [
              0.2222222222222222,
              "#7201a8"
             ],
             [
              0.3333333333333333,
              "#9c179e"
             ],
             [
              0.4444444444444444,
              "#bd3786"
             ],
             [
              0.5555555555555556,
              "#d8576b"
             ],
             [
              0.6666666666666666,
              "#ed7953"
             ],
             [
              0.7777777777777778,
              "#fb9f3a"
             ],
             [
              0.8888888888888888,
              "#fdca26"
             ],
             [
              1,
              "#f0f921"
             ]
            ],
            "type": "contour"
           }
          ],
          "contourcarpet": [
           {
            "colorbar": {
             "outlinewidth": 0,
             "ticks": ""
            },
            "type": "contourcarpet"
           }
          ],
          "heatmap": [
           {
            "colorbar": {
             "outlinewidth": 0,
             "ticks": ""
            },
            "colorscale": [
             [
              0,
              "#0d0887"
             ],
             [
              0.1111111111111111,
              "#46039f"
             ],
             [
              0.2222222222222222,
              "#7201a8"
             ],
             [
              0.3333333333333333,
              "#9c179e"
             ],
             [
              0.4444444444444444,
              "#bd3786"
             ],
             [
              0.5555555555555556,
              "#d8576b"
             ],
             [
              0.6666666666666666,
              "#ed7953"
             ],
             [
              0.7777777777777778,
              "#fb9f3a"
             ],
             [
              0.8888888888888888,
              "#fdca26"
             ],
             [
              1,
              "#f0f921"
             ]
            ],
            "type": "heatmap"
           }
          ],
          "heatmapgl": [
           {
            "colorbar": {
             "outlinewidth": 0,
             "ticks": ""
            },
            "colorscale": [
             [
              0,
              "#0d0887"
             ],
             [
              0.1111111111111111,
              "#46039f"
             ],
             [
              0.2222222222222222,
              "#7201a8"
             ],
             [
              0.3333333333333333,
              "#9c179e"
             ],
             [
              0.4444444444444444,
              "#bd3786"
             ],
             [
              0.5555555555555556,
              "#d8576b"
             ],
             [
              0.6666666666666666,
              "#ed7953"
             ],
             [
              0.7777777777777778,
              "#fb9f3a"
             ],
             [
              0.8888888888888888,
              "#fdca26"
             ],
             [
              1,
              "#f0f921"
             ]
            ],
            "type": "heatmapgl"
           }
          ],
          "histogram": [
           {
            "marker": {
             "pattern": {
              "fillmode": "overlay",
              "size": 10,
              "solidity": 0.2
             }
            },
            "type": "histogram"
           }
          ],
          "histogram2d": [
           {
            "colorbar": {
             "outlinewidth": 0,
             "ticks": ""
            },
            "colorscale": [
             [
              0,
              "#0d0887"
             ],
             [
              0.1111111111111111,
              "#46039f"
             ],
             [
              0.2222222222222222,
              "#7201a8"
             ],
             [
              0.3333333333333333,
              "#9c179e"
             ],
             [
              0.4444444444444444,
              "#bd3786"
             ],
             [
              0.5555555555555556,
              "#d8576b"
             ],
             [
              0.6666666666666666,
              "#ed7953"
             ],
             [
              0.7777777777777778,
              "#fb9f3a"
             ],
             [
              0.8888888888888888,
              "#fdca26"
             ],
             [
              1,
              "#f0f921"
             ]
            ],
            "type": "histogram2d"
           }
          ],
          "histogram2dcontour": [
           {
            "colorbar": {
             "outlinewidth": 0,
             "ticks": ""
            },
            "colorscale": [
             [
              0,
              "#0d0887"
             ],
             [
              0.1111111111111111,
              "#46039f"
             ],
             [
              0.2222222222222222,
              "#7201a8"
             ],
             [
              0.3333333333333333,
              "#9c179e"
             ],
             [
              0.4444444444444444,
              "#bd3786"
             ],
             [
              0.5555555555555556,
              "#d8576b"
             ],
             [
              0.6666666666666666,
              "#ed7953"
             ],
             [
              0.7777777777777778,
              "#fb9f3a"
             ],
             [
              0.8888888888888888,
              "#fdca26"
             ],
             [
              1,
              "#f0f921"
             ]
            ],
            "type": "histogram2dcontour"
           }
          ],
          "mesh3d": [
           {
            "colorbar": {
             "outlinewidth": 0,
             "ticks": ""
            },
            "type": "mesh3d"
           }
          ],
          "parcoords": [
           {
            "line": {
             "colorbar": {
              "outlinewidth": 0,
              "ticks": ""
             }
            },
            "type": "parcoords"
           }
          ],
          "pie": [
           {
            "automargin": true,
            "type": "pie"
           }
          ],
          "scatter": [
           {
            "fillpattern": {
             "fillmode": "overlay",
             "size": 10,
             "solidity": 0.2
            },
            "type": "scatter"
           }
          ],
          "scatter3d": [
           {
            "line": {
             "colorbar": {
              "outlinewidth": 0,
              "ticks": ""
             }
            },
            "marker": {
             "colorbar": {
              "outlinewidth": 0,
              "ticks": ""
             }
            },
            "type": "scatter3d"
           }
          ],
          "scattercarpet": [
           {
            "marker": {
             "colorbar": {
              "outlinewidth": 0,
              "ticks": ""
             }
            },
            "type": "scattercarpet"
           }
          ],
          "scattergeo": [
           {
            "marker": {
             "colorbar": {
              "outlinewidth": 0,
              "ticks": ""
             }
            },
            "type": "scattergeo"
           }
          ],
          "scattergl": [
           {
            "marker": {
             "colorbar": {
              "outlinewidth": 0,
              "ticks": ""
             }
            },
            "type": "scattergl"
           }
          ],
          "scattermapbox": [
           {
            "marker": {
             "colorbar": {
              "outlinewidth": 0,
              "ticks": ""
             }
            },
            "type": "scattermapbox"
           }
          ],
          "scatterpolar": [
           {
            "marker": {
             "colorbar": {
              "outlinewidth": 0,
              "ticks": ""
             }
            },
            "type": "scatterpolar"
           }
          ],
          "scatterpolargl": [
           {
            "marker": {
             "colorbar": {
              "outlinewidth": 0,
              "ticks": ""
             }
            },
            "type": "scatterpolargl"
           }
          ],
          "scatterternary": [
           {
            "marker": {
             "colorbar": {
              "outlinewidth": 0,
              "ticks": ""
             }
            },
            "type": "scatterternary"
           }
          ],
          "surface": [
           {
            "colorbar": {
             "outlinewidth": 0,
             "ticks": ""
            },
            "colorscale": [
             [
              0,
              "#0d0887"
             ],
             [
              0.1111111111111111,
              "#46039f"
             ],
             [
              0.2222222222222222,
              "#7201a8"
             ],
             [
              0.3333333333333333,
              "#9c179e"
             ],
             [
              0.4444444444444444,
              "#bd3786"
             ],
             [
              0.5555555555555556,
              "#d8576b"
             ],
             [
              0.6666666666666666,
              "#ed7953"
             ],
             [
              0.7777777777777778,
              "#fb9f3a"
             ],
             [
              0.8888888888888888,
              "#fdca26"
             ],
             [
              1,
              "#f0f921"
             ]
            ],
            "type": "surface"
           }
          ],
          "table": [
           {
            "cells": {
             "fill": {
              "color": "#EBF0F8"
             },
             "line": {
              "color": "white"
             }
            },
            "header": {
             "fill": {
              "color": "#C8D4E3"
             },
             "line": {
              "color": "white"
             }
            },
            "type": "table"
           }
          ]
         },
         "layout": {
          "annotationdefaults": {
           "arrowcolor": "#2a3f5f",
           "arrowhead": 0,
           "arrowwidth": 1
          },
          "autotypenumbers": "strict",
          "coloraxis": {
           "colorbar": {
            "outlinewidth": 0,
            "ticks": ""
           }
          },
          "colorscale": {
           "diverging": [
            [
             0,
             "#8e0152"
            ],
            [
             0.1,
             "#c51b7d"
            ],
            [
             0.2,
             "#de77ae"
            ],
            [
             0.3,
             "#f1b6da"
            ],
            [
             0.4,
             "#fde0ef"
            ],
            [
             0.5,
             "#f7f7f7"
            ],
            [
             0.6,
             "#e6f5d0"
            ],
            [
             0.7,
             "#b8e186"
            ],
            [
             0.8,
             "#7fbc41"
            ],
            [
             0.9,
             "#4d9221"
            ],
            [
             1,
             "#276419"
            ]
           ],
           "sequential": [
            [
             0,
             "#0d0887"
            ],
            [
             0.1111111111111111,
             "#46039f"
            ],
            [
             0.2222222222222222,
             "#7201a8"
            ],
            [
             0.3333333333333333,
             "#9c179e"
            ],
            [
             0.4444444444444444,
             "#bd3786"
            ],
            [
             0.5555555555555556,
             "#d8576b"
            ],
            [
             0.6666666666666666,
             "#ed7953"
            ],
            [
             0.7777777777777778,
             "#fb9f3a"
            ],
            [
             0.8888888888888888,
             "#fdca26"
            ],
            [
             1,
             "#f0f921"
            ]
           ],
           "sequentialminus": [
            [
             0,
             "#0d0887"
            ],
            [
             0.1111111111111111,
             "#46039f"
            ],
            [
             0.2222222222222222,
             "#7201a8"
            ],
            [
             0.3333333333333333,
             "#9c179e"
            ],
            [
             0.4444444444444444,
             "#bd3786"
            ],
            [
             0.5555555555555556,
             "#d8576b"
            ],
            [
             0.6666666666666666,
             "#ed7953"
            ],
            [
             0.7777777777777778,
             "#fb9f3a"
            ],
            [
             0.8888888888888888,
             "#fdca26"
            ],
            [
             1,
             "#f0f921"
            ]
           ]
          },
          "colorway": [
           "#636efa",
           "#EF553B",
           "#00cc96",
           "#ab63fa",
           "#FFA15A",
           "#19d3f3",
           "#FF6692",
           "#B6E880",
           "#FF97FF",
           "#FECB52"
          ],
          "font": {
           "color": "#2a3f5f"
          },
          "geo": {
           "bgcolor": "white",
           "lakecolor": "white",
           "landcolor": "#E5ECF6",
           "showlakes": true,
           "showland": true,
           "subunitcolor": "white"
          },
          "hoverlabel": {
           "align": "left"
          },
          "hovermode": "closest",
          "mapbox": {
           "style": "light"
          },
          "paper_bgcolor": "white",
          "plot_bgcolor": "#E5ECF6",
          "polar": {
           "angularaxis": {
            "gridcolor": "white",
            "linecolor": "white",
            "ticks": ""
           },
           "bgcolor": "#E5ECF6",
           "radialaxis": {
            "gridcolor": "white",
            "linecolor": "white",
            "ticks": ""
           }
          },
          "scene": {
           "xaxis": {
            "backgroundcolor": "#E5ECF6",
            "gridcolor": "white",
            "gridwidth": 2,
            "linecolor": "white",
            "showbackground": true,
            "ticks": "",
            "zerolinecolor": "white"
           },
           "yaxis": {
            "backgroundcolor": "#E5ECF6",
            "gridcolor": "white",
            "gridwidth": 2,
            "linecolor": "white",
            "showbackground": true,
            "ticks": "",
            "zerolinecolor": "white"
           },
           "zaxis": {
            "backgroundcolor": "#E5ECF6",
            "gridcolor": "white",
            "gridwidth": 2,
            "linecolor": "white",
            "showbackground": true,
            "ticks": "",
            "zerolinecolor": "white"
           }
          },
          "shapedefaults": {
           "line": {
            "color": "#2a3f5f"
           }
          },
          "ternary": {
           "aaxis": {
            "gridcolor": "white",
            "linecolor": "white",
            "ticks": ""
           },
           "baxis": {
            "gridcolor": "white",
            "linecolor": "white",
            "ticks": ""
           },
           "bgcolor": "#E5ECF6",
           "caxis": {
            "gridcolor": "white",
            "linecolor": "white",
            "ticks": ""
           }
          },
          "title": {
           "x": 0.05
          },
          "xaxis": {
           "automargin": true,
           "gridcolor": "white",
           "linecolor": "white",
           "ticks": "",
           "title": {
            "standoff": 15
           },
           "zerolinecolor": "white",
           "zerolinewidth": 2
          },
          "yaxis": {
           "automargin": true,
           "gridcolor": "white",
           "linecolor": "white",
           "ticks": "",
           "title": {
            "standoff": 15
           },
           "zerolinecolor": "white",
           "zerolinewidth": 2
          }
         }
        },
        "xaxis": {
         "anchor": "y",
         "autorange": true,
         "domain": [
          0,
          1
         ],
         "range": [
          -0.5,
          5.5
         ],
         "title": {
          "text": "dataset"
         },
         "type": "category"
        },
        "yaxis": {
         "anchor": "x",
         "autorange": true,
         "domain": [
          0,
          1
         ],
         "range": [
          0,
          1.0034529664210527
         ],
         "title": {
          "text": "accuracy"
         },
         "type": "linear"
        }
       }
      },
      "image/png": "[encoded data removed]",
      "text/html": [
       "<div>                            <div id=\"5dd5aae1-c032-4397-bc9b-852002f664e0\" class=\"plotly-graph-div\" style=\"height:525px; width:100%;\"></div>            <script type=\"text/javascript\">                require([\"plotly\"], function(Plotly) {                    window.PLOTLYENV=window.PLOTLYENV || {};                                    if (document.getElementById(\"5dd5aae1-c032-4397-bc9b-852002f664e0\")) {                    Plotly.newPlot(                        \"5dd5aae1-c032-4397-bc9b-852002f664e0\",                        [{\"alignmentgroup\":\"True\",\"hovertemplate\":\"model=ws_neutral<br>dataset=%{x}<br>accuracy=%{y}<extra></extra>\",\"legendgroup\":\"ws_neutral\",\"marker\":{\"color\":\"#636efa\",\"pattern\":{\"shape\":\"\"}},\"name\":\"ws_neutral\",\"offsetgroup\":\"ws_neutral\",\"orientation\":\"v\",\"showlegend\":true,\"textposition\":\"auto\",\"x\":[\"eval\",\"alatawi2021\",\"siegel2021_white_nationalist_only\",\"rieger2021\",\"hatecheck_identity_nonhate\",\"adl_heatmap\"],\"xaxis\":\"x\",\"y\":[0.8795835469837618,0.5832916458,0.535971223,0.4025571484,0.4380952381,0.9502982107000001],\"yaxis\":\"y\",\"type\":\"bar\"},{\"alignmentgroup\":\"True\",\"hovertemplate\":\"model=ws_antiracist<br>dataset=%{x}<br>accuracy=%{y}<extra></extra>\",\"legendgroup\":\"ws_antiracist\",\"marker\":{\"color\":\"#EF553B\",\"pattern\":{\"shape\":\"\"}},\"name\":\"ws_antiracist\",\"offsetgroup\":\"ws_antiracist\",\"orientation\":\"v\",\"showlegend\":true,\"textposition\":\"auto\",\"x\":[\"eval\",\"alatawi2021\",\"siegel2021_white_nationalist_only\",\"rieger2021\",\"adl_heatmap\",\"hatecheck_identity_nonhate\"],\"xaxis\":\"x\",\"y\":[0.8789687179677717,0.5537768884000001,0.4154676259,0.39965129790000004,0.9532803181,0.47301587300000003],\"yaxis\":\"y\",\"type\":\"bar\"}],                        {\"template\":{\"data\":{\"histogram2dcontour\":[{\"type\":\"histogram2dcontour\",\"colorbar\":{\"outlinewidth\":0,\"ticks\":\"\"},\"colorscale\":[[0.0,\"#0d0887\"],[0.1111111111111111,\"#46039f\"],[0.2222222222222222,\"#7201a8\"],[0.3333333333333333,\"#9c179e\"],[0.4444444444444444,\"#bd3786\"],[0.5555555555555556,\"#d8576b\"],[0.6666666666666666,\"#ed7953\"],[0.7777777777777778,\"#fb9f3a\"],[0.8888888888888888,\"#fdca26\"],[1.0,\"#f0f921\"]]}],\"choropleth\":[{\"type\":\"choropleth\",\"colorbar\":{\"outlinewidth\":0,\"ticks\":\"\"}}],\"histogram2d\":[{\"type\":\"histogram2d\",\"colorbar\":{\"outlinewidth\":0,\"ticks\":\"\"},\"colorscale\":[[0.0,\"#0d0887\"],[0.1111111111111111,\"#46039f\"],[0.2222222222222222,\"#7201a8\"],[0.3333333333333333,\"#9c179e\"],[0.4444444444444444,\"#bd3786\"],[0.5555555555555556,\"#d8576b\"],[0.6666666666666666,\"#ed7953\"],[0.7777777777777778,\"#fb9f3a\"],[0.8888888888888888,\"#fdca26\"],[1.0,\"#f0f921\"]]}],\"heatmap\":[{\"type\":\"heatmap\",\"colorbar\":{\"outlinewidth\":0,\"ticks\":\"\"},\"colorscale\":[[0.0,\"#0d0887\"],[0.1111111111111111,\"#46039f\"],[0.2222222222222222,\"#7201a8\"],[0.3333333333333333,\"#9c179e\"],[0.4444444444444444,\"#bd3786\"],[0.5555555555555556,\"#d8576b\"],[0.6666666666666666,\"#ed7953\"],[0.7777777777777778,\"#fb9f3a\"],[0.8888888888888888,\"#fdca26\"],[1.0,\"#f0f921\"]]}],\"heatmapgl\":[{\"type\":\"heatmapgl\",\"colorbar\":{\"outlinewidth\":0,\"ticks\":\"\"},\"colorscale\":[[0.0,\"#0d0887\"],[0.1111111111111111,\"#46039f\"],[0.2222222222222222,\"#7201a8\"],[0.3333333333333333,\"#9c179e\"],[0.4444444444444444,\"#bd3786\"],[0.5555555555555556,\"#d8576b\"],[0.6666666666666666,\"#ed7953\"],[0.7777777777777778,\"#fb9f3a\"],[0.8888888888888888,\"#fdca26\"],[1.0,\"#f0f921\"]]}],\"contourcarpet\":[{\"type\":\"contourcarpet\",\"colorbar\":{\"outlinewidth\":0,\"ticks\":\"\"}}],\"contour\":[{\"type\":\"contour\",\"colorbar\":{\"outlinewidth\":0,\"ticks\":\"\"},\"colorscale\":[[0.0,\"#0d0887\"],[0.1111111111111111,\"#46039f\"],[0.2222222222222222,\"#7201a8\"],[0.3333333333333333,\"#9c179e\"],[0.4444444444444444,\"#bd3786\"],[0.5555555555555556,\"#d8576b\"],[0.6666666666666666,\"#ed7953\"],[0.7777777777777778,\"#fb9f3a\"],[0.8888888888888888,\"#fdca26\"],[1.0,\"#f0f921\"]]}],\"surface\":[{\"type\":\"surface\",\"colorbar\":{\"outlinewidth\":0,\"ticks\":\"\"},\"colorscale\":[[0.0,\"#0d0887\"],[0.1111111111111111,\"#46039f\"],[0.2222222222222222,\"#7201a8\"],[0.3333333333333333,\"#9c179e\"],[0.4444444444444444,\"#bd3786\"],[0.5555555555555556,\"#d8576b\"],[0.6666666666666666,\"#ed7953\"],[0.7777777777777778,\"#fb9f3a\"],[0.8888888888888888,\"#fdca26\"],[1.0,\"#f0f921\"]]}],\"mesh3d\":[{\"type\":\"mesh3d\",\"colorbar\":{\"outlinewidth\":0,\"ticks\":\"\"}}],\"scatter\":[{\"fillpattern\":{\"fillmode\":\"overlay\",\"size\":10,\"solidity\":0.2},\"type\":\"scatter\"}],\"parcoords\":[{\"type\":\"parcoords\",\"line\":{\"colorbar\":{\"outlinewidth\":0,\"ticks\":\"\"}}}],\"scatterpolargl\":[{\"type\":\"scatterpolargl\",\"marker\":{\"colorbar\":{\"outlinewidth\":0,\"ticks\":\"\"}}}],\"bar\":[{\"error_x\":{\"color\":\"#2a3f5f\"},\"error_y\":{\"color\":\"#2a3f5f\"},\"marker\":{\"line\":{\"color\":\"#E5ECF6\",\"width\":0.5},\"pattern\":{\"fillmode\":\"overlay\",\"size\":10,\"solidity\":0.2}},\"type\":\"bar\"}],\"scattergeo\":[{\"type\":\"scattergeo\",\"marker\":{\"colorbar\":{\"outlinewidth\":0,\"ticks\":\"\"}}}],\"scatterpolar\":[{\"type\":\"scatterpolar\",\"marker\":{\"colorbar\":{\"outlinewidth\":0,\"ticks\":\"\"}}}],\"histogram\":[{\"marker\":{\"pattern\":{\"fillmode\":\"overlay\",\"size\":10,\"solidity\":0.2}},\"type\":\"histogram\"}],\"scattergl\":[{\"type\":\"scattergl\",\"marker\":{\"colorbar\":{\"outlinewidth\":0,\"ticks\":\"\"}}}],\"scatter3d\":[{\"type\":\"scatter3d\",\"line\":{\"colorbar\":{\"outlinewidth\":0,\"ticks\":\"\"}},\"marker\":{\"colorbar\":{\"outlinewidth\":0,\"ticks\":\"\"}}}],\"scattermapbox\":[{\"type\":\"scattermapbox\",\"marker\":{\"colorbar\":{\"outlinewidth\":0,\"ticks\":\"\"}}}],\"scatterternary\":[{\"type\":\"scatterternary\",\"marker\":{\"colorbar\":{\"outlinewidth\":0,\"ticks\":\"\"}}}],\"scattercarpet\":[{\"type\":\"scattercarpet\",\"marker\":{\"colorbar\":{\"outlinewidth\":0,\"ticks\":\"\"}}}],\"carpet\":[{\"aaxis\":{\"endlinecolor\":\"#2a3f5f\",\"gridcolor\":\"white\",\"linecolor\":\"white\",\"minorgridcolor\":\"white\",\"startlinecolor\":\"#2a3f5f\"},\"baxis\":{\"endlinecolor\":\"#2a3f5f\",\"gridcolor\":\"white\",\"linecolor\":\"white\",\"minorgridcolor\":\"white\",\"startlinecolor\":\"#2a3f5f\"},\"type\":\"carpet\"}],\"table\":[{\"cells\":{\"fill\":{\"color\":\"#EBF0F8\"},\"line\":{\"color\":\"white\"}},\"header\":{\"fill\":{\"color\":\"#C8D4E3\"},\"line\":{\"color\":\"white\"}},\"type\":\"table\"}],\"barpolar\":[{\"marker\":{\"line\":{\"color\":\"#E5ECF6\",\"width\":0.5},\"pattern\":{\"fillmode\":\"overlay\",\"size\":10,\"solidity\":0.2}},\"type\":\"barpolar\"}],\"pie\":[{\"automargin\":true,\"type\":\"pie\"}]},\"layout\":{\"autotypenumbers\":\"strict\",\"colorway\":[\"#636efa\",\"#EF553B\",\"#00cc96\",\"#ab63fa\",\"#FFA15A\",\"#19d3f3\",\"#FF6692\",\"#B6E880\",\"#FF97FF\",\"#FECB52\"],\"font\":{\"color\":\"#2a3f5f\"},\"hovermode\":\"closest\",\"hoverlabel\":{\"align\":\"left\"},\"paper_bgcolor\":\"white\",\"plot_bgcolor\":\"#E5ECF6\",\"polar\":{\"bgcolor\":\"#E5ECF6\",\"angularaxis\":{\"gridcolor\":\"white\",\"linecolor\":\"white\",\"ticks\":\"\"},\"radialaxis\":{\"gridcolor\":\"white\",\"linecolor\":\"white\",\"ticks\":\"\"}},\"ternary\":{\"bgcolor\":\"#E5ECF6\",\"aaxis\":{\"gridcolor\":\"white\",\"linecolor\":\"white\",\"ticks\":\"\"},\"baxis\":{\"gridcolor\":\"white\",\"linecolor\":\"white\",\"ticks\":\"\"},\"caxis\":{\"gridcolor\":\"white\",\"linecolor\":\"white\",\"ticks\":\"\"}},\"coloraxis\":{\"colorbar\":{\"outlinewidth\":0,\"ticks\":\"\"}},\"colorscale\":{\"sequential\":[[0.0,\"#0d0887\"],[0.1111111111111111,\"#46039f\"],[0.2222222222222222,\"#7201a8\"],[0.3333333333333333,\"#9c179e\"],[0.4444444444444444,\"#bd3786\"],[0.5555555555555556,\"#d8576b\"],[0.6666666666666666,\"#ed7953\"],[0.7777777777777778,\"#fb9f3a\"],[0.8888888888888888,\"#fdca26\"],[1.0,\"#f0f921\"]],\"sequentialminus\":[[0.0,\"#0d0887\"],[0.1111111111111111,\"#46039f\"],[0.2222222222222222,\"#7201a8\"],[0.3333333333333333,\"#9c179e\"],[0.4444444444444444,\"#bd3786\"],[0.5555555555555556,\"#d8576b\"],[0.6666666666666666,\"#ed7953\"],[0.7777777777777778,\"#fb9f3a\"],[0.8888888888888888,\"#fdca26\"],[1.0,\"#f0f921\"]],\"diverging\":[[0,\"#8e0152\"],[0.1,\"#c51b7d\"],[0.2,\"#de77ae\"],[0.3,\"#f1b6da\"],[0.4,\"#fde0ef\"],[0.5,\"#f7f7f7\"],[0.6,\"#e6f5d0\"],[0.7,\"#b8e186\"],[0.8,\"#7fbc41\"],[0.9,\"#4d9221\"],[1,\"#276419\"]]},\"xaxis\":{\"gridcolor\":\"white\",\"linecolor\":\"white\",\"ticks\":\"\",\"title\":{\"standoff\":15},\"zerolinecolor\":\"white\",\"automargin\":true,\"zerolinewidth\":2},\"yaxis\":{\"gridcolor\":\"white\",\"linecolor\":\"white\",\"ticks\":\"\",\"title\":{\"standoff\":15},\"zerolinecolor\":\"white\",\"automargin\":true,\"zerolinewidth\":2},\"scene\":{\"xaxis\":{\"backgroundcolor\":\"#E5ECF6\",\"gridcolor\":\"white\",\"linecolor\":\"white\",\"showbackground\":true,\"ticks\":\"\",\"zerolinecolor\":\"white\",\"gridwidth\":2},\"yaxis\":{\"backgroundcolor\":\"#E5ECF6\",\"gridcolor\":\"white\",\"linecolor\":\"white\",\"showbackground\":true,\"ticks\":\"\",\"zerolinecolor\":\"white\",\"gridwidth\":2},\"zaxis\":{\"backgroundcolor\":\"#E5ECF6\",\"gridcolor\":\"white\",\"linecolor\":\"white\",\"showbackground\":true,\"ticks\":\"\",\"zerolinecolor\":\"white\",\"gridwidth\":2}},\"shapedefaults\":{\"line\":{\"color\":\"#2a3f5f\"}},\"annotationdefaults\":{\"arrowcolor\":\"#2a3f5f\",\"arrowhead\":0,\"arrowwidth\":1},\"geo\":{\"bgcolor\":\"white\",\"landcolor\":\"#E5ECF6\",\"subunitcolor\":\"white\",\"showland\":true,\"showlakes\":true,\"lakecolor\":\"white\"},\"title\":{\"x\":0.05},\"mapbox\":{\"style\":\"light\"}}},\"xaxis\":{\"anchor\":\"y\",\"domain\":[0.0,1.0],\"title\":{\"text\":\"dataset\"}},\"yaxis\":{\"anchor\":\"x\",\"domain\":[0.0,1.0],\"title\":{\"text\":\"accuracy\"}},\"legend\":{\"title\":{\"text\":\"model\"},\"tracegroupgap\":0},\"margin\":{\"t\":60},\"barmode\":\"group\"},                        {\"responsive\": true}                    ).then(function(){\n",
       "                            \n",
       "var gd = document.getElementById('5dd5aae1-c032-4397-bc9b-852002f664e0');\n",
       "var x = new MutationObserver(function (mutations, observer) {{\n",
       "        var display = window.getComputedStyle(gd).display;\n",
       "        if (!display || display === 'none') {{\n",
       "            console.log([gd, 'removed!']);\n",
       "            Plotly.purge(gd);\n",
       "            observer.disconnect();\n",
       "        }}\n",
       "}});\n",
       "\n",
       "// Listen for the removal of the full notebook cells\n",
       "var notebookContainer = gd.closest('#notebook-container');\n",
       "if (notebookContainer) {{\n",
       "    x.observe(notebookContainer, {childList: true});\n",
       "}}\n",
       "\n",
       "// Listen for the clearing of the current output cell\n",
       "var outputEl = gd.closest('.output');\n",
       "if (outputEl) {{\n",
       "    x.observe(outputEl, {childList: true});\n",
       "}}\n",
       "\n",
       "                        })                };                });            </script>        </div>"
      ]
     },
     "metadata": {},
     "output_type": "display_data"
    }
   ],
   "source": [
    "import plotly.express as px\n",
    "\n",
    "px.bar(results, x='dataset', y='accuracy', color='model', barmode='group')"
   ]
  },
  {
   "cell_type": "code",
   "execution_count": 19,
   "id": "683ff338-c604-4c29-92e4-ae5c43b5a9da",
   "metadata": {
    "scrolled": true,
    "tags": []
   },
   "outputs": [
    {
     "data": {
      "text/html": [
       "<div>\n",
       "<style scoped>\n",
       "    .dataframe tbody tr th:only-of-type {\n",
       "        vertical-align: middle;\n",
       "    }\n",
       "\n",
       "    .dataframe tbody tr th {\n",
       "        vertical-align: top;\n",
       "    }\n",
       "\n",
       "    .dataframe thead th {\n",
       "        text-align: right;\n",
       "    }\n",
       "</style>\n",
       "<table border=\"1\" class=\"dataframe\">\n",
       "  <thead>\n",
       "    <tr style=\"text-align: right;\">\n",
       "      <th></th>\n",
       "      <th>dataset</th>\n",
       "      <th>model</th>\n",
       "      <th>score</th>\n",
       "      <th>value</th>\n",
       "    </tr>\n",
       "  </thead>\n",
       "  <tbody>\n",
       "    <tr>\n",
       "      <th>0</th>\n",
       "      <td>eval</td>\n",
       "      <td>ws_neutral</td>\n",
       "      <td>f1</td>\n",
       "      <td>0.884297</td>\n",
       "    </tr>\n",
       "    <tr>\n",
       "      <th>1</th>\n",
       "      <td>alatawi2021</td>\n",
       "      <td>ws_neutral</td>\n",
       "      <td>f1</td>\n",
       "      <td>0.695430</td>\n",
       "    </tr>\n",
       "    <tr>\n",
       "      <th>2</th>\n",
       "      <td>siegel2021</td>\n",
       "      <td>ws_neutral</td>\n",
       "      <td>f1</td>\n",
       "      <td>0.586538</td>\n",
       "    </tr>\n",
       "    <tr>\n",
       "      <th>3</th>\n",
       "      <td>siegel2021_white_nationalist_only</td>\n",
       "      <td>ws_neutral</td>\n",
       "      <td>f1</td>\n",
       "      <td>0.466942</td>\n",
       "    </tr>\n",
       "    <tr>\n",
       "      <th>4</th>\n",
       "      <td>rieger2021</td>\n",
       "      <td>ws_neutral</td>\n",
       "      <td>f1</td>\n",
       "      <td>0.185420</td>\n",
       "    </tr>\n",
       "    <tr>\n",
       "      <th>5</th>\n",
       "      <td>hatecheck_identity_nonhate</td>\n",
       "      <td>ws_neutral</td>\n",
       "      <td>f1</td>\n",
       "      <td>0.000000</td>\n",
       "    </tr>\n",
       "    <tr>\n",
       "      <th>6</th>\n",
       "      <td>adl_heatmap</td>\n",
       "      <td>ws_neutral</td>\n",
       "      <td>f1</td>\n",
       "      <td>0.974516</td>\n",
       "    </tr>\n",
       "    <tr>\n",
       "      <th>7</th>\n",
       "      <td>eval</td>\n",
       "      <td>ws_antiracist</td>\n",
       "      <td>f1</td>\n",
       "      <td>0.884380</td>\n",
       "    </tr>\n",
       "    <tr>\n",
       "      <th>8</th>\n",
       "      <td>alatawi2021</td>\n",
       "      <td>ws_antiracist</td>\n",
       "      <td>f1</td>\n",
       "      <td>0.679828</td>\n",
       "    </tr>\n",
       "    <tr>\n",
       "      <th>9</th>\n",
       "      <td>siegel2021</td>\n",
       "      <td>ws_antiracist</td>\n",
       "      <td>f1</td>\n",
       "      <td>0.538574</td>\n",
       "    </tr>\n",
       "    <tr>\n",
       "      <th>10</th>\n",
       "      <td>siegel2021_white_nationalist_only</td>\n",
       "      <td>ws_antiracist</td>\n",
       "      <td>f1</td>\n",
       "      <td>0.414414</td>\n",
       "    </tr>\n",
       "    <tr>\n",
       "      <th>11</th>\n",
       "      <td>rieger2021</td>\n",
       "      <td>ws_antiracist</td>\n",
       "      <td>f1</td>\n",
       "      <td>0.187680</td>\n",
       "    </tr>\n",
       "    <tr>\n",
       "      <th>12</th>\n",
       "      <td>adl_heatmap</td>\n",
       "      <td>ws_antiracist</td>\n",
       "      <td>f1</td>\n",
       "      <td>0.976081</td>\n",
       "    </tr>\n",
       "    <tr>\n",
       "      <th>13</th>\n",
       "      <td>hatecheck_identity_nonhate</td>\n",
       "      <td>ws_antiracist</td>\n",
       "      <td>f1</td>\n",
       "      <td>0.000000</td>\n",
       "    </tr>\n",
       "    <tr>\n",
       "      <th>14</th>\n",
       "      <td>eval</td>\n",
       "      <td>ws_neutral</td>\n",
       "      <td>precision</td>\n",
       "      <td>0.894348</td>\n",
       "    </tr>\n",
       "    <tr>\n",
       "      <th>15</th>\n",
       "      <td>alatawi2021</td>\n",
       "      <td>ws_neutral</td>\n",
       "      <td>precision</td>\n",
       "      <td>0.581651</td>\n",
       "    </tr>\n",
       "    <tr>\n",
       "      <th>16</th>\n",
       "      <td>siegel2021</td>\n",
       "      <td>ws_neutral</td>\n",
       "      <td>precision</td>\n",
       "      <td>0.419725</td>\n",
       "    </tr>\n",
       "    <tr>\n",
       "      <th>17</th>\n",
       "      <td>siegel2021_white_nationalist_only</td>\n",
       "      <td>ws_neutral</td>\n",
       "      <td>precision</td>\n",
       "      <td>0.307902</td>\n",
       "    </tr>\n",
       "    <tr>\n",
       "      <th>18</th>\n",
       "      <td>rieger2021</td>\n",
       "      <td>ws_neutral</td>\n",
       "      <td>precision</td>\n",
       "      <td>0.102692</td>\n",
       "    </tr>\n",
       "    <tr>\n",
       "      <th>19</th>\n",
       "      <td>hatecheck_identity_nonhate</td>\n",
       "      <td>ws_neutral</td>\n",
       "      <td>precision</td>\n",
       "      <td>0.000000</td>\n",
       "    </tr>\n",
       "    <tr>\n",
       "      <th>20</th>\n",
       "      <td>adl_heatmap</td>\n",
       "      <td>ws_neutral</td>\n",
       "      <td>precision</td>\n",
       "      <td>1.000000</td>\n",
       "    </tr>\n",
       "    <tr>\n",
       "      <th>21</th>\n",
       "      <td>eval</td>\n",
       "      <td>ws_antiracist</td>\n",
       "      <td>precision</td>\n",
       "      <td>0.894658</td>\n",
       "    </tr>\n",
       "    <tr>\n",
       "      <th>22</th>\n",
       "      <td>alatawi2021</td>\n",
       "      <td>ws_antiracist</td>\n",
       "      <td>precision</td>\n",
       "      <td>0.561684</td>\n",
       "    </tr>\n",
       "    <tr>\n",
       "      <th>23</th>\n",
       "      <td>siegel2021</td>\n",
       "      <td>ws_antiracist</td>\n",
       "      <td>precision</td>\n",
       "      <td>0.370741</td>\n",
       "    </tr>\n",
       "    <tr>\n",
       "      <th>24</th>\n",
       "      <td>siegel2021_white_nationalist_only</td>\n",
       "      <td>ws_antiracist</td>\n",
       "      <td>precision</td>\n",
       "      <td>0.262557</td>\n",
       "    </tr>\n",
       "    <tr>\n",
       "      <th>25</th>\n",
       "      <td>rieger2021</td>\n",
       "      <td>ws_antiracist</td>\n",
       "      <td>precision</td>\n",
       "      <td>0.103858</td>\n",
       "    </tr>\n",
       "    <tr>\n",
       "      <th>26</th>\n",
       "      <td>adl_heatmap</td>\n",
       "      <td>ws_antiracist</td>\n",
       "      <td>precision</td>\n",
       "      <td>1.000000</td>\n",
       "    </tr>\n",
       "    <tr>\n",
       "      <th>27</th>\n",
       "      <td>hatecheck_identity_nonhate</td>\n",
       "      <td>ws_antiracist</td>\n",
       "      <td>precision</td>\n",
       "      <td>0.000000</td>\n",
       "    </tr>\n",
       "    <tr>\n",
       "      <th>28</th>\n",
       "      <td>eval</td>\n",
       "      <td>ws_neutral</td>\n",
       "      <td>recall</td>\n",
       "      <td>0.874470</td>\n",
       "    </tr>\n",
       "    <tr>\n",
       "      <th>29</th>\n",
       "      <td>alatawi2021</td>\n",
       "      <td>ws_neutral</td>\n",
       "      <td>recall</td>\n",
       "      <td>0.864545</td>\n",
       "    </tr>\n",
       "    <tr>\n",
       "      <th>30</th>\n",
       "      <td>siegel2021</td>\n",
       "      <td>ws_neutral</td>\n",
       "      <td>recall</td>\n",
       "      <td>0.973404</td>\n",
       "    </tr>\n",
       "    <tr>\n",
       "      <th>31</th>\n",
       "      <td>siegel2021_white_nationalist_only</td>\n",
       "      <td>ws_neutral</td>\n",
       "      <td>recall</td>\n",
       "      <td>0.965812</td>\n",
       "    </tr>\n",
       "    <tr>\n",
       "      <th>32</th>\n",
       "      <td>rieger2021</td>\n",
       "      <td>ws_neutral</td>\n",
       "      <td>recall</td>\n",
       "      <td>0.953804</td>\n",
       "    </tr>\n",
       "    <tr>\n",
       "      <th>33</th>\n",
       "      <td>hatecheck_identity_nonhate</td>\n",
       "      <td>ws_neutral</td>\n",
       "      <td>recall</td>\n",
       "      <td>0.000000</td>\n",
       "    </tr>\n",
       "    <tr>\n",
       "      <th>34</th>\n",
       "      <td>adl_heatmap</td>\n",
       "      <td>ws_neutral</td>\n",
       "      <td>recall</td>\n",
       "      <td>0.950298</td>\n",
       "    </tr>\n",
       "    <tr>\n",
       "      <th>35</th>\n",
       "      <td>eval</td>\n",
       "      <td>ws_antiracist</td>\n",
       "      <td>recall</td>\n",
       "      <td>0.874336</td>\n",
       "    </tr>\n",
       "    <tr>\n",
       "      <th>36</th>\n",
       "      <td>alatawi2021</td>\n",
       "      <td>ws_antiracist</td>\n",
       "      <td>recall</td>\n",
       "      <td>0.860909</td>\n",
       "    </tr>\n",
       "    <tr>\n",
       "      <th>37</th>\n",
       "      <td>siegel2021</td>\n",
       "      <td>ws_antiracist</td>\n",
       "      <td>recall</td>\n",
       "      <td>0.984043</td>\n",
       "    </tr>\n",
       "    <tr>\n",
       "      <th>38</th>\n",
       "      <td>siegel2021_white_nationalist_only</td>\n",
       "      <td>ws_antiracist</td>\n",
       "      <td>recall</td>\n",
       "      <td>0.982906</td>\n",
       "    </tr>\n",
       "    <tr>\n",
       "      <th>39</th>\n",
       "      <td>rieger2021</td>\n",
       "      <td>ws_antiracist</td>\n",
       "      <td>recall</td>\n",
       "      <td>0.972826</td>\n",
       "    </tr>\n",
       "    <tr>\n",
       "      <th>40</th>\n",
       "      <td>adl_heatmap</td>\n",
       "      <td>ws_antiracist</td>\n",
       "      <td>recall</td>\n",
       "      <td>0.953280</td>\n",
       "    </tr>\n",
       "    <tr>\n",
       "      <th>41</th>\n",
       "      <td>hatecheck_identity_nonhate</td>\n",
       "      <td>ws_antiracist</td>\n",
       "      <td>recall</td>\n",
       "      <td>0.000000</td>\n",
       "    </tr>\n",
       "    <tr>\n",
       "      <th>42</th>\n",
       "      <td>eval</td>\n",
       "      <td>ws_neutral</td>\n",
       "      <td>accuracy</td>\n",
       "      <td>0.879584</td>\n",
       "    </tr>\n",
       "    <tr>\n",
       "      <th>43</th>\n",
       "      <td>alatawi2021</td>\n",
       "      <td>ws_neutral</td>\n",
       "      <td>accuracy</td>\n",
       "      <td>0.583292</td>\n",
       "    </tr>\n",
       "    <tr>\n",
       "      <th>44</th>\n",
       "      <td>siegel2021</td>\n",
       "      <td>ws_neutral</td>\n",
       "      <td>accuracy</td>\n",
       "      <td>0.588517</td>\n",
       "    </tr>\n",
       "    <tr>\n",
       "      <th>45</th>\n",
       "      <td>siegel2021_white_nationalist_only</td>\n",
       "      <td>ws_neutral</td>\n",
       "      <td>accuracy</td>\n",
       "      <td>0.535971</td>\n",
       "    </tr>\n",
       "    <tr>\n",
       "      <th>46</th>\n",
       "      <td>rieger2021</td>\n",
       "      <td>ws_neutral</td>\n",
       "      <td>accuracy</td>\n",
       "      <td>0.402557</td>\n",
       "    </tr>\n",
       "    <tr>\n",
       "      <th>47</th>\n",
       "      <td>hatecheck_identity_nonhate</td>\n",
       "      <td>ws_neutral</td>\n",
       "      <td>accuracy</td>\n",
       "      <td>0.438095</td>\n",
       "    </tr>\n",
       "    <tr>\n",
       "      <th>48</th>\n",
       "      <td>adl_heatmap</td>\n",
       "      <td>ws_neutral</td>\n",
       "      <td>accuracy</td>\n",
       "      <td>0.950298</td>\n",
       "    </tr>\n",
       "    <tr>\n",
       "      <th>49</th>\n",
       "      <td>eval</td>\n",
       "      <td>ws_antiracist</td>\n",
       "      <td>accuracy</td>\n",
       "      <td>0.878969</td>\n",
       "    </tr>\n",
       "    <tr>\n",
       "      <th>50</th>\n",
       "      <td>alatawi2021</td>\n",
       "      <td>ws_antiracist</td>\n",
       "      <td>accuracy</td>\n",
       "      <td>0.553777</td>\n",
       "    </tr>\n",
       "    <tr>\n",
       "      <th>51</th>\n",
       "      <td>siegel2021</td>\n",
       "      <td>ws_antiracist</td>\n",
       "      <td>accuracy</td>\n",
       "      <td>0.494418</td>\n",
       "    </tr>\n",
       "    <tr>\n",
       "      <th>52</th>\n",
       "      <td>siegel2021_white_nationalist_only</td>\n",
       "      <td>ws_antiracist</td>\n",
       "      <td>accuracy</td>\n",
       "      <td>0.415468</td>\n",
       "    </tr>\n",
       "    <tr>\n",
       "      <th>53</th>\n",
       "      <td>rieger2021</td>\n",
       "      <td>ws_antiracist</td>\n",
       "      <td>accuracy</td>\n",
       "      <td>0.399651</td>\n",
       "    </tr>\n",
       "    <tr>\n",
       "      <th>54</th>\n",
       "      <td>adl_heatmap</td>\n",
       "      <td>ws_antiracist</td>\n",
       "      <td>accuracy</td>\n",
       "      <td>0.953280</td>\n",
       "    </tr>\n",
       "    <tr>\n",
       "      <th>55</th>\n",
       "      <td>hatecheck_identity_nonhate</td>\n",
       "      <td>ws_antiracist</td>\n",
       "      <td>accuracy</td>\n",
       "      <td>0.473016</td>\n",
       "    </tr>\n",
       "  </tbody>\n",
       "</table>\n",
       "</div>"
      ],
      "text/plain": [
       "                              dataset          model      score     value\n",
       "0                                eval     ws_neutral         f1  0.884297\n",
       "1                         alatawi2021     ws_neutral         f1  0.695430\n",
       "2                          siegel2021     ws_neutral         f1  0.586538\n",
       "3   siegel2021_white_nationalist_only     ws_neutral         f1  0.466942\n",
       "4                          rieger2021     ws_neutral         f1  0.185420\n",
       "5          hatecheck_identity_nonhate     ws_neutral         f1  0.000000\n",
       "6                         adl_heatmap     ws_neutral         f1  0.974516\n",
       "7                                eval  ws_antiracist         f1  0.884380\n",
       "8                         alatawi2021  ws_antiracist         f1  0.679828\n",
       "9                          siegel2021  ws_antiracist         f1  0.538574\n",
       "10  siegel2021_white_nationalist_only  ws_antiracist         f1  0.414414\n",
       "11                         rieger2021  ws_antiracist         f1  0.187680\n",
       "12                        adl_heatmap  ws_antiracist         f1  0.976081\n",
       "13         hatecheck_identity_nonhate  ws_antiracist         f1  0.000000\n",
       "14                               eval     ws_neutral  precision  0.894348\n",
       "15                        alatawi2021     ws_neutral  precision  0.581651\n",
       "16                         siegel2021     ws_neutral  precision  0.419725\n",
       "17  siegel2021_white_nationalist_only     ws_neutral  precision  0.307902\n",
       "18                         rieger2021     ws_neutral  precision  0.102692\n",
       "19         hatecheck_identity_nonhate     ws_neutral  precision  0.000000\n",
       "20                        adl_heatmap     ws_neutral  precision  1.000000\n",
       "21                               eval  ws_antiracist  precision  0.894658\n",
       "22                        alatawi2021  ws_antiracist  precision  0.561684\n",
       "23                         siegel2021  ws_antiracist  precision  0.370741\n",
       "24  siegel2021_white_nationalist_only  ws_antiracist  precision  0.262557\n",
       "25                         rieger2021  ws_antiracist  precision  0.103858\n",
       "26                        adl_heatmap  ws_antiracist  precision  1.000000\n",
       "27         hatecheck_identity_nonhate  ws_antiracist  precision  0.000000\n",
       "28                               eval     ws_neutral     recall  0.874470\n",
       "29                        alatawi2021     ws_neutral     recall  0.864545\n",
       "30                         siegel2021     ws_neutral     recall  0.973404\n",
       "31  siegel2021_white_nationalist_only     ws_neutral     recall  0.965812\n",
       "32                         rieger2021     ws_neutral     recall  0.953804\n",
       "33         hatecheck_identity_nonhate     ws_neutral     recall  0.000000\n",
       "34                        adl_heatmap     ws_neutral     recall  0.950298\n",
       "35                               eval  ws_antiracist     recall  0.874336\n",
       "36                        alatawi2021  ws_antiracist     recall  0.860909\n",
       "37                         siegel2021  ws_antiracist     recall  0.984043\n",
       "38  siegel2021_white_nationalist_only  ws_antiracist     recall  0.982906\n",
       "39                         rieger2021  ws_antiracist     recall  0.972826\n",
       "40                        adl_heatmap  ws_antiracist     recall  0.953280\n",
       "41         hatecheck_identity_nonhate  ws_antiracist     recall  0.000000\n",
       "42                               eval     ws_neutral   accuracy  0.879584\n",
       "43                        alatawi2021     ws_neutral   accuracy  0.583292\n",
       "44                         siegel2021     ws_neutral   accuracy  0.588517\n",
       "45  siegel2021_white_nationalist_only     ws_neutral   accuracy  0.535971\n",
       "46                         rieger2021     ws_neutral   accuracy  0.402557\n",
       "47         hatecheck_identity_nonhate     ws_neutral   accuracy  0.438095\n",
       "48                        adl_heatmap     ws_neutral   accuracy  0.950298\n",
       "49                               eval  ws_antiracist   accuracy  0.878969\n",
       "50                        alatawi2021  ws_antiracist   accuracy  0.553777\n",
       "51                         siegel2021  ws_antiracist   accuracy  0.494418\n",
       "52  siegel2021_white_nationalist_only  ws_antiracist   accuracy  0.415468\n",
       "53                         rieger2021  ws_antiracist   accuracy  0.399651\n",
       "54                        adl_heatmap  ws_antiracist   accuracy  0.953280\n",
       "55         hatecheck_identity_nonhate  ws_antiracist   accuracy  0.473016"
      ]
     },
     "execution_count": 19,
     "metadata": {},
     "output_type": "execute_result"
    }
   ],
   "source": [
    "# Unnecessary\n",
    "results_long = pd.melt(results.drop_duplicates(), id_vars=['dataset', 'model'], value_vars=['f1', 'precision', 'recall', 'accuracy'], var_name='score', ignore_index=True)\n",
    "results_long"
   ]
  }
 ],
 "metadata": {
  "kernelspec": {
   "display_name": "Python 3 (ipykernel)",
   "language": "python",
   "name": "python3"
  },
  "language_info": {
   "codemirror_mode": {
    "name": "ipython",
    "version": 3
   },
   "file_extension": ".py",
   "mimetype": "text/x-python",
   "name": "python",
   "nbconvert_exporter": "python",
   "pygments_lexer": "ipython3",
   "version": "3.9.13"
  }
 },
 "nbformat": 4,
 "nbformat_minor": 5
}
