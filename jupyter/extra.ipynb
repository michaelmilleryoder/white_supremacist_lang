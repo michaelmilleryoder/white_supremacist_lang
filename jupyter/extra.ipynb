{
 "cells": [
  {
   "cell_type": "markdown",
   "id": "20197819-68f4-4fe6-88c9-bfce5fc16ca3",
   "metadata": {},
   "source": [
    "To run code cells while other notebooks are busy with other processing"
   ]
  },
  {
   "cell_type": "code",
   "execution_count": 9,
   "id": "c8252e5a-6946-465c-9e53-0cf1a14e667d",
   "metadata": {},
   "outputs": [
    {
     "name": "stdout",
     "output_type": "stream",
     "text": [
      "/storage2/mamille3/white_supremacist_lang/data/stormfront_archive/stormfront.org_201708/stormfront-00000.warc.gz\n"
     ]
    },
    {
     "name": "stderr",
     "output_type": "stream",
     "text": [
      "Content block length changed from 4318 to 4309\n",
      "Content block length changed from 13935 to 13934\n",
      "Content block length changed from 863 to 860\n",
      "Content block length changed from 1349001 to 1349000\n"
     ]
    },
    {
     "ename": "ValueError",
     "evalue": "Search for pattern exhausted",
     "output_type": "error",
     "traceback": [
      "\u001b[0;31m---------------------------------------------------------------------------\u001b[0m",
      "\u001b[0;31mValueError\u001b[0m                                Traceback (most recent call last)",
      "Input \u001b[0;32mIn [9]\u001b[0m, in \u001b[0;36m<cell line: 7>\u001b[0;34m()\u001b[0m\n\u001b[1;32m      8\u001b[0m     fpath \u001b[38;5;241m=\u001b[39m os\u001b[38;5;241m.\u001b[39mpath\u001b[38;5;241m.\u001b[39mjoin(dirpath, fname)\n\u001b[1;32m      9\u001b[0m     \u001b[38;5;28mprint\u001b[39m(fpath)\n\u001b[0;32m---> 10\u001b[0m     \u001b[43mwarc\u001b[49m\u001b[38;5;241;43m.\u001b[39;49m\u001b[43mload\u001b[49m\u001b[43m(\u001b[49m\u001b[43mfpath\u001b[49m\u001b[43m)\u001b[49m\n\u001b[1;32m     11\u001b[0m \u001b[38;5;28mlen\u001b[39m(warc\u001b[38;5;241m.\u001b[39mrecords)\n",
      "File \u001b[0;32m/mnt/cephfs/cluster/carley/carley02/mamille3/white_supremacist_lang/conda_env/lib/python3.10/site-packages/warcat/model/warc.py:32\u001b[0m, in \u001b[0;36mWARC.load\u001b[0;34m(self, filename)\u001b[0m\n\u001b[1;32m     26\u001b[0m \u001b[38;5;124;03m'''Open and load the contents of the given filename.\u001b[39;00m\n\u001b[1;32m     27\u001b[0m \n\u001b[1;32m     28\u001b[0m \u001b[38;5;124;03mThe records are located in :attr:`records`.\u001b[39;00m\n\u001b[1;32m     29\u001b[0m \u001b[38;5;124;03m'''\u001b[39;00m\n\u001b[1;32m     31\u001b[0m f \u001b[38;5;241m=\u001b[39m \u001b[38;5;28mself\u001b[39m\u001b[38;5;241m.\u001b[39mopen(filename)\n\u001b[0;32m---> 32\u001b[0m \u001b[38;5;28;43mself\u001b[39;49m\u001b[38;5;241;43m.\u001b[39;49m\u001b[43mread_file_object\u001b[49m\u001b[43m(\u001b[49m\u001b[43mf\u001b[49m\u001b[43m)\u001b[49m\n\u001b[1;32m     33\u001b[0m f\u001b[38;5;241m.\u001b[39mclose()\n",
      "File \u001b[0;32m/mnt/cephfs/cluster/carley/carley02/mamille3/white_supremacist_lang/conda_env/lib/python3.10/site-packages/warcat/model/warc.py:39\u001b[0m, in \u001b[0;36mWARC.read_file_object\u001b[0;34m(self, file_object)\u001b[0m\n\u001b[1;32m     36\u001b[0m \u001b[38;5;124;03m'''Read records until the file object is exhausted'''\u001b[39;00m\n\u001b[1;32m     38\u001b[0m \u001b[38;5;28;01mwhile\u001b[39;00m \u001b[38;5;28;01mTrue\u001b[39;00m:\n\u001b[0;32m---> 39\u001b[0m     record, has_more \u001b[38;5;241m=\u001b[39m \u001b[38;5;28;43mself\u001b[39;49m\u001b[38;5;241;43m.\u001b[39;49m\u001b[43mread_record\u001b[49m\u001b[43m(\u001b[49m\u001b[43mfile_object\u001b[49m\u001b[43m)\u001b[49m\n\u001b[1;32m     40\u001b[0m     \u001b[38;5;28mself\u001b[39m\u001b[38;5;241m.\u001b[39mrecords\u001b[38;5;241m.\u001b[39mappend(record)\n\u001b[1;32m     41\u001b[0m     \u001b[38;5;28;01mif\u001b[39;00m \u001b[38;5;129;01mnot\u001b[39;00m has_more:\n",
      "File \u001b[0;32m/mnt/cephfs/cluster/carley/carley02/mamille3/white_supremacist_lang/conda_env/lib/python3.10/site-packages/warcat/model/warc.py:74\u001b[0m, in \u001b[0;36mWARC.read_record\u001b[0;34m(cls, file_object, preserve_block, check_block_length)\u001b[0m\n\u001b[1;32m     62\u001b[0m \u001b[38;5;129m@classmethod\u001b[39m\n\u001b[1;32m     63\u001b[0m \u001b[38;5;28;01mdef\u001b[39;00m \u001b[38;5;21mread_record\u001b[39m(\u001b[38;5;28mcls\u001b[39m, file_object, preserve_block\u001b[38;5;241m=\u001b[39m\u001b[38;5;28;01mFalse\u001b[39;00m,\n\u001b[1;32m     64\u001b[0m check_block_length\u001b[38;5;241m=\u001b[39m\u001b[38;5;28;01mTrue\u001b[39;00m):\n\u001b[1;32m     65\u001b[0m     \u001b[38;5;124;03m'''Return a record and whether there are more records to read.\u001b[39;00m\n\u001b[1;32m     66\u001b[0m \n\u001b[1;32m     67\u001b[0m \u001b[38;5;124;03m    .. seealso:: :class:`Record`\u001b[39;00m\n\u001b[0;32m   (...)\u001b[0m\n\u001b[1;32m     71\u001b[0m \u001b[38;5;124;03m        be read.\u001b[39;00m\n\u001b[1;32m     72\u001b[0m \u001b[38;5;124;03m    '''\u001b[39;00m\n\u001b[0;32m---> 74\u001b[0m     record \u001b[38;5;241m=\u001b[39m \u001b[43mRecord\u001b[49m\u001b[38;5;241;43m.\u001b[39;49m\u001b[43mload\u001b[49m\u001b[43m(\u001b[49m\u001b[43mfile_object\u001b[49m\u001b[43m,\u001b[49m\u001b[43m \u001b[49m\u001b[43mpreserve_block\u001b[49m\u001b[38;5;241;43m=\u001b[39;49m\u001b[43mpreserve_block\u001b[49m\u001b[43m,\u001b[49m\n\u001b[1;32m     75\u001b[0m \u001b[43m        \u001b[49m\u001b[43mcheck_block_length\u001b[49m\u001b[38;5;241;43m=\u001b[39;49m\u001b[43mcheck_block_length\u001b[49m\u001b[43m)\u001b[49m\n\u001b[1;32m     76\u001b[0m     _logger\u001b[38;5;241m.\u001b[39mdebug(\u001b[38;5;124m'\u001b[39m\u001b[38;5;124mFinished reading a record \u001b[39m\u001b[38;5;132;01m%s\u001b[39;00m\u001b[38;5;124m'\u001b[39m, record\u001b[38;5;241m.\u001b[39mrecord_id)\n\u001b[1;32m     78\u001b[0m     data \u001b[38;5;241m=\u001b[39m file_object\u001b[38;5;241m.\u001b[39mread(\u001b[38;5;28mlen\u001b[39m(FIELD_DELIM_BYTES))\n",
      "File \u001b[0;32m/mnt/cephfs/cluster/carley/carley02/mamille3/white_supremacist_lang/conda_env/lib/python3.10/site-packages/warcat/model/record.py:58\u001b[0m, in \u001b[0;36mRecord.load\u001b[0;34m(cls, file_obj, preserve_block, check_block_length)\u001b[0m\n\u001b[1;32m     56\u001b[0m record \u001b[38;5;241m=\u001b[39m Record()\n\u001b[1;32m     57\u001b[0m record\u001b[38;5;241m.\u001b[39mfile_offset \u001b[38;5;241m=\u001b[39m file_obj\u001b[38;5;241m.\u001b[39mtell()\n\u001b[0;32m---> 58\u001b[0m header_length \u001b[38;5;241m=\u001b[39m \u001b[43mutil\u001b[49m\u001b[38;5;241;43m.\u001b[39;49m\u001b[43mfind_file_pattern\u001b[49m\u001b[43m(\u001b[49m\u001b[43mfile_obj\u001b[49m\u001b[43m,\u001b[49m\u001b[43m \u001b[49m\u001b[43mFIELD_DELIM_BYTES\u001b[49m\u001b[43m,\u001b[49m\n\u001b[1;32m     59\u001b[0m \u001b[43m    \u001b[49m\u001b[43minclusive\u001b[49m\u001b[38;5;241;43m=\u001b[39;49m\u001b[38;5;28;43;01mTrue\u001b[39;49;00m\u001b[43m)\u001b[49m\n\u001b[1;32m     60\u001b[0m record\u001b[38;5;241m.\u001b[39mheader \u001b[38;5;241m=\u001b[39m Header\u001b[38;5;241m.\u001b[39mparse(file_obj\u001b[38;5;241m.\u001b[39mread(header_length))\n\u001b[1;32m     61\u001b[0m block_length \u001b[38;5;241m=\u001b[39m record\u001b[38;5;241m.\u001b[39mcontent_length\n",
      "File \u001b[0;32m/mnt/cephfs/cluster/carley/carley02/mamille3/white_supremacist_lang/conda_env/lib/python3.10/site-packages/warcat/util.py:66\u001b[0m, in \u001b[0;36mfind_file_pattern\u001b[0;34m(file_obj, pattern, bufsize, limit, inclusive)\u001b[0m\n\u001b[1;32m     62\u001b[0m     bytes_read \u001b[38;5;241m+\u001b[39m\u001b[38;5;241m=\u001b[39m \u001b[38;5;28mlen\u001b[39m(data)\n\u001b[1;32m     64\u001b[0m file_obj\u001b[38;5;241m.\u001b[39mseek(original_position)\n\u001b[0;32m---> 66\u001b[0m \u001b[38;5;28;01mraise\u001b[39;00m \u001b[38;5;167;01mValueError\u001b[39;00m(\u001b[38;5;124m'\u001b[39m\u001b[38;5;124mSearch for pattern exhausted\u001b[39m\u001b[38;5;124m'\u001b[39m)\n",
      "\u001b[0;31mValueError\u001b[0m: Search for pattern exhausted"
     ]
    }
   ],
   "source": [
    "import os\n",
    "import warcat.model\n",
    "\n",
    "warc = warcat.model.WARC()\n",
    "dirpath = '/storage2/mamille3/white_supremacist_lang/data/stormfront_archive/stormfront.org_201708'\n",
    "fnames = sorted([fname for fname in os.listdir(dirpath) if 'warc.gz' in fname])\n",
    "for fname in fnames[:1]:\n",
    "    fpath = os.path.join(dirpath, fname)\n",
    "    print(fpath)\n",
    "    warc.load(fpath)\n",
    "len(warc.records)"
   ]
  }
 ],
 "metadata": {
  "kernelspec": {
   "display_name": "Python 3 (ipykernel)",
   "language": "python",
   "name": "python3"
  },
  "language_info": {
   "codemirror_mode": {
    "name": "ipython",
    "version": 3
   },
   "file_extension": ".py",
   "mimetype": "text/x-python",
   "name": "python",
   "nbconvert_exporter": "python",
   "pygments_lexer": "ipython3",
   "version": "3.10.4"
  }
 },
 "nbformat": 4,
 "nbformat_minor": 5
}
