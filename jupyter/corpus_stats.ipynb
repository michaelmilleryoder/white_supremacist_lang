{
 "cells": [
  {
   "cell_type": "markdown",
   "id": "f3e4363a-cd61-4856-91f1-fb6b494d8270",
   "metadata": {
    "tags": []
   },
   "source": [
    "# Check processed corpus"
   ]
  },
  {
   "cell_type": "markdown",
   "id": "3007f65c-118f-47f5-99de-9efe0890270a",
   "metadata": {},
   "source": [
    "## Random sample to check quality"
   ]
  },
  {
   "cell_type": "code",
   "execution_count": 20,
   "id": "05375a31-9661-401f-a416-9072840ef9a4",
   "metadata": {},
   "outputs": [
    {
     "name": "stdout",
     "output_type": "stream",
     "text": [
      "<class 'pandas.core.frame.DataFrame'>\n",
      "Index: 106103 entries, calderon2021_daily_stormer_1002 to stormfront_99941\n",
      "Data columns (total 7 columns):\n",
      " #   Column      Non-Null Count   Dtype              \n",
      "---  ------      --------------   -----              \n",
      " 0   text        106103 non-null  object             \n",
      " 1   word_count  106103 non-null  int64              \n",
      " 2   dataset     106103 non-null  object             \n",
      " 3   source      106103 non-null  object             \n",
      " 4   domain      106103 non-null  object             \n",
      " 5   timestamp   106092 non-null  datetime64[ns, UTC]\n",
      " 6   topic       106103 non-null  int64              \n",
      "dtypes: datetime64[ns, UTC](1), int64(2), object(4)\n",
      "memory usage: 6.5+ MB\n"
     ]
    }
   ],
   "source": [
    "# Load white supremacist training corpus\n",
    "import pandas as pd\n",
    "\n",
    "path = '../tmp/white_supremacist_train_corpus.pkl'\n",
    "ws_data = pd.read_pickle(path)\n",
    "ws_data.info()"
   ]
  },
  {
   "cell_type": "code",
   "execution_count": 22,
   "id": "12fe309d-daa1-42d9-b241-b4e1d6a08d64",
   "metadata": {},
   "outputs": [
    {
     "data": {
      "text/html": [
       "<div>\n",
       "<style scoped>\n",
       "    .dataframe tbody tr th:only-of-type {\n",
       "        vertical-align: middle;\n",
       "    }\n",
       "\n",
       "    .dataframe tbody tr th {\n",
       "        vertical-align: top;\n",
       "    }\n",
       "\n",
       "    .dataframe thead th {\n",
       "        text-align: right;\n",
       "    }\n",
       "</style>\n",
       "<table border=\"1\" class=\"dataframe\">\n",
       "  <thead>\n",
       "    <tr style=\"text-align: right;\">\n",
       "      <th></th>\n",
       "      <th>text</th>\n",
       "      <th>word_count</th>\n",
       "      <th>dataset</th>\n",
       "      <th>source</th>\n",
       "      <th>domain</th>\n",
       "      <th>timestamp</th>\n",
       "      <th>topic</th>\n",
       "    </tr>\n",
       "    <tr>\n",
       "      <th>id</th>\n",
       "      <th></th>\n",
       "      <th></th>\n",
       "      <th></th>\n",
       "      <th></th>\n",
       "      <th></th>\n",
       "      <th></th>\n",
       "      <th></th>\n",
       "    </tr>\n",
       "  </thead>\n",
       "  <tbody>\n",
       "    <tr>\n",
       "      <th>papasavva2020_2227871</th>\n",
       "      <td>none of those are british , the other ones listed are even worse since they 're owned by nonwhites , desu</td>\n",
       "      <td>22</td>\n",
       "      <td>papasavva2020</td>\n",
       "      <td>4chan</td>\n",
       "      <td>forum</td>\n",
       "      <td>2018-09-21 13:47:13+00:00</td>\n",
       "      <td>28</td>\n",
       "    </tr>\n",
       "    <tr>\n",
       "      <th>papasavva2020_782229</th>\n",
       "      <td>\" black / brown / x color \" cultures also do n't exist if you 're going to play that game . instead you have mexican , bolivian , cuban , nicaraguan , etc .</td>\n",
       "      <td>36</td>\n",
       "      <td>papasavva2020</td>\n",
       "      <td>4chan</td>\n",
       "      <td>forum</td>\n",
       "      <td>2017-09-03 23:26:04+00:00</td>\n",
       "      <td>28</td>\n",
       "    </tr>\n",
       "    <tr>\n",
       "      <th>papasavva2020_1926103</th>\n",
       "      <td>mixing with asian women should barely even be considered race mixing though . they 're substitute white women now that actual white women are all shit</td>\n",
       "      <td>27</td>\n",
       "      <td>papasavva2020</td>\n",
       "      <td>4chan</td>\n",
       "      <td>forum</td>\n",
       "      <td>2018-05-29 20:03:54+00:00</td>\n",
       "      <td>28</td>\n",
       "    </tr>\n",
       "    <tr>\n",
       "      <th>papasavva2020_969654</th>\n",
       "      <td>we have a collective case of suicidal altruism one must ask oneself . if blackmen held all the cards , would they be empathetic to white men ? would they give us affirmative action or white economic empowerment ? would they build roads and schools and hospitals for us ? would the chinese ? would ( insert any other race )</td>\n",
       "      <td>62</td>\n",
       "      <td>papasavva2020</td>\n",
       "      <td>4chan</td>\n",
       "      <td>forum</td>\n",
       "      <td>2017-10-03 09:49:15+00:00</td>\n",
       "      <td>28</td>\n",
       "    </tr>\n",
       "    <tr>\n",
       "      <th>papasavva2020_1101929</th>\n",
       "      <td>face it , white boys are going extinct . black men are superior , even your fascist heroes thought so .</td>\n",
       "      <td>22</td>\n",
       "      <td>papasavva2020</td>\n",
       "      <td>4chan</td>\n",
       "      <td>forum</td>\n",
       "      <td>2017-10-27 19:07:52+00:00</td>\n",
       "      <td>28</td>\n",
       "    </tr>\n",
       "    <tr>\n",
       "      <th>stormfront_589947</th>\n",
       "      <td>i admire putin greatly . i saw a recording of one of his speeches , a kind of state of the union address , and he talked about reversing the declining birthrate and improving the quality of life for the russian people . it was strange seeing such a serious , statesman like presentation after so many years of disgusting pandering by american politicians to nonwhites and other parasites . putin was so impressive . i feel greater confiendence knowing that people like him exist , even if they 're leading other countries .</td>\n",
       "      <td>94</td>\n",
       "      <td>stormfront</td>\n",
       "      <td>stormfront</td>\n",
       "      <td>forum</td>\n",
       "      <td>2009-02-13 18:31:00+00:00</td>\n",
       "      <td>28</td>\n",
       "    </tr>\n",
       "    <tr>\n",
       "      <th>papasavva2020_326555</th>\n",
       "      <td>anybody who can pass a fitness test should be allowed in . except for niggers and jews because they 're underrepresented on the front lines</td>\n",
       "      <td>26</td>\n",
       "      <td>papasavva2020</td>\n",
       "      <td>4chan</td>\n",
       "      <td>forum</td>\n",
       "      <td>2017-07-10 01:27:42+00:00</td>\n",
       "      <td>28</td>\n",
       "    </tr>\n",
       "    <tr>\n",
       "      <th>stormfront_638704</th>\n",
       "      <td>\" monkey \" is a humiliatingly stupid racial slur . we might tolerate its occasional use in posts , but not in thread titles .</td>\n",
       "      <td>25</td>\n",
       "      <td>stormfront</td>\n",
       "      <td>stormfront</td>\n",
       "      <td>forum</td>\n",
       "      <td>2005-09-11 07:43:00+00:00</td>\n",
       "      <td>28</td>\n",
       "    </tr>\n",
       "    <tr>\n",
       "      <th>papasavva2020_657592</th>\n",
       "      <td>bättre är kämpens ädla armod , än drakens dolska ro på guldet ; bättre är hånad död för det goda , än namnfrejd vunnen i självisk ävlan till ariskt blod , det renaste och äldsta , till svensk jag vigdes av en vänlig norna -- better is the warriors noble misery , than the dragons leery peace upon the gold ; better is ridiculed death for what 's right , than fame won in selfish strive to aryan blood , the purest and noblest , to swede i was hallowed , by a gracious norn</td>\n",
       "      <td>95</td>\n",
       "      <td>papasavva2020</td>\n",
       "      <td>4chan</td>\n",
       "      <td>forum</td>\n",
       "      <td>2017-08-17 15:51:10+00:00</td>\n",
       "      <td>13</td>\n",
       "    </tr>\n",
       "    <tr>\n",
       "      <th>stormfront_116407</th>\n",
       "      <td>i 've been calling myself a unapologetic ws since coming to sf and attempting to make my fellow wns realize it is a natural state of being for whites to have that mentality . i just never got the positive response that mk got , however . takes a woman i reckon ! \\n\\n before anyone says she 's better looking than me , you ai n't see me in my boxer shorts yet ! \\n\\n white supremacism yesterday , today , tomorrow , and forever - forget about separation which is a tried and failed concept ! \\n\\n k</td>\n",
       "      <td>100</td>\n",
       "      <td>stormfront</td>\n",
       "      <td>stormfront</td>\n",
       "      <td>forum</td>\n",
       "      <td>2006-04-24 22:30:00+00:00</td>\n",
       "      <td>28</td>\n",
       "    </tr>\n",
       "    <tr>\n",
       "      <th>jokubausaite2020_392464</th>\n",
       "      <td>holohoax videos ⅓ of the holocuast :   david cole in auschwitz :   holocaust survivors who tell the truth :</td>\n",
       "      <td>21</td>\n",
       "      <td>jokubausaite2020</td>\n",
       "      <td>4chan</td>\n",
       "      <td>forum</td>\n",
       "      <td>2015-10-15 19:56:11+00:00</td>\n",
       "      <td>13</td>\n",
       "    </tr>\n",
       "    <tr>\n",
       "      <th>papasavva2020_985091</th>\n",
       "      <td>hey he actually gets it . we need a white ethnostate .</td>\n",
       "      <td>13</td>\n",
       "      <td>papasavva2020</td>\n",
       "      <td>4chan</td>\n",
       "      <td>forum</td>\n",
       "      <td>2017-10-06 00:49:21+00:00</td>\n",
       "      <td>28</td>\n",
       "    </tr>\n",
       "    <tr>\n",
       "      <th>papasavva2020_1189899</th>\n",
       "      <td>starcraft is white . overwatch ( ( ( next generation ) ) ) is totally and absolutely enriched .</td>\n",
       "      <td>19</td>\n",
       "      <td>papasavva2020</td>\n",
       "      <td>4chan</td>\n",
       "      <td>forum</td>\n",
       "      <td>2017-11-13 21:00:12+00:00</td>\n",
       "      <td>28</td>\n",
       "    </tr>\n",
       "    <tr>\n",
       "      <th>papasavva2020_426985</th>\n",
       "      <td>censuring yourself on 4chan of all places you are a fucking leaf . here , have a ( you )</td>\n",
       "      <td>21</td>\n",
       "      <td>papasavva2020</td>\n",
       "      <td>4chan</td>\n",
       "      <td>forum</td>\n",
       "      <td>2017-07-21 23:25:46+00:00</td>\n",
       "      <td>28</td>\n",
       "    </tr>\n",
       "    <tr>\n",
       "      <th>papasavva2020_111651</th>\n",
       "      <td>how can i forget this speech by former zionist jew benjamin h. freedman in 1961 exposing the jews and their roles in starting wars :   0mskqtre also this ultra red - pill documentary :   hbt5h - ba the beginning shows how the crypto - jews overthrew the sultan of the ottoman empire from within , how they orchestrated the armenian genocide , and triggered ww1 .</td>\n",
       "      <td>68</td>\n",
       "      <td>papasavva2020</td>\n",
       "      <td>4chan</td>\n",
       "      <td>forum</td>\n",
       "      <td>2017-06-20 01:58:13+00:00</td>\n",
       "      <td>13</td>\n",
       "    </tr>\n",
       "    <tr>\n",
       "      <th>papasavva2020_606381</th>\n",
       "      <td>you can not call yourself a white supremacist or nazi if you do own one of this .</td>\n",
       "      <td>19</td>\n",
       "      <td>papasavva2020</td>\n",
       "      <td>4chan</td>\n",
       "      <td>forum</td>\n",
       "      <td>2017-08-13 01:35:44+00:00</td>\n",
       "      <td>28</td>\n",
       "    </tr>\n",
       "    <tr>\n",
       "      <th>papasavva2020_2876452</th>\n",
       "      <td>does white flight still happen today or do white people not mind diversity anymore ?</td>\n",
       "      <td>15</td>\n",
       "      <td>papasavva2020</td>\n",
       "      <td>4chan</td>\n",
       "      <td>forum</td>\n",
       "      <td>2019-09-15 19:04:38+00:00</td>\n",
       "      <td>28</td>\n",
       "    </tr>\n",
       "    <tr>\n",
       "      <th>papasavva2020_1733583</th>\n",
       "      <td>team peep must be stoped , their control over the media and finance is sickening .</td>\n",
       "      <td>17</td>\n",
       "      <td>papasavva2020</td>\n",
       "      <td>4chan</td>\n",
       "      <td>forum</td>\n",
       "      <td>2018-04-01 19:43:07+00:00</td>\n",
       "      <td>13</td>\n",
       "    </tr>\n",
       "    <tr>\n",
       "      <th>papasavva2020_268739</th>\n",
       "      <td>somalians in maine and minnesotta ? the jews are really sneaky in their choices</td>\n",
       "      <td>14</td>\n",
       "      <td>papasavva2020</td>\n",
       "      <td>4chan</td>\n",
       "      <td>forum</td>\n",
       "      <td>2017-07-04 07:35:19+00:00</td>\n",
       "      <td>13</td>\n",
       "    </tr>\n",
       "    <tr>\n",
       "      <th>papasavva2020_2966635</th>\n",
       "      <td>racist country funded by white guys run everything over black people exploited indians that 's a lie ? ? ? ? ? ? ? ? ?</td>\n",
       "      <td>27</td>\n",
       "      <td>papasavva2020</td>\n",
       "      <td>4chan</td>\n",
       "      <td>forum</td>\n",
       "      <td>2019-06-25 00:45:08+00:00</td>\n",
       "      <td>28</td>\n",
       "    </tr>\n",
       "  </tbody>\n",
       "</table>\n",
       "</div>"
      ],
      "text/plain": [
       "                                                                                                                                                                                                                                                                                                                                                                                                                                                                                                                                                                text  \\\n",
       "id                                                                                                                                                                                                                                                                                                                                                                                                                                                                                                                                                                     \n",
       "papasavva2020_2227871                                                                                                                                                                                                                                                                                                                                                                                                                                      none of those are british , the other ones listed are even worse since they 're owned by nonwhites , desu   \n",
       "papasavva2020_782229                                                                                                                                                                                                                                                                                                                                                                                    \" black / brown / x color \" cultures also do n't exist if you 're going to play that game . instead you have mexican , bolivian , cuban , nicaraguan , etc .   \n",
       "papasavva2020_1926103                                                                                                                                                                                                                                                                                                                                                                                         mixing with asian women should barely even be considered race mixing though . they 're substitute white women now that actual white women are all shit   \n",
       "papasavva2020_969654                                                                                                                                                                                                              we have a collective case of suicidal altruism one must ask oneself . if blackmen held all the cards , would they be empathetic to white men ? would they give us affirmative action or white economic empowerment ? would they build roads and schools and hospitals for us ? would the chinese ? would ( insert any other race )   \n",
       "papasavva2020_1101929                                                                                                                                                                                                                                                                                                                                                                                                                                        face it , white boys are going extinct . black men are superior , even your fascist heroes thought so .   \n",
       "stormfront_589947        i admire putin greatly . i saw a recording of one of his speeches , a kind of state of the union address , and he talked about reversing the declining birthrate and improving the quality of life for the russian people . it was strange seeing such a serious , statesman like presentation after so many years of disgusting pandering by american politicians to nonwhites and other parasites . putin was so impressive . i feel greater confiendence knowing that people like him exist , even if they 're leading other countries .   \n",
       "papasavva2020_326555                                                                                                                                                                                                                                                                                                                                                                                                     anybody who can pass a fitness test should be allowed in . except for niggers and jews because they 're underrepresented on the front lines   \n",
       "stormfront_638704                                                                                                                                                                                                                                                                                                                                                                                                                      \" monkey \" is a humiliatingly stupid racial slur . we might tolerate its occasional use in posts , but not in thread titles .   \n",
       "papasavva2020_657592                                                        bättre är kämpens ädla armod , än drakens dolska ro på guldet ; bättre är hånad död för det goda , än namnfrejd vunnen i självisk ävlan till ariskt blod , det renaste och äldsta , till svensk jag vigdes av en vänlig norna -- better is the warriors noble misery , than the dragons leery peace upon the gold ; better is ridiculed death for what 's right , than fame won in selfish strive to aryan blood , the purest and noblest , to swede i was hallowed , by a gracious norn   \n",
       "stormfront_116407                                 i 've been calling myself a unapologetic ws since coming to sf and attempting to make my fellow wns realize it is a natural state of being for whites to have that mentality . i just never got the positive response that mk got , however . takes a woman i reckon ! \\n\\n before anyone says she 's better looking than me , you ai n't see me in my boxer shorts yet ! \\n\\n white supremacism yesterday , today , tomorrow , and forever - forget about separation which is a tried and failed concept ! \\n\\n k   \n",
       "jokubausaite2020_392464                                                                                                                                                                                                                                                                                                                                                                                                                                  holohoax videos ⅓ of the holocuast :   david cole in auschwitz :   holocaust survivors who tell the truth :   \n",
       "papasavva2020_985091                                                                                                                                                                                                                                                                                                                                                                                                                                                                                          hey he actually gets it . we need a white ethnostate .   \n",
       "papasavva2020_1189899                                                                                                                                                                                                                                                                                                                                                                                                                                                starcraft is white . overwatch ( ( ( next generation ) ) ) is totally and absolutely enriched .   \n",
       "papasavva2020_426985                                                                                                                                                                                                                                                                                                                                                                                                                                                        censuring yourself on 4chan of all places you are a fucking leaf . here , have a ( you )   \n",
       "papasavva2020_111651                                                                                                                                                                      how can i forget this speech by former zionist jew benjamin h. freedman in 1961 exposing the jews and their roles in starting wars :   0mskqtre also this ultra red - pill documentary :   hbt5h - ba the beginning shows how the crypto - jews overthrew the sultan of the ottoman empire from within , how they orchestrated the armenian genocide , and triggered ww1 .   \n",
       "papasavva2020_606381                                                                                                                                                                                                                                                                                                                                                                                                                                                               you can not call yourself a white supremacist or nazi if you do own one of this .   \n",
       "papasavva2020_2876452                                                                                                                                                                                                                                                                                                                                                                                                                                                           does white flight still happen today or do white people not mind diversity anymore ?   \n",
       "papasavva2020_1733583                                                                                                                                                                                                                                                                                                                                                                                                                                                             team peep must be stoped , their control over the media and finance is sickening .   \n",
       "papasavva2020_268739                                                                                                                                                                                                                                                                                                                                                                                                                                                                 somalians in maine and minnesotta ? the jews are really sneaky in their choices   \n",
       "papasavva2020_2966635                                                                                                                                                                                                                                                                                                                                                                                                                         racist country funded by white guys run everything over black people exploited indians that 's a lie ? ? ? ? ? ? ? ? ?   \n",
       "\n",
       "                         word_count           dataset      source domain  \\\n",
       "id                                                                         \n",
       "papasavva2020_2227871            22     papasavva2020       4chan  forum   \n",
       "papasavva2020_782229             36     papasavva2020       4chan  forum   \n",
       "papasavva2020_1926103            27     papasavva2020       4chan  forum   \n",
       "papasavva2020_969654             62     papasavva2020       4chan  forum   \n",
       "papasavva2020_1101929            22     papasavva2020       4chan  forum   \n",
       "stormfront_589947                94        stormfront  stormfront  forum   \n",
       "papasavva2020_326555             26     papasavva2020       4chan  forum   \n",
       "stormfront_638704                25        stormfront  stormfront  forum   \n",
       "papasavva2020_657592             95     papasavva2020       4chan  forum   \n",
       "stormfront_116407               100        stormfront  stormfront  forum   \n",
       "jokubausaite2020_392464          21  jokubausaite2020       4chan  forum   \n",
       "papasavva2020_985091             13     papasavva2020       4chan  forum   \n",
       "papasavva2020_1189899            19     papasavva2020       4chan  forum   \n",
       "papasavva2020_426985             21     papasavva2020       4chan  forum   \n",
       "papasavva2020_111651             68     papasavva2020       4chan  forum   \n",
       "papasavva2020_606381             19     papasavva2020       4chan  forum   \n",
       "papasavva2020_2876452            15     papasavva2020       4chan  forum   \n",
       "papasavva2020_1733583            17     papasavva2020       4chan  forum   \n",
       "papasavva2020_268739             14     papasavva2020       4chan  forum   \n",
       "papasavva2020_2966635            27     papasavva2020       4chan  forum   \n",
       "\n",
       "                                        timestamp  topic  \n",
       "id                                                        \n",
       "papasavva2020_2227871   2018-09-21 13:47:13+00:00     28  \n",
       "papasavva2020_782229    2017-09-03 23:26:04+00:00     28  \n",
       "papasavva2020_1926103   2018-05-29 20:03:54+00:00     28  \n",
       "papasavva2020_969654    2017-10-03 09:49:15+00:00     28  \n",
       "papasavva2020_1101929   2017-10-27 19:07:52+00:00     28  \n",
       "stormfront_589947       2009-02-13 18:31:00+00:00     28  \n",
       "papasavva2020_326555    2017-07-10 01:27:42+00:00     28  \n",
       "stormfront_638704       2005-09-11 07:43:00+00:00     28  \n",
       "papasavva2020_657592    2017-08-17 15:51:10+00:00     13  \n",
       "stormfront_116407       2006-04-24 22:30:00+00:00     28  \n",
       "jokubausaite2020_392464 2015-10-15 19:56:11+00:00     13  \n",
       "papasavva2020_985091    2017-10-06 00:49:21+00:00     28  \n",
       "papasavva2020_1189899   2017-11-13 21:00:12+00:00     28  \n",
       "papasavva2020_426985    2017-07-21 23:25:46+00:00     28  \n",
       "papasavva2020_111651    2017-06-20 01:58:13+00:00     13  \n",
       "papasavva2020_606381    2017-08-13 01:35:44+00:00     28  \n",
       "papasavva2020_2876452   2019-09-15 19:04:38+00:00     28  \n",
       "papasavva2020_1733583   2018-04-01 19:43:07+00:00     13  \n",
       "papasavva2020_268739    2017-07-04 07:35:19+00:00     13  \n",
       "papasavva2020_2966635   2019-06-25 00:45:08+00:00     28  "
      ]
     },
     "execution_count": 22,
     "metadata": {},
     "output_type": "execute_result"
    }
   ],
   "source": [
    "pd.set_option('display.max_colwidth', None)\n",
    "ws_data.sample(20)"
   ]
  },
  {
   "cell_type": "markdown",
   "id": "7b977a24-4851-4e67-888b-a4d250f6f9ce",
   "metadata": {},
   "source": [
    "## Check for the presence of Calderon2021 American Renaissance posts"
   ]
  },
  {
   "cell_type": "code",
   "execution_count": 18,
   "id": "e11a9ef0-c3fc-47a9-9179-0f261b229461",
   "metadata": {},
   "outputs": [
    {
     "name": "stdout",
     "output_type": "stream",
     "text": [
      "<class 'pandas.core.frame.DataFrame'>\n",
      "Index: 3387954 entries, qian2018_0 to pruden2022_camus_the_great_replacement_book_161\n",
      "Data columns (total 7 columns):\n",
      " #   Column      Dtype              \n",
      "---  ------      -----              \n",
      " 0   text        object             \n",
      " 1   word_count  int64              \n",
      " 2   dataset     object             \n",
      " 3   source      object             \n",
      " 4   domain      object             \n",
      " 5   timestamp   datetime64[ns, UTC]\n",
      " 6   num_words   int64              \n",
      "dtypes: datetime64[ns, UTC](1), int64(2), object(4)\n",
      "memory usage: 206.8+ MB\n"
     ]
    }
   ],
   "source": [
    "# Load white supremacist corpus\n",
    "import pandas as pd\n",
    "\n",
    "path = '../tmp/white_supremacist_fulltext_train_corpus.pkl'\n",
    "ws_data = pd.read_pickle(path)\n",
    "ws_data.info()"
   ]
  },
  {
   "cell_type": "code",
   "execution_count": 19,
   "id": "f01faa42-34d2-4a10-92e3-53cf7e25a675",
   "metadata": {},
   "outputs": [
    {
     "data": {
      "text/plain": [
       "array(['twitter', 'discord', 'ironmarch', 'stormfront', '4chan',\n",
       "       'daily_stormer', 'breivik_manifesto',\n",
       "       'powell_rivers_of_blood_speech', 'raspail_camp_of_the_saints_book',\n",
       "       'lane_white_genocide_manifesto',\n",
       "       'camus_the_great_replacement_book'], dtype=object)"
      ]
     },
     "execution_count": 19,
     "metadata": {},
     "output_type": "execute_result"
    }
   ],
   "source": [
    "ws_data.source.unique()"
   ]
  },
  {
   "cell_type": "code",
   "execution_count": 17,
   "id": "ac8f774b-0e30-4841-91e8-1a0386bb2da4",
   "metadata": {},
   "outputs": [
    {
     "data": {
      "text/html": [
       "<div>\n",
       "<style scoped>\n",
       "    .dataframe tbody tr th:only-of-type {\n",
       "        vertical-align: middle;\n",
       "    }\n",
       "\n",
       "    .dataframe tbody tr th {\n",
       "        vertical-align: top;\n",
       "    }\n",
       "\n",
       "    .dataframe thead th {\n",
       "        text-align: right;\n",
       "    }\n",
       "</style>\n",
       "<table border=\"1\" class=\"dataframe\">\n",
       "  <thead>\n",
       "    <tr style=\"text-align: right;\">\n",
       "      <th></th>\n",
       "      <th>text</th>\n",
       "      <th>word_count</th>\n",
       "      <th>dataset</th>\n",
       "      <th>source</th>\n",
       "      <th>domain</th>\n",
       "      <th>timestamp</th>\n",
       "      <th>num_words</th>\n",
       "    </tr>\n",
       "    <tr>\n",
       "      <th>id</th>\n",
       "      <th></th>\n",
       "      <th></th>\n",
       "      <th></th>\n",
       "      <th></th>\n",
       "      <th></th>\n",
       "      <th></th>\n",
       "      <th></th>\n",
       "    </tr>\n",
       "  </thead>\n",
       "  <tbody>\n",
       "    <tr>\n",
       "      <th>calderon2021_daily_stormer_0</th>\n",
       "      <td>kansas city : blacks kill another white cop it...</td>\n",
       "      <td>15</td>\n",
       "      <td>calderon2021</td>\n",
       "      <td>daily_stormer</td>\n",
       "      <td>long-form</td>\n",
       "      <td>2016-07-20 00:00:00+00:00</td>\n",
       "      <td>15</td>\n",
       "    </tr>\n",
       "    <tr>\n",
       "      <th>calderon2021_daily_stormer_1</th>\n",
       "      <td>blacks murdering and raping more old women why...</td>\n",
       "      <td>13</td>\n",
       "      <td>calderon2021</td>\n",
       "      <td>daily_stormer</td>\n",
       "      <td>long-form</td>\n",
       "      <td>2016-08-10 00:00:00+00:00</td>\n",
       "      <td>13</td>\n",
       "    </tr>\n",
       "    <tr>\n",
       "      <th>calderon2021_daily_stormer_2</th>\n",
       "      <td>cuban government releases jew convicted of inc...</td>\n",
       "      <td>274</td>\n",
       "      <td>calderon2021</td>\n",
       "      <td>daily_stormer</td>\n",
       "      <td>long-form</td>\n",
       "      <td>2014-12-18 00:00:00+00:00</td>\n",
       "      <td>274</td>\n",
       "    </tr>\n",
       "    <tr>\n",
       "      <th>calderon2021_daily_stormer_3</th>\n",
       "      <td>mestizo subhumans on the white house facebook ...</td>\n",
       "      <td>125</td>\n",
       "      <td>calderon2021</td>\n",
       "      <td>daily_stormer</td>\n",
       "      <td>long-form</td>\n",
       "      <td>2014-11-21 00:00:00+00:00</td>\n",
       "      <td>125</td>\n",
       "    </tr>\n",
       "    <tr>\n",
       "      <th>calderon2021_daily_stormer_4</th>\n",
       "      <td>ny food stamp recipients are shipping welfare-...</td>\n",
       "      <td>187</td>\n",
       "      <td>calderon2021</td>\n",
       "      <td>daily_stormer</td>\n",
       "      <td>long-form</td>\n",
       "      <td>2013-07-21 00:00:00+00:00</td>\n",
       "      <td>187</td>\n",
       "    </tr>\n",
       "    <tr>\n",
       "      <th>...</th>\n",
       "      <td>...</td>\n",
       "      <td>...</td>\n",
       "      <td>...</td>\n",
       "      <td>...</td>\n",
       "      <td>...</td>\n",
       "      <td>...</td>\n",
       "      <td>...</td>\n",
       "    </tr>\n",
       "    <tr>\n",
       "      <th>calderon2021_daily_stormer_26007</th>\n",
       "      <td>crazy negroid shoves bag of poop down white wo...</td>\n",
       "      <td>20</td>\n",
       "      <td>calderon2021</td>\n",
       "      <td>daily_stormer</td>\n",
       "      <td>long-form</td>\n",
       "      <td>2016-06-30 00:00:00+00:00</td>\n",
       "      <td>20</td>\n",
       "    </tr>\n",
       "    <tr>\n",
       "      <th>calderon2021_daily_stormer_26008</th>\n",
       "      <td>lol : newest batch of nypd cadets are 80 % non...</td>\n",
       "      <td>107</td>\n",
       "      <td>calderon2021</td>\n",
       "      <td>daily_stormer</td>\n",
       "      <td>long-form</td>\n",
       "      <td>2016-06-21 00:00:00+00:00</td>\n",
       "      <td>107</td>\n",
       "    </tr>\n",
       "    <tr>\n",
       "      <th>calderon2021_daily_stormer_26009</th>\n",
       "      <td>new ukip leader calls for all syrian babies to...</td>\n",
       "      <td>136</td>\n",
       "      <td>calderon2021</td>\n",
       "      <td>daily_stormer</td>\n",
       "      <td>long-form</td>\n",
       "      <td>2016-11-30 00:00:00+00:00</td>\n",
       "      <td>136</td>\n",
       "    </tr>\n",
       "    <tr>\n",
       "      <th>calderon2021_daily_stormer_26011</th>\n",
       "      <td>people with blue eyes more prone to alcoholism...</td>\n",
       "      <td>61</td>\n",
       "      <td>calderon2021</td>\n",
       "      <td>daily_stormer</td>\n",
       "      <td>long-form</td>\n",
       "      <td>2015-07-05 00:00:00+00:00</td>\n",
       "      <td>61</td>\n",
       "    </tr>\n",
       "    <tr>\n",
       "      <th>calderon2021_daily_stormer_26012</th>\n",
       "      <td>the endless saga : “ refugees ” and fraud a vi...</td>\n",
       "      <td>617</td>\n",
       "      <td>calderon2021</td>\n",
       "      <td>daily_stormer</td>\n",
       "      <td>long-form</td>\n",
       "      <td>2015-09-15 00:00:00+00:00</td>\n",
       "      <td>617</td>\n",
       "    </tr>\n",
       "  </tbody>\n",
       "</table>\n",
       "<p>25446 rows × 7 columns</p>\n",
       "</div>"
      ],
      "text/plain": [
       "                                                                               text  \\\n",
       "id                                                                                    \n",
       "calderon2021_daily_stormer_0      kansas city : blacks kill another white cop it...   \n",
       "calderon2021_daily_stormer_1      blacks murdering and raping more old women why...   \n",
       "calderon2021_daily_stormer_2      cuban government releases jew convicted of inc...   \n",
       "calderon2021_daily_stormer_3      mestizo subhumans on the white house facebook ...   \n",
       "calderon2021_daily_stormer_4      ny food stamp recipients are shipping welfare-...   \n",
       "...                                                                             ...   \n",
       "calderon2021_daily_stormer_26007  crazy negroid shoves bag of poop down white wo...   \n",
       "calderon2021_daily_stormer_26008  lol : newest batch of nypd cadets are 80 % non...   \n",
       "calderon2021_daily_stormer_26009  new ukip leader calls for all syrian babies to...   \n",
       "calderon2021_daily_stormer_26011  people with blue eyes more prone to alcoholism...   \n",
       "calderon2021_daily_stormer_26012  the endless saga : “ refugees ” and fraud a vi...   \n",
       "\n",
       "                                  word_count       dataset         source  \\\n",
       "id                                                                          \n",
       "calderon2021_daily_stormer_0              15  calderon2021  daily_stormer   \n",
       "calderon2021_daily_stormer_1              13  calderon2021  daily_stormer   \n",
       "calderon2021_daily_stormer_2             274  calderon2021  daily_stormer   \n",
       "calderon2021_daily_stormer_3             125  calderon2021  daily_stormer   \n",
       "calderon2021_daily_stormer_4             187  calderon2021  daily_stormer   \n",
       "...                                      ...           ...            ...   \n",
       "calderon2021_daily_stormer_26007          20  calderon2021  daily_stormer   \n",
       "calderon2021_daily_stormer_26008         107  calderon2021  daily_stormer   \n",
       "calderon2021_daily_stormer_26009         136  calderon2021  daily_stormer   \n",
       "calderon2021_daily_stormer_26011          61  calderon2021  daily_stormer   \n",
       "calderon2021_daily_stormer_26012         617  calderon2021  daily_stormer   \n",
       "\n",
       "                                     domain                 timestamp  \\\n",
       "id                                                                      \n",
       "calderon2021_daily_stormer_0      long-form 2016-07-20 00:00:00+00:00   \n",
       "calderon2021_daily_stormer_1      long-form 2016-08-10 00:00:00+00:00   \n",
       "calderon2021_daily_stormer_2      long-form 2014-12-18 00:00:00+00:00   \n",
       "calderon2021_daily_stormer_3      long-form 2014-11-21 00:00:00+00:00   \n",
       "calderon2021_daily_stormer_4      long-form 2013-07-21 00:00:00+00:00   \n",
       "...                                     ...                       ...   \n",
       "calderon2021_daily_stormer_26007  long-form 2016-06-30 00:00:00+00:00   \n",
       "calderon2021_daily_stormer_26008  long-form 2016-06-21 00:00:00+00:00   \n",
       "calderon2021_daily_stormer_26009  long-form 2016-11-30 00:00:00+00:00   \n",
       "calderon2021_daily_stormer_26011  long-form 2015-07-05 00:00:00+00:00   \n",
       "calderon2021_daily_stormer_26012  long-form 2015-09-15 00:00:00+00:00   \n",
       "\n",
       "                                  num_words  \n",
       "id                                           \n",
       "calderon2021_daily_stormer_0             15  \n",
       "calderon2021_daily_stormer_1             13  \n",
       "calderon2021_daily_stormer_2            274  \n",
       "calderon2021_daily_stormer_3            125  \n",
       "calderon2021_daily_stormer_4            187  \n",
       "...                                     ...  \n",
       "calderon2021_daily_stormer_26007         20  \n",
       "calderon2021_daily_stormer_26008        107  \n",
       "calderon2021_daily_stormer_26009        136  \n",
       "calderon2021_daily_stormer_26011         61  \n",
       "calderon2021_daily_stormer_26012        617  \n",
       "\n",
       "[25446 rows x 7 columns]"
      ]
     },
     "execution_count": 17,
     "metadata": {},
     "output_type": "execute_result"
    }
   ],
   "source": [
    "ws_data[ws_data.index.str.startswith('calderon')]"
   ]
  },
  {
   "cell_type": "markdown",
   "id": "5238f4f7-5ef6-4f61-b63c-bf97d956cc49",
   "metadata": {},
   "source": [
    "## Check for duplicates"
   ]
  },
  {
   "cell_type": "code",
   "execution_count": 1,
   "id": "3a66648b-7088-4e66-9c6c-6c3fec5a3a7b",
   "metadata": {},
   "outputs": [
    {
     "name": "stdout",
     "output_type": "stream",
     "text": [
      "<class 'pandas.core.frame.DataFrame'>\n",
      "Index: 3264772 entries, qian2018_0 to pruden2022_161\n",
      "Data columns (total 7 columns):\n",
      " #   Column      Dtype              \n",
      "---  ------      -----              \n",
      " 0   text        object             \n",
      " 1   word_count  int64              \n",
      " 2   dataset     object             \n",
      " 3   source      object             \n",
      " 4   domain      object             \n",
      " 5   timestamp   datetime64[ns, UTC]\n",
      " 6   num_words   int64              \n",
      "dtypes: datetime64[ns, UTC](1), int64(2), object(4)\n",
      "memory usage: 199.3+ MB\n"
     ]
    }
   ],
   "source": [
    "# Load white supremacist corpus\n",
    "import pandas as pd\n",
    "\n",
    "# path = '../tmp/white_supremacist_train_corpus.pkl'\n",
    "path = '../tmp/white_supremacist_fulltext_train_corpus.pkl'\n",
    "ws_data = pd.read_pickle(path)\n",
    "ws_data.info()"
   ]
  },
  {
   "cell_type": "code",
   "execution_count": 16,
   "id": "87804af4-d7a7-49b0-b48f-68ba5eab81e2",
   "metadata": {},
   "outputs": [
    {
     "name": "stdout",
     "output_type": "stream",
     "text": [
      "0\n",
      "0\n"
     ]
    }
   ],
   "source": [
    "print(ws_data.text.duplicated(keep='first').sum())\n",
    "print(ws_data.index.duplicated(keep='first').sum())"
   ]
  },
  {
   "cell_type": "code",
   "execution_count": 8,
   "id": "20bae8f9-1318-4791-9a56-87fec572c155",
   "metadata": {},
   "outputs": [
    {
     "data": {
      "text/html": [
       "<div>\n",
       "<style scoped>\n",
       "    .dataframe tbody tr th:only-of-type {\n",
       "        vertical-align: middle;\n",
       "    }\n",
       "\n",
       "    .dataframe tbody tr th {\n",
       "        vertical-align: top;\n",
       "    }\n",
       "\n",
       "    .dataframe thead th {\n",
       "        text-align: right;\n",
       "    }\n",
       "</style>\n",
       "<table border=\"1\" class=\"dataframe\">\n",
       "  <thead>\n",
       "    <tr style=\"text-align: right;\">\n",
       "      <th></th>\n",
       "      <th>text</th>\n",
       "      <th>word_count</th>\n",
       "      <th>dataset</th>\n",
       "      <th>source</th>\n",
       "      <th>domain</th>\n",
       "      <th>timestamp</th>\n",
       "      <th>num_words</th>\n",
       "    </tr>\n",
       "    <tr>\n",
       "      <th>id</th>\n",
       "      <th></th>\n",
       "      <th></th>\n",
       "      <th></th>\n",
       "      <th></th>\n",
       "      <th></th>\n",
       "      <th></th>\n",
       "      <th></th>\n",
       "    </tr>\n",
       "  </thead>\n",
       "  <tbody>\n",
       "    <tr>\n",
       "      <th>patriotfront_10001</th>\n",
       "      <td>im going to tie dye all of your khakis if you ...</td>\n",
       "      <td>14</td>\n",
       "      <td>patriotfront</td>\n",
       "      <td>discord</td>\n",
       "      <td>chat</td>\n",
       "      <td>2017-06-30 06:08:31.627000+00:00</td>\n",
       "      <td>14</td>\n",
       "    </tr>\n",
       "    <tr>\n",
       "      <th>patriotfront_10001</th>\n",
       "      <td>i would be kicking over fruitstands left and r...</td>\n",
       "      <td>21</td>\n",
       "      <td>patriotfront</td>\n",
       "      <td>discord</td>\n",
       "      <td>chat</td>\n",
       "      <td>2017-11-21 02:24:11.025000+00:00</td>\n",
       "      <td>21</td>\n",
       "    </tr>\n",
       "    <tr>\n",
       "      <th>patriotfront_10036</th>\n",
       "      <td>they were definitely cooler and more aesthetic...</td>\n",
       "      <td>14</td>\n",
       "      <td>patriotfront</td>\n",
       "      <td>discord</td>\n",
       "      <td>chat</td>\n",
       "      <td>2017-05-29 03:44:14.556000+00:00</td>\n",
       "      <td>14</td>\n",
       "    </tr>\n",
       "    <tr>\n",
       "      <th>patriotfront_10036</th>\n",
       "      <td>we were actually planning one today . scoped o...</td>\n",
       "      <td>13</td>\n",
       "      <td>patriotfront</td>\n",
       "      <td>discord</td>\n",
       "      <td>chat</td>\n",
       "      <td>2018-02-11 03:37:25.631000+00:00</td>\n",
       "      <td>13</td>\n",
       "    </tr>\n",
       "    <tr>\n",
       "      <th>patriotfront_10046</th>\n",
       "      <td>they gave me an antibiotic gel . i was good to...</td>\n",
       "      <td>32</td>\n",
       "      <td>patriotfront</td>\n",
       "      <td>discord</td>\n",
       "      <td>chat</td>\n",
       "      <td>2017-06-22 02:55:25.800000+00:00</td>\n",
       "      <td>32</td>\n",
       "    </tr>\n",
       "    <tr>\n",
       "      <th>...</th>\n",
       "      <td>...</td>\n",
       "      <td>...</td>\n",
       "      <td>...</td>\n",
       "      <td>...</td>\n",
       "      <td>...</td>\n",
       "      <td>...</td>\n",
       "      <td>...</td>\n",
       "    </tr>\n",
       "    <tr>\n",
       "      <th>pruden2022_993</th>\n",
       "      <td>-though it would have been perfectly clear , h...</td>\n",
       "      <td>404</td>\n",
       "      <td>pruden2022</td>\n",
       "      <td>raspail_camp_of_the_saints_book</td>\n",
       "      <td>long-form</td>\n",
       "      <td>1973-01-01 00:00:00+00:00</td>\n",
       "      <td>404</td>\n",
       "    </tr>\n",
       "    <tr>\n",
       "      <th>pruden2022_996</th>\n",
       "      <td>the prophet cut off the hands and feet of the ...</td>\n",
       "      <td>28</td>\n",
       "      <td>pruden2022</td>\n",
       "      <td>breivik_manifesto</td>\n",
       "      <td>long-form</td>\n",
       "      <td>2011-01-01 00:00:00+00:00</td>\n",
       "      <td>28</td>\n",
       "    </tr>\n",
       "    <tr>\n",
       "      <th>pruden2022_996</th>\n",
       "      <td>very different , indeed , was the way in which...</td>\n",
       "      <td>371</td>\n",
       "      <td>pruden2022</td>\n",
       "      <td>raspail_camp_of_the_saints_book</td>\n",
       "      <td>long-form</td>\n",
       "      <td>1973-01-01 00:00:00+00:00</td>\n",
       "      <td>371</td>\n",
       "    </tr>\n",
       "    <tr>\n",
       "      <th>pruden2022_998</th>\n",
       "      <td>as for his pals , they disappeared too , absor...</td>\n",
       "      <td>634</td>\n",
       "      <td>pruden2022</td>\n",
       "      <td>raspail_camp_of_the_saints_book</td>\n",
       "      <td>long-form</td>\n",
       "      <td>1973-01-01 00:00:00+00:00</td>\n",
       "      <td>634</td>\n",
       "    </tr>\n",
       "    <tr>\n",
       "      <th>pruden2022_998</th>\n",
       "      <td>in islamõs thinking , the assurance of your sa...</td>\n",
       "      <td>45</td>\n",
       "      <td>pruden2022</td>\n",
       "      <td>breivik_manifesto</td>\n",
       "      <td>long-form</td>\n",
       "      <td>2011-01-01 00:00:00+00:00</td>\n",
       "      <td>45</td>\n",
       "    </tr>\n",
       "  </tbody>\n",
       "</table>\n",
       "<p>7005 rows × 7 columns</p>\n",
       "</div>"
      ],
      "text/plain": [
       "                                                                 text  \\\n",
       "id                                                                      \n",
       "patriotfront_10001  im going to tie dye all of your khakis if you ...   \n",
       "patriotfront_10001  i would be kicking over fruitstands left and r...   \n",
       "patriotfront_10036  they were definitely cooler and more aesthetic...   \n",
       "patriotfront_10036  we were actually planning one today . scoped o...   \n",
       "patriotfront_10046  they gave me an antibiotic gel . i was good to...   \n",
       "...                                                               ...   \n",
       "pruden2022_993      -though it would have been perfectly clear , h...   \n",
       "pruden2022_996      the prophet cut off the hands and feet of the ...   \n",
       "pruden2022_996      very different , indeed , was the way in which...   \n",
       "pruden2022_998      as for his pals , they disappeared too , absor...   \n",
       "pruden2022_998      in islamõs thinking , the assurance of your sa...   \n",
       "\n",
       "                    word_count       dataset                           source  \\\n",
       "id                                                                              \n",
       "patriotfront_10001          14  patriotfront                          discord   \n",
       "patriotfront_10001          21  patriotfront                          discord   \n",
       "patriotfront_10036          14  patriotfront                          discord   \n",
       "patriotfront_10036          13  patriotfront                          discord   \n",
       "patriotfront_10046          32  patriotfront                          discord   \n",
       "...                        ...           ...                              ...   \n",
       "pruden2022_993             404    pruden2022  raspail_camp_of_the_saints_book   \n",
       "pruden2022_996              28    pruden2022                breivik_manifesto   \n",
       "pruden2022_996             371    pruden2022  raspail_camp_of_the_saints_book   \n",
       "pruden2022_998             634    pruden2022  raspail_camp_of_the_saints_book   \n",
       "pruden2022_998              45    pruden2022                breivik_manifesto   \n",
       "\n",
       "                       domain                        timestamp  num_words  \n",
       "id                                                                         \n",
       "patriotfront_10001       chat 2017-06-30 06:08:31.627000+00:00         14  \n",
       "patriotfront_10001       chat 2017-11-21 02:24:11.025000+00:00         21  \n",
       "patriotfront_10036       chat 2017-05-29 03:44:14.556000+00:00         14  \n",
       "patriotfront_10036       chat 2018-02-11 03:37:25.631000+00:00         13  \n",
       "patriotfront_10046       chat 2017-06-22 02:55:25.800000+00:00         32  \n",
       "...                       ...                              ...        ...  \n",
       "pruden2022_993      long-form        1973-01-01 00:00:00+00:00        404  \n",
       "pruden2022_996      long-form        2011-01-01 00:00:00+00:00         28  \n",
       "pruden2022_996      long-form        1973-01-01 00:00:00+00:00        371  \n",
       "pruden2022_998      long-form        1973-01-01 00:00:00+00:00        634  \n",
       "pruden2022_998      long-form        2011-01-01 00:00:00+00:00         45  \n",
       "\n",
       "[7005 rows x 7 columns]"
      ]
     },
     "execution_count": 8,
     "metadata": {},
     "output_type": "execute_result"
    }
   ],
   "source": [
    "dups = ws_data[ws_data.index.duplicated(keep=False)].sort_index()\n",
    "dups"
   ]
  },
  {
   "cell_type": "code",
   "execution_count": 9,
   "id": "779b0768-4849-4856-ab68-694e27f822a2",
   "metadata": {},
   "outputs": [
    {
     "data": {
      "text/plain": [
       "patriotfront    5072\n",
       "pruden2022      1933\n",
       "Name: dataset, dtype: int64"
      ]
     },
     "execution_count": 9,
     "metadata": {},
     "output_type": "execute_result"
    }
   ],
   "source": [
    "dups.dataset.value_counts()"
   ]
  },
  {
   "cell_type": "code",
   "execution_count": 11,
   "id": "e4c5ceae-136b-4f0c-bf51-13a172675e1f",
   "metadata": {},
   "outputs": [
    {
     "data": {
      "text/html": [
       "<div>\n",
       "<style scoped>\n",
       "    .dataframe tbody tr th:only-of-type {\n",
       "        vertical-align: middle;\n",
       "    }\n",
       "\n",
       "    .dataframe tbody tr th {\n",
       "        vertical-align: top;\n",
       "    }\n",
       "\n",
       "    .dataframe thead th {\n",
       "        text-align: right;\n",
       "    }\n",
       "</style>\n",
       "<table border=\"1\" class=\"dataframe\">\n",
       "  <thead>\n",
       "    <tr style=\"text-align: right;\">\n",
       "      <th></th>\n",
       "      <th>text</th>\n",
       "      <th>word_count</th>\n",
       "      <th>dataset</th>\n",
       "      <th>source</th>\n",
       "      <th>domain</th>\n",
       "      <th>timestamp</th>\n",
       "      <th>num_words</th>\n",
       "    </tr>\n",
       "    <tr>\n",
       "      <th>id</th>\n",
       "      <th></th>\n",
       "      <th></th>\n",
       "      <th></th>\n",
       "      <th></th>\n",
       "      <th></th>\n",
       "      <th></th>\n",
       "      <th></th>\n",
       "    </tr>\n",
       "  </thead>\n",
       "  <tbody>\n",
       "    <tr>\n",
       "      <th>calderon2021_0</th>\n",
       "      <td>kansas city : blacks kill another white cop it...</td>\n",
       "      <td>15</td>\n",
       "      <td>calderon2021</td>\n",
       "      <td>daily_stormer</td>\n",
       "      <td>long-form</td>\n",
       "      <td>2016-07-20 00:00:00+00:00</td>\n",
       "      <td>15</td>\n",
       "    </tr>\n",
       "    <tr>\n",
       "      <th>calderon2021_1</th>\n",
       "      <td>blacks murdering and raping more old women why...</td>\n",
       "      <td>13</td>\n",
       "      <td>calderon2021</td>\n",
       "      <td>daily_stormer</td>\n",
       "      <td>long-form</td>\n",
       "      <td>2016-08-10 00:00:00+00:00</td>\n",
       "      <td>13</td>\n",
       "    </tr>\n",
       "    <tr>\n",
       "      <th>calderon2021_2</th>\n",
       "      <td>cuban government releases jew convicted of inc...</td>\n",
       "      <td>274</td>\n",
       "      <td>calderon2021</td>\n",
       "      <td>daily_stormer</td>\n",
       "      <td>long-form</td>\n",
       "      <td>2014-12-18 00:00:00+00:00</td>\n",
       "      <td>274</td>\n",
       "    </tr>\n",
       "    <tr>\n",
       "      <th>calderon2021_3</th>\n",
       "      <td>mestizo subhumans on the white house facebook ...</td>\n",
       "      <td>125</td>\n",
       "      <td>calderon2021</td>\n",
       "      <td>daily_stormer</td>\n",
       "      <td>long-form</td>\n",
       "      <td>2014-11-21 00:00:00+00:00</td>\n",
       "      <td>125</td>\n",
       "    </tr>\n",
       "    <tr>\n",
       "      <th>calderon2021_4</th>\n",
       "      <td>ny food stamp recipients are shipping welfare-...</td>\n",
       "      <td>187</td>\n",
       "      <td>calderon2021</td>\n",
       "      <td>daily_stormer</td>\n",
       "      <td>long-form</td>\n",
       "      <td>2013-07-21 00:00:00+00:00</td>\n",
       "      <td>187</td>\n",
       "    </tr>\n",
       "    <tr>\n",
       "      <th>...</th>\n",
       "      <td>...</td>\n",
       "      <td>...</td>\n",
       "      <td>...</td>\n",
       "      <td>...</td>\n",
       "      <td>...</td>\n",
       "      <td>...</td>\n",
       "      <td>...</td>\n",
       "    </tr>\n",
       "    <tr>\n",
       "      <th>calderon2021_26007</th>\n",
       "      <td>crazy negroid shoves bag of poop down white wo...</td>\n",
       "      <td>20</td>\n",
       "      <td>calderon2021</td>\n",
       "      <td>daily_stormer</td>\n",
       "      <td>long-form</td>\n",
       "      <td>2016-06-30 00:00:00+00:00</td>\n",
       "      <td>20</td>\n",
       "    </tr>\n",
       "    <tr>\n",
       "      <th>calderon2021_26008</th>\n",
       "      <td>lol : newest batch of nypd cadets are 80 % non...</td>\n",
       "      <td>107</td>\n",
       "      <td>calderon2021</td>\n",
       "      <td>daily_stormer</td>\n",
       "      <td>long-form</td>\n",
       "      <td>2016-06-21 00:00:00+00:00</td>\n",
       "      <td>107</td>\n",
       "    </tr>\n",
       "    <tr>\n",
       "      <th>calderon2021_26009</th>\n",
       "      <td>new ukip leader calls for all syrian babies to...</td>\n",
       "      <td>136</td>\n",
       "      <td>calderon2021</td>\n",
       "      <td>daily_stormer</td>\n",
       "      <td>long-form</td>\n",
       "      <td>2016-11-30 00:00:00+00:00</td>\n",
       "      <td>136</td>\n",
       "    </tr>\n",
       "    <tr>\n",
       "      <th>calderon2021_26011</th>\n",
       "      <td>people with blue eyes more prone to alcoholism...</td>\n",
       "      <td>61</td>\n",
       "      <td>calderon2021</td>\n",
       "      <td>daily_stormer</td>\n",
       "      <td>long-form</td>\n",
       "      <td>2015-07-05 00:00:00+00:00</td>\n",
       "      <td>61</td>\n",
       "    </tr>\n",
       "    <tr>\n",
       "      <th>calderon2021_26012</th>\n",
       "      <td>the endless saga : “ refugees ” and fraud a vi...</td>\n",
       "      <td>617</td>\n",
       "      <td>calderon2021</td>\n",
       "      <td>daily_stormer</td>\n",
       "      <td>long-form</td>\n",
       "      <td>2015-09-15 00:00:00+00:00</td>\n",
       "      <td>617</td>\n",
       "    </tr>\n",
       "  </tbody>\n",
       "</table>\n",
       "<p>25446 rows × 7 columns</p>\n",
       "</div>"
      ],
      "text/plain": [
       "                                                                 text  \\\n",
       "id                                                                      \n",
       "calderon2021_0      kansas city : blacks kill another white cop it...   \n",
       "calderon2021_1      blacks murdering and raping more old women why...   \n",
       "calderon2021_2      cuban government releases jew convicted of inc...   \n",
       "calderon2021_3      mestizo subhumans on the white house facebook ...   \n",
       "calderon2021_4      ny food stamp recipients are shipping welfare-...   \n",
       "...                                                               ...   \n",
       "calderon2021_26007  crazy negroid shoves bag of poop down white wo...   \n",
       "calderon2021_26008  lol : newest batch of nypd cadets are 80 % non...   \n",
       "calderon2021_26009  new ukip leader calls for all syrian babies to...   \n",
       "calderon2021_26011  people with blue eyes more prone to alcoholism...   \n",
       "calderon2021_26012  the endless saga : “ refugees ” and fraud a vi...   \n",
       "\n",
       "                    word_count       dataset         source     domain  \\\n",
       "id                                                                       \n",
       "calderon2021_0              15  calderon2021  daily_stormer  long-form   \n",
       "calderon2021_1              13  calderon2021  daily_stormer  long-form   \n",
       "calderon2021_2             274  calderon2021  daily_stormer  long-form   \n",
       "calderon2021_3             125  calderon2021  daily_stormer  long-form   \n",
       "calderon2021_4             187  calderon2021  daily_stormer  long-form   \n",
       "...                        ...           ...            ...        ...   \n",
       "calderon2021_26007          20  calderon2021  daily_stormer  long-form   \n",
       "calderon2021_26008         107  calderon2021  daily_stormer  long-form   \n",
       "calderon2021_26009         136  calderon2021  daily_stormer  long-form   \n",
       "calderon2021_26011          61  calderon2021  daily_stormer  long-form   \n",
       "calderon2021_26012         617  calderon2021  daily_stormer  long-form   \n",
       "\n",
       "                                   timestamp  num_words  \n",
       "id                                                       \n",
       "calderon2021_0     2016-07-20 00:00:00+00:00         15  \n",
       "calderon2021_1     2016-08-10 00:00:00+00:00         13  \n",
       "calderon2021_2     2014-12-18 00:00:00+00:00        274  \n",
       "calderon2021_3     2014-11-21 00:00:00+00:00        125  \n",
       "calderon2021_4     2013-07-21 00:00:00+00:00        187  \n",
       "...                                      ...        ...  \n",
       "calderon2021_26007 2016-06-30 00:00:00+00:00         20  \n",
       "calderon2021_26008 2016-06-21 00:00:00+00:00        107  \n",
       "calderon2021_26009 2016-11-30 00:00:00+00:00        136  \n",
       "calderon2021_26011 2015-07-05 00:00:00+00:00         61  \n",
       "calderon2021_26012 2015-09-15 00:00:00+00:00        617  \n",
       "\n",
       "[25446 rows x 7 columns]"
      ]
     },
     "execution_count": 11,
     "metadata": {},
     "output_type": "execute_result"
    }
   ],
   "source": [
    "ws_data[ws_data.index.str.startswith('calderon')]"
   ]
  },
  {
   "cell_type": "code",
   "execution_count": 12,
   "id": "063064e0-b3f9-4c97-8c26-ca68f2a24320",
   "metadata": {},
   "outputs": [
    {
     "data": {
      "text/html": [
       "<div>\n",
       "<style scoped>\n",
       "    .dataframe tbody tr th:only-of-type {\n",
       "        vertical-align: middle;\n",
       "    }\n",
       "\n",
       "    .dataframe tbody tr th {\n",
       "        vertical-align: top;\n",
       "    }\n",
       "\n",
       "    .dataframe thead th {\n",
       "        text-align: right;\n",
       "    }\n",
       "</style>\n",
       "<table border=\"1\" class=\"dataframe\">\n",
       "  <thead>\n",
       "    <tr style=\"text-align: right;\">\n",
       "      <th></th>\n",
       "      <th>text</th>\n",
       "      <th>word_count</th>\n",
       "      <th>dataset</th>\n",
       "      <th>source</th>\n",
       "      <th>domain</th>\n",
       "      <th>timestamp</th>\n",
       "      <th>num_words</th>\n",
       "    </tr>\n",
       "    <tr>\n",
       "      <th>id</th>\n",
       "      <th></th>\n",
       "      <th></th>\n",
       "      <th></th>\n",
       "      <th></th>\n",
       "      <th></th>\n",
       "      <th></th>\n",
       "      <th></th>\n",
       "    </tr>\n",
       "  </thead>\n",
       "  <tbody>\n",
       "  </tbody>\n",
       "</table>\n",
       "</div>"
      ],
      "text/plain": [
       "Empty DataFrame\n",
       "Columns: [text, word_count, dataset, source, domain, timestamp, num_words]\n",
       "Index: []"
      ]
     },
     "execution_count": 12,
     "metadata": {},
     "output_type": "execute_result"
    }
   ],
   "source": [
    "ws_data[ws_data.index.str.startswith('calderon')].query('source==\"american_renaissance\"')"
   ]
  },
  {
   "cell_type": "code",
   "execution_count": 13,
   "id": "529d9e56-450b-4464-911d-e1f9fd9f6f3c",
   "metadata": {},
   "outputs": [
    {
     "data": {
      "text/plain": [
       "array(['daily_stormer'], dtype=object)"
      ]
     },
     "execution_count": 13,
     "metadata": {},
     "output_type": "execute_result"
    }
   ],
   "source": [
    "ws_data[ws_data.dataset=='calderon2021'].source.unique()"
   ]
  },
  {
   "cell_type": "code",
   "execution_count": 8,
   "id": "09a902ec-ba76-4616-916b-1073d081beeb",
   "metadata": {
    "scrolled": true,
    "tags": []
   },
   "outputs": [
    {
     "name": "stdout",
     "output_type": "stream",
     "text": [
      "236\n"
     ]
    },
    {
     "data": {
      "text/html": [
       "<div>\n",
       "<style scoped>\n",
       "    .dataframe tbody tr th:only-of-type {\n",
       "        vertical-align: middle;\n",
       "    }\n",
       "\n",
       "    .dataframe tbody tr th {\n",
       "        vertical-align: top;\n",
       "    }\n",
       "\n",
       "    .dataframe thead th {\n",
       "        text-align: right;\n",
       "    }\n",
       "</style>\n",
       "<table border=\"1\" class=\"dataframe\">\n",
       "  <thead>\n",
       "    <tr style=\"text-align: right;\">\n",
       "      <th></th>\n",
       "      <th>text</th>\n",
       "      <th>word_count</th>\n",
       "      <th>dataset</th>\n",
       "      <th>source</th>\n",
       "      <th>domain</th>\n",
       "      <th>timestamp</th>\n",
       "      <th>num_words</th>\n",
       "    </tr>\n",
       "    <tr>\n",
       "      <th>id</th>\n",
       "      <th></th>\n",
       "      <th></th>\n",
       "      <th></th>\n",
       "      <th></th>\n",
       "      <th></th>\n",
       "      <th></th>\n",
       "      <th></th>\n",
       "    </tr>\n",
       "  </thead>\n",
       "  <tbody>\n",
       "    <tr>\n",
       "      <th>calderon2021_23</th>\n",
       "      <td>a great scientist dies when i got to the lecture hall , there was a crowd outside but no one was allowed in . there had been threats of violence and the talk was canceled . most of my friends were happy : the “ racist ” had been defeated . although i was convinced jensen was completely wrong , it seemed cowardly and shameful to silence a man , no matter what his views . it didn ’ t occur to me that i was acting shamefully . i knew nothing about genetics or iq testing—nothing at all—and yet i was convinced i knew better than a scientist who had studied the subject thoroughly . how embarrassing to have been such an arrogant young lefty ! the goons who shut down jensen ’ s talk may have had an influence on my life . it took me 15 years to realize that jensen was right , and that i and the goons were wrong . surely , my eyes would have been opened sooner if jensen had been able to speak , and i had heard the calm , factual , talk he would surely have given . the primacy of datauntil 1967 , when he was 43 years old , arthur jensen believed that differences in iq were almost entirely determined by environment . he had received a phd in psychology from columbia in 1950 , had worked with hans eysenck in london from 1956 to 1958 and also in 1964 , and had become a full professor at uc berkeley in 1966 . he had studied retarded children with iqs lower than 75 and had found racial differences in patterns of mental disability . still , he held conventional views . in 1967 , jensen received a guggenheim fellowship to study at the center for the advanced study in the behavioral sciences in palo alto , california , where he planned to do research for a book about how cultural deprivation depresses the intelligence of minorities . at the center he met a geneticist who persuaded him to study the genetics of intelligence , and this completely changed his views . instead of writing a book , he wrote his famous february 1969 article for the harvard educational review , “ how much can we boost iq and scholastic achievement ? ” in this 123-page article , he laid the foundation for a correct understanding of intelligence : iq tests are valid and reliable , they are not biased against minorities , social mobility means that the genes for high iq are concentrated in higher social strata , and there is a substantial genetic contribution to both individual and group differences in intelligence . there was an immediate explosion ( the best account is roger pearson , race , intelligence and bias in academe , scott-townsend publishers , 1991 ) . the board of harvard educational review came under so much pressure it stopped making reprints of the article—not even jensen could get any . it explained this was because the article “ presents a view of intelligence that we feel must be read in the context of expert discussion from other psychologists and geneticists . ” in many libraries , vandals tore the article out of the magazine and destroyed it . leftists on campus called for jensen to be fired—and worse . in july of the same year , martin deutsch ( 1926-2002 ) , who was involved in setting up head start , made a speech at michigan state university in which he claimed that jensen ’ s article contained “ 53 major errors or misinterpretations . ” this claim was gobbled up by the left despite deutsch ’ s refusal to say what the errors were . in 1973 , he admitted that the “ 53 errors ” was an off-the-cuff answer to a question from the audience , and that he had no idea the claim would be trumpeted by egalitarians . yale was not the only place where jensen was silenced , and police protected him several times from howling mobs that rushed the podium . as psychologist sandra scarr has written , “ i learned what it is like to be spat upon and to put my body on the line to get art out of a university of minnesota auditorium . it was shocking and frightening , as surely the radicals intended . . . . ” at home in berkeley , jensen received so many vicious telephone calls—many late at night—that for a time his family routed all calls through the police station . the police advised him to move out of his house , and he stayed with friends . there were threats against the jensens ’ 11-year-old daughter , and for almost a year the police warned her not to walk the two blocks to the school bus . for several years , jensen filed his movements in advance with the campus police . if he needed to go somewhere , two officers showed up to accompany him . one year , two plain-clothes men attended his class to keep an eye out for thugs . jensen was always cheerful in the face of hatred , but he was bothered by its effect on others : jensen ’ s persecution continued for years . in 1977 he went on what was to be a lecture tour of eight australian universities , along with hans eysenck of the university of london institute of psychiatry . the men were not even going to speak about race—only about iq , personality , and learning—but the left found this intolerable . at his first stop , the university of melbourne , demonstrators tried to keep people out of the lecture hall . when jensen began to speak , they banged on metal bins and chanted : “ what do we want ? jensen ! how do we want him ? dead ! ” jensen could not be heard over the din , and escaped to a basement room , where he continued his talk through a video link to the lecture hall . the lefties then broke into the basement room and ended the talk . after this debacle , three of the other universities canceled jensen ’ s talks outright , and several others allowed attendance by invitation only . only at the university of adelaide was he able to give a public lecture to a packed house . throughout this period , jensen continued to write journal articles and books . he published genetics and education in 1972 and educability and group differences in 1973 . his massive , 800-page bias in mental testing , published in 1980 , demolished the then-fashionable view that iq tests were biased against women , minorities , and poor people . it was so successful among scholars that his publishers urged him to write a popular version , straight talk about mental tests , which appeared in 1981 . i meet arthur jensenby the time of my first meeting with jensen in 1992 , he was a giant in his field , with more publications and citations than virtually anyone else in psychology . he graciously agreed to give me an interview , which went on for several hours and ranged widely over forbidden subjects . jensen told me that by then the hostility had waned and that he was living a normal life . he assured me that his students were surprised at nothing he taught them ; that they could not understand what all the shouting had been about in the old days . when we were not recording , we talked of many things , and i discovered that jensen was like all genuinely accomplished men i have met : he had striking insights on subjects in many fields , not just his own . also , he was not angry at his attackers ; just baffled . why couldn ’ t they just look at the data ? there is no doubt that jensen , with help from such people as hans eysenck , philippe rushton , richard lynn , linda gottfredson , helmuth nyborg , and michael levin , eventually convinced the experts that genes account for 50 to 80 percent of variation in individual iq and contribute substantially to group variation—but they never managed to convince the media . by the mid 1990s , jensen was hard at work on what was to be his crowning achievement , the g factor , but could not find a publisher . a deep chill had fallen over the book industry , and methuen , jensen ’ s usual publisher , and the free press , which had published straight talk about mental testing , would not touch the g factor . jensen had to settle for praeger publilshers , which had a reputation for accepting controversial titles but printing very few copies and selling them at very high prices . at 648 pages , the g factor was an extraordinary work of science , and praeger priced it at a relatively affordable $ 39 . 95 . it was a magisterial investigation of the nature of intelligence , the extent to which it is under genetic control , and its uneven distribution between individuals and groups . after i reviewed it , i was greatly flattered when jensen told me it was the best summary of the book anyone had written , and that he was making copies to send to associates and friends . however , he said the review contained an important error : i had written that when blacks and whites are matched for brain size they have the same iq , but that was a mistake . he explained that when blacks and whites are matched for iq they have the same brain size , but the relationship does not run the other way . there are other aspects of the brain besides size—neurofunction , brain metabolism , etc . —that influence intelligence , and the races appear to differ in these as well . therefore , for blacks to match whites in iq , equivalent brain size is a necessary but not a sufficient condition . i had always heard that jensen prized accuracy . jensen won admiration for his research and analysis , but he was loved for his character . always the gentleman , always the scientist , he never ran from controversy but he never sought it . in 2003 , in cooperation with phillipe rushton and linda gottfredson , jensen ’ s danish colleague helmuth nyborg published the scientific study of general intelligence : tribute to arthur r. jensen . this was a 642-page collection of articles that were both tributes to a great scientist and major contributions to the field . many authors noted that jensen ’ s true love was data . as professor nyborg wrote , “ if art is loyal to data he is entirely unfaithful to theory , ” noting that jensen would readily sacrifice his own theories if the data did not support them . “ give art a proper analysis and good data , ” he wrote , “ and his mind will follow , entirely independently of his previous views , ” adding , “ that is far more than one can say for most of his critics ! ” thomas j. bouchard , who directed the minnesota twin study , has said jensen ’ s scientific work is “ intensive , detailed , exhaustive , fair-minded , temperate , and courageous . ” like all who knew him , prof. bouchard was deeply impressed by jensen ’ s self possession : “ for someone who has been attacked so vituperatively , both in public and in the published literature , i continue to be astounded at the lack of anger and hostility in his replies and the astuteness with which he dissects the arguments of his critics . ” jensen ’ s former students added to the nyborg collection with comments such as : “ the finest examples of college teaching i have ever experienced , ” “ i can not imagine a better mentor , ” “ he showed astonishing patience with his critics , ” “ the toughest reviewer around , ” “ his own thirst for knowledge is infectious . ” in 2005 , together with philippe rushton , jensen published what i think is the best short , academic summary of iq research ever written : “ thirty years of research on race differences in cognitive ability . ” by then , however , jensen was suffering from parkinson ’ s disease . he continued to publish , but his output declined . arthur jensen died on october 22 . his family kept the event quiet , but the news has now leaked out . when a man of his stature dies , even an enemy establishment is compelled to take notice , and it will be edifying to read the flummery that is sure to appear . the major papers will certainly not admit it , but arthur jensen was a great scientist and a man of great dignity , even nobility . in a sane world , he would have been a serious contender for a nobel prize . that his death should follow so soon upon that of his eminent colleague and friend , philippe rushton , only compounds the terrible loss that science—and mankind—have suffered . topics : race and intelligence , racial differences , science and genetics</td>\n",
       "      <td>2286</td>\n",
       "      <td>calderon2021</td>\n",
       "      <td>american_renaissance</td>\n",
       "      <td>long-form</td>\n",
       "      <td>2012-11-01 00:00:00+00:00</td>\n",
       "      <td>2286</td>\n",
       "    </tr>\n",
       "    <tr>\n",
       "      <th>calderon2021_20818</th>\n",
       "      <td>a great scientist dies when i got to the lecture hall , there was a crowd outside but no one was allowed in . there had been threats of violence and the talk was canceled . most of my friends were happy : the “ racist ” had been defeated . although i was convinced jensen was completely wrong , it seemed cowardly and shameful to silence a man , no matter what his views . it didn ’ t occur to me that i was acting shamefully . i knew nothing about genetics or iq testing—nothing at all—and yet i was convinced i knew better than a scientist who had studied the subject thoroughly . how embarrassing to have been such an arrogant young lefty ! the goons who shut down jensen ’ s talk may have had an influence on my life . it took me 15 years to realize that jensen was right , and that i and the goons were wrong . surely , my eyes would have been opened sooner if jensen had been able to speak , and i had heard the calm , factual , talk he would surely have given . the primacy of datauntil 1967 , when he was 43 years old , arthur jensen believed that differences in iq were almost entirely determined by environment . he had received a phd in psychology from columbia in 1950 , had worked with hans eysenck in london from 1956 to 1958 and also in 1964 , and had become a full professor at uc berkeley in 1966 . he had studied retarded children with iqs lower than 75 and had found racial differences in patterns of mental disability . still , he held conventional views . in 1967 , jensen received a guggenheim fellowship to study at the center for the advanced study in the behavioral sciences in palo alto , california , where he planned to do research for a book about how cultural deprivation depresses the intelligence of minorities . at the center he met a geneticist who persuaded him to study the genetics of intelligence , and this completely changed his views . instead of writing a book , he wrote his famous february 1969 article for the harvard educational review , “ how much can we boost iq and scholastic achievement ? ” in this 123-page article , he laid the foundation for a correct understanding of intelligence : iq tests are valid and reliable , they are not biased against minorities , social mobility means that the genes for high iq are concentrated in higher social strata , and there is a substantial genetic contribution to both individual and group differences in intelligence . there was an immediate explosion ( the best account is roger pearson , race , intelligence and bias in academe , scott-townsend publishers , 1991 ) . the board of harvard educational review came under so much pressure it stopped making reprints of the article—not even jensen could get any . it explained this was because the article “ presents a view of intelligence that we feel must be read in the context of expert discussion from other psychologists and geneticists . ” in many libraries , vandals tore the article out of the magazine and destroyed it . leftists on campus called for jensen to be fired—and worse . in july of the same year , martin deutsch ( 1926-2002 ) , who was involved in setting up head start , made a speech at michigan state university in which he claimed that jensen ’ s article contained “ 53 major errors or misinterpretations . ” this claim was gobbled up by the left despite deutsch ’ s refusal to say what the errors were . in 1973 , he admitted that the “ 53 errors ” was an off-the-cuff answer to a question from the audience , and that he had no idea the claim would be trumpeted by egalitarians . yale was not the only place where jensen was silenced , and police protected him several times from howling mobs that rushed the podium . as psychologist sandra scarr has written , “ i learned what it is like to be spat upon and to put my body on the line to get art out of a university of minnesota auditorium . it was shocking and frightening , as surely the radicals intended . . . . ” at home in berkeley , jensen received so many vicious telephone calls—many late at night—that for a time his family routed all calls through the police station . the police advised him to move out of his house , and he stayed with friends . there were threats against the jensens ’ 11-year-old daughter , and for almost a year the police warned her not to walk the two blocks to the school bus . for several years , jensen filed his movements in advance with the campus police . if he needed to go somewhere , two officers showed up to accompany him . one year , two plain-clothes men attended his class to keep an eye out for thugs . jensen was always cheerful in the face of hatred , but he was bothered by its effect on others : jensen ’ s persecution continued for years . in 1977 he went on what was to be a lecture tour of eight australian universities , along with hans eysenck of the university of london institute of psychiatry . the men were not even going to speak about race—only about iq , personality , and learning—but the left found this intolerable . at his first stop , the university of melbourne , demonstrators tried to keep people out of the lecture hall . when jensen began to speak , they banged on metal bins and chanted : “ what do we want ? jensen ! how do we want him ? dead ! ” jensen could not be heard over the din , and escaped to a basement room , where he continued his talk through a video link to the lecture hall . the lefties then broke into the basement room and ended the talk . after this debacle , three of the other universities canceled jensen ’ s talks outright , and several others allowed attendance by invitation only . only at the university of adelaide was he able to give a public lecture to a packed house . throughout this period , jensen continued to write journal articles and books . he published genetics and education in 1972 and educability and group differences in 1973 . his massive , 800-page bias in mental testing , published in 1980 , demolished the then-fashionable view that iq tests were biased against women , minorities , and poor people . it was so successful among scholars that his publishers urged him to write a popular version , straight talk about mental tests , which appeared in 1981 . i meet arthur jensenby the time of my first meeting with jensen in 1992 , he was a giant in his field , with more publications and citations than virtually anyone else in psychology . he graciously agreed to give me an interview , which went on for several hours and ranged widely over forbidden subjects . jensen told me that by then the hostility had waned and that he was living a normal life . he assured me that his students were surprised at nothing he taught them ; that they could not understand what all the shouting had been about in the old days . when we were not recording , we talked of many things , and i discovered that jensen was like all genuinely accomplished men i have met : he had striking insights on subjects in many fields , not just his own . also , he was not angry at his attackers ; just baffled . why couldn ’ t they just look at the data ? there is no doubt that jensen , with help from such people as hans eysenck , philippe rushton , richard lynn , linda gottfredson , helmuth nyborg , and michael levin , eventually convinced the experts that genes account for 50 to 80 percent of variation in individual iq and contribute substantially to group variation—but they never managed to convince the media . by the mid 1990s , jensen was hard at work on what was to be his crowning achievement , the g factor , but could not find a publisher . a deep chill had fallen over the book industry , and methuen , jensen ’ s usual publisher , and the free press , which had published straight talk about mental testing , would not touch the g factor . jensen had to settle for praeger publilshers , which had a reputation for accepting controversial titles but printing very few copies and selling them at very high prices . at 648 pages , the g factor was an extraordinary work of science , and praeger priced it at a relatively affordable $ 39 . 95 . it was a magisterial investigation of the nature of intelligence , the extent to which it is under genetic control , and its uneven distribution between individuals and groups . after i reviewed it , i was greatly flattered when jensen told me it was the best summary of the book anyone had written , and that he was making copies to send to associates and friends . however , he said the review contained an important error : i had written that when blacks and whites are matched for brain size they have the same iq , but that was a mistake . he explained that when blacks and whites are matched for iq they have the same brain size , but the relationship does not run the other way . there are other aspects of the brain besides size—neurofunction , brain metabolism , etc . —that influence intelligence , and the races appear to differ in these as well . therefore , for blacks to match whites in iq , equivalent brain size is a necessary but not a sufficient condition . i had always heard that jensen prized accuracy . jensen won admiration for his research and analysis , but he was loved for his character . always the gentleman , always the scientist , he never ran from controversy but he never sought it . in 2003 , in cooperation with phillipe rushton and linda gottfredson , jensen ’ s danish colleague helmuth nyborg published the scientific study of general intelligence : tribute to arthur r. jensen . this was a 642-page collection of articles that were both tributes to a great scientist and major contributions to the field . many authors noted that jensen ’ s true love was data . as professor nyborg wrote , “ if art is loyal to data he is entirely unfaithful to theory , ” noting that jensen would readily sacrifice his own theories if the data did not support them . “ give art a proper analysis and good data , ” he wrote , “ and his mind will follow , entirely independently of his previous views , ” adding , “ that is far more than one can say for most of his critics ! ” thomas j. bouchard , who directed the minnesota twin study , has said jensen ’ s scientific work is “ intensive , detailed , exhaustive , fair-minded , temperate , and courageous . ” like all who knew him , prof. bouchard was deeply impressed by jensen ’ s self possession : “ for someone who has been attacked so vituperatively , both in public and in the published literature , i continue to be astounded at the lack of anger and hostility in his replies and the astuteness with which he dissects the arguments of his critics . ” jensen ’ s former students added to the nyborg collection with comments such as : “ the finest examples of college teaching i have ever experienced , ” “ i can not imagine a better mentor , ” “ he showed astonishing patience with his critics , ” “ the toughest reviewer around , ” “ his own thirst for knowledge is infectious . ” in 2005 , together with philippe rushton , jensen published what i think is the best short , academic summary of iq research ever written : “ thirty years of research on race differences in cognitive ability . ” by then , however , jensen was suffering from parkinson ’ s disease . he continued to publish , but his output declined . arthur jensen died on october 22 . his family kept the event quiet , but the news has now leaked out . when a man of his stature dies , even an enemy establishment is compelled to take notice , and it will be edifying to read the flummery that is sure to appear . the major papers will certainly not admit it , but arthur jensen was a great scientist and a man of great dignity , even nobility . in a sane world , he would have been a serious contender for a nobel prize . that his death should follow so soon upon that of his eminent colleague and friend , philippe rushton , only compounds the terrible loss that science—and mankind—have suffered . topics : race and intelligence , racial differences , science and genetics</td>\n",
       "      <td>2286</td>\n",
       "      <td>calderon2021</td>\n",
       "      <td>daily_stormer</td>\n",
       "      <td>long-form</td>\n",
       "      <td>2012-11-01 00:00:00+00:00</td>\n",
       "      <td>2286</td>\n",
       "    </tr>\n",
       "    <tr>\n",
       "      <th>calderon2021_29</th>\n",
       "      <td>a gun problem or a race problem ? [ editor ’ s note : this episode is available for download here . ] topics : crime , liberal myths</td>\n",
       "      <td>29</td>\n",
       "      <td>calderon2021</td>\n",
       "      <td>american_renaissance</td>\n",
       "      <td>long-form</td>\n",
       "      <td>2016-01-12 00:00:00+00:00</td>\n",
       "      <td>29</td>\n",
       "    </tr>\n",
       "    <tr>\n",
       "      <th>calderon2021_24349</th>\n",
       "      <td>a gun problem or a race problem ? [ editor ’ s note : this episode is available for download here . ] topics : crime , liberal myths</td>\n",
       "      <td>29</td>\n",
       "      <td>calderon2021</td>\n",
       "      <td>daily_stormer</td>\n",
       "      <td>long-form</td>\n",
       "      <td>2016-01-12 00:00:00+00:00</td>\n",
       "      <td>29</td>\n",
       "    </tr>\n",
       "    <tr>\n",
       "      <th>calderon2021_23539</th>\n",
       "      <td>a maniac is running our foreign policy ! ( it ’ s not trump ) judge robart ’ s veto of trump ’ s travel ban notwithstanding , there is not the slightest question but that the president , in his sole discretion , can choose to admit or exclude any foreigners he likes , based on “ the interests of the united states . ” the clinton administration used the executive branch ’ s broad power over immigration to send a 6-year-old boy back to a communist dictatorship . the courts were completely powerless to stop him . as explained by the federal appellate court that ruled on elian gonzalez ’ s asylum application : “ it is the duty of the congress and of the executive branch to exercise political will , ” and “ in no context is the executive branch entitled to more deference than in the context of foreign affairs , ” which includes immigration . the court acknowledged that elian might well be subjected to “ re-education , ” “ communist indoctrination ” and “ political manipulation . ” ( then again , so would enrolling him at sidwell friends . ) it didn ’ t matter ! sending little boys back to communist dictatorships was the policy of the clinton administration . the obama administration ’ s immigration policy was to ensure that millions of poverty-stricken foreigners would come here and help turn our country into a mexican version of pakistan . when arizona merely tried to enforce the federal immigration laws being ignored by the obama administration , the entire media erupted in rage at this incursion into the majestic power of the president over immigration . they said it was like living in nazi germany ! the most reviled section of the act , melodramatically called the “ papers please ” law , was upheld by the supreme court . but the other parts , allowing state officials to enforce federal immigration laws , were ruled unconstitutional . a president ’ s policy choice to ignore immigration laws supersedes a state ’ s right to enforce them . the court conceded that hundreds of thousands of illegal aliens were arrested in arizona each year , that they were responsible for “ a disproportionate share of serious crime , ” and that illegals constituted nearly 6 percent of arizona ’ s population . but arizona was powerless to enforce laws on the books — if those laws happened to be about immigration . the president ’ s authority over immigration is absolute and exclusive , as part of his authority over foreign policy . to review : — when the president ’ s immigration policy is to promote international communism : the president wins . — when the president ’ s immigration policy is to transform america into a different country : the president wins . — but when the president ’ s immigration policy is to protect americans : some piss-ant judge announces that his authority exceeds that of the president . this is exactly what i warned you about in adios , america : the left ’ s plan to turn our country into a third world hellhole . nothing trump does will be met with such massive resistance as his immigration policies . the left used to attack america by spying for stalin , aiding our enemies , murdering cops and blowing up buildings . but , then liberals realized , it ’ s so much more effective to just do away with america altogether ! teddy kennedy gave them their chance with the 1965 immigration act . since then , we ’ ve been taking in more than a million immigrants a year , 90 percent from comically primitive cultures . they like the welfare , but have very little interest in adopting the rest of our culture . in many parts of the country , you ’ re already not living in america . just a few more years , and the transformation will be complete . there will be a north american landmass known as “ the united states , ” but it won ’ t be our country . the only thing that stands between america and oblivion is a total immigration moratorium . we are well past the point of quick fixes — as judge robart ’ s delusional ruling proves . the judiciary , both political parties , the media , hollywood , corporate america and approximately 1 million lobbying groups are all working frantically to bring the hardest cases to our shores . left-wing traitors , who used to honeymoon in cuba and fight with peasant revolutionaries in peru , toil away , late into the night , to ensure that genocidal rwandans can move to america and immediately start collecting food stamps , medicaid and social security . no matter how clearly laws are written , government bureaucrats connive to import people from countries that a majority of americans would not want to visit , much less become . federal judges issue lunatic rulings to ensure that there will never be a pause in the transformation of america . congress could write laws requiring immigrants to pay taxes , learn english , forgo welfare and have good moral character . it could write laws giving the president authority to exclude aliens in the public interest . except it already has . those laws were swept away by ins officials , federal judges and democratic administrations — under ferocious pressure from america-hating , left-wing groups . the country will not be safe until the following outfits are out of business : the aclu ’ s immigrants ’ rights project ; the national immigration forum ; the national immigration law center ; the national immigration project of the national lawyers guild ; the national network for immigrant and refugee rights ; the office of migration and refugee services ; the american immigration law foundation ; the american immigration lawyers association ; the border information and outreach service ; atlas : diy ; the catholic legal immigration network ; the clearinghouse for immigrant education ; the farmworker justice fund ; grantmakers concerned with immigrants and refugees ; the immigrant legal resource center ; the international center for migration , ethnicity and citizenship ; the lesbian and gay immigration rights task force ; the lutheran immigration and refugee service ; the national association for bilingual education ; the national clearinghouse on agricultural guest worker issues ; the national coalition for dignity and amnesty for undocumented immigrants ; the national coalition for haitian rights ; the national council of la raza ; and the national farm worker ministry . and that ’ s only a small fraction of the anti-american immigration groups assiduously dragging the third world to our shores — while you were busy working . look at that list — look at judge robart ’ s ruling ! — and ask yourself : is it possible that anything short of a total immigration moratorium can save this country ? only when there is no immigration to bellyache about will these nuts be forced to think of a new way to destroy america . topics : donald trump , immigration , immigration law , immigration law enforcement</td>\n",
       "      <td>1222</td>\n",
       "      <td>calderon2021</td>\n",
       "      <td>daily_stormer</td>\n",
       "      <td>long-form</td>\n",
       "      <td>2017-02-09 00:00:00+00:00</td>\n",
       "      <td>1222</td>\n",
       "    </tr>\n",
       "    <tr>\n",
       "      <th>...</th>\n",
       "      <td>...</td>\n",
       "      <td>...</td>\n",
       "      <td>...</td>\n",
       "      <td>...</td>\n",
       "      <td>...</td>\n",
       "      <td>...</td>\n",
       "      <td>...</td>\n",
       "    </tr>\n",
       "    <tr>\n",
       "      <th>calderon2021_6617</th>\n",
       "      <td>“ conservatives ” blast trump their writers then get to work . mr. trump is a “ con man ” ( mona charen ) , a “ know-nothing demagogue ” who suffers from “ raging egomania ” ( mark helprin ) , “ the politicized american id ” ( john podhoretz ) , a “ glib egomaniac ” and “ bombastic showoff ” ( thomas sowell ) , a “ political conman ” ( katie pavlich ) , a “ narcissist ” ( cal thomas ) , a harbinger of “ two-bit caesarism ” ( william kristol ) , a peddler of “ know-nothing protectionism , ” “ nativism , ” and “ one-man rule ” ( david boaz ) , etc . you know you ’ ve won the argument when your opponents are reduced to name-calling . but there are a few substantive complaints amidst the roaring . one is that mr. trump is too ignorant to run the country . according to mark helprin , mr. trump “ doesn ’ t know the constitution , history , law , political philosophy , nuclear strategy , diplomacy , defense , economics beyond real estate , ” and so on . this is true of almost the entire political class . ronald reagan and george w. bush were genial ignoramuses , but reagan is a hero to national review . andrew mccarthy sniffs that mr. trump doesn ’ t know who hassan nasrallah is . i doubt mike huckabee , jim gilmore , chris christie or john kasich know who he is either , and ben carson thinks the pyramids were built to store grain . several nr writers think mr. trump wants to be a dictator . david boaz of cato says that mr. trump “ is effectively vowing to be an american mussolini . . . and govern by fiat . ” mr. trump is certainly full of promises about what he will do , but so is every other candidate . they say “ i will ( fill in the blank ) . ” they don ’ t say “ i will persuade congress to pass legislation that will ( fill in the blank ) . ” many of these “ conservatives ” say they worship limited government and the separation of powers , and perhaps they do , but i can ’ t think of a recent president who hasn ’ t attacked another country without a declaration of war , and barack obama has run wild with executive orders . the nr “ conservatives ” may not like that , but why are they angrier about what mr. trump hasn ’ t done than what others have done ? according to their precious constitution , the supreme court and the threat of impeachment will curb mr. trump ’ s imagined excesses . but donald trump is guilty of worse than ceasarism and bombast . national review considers itself the tabernacle of conservatism , and its high priests have declared that mr. trump is not a conservative . they say he ’ s a closet liberal on abortion , gun control , socialized medicine , and big government . for me and for millions of americans , the answer to that is a resounding “ who cares ? ” most of the time , donald trump doesn ’ t even claim to be a conservative . he cares deeply about the well-being and happiness of americans , and is the first major candidate since patrick buchanan who understands that south-of-the-border illiterates don ’ t make good americans . so long as he sticks to that message it won ’ t make any difference whether he ’ s “ liberal ” or “ conservative ” or a conman or a showoff or any of the other names national review calls him . people of all political persuasions will vote for him . there is nothing partisan about wanting your people to survive and prosper . what does the saying “ politics stops at the water ’ s edge ” mean but that when the survival of the nation is threatened we set aside disagreements and fight the common enemy . our survival is threatened , and mr. trump is the only candidate who seems to understand that . but nr ’ s sniffing about mr. trump not being a conservative highlights the most inexplicable and pathetic thing about “ conservatives . ” they don ’ t realize that the one thing that must absolutely be conserved is something they pride themselves on pretending doesn ’ t matter : the race of people who make what they call conservatism even possible . do they really believe that mexicans and haitians and guatemalans and vietnamese and bangladeshis and chinese are ever going to be made to care about the second amendment or madisonian democracy or limited government ? this is why these people are cuckolded conservatives or “ cuckservatives . ” just like a man with a faithless wife , they are lavishing care on somebody else ’ s children . their beautiful constitution and elegant libertarianism are wasted on third-worlders , for whom these things are alien and meaningless . the institutions national review thinks it is preserving will be kicked aside by people whose ancestors had no hand in building them . what cuckservatives are determined not to understand is that without the historic american people , there is no america , no western culture , no civilization fit for white men . anyone who stands for the european people and traditions of america is our comrade , whatever his politics . there is something grotesque about people who sacrifice americans to abstractions , who put principle over people . and if they think that pronouncing donald trump “ not a conservative ” will move the electoral balance by even a hair they are deluded . do they imagine people all across america saying to themselves , “ i was going to vote for trump , but nr says he ’ s not a conservative so i guess i ’ ll vote for jeb bush ” ? liberals are just as deluded about the insignificance of race , of course . their vision of the perfect society requires a population of danes , not mexicans . the only part of “ liberalism ” third-worlders understand is government handouts . feminism , gay rights , “ diversity , ” “ tolerance , ” environmentalism , yoga and fruit-juice drinking–you don ’ t see much of that in “ communities of color . ” but liberals are at least consistent in their madness . they want to change everything , so it is more excusable that they not realize that changing the population makes their kind of change impossible . but back to the anti-trump blasts , i almost forgot : not one of the nr 22 dared call mr. trump a “ racist ” on the record , but there were plenty of hints : “ trump ’ s vitriolic–and often racist and sexist language–language ” ( russell moore ) , “ the unavoidable issue of racism ” ( michael medved ) , and “ racial and religious scapegoating ” ( david boaz ) . keep it up , national review . you ’ re beginning to sound just like the washington post ; dana milbank titled one of his columns “ donald trump is a bigot and a racist . ” when both national review and the washington post agree that the republican front-runner and probable nominee–a man who could well become the president of the united states–is a “ racist , ” we know that a new day is dawning in america . topics : donald trump , elections , immigration</td>\n",
       "      <td>1306</td>\n",
       "      <td>calderon2021</td>\n",
       "      <td>daily_stormer</td>\n",
       "      <td>long-form</td>\n",
       "      <td>2016-01-26 00:00:00+00:00</td>\n",
       "      <td>1306</td>\n",
       "    </tr>\n",
       "    <tr>\n",
       "      <th>calderon2021_12</th>\n",
       "      <td>“ our values ” ? whose values ? in the barack obama universe , the carnage in boston , orlando , san bernardino , fort-hood and chattanooga dwarfs when compared to the importance of preserving “ our values . ” ( by which obama means his values , hillary clinton ’ s values , angela merkel ’ s values , sally yates ’ s values , chucky schumer ’ s values , jeff bezos ’ s values , john mcmussolini ’ s values , lindsey graham ’ s values . ) when a politician pules about “ the values that make our country great , ” to quote mrs. clinton , chances are they mean multiculturalism , pluralism , wide-swung borders , islam as peace , communities divided in diversity as a net positive , and the constitution—it mandates all the above , just ask ruth bader ginsburg—as a living , breathing , mutating philosophical malignancy . for them , “ protecting ” the abstraction that is “ our way of life ” trumps the protection of real individual lives . “ we must guard against a weakening of the values that make us who we are , ” dissembled obama in the waning weeks before he was gone . the empty phrase is meant to make the sovereign citizen—you—forget that government ’ s most important role , if not its only role , is to protect individual life . this is something president trump grasps on a gut level . in his last few addresses , obama promised to speak up on “ certain issues , ” in times when he imagined “ our core values may be at stake . ” likewise , in delivering her control-alt-delete speech against the deplorables , clinton had asserted that “ our country is great because we ’ re good . … donald trump disregards the values that make our country great . ” the two ’ s group-think , notwithstanding , only individuals can be virtuous , not collectives . self-government , and not imposed government , implies that society , and not the state , is to develop value systems . the state ’ s role is to protect citizens as they go about their business peacefully , living in accordance with their peaceful values . when you hear an appeal to “ permanent values ” — ” the values that make our country great , ” to quote clinton—know you are dealing with world-class crooks . these crooks want to swindle you out of the freedom to think and believe as you wish . for in the classical conservative and libertarian traditions , values are private things , to be left to civil society—the individual , family and church—to practice and police . the american government is charged purely with upholding the law , no more . why so ? because government has police and military powers with which to enforce its “ values . ” a free people dare not entrust such an omnipotent entity with policing values , at home or abroad , because values enforced are dogma . when incontestable majorities call on government to curb islamic and other in-migration because this imperils american lives , president trump ’ s unswerving opponents—the obama , clinton , ryan , mccain , graham , schumer and media mafia—will invariably intone , “ that ’ s not who we are . ” when you hear that manipulative mantra , tell them to shut up , mind their own business , and stick to their constitutional mandate to protect the people , not police their minds . remember that through an appeal to values , the state aggrandizes itself . a limited government , serving an ostensibly free people , must thus never enforce values . because our form of government is incompatible with the enforcement of values , the american people can ’ t and mustn ’ t welcome into their midst civilizations whose values are inimical to the survival of their own . topics : donald trump , multiculturalism and diversity</td>\n",
       "      <td>683</td>\n",
       "      <td>calderon2021</td>\n",
       "      <td>american_renaissance</td>\n",
       "      <td>long-form</td>\n",
       "      <td>2017-02-04 00:00:00+00:00</td>\n",
       "      <td>683</td>\n",
       "    </tr>\n",
       "    <tr>\n",
       "      <th>calderon2021_24012</th>\n",
       "      <td>“ our values ” ? whose values ? in the barack obama universe , the carnage in boston , orlando , san bernardino , fort-hood and chattanooga dwarfs when compared to the importance of preserving “ our values . ” ( by which obama means his values , hillary clinton ’ s values , angela merkel ’ s values , sally yates ’ s values , chucky schumer ’ s values , jeff bezos ’ s values , john mcmussolini ’ s values , lindsey graham ’ s values . ) when a politician pules about “ the values that make our country great , ” to quote mrs. clinton , chances are they mean multiculturalism , pluralism , wide-swung borders , islam as peace , communities divided in diversity as a net positive , and the constitution—it mandates all the above , just ask ruth bader ginsburg—as a living , breathing , mutating philosophical malignancy . for them , “ protecting ” the abstraction that is “ our way of life ” trumps the protection of real individual lives . “ we must guard against a weakening of the values that make us who we are , ” dissembled obama in the waning weeks before he was gone . the empty phrase is meant to make the sovereign citizen—you—forget that government ’ s most important role , if not its only role , is to protect individual life . this is something president trump grasps on a gut level . in his last few addresses , obama promised to speak up on “ certain issues , ” in times when he imagined “ our core values may be at stake . ” likewise , in delivering her control-alt-delete speech against the deplorables , clinton had asserted that “ our country is great because we ’ re good . … donald trump disregards the values that make our country great . ” the two ’ s group-think , notwithstanding , only individuals can be virtuous , not collectives . self-government , and not imposed government , implies that society , and not the state , is to develop value systems . the state ’ s role is to protect citizens as they go about their business peacefully , living in accordance with their peaceful values . when you hear an appeal to “ permanent values ” — ” the values that make our country great , ” to quote clinton—know you are dealing with world-class crooks . these crooks want to swindle you out of the freedom to think and believe as you wish . for in the classical conservative and libertarian traditions , values are private things , to be left to civil society—the individual , family and church—to practice and police . the american government is charged purely with upholding the law , no more . why so ? because government has police and military powers with which to enforce its “ values . ” a free people dare not entrust such an omnipotent entity with policing values , at home or abroad , because values enforced are dogma . when incontestable majorities call on government to curb islamic and other in-migration because this imperils american lives , president trump ’ s unswerving opponents—the obama , clinton , ryan , mccain , graham , schumer and media mafia—will invariably intone , “ that ’ s not who we are . ” when you hear that manipulative mantra , tell them to shut up , mind their own business , and stick to their constitutional mandate to protect the people , not police their minds . remember that through an appeal to values , the state aggrandizes itself . a limited government , serving an ostensibly free people , must thus never enforce values . because our form of government is incompatible with the enforcement of values , the american people can ’ t and mustn ’ t welcome into their midst civilizations whose values are inimical to the survival of their own . topics : donald trump , multiculturalism and diversity</td>\n",
       "      <td>683</td>\n",
       "      <td>calderon2021</td>\n",
       "      <td>daily_stormer</td>\n",
       "      <td>long-form</td>\n",
       "      <td>2017-02-04 00:00:00+00:00</td>\n",
       "      <td>683</td>\n",
       "    </tr>\n",
       "    <tr>\n",
       "      <th>calderon2021_14716</th>\n",
       "      <td>“ we ’ ve never been weaker and never more hated ” all the speakers bemoaned the rise of donald trump and of populist groups in europe . all said the “ refugees ” were fueling the right in europe , and that the dwindling white majority in the united states backs mr. trump . they also voiced a growing fear of the internet that gives dissenters a voice . the meeting had an atmosphere of pessimism and gloom that was an almost perfect mirror-image of the optimism and energy of the recent american renaissance conference . the two professors showed slides with facts and figures and photos of pegida marches and the like , while miss beirich spoke without rising from her stool . charles lane , who writes editorials such as “ the dangerous nihilism of trump voters , ” was the moderator , feeding softball questions to the other three . of the 60 or so people in the audience , 45 seemed to be retired white people , with a handful of non-whites and young folks . perhaps that was to be expected ; the four speakers were old white people , too . they seem to have forgotten their obligation to promote “ role models . ” professor michael minkenberg , who teaches at a university in frankfurt , spoke first . he noted that the success of populist parties in europe varies widely , and that they can gain or lose as much as 20 percent of the electorate in a single election . he noted that this is especially pronounced in eastern europe , where political parties are less stable , and may appear and disappear from one election to the next . these oscillations make it very hard to predict what might happen next , he said , but stated the obvious in saying that eastern europe is friendlier to these parties than the west . he expressed deep disgust for the current regimes in poland and hungary , but said nothing about russia . of all the presentations , professor minkenberg ’ s was the least vituperative and the most factual . heidi beirich spoke exclusively about donald trump , repeatedly expressing bewilderment at how “ he gets away with it . ” she said no other candidate in modern times has been able to say such offensive things , associate with such hateful people , and hold such hateful views , yet still be a viable national candidate . she said one had to go all the way back to george wallace in the ’ 60s to find anything similar . she seems to have missed the ’ 80s and ’ 90s , when pat buchanan ’ s and david duke ’ s candidacies were derailed by hostile media . she ended on a pessimistic note , saying that nothing seems to stop the donald . professor thomas grumke , who teaches at a university in north rhine-westphalia , focused specifically on germany . his main point was that although “ far right ” political parties are not doing very well , “ far right ” social movements such as pegida are . he noted that young people were getting involved , but suggested that this might be only youthful rebellion , and that they may grow out of it . he spoke with great condescension towards anyone who could be attracted to the “ far right . ” professor thomas grumke criticizes his fellow germans for worrying about “ refugee ” crime . the question and answer period was more interesting than the presentations . a south asian man stood up and berated the panelists . he noted that no one on the panel represented the right , or had even tried to understand its perspective . he further noted that “ experts ” like them had been wrong about everything so far this election , so why should anyone listen to them ? at the end , he said he had voted for le pen and was a donald trump volunteer . halfway through the question , professor grumke interrupted him , snidely asking , “ how can you say i was wrong ? we don ’ t know each other . ” as an answer , he sneeringly asked , “ are you an immigrant to this country ? yes ? okay , good luck to you . ” the panelists addressed none of his points and immediately took another question . professor grumke went on to mock the pro-trump questioner a few minutes later , saying : without a hint of irony , miss beirich , whose job is to suppress dissent , lamented that no one talks to people with different viewpoints these days , and that this leads to a loss of civility . she added the usual jab at the racialist right : “ we joke in my office that if we could get these people jobs and girlfriends we might be able to neutralize the movement . ” professor grumke complained about the internet : the audience laughed happily at this caricature . a member of the audience asked : charles lane of the washington post replied : he talked about a reporter who apparently needs bodyguards when she covers populist rallies in germany , and that reporters at trump events have felt unsafe . he then returned to his real gripe : how tragic it must be to feel that you are being beaten by overly emotional , unemployed , basement-dwelling losers with a knack for twitter . needless to say , this is what fuels the censorship of the right on facebook and twitter . the panelists blasted twitter , in particular , and for good reason . dissidents have long known that twitter is a more useful platform than facebook , and donald trump ’ s twitter feed has become something of a legend , with entire essays about it in politico . besides confirming my suspicion of just how much liberals hate us , and how much they hate the marketplace of ideas that comes with the internet , there was one other highlight . to my surprise , miss beirich apparently knows about robert putnam ’ s research on the damaging effects of diversity . she never mentioned him directly , but she must have been thinking of him : on its own , it ’ s not gon na happen ? what is “ it ” ? a multi-culti america ? a miscegenated planet ? no matter how high the costs of diversity–which miss beirich concedes are real– “ it ” must be had anyway . since diversity has bad consequences , government must forcibly make it work so america can get to “ it . ” that ’ s why we need the southern poverty law center , “ hate crimes ” laws , sensitivity training , race preferences , forced integration , “ role models , ” and the endless lies americans tell each other about race . diversity has to be made to work , so we can all get to “ it . ” and apparently the only thing stopping “ it ” is losers like us on the internet . topics : europe , rape , signs of hope</td>\n",
       "      <td>1228</td>\n",
       "      <td>calderon2021</td>\n",
       "      <td>daily_stormer</td>\n",
       "      <td>long-form</td>\n",
       "      <td>2016-05-25 00:00:00+00:00</td>\n",
       "      <td>1228</td>\n",
       "    </tr>\n",
       "    <tr>\n",
       "      <th>calderon2021_207</th>\n",
       "      <td>“ we ’ ve never been weaker and never more hated ” all the speakers bemoaned the rise of donald trump and of populist groups in europe . all said the “ refugees ” were fueling the right in europe , and that the dwindling white majority in the united states backs mr. trump . they also voiced a growing fear of the internet that gives dissenters a voice . the meeting had an atmosphere of pessimism and gloom that was an almost perfect mirror-image of the optimism and energy of the recent american renaissance conference . the two professors showed slides with facts and figures and photos of pegida marches and the like , while miss beirich spoke without rising from her stool . charles lane , who writes editorials such as “ the dangerous nihilism of trump voters , ” was the moderator , feeding softball questions to the other three . of the 60 or so people in the audience , 45 seemed to be retired white people , with a handful of non-whites and young folks . perhaps that was to be expected ; the four speakers were old white people , too . they seem to have forgotten their obligation to promote “ role models . ” professor michael minkenberg , who teaches at a university in frankfurt , spoke first . he noted that the success of populist parties in europe varies widely , and that they can gain or lose as much as 20 percent of the electorate in a single election . he noted that this is especially pronounced in eastern europe , where political parties are less stable , and may appear and disappear from one election to the next . these oscillations make it very hard to predict what might happen next , he said , but stated the obvious in saying that eastern europe is friendlier to these parties than the west . he expressed deep disgust for the current regimes in poland and hungary , but said nothing about russia . of all the presentations , professor minkenberg ’ s was the least vituperative and the most factual . heidi beirich spoke exclusively about donald trump , repeatedly expressing bewilderment at how “ he gets away with it . ” she said no other candidate in modern times has been able to say such offensive things , associate with such hateful people , and hold such hateful views , yet still be a viable national candidate . she said one had to go all the way back to george wallace in the ’ 60s to find anything similar . she seems to have missed the ’ 80s and ’ 90s , when pat buchanan ’ s and david duke ’ s candidacies were derailed by hostile media . she ended on a pessimistic note , saying that nothing seems to stop the donald . professor thomas grumke , who teaches at a university in north rhine-westphalia , focused specifically on germany . his main point was that although “ far right ” political parties are not doing very well , “ far right ” social movements such as pegida are . he noted that young people were getting involved , but suggested that this might be only youthful rebellion , and that they may grow out of it . he spoke with great condescension towards anyone who could be attracted to the “ far right . ” professor thomas grumke criticizes his fellow germans for worrying about “ refugee ” crime . the question and answer period was more interesting than the presentations . a south asian man stood up and berated the panelists . he noted that no one on the panel represented the right , or had even tried to understand its perspective . he further noted that “ experts ” like them had been wrong about everything so far this election , so why should anyone listen to them ? at the end , he said he had voted for le pen and was a donald trump volunteer . halfway through the question , professor grumke interrupted him , snidely asking , “ how can you say i was wrong ? we don ’ t know each other . ” as an answer , he sneeringly asked , “ are you an immigrant to this country ? yes ? okay , good luck to you . ” the panelists addressed none of his points and immediately took another question . professor grumke went on to mock the pro-trump questioner a few minutes later , saying : without a hint of irony , miss beirich , whose job is to suppress dissent , lamented that no one talks to people with different viewpoints these days , and that this leads to a loss of civility . she added the usual jab at the racialist right : “ we joke in my office that if we could get these people jobs and girlfriends we might be able to neutralize the movement . ” professor grumke complained about the internet : the audience laughed happily at this caricature . a member of the audience asked : charles lane of the washington post replied : he talked about a reporter who apparently needs bodyguards when she covers populist rallies in germany , and that reporters at trump events have felt unsafe . he then returned to his real gripe : how tragic it must be to feel that you are being beaten by overly emotional , unemployed , basement-dwelling losers with a knack for twitter . needless to say , this is what fuels the censorship of the right on facebook and twitter . the panelists blasted twitter , in particular , and for good reason . dissidents have long known that twitter is a more useful platform than facebook , and donald trump ’ s twitter feed has become something of a legend , with entire essays about it in politico . besides confirming my suspicion of just how much liberals hate us , and how much they hate the marketplace of ideas that comes with the internet , there was one other highlight . to my surprise , miss beirich apparently knows about robert putnam ’ s research on the damaging effects of diversity . she never mentioned him directly , but she must have been thinking of him : on its own , it ’ s not gon na happen ? what is “ it ” ? a multi-culti america ? a miscegenated planet ? no matter how high the costs of diversity–which miss beirich concedes are real– “ it ” must be had anyway . since diversity has bad consequences , government must forcibly make it work so america can get to “ it . ” that ’ s why we need the southern poverty law center , “ hate crimes ” laws , sensitivity training , race preferences , forced integration , “ role models , ” and the endless lies americans tell each other about race . diversity has to be made to work , so we can all get to “ it . ” and apparently the only thing stopping “ it ” is losers like us on the internet . topics : europe , rape , signs of hope</td>\n",
       "      <td>1228</td>\n",
       "      <td>calderon2021</td>\n",
       "      <td>american_renaissance</td>\n",
       "      <td>long-form</td>\n",
       "      <td>2016-05-25 00:00:00+00:00</td>\n",
       "      <td>1228</td>\n",
       "    </tr>\n",
       "  </tbody>\n",
       "</table>\n",
       "<p>472 rows × 7 columns</p>\n",
       "</div>"
      ],
      "text/plain": [
       "                                                                                                                                                                                                                                                                                                                                                                                                                                                                                                                                                                                                                                                                                                                                                                                                                                                                                                                                                                                                                                                                                                                                                                                                                                                                                                                                                                                                                                                                                                                                                                                                                                                                                                                                                                                                                                                                                                                                                                                                                                                                                                                                                                                                                                                                                                                                                                                                                                                                                                                                                                                                                                                                                                                                                                                                                                                                                                                                                                                                                                                                                                                                                                                                                                                                                                                                                                                                                                                                                                                                                                                                                                                                                                                                                                                                                                                                                                                                                                                                                                                                                                                                                                                                                                                                                                                                                                                                                                                                                                                                                                                                                                                                                                                                                                                                                                                                                                                                                                                                                                                                                                                                                                                                                                                                                                                                                                                                                                                                                                                                                                                                                                                                                                                                                                                                                                                                                                                                                                                                                                                                                                                                                                                                                                                                                                                                                                                                                                                                                                                                                                                                                                                                                                                                                                                                                                                                                                                                                                                                                                                                                                                                                                                                                                                                                                                                                                                                                                                                                                                                                                                                                                                                                                                                                                                                                                                                                                                                                                                                                                                                                                                                                                                                                                                                                                                                                                                                                                                                                                                                                                                                                                                                                                                                                                                                                                                                                                                                                                                                                                                                                                                                                                                                                                                                                                                                                                                                                                                                                                                                                                                                                                                                                                                                                                                                                                                                                                                                                                                                                                                                                                                                                                                                                                                                                                                                                                                                                                                                                                                                                                                                                                                                                                                                                                                                                                                                                                                                                                                                                                                                                                                                                                                                                                                                                                                                                                                                                                                                                                                                                                                                                                                                                                                                                                                                                                                                                                                                                                                                                                                                                                                                                                                                                                                                                                                                                                                                                                                                                                              text  \\\n",
       "id                                                                                                                                                                                                                                                                                                                                                                                                                                                                                                                                                                                                                                                                                                                                                                                                                                                                                                                                                                                                                                                                                                                                                                                                                                                                                                                                                                                                                                                                                                                                                                                                                                                                                                                                                                                                                                                                                                                                                                                                                                                                                                                                                                                                                                                                                                                                                                                                                                                                                                                                                                                                                                                                                                                                                                                                                                                                                                                                                                                                                                                                                                                                                                                                                                                                                                                                                                                                                                                                                                                                                                                                                                                                                                                                                                                                                                                                                                                                                                                                                                                                                                                                                                                                                                                                                                                                                                                                                                                                                                                                                                                                                                                                                                                                                                                                                                                                                                                                                                                                                                                                                                                                                                                                                                                                                                                                                                                                                                                                                                                                                                                                                                                                                                                                                                                                                                                                                                                                                                                                                                                                                                                                                                                                                                                                                                                                                                                                                                                                                                                                                                                                                                                                                                                                                                                                                                                                                                                                                                                                                                                                                                                                                                                                                                                                                                                                                                                                                                                                                                                                                                                                                                                                                                                                                                                                                                                                                                                                                                                                                                                                                                                                                                                                                                                                                                                                                                                                                                                                                                                                                                                                                                                                                                                                                                                                                                                                                                                                                                                                                                                                                                                                                                                                                                                                                                                                                                                                                                                                                                                                                                                                                                                                                                                                                                                                                                                                                                                                                                                                                                                                                                                                                                                                                                                                                                                                                                                                                                                                                                                                                                                                                                                                                                                                                                                                                                                                                                                                                                                                                                                                                                                                                                                                                                                                                                                                                                                                                                                                                                                                                                                                                                                                                                                                                                                                                                                                                                                                                                                                                                                                                                                                                                                                                                                                                                                                                                                                                                                                                                                   \n",
       "calderon2021_23     a great scientist dies when i got to the lecture hall , there was a crowd outside but no one was allowed in . there had been threats of violence and the talk was canceled . most of my friends were happy : the “ racist ” had been defeated . although i was convinced jensen was completely wrong , it seemed cowardly and shameful to silence a man , no matter what his views . it didn ’ t occur to me that i was acting shamefully . i knew nothing about genetics or iq testing—nothing at all—and yet i was convinced i knew better than a scientist who had studied the subject thoroughly . how embarrassing to have been such an arrogant young lefty ! the goons who shut down jensen ’ s talk may have had an influence on my life . it took me 15 years to realize that jensen was right , and that i and the goons were wrong . surely , my eyes would have been opened sooner if jensen had been able to speak , and i had heard the calm , factual , talk he would surely have given . the primacy of datauntil 1967 , when he was 43 years old , arthur jensen believed that differences in iq were almost entirely determined by environment . he had received a phd in psychology from columbia in 1950 , had worked with hans eysenck in london from 1956 to 1958 and also in 1964 , and had become a full professor at uc berkeley in 1966 . he had studied retarded children with iqs lower than 75 and had found racial differences in patterns of mental disability . still , he held conventional views . in 1967 , jensen received a guggenheim fellowship to study at the center for the advanced study in the behavioral sciences in palo alto , california , where he planned to do research for a book about how cultural deprivation depresses the intelligence of minorities . at the center he met a geneticist who persuaded him to study the genetics of intelligence , and this completely changed his views . instead of writing a book , he wrote his famous february 1969 article for the harvard educational review , “ how much can we boost iq and scholastic achievement ? ” in this 123-page article , he laid the foundation for a correct understanding of intelligence : iq tests are valid and reliable , they are not biased against minorities , social mobility means that the genes for high iq are concentrated in higher social strata , and there is a substantial genetic contribution to both individual and group differences in intelligence . there was an immediate explosion ( the best account is roger pearson , race , intelligence and bias in academe , scott-townsend publishers , 1991 ) . the board of harvard educational review came under so much pressure it stopped making reprints of the article—not even jensen could get any . it explained this was because the article “ presents a view of intelligence that we feel must be read in the context of expert discussion from other psychologists and geneticists . ” in many libraries , vandals tore the article out of the magazine and destroyed it . leftists on campus called for jensen to be fired—and worse . in july of the same year , martin deutsch ( 1926-2002 ) , who was involved in setting up head start , made a speech at michigan state university in which he claimed that jensen ’ s article contained “ 53 major errors or misinterpretations . ” this claim was gobbled up by the left despite deutsch ’ s refusal to say what the errors were . in 1973 , he admitted that the “ 53 errors ” was an off-the-cuff answer to a question from the audience , and that he had no idea the claim would be trumpeted by egalitarians . yale was not the only place where jensen was silenced , and police protected him several times from howling mobs that rushed the podium . as psychologist sandra scarr has written , “ i learned what it is like to be spat upon and to put my body on the line to get art out of a university of minnesota auditorium . it was shocking and frightening , as surely the radicals intended . . . . ” at home in berkeley , jensen received so many vicious telephone calls—many late at night—that for a time his family routed all calls through the police station . the police advised him to move out of his house , and he stayed with friends . there were threats against the jensens ’ 11-year-old daughter , and for almost a year the police warned her not to walk the two blocks to the school bus . for several years , jensen filed his movements in advance with the campus police . if he needed to go somewhere , two officers showed up to accompany him . one year , two plain-clothes men attended his class to keep an eye out for thugs . jensen was always cheerful in the face of hatred , but he was bothered by its effect on others : jensen ’ s persecution continued for years . in 1977 he went on what was to be a lecture tour of eight australian universities , along with hans eysenck of the university of london institute of psychiatry . the men were not even going to speak about race—only about iq , personality , and learning—but the left found this intolerable . at his first stop , the university of melbourne , demonstrators tried to keep people out of the lecture hall . when jensen began to speak , they banged on metal bins and chanted : “ what do we want ? jensen ! how do we want him ? dead ! ” jensen could not be heard over the din , and escaped to a basement room , where he continued his talk through a video link to the lecture hall . the lefties then broke into the basement room and ended the talk . after this debacle , three of the other universities canceled jensen ’ s talks outright , and several others allowed attendance by invitation only . only at the university of adelaide was he able to give a public lecture to a packed house . throughout this period , jensen continued to write journal articles and books . he published genetics and education in 1972 and educability and group differences in 1973 . his massive , 800-page bias in mental testing , published in 1980 , demolished the then-fashionable view that iq tests were biased against women , minorities , and poor people . it was so successful among scholars that his publishers urged him to write a popular version , straight talk about mental tests , which appeared in 1981 . i meet arthur jensenby the time of my first meeting with jensen in 1992 , he was a giant in his field , with more publications and citations than virtually anyone else in psychology . he graciously agreed to give me an interview , which went on for several hours and ranged widely over forbidden subjects . jensen told me that by then the hostility had waned and that he was living a normal life . he assured me that his students were surprised at nothing he taught them ; that they could not understand what all the shouting had been about in the old days . when we were not recording , we talked of many things , and i discovered that jensen was like all genuinely accomplished men i have met : he had striking insights on subjects in many fields , not just his own . also , he was not angry at his attackers ; just baffled . why couldn ’ t they just look at the data ? there is no doubt that jensen , with help from such people as hans eysenck , philippe rushton , richard lynn , linda gottfredson , helmuth nyborg , and michael levin , eventually convinced the experts that genes account for 50 to 80 percent of variation in individual iq and contribute substantially to group variation—but they never managed to convince the media . by the mid 1990s , jensen was hard at work on what was to be his crowning achievement , the g factor , but could not find a publisher . a deep chill had fallen over the book industry , and methuen , jensen ’ s usual publisher , and the free press , which had published straight talk about mental testing , would not touch the g factor . jensen had to settle for praeger publilshers , which had a reputation for accepting controversial titles but printing very few copies and selling them at very high prices . at 648 pages , the g factor was an extraordinary work of science , and praeger priced it at a relatively affordable $ 39 . 95 . it was a magisterial investigation of the nature of intelligence , the extent to which it is under genetic control , and its uneven distribution between individuals and groups . after i reviewed it , i was greatly flattered when jensen told me it was the best summary of the book anyone had written , and that he was making copies to send to associates and friends . however , he said the review contained an important error : i had written that when blacks and whites are matched for brain size they have the same iq , but that was a mistake . he explained that when blacks and whites are matched for iq they have the same brain size , but the relationship does not run the other way . there are other aspects of the brain besides size—neurofunction , brain metabolism , etc . —that influence intelligence , and the races appear to differ in these as well . therefore , for blacks to match whites in iq , equivalent brain size is a necessary but not a sufficient condition . i had always heard that jensen prized accuracy . jensen won admiration for his research and analysis , but he was loved for his character . always the gentleman , always the scientist , he never ran from controversy but he never sought it . in 2003 , in cooperation with phillipe rushton and linda gottfredson , jensen ’ s danish colleague helmuth nyborg published the scientific study of general intelligence : tribute to arthur r. jensen . this was a 642-page collection of articles that were both tributes to a great scientist and major contributions to the field . many authors noted that jensen ’ s true love was data . as professor nyborg wrote , “ if art is loyal to data he is entirely unfaithful to theory , ” noting that jensen would readily sacrifice his own theories if the data did not support them . “ give art a proper analysis and good data , ” he wrote , “ and his mind will follow , entirely independently of his previous views , ” adding , “ that is far more than one can say for most of his critics ! ” thomas j. bouchard , who directed the minnesota twin study , has said jensen ’ s scientific work is “ intensive , detailed , exhaustive , fair-minded , temperate , and courageous . ” like all who knew him , prof. bouchard was deeply impressed by jensen ’ s self possession : “ for someone who has been attacked so vituperatively , both in public and in the published literature , i continue to be astounded at the lack of anger and hostility in his replies and the astuteness with which he dissects the arguments of his critics . ” jensen ’ s former students added to the nyborg collection with comments such as : “ the finest examples of college teaching i have ever experienced , ” “ i can not imagine a better mentor , ” “ he showed astonishing patience with his critics , ” “ the toughest reviewer around , ” “ his own thirst for knowledge is infectious . ” in 2005 , together with philippe rushton , jensen published what i think is the best short , academic summary of iq research ever written : “ thirty years of research on race differences in cognitive ability . ” by then , however , jensen was suffering from parkinson ’ s disease . he continued to publish , but his output declined . arthur jensen died on october 22 . his family kept the event quiet , but the news has now leaked out . when a man of his stature dies , even an enemy establishment is compelled to take notice , and it will be edifying to read the flummery that is sure to appear . the major papers will certainly not admit it , but arthur jensen was a great scientist and a man of great dignity , even nobility . in a sane world , he would have been a serious contender for a nobel prize . that his death should follow so soon upon that of his eminent colleague and friend , philippe rushton , only compounds the terrible loss that science—and mankind—have suffered . topics : race and intelligence , racial differences , science and genetics   \n",
       "calderon2021_20818  a great scientist dies when i got to the lecture hall , there was a crowd outside but no one was allowed in . there had been threats of violence and the talk was canceled . most of my friends were happy : the “ racist ” had been defeated . although i was convinced jensen was completely wrong , it seemed cowardly and shameful to silence a man , no matter what his views . it didn ’ t occur to me that i was acting shamefully . i knew nothing about genetics or iq testing—nothing at all—and yet i was convinced i knew better than a scientist who had studied the subject thoroughly . how embarrassing to have been such an arrogant young lefty ! the goons who shut down jensen ’ s talk may have had an influence on my life . it took me 15 years to realize that jensen was right , and that i and the goons were wrong . surely , my eyes would have been opened sooner if jensen had been able to speak , and i had heard the calm , factual , talk he would surely have given . the primacy of datauntil 1967 , when he was 43 years old , arthur jensen believed that differences in iq were almost entirely determined by environment . he had received a phd in psychology from columbia in 1950 , had worked with hans eysenck in london from 1956 to 1958 and also in 1964 , and had become a full professor at uc berkeley in 1966 . he had studied retarded children with iqs lower than 75 and had found racial differences in patterns of mental disability . still , he held conventional views . in 1967 , jensen received a guggenheim fellowship to study at the center for the advanced study in the behavioral sciences in palo alto , california , where he planned to do research for a book about how cultural deprivation depresses the intelligence of minorities . at the center he met a geneticist who persuaded him to study the genetics of intelligence , and this completely changed his views . instead of writing a book , he wrote his famous february 1969 article for the harvard educational review , “ how much can we boost iq and scholastic achievement ? ” in this 123-page article , he laid the foundation for a correct understanding of intelligence : iq tests are valid and reliable , they are not biased against minorities , social mobility means that the genes for high iq are concentrated in higher social strata , and there is a substantial genetic contribution to both individual and group differences in intelligence . there was an immediate explosion ( the best account is roger pearson , race , intelligence and bias in academe , scott-townsend publishers , 1991 ) . the board of harvard educational review came under so much pressure it stopped making reprints of the article—not even jensen could get any . it explained this was because the article “ presents a view of intelligence that we feel must be read in the context of expert discussion from other psychologists and geneticists . ” in many libraries , vandals tore the article out of the magazine and destroyed it . leftists on campus called for jensen to be fired—and worse . in july of the same year , martin deutsch ( 1926-2002 ) , who was involved in setting up head start , made a speech at michigan state university in which he claimed that jensen ’ s article contained “ 53 major errors or misinterpretations . ” this claim was gobbled up by the left despite deutsch ’ s refusal to say what the errors were . in 1973 , he admitted that the “ 53 errors ” was an off-the-cuff answer to a question from the audience , and that he had no idea the claim would be trumpeted by egalitarians . yale was not the only place where jensen was silenced , and police protected him several times from howling mobs that rushed the podium . as psychologist sandra scarr has written , “ i learned what it is like to be spat upon and to put my body on the line to get art out of a university of minnesota auditorium . it was shocking and frightening , as surely the radicals intended . . . . ” at home in berkeley , jensen received so many vicious telephone calls—many late at night—that for a time his family routed all calls through the police station . the police advised him to move out of his house , and he stayed with friends . there were threats against the jensens ’ 11-year-old daughter , and for almost a year the police warned her not to walk the two blocks to the school bus . for several years , jensen filed his movements in advance with the campus police . if he needed to go somewhere , two officers showed up to accompany him . one year , two plain-clothes men attended his class to keep an eye out for thugs . jensen was always cheerful in the face of hatred , but he was bothered by its effect on others : jensen ’ s persecution continued for years . in 1977 he went on what was to be a lecture tour of eight australian universities , along with hans eysenck of the university of london institute of psychiatry . the men were not even going to speak about race—only about iq , personality , and learning—but the left found this intolerable . at his first stop , the university of melbourne , demonstrators tried to keep people out of the lecture hall . when jensen began to speak , they banged on metal bins and chanted : “ what do we want ? jensen ! how do we want him ? dead ! ” jensen could not be heard over the din , and escaped to a basement room , where he continued his talk through a video link to the lecture hall . the lefties then broke into the basement room and ended the talk . after this debacle , three of the other universities canceled jensen ’ s talks outright , and several others allowed attendance by invitation only . only at the university of adelaide was he able to give a public lecture to a packed house . throughout this period , jensen continued to write journal articles and books . he published genetics and education in 1972 and educability and group differences in 1973 . his massive , 800-page bias in mental testing , published in 1980 , demolished the then-fashionable view that iq tests were biased against women , minorities , and poor people . it was so successful among scholars that his publishers urged him to write a popular version , straight talk about mental tests , which appeared in 1981 . i meet arthur jensenby the time of my first meeting with jensen in 1992 , he was a giant in his field , with more publications and citations than virtually anyone else in psychology . he graciously agreed to give me an interview , which went on for several hours and ranged widely over forbidden subjects . jensen told me that by then the hostility had waned and that he was living a normal life . he assured me that his students were surprised at nothing he taught them ; that they could not understand what all the shouting had been about in the old days . when we were not recording , we talked of many things , and i discovered that jensen was like all genuinely accomplished men i have met : he had striking insights on subjects in many fields , not just his own . also , he was not angry at his attackers ; just baffled . why couldn ’ t they just look at the data ? there is no doubt that jensen , with help from such people as hans eysenck , philippe rushton , richard lynn , linda gottfredson , helmuth nyborg , and michael levin , eventually convinced the experts that genes account for 50 to 80 percent of variation in individual iq and contribute substantially to group variation—but they never managed to convince the media . by the mid 1990s , jensen was hard at work on what was to be his crowning achievement , the g factor , but could not find a publisher . a deep chill had fallen over the book industry , and methuen , jensen ’ s usual publisher , and the free press , which had published straight talk about mental testing , would not touch the g factor . jensen had to settle for praeger publilshers , which had a reputation for accepting controversial titles but printing very few copies and selling them at very high prices . at 648 pages , the g factor was an extraordinary work of science , and praeger priced it at a relatively affordable $ 39 . 95 . it was a magisterial investigation of the nature of intelligence , the extent to which it is under genetic control , and its uneven distribution between individuals and groups . after i reviewed it , i was greatly flattered when jensen told me it was the best summary of the book anyone had written , and that he was making copies to send to associates and friends . however , he said the review contained an important error : i had written that when blacks and whites are matched for brain size they have the same iq , but that was a mistake . he explained that when blacks and whites are matched for iq they have the same brain size , but the relationship does not run the other way . there are other aspects of the brain besides size—neurofunction , brain metabolism , etc . —that influence intelligence , and the races appear to differ in these as well . therefore , for blacks to match whites in iq , equivalent brain size is a necessary but not a sufficient condition . i had always heard that jensen prized accuracy . jensen won admiration for his research and analysis , but he was loved for his character . always the gentleman , always the scientist , he never ran from controversy but he never sought it . in 2003 , in cooperation with phillipe rushton and linda gottfredson , jensen ’ s danish colleague helmuth nyborg published the scientific study of general intelligence : tribute to arthur r. jensen . this was a 642-page collection of articles that were both tributes to a great scientist and major contributions to the field . many authors noted that jensen ’ s true love was data . as professor nyborg wrote , “ if art is loyal to data he is entirely unfaithful to theory , ” noting that jensen would readily sacrifice his own theories if the data did not support them . “ give art a proper analysis and good data , ” he wrote , “ and his mind will follow , entirely independently of his previous views , ” adding , “ that is far more than one can say for most of his critics ! ” thomas j. bouchard , who directed the minnesota twin study , has said jensen ’ s scientific work is “ intensive , detailed , exhaustive , fair-minded , temperate , and courageous . ” like all who knew him , prof. bouchard was deeply impressed by jensen ’ s self possession : “ for someone who has been attacked so vituperatively , both in public and in the published literature , i continue to be astounded at the lack of anger and hostility in his replies and the astuteness with which he dissects the arguments of his critics . ” jensen ’ s former students added to the nyborg collection with comments such as : “ the finest examples of college teaching i have ever experienced , ” “ i can not imagine a better mentor , ” “ he showed astonishing patience with his critics , ” “ the toughest reviewer around , ” “ his own thirst for knowledge is infectious . ” in 2005 , together with philippe rushton , jensen published what i think is the best short , academic summary of iq research ever written : “ thirty years of research on race differences in cognitive ability . ” by then , however , jensen was suffering from parkinson ’ s disease . he continued to publish , but his output declined . arthur jensen died on october 22 . his family kept the event quiet , but the news has now leaked out . when a man of his stature dies , even an enemy establishment is compelled to take notice , and it will be edifying to read the flummery that is sure to appear . the major papers will certainly not admit it , but arthur jensen was a great scientist and a man of great dignity , even nobility . in a sane world , he would have been a serious contender for a nobel prize . that his death should follow so soon upon that of his eminent colleague and friend , philippe rushton , only compounds the terrible loss that science—and mankind—have suffered . topics : race and intelligence , racial differences , science and genetics   \n",
       "calderon2021_29                                                                                                                                                                                                                                                                                                                                                                                                                                                                                                                                                                                                                                                                                                                                                                                                                                                                                                                                                                                                                                                                                                                                                                                                                                                                                                                                                                                                                                                                                                                                                                                                                                                                                                                                                                                                                                                                                                                                                                                                                                                                                                                                                                                                                                                                                                                                                                                                                                                                                                                                                                                                                                                                                                                                                                                                                                                                                                                                                                                                                                                                                                                                                                                                                                                                                                                                                                                                                                                                                                                                                                                                                                                                                                                                                                                                                                                                                                                                                                                                                                                                                                                                                                                                                                                                                                                                                                                                                                                                                                                                                                                                                                                                                                                                                                                                                                                                                                                                                                                                                                                                                                                                                                                                                                                                                                                                                                                                                                                                                                                                                                                                                                                                                                                                                                                                                                                                                                                                                                                                                                                                                                                                                                                                                                                                                                                                                                                                                                                                                                                                                                                                                                                                                                                                                                                                                                                                                                                                                                                                                                                                                                                                                                                                                                                                                                                                                                                                                                                                                                                                                                                                                                                                                                                                                                                                                                                                                                                                                                                                                                                                                                                                                                                                                                                                                                                                                                                                                                                                                                                                                                                                                                                                                                                                                                                                                                                                                                                                                                                                                                                                                                                                                                                                                                                                                                                                                                                                                                                                                                                                                                                                                                                                                                                                                                                                                                                                                                                                                                                                                                                                                                                                                                                                                                                                                                                                                                                                                                                                                                                                                                                                                                                                                                                                                                                                                                                                                                                                                                                                                                                                                                                                                                                                                                                                                                                                                                                                                                                                                                                                                                                                                                                                                                                                                                                                                                                                                                                                                                                                                                                                                                                                                                                                                                                                                                                                                               a gun problem or a race problem ? [ editor ’ s note : this episode is available for download here . ] topics : crime , liberal myths   \n",
       "calderon2021_24349                                                                                                                                                                                                                                                                                                                                                                                                                                                                                                                                                                                                                                                                                                                                                                                                                                                                                                                                                                                                                                                                                                                                                                                                                                                                                                                                                                                                                                                                                                                                                                                                                                                                                                                                                                                                                                                                                                                                                                                                                                                                                                                                                                                                                                                                                                                                                                                                                                                                                                                                                                                                                                                                                                                                                                                                                                                                                                                                                                                                                                                                                                                                                                                                                                                                                                                                                                                                                                                                                                                                                                                                                                                                                                                                                                                                                                                                                                                                                                                                                                                                                                                                                                                                                                                                                                                                                                                                                                                                                                                                                                                                                                                                                                                                                                                                                                                                                                                                                                                                                                                                                                                                                                                                                                                                                                                                                                                                                                                                                                                                                                                                                                                                                                                                                                                                                                                                                                                                                                                                                                                                                                                                                                                                                                                                                                                                                                                                                                                                                                                                                                                                                                                                                                                                                                                                                                                                                                                                                                                                                                                                                                                                                                                                                                                                                                                                                                                                                                                                                                                                                                                                                                                                                                                                                                                                                                                                                                                                                                                                                                                                                                                                                                                                                                                                                                                                                                                                                                                                                                                                                                                                                                                                                                                                                                                                                                                                                                                                                                                                                                                                                                                                                                                                                                                                                                                                                                                                                                                                                                                                                                                                                                                                                                                                                                                                                                                                                                                                                                                                                                                                                                                                                                                                                                                                                                                                                                                                                                                                                                                                                                                                                                                                                                                                                                                                                                                                                                                                                                                                                                                                                                                                                                                                                                                                                                                                                                                                                                                                                                                                                                                                                                                                                                                                                                                                                                                                                                                                                                                                                                                                                                                                                                                                                                                                                                                                                            a gun problem or a race problem ? [ editor ’ s note : this episode is available for download here . ] topics : crime , liberal myths   \n",
       "calderon2021_23539                                                                                                                                                                                                                                                                                                                                                                                                                                                                                                                                                                                                                                                                                                                                                                                                                                                                                                                                                                                                                                                                                                                                                                                                                                                                                                                                                                                                                                                                                                                                                                                                                                                                                                                                                                                                                                                                                                                                                                                                                                                                                                                                                                                                                                                                                                                                                                                                                                                                                                                                                                                                                                                                                                                                                                                                                                                                                                                                                                                                                                                                                                                                                                                                                                                                                                                                                                                                                                                                                                                                                                                                                                                                                                                                                                                                                                                                                                                                                                                                                                                                                                                                                                                                                                                                                                                                                                                                                                                                                                                                                                                                                                                                                                                                                                                                                                                                                                                                                                                                                                                                                                                                                                                                                                                                                                                                       a maniac is running our foreign policy ! ( it ’ s not trump ) judge robart ’ s veto of trump ’ s travel ban notwithstanding , there is not the slightest question but that the president , in his sole discretion , can choose to admit or exclude any foreigners he likes , based on “ the interests of the united states . ” the clinton administration used the executive branch ’ s broad power over immigration to send a 6-year-old boy back to a communist dictatorship . the courts were completely powerless to stop him . as explained by the federal appellate court that ruled on elian gonzalez ’ s asylum application : “ it is the duty of the congress and of the executive branch to exercise political will , ” and “ in no context is the executive branch entitled to more deference than in the context of foreign affairs , ” which includes immigration . the court acknowledged that elian might well be subjected to “ re-education , ” “ communist indoctrination ” and “ political manipulation . ” ( then again , so would enrolling him at sidwell friends . ) it didn ’ t matter ! sending little boys back to communist dictatorships was the policy of the clinton administration . the obama administration ’ s immigration policy was to ensure that millions of poverty-stricken foreigners would come here and help turn our country into a mexican version of pakistan . when arizona merely tried to enforce the federal immigration laws being ignored by the obama administration , the entire media erupted in rage at this incursion into the majestic power of the president over immigration . they said it was like living in nazi germany ! the most reviled section of the act , melodramatically called the “ papers please ” law , was upheld by the supreme court . but the other parts , allowing state officials to enforce federal immigration laws , were ruled unconstitutional . a president ’ s policy choice to ignore immigration laws supersedes a state ’ s right to enforce them . the court conceded that hundreds of thousands of illegal aliens were arrested in arizona each year , that they were responsible for “ a disproportionate share of serious crime , ” and that illegals constituted nearly 6 percent of arizona ’ s population . but arizona was powerless to enforce laws on the books — if those laws happened to be about immigration . the president ’ s authority over immigration is absolute and exclusive , as part of his authority over foreign policy . to review : — when the president ’ s immigration policy is to promote international communism : the president wins . — when the president ’ s immigration policy is to transform america into a different country : the president wins . — but when the president ’ s immigration policy is to protect americans : some piss-ant judge announces that his authority exceeds that of the president . this is exactly what i warned you about in adios , america : the left ’ s plan to turn our country into a third world hellhole . nothing trump does will be met with such massive resistance as his immigration policies . the left used to attack america by spying for stalin , aiding our enemies , murdering cops and blowing up buildings . but , then liberals realized , it ’ s so much more effective to just do away with america altogether ! teddy kennedy gave them their chance with the 1965 immigration act . since then , we ’ ve been taking in more than a million immigrants a year , 90 percent from comically primitive cultures . they like the welfare , but have very little interest in adopting the rest of our culture . in many parts of the country , you ’ re already not living in america . just a few more years , and the transformation will be complete . there will be a north american landmass known as “ the united states , ” but it won ’ t be our country . the only thing that stands between america and oblivion is a total immigration moratorium . we are well past the point of quick fixes — as judge robart ’ s delusional ruling proves . the judiciary , both political parties , the media , hollywood , corporate america and approximately 1 million lobbying groups are all working frantically to bring the hardest cases to our shores . left-wing traitors , who used to honeymoon in cuba and fight with peasant revolutionaries in peru , toil away , late into the night , to ensure that genocidal rwandans can move to america and immediately start collecting food stamps , medicaid and social security . no matter how clearly laws are written , government bureaucrats connive to import people from countries that a majority of americans would not want to visit , much less become . federal judges issue lunatic rulings to ensure that there will never be a pause in the transformation of america . congress could write laws requiring immigrants to pay taxes , learn english , forgo welfare and have good moral character . it could write laws giving the president authority to exclude aliens in the public interest . except it already has . those laws were swept away by ins officials , federal judges and democratic administrations — under ferocious pressure from america-hating , left-wing groups . the country will not be safe until the following outfits are out of business : the aclu ’ s immigrants ’ rights project ; the national immigration forum ; the national immigration law center ; the national immigration project of the national lawyers guild ; the national network for immigrant and refugee rights ; the office of migration and refugee services ; the american immigration law foundation ; the american immigration lawyers association ; the border information and outreach service ; atlas : diy ; the catholic legal immigration network ; the clearinghouse for immigrant education ; the farmworker justice fund ; grantmakers concerned with immigrants and refugees ; the immigrant legal resource center ; the international center for migration , ethnicity and citizenship ; the lesbian and gay immigration rights task force ; the lutheran immigration and refugee service ; the national association for bilingual education ; the national clearinghouse on agricultural guest worker issues ; the national coalition for dignity and amnesty for undocumented immigrants ; the national coalition for haitian rights ; the national council of la raza ; and the national farm worker ministry . and that ’ s only a small fraction of the anti-american immigration groups assiduously dragging the third world to our shores — while you were busy working . look at that list — look at judge robart ’ s ruling ! — and ask yourself : is it possible that anything short of a total immigration moratorium can save this country ? only when there is no immigration to bellyache about will these nuts be forced to think of a new way to destroy america . topics : donald trump , immigration , immigration law , immigration law enforcement   \n",
       "...                                                                                                                                                                                                                                                                                                                                                                                                                                                                                                                                                                                                                                                                                                                                                                                                                                                                                                                                                                                                                                                                                                                                                                                                                                                                                                                                                                                                                                                                                                                                                                                                                                                                                                                                                                                                                                                                                                                                                                                                                                                                                                                                                                                                                                                                                                                                                                                                                                                                                                                                                                                                                                                                                                                                                                                                                                                                                                                                                                                                                                                                                                                                                                                                                                                                                                                                                                                                                                                                                                                                                                                                                                                                                                                                                                                                                                                                                                                                                                                                                                                                                                                                                                                                                                                                                                                                                                                                                                                                                                                                                                                                                                                                                                                                                                                                                                                                                                                                                                                                                                                                                                                                                                                                                                                                                                                                                                                                                                                                                                                                                                                                                                                                                                                                                                                                                                                                                                                                                                                                                                                                                                                                                                                                                                                                                                                                                                                                                                                                                                                                                                                                                                                                                                                                                                                                                                                                                                                                                                                                                                                                                                                                                                                                                                                                                                                                                                                                                                                                                                                                                                                                                                                                                                                                                                                                                                                                                                                                                                                                                                                                                                                                                                                                                                                                                                                                                                                                                                                                                                                                                                                                                                                                                                                                                                                                                                                                                                                                                                                                                                                                                                                                                                                                                                                                                                                                                                                                                                                                                                                                                                                                                                                                                                                                                                                                                                                                                                                                                                                                                                                                                                                                                                                                                                                                                                                                                                                                                                                                                                                                                                                                                                                                                                                                                                                                                                                                                                                                                                                                                                                                                                                                                                                                                                                                                                                                                                                                                                                                                                                                                                                                                                                                                                                                                                                                                                                                                                                                                                                                                                                                                                                                                                                                                                                                                                                                                                                                                                                                                                            ...   \n",
       "calderon2021_6617                                                                                                                                                                                                                                                                                                                                                                                                                                                                                                                                                                                                                                                                                                                                                                                                                                                                                                                                                                                                                                                                                                                                                                                                                                                                                                                                                                                                                                                                                                                                                                                                                                                                                                                                                                                                                                                                                                                                                                                                                                                                                                                                                                                                                                                                                                                                                                                                                                                                                                                                                                                                                                                                                                                                                                                                                                                                                                                                                                                                                                                                                                                                                                                                                                                                                                                                                                                                                                                                                                                                                                                                                                                                                                                                                                                                                                                                                                                                                                                                                                                                                                                                                                                                                                                                                                                                                                                                                                                                                                                                                                                                                                                                                                                                                                                                                                                                                                                                                                                                                                                                                                                                                                                                                                                                                                                                                                                                                                           “ conservatives ” blast trump their writers then get to work . mr. trump is a “ con man ” ( mona charen ) , a “ know-nothing demagogue ” who suffers from “ raging egomania ” ( mark helprin ) , “ the politicized american id ” ( john podhoretz ) , a “ glib egomaniac ” and “ bombastic showoff ” ( thomas sowell ) , a “ political conman ” ( katie pavlich ) , a “ narcissist ” ( cal thomas ) , a harbinger of “ two-bit caesarism ” ( william kristol ) , a peddler of “ know-nothing protectionism , ” “ nativism , ” and “ one-man rule ” ( david boaz ) , etc . you know you ’ ve won the argument when your opponents are reduced to name-calling . but there are a few substantive complaints amidst the roaring . one is that mr. trump is too ignorant to run the country . according to mark helprin , mr. trump “ doesn ’ t know the constitution , history , law , political philosophy , nuclear strategy , diplomacy , defense , economics beyond real estate , ” and so on . this is true of almost the entire political class . ronald reagan and george w. bush were genial ignoramuses , but reagan is a hero to national review . andrew mccarthy sniffs that mr. trump doesn ’ t know who hassan nasrallah is . i doubt mike huckabee , jim gilmore , chris christie or john kasich know who he is either , and ben carson thinks the pyramids were built to store grain . several nr writers think mr. trump wants to be a dictator . david boaz of cato says that mr. trump “ is effectively vowing to be an american mussolini . . . and govern by fiat . ” mr. trump is certainly full of promises about what he will do , but so is every other candidate . they say “ i will ( fill in the blank ) . ” they don ’ t say “ i will persuade congress to pass legislation that will ( fill in the blank ) . ” many of these “ conservatives ” say they worship limited government and the separation of powers , and perhaps they do , but i can ’ t think of a recent president who hasn ’ t attacked another country without a declaration of war , and barack obama has run wild with executive orders . the nr “ conservatives ” may not like that , but why are they angrier about what mr. trump hasn ’ t done than what others have done ? according to their precious constitution , the supreme court and the threat of impeachment will curb mr. trump ’ s imagined excesses . but donald trump is guilty of worse than ceasarism and bombast . national review considers itself the tabernacle of conservatism , and its high priests have declared that mr. trump is not a conservative . they say he ’ s a closet liberal on abortion , gun control , socialized medicine , and big government . for me and for millions of americans , the answer to that is a resounding “ who cares ? ” most of the time , donald trump doesn ’ t even claim to be a conservative . he cares deeply about the well-being and happiness of americans , and is the first major candidate since patrick buchanan who understands that south-of-the-border illiterates don ’ t make good americans . so long as he sticks to that message it won ’ t make any difference whether he ’ s “ liberal ” or “ conservative ” or a conman or a showoff or any of the other names national review calls him . people of all political persuasions will vote for him . there is nothing partisan about wanting your people to survive and prosper . what does the saying “ politics stops at the water ’ s edge ” mean but that when the survival of the nation is threatened we set aside disagreements and fight the common enemy . our survival is threatened , and mr. trump is the only candidate who seems to understand that . but nr ’ s sniffing about mr. trump not being a conservative highlights the most inexplicable and pathetic thing about “ conservatives . ” they don ’ t realize that the one thing that must absolutely be conserved is something they pride themselves on pretending doesn ’ t matter : the race of people who make what they call conservatism even possible . do they really believe that mexicans and haitians and guatemalans and vietnamese and bangladeshis and chinese are ever going to be made to care about the second amendment or madisonian democracy or limited government ? this is why these people are cuckolded conservatives or “ cuckservatives . ” just like a man with a faithless wife , they are lavishing care on somebody else ’ s children . their beautiful constitution and elegant libertarianism are wasted on third-worlders , for whom these things are alien and meaningless . the institutions national review thinks it is preserving will be kicked aside by people whose ancestors had no hand in building them . what cuckservatives are determined not to understand is that without the historic american people , there is no america , no western culture , no civilization fit for white men . anyone who stands for the european people and traditions of america is our comrade , whatever his politics . there is something grotesque about people who sacrifice americans to abstractions , who put principle over people . and if they think that pronouncing donald trump “ not a conservative ” will move the electoral balance by even a hair they are deluded . do they imagine people all across america saying to themselves , “ i was going to vote for trump , but nr says he ’ s not a conservative so i guess i ’ ll vote for jeb bush ” ? liberals are just as deluded about the insignificance of race , of course . their vision of the perfect society requires a population of danes , not mexicans . the only part of “ liberalism ” third-worlders understand is government handouts . feminism , gay rights , “ diversity , ” “ tolerance , ” environmentalism , yoga and fruit-juice drinking–you don ’ t see much of that in “ communities of color . ” but liberals are at least consistent in their madness . they want to change everything , so it is more excusable that they not realize that changing the population makes their kind of change impossible . but back to the anti-trump blasts , i almost forgot : not one of the nr 22 dared call mr. trump a “ racist ” on the record , but there were plenty of hints : “ trump ’ s vitriolic–and often racist and sexist language–language ” ( russell moore ) , “ the unavoidable issue of racism ” ( michael medved ) , and “ racial and religious scapegoating ” ( david boaz ) . keep it up , national review . you ’ re beginning to sound just like the washington post ; dana milbank titled one of his columns “ donald trump is a bigot and a racist . ” when both national review and the washington post agree that the republican front-runner and probable nominee–a man who could well become the president of the united states–is a “ racist , ” we know that a new day is dawning in america . topics : donald trump , elections , immigration   \n",
       "calderon2021_12                                                                                                                                                                                                                                                                                                                                                                                                                                                                                                                                                                                                                                                                                                                                                                                                                                                                                                                                                                                                                                                                                                                                                                                                                                                                                                                                                                                                                                                                                                                                                                                                                                                                                                                                                                                                                                                                                                                                                                                                                                                                                                                                                                                                                                                                                                                                                                                                                                                                                                                                                                                                                                                                                                                                                                                                                                                                                                                                                                                                                                                                                                                                                                                                                                                                                                                                                                                                                                                                                                                                                                                                                                                                                                                                                                                                                                                                                                                                                                                                                                                                                                                                                                                                                                                                                                                                                                                                                                                                                                                                                                                                                                                                                                                                                                                                                                                                                                                                                                                                                                                                                                                                                                                                                                                                                                                                                                                                                                                                                                                                                                                                                                                                                                                                                                                                                                                                                                                                                                                                                                                                                                                                                                                                                                                                                                                                                                                                                                                                                                                                                                                                                                                                                                                                                                                                                                                                                                                                                                                                                                                                                                                                                                                                                                                                                                                                                                                                                                                                                                                                                                                                                                                                                                                                                                                                                                                                                                                                                                                                                                                                                                                                                                                                                                                                                                                                                                                                                                                                                                                                                                                                                                                                               “ our values ” ? whose values ? in the barack obama universe , the carnage in boston , orlando , san bernardino , fort-hood and chattanooga dwarfs when compared to the importance of preserving “ our values . ” ( by which obama means his values , hillary clinton ’ s values , angela merkel ’ s values , sally yates ’ s values , chucky schumer ’ s values , jeff bezos ’ s values , john mcmussolini ’ s values , lindsey graham ’ s values . ) when a politician pules about “ the values that make our country great , ” to quote mrs. clinton , chances are they mean multiculturalism , pluralism , wide-swung borders , islam as peace , communities divided in diversity as a net positive , and the constitution—it mandates all the above , just ask ruth bader ginsburg—as a living , breathing , mutating philosophical malignancy . for them , “ protecting ” the abstraction that is “ our way of life ” trumps the protection of real individual lives . “ we must guard against a weakening of the values that make us who we are , ” dissembled obama in the waning weeks before he was gone . the empty phrase is meant to make the sovereign citizen—you—forget that government ’ s most important role , if not its only role , is to protect individual life . this is something president trump grasps on a gut level . in his last few addresses , obama promised to speak up on “ certain issues , ” in times when he imagined “ our core values may be at stake . ” likewise , in delivering her control-alt-delete speech against the deplorables , clinton had asserted that “ our country is great because we ’ re good . … donald trump disregards the values that make our country great . ” the two ’ s group-think , notwithstanding , only individuals can be virtuous , not collectives . self-government , and not imposed government , implies that society , and not the state , is to develop value systems . the state ’ s role is to protect citizens as they go about their business peacefully , living in accordance with their peaceful values . when you hear an appeal to “ permanent values ” — ” the values that make our country great , ” to quote clinton—know you are dealing with world-class crooks . these crooks want to swindle you out of the freedom to think and believe as you wish . for in the classical conservative and libertarian traditions , values are private things , to be left to civil society—the individual , family and church—to practice and police . the american government is charged purely with upholding the law , no more . why so ? because government has police and military powers with which to enforce its “ values . ” a free people dare not entrust such an omnipotent entity with policing values , at home or abroad , because values enforced are dogma . when incontestable majorities call on government to curb islamic and other in-migration because this imperils american lives , president trump ’ s unswerving opponents—the obama , clinton , ryan , mccain , graham , schumer and media mafia—will invariably intone , “ that ’ s not who we are . ” when you hear that manipulative mantra , tell them to shut up , mind their own business , and stick to their constitutional mandate to protect the people , not police their minds . remember that through an appeal to values , the state aggrandizes itself . a limited government , serving an ostensibly free people , must thus never enforce values . because our form of government is incompatible with the enforcement of values , the american people can ’ t and mustn ’ t welcome into their midst civilizations whose values are inimical to the survival of their own . topics : donald trump , multiculturalism and diversity   \n",
       "calderon2021_24012                                                                                                                                                                                                                                                                                                                                                                                                                                                                                                                                                                                                                                                                                                                                                                                                                                                                                                                                                                                                                                                                                                                                                                                                                                                                                                                                                                                                                                                                                                                                                                                                                                                                                                                                                                                                                                                                                                                                                                                                                                                                                                                                                                                                                                                                                                                                                                                                                                                                                                                                                                                                                                                                                                                                                                                                                                                                                                                                                                                                                                                                                                                                                                                                                                                                                                                                                                                                                                                                                                                                                                                                                                                                                                                                                                                                                                                                                                                                                                                                                                                                                                                                                                                                                                                                                                                                                                                                                                                                                                                                                                                                                                                                                                                                                                                                                                                                                                                                                                                                                                                                                                                                                                                                                                                                                                                                                                                                                                                                                                                                                                                                                                                                                                                                                                                                                                                                                                                                                                                                                                                                                                                                                                                                                                                                                                                                                                                                                                                                                                                                                                                                                                                                                                                                                                                                                                                                                                                                                                                                                                                                                                                                                                                                                                                                                                                                                                                                                                                                                                                                                                                                                                                                                                                                                                                                                                                                                                                                                                                                                                                                                                                                                                                                                                                                                                                                                                                                                                                                                                                                                                                                                                                                            “ our values ” ? whose values ? in the barack obama universe , the carnage in boston , orlando , san bernardino , fort-hood and chattanooga dwarfs when compared to the importance of preserving “ our values . ” ( by which obama means his values , hillary clinton ’ s values , angela merkel ’ s values , sally yates ’ s values , chucky schumer ’ s values , jeff bezos ’ s values , john mcmussolini ’ s values , lindsey graham ’ s values . ) when a politician pules about “ the values that make our country great , ” to quote mrs. clinton , chances are they mean multiculturalism , pluralism , wide-swung borders , islam as peace , communities divided in diversity as a net positive , and the constitution—it mandates all the above , just ask ruth bader ginsburg—as a living , breathing , mutating philosophical malignancy . for them , “ protecting ” the abstraction that is “ our way of life ” trumps the protection of real individual lives . “ we must guard against a weakening of the values that make us who we are , ” dissembled obama in the waning weeks before he was gone . the empty phrase is meant to make the sovereign citizen—you—forget that government ’ s most important role , if not its only role , is to protect individual life . this is something president trump grasps on a gut level . in his last few addresses , obama promised to speak up on “ certain issues , ” in times when he imagined “ our core values may be at stake . ” likewise , in delivering her control-alt-delete speech against the deplorables , clinton had asserted that “ our country is great because we ’ re good . … donald trump disregards the values that make our country great . ” the two ’ s group-think , notwithstanding , only individuals can be virtuous , not collectives . self-government , and not imposed government , implies that society , and not the state , is to develop value systems . the state ’ s role is to protect citizens as they go about their business peacefully , living in accordance with their peaceful values . when you hear an appeal to “ permanent values ” — ” the values that make our country great , ” to quote clinton—know you are dealing with world-class crooks . these crooks want to swindle you out of the freedom to think and believe as you wish . for in the classical conservative and libertarian traditions , values are private things , to be left to civil society—the individual , family and church—to practice and police . the american government is charged purely with upholding the law , no more . why so ? because government has police and military powers with which to enforce its “ values . ” a free people dare not entrust such an omnipotent entity with policing values , at home or abroad , because values enforced are dogma . when incontestable majorities call on government to curb islamic and other in-migration because this imperils american lives , president trump ’ s unswerving opponents—the obama , clinton , ryan , mccain , graham , schumer and media mafia—will invariably intone , “ that ’ s not who we are . ” when you hear that manipulative mantra , tell them to shut up , mind their own business , and stick to their constitutional mandate to protect the people , not police their minds . remember that through an appeal to values , the state aggrandizes itself . a limited government , serving an ostensibly free people , must thus never enforce values . because our form of government is incompatible with the enforcement of values , the american people can ’ t and mustn ’ t welcome into their midst civilizations whose values are inimical to the survival of their own . topics : donald trump , multiculturalism and diversity   \n",
       "calderon2021_14716                                                                                                                                                                                                                                                                                                                                                                                                                                                                                                                                                                                                                                                                                                                                                                                                                                                                                                                                                                                                                                                                                                                                                                                                                                                                                                                                                                                                                                                                                                                                                                                                                                                                                                                                                                                                                                                                                                                                                                                                                                                                                                                                                                                                                                                                                                                                                                                                                                                                                                                                                                                                                                                                                                                                                                                                                                                                                                                                                                                                                                                                                                                                                                                                                                                                                                                                                                                                                                                                                                                                                                                                                                                                                                                                                                                                                                                                                                                                                                                                                                                                                                                                                                                                                                                                                                                                                                                                                                                                                                                                                                                                                                                                                                                                                                                                                                                                                                                                                                                                                                                                                                                                                                                                                                                                                                                                                                                                                                                                                                                                                                                                                                                                                                                                                                                                                                              “ we ’ ve never been weaker and never more hated ” all the speakers bemoaned the rise of donald trump and of populist groups in europe . all said the “ refugees ” were fueling the right in europe , and that the dwindling white majority in the united states backs mr. trump . they also voiced a growing fear of the internet that gives dissenters a voice . the meeting had an atmosphere of pessimism and gloom that was an almost perfect mirror-image of the optimism and energy of the recent american renaissance conference . the two professors showed slides with facts and figures and photos of pegida marches and the like , while miss beirich spoke without rising from her stool . charles lane , who writes editorials such as “ the dangerous nihilism of trump voters , ” was the moderator , feeding softball questions to the other three . of the 60 or so people in the audience , 45 seemed to be retired white people , with a handful of non-whites and young folks . perhaps that was to be expected ; the four speakers were old white people , too . they seem to have forgotten their obligation to promote “ role models . ” professor michael minkenberg , who teaches at a university in frankfurt , spoke first . he noted that the success of populist parties in europe varies widely , and that they can gain or lose as much as 20 percent of the electorate in a single election . he noted that this is especially pronounced in eastern europe , where political parties are less stable , and may appear and disappear from one election to the next . these oscillations make it very hard to predict what might happen next , he said , but stated the obvious in saying that eastern europe is friendlier to these parties than the west . he expressed deep disgust for the current regimes in poland and hungary , but said nothing about russia . of all the presentations , professor minkenberg ’ s was the least vituperative and the most factual . heidi beirich spoke exclusively about donald trump , repeatedly expressing bewilderment at how “ he gets away with it . ” she said no other candidate in modern times has been able to say such offensive things , associate with such hateful people , and hold such hateful views , yet still be a viable national candidate . she said one had to go all the way back to george wallace in the ’ 60s to find anything similar . she seems to have missed the ’ 80s and ’ 90s , when pat buchanan ’ s and david duke ’ s candidacies were derailed by hostile media . she ended on a pessimistic note , saying that nothing seems to stop the donald . professor thomas grumke , who teaches at a university in north rhine-westphalia , focused specifically on germany . his main point was that although “ far right ” political parties are not doing very well , “ far right ” social movements such as pegida are . he noted that young people were getting involved , but suggested that this might be only youthful rebellion , and that they may grow out of it . he spoke with great condescension towards anyone who could be attracted to the “ far right . ” professor thomas grumke criticizes his fellow germans for worrying about “ refugee ” crime . the question and answer period was more interesting than the presentations . a south asian man stood up and berated the panelists . he noted that no one on the panel represented the right , or had even tried to understand its perspective . he further noted that “ experts ” like them had been wrong about everything so far this election , so why should anyone listen to them ? at the end , he said he had voted for le pen and was a donald trump volunteer . halfway through the question , professor grumke interrupted him , snidely asking , “ how can you say i was wrong ? we don ’ t know each other . ” as an answer , he sneeringly asked , “ are you an immigrant to this country ? yes ? okay , good luck to you . ” the panelists addressed none of his points and immediately took another question . professor grumke went on to mock the pro-trump questioner a few minutes later , saying : without a hint of irony , miss beirich , whose job is to suppress dissent , lamented that no one talks to people with different viewpoints these days , and that this leads to a loss of civility . she added the usual jab at the racialist right : “ we joke in my office that if we could get these people jobs and girlfriends we might be able to neutralize the movement . ” professor grumke complained about the internet : the audience laughed happily at this caricature . a member of the audience asked : charles lane of the washington post replied : he talked about a reporter who apparently needs bodyguards when she covers populist rallies in germany , and that reporters at trump events have felt unsafe . he then returned to his real gripe : how tragic it must be to feel that you are being beaten by overly emotional , unemployed , basement-dwelling losers with a knack for twitter . needless to say , this is what fuels the censorship of the right on facebook and twitter . the panelists blasted twitter , in particular , and for good reason . dissidents have long known that twitter is a more useful platform than facebook , and donald trump ’ s twitter feed has become something of a legend , with entire essays about it in politico . besides confirming my suspicion of just how much liberals hate us , and how much they hate the marketplace of ideas that comes with the internet , there was one other highlight . to my surprise , miss beirich apparently knows about robert putnam ’ s research on the damaging effects of diversity . she never mentioned him directly , but she must have been thinking of him : on its own , it ’ s not gon na happen ? what is “ it ” ? a multi-culti america ? a miscegenated planet ? no matter how high the costs of diversity–which miss beirich concedes are real– “ it ” must be had anyway . since diversity has bad consequences , government must forcibly make it work so america can get to “ it . ” that ’ s why we need the southern poverty law center , “ hate crimes ” laws , sensitivity training , race preferences , forced integration , “ role models , ” and the endless lies americans tell each other about race . diversity has to be made to work , so we can all get to “ it . ” and apparently the only thing stopping “ it ” is losers like us on the internet . topics : europe , rape , signs of hope   \n",
       "calderon2021_207                                                                                                                                                                                                                                                                                                                                                                                                                                                                                                                                                                                                                                                                                                                                                                                                                                                                                                                                                                                                                                                                                                                                                                                                                                                                                                                                                                                                                                                                                                                                                                                                                                                                                                                                                                                                                                                                                                                                                                                                                                                                                                                                                                                                                                                                                                                                                                                                                                                                                                                                                                                                                                                                                                                                                                                                                                                                                                                                                                                                                                                                                                                                                                                                                                                                                                                                                                                                                                                                                                                                                                                                                                                                                                                                                                                                                                                                                                                                                                                                                                                                                                                                                                                                                                                                                                                                                                                                                                                                                                                                                                                                                                                                                                                                                                                                                                                                                                                                                                                                                                                                                                                                                                                                                                                                                                                                                                                                                                                                                                                                                                                                                                                                                                                                                                                                                                                “ we ’ ve never been weaker and never more hated ” all the speakers bemoaned the rise of donald trump and of populist groups in europe . all said the “ refugees ” were fueling the right in europe , and that the dwindling white majority in the united states backs mr. trump . they also voiced a growing fear of the internet that gives dissenters a voice . the meeting had an atmosphere of pessimism and gloom that was an almost perfect mirror-image of the optimism and energy of the recent american renaissance conference . the two professors showed slides with facts and figures and photos of pegida marches and the like , while miss beirich spoke without rising from her stool . charles lane , who writes editorials such as “ the dangerous nihilism of trump voters , ” was the moderator , feeding softball questions to the other three . of the 60 or so people in the audience , 45 seemed to be retired white people , with a handful of non-whites and young folks . perhaps that was to be expected ; the four speakers were old white people , too . they seem to have forgotten their obligation to promote “ role models . ” professor michael minkenberg , who teaches at a university in frankfurt , spoke first . he noted that the success of populist parties in europe varies widely , and that they can gain or lose as much as 20 percent of the electorate in a single election . he noted that this is especially pronounced in eastern europe , where political parties are less stable , and may appear and disappear from one election to the next . these oscillations make it very hard to predict what might happen next , he said , but stated the obvious in saying that eastern europe is friendlier to these parties than the west . he expressed deep disgust for the current regimes in poland and hungary , but said nothing about russia . of all the presentations , professor minkenberg ’ s was the least vituperative and the most factual . heidi beirich spoke exclusively about donald trump , repeatedly expressing bewilderment at how “ he gets away with it . ” she said no other candidate in modern times has been able to say such offensive things , associate with such hateful people , and hold such hateful views , yet still be a viable national candidate . she said one had to go all the way back to george wallace in the ’ 60s to find anything similar . she seems to have missed the ’ 80s and ’ 90s , when pat buchanan ’ s and david duke ’ s candidacies were derailed by hostile media . she ended on a pessimistic note , saying that nothing seems to stop the donald . professor thomas grumke , who teaches at a university in north rhine-westphalia , focused specifically on germany . his main point was that although “ far right ” political parties are not doing very well , “ far right ” social movements such as pegida are . he noted that young people were getting involved , but suggested that this might be only youthful rebellion , and that they may grow out of it . he spoke with great condescension towards anyone who could be attracted to the “ far right . ” professor thomas grumke criticizes his fellow germans for worrying about “ refugee ” crime . the question and answer period was more interesting than the presentations . a south asian man stood up and berated the panelists . he noted that no one on the panel represented the right , or had even tried to understand its perspective . he further noted that “ experts ” like them had been wrong about everything so far this election , so why should anyone listen to them ? at the end , he said he had voted for le pen and was a donald trump volunteer . halfway through the question , professor grumke interrupted him , snidely asking , “ how can you say i was wrong ? we don ’ t know each other . ” as an answer , he sneeringly asked , “ are you an immigrant to this country ? yes ? okay , good luck to you . ” the panelists addressed none of his points and immediately took another question . professor grumke went on to mock the pro-trump questioner a few minutes later , saying : without a hint of irony , miss beirich , whose job is to suppress dissent , lamented that no one talks to people with different viewpoints these days , and that this leads to a loss of civility . she added the usual jab at the racialist right : “ we joke in my office that if we could get these people jobs and girlfriends we might be able to neutralize the movement . ” professor grumke complained about the internet : the audience laughed happily at this caricature . a member of the audience asked : charles lane of the washington post replied : he talked about a reporter who apparently needs bodyguards when she covers populist rallies in germany , and that reporters at trump events have felt unsafe . he then returned to his real gripe : how tragic it must be to feel that you are being beaten by overly emotional , unemployed , basement-dwelling losers with a knack for twitter . needless to say , this is what fuels the censorship of the right on facebook and twitter . the panelists blasted twitter , in particular , and for good reason . dissidents have long known that twitter is a more useful platform than facebook , and donald trump ’ s twitter feed has become something of a legend , with entire essays about it in politico . besides confirming my suspicion of just how much liberals hate us , and how much they hate the marketplace of ideas that comes with the internet , there was one other highlight . to my surprise , miss beirich apparently knows about robert putnam ’ s research on the damaging effects of diversity . she never mentioned him directly , but she must have been thinking of him : on its own , it ’ s not gon na happen ? what is “ it ” ? a multi-culti america ? a miscegenated planet ? no matter how high the costs of diversity–which miss beirich concedes are real– “ it ” must be had anyway . since diversity has bad consequences , government must forcibly make it work so america can get to “ it . ” that ’ s why we need the southern poverty law center , “ hate crimes ” laws , sensitivity training , race preferences , forced integration , “ role models , ” and the endless lies americans tell each other about race . diversity has to be made to work , so we can all get to “ it . ” and apparently the only thing stopping “ it ” is losers like us on the internet . topics : europe , rape , signs of hope   \n",
       "\n",
       "                    word_count       dataset                source     domain  \\\n",
       "id                                                                              \n",
       "calderon2021_23           2286  calderon2021  american_renaissance  long-form   \n",
       "calderon2021_20818        2286  calderon2021         daily_stormer  long-form   \n",
       "calderon2021_29             29  calderon2021  american_renaissance  long-form   \n",
       "calderon2021_24349          29  calderon2021         daily_stormer  long-form   \n",
       "calderon2021_23539        1222  calderon2021         daily_stormer  long-form   \n",
       "...                        ...           ...                   ...        ...   \n",
       "calderon2021_6617         1306  calderon2021         daily_stormer  long-form   \n",
       "calderon2021_12            683  calderon2021  american_renaissance  long-form   \n",
       "calderon2021_24012         683  calderon2021         daily_stormer  long-form   \n",
       "calderon2021_14716        1228  calderon2021         daily_stormer  long-form   \n",
       "calderon2021_207          1228  calderon2021  american_renaissance  long-form   \n",
       "\n",
       "                                   timestamp  num_words  \n",
       "id                                                       \n",
       "calderon2021_23    2012-11-01 00:00:00+00:00       2286  \n",
       "calderon2021_20818 2012-11-01 00:00:00+00:00       2286  \n",
       "calderon2021_29    2016-01-12 00:00:00+00:00         29  \n",
       "calderon2021_24349 2016-01-12 00:00:00+00:00         29  \n",
       "calderon2021_23539 2017-02-09 00:00:00+00:00       1222  \n",
       "...                                      ...        ...  \n",
       "calderon2021_6617  2016-01-26 00:00:00+00:00       1306  \n",
       "calderon2021_12    2017-02-04 00:00:00+00:00        683  \n",
       "calderon2021_24012 2017-02-04 00:00:00+00:00        683  \n",
       "calderon2021_14716 2016-05-25 00:00:00+00:00       1228  \n",
       "calderon2021_207   2016-05-25 00:00:00+00:00       1228  \n",
       "\n",
       "[472 rows x 7 columns]"
      ]
     },
     "execution_count": 8,
     "metadata": {},
     "output_type": "execute_result"
    }
   ],
   "source": [
    "pd.set_option('display.max_colwidth', None)\n",
    "print(ws_data.duplicated(subset=['text', 'dataset'], keep='first').sum())\n",
    "dups = ws_data[ws_data.duplicated(subset=['text', 'dataset'], keep=False)].sort_values('text')\n",
    "dups"
   ]
  },
  {
   "cell_type": "code",
   "execution_count": 9,
   "id": "42eae7fd-2e57-4f8c-953c-3cbd95f8c088",
   "metadata": {},
   "outputs": [
    {
     "data": {
      "text/plain": [
       "calderon2021    472\n",
       "Name: dataset, dtype: int64"
      ]
     },
     "execution_count": 9,
     "metadata": {},
     "output_type": "execute_result"
    }
   ],
   "source": [
    "dups.dataset.value_counts()"
   ]
  },
  {
   "cell_type": "code",
   "execution_count": 10,
   "id": "cc5d1443-c3db-4a09-a364-893437b43bd2",
   "metadata": {
    "scrolled": true,
    "tags": []
   },
   "outputs": [
    {
     "data": {
      "text/html": [
       "<div>\n",
       "<style scoped>\n",
       "    .dataframe tbody tr th:only-of-type {\n",
       "        vertical-align: middle;\n",
       "    }\n",
       "\n",
       "    .dataframe tbody tr th {\n",
       "        vertical-align: top;\n",
       "    }\n",
       "\n",
       "    .dataframe thead th {\n",
       "        text-align: right;\n",
       "    }\n",
       "</style>\n",
       "<table border=\"1\" class=\"dataframe\">\n",
       "  <thead>\n",
       "    <tr style=\"text-align: right;\">\n",
       "      <th></th>\n",
       "      <th>text</th>\n",
       "      <th>word_count</th>\n",
       "      <th>dataset</th>\n",
       "      <th>source</th>\n",
       "      <th>domain</th>\n",
       "      <th>timestamp</th>\n",
       "      <th>num_words</th>\n",
       "    </tr>\n",
       "    <tr>\n",
       "      <th>id</th>\n",
       "      <th></th>\n",
       "      <th></th>\n",
       "      <th></th>\n",
       "      <th></th>\n",
       "      <th></th>\n",
       "      <th></th>\n",
       "      <th></th>\n",
       "    </tr>\n",
       "  </thead>\n",
       "  <tbody>\n",
       "    <tr>\n",
       "      <th>elsherief2021_41</th>\n",
       "      <td>\" #jihadiaap \" is now trending at rank 4 in india</td>\n",
       "      <td>13</td>\n",
       "      <td>elsherief2021</td>\n",
       "      <td>twitter</td>\n",
       "      <td>tweet</td>\n",
       "      <td>2015-02-06 18:53:38+00:00</td>\n",
       "      <td>11</td>\n",
       "    </tr>\n",
       "    <tr>\n",
       "      <th>qian2018_9389</th>\n",
       "      <td>\" #jihadiaap \" is now trending at rank 4 in india</td>\n",
       "      <td>13</td>\n",
       "      <td>qian2018</td>\n",
       "      <td>twitter</td>\n",
       "      <td>tweet</td>\n",
       "      <td>2015-02-06 18:53:38+00:00</td>\n",
       "      <td>11</td>\n",
       "    </tr>\n",
       "    <tr>\n",
       "      <th>elsherief2021_42</th>\n",
       "      <td>\" : does the kkk .. hate black animals / pets ? .. since they not white ? \" ?</td>\n",
       "      <td>22</td>\n",
       "      <td>elsherief2021</td>\n",
       "      <td>twitter</td>\n",
       "      <td>tweet</td>\n",
       "      <td>2014-12-24 19:08:27+00:00</td>\n",
       "      <td>20</td>\n",
       "    </tr>\n",
       "    <tr>\n",
       "      <th>qian2018_28511</th>\n",
       "      <td>\" : does the kkk .. hate black animals / pets ? .. since they not white ? \" ?</td>\n",
       "      <td>22</td>\n",
       "      <td>qian2018</td>\n",
       "      <td>twitter</td>\n",
       "      <td>tweet</td>\n",
       "      <td>2014-12-24 19:08:27+00:00</td>\n",
       "      <td>20</td>\n",
       "    </tr>\n",
       "    <tr>\n",
       "      <th>qian2018_31117</th>\n",
       "      <td>\" : kkk alive and well white brother hood unite ku klux klan what about sister hood</td>\n",
       "      <td>17</td>\n",
       "      <td>qian2018</td>\n",
       "      <td>twitter</td>\n",
       "      <td>tweet</td>\n",
       "      <td>2015-02-19 05:32:28+00:00</td>\n",
       "      <td>17</td>\n",
       "    </tr>\n",
       "    <tr>\n",
       "      <th>...</th>\n",
       "      <td>...</td>\n",
       "      <td>...</td>\n",
       "      <td>...</td>\n",
       "      <td>...</td>\n",
       "      <td>...</td>\n",
       "      <td>...</td>\n",
       "      <td>...</td>\n",
       "    </tr>\n",
       "    <tr>\n",
       "      <th>calderon2021_125</th>\n",
       "      <td>“ conservatives ” blast trump their writers then get to work . mr. trump is a “ con man ” ( mona charen ) , a “ know-nothing demagogue ” who suffers from “ raging egomania ” ( mark helprin ) , “ the politicized american id ” ( john podhoretz ) , a “ glib egomaniac ” and “ bombastic showoff ” ( thomas sowell ) , a “ political conman ” ( katie pavlich ) , a “ narcissist ” ( cal thomas ) , a harbinger of “ two-bit caesarism ” ( william kristol ) , a peddler of “ know-nothing protectionism , ” “ nativism , ” and “ one-man rule ” ( david boaz ) , etc . you know you ’ ve won the argument when your opponents are reduced to name-calling . but there are a few substantive complaints amidst the roaring . one is that mr. trump is too ignorant to run the country . according to mark helprin , mr. trump “ doesn ’ t know the constitution , history , law , political philosophy , nuclear strategy , diplomacy , defense , economics beyond real estate , ” and so on . this is true of almost the entire political class . ronald reagan and george w. bush were genial ignoramuses , but reagan is a hero to national review . andrew mccarthy sniffs that mr. trump doesn ’ t know who hassan nasrallah is . i doubt mike huckabee , jim gilmore , chris christie or john kasich know who he is either , and ben carson thinks the pyramids were built to store grain . several nr writers think mr. trump wants to be a dictator . david boaz of cato says that mr. trump “ is effectively vowing to be an american mussolini . . . and govern by fiat . ” mr. trump is certainly full of promises about what he will do , but so is every other candidate . they say “ i will ( fill in the blank ) . ” they don ’ t say “ i will persuade congress to pass legislation that will ( fill in the blank ) . ” many of these “ conservatives ” say they worship limited government and the separation of powers , and perhaps they do , but i can ’ t think of a recent president who hasn ’ t attacked another country without a declaration of war , and barack obama has run wild with executive orders . the nr “ conservatives ” may not like that , but why are they angrier about what mr. trump hasn ’ t done than what others have done ? according to their precious constitution , the supreme court and the threat of impeachment will curb mr. trump ’ s imagined excesses . but donald trump is guilty of worse than ceasarism and bombast . national review considers itself the tabernacle of conservatism , and its high priests have declared that mr. trump is not a conservative . they say he ’ s a closet liberal on abortion , gun control , socialized medicine , and big government . for me and for millions of americans , the answer to that is a resounding “ who cares ? ” most of the time , donald trump doesn ’ t even claim to be a conservative . he cares deeply about the well-being and happiness of americans , and is the first major candidate since patrick buchanan who understands that south-of-the-border illiterates don ’ t make good americans . so long as he sticks to that message it won ’ t make any difference whether he ’ s “ liberal ” or “ conservative ” or a conman or a showoff or any of the other names national review calls him . people of all political persuasions will vote for him . there is nothing partisan about wanting your people to survive and prosper . what does the saying “ politics stops at the water ’ s edge ” mean but that when the survival of the nation is threatened we set aside disagreements and fight the common enemy . our survival is threatened , and mr. trump is the only candidate who seems to understand that . but nr ’ s sniffing about mr. trump not being a conservative highlights the most inexplicable and pathetic thing about “ conservatives . ” they don ’ t realize that the one thing that must absolutely be conserved is something they pride themselves on pretending doesn ’ t matter : the race of people who make what they call conservatism even possible . do they really believe that mexicans and haitians and guatemalans and vietnamese and bangladeshis and chinese are ever going to be made to care about the second amendment or madisonian democracy or limited government ? this is why these people are cuckolded conservatives or “ cuckservatives . ” just like a man with a faithless wife , they are lavishing care on somebody else ’ s children . their beautiful constitution and elegant libertarianism are wasted on third-worlders , for whom these things are alien and meaningless . the institutions national review thinks it is preserving will be kicked aside by people whose ancestors had no hand in building them . what cuckservatives are determined not to understand is that without the historic american people , there is no america , no western culture , no civilization fit for white men . anyone who stands for the european people and traditions of america is our comrade , whatever his politics . there is something grotesque about people who sacrifice americans to abstractions , who put principle over people . and if they think that pronouncing donald trump “ not a conservative ” will move the electoral balance by even a hair they are deluded . do they imagine people all across america saying to themselves , “ i was going to vote for trump , but nr says he ’ s not a conservative so i guess i ’ ll vote for jeb bush ” ? liberals are just as deluded about the insignificance of race , of course . their vision of the perfect society requires a population of danes , not mexicans . the only part of “ liberalism ” third-worlders understand is government handouts . feminism , gay rights , “ diversity , ” “ tolerance , ” environmentalism , yoga and fruit-juice drinking–you don ’ t see much of that in “ communities of color . ” but liberals are at least consistent in their madness . they want to change everything , so it is more excusable that they not realize that changing the population makes their kind of change impossible . but back to the anti-trump blasts , i almost forgot : not one of the nr 22 dared call mr. trump a “ racist ” on the record , but there were plenty of hints : “ trump ’ s vitriolic–and often racist and sexist language–language ” ( russell moore ) , “ the unavoidable issue of racism ” ( michael medved ) , and “ racial and religious scapegoating ” ( david boaz ) . keep it up , national review . you ’ re beginning to sound just like the washington post ; dana milbank titled one of his columns “ donald trump is a bigot and a racist . ” when both national review and the washington post agree that the republican front-runner and probable nominee–a man who could well become the president of the united states–is a “ racist , ” we know that a new day is dawning in america . topics : donald trump , elections , immigration</td>\n",
       "      <td>1306</td>\n",
       "      <td>calderon2021</td>\n",
       "      <td>american_renaissance</td>\n",
       "      <td>long-form</td>\n",
       "      <td>2016-01-26 00:00:00+00:00</td>\n",
       "      <td>1306</td>\n",
       "    </tr>\n",
       "    <tr>\n",
       "      <th>calderon2021_24012</th>\n",
       "      <td>“ our values ” ? whose values ? in the barack obama universe , the carnage in boston , orlando , san bernardino , fort-hood and chattanooga dwarfs when compared to the importance of preserving “ our values . ” ( by which obama means his values , hillary clinton ’ s values , angela merkel ’ s values , sally yates ’ s values , chucky schumer ’ s values , jeff bezos ’ s values , john mcmussolini ’ s values , lindsey graham ’ s values . ) when a politician pules about “ the values that make our country great , ” to quote mrs. clinton , chances are they mean multiculturalism , pluralism , wide-swung borders , islam as peace , communities divided in diversity as a net positive , and the constitution—it mandates all the above , just ask ruth bader ginsburg—as a living , breathing , mutating philosophical malignancy . for them , “ protecting ” the abstraction that is “ our way of life ” trumps the protection of real individual lives . “ we must guard against a weakening of the values that make us who we are , ” dissembled obama in the waning weeks before he was gone . the empty phrase is meant to make the sovereign citizen—you—forget that government ’ s most important role , if not its only role , is to protect individual life . this is something president trump grasps on a gut level . in his last few addresses , obama promised to speak up on “ certain issues , ” in times when he imagined “ our core values may be at stake . ” likewise , in delivering her control-alt-delete speech against the deplorables , clinton had asserted that “ our country is great because we ’ re good . … donald trump disregards the values that make our country great . ” the two ’ s group-think , notwithstanding , only individuals can be virtuous , not collectives . self-government , and not imposed government , implies that society , and not the state , is to develop value systems . the state ’ s role is to protect citizens as they go about their business peacefully , living in accordance with their peaceful values . when you hear an appeal to “ permanent values ” — ” the values that make our country great , ” to quote clinton—know you are dealing with world-class crooks . these crooks want to swindle you out of the freedom to think and believe as you wish . for in the classical conservative and libertarian traditions , values are private things , to be left to civil society—the individual , family and church—to practice and police . the american government is charged purely with upholding the law , no more . why so ? because government has police and military powers with which to enforce its “ values . ” a free people dare not entrust such an omnipotent entity with policing values , at home or abroad , because values enforced are dogma . when incontestable majorities call on government to curb islamic and other in-migration because this imperils american lives , president trump ’ s unswerving opponents—the obama , clinton , ryan , mccain , graham , schumer and media mafia—will invariably intone , “ that ’ s not who we are . ” when you hear that manipulative mantra , tell them to shut up , mind their own business , and stick to their constitutional mandate to protect the people , not police their minds . remember that through an appeal to values , the state aggrandizes itself . a limited government , serving an ostensibly free people , must thus never enforce values . because our form of government is incompatible with the enforcement of values , the american people can ’ t and mustn ’ t welcome into their midst civilizations whose values are inimical to the survival of their own . topics : donald trump , multiculturalism and diversity</td>\n",
       "      <td>683</td>\n",
       "      <td>calderon2021</td>\n",
       "      <td>daily_stormer</td>\n",
       "      <td>long-form</td>\n",
       "      <td>2017-02-04 00:00:00+00:00</td>\n",
       "      <td>683</td>\n",
       "    </tr>\n",
       "    <tr>\n",
       "      <th>calderon2021_12</th>\n",
       "      <td>“ our values ” ? whose values ? in the barack obama universe , the carnage in boston , orlando , san bernardino , fort-hood and chattanooga dwarfs when compared to the importance of preserving “ our values . ” ( by which obama means his values , hillary clinton ’ s values , angela merkel ’ s values , sally yates ’ s values , chucky schumer ’ s values , jeff bezos ’ s values , john mcmussolini ’ s values , lindsey graham ’ s values . ) when a politician pules about “ the values that make our country great , ” to quote mrs. clinton , chances are they mean multiculturalism , pluralism , wide-swung borders , islam as peace , communities divided in diversity as a net positive , and the constitution—it mandates all the above , just ask ruth bader ginsburg—as a living , breathing , mutating philosophical malignancy . for them , “ protecting ” the abstraction that is “ our way of life ” trumps the protection of real individual lives . “ we must guard against a weakening of the values that make us who we are , ” dissembled obama in the waning weeks before he was gone . the empty phrase is meant to make the sovereign citizen—you—forget that government ’ s most important role , if not its only role , is to protect individual life . this is something president trump grasps on a gut level . in his last few addresses , obama promised to speak up on “ certain issues , ” in times when he imagined “ our core values may be at stake . ” likewise , in delivering her control-alt-delete speech against the deplorables , clinton had asserted that “ our country is great because we ’ re good . … donald trump disregards the values that make our country great . ” the two ’ s group-think , notwithstanding , only individuals can be virtuous , not collectives . self-government , and not imposed government , implies that society , and not the state , is to develop value systems . the state ’ s role is to protect citizens as they go about their business peacefully , living in accordance with their peaceful values . when you hear an appeal to “ permanent values ” — ” the values that make our country great , ” to quote clinton—know you are dealing with world-class crooks . these crooks want to swindle you out of the freedom to think and believe as you wish . for in the classical conservative and libertarian traditions , values are private things , to be left to civil society—the individual , family and church—to practice and police . the american government is charged purely with upholding the law , no more . why so ? because government has police and military powers with which to enforce its “ values . ” a free people dare not entrust such an omnipotent entity with policing values , at home or abroad , because values enforced are dogma . when incontestable majorities call on government to curb islamic and other in-migration because this imperils american lives , president trump ’ s unswerving opponents—the obama , clinton , ryan , mccain , graham , schumer and media mafia—will invariably intone , “ that ’ s not who we are . ” when you hear that manipulative mantra , tell them to shut up , mind their own business , and stick to their constitutional mandate to protect the people , not police their minds . remember that through an appeal to values , the state aggrandizes itself . a limited government , serving an ostensibly free people , must thus never enforce values . because our form of government is incompatible with the enforcement of values , the american people can ’ t and mustn ’ t welcome into their midst civilizations whose values are inimical to the survival of their own . topics : donald trump , multiculturalism and diversity</td>\n",
       "      <td>683</td>\n",
       "      <td>calderon2021</td>\n",
       "      <td>american_renaissance</td>\n",
       "      <td>long-form</td>\n",
       "      <td>2017-02-04 00:00:00+00:00</td>\n",
       "      <td>683</td>\n",
       "    </tr>\n",
       "    <tr>\n",
       "      <th>calderon2021_14716</th>\n",
       "      <td>“ we ’ ve never been weaker and never more hated ” all the speakers bemoaned the rise of donald trump and of populist groups in europe . all said the “ refugees ” were fueling the right in europe , and that the dwindling white majority in the united states backs mr. trump . they also voiced a growing fear of the internet that gives dissenters a voice . the meeting had an atmosphere of pessimism and gloom that was an almost perfect mirror-image of the optimism and energy of the recent american renaissance conference . the two professors showed slides with facts and figures and photos of pegida marches and the like , while miss beirich spoke without rising from her stool . charles lane , who writes editorials such as “ the dangerous nihilism of trump voters , ” was the moderator , feeding softball questions to the other three . of the 60 or so people in the audience , 45 seemed to be retired white people , with a handful of non-whites and young folks . perhaps that was to be expected ; the four speakers were old white people , too . they seem to have forgotten their obligation to promote “ role models . ” professor michael minkenberg , who teaches at a university in frankfurt , spoke first . he noted that the success of populist parties in europe varies widely , and that they can gain or lose as much as 20 percent of the electorate in a single election . he noted that this is especially pronounced in eastern europe , where political parties are less stable , and may appear and disappear from one election to the next . these oscillations make it very hard to predict what might happen next , he said , but stated the obvious in saying that eastern europe is friendlier to these parties than the west . he expressed deep disgust for the current regimes in poland and hungary , but said nothing about russia . of all the presentations , professor minkenberg ’ s was the least vituperative and the most factual . heidi beirich spoke exclusively about donald trump , repeatedly expressing bewilderment at how “ he gets away with it . ” she said no other candidate in modern times has been able to say such offensive things , associate with such hateful people , and hold such hateful views , yet still be a viable national candidate . she said one had to go all the way back to george wallace in the ’ 60s to find anything similar . she seems to have missed the ’ 80s and ’ 90s , when pat buchanan ’ s and david duke ’ s candidacies were derailed by hostile media . she ended on a pessimistic note , saying that nothing seems to stop the donald . professor thomas grumke , who teaches at a university in north rhine-westphalia , focused specifically on germany . his main point was that although “ far right ” political parties are not doing very well , “ far right ” social movements such as pegida are . he noted that young people were getting involved , but suggested that this might be only youthful rebellion , and that they may grow out of it . he spoke with great condescension towards anyone who could be attracted to the “ far right . ” professor thomas grumke criticizes his fellow germans for worrying about “ refugee ” crime . the question and answer period was more interesting than the presentations . a south asian man stood up and berated the panelists . he noted that no one on the panel represented the right , or had even tried to understand its perspective . he further noted that “ experts ” like them had been wrong about everything so far this election , so why should anyone listen to them ? at the end , he said he had voted for le pen and was a donald trump volunteer . halfway through the question , professor grumke interrupted him , snidely asking , “ how can you say i was wrong ? we don ’ t know each other . ” as an answer , he sneeringly asked , “ are you an immigrant to this country ? yes ? okay , good luck to you . ” the panelists addressed none of his points and immediately took another question . professor grumke went on to mock the pro-trump questioner a few minutes later , saying : without a hint of irony , miss beirich , whose job is to suppress dissent , lamented that no one talks to people with different viewpoints these days , and that this leads to a loss of civility . she added the usual jab at the racialist right : “ we joke in my office that if we could get these people jobs and girlfriends we might be able to neutralize the movement . ” professor grumke complained about the internet : the audience laughed happily at this caricature . a member of the audience asked : charles lane of the washington post replied : he talked about a reporter who apparently needs bodyguards when she covers populist rallies in germany , and that reporters at trump events have felt unsafe . he then returned to his real gripe : how tragic it must be to feel that you are being beaten by overly emotional , unemployed , basement-dwelling losers with a knack for twitter . needless to say , this is what fuels the censorship of the right on facebook and twitter . the panelists blasted twitter , in particular , and for good reason . dissidents have long known that twitter is a more useful platform than facebook , and donald trump ’ s twitter feed has become something of a legend , with entire essays about it in politico . besides confirming my suspicion of just how much liberals hate us , and how much they hate the marketplace of ideas that comes with the internet , there was one other highlight . to my surprise , miss beirich apparently knows about robert putnam ’ s research on the damaging effects of diversity . she never mentioned him directly , but she must have been thinking of him : on its own , it ’ s not gon na happen ? what is “ it ” ? a multi-culti america ? a miscegenated planet ? no matter how high the costs of diversity–which miss beirich concedes are real– “ it ” must be had anyway . since diversity has bad consequences , government must forcibly make it work so america can get to “ it . ” that ’ s why we need the southern poverty law center , “ hate crimes ” laws , sensitivity training , race preferences , forced integration , “ role models , ” and the endless lies americans tell each other about race . diversity has to be made to work , so we can all get to “ it . ” and apparently the only thing stopping “ it ” is losers like us on the internet . topics : europe , rape , signs of hope</td>\n",
       "      <td>1228</td>\n",
       "      <td>calderon2021</td>\n",
       "      <td>daily_stormer</td>\n",
       "      <td>long-form</td>\n",
       "      <td>2016-05-25 00:00:00+00:00</td>\n",
       "      <td>1228</td>\n",
       "    </tr>\n",
       "    <tr>\n",
       "      <th>calderon2021_207</th>\n",
       "      <td>“ we ’ ve never been weaker and never more hated ” all the speakers bemoaned the rise of donald trump and of populist groups in europe . all said the “ refugees ” were fueling the right in europe , and that the dwindling white majority in the united states backs mr. trump . they also voiced a growing fear of the internet that gives dissenters a voice . the meeting had an atmosphere of pessimism and gloom that was an almost perfect mirror-image of the optimism and energy of the recent american renaissance conference . the two professors showed slides with facts and figures and photos of pegida marches and the like , while miss beirich spoke without rising from her stool . charles lane , who writes editorials such as “ the dangerous nihilism of trump voters , ” was the moderator , feeding softball questions to the other three . of the 60 or so people in the audience , 45 seemed to be retired white people , with a handful of non-whites and young folks . perhaps that was to be expected ; the four speakers were old white people , too . they seem to have forgotten their obligation to promote “ role models . ” professor michael minkenberg , who teaches at a university in frankfurt , spoke first . he noted that the success of populist parties in europe varies widely , and that they can gain or lose as much as 20 percent of the electorate in a single election . he noted that this is especially pronounced in eastern europe , where political parties are less stable , and may appear and disappear from one election to the next . these oscillations make it very hard to predict what might happen next , he said , but stated the obvious in saying that eastern europe is friendlier to these parties than the west . he expressed deep disgust for the current regimes in poland and hungary , but said nothing about russia . of all the presentations , professor minkenberg ’ s was the least vituperative and the most factual . heidi beirich spoke exclusively about donald trump , repeatedly expressing bewilderment at how “ he gets away with it . ” she said no other candidate in modern times has been able to say such offensive things , associate with such hateful people , and hold such hateful views , yet still be a viable national candidate . she said one had to go all the way back to george wallace in the ’ 60s to find anything similar . she seems to have missed the ’ 80s and ’ 90s , when pat buchanan ’ s and david duke ’ s candidacies were derailed by hostile media . she ended on a pessimistic note , saying that nothing seems to stop the donald . professor thomas grumke , who teaches at a university in north rhine-westphalia , focused specifically on germany . his main point was that although “ far right ” political parties are not doing very well , “ far right ” social movements such as pegida are . he noted that young people were getting involved , but suggested that this might be only youthful rebellion , and that they may grow out of it . he spoke with great condescension towards anyone who could be attracted to the “ far right . ” professor thomas grumke criticizes his fellow germans for worrying about “ refugee ” crime . the question and answer period was more interesting than the presentations . a south asian man stood up and berated the panelists . he noted that no one on the panel represented the right , or had even tried to understand its perspective . he further noted that “ experts ” like them had been wrong about everything so far this election , so why should anyone listen to them ? at the end , he said he had voted for le pen and was a donald trump volunteer . halfway through the question , professor grumke interrupted him , snidely asking , “ how can you say i was wrong ? we don ’ t know each other . ” as an answer , he sneeringly asked , “ are you an immigrant to this country ? yes ? okay , good luck to you . ” the panelists addressed none of his points and immediately took another question . professor grumke went on to mock the pro-trump questioner a few minutes later , saying : without a hint of irony , miss beirich , whose job is to suppress dissent , lamented that no one talks to people with different viewpoints these days , and that this leads to a loss of civility . she added the usual jab at the racialist right : “ we joke in my office that if we could get these people jobs and girlfriends we might be able to neutralize the movement . ” professor grumke complained about the internet : the audience laughed happily at this caricature . a member of the audience asked : charles lane of the washington post replied : he talked about a reporter who apparently needs bodyguards when she covers populist rallies in germany , and that reporters at trump events have felt unsafe . he then returned to his real gripe : how tragic it must be to feel that you are being beaten by overly emotional , unemployed , basement-dwelling losers with a knack for twitter . needless to say , this is what fuels the censorship of the right on facebook and twitter . the panelists blasted twitter , in particular , and for good reason . dissidents have long known that twitter is a more useful platform than facebook , and donald trump ’ s twitter feed has become something of a legend , with entire essays about it in politico . besides confirming my suspicion of just how much liberals hate us , and how much they hate the marketplace of ideas that comes with the internet , there was one other highlight . to my surprise , miss beirich apparently knows about robert putnam ’ s research on the damaging effects of diversity . she never mentioned him directly , but she must have been thinking of him : on its own , it ’ s not gon na happen ? what is “ it ” ? a multi-culti america ? a miscegenated planet ? no matter how high the costs of diversity–which miss beirich concedes are real– “ it ” must be had anyway . since diversity has bad consequences , government must forcibly make it work so america can get to “ it . ” that ’ s why we need the southern poverty law center , “ hate crimes ” laws , sensitivity training , race preferences , forced integration , “ role models , ” and the endless lies americans tell each other about race . diversity has to be made to work , so we can all get to “ it . ” and apparently the only thing stopping “ it ” is losers like us on the internet . topics : europe , rape , signs of hope</td>\n",
       "      <td>1228</td>\n",
       "      <td>calderon2021</td>\n",
       "      <td>american_renaissance</td>\n",
       "      <td>long-form</td>\n",
       "      <td>2016-05-25 00:00:00+00:00</td>\n",
       "      <td>1228</td>\n",
       "    </tr>\n",
       "  </tbody>\n",
       "</table>\n",
       "<p>3380 rows × 7 columns</p>\n",
       "</div>"
      ],
      "text/plain": [
       "                                                                                                                                                                                                                                                                                                                                                                                                                                                                                                                                                                                                                                                                                                                                                                                                                                                                                                                                                                                                                                                                                                                                                                                                                                                                                                                                                                                                                                                                                                                                                                                                                                                                                                                                                                                                                                                                                                                                                                                                                                                                                                                                                                                                                                                                                                                                                                                                                                                                                                                                                                                                                                                                                                                                                                                                                                                                                                                                                                                                                                                                                                                                                                                                                                                                                                                                                                                                                                                                                                                                                                                                                                                                                                                                                                                                                                                                                                                                                                                                                                                                                                                                                                                                                                                                                                                                                                                                                                                                                                                                                                                                                                                                                                                                                                                                                                                                                                                                                                                                                                                                                                                                                                                                                                                                                                                                                                                                                                                                                                                                                                                                                                                                                                                                                                                                                                                                                                                                                                                                                                                                                                                                                                                                                                                                                                                                                                                                                                                                                                                                                                                                                                                                                                                                                                                                                                                                                                                                                                                                                                                                      text  \\\n",
       "id                                                                                                                                                                                                                                                                                                                                                                                                                                                                                                                                                                                                                                                                                                                                                                                                                                                                                                                                                                                                                                                                                                                                                                                                                                                                                                                                                                                                                                                                                                                                                                                                                                                                                                                                                                                                                                                                                                                                                                                                                                                                                                                                                                                                                                                                                                                                                                                                                                                                                                                                                                                                                                                                                                                                                                                                                                                                                                                                                                                                                                                                                                                                                                                                                                                                                                                                                                                                                                                                                                                                                                                                                                                                                                                                                                                                                                                                                                                                                                                                                                                                                                                                                                                                                                                                                                                                                                                                                                                                                                                                                                                                                                                                                                                                                                                                                                                                                                                                                                                                                                                                                                                                                                                                                                                                                                                                                                                                                                                                                                                                                                                                                                                                                                                                                                                                                                                                                                                                                                                                                                                                                                                                                                                                                                                                                                                                                                                                                                                                                                                                                                                                                                                                                                                                                                                                                                                                                                                                                                                                                                                                           \n",
       "elsherief2021_41                                                                                                                                                                                                                                                                                                                                                                                                                                                                                                                                                                                                                                                                                                                                                                                                                                                                                                                                                                                                                                                                                                                                                                                                                                                                                                                                                                                                                                                                                                                                                                                                                                                                                                                                                                                                                                                                                                                                                                                                                                                                                                                                                                                                                                                                                                                                                                                                                                                                                                                                                                                                                                                                                                                                                                                                                                                                                                                                                                                                                                                                                                                                                                                                                                                                                                                                                                                                                                                                                                                                                                                                                                                                                                                                                                                                                                                                                                                                                                                                                                                                                                                                                                                                                                                                                                                                                                                                                                                                                                                                                                                                                                                                                                                                                                                                                                                                                                                                                                                                                                                                                                                                                                                                                                                                                                                                                                                                                                                                                                                                                                                                                                                                                                                                                                                                                                                                                                                                                                                                                                                                                                                                                                                                                                                                                                                                                                                                                                                                                                                                                                                                                                                                                                                                                                                                                                                                                                                                                                                                         \" #jihadiaap \" is now trending at rank 4 in india   \n",
       "qian2018_9389                                                                                                                                                                                                                                                                                                                                                                                                                                                                                                                                                                                                                                                                                                                                                                                                                                                                                                                                                                                                                                                                                                                                                                                                                                                                                                                                                                                                                                                                                                                                                                                                                                                                                                                                                                                                                                                                                                                                                                                                                                                                                                                                                                                                                                                                                                                                                                                                                                                                                                                                                                                                                                                                                                                                                                                                                                                                                                                                                                                                                                                                                                                                                                                                                                                                                                                                                                                                                                                                                                                                                                                                                                                                                                                                                                                                                                                                                                                                                                                                                                                                                                                                                                                                                                                                                                                                                                                                                                                                                                                                                                                                                                                                                                                                                                                                                                                                                                                                                                                                                                                                                                                                                                                                                                                                                                                                                                                                                                                                                                                                                                                                                                                                                                                                                                                                                                                                                                                                                                                                                                                                                                                                                                                                                                                                                                                                                                                                                                                                                                                                                                                                                                                                                                                                                                                                                                                                                                                                                                                                            \" #jihadiaap \" is now trending at rank 4 in india   \n",
       "elsherief2021_42                                                                                                                                                                                                                                                                                                                                                                                                                                                                                                                                                                                                                                                                                                                                                                                                                                                                                                                                                                                                                                                                                                                                                                                                                                                                                                                                                                                                                                                                                                                                                                                                                                                                                                                                                                                                                                                                                                                                                                                                                                                                                                                                                                                                                                                                                                                                                                                                                                                                                                                                                                                                                                                                                                                                                                                                                                                                                                                                                                                                                                                                                                                                                                                                                                                                                                                                                                                                                                                                                                                                                                                                                                                                                                                                                                                                                                                                                                                                                                                                                                                                                                                                                                                                                                                                                                                                                                                                                                                                                                                                                                                                                                                                                                                                                                                                                                                                                                                                                                                                                                                                                                                                                                                                                                                                                                                                                                                                                                                                                                                                                                                                                                                                                                                                                                                                                                                                                                                                                                                                                                                                                                                                                                                                                                                                                                                                                                                                                                                                                                                                                                                                                                                                                                                                                                                                                                                                                                                                                                             \" : does the kkk .. hate black animals / pets ? .. since they not white ? \" ?   \n",
       "qian2018_28511                                                                                                                                                                                                                                                                                                                                                                                                                                                                                                                                                                                                                                                                                                                                                                                                                                                                                                                                                                                                                                                                                                                                                                                                                                                                                                                                                                                                                                                                                                                                                                                                                                                                                                                                                                                                                                                                                                                                                                                                                                                                                                                                                                                                                                                                                                                                                                                                                                                                                                                                                                                                                                                                                                                                                                                                                                                                                                                                                                                                                                                                                                                                                                                                                                                                                                                                                                                                                                                                                                                                                                                                                                                                                                                                                                                                                                                                                                                                                                                                                                                                                                                                                                                                                                                                                                                                                                                                                                                                                                                                                                                                                                                                                                                                                                                                                                                                                                                                                                                                                                                                                                                                                                                                                                                                                                                                                                                                                                                                                                                                                                                                                                                                                                                                                                                                                                                                                                                                                                                                                                                                                                                                                                                                                                                                                                                                                                                                                                                                                                                                                                                                                                                                                                                                                                                                                                                                                                                                                                               \" : does the kkk .. hate black animals / pets ? .. since they not white ? \" ?   \n",
       "qian2018_31117                                                                                                                                                                                                                                                                                                                                                                                                                                                                                                                                                                                                                                                                                                                                                                                                                                                                                                                                                                                                                                                                                                                                                                                                                                                                                                                                                                                                                                                                                                                                                                                                                                                                                                                                                                                                                                                                                                                                                                                                                                                                                                                                                                                                                                                                                                                                                                                                                                                                                                                                                                                                                                                                                                                                                                                                                                                                                                                                                                                                                                                                                                                                                                                                                                                                                                                                                                                                                                                                                                                                                                                                                                                                                                                                                                                                                                                                                                                                                                                                                                                                                                                                                                                                                                                                                                                                                                                                                                                                                                                                                                                                                                                                                                                                                                                                                                                                                                                                                                                                                                                                                                                                                                                                                                                                                                                                                                                                                                                                                                                                                                                                                                                                                                                                                                                                                                                                                                                                                                                                                                                                                                                                                                                                                                                                                                                                                                                                                                                                                                                                                                                                                                                                                                                                                                                                                                                                                                                                                                         \" : kkk alive and well white brother hood unite ku klux klan what about sister hood   \n",
       "...                                                                                                                                                                                                                                                                                                                                                                                                                                                                                                                                                                                                                                                                                                                                                                                                                                                                                                                                                                                                                                                                                                                                                                                                                                                                                                                                                                                                                                                                                                                                                                                                                                                                                                                                                                                                                                                                                                                                                                                                                                                                                                                                                                                                                                                                                                                                                                                                                                                                                                                                                                                                                                                                                                                                                                                                                                                                                                                                                                                                                                                                                                                                                                                                                                                                                                                                                                                                                                                                                                                                                                                                                                                                                                                                                                                                                                                                                                                                                                                                                                                                                                                                                                                                                                                                                                                                                                                                                                                                                                                                                                                                                                                                                                                                                                                                                                                                                                                                                                                                                                                                                                                                                                                                                                                                                                                                                                                                                                                                                                                                                                                                                                                                                                                                                                                                                                                                                                                                                                                                                                                                                                                                                                                                                                                                                                                                                                                                                                                                                                                                                                                                                                                                                                                                                                                                                                                                                                                                                                                                                                                                    ...   \n",
       "calderon2021_125    “ conservatives ” blast trump their writers then get to work . mr. trump is a “ con man ” ( mona charen ) , a “ know-nothing demagogue ” who suffers from “ raging egomania ” ( mark helprin ) , “ the politicized american id ” ( john podhoretz ) , a “ glib egomaniac ” and “ bombastic showoff ” ( thomas sowell ) , a “ political conman ” ( katie pavlich ) , a “ narcissist ” ( cal thomas ) , a harbinger of “ two-bit caesarism ” ( william kristol ) , a peddler of “ know-nothing protectionism , ” “ nativism , ” and “ one-man rule ” ( david boaz ) , etc . you know you ’ ve won the argument when your opponents are reduced to name-calling . but there are a few substantive complaints amidst the roaring . one is that mr. trump is too ignorant to run the country . according to mark helprin , mr. trump “ doesn ’ t know the constitution , history , law , political philosophy , nuclear strategy , diplomacy , defense , economics beyond real estate , ” and so on . this is true of almost the entire political class . ronald reagan and george w. bush were genial ignoramuses , but reagan is a hero to national review . andrew mccarthy sniffs that mr. trump doesn ’ t know who hassan nasrallah is . i doubt mike huckabee , jim gilmore , chris christie or john kasich know who he is either , and ben carson thinks the pyramids were built to store grain . several nr writers think mr. trump wants to be a dictator . david boaz of cato says that mr. trump “ is effectively vowing to be an american mussolini . . . and govern by fiat . ” mr. trump is certainly full of promises about what he will do , but so is every other candidate . they say “ i will ( fill in the blank ) . ” they don ’ t say “ i will persuade congress to pass legislation that will ( fill in the blank ) . ” many of these “ conservatives ” say they worship limited government and the separation of powers , and perhaps they do , but i can ’ t think of a recent president who hasn ’ t attacked another country without a declaration of war , and barack obama has run wild with executive orders . the nr “ conservatives ” may not like that , but why are they angrier about what mr. trump hasn ’ t done than what others have done ? according to their precious constitution , the supreme court and the threat of impeachment will curb mr. trump ’ s imagined excesses . but donald trump is guilty of worse than ceasarism and bombast . national review considers itself the tabernacle of conservatism , and its high priests have declared that mr. trump is not a conservative . they say he ’ s a closet liberal on abortion , gun control , socialized medicine , and big government . for me and for millions of americans , the answer to that is a resounding “ who cares ? ” most of the time , donald trump doesn ’ t even claim to be a conservative . he cares deeply about the well-being and happiness of americans , and is the first major candidate since patrick buchanan who understands that south-of-the-border illiterates don ’ t make good americans . so long as he sticks to that message it won ’ t make any difference whether he ’ s “ liberal ” or “ conservative ” or a conman or a showoff or any of the other names national review calls him . people of all political persuasions will vote for him . there is nothing partisan about wanting your people to survive and prosper . what does the saying “ politics stops at the water ’ s edge ” mean but that when the survival of the nation is threatened we set aside disagreements and fight the common enemy . our survival is threatened , and mr. trump is the only candidate who seems to understand that . but nr ’ s sniffing about mr. trump not being a conservative highlights the most inexplicable and pathetic thing about “ conservatives . ” they don ’ t realize that the one thing that must absolutely be conserved is something they pride themselves on pretending doesn ’ t matter : the race of people who make what they call conservatism even possible . do they really believe that mexicans and haitians and guatemalans and vietnamese and bangladeshis and chinese are ever going to be made to care about the second amendment or madisonian democracy or limited government ? this is why these people are cuckolded conservatives or “ cuckservatives . ” just like a man with a faithless wife , they are lavishing care on somebody else ’ s children . their beautiful constitution and elegant libertarianism are wasted on third-worlders , for whom these things are alien and meaningless . the institutions national review thinks it is preserving will be kicked aside by people whose ancestors had no hand in building them . what cuckservatives are determined not to understand is that without the historic american people , there is no america , no western culture , no civilization fit for white men . anyone who stands for the european people and traditions of america is our comrade , whatever his politics . there is something grotesque about people who sacrifice americans to abstractions , who put principle over people . and if they think that pronouncing donald trump “ not a conservative ” will move the electoral balance by even a hair they are deluded . do they imagine people all across america saying to themselves , “ i was going to vote for trump , but nr says he ’ s not a conservative so i guess i ’ ll vote for jeb bush ” ? liberals are just as deluded about the insignificance of race , of course . their vision of the perfect society requires a population of danes , not mexicans . the only part of “ liberalism ” third-worlders understand is government handouts . feminism , gay rights , “ diversity , ” “ tolerance , ” environmentalism , yoga and fruit-juice drinking–you don ’ t see much of that in “ communities of color . ” but liberals are at least consistent in their madness . they want to change everything , so it is more excusable that they not realize that changing the population makes their kind of change impossible . but back to the anti-trump blasts , i almost forgot : not one of the nr 22 dared call mr. trump a “ racist ” on the record , but there were plenty of hints : “ trump ’ s vitriolic–and often racist and sexist language–language ” ( russell moore ) , “ the unavoidable issue of racism ” ( michael medved ) , and “ racial and religious scapegoating ” ( david boaz ) . keep it up , national review . you ’ re beginning to sound just like the washington post ; dana milbank titled one of his columns “ donald trump is a bigot and a racist . ” when both national review and the washington post agree that the republican front-runner and probable nominee–a man who could well become the president of the united states–is a “ racist , ” we know that a new day is dawning in america . topics : donald trump , elections , immigration   \n",
       "calderon2021_24012                                                                                                                                                                                                                                                                                                                                                                                                                                                                                                                                                                                                                                                                                                                                                                                                                                                                                                                                                                                                                                                                                                                                                                                                                                                                                                                                                                                                                                                                                                                                                                                                                                                                                                                                                                                                                                                                                                                                                                                                                                                                                                                                                                                                                                                                                                                                                                                                                                                                                                                                                                                                                                                                                                                                                                                                                                                                                                                                                                                                                                                                                                                                                                                                                                    “ our values ” ? whose values ? in the barack obama universe , the carnage in boston , orlando , san bernardino , fort-hood and chattanooga dwarfs when compared to the importance of preserving “ our values . ” ( by which obama means his values , hillary clinton ’ s values , angela merkel ’ s values , sally yates ’ s values , chucky schumer ’ s values , jeff bezos ’ s values , john mcmussolini ’ s values , lindsey graham ’ s values . ) when a politician pules about “ the values that make our country great , ” to quote mrs. clinton , chances are they mean multiculturalism , pluralism , wide-swung borders , islam as peace , communities divided in diversity as a net positive , and the constitution—it mandates all the above , just ask ruth bader ginsburg—as a living , breathing , mutating philosophical malignancy . for them , “ protecting ” the abstraction that is “ our way of life ” trumps the protection of real individual lives . “ we must guard against a weakening of the values that make us who we are , ” dissembled obama in the waning weeks before he was gone . the empty phrase is meant to make the sovereign citizen—you—forget that government ’ s most important role , if not its only role , is to protect individual life . this is something president trump grasps on a gut level . in his last few addresses , obama promised to speak up on “ certain issues , ” in times when he imagined “ our core values may be at stake . ” likewise , in delivering her control-alt-delete speech against the deplorables , clinton had asserted that “ our country is great because we ’ re good . … donald trump disregards the values that make our country great . ” the two ’ s group-think , notwithstanding , only individuals can be virtuous , not collectives . self-government , and not imposed government , implies that society , and not the state , is to develop value systems . the state ’ s role is to protect citizens as they go about their business peacefully , living in accordance with their peaceful values . when you hear an appeal to “ permanent values ” — ” the values that make our country great , ” to quote clinton—know you are dealing with world-class crooks . these crooks want to swindle you out of the freedom to think and believe as you wish . for in the classical conservative and libertarian traditions , values are private things , to be left to civil society—the individual , family and church—to practice and police . the american government is charged purely with upholding the law , no more . why so ? because government has police and military powers with which to enforce its “ values . ” a free people dare not entrust such an omnipotent entity with policing values , at home or abroad , because values enforced are dogma . when incontestable majorities call on government to curb islamic and other in-migration because this imperils american lives , president trump ’ s unswerving opponents—the obama , clinton , ryan , mccain , graham , schumer and media mafia—will invariably intone , “ that ’ s not who we are . ” when you hear that manipulative mantra , tell them to shut up , mind their own business , and stick to their constitutional mandate to protect the people , not police their minds . remember that through an appeal to values , the state aggrandizes itself . a limited government , serving an ostensibly free people , must thus never enforce values . because our form of government is incompatible with the enforcement of values , the american people can ’ t and mustn ’ t welcome into their midst civilizations whose values are inimical to the survival of their own . topics : donald trump , multiculturalism and diversity   \n",
       "calderon2021_12                                                                                                                                                                                                                                                                                                                                                                                                                                                                                                                                                                                                                                                                                                                                                                                                                                                                                                                                                                                                                                                                                                                                                                                                                                                                                                                                                                                                                                                                                                                                                                                                                                                                                                                                                                                                                                                                                                                                                                                                                                                                                                                                                                                                                                                                                                                                                                                                                                                                                                                                                                                                                                                                                                                                                                                                                                                                                                                                                                                                                                                                                                                                                                                                                                       “ our values ” ? whose values ? in the barack obama universe , the carnage in boston , orlando , san bernardino , fort-hood and chattanooga dwarfs when compared to the importance of preserving “ our values . ” ( by which obama means his values , hillary clinton ’ s values , angela merkel ’ s values , sally yates ’ s values , chucky schumer ’ s values , jeff bezos ’ s values , john mcmussolini ’ s values , lindsey graham ’ s values . ) when a politician pules about “ the values that make our country great , ” to quote mrs. clinton , chances are they mean multiculturalism , pluralism , wide-swung borders , islam as peace , communities divided in diversity as a net positive , and the constitution—it mandates all the above , just ask ruth bader ginsburg—as a living , breathing , mutating philosophical malignancy . for them , “ protecting ” the abstraction that is “ our way of life ” trumps the protection of real individual lives . “ we must guard against a weakening of the values that make us who we are , ” dissembled obama in the waning weeks before he was gone . the empty phrase is meant to make the sovereign citizen—you—forget that government ’ s most important role , if not its only role , is to protect individual life . this is something president trump grasps on a gut level . in his last few addresses , obama promised to speak up on “ certain issues , ” in times when he imagined “ our core values may be at stake . ” likewise , in delivering her control-alt-delete speech against the deplorables , clinton had asserted that “ our country is great because we ’ re good . … donald trump disregards the values that make our country great . ” the two ’ s group-think , notwithstanding , only individuals can be virtuous , not collectives . self-government , and not imposed government , implies that society , and not the state , is to develop value systems . the state ’ s role is to protect citizens as they go about their business peacefully , living in accordance with their peaceful values . when you hear an appeal to “ permanent values ” — ” the values that make our country great , ” to quote clinton—know you are dealing with world-class crooks . these crooks want to swindle you out of the freedom to think and believe as you wish . for in the classical conservative and libertarian traditions , values are private things , to be left to civil society—the individual , family and church—to practice and police . the american government is charged purely with upholding the law , no more . why so ? because government has police and military powers with which to enforce its “ values . ” a free people dare not entrust such an omnipotent entity with policing values , at home or abroad , because values enforced are dogma . when incontestable majorities call on government to curb islamic and other in-migration because this imperils american lives , president trump ’ s unswerving opponents—the obama , clinton , ryan , mccain , graham , schumer and media mafia—will invariably intone , “ that ’ s not who we are . ” when you hear that manipulative mantra , tell them to shut up , mind their own business , and stick to their constitutional mandate to protect the people , not police their minds . remember that through an appeal to values , the state aggrandizes itself . a limited government , serving an ostensibly free people , must thus never enforce values . because our form of government is incompatible with the enforcement of values , the american people can ’ t and mustn ’ t welcome into their midst civilizations whose values are inimical to the survival of their own . topics : donald trump , multiculturalism and diversity   \n",
       "calderon2021_14716                                                                                                                                                                                                                                                                                                                                                                                                      “ we ’ ve never been weaker and never more hated ” all the speakers bemoaned the rise of donald trump and of populist groups in europe . all said the “ refugees ” were fueling the right in europe , and that the dwindling white majority in the united states backs mr. trump . they also voiced a growing fear of the internet that gives dissenters a voice . the meeting had an atmosphere of pessimism and gloom that was an almost perfect mirror-image of the optimism and energy of the recent american renaissance conference . the two professors showed slides with facts and figures and photos of pegida marches and the like , while miss beirich spoke without rising from her stool . charles lane , who writes editorials such as “ the dangerous nihilism of trump voters , ” was the moderator , feeding softball questions to the other three . of the 60 or so people in the audience , 45 seemed to be retired white people , with a handful of non-whites and young folks . perhaps that was to be expected ; the four speakers were old white people , too . they seem to have forgotten their obligation to promote “ role models . ” professor michael minkenberg , who teaches at a university in frankfurt , spoke first . he noted that the success of populist parties in europe varies widely , and that they can gain or lose as much as 20 percent of the electorate in a single election . he noted that this is especially pronounced in eastern europe , where political parties are less stable , and may appear and disappear from one election to the next . these oscillations make it very hard to predict what might happen next , he said , but stated the obvious in saying that eastern europe is friendlier to these parties than the west . he expressed deep disgust for the current regimes in poland and hungary , but said nothing about russia . of all the presentations , professor minkenberg ’ s was the least vituperative and the most factual . heidi beirich spoke exclusively about donald trump , repeatedly expressing bewilderment at how “ he gets away with it . ” she said no other candidate in modern times has been able to say such offensive things , associate with such hateful people , and hold such hateful views , yet still be a viable national candidate . she said one had to go all the way back to george wallace in the ’ 60s to find anything similar . she seems to have missed the ’ 80s and ’ 90s , when pat buchanan ’ s and david duke ’ s candidacies were derailed by hostile media . she ended on a pessimistic note , saying that nothing seems to stop the donald . professor thomas grumke , who teaches at a university in north rhine-westphalia , focused specifically on germany . his main point was that although “ far right ” political parties are not doing very well , “ far right ” social movements such as pegida are . he noted that young people were getting involved , but suggested that this might be only youthful rebellion , and that they may grow out of it . he spoke with great condescension towards anyone who could be attracted to the “ far right . ” professor thomas grumke criticizes his fellow germans for worrying about “ refugee ” crime . the question and answer period was more interesting than the presentations . a south asian man stood up and berated the panelists . he noted that no one on the panel represented the right , or had even tried to understand its perspective . he further noted that “ experts ” like them had been wrong about everything so far this election , so why should anyone listen to them ? at the end , he said he had voted for le pen and was a donald trump volunteer . halfway through the question , professor grumke interrupted him , snidely asking , “ how can you say i was wrong ? we don ’ t know each other . ” as an answer , he sneeringly asked , “ are you an immigrant to this country ? yes ? okay , good luck to you . ” the panelists addressed none of his points and immediately took another question . professor grumke went on to mock the pro-trump questioner a few minutes later , saying : without a hint of irony , miss beirich , whose job is to suppress dissent , lamented that no one talks to people with different viewpoints these days , and that this leads to a loss of civility . she added the usual jab at the racialist right : “ we joke in my office that if we could get these people jobs and girlfriends we might be able to neutralize the movement . ” professor grumke complained about the internet : the audience laughed happily at this caricature . a member of the audience asked : charles lane of the washington post replied : he talked about a reporter who apparently needs bodyguards when she covers populist rallies in germany , and that reporters at trump events have felt unsafe . he then returned to his real gripe : how tragic it must be to feel that you are being beaten by overly emotional , unemployed , basement-dwelling losers with a knack for twitter . needless to say , this is what fuels the censorship of the right on facebook and twitter . the panelists blasted twitter , in particular , and for good reason . dissidents have long known that twitter is a more useful platform than facebook , and donald trump ’ s twitter feed has become something of a legend , with entire essays about it in politico . besides confirming my suspicion of just how much liberals hate us , and how much they hate the marketplace of ideas that comes with the internet , there was one other highlight . to my surprise , miss beirich apparently knows about robert putnam ’ s research on the damaging effects of diversity . she never mentioned him directly , but she must have been thinking of him : on its own , it ’ s not gon na happen ? what is “ it ” ? a multi-culti america ? a miscegenated planet ? no matter how high the costs of diversity–which miss beirich concedes are real– “ it ” must be had anyway . since diversity has bad consequences , government must forcibly make it work so america can get to “ it . ” that ’ s why we need the southern poverty law center , “ hate crimes ” laws , sensitivity training , race preferences , forced integration , “ role models , ” and the endless lies americans tell each other about race . diversity has to be made to work , so we can all get to “ it . ” and apparently the only thing stopping “ it ” is losers like us on the internet . topics : europe , rape , signs of hope   \n",
       "calderon2021_207                                                                                                                                                                                                                                                                                                                                                                                                        “ we ’ ve never been weaker and never more hated ” all the speakers bemoaned the rise of donald trump and of populist groups in europe . all said the “ refugees ” were fueling the right in europe , and that the dwindling white majority in the united states backs mr. trump . they also voiced a growing fear of the internet that gives dissenters a voice . the meeting had an atmosphere of pessimism and gloom that was an almost perfect mirror-image of the optimism and energy of the recent american renaissance conference . the two professors showed slides with facts and figures and photos of pegida marches and the like , while miss beirich spoke without rising from her stool . charles lane , who writes editorials such as “ the dangerous nihilism of trump voters , ” was the moderator , feeding softball questions to the other three . of the 60 or so people in the audience , 45 seemed to be retired white people , with a handful of non-whites and young folks . perhaps that was to be expected ; the four speakers were old white people , too . they seem to have forgotten their obligation to promote “ role models . ” professor michael minkenberg , who teaches at a university in frankfurt , spoke first . he noted that the success of populist parties in europe varies widely , and that they can gain or lose as much as 20 percent of the electorate in a single election . he noted that this is especially pronounced in eastern europe , where political parties are less stable , and may appear and disappear from one election to the next . these oscillations make it very hard to predict what might happen next , he said , but stated the obvious in saying that eastern europe is friendlier to these parties than the west . he expressed deep disgust for the current regimes in poland and hungary , but said nothing about russia . of all the presentations , professor minkenberg ’ s was the least vituperative and the most factual . heidi beirich spoke exclusively about donald trump , repeatedly expressing bewilderment at how “ he gets away with it . ” she said no other candidate in modern times has been able to say such offensive things , associate with such hateful people , and hold such hateful views , yet still be a viable national candidate . she said one had to go all the way back to george wallace in the ’ 60s to find anything similar . she seems to have missed the ’ 80s and ’ 90s , when pat buchanan ’ s and david duke ’ s candidacies were derailed by hostile media . she ended on a pessimistic note , saying that nothing seems to stop the donald . professor thomas grumke , who teaches at a university in north rhine-westphalia , focused specifically on germany . his main point was that although “ far right ” political parties are not doing very well , “ far right ” social movements such as pegida are . he noted that young people were getting involved , but suggested that this might be only youthful rebellion , and that they may grow out of it . he spoke with great condescension towards anyone who could be attracted to the “ far right . ” professor thomas grumke criticizes his fellow germans for worrying about “ refugee ” crime . the question and answer period was more interesting than the presentations . a south asian man stood up and berated the panelists . he noted that no one on the panel represented the right , or had even tried to understand its perspective . he further noted that “ experts ” like them had been wrong about everything so far this election , so why should anyone listen to them ? at the end , he said he had voted for le pen and was a donald trump volunteer . halfway through the question , professor grumke interrupted him , snidely asking , “ how can you say i was wrong ? we don ’ t know each other . ” as an answer , he sneeringly asked , “ are you an immigrant to this country ? yes ? okay , good luck to you . ” the panelists addressed none of his points and immediately took another question . professor grumke went on to mock the pro-trump questioner a few minutes later , saying : without a hint of irony , miss beirich , whose job is to suppress dissent , lamented that no one talks to people with different viewpoints these days , and that this leads to a loss of civility . she added the usual jab at the racialist right : “ we joke in my office that if we could get these people jobs and girlfriends we might be able to neutralize the movement . ” professor grumke complained about the internet : the audience laughed happily at this caricature . a member of the audience asked : charles lane of the washington post replied : he talked about a reporter who apparently needs bodyguards when she covers populist rallies in germany , and that reporters at trump events have felt unsafe . he then returned to his real gripe : how tragic it must be to feel that you are being beaten by overly emotional , unemployed , basement-dwelling losers with a knack for twitter . needless to say , this is what fuels the censorship of the right on facebook and twitter . the panelists blasted twitter , in particular , and for good reason . dissidents have long known that twitter is a more useful platform than facebook , and donald trump ’ s twitter feed has become something of a legend , with entire essays about it in politico . besides confirming my suspicion of just how much liberals hate us , and how much they hate the marketplace of ideas that comes with the internet , there was one other highlight . to my surprise , miss beirich apparently knows about robert putnam ’ s research on the damaging effects of diversity . she never mentioned him directly , but she must have been thinking of him : on its own , it ’ s not gon na happen ? what is “ it ” ? a multi-culti america ? a miscegenated planet ? no matter how high the costs of diversity–which miss beirich concedes are real– “ it ” must be had anyway . since diversity has bad consequences , government must forcibly make it work so america can get to “ it . ” that ’ s why we need the southern poverty law center , “ hate crimes ” laws , sensitivity training , race preferences , forced integration , “ role models , ” and the endless lies americans tell each other about race . diversity has to be made to work , so we can all get to “ it . ” and apparently the only thing stopping “ it ” is losers like us on the internet . topics : europe , rape , signs of hope   \n",
       "\n",
       "                    word_count        dataset                source  \\\n",
       "id                                                                    \n",
       "elsherief2021_41            13  elsherief2021               twitter   \n",
       "qian2018_9389               13       qian2018               twitter   \n",
       "elsherief2021_42            22  elsherief2021               twitter   \n",
       "qian2018_28511              22       qian2018               twitter   \n",
       "qian2018_31117              17       qian2018               twitter   \n",
       "...                        ...            ...                   ...   \n",
       "calderon2021_125          1306   calderon2021  american_renaissance   \n",
       "calderon2021_24012         683   calderon2021         daily_stormer   \n",
       "calderon2021_12            683   calderon2021  american_renaissance   \n",
       "calderon2021_14716        1228   calderon2021         daily_stormer   \n",
       "calderon2021_207          1228   calderon2021  american_renaissance   \n",
       "\n",
       "                       domain                 timestamp  num_words  \n",
       "id                                                                  \n",
       "elsherief2021_41        tweet 2015-02-06 18:53:38+00:00         11  \n",
       "qian2018_9389           tweet 2015-02-06 18:53:38+00:00         11  \n",
       "elsherief2021_42        tweet 2014-12-24 19:08:27+00:00         20  \n",
       "qian2018_28511          tweet 2014-12-24 19:08:27+00:00         20  \n",
       "qian2018_31117          tweet 2015-02-19 05:32:28+00:00         17  \n",
       "...                       ...                       ...        ...  \n",
       "calderon2021_125    long-form 2016-01-26 00:00:00+00:00       1306  \n",
       "calderon2021_24012  long-form 2017-02-04 00:00:00+00:00        683  \n",
       "calderon2021_12     long-form 2017-02-04 00:00:00+00:00        683  \n",
       "calderon2021_14716  long-form 2016-05-25 00:00:00+00:00       1228  \n",
       "calderon2021_207    long-form 2016-05-25 00:00:00+00:00       1228  \n",
       "\n",
       "[3380 rows x 7 columns]"
      ]
     },
     "execution_count": 10,
     "metadata": {},
     "output_type": "execute_result"
    }
   ],
   "source": [
    "dups = ws_data[ws_data.duplicated(['text'], keep=False)].sort_values('text')\n",
    "dups"
   ]
  },
  {
   "cell_type": "code",
   "execution_count": 11,
   "id": "0079d287-323d-414a-8fc6-85fe30759745",
   "metadata": {},
   "outputs": [
    {
     "data": {
      "text/plain": [
       "elsherief2021    1454\n",
       "qian2018         1454\n",
       "calderon2021      472\n",
       "Name: dataset, dtype: int64"
      ]
     },
     "execution_count": 11,
     "metadata": {},
     "output_type": "execute_result"
    }
   ],
   "source": [
    "dups.dataset.value_counts()"
   ]
  },
  {
   "cell_type": "markdown",
   "id": "f62491ae-6b8f-4837-83d2-525d39c54fa1",
   "metadata": {},
   "source": [
    "## Check for long numbers (IDs) in Patriot Front chat"
   ]
  },
  {
   "cell_type": "code",
   "execution_count": 16,
   "id": "0b3920ba-d1b1-43bc-a904-636bf3637638",
   "metadata": {},
   "outputs": [
    {
     "data": {
      "text/html": [
       "<div>\n",
       "<style scoped>\n",
       "    .dataframe tbody tr th:only-of-type {\n",
       "        vertical-align: middle;\n",
       "    }\n",
       "\n",
       "    .dataframe tbody tr th {\n",
       "        vertical-align: top;\n",
       "    }\n",
       "\n",
       "    .dataframe thead th {\n",
       "        text-align: right;\n",
       "    }\n",
       "</style>\n",
       "<table border=\"1\" class=\"dataframe\">\n",
       "  <thead>\n",
       "    <tr style=\"text-align: right;\">\n",
       "      <th></th>\n",
       "      <th>text</th>\n",
       "      <th>word_count</th>\n",
       "      <th>dataset</th>\n",
       "      <th>source</th>\n",
       "      <th>domain</th>\n",
       "      <th>timestamp</th>\n",
       "      <th>num_words</th>\n",
       "    </tr>\n",
       "    <tr>\n",
       "      <th>id</th>\n",
       "      <th></th>\n",
       "      <th></th>\n",
       "      <th></th>\n",
       "      <th></th>\n",
       "      <th></th>\n",
       "      <th></th>\n",
       "      <th></th>\n",
       "    </tr>\n",
       "  </thead>\n",
       "  <tbody>\n",
       "  </tbody>\n",
       "</table>\n",
       "</div>"
      ],
      "text/plain": [
       "Empty DataFrame\n",
       "Columns: [text, word_count, dataset, source, domain, timestamp, num_words]\n",
       "Index: []"
      ]
     },
     "execution_count": 16,
     "metadata": {},
     "output_type": "execute_result"
    }
   ],
   "source": [
    "patriotfront = ws_data[ws_data.dataset=='patriotfront']\n",
    "patriotfront[patriotfront.text.str.contains('172809042299715584')]"
   ]
  },
  {
   "cell_type": "markdown",
   "id": "38bd21cf-cebc-4c7f-a20b-6a77e66a9710",
   "metadata": {},
   "source": [
    "## Check for Twitter errors"
   ]
  },
  {
   "cell_type": "code",
   "execution_count": 13,
   "id": "64feacbd-f773-4c8d-ba4d-9fc7c60256ca",
   "metadata": {},
   "outputs": [
    {
     "data": {
      "text/html": [
       "<div>\n",
       "<style scoped>\n",
       "    .dataframe tbody tr th:only-of-type {\n",
       "        vertical-align: middle;\n",
       "    }\n",
       "\n",
       "    .dataframe tbody tr th {\n",
       "        vertical-align: top;\n",
       "    }\n",
       "\n",
       "    .dataframe thead th {\n",
       "        text-align: right;\n",
       "    }\n",
       "</style>\n",
       "<table border=\"1\" class=\"dataframe\">\n",
       "  <thead>\n",
       "    <tr style=\"text-align: right;\">\n",
       "      <th></th>\n",
       "      <th>text</th>\n",
       "      <th>word_count</th>\n",
       "      <th>dataset</th>\n",
       "      <th>source</th>\n",
       "      <th>domain</th>\n",
       "      <th>timestamp</th>\n",
       "      <th>num_words</th>\n",
       "    </tr>\n",
       "    <tr>\n",
       "      <th>id</th>\n",
       "      <th></th>\n",
       "      <th></th>\n",
       "      <th></th>\n",
       "      <th></th>\n",
       "      <th></th>\n",
       "      <th></th>\n",
       "      <th></th>\n",
       "    </tr>\n",
       "  </thead>\n",
       "  <tbody>\n",
       "  </tbody>\n",
       "</table>\n",
       "</div>"
      ],
      "text/plain": [
       "Empty DataFrame\n",
       "Columns: [text, word_count, dataset, source, domain, timestamp, num_words]\n",
       "Index: []"
      ]
     },
     "execution_count": 13,
     "metadata": {},
     "output_type": "execute_result"
    }
   ],
   "source": [
    "ws_data[ws_data.text.str.contains(\"account is temporarily unavailable because it violates\")]"
   ]
  },
  {
   "cell_type": "markdown",
   "id": "da9848a8-3280-4b5c-a57e-579f25554f48",
   "metadata": {
    "tags": []
   },
   "source": [
    "## Check short posts in white supremacist corpus to see if express the ideology"
   ]
  },
  {
   "cell_type": "code",
   "execution_count": null,
   "id": "75b4e67f-e5f1-47d2-980a-51895d3b0256",
   "metadata": {},
   "outputs": [],
   "source": [
    "# Load white supremacist corpus\n",
    "import pandas as pd\n",
    "\n",
    "path = '../tmp/white_supremacist_train_corpus.pkl'\n",
    "ws_data = pd.read_pickle(path)\n",
    "ws_data.info()"
   ]
  },
  {
   "cell_type": "code",
   "execution_count": null,
   "id": "d0f51c4f-a08b-4a92-8c06-e0d9a402fedd",
   "metadata": {},
   "outputs": [],
   "source": [
    "# View short posts across domains\n",
    "from IPython.display import display\n",
    "\n",
    "pd.set_option('display.max_colwidth', None)\n",
    "\n",
    "for domain in data.domain.unique():\n",
    "    print(domain)\n",
    "    domain_data = data.query('domain==@domain')\n",
    "    short = domain_data[domain_data.text.str.split().str.len() <= 10]\n",
    "    display(short.sample(10))"
   ]
  },
  {
   "cell_type": "code",
   "execution_count": null,
   "id": "f4817e2d-323d-495a-aebd-331fd510f2fd",
   "metadata": {},
   "outputs": [],
   "source": [
    "# View distribution of post length overall\n",
    "import plotly.express as px\n",
    "pd.options.plotting.backend = 'plotly'\n",
    "\n",
    "lengths = data.text.str.split().str.len()"
   ]
  },
  {
   "cell_type": "code",
   "execution_count": null,
   "id": "d5f1b546-92c6-454f-8d77-01cfe1d30741",
   "metadata": {},
   "outputs": [],
   "source": [
    "data['length'] = lengths"
   ]
  },
  {
   "cell_type": "code",
   "execution_count": null,
   "id": "c09b7cc7-7ded-408f-8030-23c9f0709d81",
   "metadata": {},
   "outputs": [],
   "source": [
    "# remove outliers\n",
    "sampled = lengths.sample(int(1e6))\n",
    "sampled[sampled < 200].hist()"
   ]
  },
  {
   "cell_type": "code",
   "execution_count": null,
   "id": "117e53b7-b48c-47ed-9e5b-68fd0cb79001",
   "metadata": {},
   "outputs": [],
   "source": [
    "s.domain.value_counts()"
   ]
  },
  {
   "cell_type": "code",
   "execution_count": null,
   "id": "f4b57275-8f58-4192-bd53-add433be25bf",
   "metadata": {},
   "outputs": [],
   "source": [
    "# Plot lengths across domains\n",
    "s = data[data.length < 100].sample(int(1e6))\n",
    "# s.hist(column='length')\n",
    "px.histogram(s, x='length', color='domain', barmode='overlay')"
   ]
  },
  {
   "cell_type": "code",
   "execution_count": null,
   "id": "d78c222b-3ce0-409c-894b-c2be1291dc3c",
   "metadata": {},
   "outputs": [],
   "source": [
    "# Plot lengths across non-forum domains\n",
    "s = data.query('length < 100 and domain != \"forum\"')\n",
    "# s.hist(column='length')\n",
    "px.histogram(s, x='length', color='domain', barmode='overlay')"
   ]
  },
  {
   "cell_type": "code",
   "execution_count": null,
   "id": "aa545273-9159-4b56-b7d3-c849baed2ad4",
   "metadata": {
    "scrolled": true,
    "tags": []
   },
   "outputs": [],
   "source": [
    "cdf = lengths.value_counts().sort_index().cumsum()/len(lengths)\n",
    "cdf"
   ]
  },
  {
   "cell_type": "code",
   "execution_count": null,
   "id": "dfce7f06-6377-4762-adcc-89bb507fca53",
   "metadata": {},
   "outputs": [],
   "source": [
    "px.line(cdf[:100])"
   ]
  },
  {
   "cell_type": "code",
   "execution_count": null,
   "id": "fa014d82-19f9-4669-af07-eb15d490f69c",
   "metadata": {
    "scrolled": true,
    "tags": []
   },
   "outputs": [],
   "source": [
    "# cdfs = {domain: data[data.domain==domain]['length'].value_counts().sort_index().cumsum()/len(data) for domain in data.domain.unique()}\n",
    "# cdfs = pd.concat([pd.DataFrame(\n",
    "#     {'cumsum': data[data.domain==domain]['length'].value_counts().sort_index().cumsum()/len(data), 'domain': domain}) for domain in data.domain.unique()\n",
    "#                  ])\n",
    "cdfs = pd.concat([pd.DataFrame(\n",
    "    data[data.domain==domain]['length'].value_counts().sort_index().cumsum()/len(data[data.domain==domain])).assign(domain=domain).rename_axis('value').reset_index() for domain in data.domain.unique()\n",
    "                 ])\n",
    "cdfs.info()\n",
    "cdfs[cdfs.value <= 100]"
   ]
  },
  {
   "cell_type": "code",
   "execution_count": null,
   "id": "e63d4842-2733-48b3-93e8-c4af1f9c32f0",
   "metadata": {
    "tags": []
   },
   "outputs": [],
   "source": [
    "px.line(cdfs[cdfs.value <= 100], x='value', y='length', color='domain')"
   ]
  },
  {
   "cell_type": "markdown",
   "id": "a653383b-955d-4128-ac64-9cc4add3adb7",
   "metadata": {},
   "source": [
    "## Check Patriot Front chat posts for white supremacist ideology"
   ]
  },
  {
   "cell_type": "code",
   "execution_count": null,
   "id": "2ea90b54-e8f5-40ee-b68b-763cca297e6b",
   "metadata": {},
   "outputs": [],
   "source": [
    "'172809042299715584'"
   ]
  },
  {
   "cell_type": "code",
   "execution_count": 6,
   "id": "758a85d6-9c38-45b8-9f98-9af06518dcda",
   "metadata": {},
   "outputs": [
    {
     "name": "stdout",
     "output_type": "stream",
     "text": [
      "<class 'pandas.core.frame.DataFrame'>\n",
      "Index: 229305 entries, calderon2021_0 to stormfront_99972\n",
      "Data columns (total 7 columns):\n",
      " #   Column      Non-Null Count   Dtype              \n",
      "---  ------      --------------   -----              \n",
      " 0   text        229305 non-null  object             \n",
      " 1   word_count  229305 non-null  int64              \n",
      " 2   dataset     229305 non-null  object             \n",
      " 3   source      229305 non-null  object             \n",
      " 4   domain      229305 non-null  object             \n",
      " 5   timestamp   229051 non-null  datetime64[ns, UTC]\n",
      " 6   num_words   229305 non-null  int64              \n",
      "dtypes: datetime64[ns, UTC](1), int64(2), object(4)\n",
      "memory usage: 14.0+ MB\n"
     ]
    }
   ],
   "source": [
    "# Load white supremacist corpus\n",
    "import pandas as pd\n",
    "\n",
    "path = '../tmp/white_supremacist_train_corpus.pkl'\n",
    "data = pd.read_pickle(path)\n",
    "data.info()"
   ]
  },
  {
   "cell_type": "code",
   "execution_count": 8,
   "id": "b672b39f-2c6b-499f-b72e-e15949ce25ac",
   "metadata": {
    "scrolled": true,
    "tags": []
   },
   "outputs": [
    {
     "data": {
      "text/html": [
       "<div>\n",
       "<style scoped>\n",
       "    .dataframe tbody tr th:only-of-type {\n",
       "        vertical-align: middle;\n",
       "    }\n",
       "\n",
       "    .dataframe tbody tr th {\n",
       "        vertical-align: top;\n",
       "    }\n",
       "\n",
       "    .dataframe thead th {\n",
       "        text-align: right;\n",
       "    }\n",
       "</style>\n",
       "<table border=\"1\" class=\"dataframe\">\n",
       "  <thead>\n",
       "    <tr style=\"text-align: right;\">\n",
       "      <th></th>\n",
       "      <th>text</th>\n",
       "      <th>source</th>\n",
       "    </tr>\n",
       "    <tr>\n",
       "      <th>id</th>\n",
       "      <th></th>\n",
       "      <th></th>\n",
       "    </tr>\n",
       "  </thead>\n",
       "  <tbody>\n",
       "    <tr>\n",
       "      <th>patriotfront_18048</th>\n",
       "      <td>`` [ redacted ] said his friends told him the people in the car the shots were fired from shouted “ sieg heil ” after asking them if they had seen someone named “ kyle. ” ``</td>\n",
       "      <td>discord</td>\n",
       "    </tr>\n",
       "    <tr>\n",
       "      <th>patriotfront_12392</th>\n",
       "      <td>nigger being interviewed who was inside speech `` i did n't even know it was going on . professor shoved me in line to get a ticked and i yelled blm ''</td>\n",
       "      <td>discord</td>\n",
       "    </tr>\n",
       "    <tr>\n",
       "      <th>patriotfront_14115</th>\n",
       "      <td>it 'll help if you have the doctor write something explaining the situation effects of the drug</td>\n",
       "      <td>discord</td>\n",
       "    </tr>\n",
       "    <tr>\n",
       "      <th>patriotfront_16345</th>\n",
       "      <td>when we win i vote the this clown not be ovened fucker is too hilarious to not have walking around providing free entertainment .</td>\n",
       "      <td>discord</td>\n",
       "    </tr>\n",
       "    <tr>\n",
       "      <th>patriotfront_18029</th>\n",
       "      <td>well , the website is a bit more bare bones and additions/edits have to be done directly through html . so ... maybe not for the time being .</td>\n",
       "      <td>discord</td>\n",
       "    </tr>\n",
       "    <tr>\n",
       "      <th>patriotfront_2068</th>\n",
       "      <td>make sure your daughters dont share the same fate as those in sa .</td>\n",
       "      <td>discord</td>\n",
       "    </tr>\n",
       "    <tr>\n",
       "      <th>patriotfront_11402</th>\n",
       "      <td>so , i think it will take a while for his emotional response to die down .</td>\n",
       "      <td>discord</td>\n",
       "    </tr>\n",
       "    <tr>\n",
       "      <th>patriotfront_12870</th>\n",
       "      <td>i have n't spoken to kevin yet , it just slipped my mind , but i did talk to &lt; @ ! 154153868593201153 &gt; about it when we were flyering . i 'm going to buy the canvas either tomorrow or the next day after work . i 'll either buy that or make them out of cardboard . those seem more likely &lt; @ 363070228864696330 &gt;</td>\n",
       "      <td>discord</td>\n",
       "    </tr>\n",
       "    <tr>\n",
       "      <th>patriotfront_16111</th>\n",
       "      <td>i do n't even understand what that guy is trying to say</td>\n",
       "      <td>discord</td>\n",
       "    </tr>\n",
       "    <tr>\n",
       "      <th>patriotfront_7630</th>\n",
       "      <td>things that are n't happening , but if they were , they 'd be sunday and monday north of you .</td>\n",
       "      <td>discord</td>\n",
       "    </tr>\n",
       "    <tr>\n",
       "      <th>patriotfront_9559</th>\n",
       "      <td>on mobile right now . i do n't see it .</td>\n",
       "      <td>discord</td>\n",
       "    </tr>\n",
       "    <tr>\n",
       "      <th>patriotfront_579</th>\n",
       "      <td>lolberg is a legend and i can say that without ever meeting him irl</td>\n",
       "      <td>discord</td>\n",
       "    </tr>\n",
       "    <tr>\n",
       "      <th>patriotfront_16240</th>\n",
       "      <td>sometimes i feel bad for these faggots , i think alot of them were abused as kids and that 's a rough life but once you 're that degenerate there 's probably no coming back</td>\n",
       "      <td>discord</td>\n",
       "    </tr>\n",
       "    <tr>\n",
       "      <th>patriotfront_6778</th>\n",
       "      <td>it 's a winning strategy . &lt; @ ! 334516956550004736 &gt;</td>\n",
       "      <td>discord</td>\n",
       "    </tr>\n",
       "    <tr>\n",
       "      <th>patriotfront_9089</th>\n",
       "      <td>&lt; @ ! 154153868593201153 &gt; what ’ s the song in that vid ?</td>\n",
       "      <td>discord</td>\n",
       "    </tr>\n",
       "    <tr>\n",
       "      <th>patriotfront_14561</th>\n",
       "      <td>&lt; @ 363070060295618560 &gt; the commies are super triggered :</td>\n",
       "      <td>discord</td>\n",
       "    </tr>\n",
       "    <tr>\n",
       "      <th>patriotfront_5290</th>\n",
       "      <td>basically the point is ... y'all 's parents never even saw the word `` hyperborean '' or knew about fascist esotericism but they still made white people . and did n't mess up too bad because y'all are here .</td>\n",
       "      <td>discord</td>\n",
       "    </tr>\n",
       "    <tr>\n",
       "      <th>patriotfront_8172</th>\n",
       "      <td>^ if someone wants to infil we need to be smart</td>\n",
       "      <td>discord</td>\n",
       "    </tr>\n",
       "    <tr>\n",
       "      <th>patriotfront_19094</th>\n",
       "      <td>will try to conceal my face though for the dox obviously</td>\n",
       "      <td>discord</td>\n",
       "    </tr>\n",
       "    <tr>\n",
       "      <th>patriotfront_2538</th>\n",
       "      <td>there are library discords as well as very solid repositories of pdfs relevant to our cause out there</td>\n",
       "      <td>discord</td>\n",
       "    </tr>\n",
       "    <tr>\n",
       "      <th>patriotfront_12561</th>\n",
       "      <td>he 's a leftist but he tells the story accurately , just saying `` wow this is horrible '' at pro-white times . he wo n't touch ww2 for that reason</td>\n",
       "      <td>discord</td>\n",
       "    </tr>\n",
       "    <tr>\n",
       "      <th>patriotfront_16208</th>\n",
       "      <td>so displays of sexual preference is demeaning now does that mean since i find gay pride parades to be harassment we can ban them ?</td>\n",
       "      <td>discord</td>\n",
       "    </tr>\n",
       "    <tr>\n",
       "      <th>patriotfront_16414</th>\n",
       "      <td>he is a faggot and he 's factually wrong .</td>\n",
       "      <td>discord</td>\n",
       "    </tr>\n",
       "    <tr>\n",
       "      <th>patriotfront_20166</th>\n",
       "      <td>yea a bunch of skimpy little guys with low testosterone</td>\n",
       "      <td>discord</td>\n",
       "    </tr>\n",
       "    <tr>\n",
       "      <th>patriotfront_27757</th>\n",
       "      <td>lol , ok. let 's have an arms race with banners .</td>\n",
       "      <td>discord</td>\n",
       "    </tr>\n",
       "    <tr>\n",
       "      <th>patriotfront_16484</th>\n",
       "      <td>southern spain is less white just as greek and southern italians but the majority are fully white of indo european descent</td>\n",
       "      <td>discord</td>\n",
       "    </tr>\n",
       "    <tr>\n",
       "      <th>patriotfront_10767</th>\n",
       "      <td>&lt; @ 199342367021596672 &gt; yeah i know , but strom did that shit .</td>\n",
       "      <td>discord</td>\n",
       "    </tr>\n",
       "    <tr>\n",
       "      <th>patriotfront_2012</th>\n",
       "      <td>she a girl that he hits on but could be</td>\n",
       "      <td>discord</td>\n",
       "    </tr>\n",
       "    <tr>\n",
       "      <th>patriotfront_11737</th>\n",
       "      <td>i can put it on my instagram and turn it black and white ... although im sure if any of you fine goys think this is good , you could do much better</td>\n",
       "      <td>discord</td>\n",
       "    </tr>\n",
       "    <tr>\n",
       "      <th>patriotfront_20229</th>\n",
       "      <td>&lt; @ 191016114497519620 &gt; congrats man , now the real work begins 😀</td>\n",
       "      <td>discord</td>\n",
       "    </tr>\n",
       "  </tbody>\n",
       "</table>\n",
       "</div>"
      ],
      "text/plain": [
       "                                                                                                                                                                                                                                                                                                                                        text  \\\n",
       "id                                                                                                                                                                                                                                                                                                                                             \n",
       "patriotfront_18048                                                                                                                                             `` [ redacted ] said his friends told him the people in the car the shots were fired from shouted “ sieg heil ” after asking them if they had seen someone named “ kyle. ” ``   \n",
       "patriotfront_12392                                                                                                                                                                   nigger being interviewed who was inside speech `` i did n't even know it was going on . professor shoved me in line to get a ticked and i yelled blm ''   \n",
       "patriotfront_14115                                                                                                                                                                                                                           it 'll help if you have the doctor write something explaining the situation effects of the drug   \n",
       "patriotfront_16345                                                                                                                                                                                         when we win i vote the this clown not be ovened fucker is too hilarious to not have walking around providing free entertainment .   \n",
       "patriotfront_18029                                                                                                                                                                             well , the website is a bit more bare bones and additions/edits have to be done directly through html . so ... maybe not for the time being .   \n",
       "patriotfront_2068                                                                                                                                                                                                                                                         make sure your daughters dont share the same fate as those in sa .   \n",
       "patriotfront_11402                                                                                                                                                                                                                                                so , i think it will take a while for his emotional response to die down .   \n",
       "patriotfront_12870  i have n't spoken to kevin yet , it just slipped my mind , but i did talk to < @ ! 154153868593201153 > about it when we were flyering . i 'm going to buy the canvas either tomorrow or the next day after work . i 'll either buy that or make them out of cardboard . those seem more likely < @ 363070228864696330 >   \n",
       "patriotfront_16111                                                                                                                                                                                                                                                                   i do n't even understand what that guy is trying to say   \n",
       "patriotfront_7630                                                                                                                                                                                                                             things that are n't happening , but if they were , they 'd be sunday and monday north of you .   \n",
       "patriotfront_9559                                                                                                                                                                                                                                                                                    on mobile right now . i do n't see it .   \n",
       "patriotfront_579                                                                                                                                                                                                                                                         lolberg is a legend and i can say that without ever meeting him irl   \n",
       "patriotfront_16240                                                                                                                                              sometimes i feel bad for these faggots , i think alot of them were abused as kids and that 's a rough life but once you 're that degenerate there 's probably no coming back   \n",
       "patriotfront_6778                                                                                                                                                                                                                                                                      it 's a winning strategy . < @ ! 334516956550004736 >   \n",
       "patriotfront_9089                                                                                                                                                                                                                                                                 < @ ! 154153868593201153 > what ’ s the song in that vid ?   \n",
       "patriotfront_14561                                                                                                                                                                                                                                                                < @ 363070060295618560 > the commies are super triggered :   \n",
       "patriotfront_5290                                                                                                            basically the point is ... y'all 's parents never even saw the word `` hyperborean '' or knew about fascist esotericism but they still made white people . and did n't mess up too bad because y'all are here .   \n",
       "patriotfront_8172                                                                                                                                                                                                                                                                            ^ if someone wants to infil we need to be smart   \n",
       "patriotfront_19094                                                                                                                                                                                                                                                                  will try to conceal my face though for the dox obviously   \n",
       "patriotfront_2538                                                                                                                                                                                                                      there are library discords as well as very solid repositories of pdfs relevant to our cause out there   \n",
       "patriotfront_12561                                                                                                                                                                       he 's a leftist but he tells the story accurately , just saying `` wow this is horrible '' at pro-white times . he wo n't touch ww2 for that reason   \n",
       "patriotfront_16208                                                                                                                                                                                        so displays of sexual preference is demeaning now does that mean since i find gay pride parades to be harassment we can ban them ?   \n",
       "patriotfront_16414                                                                                                                                                                                                                                                                                he is a faggot and he 's factually wrong .   \n",
       "patriotfront_20166                                                                                                                                                                                                                                                                   yea a bunch of skimpy little guys with low testosterone   \n",
       "patriotfront_27757                                                                                                                                                                                                                                                                         lol , ok. let 's have an arms race with banners .   \n",
       "patriotfront_16484                                                                                                                                                                                                southern spain is less white just as greek and southern italians but the majority are fully white of indo european descent   \n",
       "patriotfront_10767                                                                                                                                                                                                                                                          < @ 199342367021596672 > yeah i know , but strom did that shit .   \n",
       "patriotfront_2012                                                                                                                                                                                                                                                                                    she a girl that he hits on but could be   \n",
       "patriotfront_11737                                                                                                                                                                       i can put it on my instagram and turn it black and white ... although im sure if any of you fine goys think this is good , you could do much better   \n",
       "patriotfront_20229                                                                                                                                                                                                                                                        < @ 191016114497519620 > congrats man , now the real work begins 😀   \n",
       "\n",
       "                     source  \n",
       "id                           \n",
       "patriotfront_18048  discord  \n",
       "patriotfront_12392  discord  \n",
       "patriotfront_14115  discord  \n",
       "patriotfront_16345  discord  \n",
       "patriotfront_18029  discord  \n",
       "patriotfront_2068   discord  \n",
       "patriotfront_11402  discord  \n",
       "patriotfront_12870  discord  \n",
       "patriotfront_16111  discord  \n",
       "patriotfront_7630   discord  \n",
       "patriotfront_9559   discord  \n",
       "patriotfront_579    discord  \n",
       "patriotfront_16240  discord  \n",
       "patriotfront_6778   discord  \n",
       "patriotfront_9089   discord  \n",
       "patriotfront_14561  discord  \n",
       "patriotfront_5290   discord  \n",
       "patriotfront_8172   discord  \n",
       "patriotfront_19094  discord  \n",
       "patriotfront_2538   discord  \n",
       "patriotfront_12561  discord  \n",
       "patriotfront_16208  discord  \n",
       "patriotfront_16414  discord  \n",
       "patriotfront_20166  discord  \n",
       "patriotfront_27757  discord  \n",
       "patriotfront_16484  discord  \n",
       "patriotfront_10767  discord  \n",
       "patriotfront_2012   discord  \n",
       "patriotfront_11737  discord  \n",
       "patriotfront_20229  discord  "
      ]
     },
     "execution_count": 8,
     "metadata": {},
     "output_type": "execute_result"
    }
   ],
   "source": [
    "pd.set_option('display.max_colwidth', None)\n",
    "data.query('domain==\"chat\"').sample(30)[['text', 'dataset']]"
   ]
  },
  {
   "cell_type": "markdown",
   "id": "9cd7f49f-01d2-4f36-8880-06543647eca6",
   "metadata": {
    "tags": []
   },
   "source": [
    "# Corpus stats"
   ]
  },
  {
   "cell_type": "markdown",
   "id": "20d923a9-d2e9-4eaf-b86e-e580c2017f91",
   "metadata": {},
   "source": [
    "## Evaluation corpora"
   ]
  },
  {
   "cell_type": "code",
   "execution_count": 17,
   "id": "f2af76e0-b047-45ff-ae1e-4708b1373afb",
   "metadata": {},
   "outputs": [
    {
     "name": "stdout",
     "output_type": "stream",
     "text": [
      "<class 'pandas.core.frame.DataFrame'>\n",
      "Index: 16883 entries, alatawi2021_0 to rieger2021_6000\n",
      "Data columns (total 6 columns):\n",
      " #   Column      Non-Null Count  Dtype \n",
      "---  ------      --------------  ----- \n",
      " 0   text        16883 non-null  object\n",
      " 1   word_count  16883 non-null  int64 \n",
      " 2   dataset     16883 non-null  object\n",
      " 3   source      16883 non-null  object\n",
      " 4   domain      16883 non-null  object\n",
      " 5   label       16883 non-null  int64 \n",
      "dtypes: int64(2), object(4)\n",
      "memory usage: 923.3+ KB\n"
     ]
    }
   ],
   "source": [
    "# Load data\n",
    "import pandas as pd\n",
    "\n",
    "path = '../tmp/annotated_corpus.pkl'\n",
    "annotated = pd.read_pickle(path)\n",
    "annotated.info()"
   ]
  },
  {
   "cell_type": "code",
   "execution_count": 18,
   "id": "7c616737-3bb0-4dff-894c-a449c854d184",
   "metadata": {},
   "outputs": [
    {
     "data": {
      "text/plain": [
       "siegel2021     9743\n",
       "rieger2021     5141\n",
       "alatawi2021    1999\n",
       "Name: dataset, dtype: int64"
      ]
     },
     "execution_count": 18,
     "metadata": {},
     "output_type": "execute_result"
    }
   ],
   "source": [
    "annotated.dataset.value_counts()"
   ]
  },
  {
   "cell_type": "code",
   "execution_count": 21,
   "id": "374085b0-17aa-4e45-ac33-0f09b35c8970",
   "metadata": {},
   "outputs": [
    {
     "data": {
      "text/html": [
       "<div>\n",
       "<style scoped>\n",
       "    .dataframe tbody tr th:only-of-type {\n",
       "        vertical-align: middle;\n",
       "    }\n",
       "\n",
       "    .dataframe tbody tr th {\n",
       "        vertical-align: top;\n",
       "    }\n",
       "\n",
       "    .dataframe thead th {\n",
       "        text-align: right;\n",
       "    }\n",
       "</style>\n",
       "<table border=\"1\" class=\"dataframe\">\n",
       "  <thead>\n",
       "    <tr style=\"text-align: right;\">\n",
       "      <th></th>\n",
       "      <th>not ws</th>\n",
       "      <th>ws</th>\n",
       "      <th>All</th>\n",
       "      <th>ws proportion</th>\n",
       "    </tr>\n",
       "    <tr>\n",
       "      <th>dataset</th>\n",
       "      <th></th>\n",
       "      <th></th>\n",
       "      <th></th>\n",
       "      <th></th>\n",
       "    </tr>\n",
       "  </thead>\n",
       "  <tbody>\n",
       "    <tr>\n",
       "      <th>alatawi2021</th>\n",
       "      <td>899</td>\n",
       "      <td>1100</td>\n",
       "      <td>1999</td>\n",
       "      <td>0.550275</td>\n",
       "    </tr>\n",
       "    <tr>\n",
       "      <th>rieger2021</th>\n",
       "      <td>4775</td>\n",
       "      <td>366</td>\n",
       "      <td>5141</td>\n",
       "      <td>0.071192</td>\n",
       "    </tr>\n",
       "    <tr>\n",
       "      <th>siegel2021</th>\n",
       "      <td>9572</td>\n",
       "      <td>171</td>\n",
       "      <td>9743</td>\n",
       "      <td>0.017551</td>\n",
       "    </tr>\n",
       "    <tr>\n",
       "      <th>All</th>\n",
       "      <td>15246</td>\n",
       "      <td>1637</td>\n",
       "      <td>16883</td>\n",
       "      <td>0.096961</td>\n",
       "    </tr>\n",
       "  </tbody>\n",
       "</table>\n",
       "</div>"
      ],
      "text/plain": [
       "             not ws    ws    All  ws proportion\n",
       "dataset                                        \n",
       "alatawi2021     899  1100   1999       0.550275\n",
       "rieger2021     4775   366   5141       0.071192\n",
       "siegel2021     9572   171   9743       0.017551\n",
       "All           15246  1637  16883       0.096961"
      ]
     },
     "execution_count": 21,
     "metadata": {},
     "output_type": "execute_result"
    }
   ],
   "source": [
    "dataset_distro = pd.crosstab(annotated.dataset, annotated.label, margins=True)\n",
    "dataset_distro.columns = ['not ws', 'ws', 'All']\n",
    "dataset_distro['ws proportion'] = dataset_distro['ws']/dataset_distro['All']\n",
    "dataset_distro"
   ]
  },
  {
   "cell_type": "code",
   "execution_count": 2,
   "id": "5c9142b3-82ac-4058-9b90-5a30af0dd795",
   "metadata": {},
   "outputs": [
    {
     "name": "stdout",
     "output_type": "stream",
     "text": [
      "<class 'pandas.core.frame.DataFrame'>\n",
      "Index: 5162 entries, rieger2021_1 to rieger2021_6000\n",
      "Data columns (total 5 columns):\n",
      " #   Column   Non-Null Count  Dtype \n",
      "---  ------   --------------  ----- \n",
      " 0   text     5162 non-null   object\n",
      " 1   dataset  5162 non-null   object\n",
      " 2   source   5162 non-null   object\n",
      " 3   domain   5162 non-null   object\n",
      " 4   label    5162 non-null   int64 \n",
      "dtypes: int64(1), object(4)\n",
      "memory usage: 242.0+ KB\n"
     ]
    },
    {
     "data": {
      "text/plain": [
       "0    4794\n",
       "1     368\n",
       "Name: label, dtype: int64"
      ]
     },
     "execution_count": 2,
     "metadata": {},
     "output_type": "execute_result"
    }
   ],
   "source": [
    "# Look at Rieger+2021\n",
    "rieger2021 = annotated[annotated.dataset=='rieger2021']\n",
    "rieger2021.info()\n",
    "rieger2021.label.value_counts()"
   ]
  },
  {
   "cell_type": "markdown",
   "id": "e9f336ab-1735-46d4-a919-1e93dee7ac3a",
   "metadata": {},
   "source": [
    "## Training corpora"
   ]
  },
  {
   "cell_type": "code",
   "execution_count": 1,
   "id": "8253c5f8-f614-40a0-aa04-c608abad016e",
   "metadata": {},
   "outputs": [
    {
     "name": "stdout",
     "output_type": "stream",
     "text": [
      "<class 'pandas.core.frame.DataFrame'>\n",
      "Index: 106103 entries, calderon2021_daily_stormer_1002 to stormfront_99941\n",
      "Data columns (total 7 columns):\n",
      " #   Column      Non-Null Count   Dtype              \n",
      "---  ------      --------------   -----              \n",
      " 0   text        106103 non-null  object             \n",
      " 1   word_count  106103 non-null  int64              \n",
      " 2   dataset     106103 non-null  object             \n",
      " 3   source      106103 non-null  object             \n",
      " 4   domain      106103 non-null  object             \n",
      " 5   timestamp   106092 non-null  datetime64[ns, UTC]\n",
      " 6   topic       106103 non-null  int64              \n",
      "dtypes: datetime64[ns, UTC](1), int64(2), object(4)\n",
      "memory usage: 6.5+ MB\n"
     ]
    }
   ],
   "source": [
    "# Load data\n",
    "import pandas as pd\n",
    "\n",
    "path = '../tmp/white_supremacist_train_corpus.pkl'\n",
    "# path = '../tmp/antiracist_train_corpus.pkl'\n",
    "# path = '../tmp/domain_test_corpus.pkl'\n",
    "ws_data = pd.read_pickle(path)\n",
    "# path = '../data/corpora/white_supremacist_corpus.json'\n",
    "# data = pd.read_json(path, orient='table')\n",
    "# print(len(data))\n",
    "# data.columns\n",
    "ws_data.info()"
   ]
  },
  {
   "cell_type": "code",
   "execution_count": 4,
   "id": "cd805227-7e8c-465a-a88b-e6a99294afaf",
   "metadata": {},
   "outputs": [
    {
     "data": {
      "text/html": [
       "<div>\n",
       "<style scoped>\n",
       "    .dataframe tbody tr th:only-of-type {\n",
       "        vertical-align: middle;\n",
       "    }\n",
       "\n",
       "    .dataframe tbody tr th {\n",
       "        vertical-align: top;\n",
       "    }\n",
       "\n",
       "    .dataframe thead th {\n",
       "        text-align: right;\n",
       "    }\n",
       "</style>\n",
       "<table border=\"1\" class=\"dataframe\">\n",
       "  <thead>\n",
       "    <tr style=\"text-align: right;\">\n",
       "      <th></th>\n",
       "      <th>post_count</th>\n",
       "      <th>word_count</th>\n",
       "      <th>avg_post_length</th>\n",
       "    </tr>\n",
       "  </thead>\n",
       "  <tbody>\n",
       "    <tr>\n",
       "      <th>chat</th>\n",
       "      <td>18739</td>\n",
       "      <td>425654</td>\n",
       "      <td>22.714873</td>\n",
       "    </tr>\n",
       "    <tr>\n",
       "      <th>forum</th>\n",
       "      <td>100000</td>\n",
       "      <td>6511295</td>\n",
       "      <td>65.112950</td>\n",
       "    </tr>\n",
       "    <tr>\n",
       "      <th>long-form</th>\n",
       "      <td>38036</td>\n",
       "      <td>11420987</td>\n",
       "      <td>300.267825</td>\n",
       "    </tr>\n",
       "    <tr>\n",
       "      <th>tweet</th>\n",
       "      <td>72530</td>\n",
       "      <td>1268597</td>\n",
       "      <td>17.490652</td>\n",
       "    </tr>\n",
       "    <tr>\n",
       "      <th>total</th>\n",
       "      <td>229305</td>\n",
       "      <td>19626533</td>\n",
       "      <td>85.591387</td>\n",
       "    </tr>\n",
       "  </tbody>\n",
       "</table>\n",
       "</div>"
      ],
      "text/plain": [
       "           post_count  word_count  avg_post_length\n",
       "chat            18739      425654        22.714873\n",
       "forum          100000     6511295        65.112950\n",
       "long-form       38036    11420987       300.267825\n",
       "tweet           72530     1268597        17.490652\n",
       "total          229305    19626533        85.591387"
      ]
     },
     "execution_count": 4,
     "metadata": {},
     "output_type": "execute_result"
    }
   ],
   "source": [
    "# Post and word counts total and per domain\n",
    "# data['num_words'] = data.text.str.split().str.len()\n",
    "stats = data.groupby('domain').agg({'num_words': ['count', 'sum', 'mean']})\n",
    "stats.columns = ['post_count', 'word_count', 'avg_post_length']\n",
    "stats\n",
    "\n",
    "total = pd.DataFrame({'post_count': len(data), 'word_count': data.num_words.sum(), 'avg_post_length': data.num_words.mean()}, index=['total'])\n",
    "total\n",
    "\n",
    "pd.concat([stats,total])"
   ]
  },
  {
   "cell_type": "markdown",
   "id": "e563bd92-98fb-4273-8ae0-5c4a8774e6c0",
   "metadata": {},
   "source": [
    "# Compare corpora"
   ]
  },
  {
   "cell_type": "markdown",
   "id": "e9531266-e76e-4cfd-b5ea-78159700897c",
   "metadata": {},
   "source": [
    "## Compare neutral+antiracist vs neutral_antiracist_size"
   ]
  },
  {
   "cell_type": "code",
   "execution_count": 3,
   "id": "c66c954d-12cc-4f12-8779-302bbfef68b6",
   "metadata": {},
   "outputs": [
    {
     "name": "stdout",
     "output_type": "stream",
     "text": [
      "246851\n",
      "237465\n"
     ]
    }
   ],
   "source": [
    "# Load corpora\n",
    "import pandas as pd\n",
    "\n",
    "neutral_fpath = '../tmp/neutral_train_corpus.pkl'\n",
    "antiracist_fpath = '../tmp/antiracist_train_corpus.pkl'\n",
    "neutral_antiracist_size_fpath = '../tmp/neutral_antiracist_size_corpus.pkl'\n",
    "\n",
    "neutral = pd.read_pickle(neutral_fpath)\n",
    "antiracist = pd.read_pickle(antiracist_fpath)\n",
    "neutral_antiracist_size = pd.read_pickle(neutral_antiracist_size_fpath)\n",
    "print(len(neutral) + len(antiracist))\n",
    "print(len(neutral_antiracist_size))"
   ]
  },
  {
   "cell_type": "markdown",
   "id": "f34920a7-3df5-4d12-9d9c-3c8bd453df03",
   "metadata": {},
   "source": [
    "## Compare train/test splits"
   ]
  },
  {
   "cell_type": "code",
   "execution_count": 14,
   "id": "28674485-1e8a-4fc0-a6f3-3f597fc3b56f",
   "metadata": {},
   "outputs": [
    {
     "name": "stdout",
     "output_type": "stream",
     "text": [
      "<class 'pandas.core.frame.DataFrame'>\n",
      "Index: 4935 entries, alatawi2021_4 to rieger2021_5997\n",
      "Data columns (total 6 columns):\n",
      " #   Column      Non-Null Count  Dtype \n",
      "---  ------      --------------  ----- \n",
      " 0   text        4935 non-null   object\n",
      " 1   word_count  4935 non-null   int64 \n",
      " 2   dataset     4935 non-null   object\n",
      " 3   source      4935 non-null   object\n",
      " 4   domain      4935 non-null   object\n",
      " 5   label       4935 non-null   int64 \n",
      "dtypes: int64(2), object(4)\n",
      "memory usage: 269.9+ KB\n"
     ]
    }
   ],
   "source": [
    "# Load annotations_5x test split\n",
    "import pandas as pd\n",
    "import pickle\n",
    "\n",
    "fpath = '../tmp/annotated_5x_corpus_test30.pkl'\n",
    "with open(fpath, 'rb') as f:\n",
    "    annotations_5x_test = pickle.load(f)\n",
    "annotations_5x_test.info()"
   ]
  },
  {
   "cell_type": "code",
   "execution_count": 15,
   "id": "bbce332a-aa15-48b4-8c46-d1ad79feaa17",
   "metadata": {},
   "outputs": [
    {
     "name": "stdout",
     "output_type": "stream",
     "text": [
      "<class 'pandas.core.frame.DataFrame'>\n",
      "Index: 57645 entries, alatawi2021_0 to siegel2021_9999\n",
      "Data columns (total 6 columns):\n",
      " #   Column      Non-Null Count  Dtype \n",
      "---  ------      --------------  ----- \n",
      " 0   text        57645 non-null  object\n",
      " 1   word_count  57645 non-null  int64 \n",
      " 2   dataset     57645 non-null  object\n",
      " 3   source      57645 non-null  object\n",
      " 4   domain      57645 non-null  object\n",
      " 5   label       57645 non-null  int64 \n",
      "dtypes: int64(2), object(4)\n",
      "memory usage: 3.1+ MB\n"
     ]
    }
   ],
   "source": [
    "# Load annotations_5x train split (just to confirm it doesn't have overlap with annotations_5x_test\n",
    "fpath = '../tmp/annotated_5x_corpus_train70.pkl'\n",
    "with open(fpath, 'rb') as f:\n",
    "    annotations_5x_train = pickle.load(f)\n",
    "annotations_5x_train.info()"
   ]
  },
  {
   "cell_type": "code",
   "execution_count": 3,
   "id": "865130ff-6fb6-4dda-9c90-1ff2a028fd5f",
   "metadata": {},
   "outputs": [
    {
     "name": "stdout",
     "output_type": "stream",
     "text": [
      "<class 'pandas.core.frame.DataFrame'>\n",
      "Index: 11818 entries, rieger2021_4314 to alatawi2021_501\n",
      "Data columns (total 6 columns):\n",
      " #   Column      Non-Null Count  Dtype \n",
      "---  ------      --------------  ----- \n",
      " 0   text        11818 non-null  object\n",
      " 1   word_count  11818 non-null  int64 \n",
      " 2   dataset     11818 non-null  object\n",
      " 3   source      11818 non-null  object\n",
      " 4   domain      11818 non-null  object\n",
      " 5   label       11818 non-null  int64 \n",
      "dtypes: int64(2), object(4)\n",
      "memory usage: 646.3+ KB\n"
     ]
    }
   ],
   "source": [
    "# Load regular annotations training split\n",
    "\n",
    "fpath = '../tmp/annotated_corpus_train70.pkl'\n",
    "with open(fpath, 'rb') as f:\n",
    "    annotations_train = pickle.load(f)\n",
    "annotations_train.info()"
   ]
  },
  {
   "cell_type": "code",
   "execution_count": 4,
   "id": "3ce24052-b1cc-4d93-bbf4-c5c5f14a0b0a",
   "metadata": {},
   "outputs": [
    {
     "name": "stdout",
     "output_type": "stream",
     "text": [
      "<class 'pandas.core.frame.DataFrame'>\n",
      "Index: 5065 entries, rieger2021_4694 to siegel2021_8429\n",
      "Data columns (total 6 columns):\n",
      " #   Column      Non-Null Count  Dtype \n",
      "---  ------      --------------  ----- \n",
      " 0   text        5065 non-null   object\n",
      " 1   word_count  5065 non-null   int64 \n",
      " 2   dataset     5065 non-null   object\n",
      " 3   source      5065 non-null   object\n",
      " 4   domain      5065 non-null   object\n",
      " 5   label       5065 non-null   int64 \n",
      "dtypes: int64(2), object(4)\n",
      "memory usage: 277.0+ KB\n"
     ]
    }
   ],
   "source": [
    "# Load regular annotations test split that onlyannotated models used\n",
    "\n",
    "fpath = '../tmp/annotated_corpus_test30.pkl'\n",
    "with open(fpath, 'rb') as f:\n",
    "    annotations_test = pickle.load(f)\n",
    "annotations_test.info()"
   ]
  },
  {
   "cell_type": "code",
   "execution_count": 6,
   "id": "85ae69b4-de6b-4d29-abf6-7b2b02ee3955",
   "metadata": {},
   "outputs": [
    {
     "data": {
      "text/plain": [
       "0"
      ]
     },
     "execution_count": 6,
     "metadata": {},
     "output_type": "execute_result"
    }
   ],
   "source": [
    "len(set(annotations_train.index).intersection(set(annotations_test.index)))"
   ]
  },
  {
   "cell_type": "code",
   "execution_count": 12,
   "id": "ff8b986c-b202-4350-8283-96fb0445ddfb",
   "metadata": {},
   "outputs": [
    {
     "data": {
      "text/plain": [
       "0"
      ]
     },
     "execution_count": 12,
     "metadata": {},
     "output_type": "execute_result"
    }
   ],
   "source": [
    "len(set(annotations_5x_train.index).intersection(set(annotations_5x_test.index)))"
   ]
  },
  {
   "cell_type": "code",
   "execution_count": 16,
   "id": "517ad60d-ede3-4ff4-b4c4-e29dafa74b50",
   "metadata": {},
   "outputs": [
    {
     "data": {
      "text/plain": [
       "0"
      ]
     },
     "execution_count": 16,
     "metadata": {},
     "output_type": "execute_result"
    }
   ],
   "source": [
    "len(set(annotations_train.index).intersection(set(annotations_5x_test.index)))"
   ]
  },
  {
   "cell_type": "code",
   "execution_count": 20,
   "id": "f2781401-1ff1-418d-b622-3fa57b0a69cb",
   "metadata": {},
   "outputs": [
    {
     "data": {
      "text/plain": [
       "0.2997448979591837"
      ]
     },
     "execution_count": 20,
     "metadata": {},
     "output_type": "execute_result"
    }
   ],
   "source": [
    "# Check annotated_5x train/test ratio\n",
    "(len(annotations_5x_test)*5)/((len(annotations_5x_test)*5)+len(annotations_5x_train))"
   ]
  },
  {
   "cell_type": "code",
   "execution_count": 25,
   "id": "d4c4185e-8ec9-4590-bab6-9d824b605efe",
   "metadata": {},
   "outputs": [],
   "source": [
    "# Check separate datasets for train/test overlap\n",
    "datasets = {}\n",
    "for name in ['alatawi2021', 'rieger2021', 'siegel2021']:\n",
    "    datasets[name] = {}\n",
    "    ds_path = f'../tmp/annotated_{name}_corpus.pkl'\n",
    "    train_path = ds_path[:-4] + '_train70.pkl'\n",
    "    test_path = ds_path[:-4] + '_test30.pkl'\n",
    "    datasets[name]['all'] = pd.read_pickle(ds_path)\n",
    "    datasets[name]['train'] = pd.read_pickle(train_path)\n",
    "    datasets[name]['test'] = pd.read_pickle(test_path)"
   ]
  },
  {
   "cell_type": "code",
   "execution_count": 26,
   "id": "fa902454-e2f1-4b70-916f-dc6fbdac2fee",
   "metadata": {},
   "outputs": [
    {
     "name": "stdout",
     "output_type": "stream",
     "text": [
      "alatawi2021\n",
      "0\n",
      "rieger2021\n",
      "0\n",
      "siegel2021\n",
      "0\n"
     ]
    }
   ],
   "source": [
    "# Check separate datasets for train/test overlap\n",
    "for name in datasets:\n",
    "    print(name)\n",
    "    print(len(set(datasets[name]['train'].index).intersection(set(annotations_test.index))))"
   ]
  },
  {
   "cell_type": "markdown",
   "id": "a58eae0d-3c72-4037-a63d-4885abec07b3",
   "metadata": {
    "tags": []
   },
   "source": [
    "# Create corpora from train/test splits"
   ]
  },
  {
   "cell_type": "markdown",
   "id": "cc956cef-aa37-453b-9dca-6c2a06acd9ef",
   "metadata": {
    "tags": []
   },
   "source": [
    "## Split annotated_5x train dataset and annotated_5x_train70_singles by dataset \n",
    "So that nothing overlaps with annotated_5x_test30"
   ]
  },
  {
   "cell_type": "code",
   "execution_count": 2,
   "id": "7fc6ff37-1e31-453f-88fc-1e695a0ef450",
   "metadata": {},
   "outputs": [
    {
     "name": "stdout",
     "output_type": "stream",
     "text": [
      "<class 'pandas.core.frame.DataFrame'>\n",
      "Index: 59090 entries, alatawi2021_0 to siegel2021_9997\n",
      "Data columns (total 6 columns):\n",
      " #   Column      Non-Null Count  Dtype \n",
      "---  ------      --------------  ----- \n",
      " 0   text        59090 non-null  object\n",
      " 1   word_count  59090 non-null  int64 \n",
      " 2   dataset     59090 non-null  object\n",
      " 3   source      59090 non-null  object\n",
      " 4   domain      59090 non-null  object\n",
      " 5   label       59090 non-null  int64 \n",
      "dtypes: int64(2), object(4)\n",
      "memory usage: 3.2+ MB\n"
     ]
    }
   ],
   "source": [
    "# Load annotations_5x train split (just to confirm it doesn't have overlap with annotations_5x_test\n",
    "fpath = '../tmp/annotated_5x_corpus_train70.pkl'\n",
    "with open(fpath, 'rb') as f:\n",
    "    annotations_5x_train = pickle.load(f)\n",
    "annotations_5x_train.info()"
   ]
  },
  {
   "cell_type": "code",
   "execution_count": 3,
   "id": "c87335f2-a26f-4d43-bdeb-0b73ba05a1b7",
   "metadata": {},
   "outputs": [
    {
     "data": {
      "text/plain": [
       "siegel2021     6798\n",
       "rieger2021     3524\n",
       "alatawi2021    1397\n",
       "Name: dataset, dtype: int64"
      ]
     },
     "execution_count": 3,
     "metadata": {},
     "output_type": "execute_result"
    }
   ],
   "source": [
    "# Check that has new Siegel2021 (not just white_nationalist_info)\n",
    "annotations_5x_train.drop_duplicates().dataset.value_counts() # yes, appears to since has many examples for siegel"
   ]
  },
  {
   "cell_type": "code",
   "execution_count": 6,
   "id": "b6cd997b-3da5-40d5-a6af-458a125ef33a",
   "metadata": {},
   "outputs": [],
   "source": [
    "# Split by dataset\n",
    "separate = {dataset: annotations_5x_train[annotations_5x_train['dataset']==dataset] for dataset in annotations_5x_train.dataset.unique()}\n",
    "for name, data in separate.items():\n",
    "    outpath = f'../tmp/annotated_{name}_5x_corpus_train70.pkl'\n",
    "    data.to_pickle(outpath)\n",
    "    outpath = f'../data/corpora/annotated_{name}_5x_corpus_train70.json'\n",
    "    data.to_json(outpath, orient='table', indent=4)"
   ]
  },
  {
   "cell_type": "code",
   "execution_count": 7,
   "id": "89ec05fa-2861-4c7d-9677-24ee271f699e",
   "metadata": {},
   "outputs": [
    {
     "name": "stdout",
     "output_type": "stream",
     "text": [
      "alatawi2021 7011\n",
      "rieger2021 17702\n",
      "siegel2021 34377\n"
     ]
    }
   ],
   "source": [
    "for name, data in separate.items():\n",
    "    print(name, len(data))"
   ]
  },
  {
   "cell_type": "code",
   "execution_count": null,
   "id": "33a3a4ae-0b89-4da5-adad-550e7e08d647",
   "metadata": {},
   "outputs": [],
   "source": [
    "# Load test set, split by dataset just to be complete (probably won't use)"
   ]
  },
  {
   "cell_type": "code",
   "execution_count": 19,
   "id": "b4e374ed-d884-4d01-b03b-4c6fb541eee7",
   "metadata": {},
   "outputs": [
    {
     "name": "stdout",
     "output_type": "stream",
     "text": [
      "<class 'pandas.core.frame.DataFrame'>\n",
      "Index: 5065 entries, rieger2021_4694 to siegel2021_18927\n",
      "Data columns (total 6 columns):\n",
      " #   Column      Non-Null Count  Dtype \n",
      "---  ------      --------------  ----- \n",
      " 0   text        5065 non-null   object\n",
      " 1   word_count  5065 non-null   int64 \n",
      " 2   dataset     5065 non-null   object\n",
      " 3   source      5065 non-null   object\n",
      " 4   domain      5065 non-null   object\n",
      " 5   label       5065 non-null   int64 \n",
      "dtypes: int64(2), object(4)\n",
      "memory usage: 277.0+ KB\n"
     ]
    }
   ],
   "source": [
    "# Load annotations_5x test split\n",
    "fpath = '../tmp/annotated_5x_corpus_test30.pkl'\n",
    "with open(fpath, 'rb') as f:\n",
    "    annotations_5x_test = pickle.load(f)\n",
    "annotations_5x_test.info()"
   ]
  },
  {
   "cell_type": "code",
   "execution_count": 9,
   "id": "8a6326fb-85a8-464d-bfe9-d5f03c4e5b34",
   "metadata": {},
   "outputs": [],
   "source": [
    "# Split by dataset\n",
    "separate = {dataset: annotations_5x_test[annotations_5x_test['dataset']==dataset] for dataset in annotations_5x_test.dataset.unique()}\n",
    "for name, data in separate.items():\n",
    "    outpath = f'../tmp/annotated_{name}_5x_corpus_test30.pkl'\n",
    "    data.to_pickle(outpath)\n",
    "    outpath = f'../data/corpora/annotated_{name}_5x_corpus_test30.json'\n",
    "    data.to_json(outpath, orient='table', indent=4)"
   ]
  },
  {
   "cell_type": "code",
   "execution_count": 12,
   "id": "885571f1-2730-4d06-af11-87adcd3a39bd",
   "metadata": {},
   "outputs": [
    {
     "name": "stdout",
     "output_type": "stream",
     "text": [
      "<class 'pandas.core.frame.DataFrame'>\n",
      "Index: 5333 entries, alatawi2021_0 to siegel2021_white_nationalist_only_9992\n",
      "Data columns (total 6 columns):\n",
      " #   Column      Non-Null Count  Dtype \n",
      "---  ------      --------------  ----- \n",
      " 0   text        5333 non-null   object\n",
      " 1   word_count  5333 non-null   int64 \n",
      " 2   dataset     5333 non-null   object\n",
      " 3   source      5333 non-null   object\n",
      " 4   domain      5333 non-null   object\n",
      " 5   label       5333 non-null   int64 \n",
      "dtypes: int64(2), object(4)\n",
      "memory usage: 291.6+ KB\n"
     ]
    }
   ],
   "source": [
    "# Load annotations_5x train singles to also split by data\n",
    "fpath = '../tmp/annotated_5x_train70_singles_corpus.pkl'\n",
    "with open(fpath, 'rb') as f:\n",
    "    annotated_singles_train = pickle.load(f)\n",
    "annotated_singles_train.info()"
   ]
  },
  {
   "cell_type": "code",
   "execution_count": 15,
   "id": "d72ae367-4ba4-4587-be99-2b50b8fb04fe",
   "metadata": {},
   "outputs": [
    {
     "data": {
      "text/plain": [
       "array(['alatawi2021', 'rieger2021', 'siegel2021_white_nationalist_only'],\n",
       "      dtype=object)"
      ]
     },
     "execution_count": 15,
     "metadata": {},
     "output_type": "execute_result"
    }
   ],
   "source": [
    "annotated_singles_train.dataset.unique()"
   ]
  },
  {
   "cell_type": "code",
   "execution_count": 14,
   "id": "5f618639-2cb1-4327-974c-960091134779",
   "metadata": {},
   "outputs": [],
   "source": [
    "# Split by dataset\n",
    "separate = {dataset: annotated_singles_train[annotated_singles_train['dataset']==dataset] for dataset in annotated_singles_train.dataset.unique()}\n",
    "for name, data in separate.items():\n",
    "    outpath = f'../tmp/annotated_{name}_5x_train70_singles_corpus.pkl'\n",
    "    data.to_pickle(outpath)\n",
    "    outpath = f'../data/corpora/annotated_{name}_5x_train70_singles_corpus.json'\n",
    "    data.to_json(outpath, orient='table', indent=4)"
   ]
  },
  {
   "cell_type": "markdown",
   "id": "30210d2e-7e52-44d7-addd-6e05e9a008ad",
   "metadata": {
    "tags": []
   },
   "source": [
    "## Annotated train corpus of single examples that aren't present in annotated_5x_test"
   ]
  },
  {
   "cell_type": "code",
   "execution_count": 16,
   "id": "f3b37b94-c40c-42bf-9269-23583ca068b7",
   "metadata": {},
   "outputs": [
    {
     "name": "stdout",
     "output_type": "stream",
     "text": [
      "<class 'pandas.core.frame.DataFrame'>\n",
      "Index: 59090 entries, alatawi2021_0 to siegel2021_9997\n",
      "Data columns (total 6 columns):\n",
      " #   Column      Non-Null Count  Dtype \n",
      "---  ------      --------------  ----- \n",
      " 0   text        59090 non-null  object\n",
      " 1   word_count  59090 non-null  int64 \n",
      " 2   dataset     59090 non-null  object\n",
      " 3   source      59090 non-null  object\n",
      " 4   domain      59090 non-null  object\n",
      " 5   label       59090 non-null  int64 \n",
      "dtypes: int64(2), object(4)\n",
      "memory usage: 3.2+ MB\n"
     ]
    }
   ],
   "source": [
    "# Load annotations_5x train split\n",
    "fpath = '../tmp/annotated_5x_corpus_train70.pkl'\n",
    "with open(fpath, 'rb') as f:\n",
    "    annotations_5x_train = pickle.load(f)\n",
    "annotations_5x_train.info()"
   ]
  },
  {
   "cell_type": "code",
   "execution_count": 17,
   "id": "75540891-9ac7-42fe-988a-a09361707e61",
   "metadata": {},
   "outputs": [
    {
     "data": {
      "text/plain": [
       "11719"
      ]
     },
     "execution_count": 17,
     "metadata": {},
     "output_type": "execute_result"
    }
   ],
   "source": [
    "annotations_5x_train_singles = annotations_5x_train.drop_duplicates()\n",
    "len(annotations_5x_train_singles)"
   ]
  },
  {
   "cell_type": "code",
   "execution_count": 18,
   "id": "bcba6f66-36da-4781-9aad-3fce82ff3034",
   "metadata": {},
   "outputs": [
    {
     "data": {
      "text/plain": [
       "37"
      ]
     },
     "execution_count": 18,
     "metadata": {},
     "output_type": "execute_result"
    }
   ],
   "source": [
    "len(set(annotations_5x_train_singles.index).intersection(set(annotations_5x_test.index)))"
   ]
  },
  {
   "cell_type": "code",
   "execution_count": 8,
   "id": "d05e7e6e-9b14-4c12-b2c6-b72174522179",
   "metadata": {},
   "outputs": [],
   "source": [
    "# Save out\n",
    "outpath_pkl = '../tmp/annotated_5x_train70_singles_corpus.pkl'\n",
    "outpath_json = '../data/corpora/annotated_5x_train70_singles_corpus.json'\n",
    "\n",
    "annotations_5x_train_singles.to_pickle(outpath_pkl)\n",
    "annotations_5x_train_singles.to_json(outpath_json, orient='table', indent=4)"
   ]
  },
  {
   "cell_type": "markdown",
   "id": "38a3629c-7923-405a-8480-ea2c4e141421",
   "metadata": {},
   "source": [
    "## Other"
   ]
  },
  {
   "cell_type": "code",
   "execution_count": 16,
   "id": "7123f4e6-1085-4836-b9bc-f1b92bc35795",
   "metadata": {},
   "outputs": [
    {
     "name": "stdout",
     "output_type": "stream",
     "text": [
      "<class 'pandas.core.frame.DataFrame'>\n",
      "Index: 106103 entries, calderon2021_daily_stormer_1002 to stormfront_99941\n",
      "Data columns (total 7 columns):\n",
      " #   Column      Non-Null Count   Dtype              \n",
      "---  ------      --------------   -----              \n",
      " 0   text        106103 non-null  object             \n",
      " 1   word_count  106103 non-null  int64              \n",
      " 2   dataset     106103 non-null  object             \n",
      " 3   source      106103 non-null  object             \n",
      " 4   domain      106103 non-null  object             \n",
      " 5   timestamp   106092 non-null  datetime64[ns, UTC]\n",
      " 6   topic       106103 non-null  int64              \n",
      "dtypes: datetime64[ns, UTC](1), int64(2), object(4)\n",
      "memory usage: 6.5+ MB\n"
     ]
    },
    {
     "data": {
      "text/html": [
       "<div>\n",
       "<style scoped>\n",
       "    .dataframe tbody tr th:only-of-type {\n",
       "        vertical-align: middle;\n",
       "    }\n",
       "\n",
       "    .dataframe tbody tr th {\n",
       "        vertical-align: top;\n",
       "    }\n",
       "\n",
       "    .dataframe thead th {\n",
       "        text-align: right;\n",
       "    }\n",
       "</style>\n",
       "<table border=\"1\" class=\"dataframe\">\n",
       "  <thead>\n",
       "    <tr style=\"text-align: right;\">\n",
       "      <th></th>\n",
       "      <th>post_count</th>\n",
       "      <th>word_count</th>\n",
       "      <th>avg_post_length</th>\n",
       "    </tr>\n",
       "  </thead>\n",
       "  <tbody>\n",
       "    <tr>\n",
       "      <th>chat</th>\n",
       "      <td>564</td>\n",
       "      <td>13822</td>\n",
       "      <td>24.507092</td>\n",
       "    </tr>\n",
       "    <tr>\n",
       "      <th>forum</th>\n",
       "      <td>100000</td>\n",
       "      <td>8662959</td>\n",
       "      <td>86.629590</td>\n",
       "    </tr>\n",
       "    <tr>\n",
       "      <th>long-form</th>\n",
       "      <td>1901</td>\n",
       "      <td>607189</td>\n",
       "      <td>319.405050</td>\n",
       "    </tr>\n",
       "    <tr>\n",
       "      <th>tweet</th>\n",
       "      <td>3638</td>\n",
       "      <td>68771</td>\n",
       "      <td>18.903518</td>\n",
       "    </tr>\n",
       "    <tr>\n",
       "      <th>total</th>\n",
       "      <td>106103</td>\n",
       "      <td>9352741</td>\n",
       "      <td>88.147753</td>\n",
       "    </tr>\n",
       "  </tbody>\n",
       "</table>\n",
       "</div>"
      ],
      "text/plain": [
       "           post_count  word_count  avg_post_length\n",
       "chat              564       13822        24.507092\n",
       "forum          100000     8662959        86.629590\n",
       "long-form        1901      607189       319.405050\n",
       "tweet            3638       68771        18.903518\n",
       "total          106103     9352741        88.147753"
      ]
     },
     "metadata": {},
     "output_type": "display_data"
    },
    {
     "name": "stdout",
     "output_type": "stream",
     "text": [
      "<class 'pandas.core.frame.DataFrame'>\n",
      "Index: 163451 entries, twitter_match_0 to news_match_3765\n",
      "Data columns (total 6 columns):\n",
      " #   Column      Non-Null Count   Dtype              \n",
      "---  ------      --------------   -----              \n",
      " 0   text        163451 non-null  object             \n",
      " 1   word_count  163451 non-null  int64              \n",
      " 2   dataset     163451 non-null  object             \n",
      " 3   source      163451 non-null  object             \n",
      " 4   domain      163451 non-null  object             \n",
      " 5   timestamp   160982 non-null  datetime64[ns, UTC]\n",
      "dtypes: datetime64[ns, UTC](1), int64(1), object(4)\n",
      "memory usage: 8.7+ MB\n"
     ]
    },
    {
     "data": {
      "text/html": [
       "<div>\n",
       "<style scoped>\n",
       "    .dataframe tbody tr th:only-of-type {\n",
       "        vertical-align: middle;\n",
       "    }\n",
       "\n",
       "    .dataframe tbody tr th {\n",
       "        vertical-align: top;\n",
       "    }\n",
       "\n",
       "    .dataframe thead th {\n",
       "        text-align: right;\n",
       "    }\n",
       "</style>\n",
       "<table border=\"1\" class=\"dataframe\">\n",
       "  <thead>\n",
       "    <tr style=\"text-align: right;\">\n",
       "      <th></th>\n",
       "      <th>post_count</th>\n",
       "      <th>word_count</th>\n",
       "      <th>avg_post_length</th>\n",
       "    </tr>\n",
       "  </thead>\n",
       "  <tbody>\n",
       "    <tr>\n",
       "      <th>chat</th>\n",
       "      <td>2469</td>\n",
       "      <td>14043</td>\n",
       "      <td>5.687728</td>\n",
       "    </tr>\n",
       "    <tr>\n",
       "      <th>forum</th>\n",
       "      <td>150831</td>\n",
       "      <td>6882015</td>\n",
       "      <td>45.627325</td>\n",
       "    </tr>\n",
       "    <tr>\n",
       "      <th>long-form</th>\n",
       "      <td>3765</td>\n",
       "      <td>3237212</td>\n",
       "      <td>859.817264</td>\n",
       "    </tr>\n",
       "    <tr>\n",
       "      <th>tweet</th>\n",
       "      <td>6386</td>\n",
       "      <td>127274</td>\n",
       "      <td>19.930160</td>\n",
       "    </tr>\n",
       "    <tr>\n",
       "      <th>total</th>\n",
       "      <td>163451</td>\n",
       "      <td>10260544</td>\n",
       "      <td>62.774434</td>\n",
       "    </tr>\n",
       "  </tbody>\n",
       "</table>\n",
       "</div>"
      ],
      "text/plain": [
       "           post_count  word_count  avg_post_length\n",
       "chat             2469       14043         5.687728\n",
       "forum          150831     6882015        45.627325\n",
       "long-form        3765     3237212       859.817264\n",
       "tweet            6386      127274        19.930160\n",
       "total          163451    10260544        62.774434"
      ]
     },
     "metadata": {},
     "output_type": "display_data"
    },
    {
     "name": "stdout",
     "output_type": "stream",
     "text": [
      "<class 'pandas.core.frame.DataFrame'>\n",
      "Index: 87807 entries, reddit_antiracist_0 to medium_antiracist_3679\n",
      "Data columns (total 6 columns):\n",
      " #   Column      Non-Null Count  Dtype              \n",
      "---  ------      --------------  -----              \n",
      " 0   text        87807 non-null  object             \n",
      " 1   word_count  87807 non-null  int64              \n",
      " 2   dataset     87807 non-null  object             \n",
      " 3   source      87807 non-null  object             \n",
      " 4   domain      87807 non-null  object             \n",
      " 5   timestamp   87807 non-null  datetime64[ns, UTC]\n",
      "dtypes: datetime64[ns, UTC](1), int64(1), object(4)\n",
      "memory usage: 4.7+ MB\n"
     ]
    },
    {
     "data": {
      "text/html": [
       "<div>\n",
       "<style scoped>\n",
       "    .dataframe tbody tr th:only-of-type {\n",
       "        vertical-align: middle;\n",
       "    }\n",
       "\n",
       "    .dataframe tbody tr th {\n",
       "        vertical-align: top;\n",
       "    }\n",
       "\n",
       "    .dataframe thead th {\n",
       "        text-align: right;\n",
       "    }\n",
       "</style>\n",
       "<table border=\"1\" class=\"dataframe\">\n",
       "  <thead>\n",
       "    <tr style=\"text-align: right;\">\n",
       "      <th></th>\n",
       "      <th>post_count</th>\n",
       "      <th>word_count</th>\n",
       "      <th>avg_post_length</th>\n",
       "    </tr>\n",
       "  </thead>\n",
       "  <tbody>\n",
       "    <tr>\n",
       "      <th>forum</th>\n",
       "      <td>82349</td>\n",
       "      <td>3870606</td>\n",
       "      <td>47.002465</td>\n",
       "    </tr>\n",
       "    <tr>\n",
       "      <th>long-form</th>\n",
       "      <td>1881</td>\n",
       "      <td>1589029</td>\n",
       "      <td>844.778841</td>\n",
       "    </tr>\n",
       "    <tr>\n",
       "      <th>tweet</th>\n",
       "      <td>3577</td>\n",
       "      <td>65480</td>\n",
       "      <td>18.305843</td>\n",
       "    </tr>\n",
       "    <tr>\n",
       "      <th>total</th>\n",
       "      <td>87807</td>\n",
       "      <td>5525115</td>\n",
       "      <td>62.923400</td>\n",
       "    </tr>\n",
       "  </tbody>\n",
       "</table>\n",
       "</div>"
      ],
      "text/plain": [
       "           post_count  word_count  avg_post_length\n",
       "forum           82349     3870606        47.002465\n",
       "long-form        1881     1589029       844.778841\n",
       "tweet            3577       65480        18.305843\n",
       "total           87807     5525115        62.923400"
      ]
     },
     "metadata": {},
     "output_type": "display_data"
    }
   ],
   "source": [
    "# Load white supremacist corpus\n",
    "import pandas as pd\n",
    "from IPython.display import display\n",
    "\n",
    "path = '../tmp/white_supremacist_train_corpus.pkl'\n",
    "ws_data = pd.read_pickle(path)\n",
    "ws_data.info()\n",
    "\n",
    "# Post and word counts total and per domain\n",
    "stats = ws_data.groupby('domain').agg({'word_count': ['count', 'sum', 'mean']})\n",
    "stats.columns = ['post_count', 'word_count', 'avg_post_length']\n",
    "total = pd.DataFrame({'post_count': len(ws_data), 'word_count': ws_data.word_count.sum(), 'avg_post_length': ws_data.word_count.mean()}, index=['total'])\n",
    "display(pd.concat([stats,total]))\n",
    "\n",
    "# Load comparison corpora\n",
    "path = '../tmp/neutral_train_corpus.pkl'\n",
    "neutral_data = pd.read_pickle(path)\n",
    "neutral_data.info()\n",
    "\n",
    "# Post and word counts total and per domain\n",
    "stats = neutral_data.groupby('domain').agg({'word_count': ['count', 'sum', 'mean']})\n",
    "stats.columns = ['post_count', 'word_count', 'avg_post_length']\n",
    "total = pd.DataFrame({'post_count': len(neutral_data), 'word_count': neutral_data.word_count.sum(), 'avg_post_length': neutral_data.word_count.mean()}, index=['total'])\n",
    "display(pd.concat([stats,total]))\n",
    "\n",
    "# Load comparison corpora\n",
    "path = '../tmp/antiracist_train_corpus.pkl'\n",
    "antiracist_data = pd.read_pickle(path)\n",
    "antiracist_data.info()\n",
    "\n",
    "# Post and word counts total and per domain\n",
    "# data['word_count'] = data.text.str.split().str.len()\n",
    "stats = antiracist_data.groupby('domain').agg({'word_count': ['count', 'sum', 'mean']})\n",
    "stats.columns = ['post_count', 'word_count', 'avg_post_length']\n",
    "stats\n",
    "\n",
    "total = pd.DataFrame({'post_count': len(antiracist_data), 'word_count': antiracist_data.word_count.sum(), 'avg_post_length': antiracist_data.word_count.mean()}, index=['total'])\n",
    "total\n",
    "\n",
    "display(pd.concat([stats,total]))"
   ]
  },
  {
   "cell_type": "code",
   "execution_count": 3,
   "id": "b7063d63-4671-4149-9677-b65e49f4e006",
   "metadata": {},
   "outputs": [
    {
     "name": "stdout",
     "output_type": "stream",
     "text": [
      "<class 'pandas.core.frame.DataFrame'>\n",
      "Index: 8542705 entries, calderon2021_daily_stormer_1002 to medium_antiracist_4776\n",
      "Data columns (total 8 columns):\n",
      " #   Column      Dtype              \n",
      "---  ------      -----              \n",
      " 0   corpus      object             \n",
      " 1   text        object             \n",
      " 2   word_count  int64              \n",
      " 3   dataset     object             \n",
      " 4   source      object             \n",
      " 5   domain      object             \n",
      " 6   timestamp   datetime64[ns, UTC]\n",
      " 7   topic       float64            \n",
      "dtypes: datetime64[ns, UTC](1), float64(1), int64(1), object(5)\n",
      "memory usage: 586.6+ MB\n"
     ]
    },
    {
     "data": {
      "text/html": [
       "<div>\n",
       "<style scoped>\n",
       "    .dataframe tbody tr th:only-of-type {\n",
       "        vertical-align: middle;\n",
       "    }\n",
       "\n",
       "    .dataframe tbody tr th {\n",
       "        vertical-align: top;\n",
       "    }\n",
       "\n",
       "    .dataframe thead th {\n",
       "        text-align: right;\n",
       "    }\n",
       "</style>\n",
       "<table border=\"1\" class=\"dataframe\">\n",
       "  <thead>\n",
       "    <tr style=\"text-align: right;\">\n",
       "      <th></th>\n",
       "      <th>corpus</th>\n",
       "      <th>corpus</th>\n",
       "    </tr>\n",
       "  </thead>\n",
       "  <tbody>\n",
       "    <tr>\n",
       "      <th>neutral</th>\n",
       "      <td>8140759</td>\n",
       "      <td>0.952949</td>\n",
       "    </tr>\n",
       "    <tr>\n",
       "      <th>antiracist</th>\n",
       "      <td>295843</td>\n",
       "      <td>0.034631</td>\n",
       "    </tr>\n",
       "    <tr>\n",
       "      <th>white_supremacist</th>\n",
       "      <td>106103</td>\n",
       "      <td>0.012420</td>\n",
       "    </tr>\n",
       "  </tbody>\n",
       "</table>\n",
       "</div>"
      ],
      "text/plain": [
       "                    corpus    corpus\n",
       "neutral            8140759  0.952949\n",
       "antiracist          295843  0.034631\n",
       "white_supremacist   106103  0.012420"
      ]
     },
     "execution_count": 3,
     "metadata": {},
     "output_type": "execute_result"
    }
   ],
   "source": [
    "data = pd.concat([ws_data, neutral_data, antiracist_data], keys=['white_supremacist', 'neutral', 'antiracist'],\n",
    "                names=['corpus', 'id']).reset_index(level='corpus')\n",
    "data.info()\n",
    "\n",
    "pd.concat([data.corpus.value_counts(), data.corpus.value_counts(normalize=True)], axis=1)"
   ]
  },
  {
   "cell_type": "code",
   "execution_count": 4,
   "id": "f065c4eb-7c51-4a7c-bd07-f14b3929c5e6",
   "metadata": {},
   "outputs": [
    {
     "data": {
      "text/plain": [
       "reddit_match     6976057\n",
       "news_match       1088057\n",
       "twitter_match      52863\n",
       "discord_match      23782\n",
       "Name: dataset, dtype: int64"
      ]
     },
     "execution_count": 4,
     "metadata": {},
     "output_type": "execute_result"
    }
   ],
   "source": [
    "neutral_data.dataset.value_counts()"
   ]
  },
  {
   "cell_type": "code",
   "execution_count": null,
   "id": "cbc884b0-c52f-4277-912b-dce9d1b63cb6",
   "metadata": {},
   "outputs": [],
   "source": [
    "import plotly.express as px\n",
    "\n",
    "fig = px.box(data[data.word_count<100], x='corpus', y='word_count')\n",
    "fig.update_traces(boxpoints=False)"
   ]
  },
  {
   "cell_type": "code",
   "execution_count": null,
   "id": "254cba1e-2acc-4aee-8ed5-5f0e4faa63aa",
   "metadata": {},
   "outputs": [],
   "source": [
    "pd.options.plotting.backend = 'plotly'\n",
    "selected = neutral_data.query('domain==\"forum\"')\n",
    "selected[selected.word_count<200].plot.hist(x='word_count')"
   ]
  },
  {
   "cell_type": "code",
   "execution_count": 11,
   "id": "45beea0b-c7d2-4a9f-84ec-1e5821d8972b",
   "metadata": {},
   "outputs": [
    {
     "data": {
      "text/plain": [
       "papasavva2020       1901408\n",
       "stormfront           706232\n",
       "jokubausaite2020     415921\n",
       "ironmarch            148003\n",
       "qian2018              66294\n",
       "calderon2021          25685\n",
       "patriotfront          18739\n",
       "pruden2022            12351\n",
       "elsherief2021          4489\n",
       "Name: dataset, dtype: int64"
      ]
     },
     "execution_count": 11,
     "metadata": {},
     "output_type": "execute_result"
    }
   ],
   "source": [
    "data.dataset.value_counts()"
   ]
  },
  {
   "cell_type": "code",
   "execution_count": null,
   "id": "73d76055-18e8-45ea-9069-e83121f11119",
   "metadata": {
    "scrolled": true,
    "tags": []
   },
   "outputs": [],
   "source": [
    "data.groupby(['domain', 'dataset'])['text'].count()"
   ]
  },
  {
   "cell_type": "code",
   "execution_count": null,
   "id": "442097a0-3529-4611-833b-6b36ee54ebe3",
   "metadata": {},
   "outputs": [],
   "source": [
    "# counts = data.groupby(['domain', 'dataset'])['text'].count().reset_index()\n",
    "counts = data.groupby(['domain', 'dataset'])['text'].count()\n",
    "counts"
   ]
  },
  {
   "cell_type": "code",
   "execution_count": null,
   "id": "bd16aa60-7c0f-47cc-bde8-ed500cebe826",
   "metadata": {},
   "outputs": [],
   "source": [
    "data.groupby(['domain', 'dataset', 'source'])['text'].count()"
   ]
  },
  {
   "cell_type": "code",
   "execution_count": null,
   "id": "72b37361-ff76-46c8-971c-9d31cbba8e64",
   "metadata": {},
   "outputs": [],
   "source": [
    "# Can't figure out how to sort wihin domains\n",
    "# counts.sort_values(['domain', 'dataset'], ascending=False).groupby('domain').groups()\n",
    "# counts.sort_values(['domain', 'dataset'], ascending=False).groupby('domain')['text'].sum()"
   ]
  },
  {
   "cell_type": "code",
   "execution_count": null,
   "id": "ce9ca2b1-5c86-49a8-a69b-1a1fa1721527",
   "metadata": {},
   "outputs": [],
   "source": [
    "# Num of posts from each dataset (maybe should do log scale)\n",
    "pd.options.plotting.backend = 'plotly'\n",
    "vc = data.dataset.value_counts()\n",
    "print(vc)\n",
    "vc.plot.bar(text=vc.values)"
   ]
  },
  {
   "cell_type": "code",
   "execution_count": null,
   "id": "6494713d-fa60-41ee-abcd-fbefa36eccf7",
   "metadata": {},
   "outputs": [],
   "source": [
    "# Num of posts from each dataset (maybe should do log scale)\n",
    "pd.options.plotting.backend = 'plotly'\n",
    "vc = data.dataset.value_counts()\n",
    "print(vc)\n",
    "vc.plot.bar(text=vc.values)"
   ]
  },
  {
   "cell_type": "code",
   "execution_count": null,
   "id": "662bba68-3819-48c5-b2cc-1605cf757cdb",
   "metadata": {},
   "outputs": [],
   "source": [
    "# Number of words\n",
    "data['num_words'] = data.text.str.split().str.len()\n",
    "# data.head()\n",
    "\n",
    "word_count =  data.groupby('dataset')['num_words'].sum()\n",
    "display(word_count)\n",
    "word_count.sort_values(ascending=False).plot.bar().show()\n",
    "\n",
    "# Total posts and words\n",
    "print(f'{len(data)} posts')\n",
    "print(f'{word_count.sum()} words')"
   ]
  },
  {
   "cell_type": "code",
   "execution_count": null,
   "id": "ed123a4b-900c-4685-b901-2239697c7990",
   "metadata": {},
   "outputs": [],
   "source": [
    "import plotly.express as px\n",
    "\n",
    "# By domain\n",
    "dataset_info = pd.DataFrame([\n",
    "    {'dataset': 'qian2018', 'domain': 'tweet/short propaganda'},\n",
    "    {'dataset': 'elsherief2021', 'domain': 'tweet/short propaganda'},\n",
    "    {'dataset': 'degibert2019', 'domain': 'forum'},\n",
    "    {'dataset': 'patriotfront', 'domain': 'chat'},\n",
    "    {'dataset': 'alatawi2021', 'domain': 'tweet/short propaganda'},\n",
    "    {'dataset': 'adl_heatmap', 'domain': 'tweet/short propaganda'},\n",
    "    {'dataset': 'ironmarch', 'domain': 'forum'},\n",
    "    {'dataset': '4chan', 'domain': 'forum'},\n",
    "    {'dataset': 'stormfront', 'domain': 'forum'},\n",
    "    {'dataset': 'calderon2021', 'domain': 'long-form'},\n",
    "    {'dataset': 'pruden2022', 'domain': 'long-form'},\n",
    "]).set_index('dataset')\n",
    "dataset_info\n",
    "\n",
    "# data.join(dataset_info, on='dataset').domain.value_counts().plot.bar(\n",
    "#     title=\"Number of posts by domain\", \n",
    "#     labels=dict(index='domain', value='number of posts'),\n",
    "# )\n",
    "\n",
    "vc = data.join(dataset_info, on='dataset').domain.value_counts()\n",
    "fig = px.bar(vc, title=\"Number of posts by domain\", \n",
    "       labels=dict(index='domain', value='number of posts'),\n",
    "        text = [f'{val}<br>{val/vc.sum(): .1%}' for val in vc.values],\n",
    "    )\n",
    "fig.update_layout(showlegend=False)"
   ]
  },
  {
   "cell_type": "code",
   "execution_count": null,
   "id": "6049a2e3-769e-4b0b-ba99-4e4a4c2a38e6",
   "metadata": {},
   "outputs": [],
   "source": [
    "num_words = data.join(dataset_info, on='dataset').groupby('domain')['num_words'].sum().sort_values(ascending=False)\n",
    "fig = px.bar(num_words,\n",
    "    title=\"Number of words by domain\", \n",
    "    labels=dict(index='domain', value='number of words'),\n",
    "    text = [f'{val}<br>{val/num_words.sum(): .1%}' for val in num_words.values],\n",
    "       # log_y=True\n",
    "    )\n",
    "fig.update_layout(showlegend=False)"
   ]
  },
  {
   "cell_type": "code",
   "execution_count": null,
   "id": "b9e8cdc9-9d4d-4e8c-8777-1ef7443a0302",
   "metadata": {},
   "outputs": [],
   "source": [
    "# Investigate date ranges\n",
    "print(len(data))\n",
    "print(data.timestamp.count())"
   ]
  },
  {
   "cell_type": "code",
   "execution_count": null,
   "id": "fb6f3c9f-3524-4293-94c1-87e300d22cf1",
   "metadata": {},
   "outputs": [],
   "source": [
    "pd.options.plotting.backend = 'plotly'\n",
    "data.timestamp.sample(int(1e6)).hist()\n",
    "# data.timestamp.plot.hist()"
   ]
  },
  {
   "cell_type": "code",
   "execution_count": null,
   "id": "d0b95289-3a7a-4883-a42d-1c53b74e03aa",
   "metadata": {},
   "outputs": [],
   "source": [
    "start_date = pd.Timestamp(year=2000, month=1, day=1, tz='utc')\n",
    "data.query('timestamp > @start_date').timestamp.sample(int(1e5)).hist()"
   ]
  },
  {
   "cell_type": "code",
   "execution_count": null,
   "id": "791893aa-bb72-4ce7-9afe-23fcbd226a10",
   "metadata": {
    "scrolled": true,
    "tags": []
   },
   "outputs": [],
   "source": [
    "# Bin or group by month\n",
    "import plotly.express as px\n",
    "# pd.options.plotting.backend = 'plotly'\n",
    "\n",
    "start_date = pd.Timestamp(year=2000, month=1, day=1, tz='utc')\n",
    "merged =  data.join(dataset_info, on='dataset').query('timestamp > @start_date').sample(int(1e6))\n",
    "# merged.hist(column='timestamp', by='domain')\n",
    "# merged.hist(column=['timestamp'])\n",
    "px.histogram(merged, x='timestamp', color='domain', barmode=')"
   ]
  },
  {
   "cell_type": "code",
   "execution_count": null,
   "id": "cac189ce-3d84-4060-b7c2-9ac453f30098",
   "metadata": {
    "scrolled": true,
    "tags": []
   },
   "outputs": [],
   "source": [
    "# Bin or group by month\n",
    "px.histogram(merged, x='timestamp', color='domain', barmode='overlay')"
   ]
  },
  {
   "cell_type": "code",
   "execution_count": null,
   "id": "79ea3538-5676-4986-b092-9d3724fd8376",
   "metadata": {
    "scrolled": true,
    "tags": []
   },
   "outputs": [],
   "source": [
    "import plotly.express as px\n",
    "\n",
    "px.histogram(data.query('domain==\"forum\"').sample(int(1e5)), x='timestamp', color='dataset', barmode='overlay')"
   ]
  }
 ],
 "metadata": {
  "kernelspec": {
   "display_name": "Python 3 (ipykernel)",
   "language": "python",
   "name": "python3"
  },
  "language_info": {
   "codemirror_mode": {
    "name": "ipython",
    "version": 3
   },
   "file_extension": ".py",
   "mimetype": "text/x-python",
   "name": "python",
   "nbconvert_exporter": "python",
   "pygments_lexer": "ipython3",
   "version": "3.9.13"
  }
 },
 "nbformat": 4,
 "nbformat_minor": 5
}
